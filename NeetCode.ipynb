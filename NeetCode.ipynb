{
 "cells": [
  {
   "cell_type": "code",
   "execution_count": 1,
   "metadata": {},
   "outputs": [],
   "source": [
    "from typing import List, OrderedDict, Counter, Optional, Tuple\n",
    "from collections import defaultdict\n",
    "import collections\n",
    "import operator"
   ]
  },
  {
   "attachments": {},
   "cell_type": "markdown",
   "metadata": {},
   "source": [
    "### Arrays & Hashing"
   ]
  },
  {
   "attachments": {},
   "cell_type": "markdown",
   "metadata": {},
   "source": [
    "#### Easy"
   ]
  },
  {
   "attachments": {},
   "cell_type": "markdown",
   "metadata": {},
   "source": [
    "##### 217.Contains Duplicates"
   ]
  },
  {
   "cell_type": "code",
   "execution_count": 2,
   "metadata": {},
   "outputs": [
    {
     "data": {
      "text/plain": [
       "True"
      ]
     },
     "execution_count": 2,
     "metadata": {},
     "output_type": "execute_result"
    }
   ],
   "source": [
    "class Solution:\n",
    "    def containsDuplicate(self, nums: List[int]) -> bool:\n",
    "        return len(nums) != len(set(nums))\n",
    "\n",
    "sol = Solution()\n",
    "sol.containsDuplicate([1,2,3,3])"
   ]
  },
  {
   "attachments": {},
   "cell_type": "markdown",
   "metadata": {},
   "source": [
    "##### 214.Valid Anagram"
   ]
  },
  {
   "cell_type": "code",
   "execution_count": 22,
   "metadata": {},
   "outputs": [
    {
     "data": {
      "text/plain": [
       "False"
      ]
     },
     "execution_count": 22,
     "metadata": {},
     "output_type": "execute_result"
    }
   ],
   "source": [
    "class Solution:\n",
    "    def isAnagram1(self, s: str, t: str) -> bool:\n",
    "        ## Doesn't work for 'cca', 'aca'\n",
    "        return (len(s) == len(t)) and (set(s) == set(t)) \n",
    "        \n",
    "    def isAnagram2(self, s: str, t: str) -> bool:   \n",
    "        ## Two Maps\n",
    "        if (len(s) != len(t)):\n",
    "            return False\n",
    "        \n",
    "        mapS , mapT = {}, {}\n",
    "\n",
    "        for i in range(len(s)):\n",
    "            mapS[s[i]] = mapS.get(s[i], 0) + 1\n",
    "            mapT[t[i]] = mapT.get(t[i], 0) + 1\n",
    "        \n",
    "        for k in mapS:\n",
    "            if (k not in mapT) or (mapS[k] != mapT[k]):\n",
    "                return False\n",
    "\n",
    "        return True\n",
    "\n",
    "    def isAnagram(self, s: str, t: str) -> bool:\n",
    "        ## Single map\n",
    "        if (len(s) != len(t)):\n",
    "            return False\n",
    "        \n",
    "        mapS = {}\n",
    "\n",
    "        for i in s:\n",
    "            mapS[i] = mapS.get(i, 0) + 1\n",
    "\n",
    "        for i in t:\n",
    "            if i not in mapS:\n",
    "                return False\n",
    "            mapS[i] -= 1\n",
    "            if mapS[i] == 0:\n",
    "                mapS.pop(i)\n",
    "\n",
    "        return not mapS\n",
    "\n",
    "sol = Solution()\n",
    "sol.isAnagram('acca', 'ccac')"
   ]
  },
  {
   "attachments": {},
   "cell_type": "markdown",
   "metadata": {},
   "source": [
    "##### 1.Two Sum"
   ]
  },
  {
   "cell_type": "code",
   "execution_count": 23,
   "metadata": {},
   "outputs": [
    {
     "name": "stdout",
     "output_type": "stream",
     "text": [
      "[0, 1]\n",
      "[1, 2]\n",
      "[0, 1]\n"
     ]
    }
   ],
   "source": [
    "class Solution:\n",
    "    def twoSum(self, nums: List[int], target: int) -> List[int]:\n",
    "        tempMap = {}\n",
    "\n",
    "        for i in range(len(nums)):\n",
    "            if target - nums[i] in tempMap:\n",
    "                return [tempMap[target - nums[i]], i]\n",
    "            tempMap[nums[i]] = i\n",
    "\n",
    "sol = Solution()\n",
    "print(sol.twoSum([2,7,11,51], 9))\n",
    "print(sol.twoSum([3,2,4], 6))\n",
    "print(sol.twoSum([3,3], 6))\n",
    "print(sol.twoSum([3,3], 8))"
   ]
  },
  {
   "attachments": {},
   "cell_type": "markdown",
   "metadata": {},
   "source": [
    "##### 1299.Replace Elements with Greatest Element on Right Side"
   ]
  },
  {
   "cell_type": "code",
   "execution_count": 4,
   "metadata": {},
   "outputs": [
    {
     "name": "stdout",
     "output_type": "stream",
     "text": [
      "[18, 6, 6, 6, 1, -1]\n",
      "[-1]\n"
     ]
    }
   ],
   "source": [
    "class Solution:\n",
    "    def replaceElements(self, arr: List[int]) -> List[int]:\n",
    "        curr_max = arr[-1]\n",
    "        arr[-1] = -1\n",
    "        \n",
    "        for i in range(len(arr) - 2, -1, -1):\n",
    "            new_max = max(curr_max, arr[i])\n",
    "            arr[i] = curr_max\n",
    "            curr_max = new_max\n",
    "\n",
    "        return arr\n",
    "\n",
    "sol = Solution()\n",
    "print(sol.replaceElements([17,18,5,4,6,1])) # [18,6,6,6,1,-1]\n",
    "print(sol.replaceElements([400])) # [-1]"
   ]
  },
  {
   "attachments": {},
   "cell_type": "markdown",
   "metadata": {},
   "source": [
    "##### 392.Is Subsequence"
   ]
  },
  {
   "cell_type": "code",
   "execution_count": 6,
   "metadata": {},
   "outputs": [
    {
     "name": "stdout",
     "output_type": "stream",
     "text": [
      "True\n",
      "False\n"
     ]
    }
   ],
   "source": [
    "class Solution:\n",
    "    def isSubsequence(self, s: str, t: str) -> bool:\n",
    "        if len(s) == 0: return True\n",
    "        \n",
    "        i = 0\n",
    "        for j in range(len(t)):\n",
    "            if s[i] == t[j]:\n",
    "                i += 1\n",
    "                if i == len(s):\n",
    "                    return True\n",
    "        \n",
    "        return False\n",
    "\n",
    "sol = Solution()\n",
    "print(sol.isSubsequence(\"abc\", \"ahbgdc\")) #true\n",
    "print(sol.isSubsequence(\"axc\", \"ahbgdc\")) #False"
   ]
  },
  {
   "attachments": {},
   "cell_type": "markdown",
   "metadata": {},
   "source": [
    "##### 58.Length of Last Word"
   ]
  },
  {
   "cell_type": "code",
   "execution_count": 7,
   "metadata": {},
   "outputs": [
    {
     "name": "stdout",
     "output_type": "stream",
     "text": [
      "5\n",
      "4\n",
      "6\n"
     ]
    }
   ],
   "source": [
    "class Solution:\n",
    "    def lengthOfLastWord(self, s: str) -> int:\n",
    "        words = list(filter(lambda a: a != '', s.split(\" \")))\n",
    "        return len(words[-1])\n",
    "\n",
    "sol = Solution()\n",
    "print(sol.lengthOfLastWord(\"Hello World\")) #5\n",
    "print(sol.lengthOfLastWord(\"   fly me   to   the moon  \")) #4\n",
    "print(sol.lengthOfLastWord(\"luffy is still joyboy\")) #6"
   ]
  },
  {
   "attachments": {},
   "cell_type": "markdown",
   "metadata": {},
   "source": [
    "##### 14.Longest Common Prefix"
   ]
  },
  {
   "cell_type": "code",
   "execution_count": 12,
   "metadata": {},
   "outputs": [
    {
     "name": "stdout",
     "output_type": "stream",
     "text": [
      "a\n",
      "fl\n",
      "\n"
     ]
    }
   ],
   "source": [
    "class Solution:\n",
    "    def longestCommonPrefix(self, strs: List[str]) -> str:\n",
    "        lcp = strs[0]\n",
    "\n",
    "        for word in strs[1:]:\n",
    "            # Shorten to the current word\n",
    "            if len(lcp) > len(word):\n",
    "                lcp = lcp[:len(word)] \n",
    "\n",
    "            # checks\n",
    "            for i in range(len(word)):\n",
    "                if i == len(lcp) or lcp[i] != word[i]:\n",
    "                    lcp = word[:i]\n",
    "                    break\n",
    "        return lcp\n",
    "\n",
    "sol = Solution()\n",
    "print(sol.longestCommonPrefix([\"ab\", \"a\"])) #a\n",
    "print(sol.longestCommonPrefix([\"flower\",\"flow\",\"flight\"])) #fl\n",
    "print(sol.longestCommonPrefix([\"dog\",\"racecar\",\"car\"])) #\"\""
   ]
  },
  {
   "attachments": {},
   "cell_type": "markdown",
   "metadata": {},
   "source": [
    "##### 118.Pascal's Triangle"
   ]
  },
  {
   "cell_type": "code",
   "execution_count": 13,
   "metadata": {},
   "outputs": [
    {
     "name": "stdout",
     "output_type": "stream",
     "text": [
      "[[1], [1, 1], [1, 2, 1], [1, 3, 3, 1], [1, 4, 6, 4, 1]]\n",
      "[[1]]\n"
     ]
    }
   ],
   "source": [
    "class Solution:\n",
    "    def generate1(self, numRows: int) -> List[List[int]]:\n",
    "        if numRows ==1:\n",
    "            return [[1]]\n",
    "        \n",
    "        triangle = [[1],[1,1]]\n",
    "        for i in range(numRows-2):\n",
    "            triangle.append([1] + [triangle[-1][j] + triangle[-1][j+1] for j in range(i+1) ] + [1])\n",
    "        return triangle\n",
    "\n",
    "    def generate(self, numRows: int) -> List[List[int]]:\n",
    "        res = [[1]]\n",
    "\n",
    "        for _ in range(numRows - 1):\n",
    "            temp = [0] + res[-1] + [0]\n",
    "            row = []\n",
    "            for j in range(len(res[-1]) + 1):\n",
    "                row.append(temp[j] + temp[j + 1]) \n",
    "            res.append(row)\n",
    "\n",
    "        return res\n",
    "\n",
    "sol = Solution()\n",
    "print(sol.generate(5)) #[[1],[1,1],[1,2,1],[1,3,3,1],[1,4,6,4,1]]\n",
    "print(sol.generate(1)) #[[1]]"
   ]
  },
  {
   "attachments": {},
   "cell_type": "markdown",
   "metadata": {},
   "source": [
    "##### 27.Remove Element"
   ]
  },
  {
   "cell_type": "code",
   "execution_count": 26,
   "metadata": {},
   "outputs": [
    {
     "name": "stdout",
     "output_type": "stream",
     "text": [
      "2\n",
      "3\n"
     ]
    }
   ],
   "source": [
    "class Solution:\n",
    "    def removeElement(self, nums: List[int], val: int) -> int:\n",
    "        i, j, cnt = 0, len(nums) - 1, 0\n",
    "\n",
    "        while i <= j:\n",
    "            if nums[j] == val:\n",
    "                nums[j] = '_'\n",
    "                j -= 1\n",
    "                cnt += 1\n",
    "            elif nums[i] == val:\n",
    "                nums[i] = nums[j]\n",
    "                nums[j] = '_'\n",
    "                j -= 1\n",
    "                i += 1\n",
    "                cnt += 1\n",
    "            else:\n",
    "                i += 1\n",
    "        \n",
    "        return len(nums) - cnt\n",
    "        # return len(nums) - cnt, nums\n",
    "\n",
    "sol = Solution()\n",
    "print(sol.removeElement([3,2,2,3], 3)) #2, nums = [2,2,_,_]\n",
    "print(sol.removeElement([0,1,2,2,3,0,4,2], 2)) #5, nums = [0,1,4,0,3,_,_,_]"
   ]
  },
  {
   "attachments": {},
   "cell_type": "markdown",
   "metadata": {},
   "source": [
    "##### 929.Unique Email Addresses"
   ]
  },
  {
   "cell_type": "code",
   "execution_count": 32,
   "metadata": {},
   "outputs": [
    {
     "name": "stdout",
     "output_type": "stream",
     "text": [
      "2\n",
      "3\n"
     ]
    }
   ],
   "source": [
    "class Solution:\n",
    "    def numUniqueEmails(self, emails: List[str]) -> int:\n",
    "        unq_mails = set()\n",
    "        \n",
    "        for email in emails:\n",
    "            lname, domain = email.split('@')\n",
    "            lname = lname.split('+')[0]\n",
    "            unq_mails.add((lname.replace('.', ''), domain))\n",
    "        \n",
    "        return len(unq_mails)\n",
    "\n",
    "        \n",
    "\n",
    "sol = Solution()\n",
    "print(sol.numUniqueEmails([\"test.email+alex@leetcode.com\",\"test.e.mail+bob.cathy@leetcode.com\",\"testemail+david@lee.tcode.com\"])) #2\n",
    "print(sol.numUniqueEmails([\"a@leetcode.com\",\"b@leetcode.com\",\"c@leetcode.com\"])) #3"
   ]
  },
  {
   "attachments": {},
   "cell_type": "markdown",
   "metadata": {},
   "source": [
    "##### 205.Isomorphic Strings"
   ]
  },
  {
   "cell_type": "code",
   "execution_count": 36,
   "metadata": {},
   "outputs": [
    {
     "name": "stdout",
     "output_type": "stream",
     "text": [
      "True\n",
      "False\n",
      "True\n"
     ]
    }
   ],
   "source": [
    "class Solution:\n",
    "    def isIsomorphic(self, s: str, t: str) -> bool:\n",
    "        if len(s) != len(t): return False\n",
    "\n",
    "        s_t = defaultdict(str)\n",
    "        t_s = defaultdict(str)\n",
    "\n",
    "        for i in range(len(s)):\n",
    "            if ((s[i] in s_t and s_t[s[i]] != t[i])\n",
    "                or (t[i] in t_s and t_s[t[i]] != s[i])):\n",
    "                return False\n",
    "            s_t[s[i]] = t[i]\n",
    "            t_s[t[i]] = s[i]\n",
    "        return True\n",
    "\n",
    "sol = Solution()\n",
    "print(sol.isIsomorphic(\"egg\", \"add\")) #True\n",
    "print(sol.isIsomorphic(\"foo\", \"bar\")) #False\n",
    "print(sol.isIsomorphic(\"paper\", \"title\")) #True"
   ]
  },
  {
   "attachments": {},
   "cell_type": "markdown",
   "metadata": {},
   "source": [
    "##### 605.Can Place Flowers"
   ]
  },
  {
   "cell_type": "code",
   "execution_count": 10,
   "metadata": {},
   "outputs": [
    {
     "name": "stdout",
     "output_type": "stream",
     "text": [
      "True\n",
      "False\n",
      "True\n"
     ]
    }
   ],
   "source": [
    "class Solution:\n",
    "    def canPlaceFlowers(self, flowerbed: List[int], n: int) -> bool:\n",
    "        i = 0\n",
    "\n",
    "        while i < len(flowerbed) and n > 0:\n",
    "            if (flowerbed[i] == 0 and \n",
    "                ((i - 1 == -1 or flowerbed[i - 1] == 0) and \n",
    "                 (i + 1 == len(flowerbed) or flowerbed[i + 1] == 0))):\n",
    "                n -= 1\n",
    "                i += 1\n",
    "            i += 1\n",
    "\n",
    "        return n == 0\n",
    "\n",
    "\n",
    "sol = Solution()\n",
    "print(sol.canPlaceFlowers([1,0,0,0,1], 1)) #True\n",
    "print(sol.canPlaceFlowers([1,0,0,0,1], 2)) #False\n",
    "print(sol.canPlaceFlowers([0,0,1,0,0], 1)) #True"
   ]
  },
  {
   "attachments": {},
   "cell_type": "markdown",
   "metadata": {},
   "source": [
    "##### 169.Majority Element"
   ]
  },
  {
   "cell_type": "code",
   "execution_count": 51,
   "metadata": {},
   "outputs": [
    {
     "name": "stdout",
     "output_type": "stream",
     "text": [
      "3\n",
      "2\n"
     ]
    }
   ],
   "source": [
    "class Solution:\n",
    "    def majorityElement(self, nums: List[int]) -> int:\n",
    "        maj, cnt = 0, 0\n",
    "\n",
    "        for n in nums:\n",
    "            if cnt == 0:\n",
    "                maj = n\n",
    "            cnt += (1 if n == maj else -1)\n",
    "        return maj\n",
    "\n",
    "sol = Solution()\n",
    "print(sol.majorityElement([3,2,3])) #3\n",
    "print(sol.majorityElement([2,2,1,1,1,2,2])) #2"
   ]
  },
  {
   "attachments": {},
   "cell_type": "markdown",
   "metadata": {},
   "source": [
    "##### 496.Next Greater Element I"
   ]
  },
  {
   "cell_type": "code",
   "execution_count": 52,
   "metadata": {},
   "outputs": [
    {
     "name": "stdout",
     "output_type": "stream",
     "text": [
      "[-1, 3, -1]\n",
      "[3, -1]\n"
     ]
    }
   ],
   "source": [
    "class Solution:\n",
    "    def nextGreaterElement(self, nums1: List[int], nums2: List[int]) -> List[int]:\n",
    "        num_pos = {n:i for i, n in enumerate(nums1)}\n",
    "        res = [-1] * len(nums1)\n",
    "\n",
    "        i = 0\n",
    "        stk = []\n",
    "        for i in range(len(nums2)):\n",
    "            while stk and stk[-1] < nums2[i]:\n",
    "                num = stk.pop()\n",
    "                res[num_pos[num]] = nums2[i]\n",
    "            \n",
    "            if nums2[i] in num_pos:\n",
    "                stk.append(nums2[i])\n",
    "            \n",
    "        return res\n",
    "\n",
    "sol = Solution()\n",
    "print(sol.nextGreaterElement([4,1,2], [1,3,4,2])) #[-1,3,-1]\n",
    "print(sol.nextGreaterElement([2,4], [1,2,3,4])) #[3,-1]"
   ]
  },
  {
   "attachments": {},
   "cell_type": "markdown",
   "metadata": {},
   "source": [
    "##### 724.Find Pivot Index"
   ]
  },
  {
   "cell_type": "code",
   "execution_count": 53,
   "metadata": {},
   "outputs": [
    {
     "name": "stdout",
     "output_type": "stream",
     "text": [
      "3\n",
      "-1\n",
      "0\n"
     ]
    }
   ],
   "source": [
    "class Solution:\n",
    "    def pivotIndex(self, nums: List[int]) -> int:\n",
    "        left, right = 0, sum(nums)\n",
    "        \n",
    "        for idx, ele in enumerate(nums):\n",
    "            right -= ele\n",
    "            \n",
    "            if left == right:\n",
    "                return idx      \n",
    "            left += ele\n",
    "        return -1 \n",
    "\n",
    "sol = Solution()\n",
    "print(sol.pivotIndex([1,7,3,6,5,6])) #3\n",
    "print(sol.pivotIndex([1,2,3])) #-1\n",
    "print(sol.pivotIndex([2,1,-1])) #0"
   ]
  },
  {
   "attachments": {},
   "cell_type": "markdown",
   "metadata": {},
   "source": [
    "##### 303.Range Sum Query - Immutable"
   ]
  },
  {
   "cell_type": "code",
   "execution_count": 56,
   "metadata": {},
   "outputs": [
    {
     "name": "stdout",
     "output_type": "stream",
     "text": [
      "1\n",
      "-1\n",
      "-3\n"
     ]
    }
   ],
   "source": [
    "class NumArray:\n",
    "\n",
    "    def __init__(self, nums: List[int]):\n",
    "        self.nums = self._accumulate(nums)\n",
    "\n",
    "    def _accumulate(self, nums: List[int]) -> List[int]:\n",
    "        curr_sum = 0\n",
    "        for idx, val in enumerate(nums):\n",
    "            curr_sum += val\n",
    "            nums[idx] = curr_sum\n",
    "        \n",
    "        return nums\n",
    "\n",
    "    def sumRange(self, left: int, right: int) -> int:\n",
    "        if left == 0: \n",
    "            return self.nums[right]\n",
    "        \n",
    "        return self.nums[right] - self.nums[left - 1]\n",
    "\n",
    "\n",
    "# Your NumArray object will be instantiated and called as such:\n",
    "numArray = NumArray([-2, 0, 3, -5, 2, -1])\n",
    "print(numArray.sumRange(0, 2)) # return (-2) + 0 + 3 = 1\n",
    "print(numArray.sumRange(2, 5)) # return 3 + (-5) + 2 + (-1) = -1\n",
    "print(numArray.sumRange(0, 5)) # return (-2) + 0 + 3 + (-5) + 2 + (-1) = -3"
   ]
  },
  {
   "attachments": {},
   "cell_type": "markdown",
   "metadata": {},
   "source": [
    "##### 448.Find All Numbers Disappeared in an Array "
   ]
  },
  {
   "cell_type": "code",
   "execution_count": 57,
   "metadata": {},
   "outputs": [
    {
     "name": "stdout",
     "output_type": "stream",
     "text": [
      "[5, 6]\n",
      "[2]\n"
     ]
    }
   ],
   "source": [
    "class Solution:\n",
    "    def findDisappearedNumbers(self, nums: List[int]) -> List[int]:\n",
    "        for n in nums:\n",
    "            idx = abs(n) - 1\n",
    "            nums[idx] = -1 * abs(nums[idx])\n",
    "        \n",
    "        res = []\n",
    "        for i, n in enumerate(nums):\n",
    "            if n > 0:\n",
    "                res.append(i + 1)\n",
    "\n",
    "        return res\n",
    "\n",
    "sol = Solution()\n",
    "print(sol.findDisappearedNumbers([4,3,2,7,8,2,3,1])) #[5,6]\n",
    "print(sol.findDisappearedNumbers([1,1])) #[2]"
   ]
  },
  {
   "attachments": {},
   "cell_type": "markdown",
   "metadata": {},
   "source": [
    "##### 1189.Maximum Number of Balloons"
   ]
  },
  {
   "cell_type": "code",
   "execution_count": 62,
   "metadata": {},
   "outputs": [
    {
     "name": "stdout",
     "output_type": "stream",
     "text": [
      "1\n",
      "2\n",
      "0\n"
     ]
    }
   ],
   "source": [
    "class Solution:\n",
    "    def maxNumberOfBalloons(self, text: str) -> int:\n",
    "        count = {v:0 for idx, v in enumerate(\"balloon\")}\n",
    "\n",
    "        for c in text:\n",
    "            if c in count:\n",
    "                count[c] += 1\n",
    "\n",
    "        res = float('inf')\n",
    "        for c in \"balloon\":\n",
    "            if c == 'l' or c == 'o':\n",
    "                res = min(res, count[c]//2)\n",
    "            else:\n",
    "                res = min(res, count[c])\n",
    "        \n",
    "        return res\n",
    "\n",
    "sol = Solution()\n",
    "print(sol.maxNumberOfBalloons(\"nlaebolko\")) #1\n",
    "print(sol.maxNumberOfBalloons(\"loonbalxballpoon\")) #2\n",
    "print(sol.maxNumberOfBalloons(\"leetcode\")) #0"
   ]
  },
  {
   "attachments": {},
   "cell_type": "markdown",
   "metadata": {},
   "source": [
    "##### 290.Word Pattern"
   ]
  },
  {
   "cell_type": "code",
   "execution_count": 76,
   "metadata": {},
   "outputs": [
    {
     "name": "stdout",
     "output_type": "stream",
     "text": [
      "False\n"
     ]
    }
   ],
   "source": [
    "class Solution:\n",
    "    def wordPattern(self, pattern: str, s: str) -> bool:\n",
    "        if len(list(pattern)) != len(s.split(\" \")):\n",
    "            return False\n",
    "        \n",
    "        char_word = {}\n",
    "        word_char = {}\n",
    "        pattern = list(pattern)\n",
    "        s = s.split(\" \")\n",
    "\n",
    "        for i in range(len(pattern)):\n",
    "            if ((pattern[i] in char_word and char_word[pattern[i]] != s[i]) \n",
    "                or (s[i] in word_char and word_char[s[i]] != pattern[i])):\n",
    "                return False\n",
    "            char_word[pattern[i]] = s[i]\n",
    "            word_char[s[i]] = pattern[i]\n",
    "        \n",
    "        return True\n",
    "\n",
    "sol = Solution()\n",
    "print(sol.wordPattern(\"abc\", \"dog cat dog\")) #False\n",
    "# print(sol.wordPattern(\"abba\", \"dog cat cat dog\")) #True\n",
    "# print(sol.wordPattern(\"abba\", \"dog cat cat fish\")) #True\n",
    "# print(sol.wordPattern(\"aaaa\", \"dog cat cat dog\")) #False"
   ]
  },
  {
   "attachments": {},
   "cell_type": "markdown",
   "metadata": {},
   "source": [
    "##### 706.Design HashMap"
   ]
  },
  {
   "cell_type": "code",
   "execution_count": 78,
   "metadata": {},
   "outputs": [
    {
     "name": "stdout",
     "output_type": "stream",
     "text": [
      "1\n",
      "-1\n",
      "1\n",
      "-1\n"
     ]
    }
   ],
   "source": [
    "class MyHashMap:\n",
    "\n",
    "    def __init__(self):\n",
    "        self.hm = {}\n",
    "\n",
    "    def put(self, key: int, value: int) -> None:\n",
    "        self.hm[key] = value\n",
    "\n",
    "    def get(self, key: int) -> int:\n",
    "        if key in self.hm:\n",
    "            return self.hm[key]\n",
    "        return -1\n",
    "\n",
    "    def remove(self, key: int) -> None:\n",
    "        if key in self.hm:\n",
    "            del self.hm[key]\n",
    "\n",
    "\n",
    "# Your MyHashMap object will be instantiated and called as such:\n",
    "myHashMap = MyHashMap()\n",
    "myHashMap.put(1, 1) # The map is now [[1,1]]\n",
    "myHashMap.put(2, 2) # The map is now [[1,1], [2,2]]\n",
    "print(myHashMap.get(1))    # return 1, The map is now [[1,1], [2,2]]\n",
    "print(myHashMap.get(3))    # return -1 (i.e., not found), The map is now [[1,1], [2,2]]\n",
    "myHashMap.put(2, 1) # The map is now [[1,1], [2,1]] (i.e., update the existing value)\n",
    "print(myHashMap.get(2))    # return 1, The map is now [[1,1], [2,1]]\n",
    "myHashMap.remove(2) # remove the mapping for 2, The map is now [[1,1]]\n",
    "print(myHashMap.get(2))    # return -1 (i.e., not found), The map is now [[1,1]]"
   ]
  },
  {
   "attachments": {},
   "cell_type": "markdown",
   "metadata": {},
   "source": [
    "##### 705.Design HashSet\n"
   ]
  },
  {
   "cell_type": "code",
   "execution_count": 4,
   "metadata": {},
   "outputs": [
    {
     "name": "stdout",
     "output_type": "stream",
     "text": [
      "True\n",
      "False\n",
      "[1, 2]\n",
      "True\n",
      "False\n",
      "[1]\n"
     ]
    }
   ],
   "source": [
    "class MyHashSet:\n",
    "\n",
    "    def __init__(self):\n",
    "        self.hashSet = []\n",
    "\n",
    "    def add(self, key: int) -> None:\n",
    "        for i in self.hashSet:\n",
    "            if i == key:\n",
    "                return\n",
    "        self.hashSet.append(key)\n",
    "\n",
    "    def remove(self, key: int) -> None:\n",
    "        for idx, val  in enumerate(self.hashSet):\n",
    "            if val == key:\n",
    "                self.hashSet.pop(idx)\n",
    "\n",
    "    def contains(self, key: int) -> bool:\n",
    "        for i in self.hashSet:\n",
    "            if i == key:\n",
    "                return True\n",
    "        return False\n",
    "    \n",
    "    def printSet(self) -> None:\n",
    "        print(self.hashSet)\n",
    "\n",
    "\n",
    "myHashSet = MyHashSet()\n",
    "myHashSet.add(1)      # set = [1]\n",
    "myHashSet.add(2)      # set = [1, 2]\n",
    "print(myHashSet.contains(1)) # return True\n",
    "print(myHashSet.contains(3)) # return False, (not found)\n",
    "myHashSet.add(2)      # set = [1, 2]\n",
    "myHashSet.printSet()\n",
    "print(myHashSet.contains(2)) # return True\n",
    "myHashSet.remove(2)   # set = [1]\n",
    "print(myHashSet.contains(2)) # return False, (already removed)\n",
    "myHashSet.printSet()"
   ]
  },
  {
   "attachments": {},
   "cell_type": "markdown",
   "metadata": {},
   "source": [
    "##### 1431.Kids With the Greatest Number of Candies\n"
   ]
  },
  {
   "cell_type": "code",
   "execution_count": 8,
   "metadata": {},
   "outputs": [
    {
     "name": "stdout",
     "output_type": "stream",
     "text": [
      "[True, True, True, False, True]\n",
      "[True, False, False, False, False]\n",
      "[True, False, True]\n"
     ]
    }
   ],
   "source": [
    "class Solution:\n",
    "    def kidsWithCandies(self, candies: List[int], extraCandies: int) -> List[bool]:\n",
    "        maxCandies = max(candies)\n",
    "        res = []\n",
    "\n",
    "        for i in candies:\n",
    "            res.append(i + extraCandies >= maxCandies)\n",
    "\n",
    "        return res \n",
    "\n",
    "sol = Solution()\n",
    "print(sol.kidsWithCandies([2,3,5,1,3], 3)) #[true,true,true,false,true] \n",
    "print(sol.kidsWithCandies([4,2,1,1,2], 1)) #[true,false,false,false,false] \n",
    "print(sol.kidsWithCandies([12,1,12], 10)) #[true,false,true] \n"
   ]
  },
  {
   "attachments": {},
   "cell_type": "markdown",
   "metadata": {},
   "source": [
    "##### 1732.Find the Highest Altitude"
   ]
  },
  {
   "cell_type": "code",
   "execution_count": 18,
   "metadata": {},
   "outputs": [
    {
     "name": "stdout",
     "output_type": "stream",
     "text": [
      "1\n",
      "0\n"
     ]
    }
   ],
   "source": [
    "class Solution:\n",
    "    def largestAltitude(self, gain: List[int]) -> int:\n",
    "        res, currGain = 0, 0\n",
    "        \n",
    "        for g in gain:\n",
    "            currGain += g\n",
    "            if currGain > res:\n",
    "                res = currGain\n",
    "        \n",
    "        return res\n",
    "\n",
    "\n",
    "sol = Solution()\n",
    "print(sol.largestAltitude([-5,1,5,0,-7])) #1\n",
    "print(sol.largestAltitude([-4,-3,-2,-1,4,3,2])) #0"
   ]
  },
  {
   "attachments": {},
   "cell_type": "markdown",
   "metadata": {},
   "source": [
    "##### 2215.Find the Difference of Two Arrays"
   ]
  },
  {
   "cell_type": "code",
   "execution_count": 19,
   "metadata": {},
   "outputs": [
    {
     "name": "stdout",
     "output_type": "stream",
     "text": [
      "[[1, 3], [4, 6]]\n",
      "[[3], []]\n"
     ]
    }
   ],
   "source": [
    "class Solution:\n",
    "    def findDifference(self, nums1: List[int], nums2: List[int]) -> List[List[int]]:\n",
    "        nums1, nums2 = set(nums1), set(nums2)\n",
    "\n",
    "        def notInOther(A, B):\n",
    "            sub = []\n",
    "            for n in A:\n",
    "                if n not in B:\n",
    "                    sub.append(n)\n",
    "            return sub\n",
    "\n",
    "        res = []\n",
    "        res.append(notInOther(nums1, nums2))\n",
    "        res.append(notInOther(nums2, nums1))\n",
    "\n",
    "        return res\n",
    "        # return [list(set(nums1) - set(nums2)), list(set(nums2) - set(nums1))]\n",
    "\n",
    "sol = Solution()\n",
    "print(sol.findDifference([1,2,3], [2,4,6])) #[[1,3],[4,6]]\n",
    "print(sol.findDifference([1,2,3,3], [1,1,2,2])) #[[3],[]]"
   ]
  },
  {
   "attachments": {},
   "cell_type": "markdown",
   "metadata": {},
   "source": [
    "##### 1207.Unique Number of Occurrences"
   ]
  },
  {
   "cell_type": "code",
   "execution_count": 22,
   "metadata": {},
   "outputs": [
    {
     "name": "stdout",
     "output_type": "stream",
     "text": [
      "True\n",
      "False\n",
      "True\n"
     ]
    }
   ],
   "source": [
    "class Solution:\n",
    "    def uniqueOccurrences(self, arr: List[int]) -> bool:\n",
    "        count_map = defaultdict(int)\n",
    "        \n",
    "        for num in arr:\n",
    "            count_map[num] += 1\n",
    "\n",
    "        return len(count_map) == len(set(count_map.values()))\n",
    "\n",
    "sol = Solution()\n",
    "print(sol.uniqueOccurrences([1,2,2,1,1,3])) #True\n",
    "print(sol.uniqueOccurrences([1,2])) #False\n",
    "print(sol.uniqueOccurrences([-3,0,1,-3,1,1,1,-3,10,0])) #True"
   ]
  },
  {
   "attachments": {},
   "cell_type": "markdown",
   "metadata": {},
   "source": [
    "##### 1232.Check If It Is a Straight Line"
   ]
  },
  {
   "cell_type": "code",
   "execution_count": 4,
   "metadata": {},
   "outputs": [
    {
     "name": "stdout",
     "output_type": "stream",
     "text": [
      "[(2, 3), (3, 4)]\n",
      "[(3, 4), (4, 5)]\n",
      "[(4, 5), (5, 6)]\n",
      "[(5, 6), (6, 7)]\n",
      "True\n",
      "[(2, 2), (3, 4)]\n",
      "False\n"
     ]
    }
   ],
   "source": [
    "class Solution:\n",
    "    def checkStraightLine(self, coordinates: List[List[int]]) -> bool:\n",
    "        def slope(x1, y1, x2, y2):\n",
    "            if (x2 - x1) == 0: return float('inf')\n",
    "            return (y2 - y1) / (x2 - x1)\n",
    "        \n",
    "        init_slope = slope(coordinates[0][0], coordinates[0][1], coordinates[1][0], coordinates[1][1])\n",
    "        \n",
    "        for i in range(1, len(coordinates) - 1):\n",
    "            (x1, y1), (x2, y2) = coordinates[i], coordinates[i + 1]\n",
    "            if slope(x1, y1, x2, y2) != init_slope:\n",
    "                return False\n",
    "\n",
    "        return True\n",
    "\n",
    "sol = Solution()\n",
    "print(sol.checkStraightLine([[1,2],[2,3],[3,4],[4,5],[5,6],[6,7]])) # true\n",
    "print(sol.checkStraightLine([[1,1],[2,2],[3,4],[4,5],[5,6],[7,7]])) # false"
   ]
  },
  {
   "cell_type": "markdown",
   "metadata": {},
   "source": [
    "##### 219.Contains Duplicate II"
   ]
  },
  {
   "cell_type": "code",
   "execution_count": 26,
   "metadata": {},
   "outputs": [
    {
     "name": "stdout",
     "output_type": "stream",
     "text": [
      "True\n",
      "True\n",
      "False\n"
     ]
    }
   ],
   "source": [
    "class Solution:\n",
    "    def containsNearbyDuplicate(self, nums: List[int], k: int) -> bool:\n",
    "        dic = {}\n",
    "        for i in range(len(nums)):\n",
    "            if nums[i] in dic and abs(i - dic[nums[i]]) <= k:\n",
    "                return True\n",
    "            dic[nums[i]] = i\n",
    "        \n",
    "        return False\n",
    "\n",
    "sol = Solution()\n",
    "print(sol.containsNearbyDuplicate([1,2,3,1], 3)) #True\n",
    "print(sol.containsNearbyDuplicate([1,0,1,1], 1)) #True\n",
    "print(sol.containsNearbyDuplicate([1,2,3,1,2,3], 2)) #false"
   ]
  },
  {
   "cell_type": "markdown",
   "metadata": {},
   "source": [
    "##### 896.Monotonic Array"
   ]
  },
  {
   "cell_type": "code",
   "execution_count": 8,
   "metadata": {},
   "outputs": [
    {
     "name": "stdout",
     "output_type": "stream",
     "text": [
      "True\n",
      "True\n",
      "False\n"
     ]
    }
   ],
   "source": [
    "class Solution:\n",
    "    def isMonotonic(self, nums: List[int]) -> bool:\n",
    "        stk = [nums[0]]\n",
    "        inc = 0\n",
    "        for i in range(1, len(nums)):\n",
    "            # determine increasing or decreasing\n",
    "            if inc == 0:\n",
    "                if nums[i] > stk[-1]:\n",
    "                    inc = 1\n",
    "                elif nums[i] < stk[-1]:\n",
    "                    inc = -1\n",
    "                stk.append(nums[i])\n",
    "                continue\n",
    "            \n",
    "            if ((inc == 1 and nums[i] < stk[-1])\n",
    "                or (inc == -1 and nums[i] > stk[-1])):\n",
    "                return False\n",
    "            \n",
    "            stk.append(nums[i])\n",
    "\n",
    "        return True\n",
    "\n",
    "sol = Solution()\n",
    "print(sol.isMonotonic([1,2,2,3])) #true\n",
    "print(sol.isMonotonic([6,5,4,4])) #true\n",
    "print(sol.isMonotonic([1,3,2])) #false"
   ]
  },
  {
   "cell_type": "markdown",
   "metadata": {},
   "source": [
    "##### 119.Pascal's Triangle II"
   ]
  },
  {
   "cell_type": "code",
   "execution_count": 4,
   "metadata": {},
   "outputs": [
    {
     "name": "stdout",
     "output_type": "stream",
     "text": [
      "[1, 3, 3, 1]\n",
      "[1]\n",
      "[1, 1]\n"
     ]
    }
   ],
   "source": [
    "class Solution:\n",
    "    def getRow(self, rowIndex: int) -> List[int]:\n",
    "        prev_row = [1]\n",
    "\n",
    "        for row in range(rowIndex + 1):\n",
    "            curr_row = [1] * (row + 1)\n",
    "\n",
    "            for idx in range(1, row):\n",
    "                curr_row[idx] = prev_row[idx - 1] + prev_row[idx]\n",
    "            \n",
    "            prev_row = curr_row\n",
    "\n",
    "        return prev_row\n",
    "\n",
    "sol = Solution()\n",
    "print(sol.getRow(3)) #[1,3,3,1]\n",
    "print(sol.getRow(0)) #[1]\n",
    "print(sol.getRow(1)) #[1,1]"
   ]
  },
  {
   "cell_type": "markdown",
   "metadata": {},
   "source": [
    "##### 383.Ransom Note"
   ]
  },
  {
   "cell_type": "code",
   "execution_count": null,
   "metadata": {},
   "outputs": [],
   "source": [
    "class Solution:\n",
    "    def canConstruct(self, ransomNote: str, magazine: str) -> bool:\n",
    "        ran_cnt = defaultdict(int)\n",
    "\n",
    "        for ch in ransomNote:\n",
    "            ran_cnt[ch] += 1\n",
    "\n",
    "        for ch in magazine:\n",
    "            if ch in ran_cnt:\n",
    "                ran_cnt[ch] -= 1\n",
    "\n",
    "                if ran_cnt[ch] == 0:\n",
    "                    del ran_cnt[ch]\n",
    "\n",
    "            if not ran_cnt:\n",
    "                return True\n",
    "\n",
    "        return False\n",
    "\n",
    "sol = Solution()\n",
    "print(sol.canConstruct(\"a\", \"b\")) #false\n",
    "print(sol.canConstruct(\"aa\", \"ab\")) #false\n",
    "print(sol.canConstruct(\"aa\", \"aab\")) #true"
   ]
  },
  {
   "cell_type": "markdown",
   "metadata": {},
   "source": [
    "##### 1275.Find Winner on a Tic Tac Toe Game"
   ]
  },
  {
   "cell_type": "code",
   "execution_count": 61,
   "metadata": {},
   "outputs": [
    {
     "name": "stdout",
     "output_type": "stream",
     "text": [
      "A\n",
      "B\n",
      "Draw\n"
     ]
    }
   ],
   "source": [
    "class Solution:\n",
    "    def tictactoe(self, moves: List[List[int]]) -> str:\n",
    "        winner = None\n",
    "        matrix = [[0 for _ in range(3)] for _ in range(3)]\n",
    "\n",
    "        for i, (x, y) in enumerate(moves):\n",
    "            matrix[x][y] = 5 if i & 1 else 1\n",
    "        \n",
    "        def checkWin(s):\n",
    "            nonlocal winner\n",
    "            if winner: return\n",
    "            if s == 3: winner = 'A'\n",
    "            if s == 15: winner = 'B'\n",
    "\n",
    "        def checkRows():\n",
    "            for row in matrix: checkWin(sum(row))\n",
    "\n",
    "        def checkCols():\n",
    "            for col in zip(*matrix): checkWin(sum(col))\n",
    "\n",
    "        def checkDiagonal1():\n",
    "            checkWin(matrix[0][0] + matrix[1][1] + matrix[2][2])       \n",
    "\n",
    "        def checkDiagonal2():\n",
    "            checkWin(matrix[0][2] + matrix[1][1] + matrix[2][0])\n",
    "\n",
    "        checkRows()\n",
    "        checkCols()\n",
    "        checkDiagonal1()\n",
    "        checkDiagonal2()\n",
    "\n",
    "        return winner or ('Draw' if len(moves) == 9 else 'Pending')\n",
    "\n",
    "sol = Solution()\n",
    "print(sol.tictactoe([[0,0],[2,0],[1,1],[2,1],[2,2]])) #A\n",
    "print(sol.tictactoe([[0,0],[1,1],[0,1],[0,2],[1,0],[2,0]])) #B\n",
    "print(sol.tictactoe([[0,0],[1,1],[2,0],[1,0],[1,2],[2,1],[0,1],[0,2],[2,2]])) #Draw"
   ]
  },
  {
   "cell_type": "markdown",
   "metadata": {},
   "source": [
    "##### 1389.Create Target Array in the Given Order"
   ]
  },
  {
   "cell_type": "code",
   "execution_count": 63,
   "metadata": {},
   "outputs": [
    {
     "name": "stdout",
     "output_type": "stream",
     "text": [
      "[0, 4, 1, 3, 2]\n",
      "[0, 1, 2, 3, 4]\n",
      "[1]\n"
     ]
    }
   ],
   "source": [
    "class Solution:\n",
    "    def createTargetArray_(self, nums: List[int], index: List[int]) -> List[int]:\n",
    "        res = []   \n",
    "        for idx in range(len(nums)):\n",
    "            res.insert(index[idx], nums[idx])\n",
    "            \n",
    "        return res\n",
    "\n",
    "\n",
    "    def createTargetArray(self, nums: List[int], index: List[int]) -> List[int]:\n",
    "        res = []\n",
    "        for idx in range(len(nums)):\n",
    "            if index[idx] == len(res):\n",
    "                res.append(nums[idx])\n",
    "            else:\n",
    "                res = res[:index[idx]] + [nums[idx]] + res[index[idx]:]\n",
    "\n",
    "        return res\n",
    "\n",
    "sol = Solution()\n",
    "print(sol.createTargetArray(nums = [0,1,2,3,4], index = [0,1,2,2,1])) # [0,4,1,3,2]\n",
    "print(sol.createTargetArray(nums = [1,2,3,4,0], index = [0,1,2,3,0])) # [0,1,2,3,4]\n",
    "print(sol.createTargetArray(nums = [1], index = [0])) # [1]"
   ]
  },
  {
   "cell_type": "markdown",
   "metadata": {},
   "source": [
    "##### 796.Rotate String"
   ]
  },
  {
   "cell_type": "code",
   "execution_count": 119,
   "metadata": {},
   "outputs": [
    {
     "name": "stdout",
     "output_type": "stream",
     "text": [
      "True\n",
      "False\n"
     ]
    }
   ],
   "source": [
    "class Solution:\n",
    "    def rotateString(self, s: str, goal: str) -> bool:\n",
    "        if s == goal:\n",
    "            return True\n",
    "        \n",
    "        if len(s) != len(goal):\n",
    "            return False\n",
    "        \n",
    "        for idx in range(len(s)):\n",
    "            new_str = s[idx:] + s[:idx] \n",
    "            if new_str == goal:\n",
    "                return True\n",
    "            \n",
    "        return False\n",
    "\n",
    "sol = Solution()\n",
    "print(sol.rotateString(s = \"abcde\", goal = \"cdeab\")) #True\n",
    "print(sol.rotateString(s = \"abcde\", goal = \"abced\")) #False"
   ]
  },
  {
   "cell_type": "markdown",
   "metadata": {},
   "source": [
    "##### 2451.Odd String Difference"
   ]
  },
  {
   "cell_type": "code",
   "execution_count": 148,
   "metadata": {},
   "outputs": [
    {
     "name": "stdout",
     "output_type": "stream",
     "text": [
      "abc\n",
      "bob\n"
     ]
    }
   ],
   "source": [
    "class Solution:\n",
    "    def oddString(self, words: List[str]) -> str:\n",
    "        word_len = len(words[0])\n",
    "        diff_map = defaultdict(list)\n",
    "        \n",
    "        for word_idx, word in enumerate(words):\n",
    "            diff_arr = []\n",
    "            for idx in range(1, word_len):\n",
    "                diff = ord(word[idx]) - ord(word[idx - 1])\n",
    "                diff_arr.append(diff)\n",
    "            diff_map[tuple(diff_arr)].append(word_idx)\n",
    "\n",
    "        for word_arr in diff_map.values():\n",
    "            if len(word_arr) == 1:\n",
    "                return words[word_arr[0]]\n",
    "\n",
    "sol = Solution()\n",
    "print(sol.oddString([\"adc\",\"wzy\",\"abc\"])) #\"abc\"\n",
    "print(sol.oddString([\"aaa\",\"bob\",\"ccc\",\"ddd\"])) #\"bob\""
   ]
  },
  {
   "cell_type": "markdown",
   "metadata": {},
   "source": [
    "##### 1071.Greatest Common Divisor of Strings"
   ]
  },
  {
   "cell_type": "code",
   "execution_count": 45,
   "metadata": {},
   "outputs": [
    {
     "name": "stdout",
     "output_type": "stream",
     "text": [
      "ABC\n",
      "AB\n",
      "\n"
     ]
    }
   ],
   "source": [
    "class Solution:\n",
    "    def gcdOfStrings(self, str1: str, str2: str) -> str:\n",
    "        len1, len2 = len(str1), len(str2)\n",
    "\n",
    "        for i in range(min(len1, len2), 0, -1):\n",
    "            if len1 % i ==0 and len2 % i == 0:\n",
    "                if str1[:i] != str2[:i]:\n",
    "                    break\n",
    "\n",
    "                if (str1[:i] * (len1 // i) == str1 and \n",
    "                    str2[:i] * (len2 // i) == str2):\n",
    "                    return str1[:i]\n",
    "            \n",
    "        return \"\"\n",
    "    \n",
    "sol = Solution()\n",
    "print(sol.gcdOfStrings(str1 = \"ABCABC\", str2 = \"ABC\")) #\"ABC\"\n",
    "print(sol.gcdOfStrings(str1 = \"ABABAB\", str2 = \"ABAB\")) #\"AB\"\n",
    "print(sol.gcdOfStrings(str1 = \"LEET\", str2 = \"CODE\")) #\"\""
   ]
  },
  {
   "cell_type": "markdown",
   "metadata": {},
   "source": [
    "##### 160.Find Words That Can Be Formed by Characters"
   ]
  },
  {
   "cell_type": "code",
   "execution_count": 10,
   "metadata": {},
   "outputs": [
    {
     "name": "stdout",
     "output_type": "stream",
     "text": [
      "6\n",
      "10\n"
     ]
    }
   ],
   "source": [
    "class Solution:\n",
    "    def countCharacters_(self, words: List[str], chars: str) -> int:\n",
    "        def canFormWord(src, tar):\n",
    "            for ch in tar.keys():\n",
    "                if tar[ch] > src[ch]:\n",
    "                    return False\n",
    "                \n",
    "            return True\n",
    "        \n",
    "        src = defaultdict(int)\n",
    "        for ch in chars:\n",
    "            src[ch] += 1\n",
    "\n",
    "        res = 0\n",
    "        for word in words:\n",
    "            tar = defaultdict(int)\n",
    "            word_len = 0\n",
    "            for ch in word:\n",
    "                tar[ch] += 1\n",
    "                word_len += 1\n",
    "\n",
    "            if canFormWord(src, tar):\n",
    "                res += word_len\n",
    "                \n",
    "        return res\n",
    "    \n",
    "    def countCharacters(self, words: List[str], chars: str) -> int:\n",
    "        res = 0\n",
    "        src = defaultdict(int)\n",
    "        for c in chars:\n",
    "            src[c] += 1\n",
    "        \n",
    "        for word in words:\n",
    "            for i in word:\n",
    "                if src[i] < word.count(i):\n",
    "                    break\n",
    "            else:\n",
    "                res += len(word)\n",
    "        \n",
    "        return res\n",
    "\n",
    "sol = Solution()\n",
    "print(sol.countCharacters(words = [\"cat\",\"bt\",\"hat\",\"tree\"], chars = \"atach\")) #6\n",
    "print(sol.countCharacters(words = [\"hello\",\"world\",\"leetcode\"], chars = \"welldonehoneyr\")) #10"
   ]
  },
  {
   "cell_type": "markdown",
   "metadata": {},
   "source": [
    "##### 2951.Find the Peaks"
   ]
  },
  {
   "cell_type": "code",
   "execution_count": 19,
   "metadata": {},
   "outputs": [
    {
     "name": "stdout",
     "output_type": "stream",
     "text": [
      "[]\n",
      "[1, 3]\n"
     ]
    }
   ],
   "source": [
    "class Solution:\n",
    "    def findPeaks(self, mountain: List[int]) -> List[int]:\n",
    "        res = []\n",
    "        for idx in range(1, len(mountain) - 1):\n",
    "            if mountain[idx - 1] < mountain[idx] and mountain[idx + 1] < mountain[idx]:\n",
    "                res.append(idx)\n",
    "                \n",
    "        return res\n",
    "    \n",
    "sol = Solution()\n",
    "print(sol.findPeaks([2,4,4])) #[]\n",
    "print(sol.findPeaks([1,4,3,8,5])) #[1, 3]"
   ]
  },
  {
   "cell_type": "markdown",
   "metadata": {},
   "source": [
    "##### 2264.Largest 3-Same-Digit Number in String"
   ]
  },
  {
   "cell_type": "code",
   "execution_count": 46,
   "metadata": {},
   "outputs": [
    {
     "name": "stdout",
     "output_type": "stream",
     "text": [
      "777\n",
      "000\n",
      "\n"
     ]
    }
   ],
   "source": [
    "class Solution:\n",
    "    def largestGoodInteger(self, num: str) -> str:\n",
    "        res = \"\"\n",
    "        for idx in range(1, len(num) - 1):\n",
    "            if (num[idx - 1] == num[idx] == num[idx + 1]\n",
    "                and (res == \"\" or int(num[idx]) > int(res[0]))): \n",
    "                    res = num[idx - 1: idx + 2]\n",
    "        return res\n",
    "\n",
    "sol = Solution()\n",
    "print(sol.largestGoodInteger(\"6777133339\")) #\"777\"\n",
    "print(sol.largestGoodInteger(\"2300019\")) #\"000\"\n",
    "print(sol.largestGoodInteger(\"42352338\")) #\"\""
   ]
  },
  {
   "cell_type": "markdown",
   "metadata": {},
   "source": [
    "##### 1903.Largest Odd Number in String"
   ]
  },
  {
   "cell_type": "code",
   "execution_count": 5,
   "metadata": {},
   "outputs": [
    {
     "name": "stdout",
     "output_type": "stream",
     "text": [
      "5\n",
      "\n",
      "35427\n"
     ]
    }
   ],
   "source": [
    "class Solution:\n",
    "    def largestOddNumber(self, num: str) -> str:\n",
    "        for idx in range(len(num) - 1, -1, -1):\n",
    "            if (ord(num[idx]) - ord('0')) % 2 == 1:\n",
    "                return num[:idx + 1]\n",
    "            \n",
    "        return \"\"\n",
    "\n",
    "sol = Solution()\n",
    "print(sol.largestOddNumber(\"52\")) #5\n",
    "print(sol.largestOddNumber(\"4206\")) #\n",
    "print(sol.largestOddNumber(\"35427\")) #35427"
   ]
  },
  {
   "cell_type": "markdown",
   "metadata": {},
   "source": [
    "##### 867.Transpose Matrix"
   ]
  },
  {
   "cell_type": "code",
   "execution_count": 14,
   "metadata": {},
   "outputs": [
    {
     "name": "stdout",
     "output_type": "stream",
     "text": [
      "[[1, 4, 7], [2, 5, 8], [3, 6, 9]]\n",
      "[[1, 4], [2, 5], [3, 6]]\n"
     ]
    }
   ],
   "source": [
    "class Solution:\n",
    "    def transpose(self, matrix: List[List[int]]) -> List[List[int]]:\n",
    "        res = []\n",
    "        for r in range (len(matrix[0])):\n",
    "            temp = []\n",
    "            for c in range (len(matrix)):\n",
    "                temp.append(matrix[c][r])\n",
    "            res.append(temp)\n",
    "        return res\n",
    "        return zip(*matrix)\n",
    "    \n",
    "\n",
    "sol = Solution()\n",
    "print(sol.transpose([[1,2,3],[4,5,6],[7,8,9]])) #[[1,4,7],[2,5,8],[3,6,9]]\n",
    "print(sol.transpose([[1,2,3],[4,5,6]])) #[[1,4],[2,5],[3,6]]"
   ]
  },
  {
   "cell_type": "markdown",
   "metadata": {},
   "source": [
    "##### 1287.Element Appearing More Than 25% In Sorted Array"
   ]
  },
  {
   "cell_type": "code",
   "execution_count": 7,
   "metadata": {},
   "outputs": [
    {
     "name": "stdout",
     "output_type": "stream",
     "text": [
      "6\n",
      "1\n"
     ]
    }
   ],
   "source": [
    "class Solution:\n",
    "    def findSpecialInteger(self, arr: List[int]) -> int:\n",
    "        n = len(arr)\n",
    "        quarter = n // 4\n",
    "\n",
    "        for i in range(n - quarter):\n",
    "            if arr[i] == arr[i + quarter]:\n",
    "                return arr[i]\n",
    "\n",
    "sol = Solution()\n",
    "print(sol.findSpecialInteger([1,2,2,6,6,6,6,7,10])) #6\n",
    "print(sol.findSpecialInteger([1,1])) #1"
   ]
  },
  {
   "cell_type": "markdown",
   "metadata": {},
   "source": [
    "##### 1464.Maximum Product of Two Elements in an Array"
   ]
  },
  {
   "cell_type": "code",
   "execution_count": 5,
   "metadata": {},
   "outputs": [
    {
     "name": "stdout",
     "output_type": "stream",
     "text": [
      "12\n",
      "16\n",
      "12\n"
     ]
    }
   ],
   "source": [
    "import heapq\n",
    "class Solution:\n",
    "    def maxProduct_1(self, nums: List[int]) -> int:\n",
    "        nums.sort()\n",
    "        return (nums[-1] - 1) * (nums[-2] - 1)\n",
    "\n",
    "    def maxProduct_2(self, nums: List[int]) -> int:\n",
    "        heapq.heapify(nums)\n",
    "        a,b = heapq.nlargest(2,nums)\n",
    "        return (a-1)*(b-1)\n",
    "\n",
    "    def maxProduct(self, nums: List[int]) -> int:\n",
    "        nums = [-x for x in nums]\n",
    "        heapq.heapify(nums)\n",
    "        return (-1 * heapq.heappop(nums) - 1) * (-1 * heapq.heappop(nums) - 1)\n",
    "\n",
    "sol = Solution()\n",
    "print(sol.maxProduct([3,4,5,2])) #12\n",
    "print(sol.maxProduct([1,5,4,5])) #16\n",
    "print(sol.maxProduct([3,7])) #12"
   ]
  },
  {
   "cell_type": "markdown",
   "metadata": {},
   "source": [
    "##### 1582.Special Positions in a Binary Matrix"
   ]
  },
  {
   "cell_type": "code",
   "execution_count": 10,
   "metadata": {},
   "outputs": [
    {
     "name": "stdout",
     "output_type": "stream",
     "text": [
      "1\n",
      "3\n"
     ]
    }
   ],
   "source": [
    "class Solution:\n",
    "    def numSpecial(self, mat: List[List[int]]) -> int:\n",
    "        ROWS, COLS = len(mat), len(mat[0])\n",
    "        row_map = defaultdict(int)\n",
    "        col_map = defaultdict(int)\n",
    "\n",
    "        for i in range(ROWS):\n",
    "            for j in range(COLS):\n",
    "                if mat[i][j] == 1:\n",
    "                    row_map[i] += 1\n",
    "                    col_map[j] += 1\n",
    "\n",
    "        res = 0\n",
    "        for i in range(ROWS):\n",
    "            for j in range(COLS):\n",
    "                if mat[i][j] == 1 and row_map[i] == 1 and col_map[j] == 1:\n",
    "                        res += 1\n",
    "\n",
    "        return res\n",
    "\n",
    "sol = Solution()\n",
    "print(sol.numSpecial([[1,0,0],[0,0,1],[1,0,0]])) #1\n",
    "print(sol.numSpecial([[1,0,0],[0,1,0],[0,0,1]])) #3"
   ]
  },
  {
   "cell_type": "markdown",
   "metadata": {},
   "source": [
    "##### 1913.Maximum Product Difference Between Two Pairs"
   ]
  },
  {
   "cell_type": "code",
   "execution_count": 4,
   "metadata": {},
   "outputs": [
    {
     "name": "stdout",
     "output_type": "stream",
     "text": [
      "34\n",
      "64\n"
     ]
    }
   ],
   "source": [
    "class Solution:\n",
    "    def maxProductDifference_(self, nums: List[int]) -> int:\n",
    "        max_1 = max(nums)\n",
    "        nums.remove(max_1)\n",
    "        min_1 = min(nums)\n",
    "        nums.remove(min_1)\n",
    "\n",
    "        return (max_1 * max(nums)) - (min_1 * min(nums))\n",
    "    \n",
    "    def maxProductDifference(self, nums: List[int]) -> int:\n",
    "        nums.sort()\n",
    "        return (nums[-1] * nums[-2]) - (nums[0] * nums[1])\n",
    "    \n",
    "sol = Solution()\n",
    "print(sol.maxProductDifference([5,6,2,7,4])) #34\n",
    "print(sol.maxProductDifference([4,2,5,9,7,4,8])) #64"
   ]
  },
  {
   "cell_type": "markdown",
   "metadata": {},
   "source": [
    "##### 661.Image Smoother"
   ]
  },
  {
   "cell_type": "code",
   "execution_count": 5,
   "metadata": {},
   "outputs": [
    {
     "name": "stdout",
     "output_type": "stream",
     "text": [
      "[[0, 0, 0], [0, 0, 0], [0, 0, 0]]\n",
      "[[137, 141, 137], [141, 138, 141], [137, 141, 137]]\n"
     ]
    }
   ],
   "source": [
    "class Solution:\n",
    "    def imageSmoother(self, img: List[List[int]]) -> List[List[int]]:\n",
    "        ROWS, COLS = len(img), len(img[0])\n",
    "        \n",
    "        def getAverage(r, c):\n",
    "            tot, cnt = 0, 0\n",
    "\n",
    "            top = max(0, r - 1)\n",
    "            bottom = min(ROWS, r + 2)\n",
    "            left = max(0, c - 1)\n",
    "            right = min(COLS, c + 2)\n",
    "\n",
    "            for row in range(top, bottom):\n",
    "                for col in range(left, right):\n",
    "                    tot += img[row][col]\n",
    "                    cnt += 1\n",
    "\n",
    "            return tot // cnt\n",
    "\n",
    "        return [[getAverage(r, c) for c in range(COLS)] for r in range(ROWS)]\n",
    "    \n",
    "sol = Solution()\n",
    "print(sol.imageSmoother([[1,1,1],[1,0,1],[1,1,1]])) #[[0,0,0],[0,0,0],[0,0,0]]\n",
    "print(sol.imageSmoother([[100,200,100],[200,50,200],[100,200,100]])) #[[137,141,137],[141,138,141],[137,141,137]]"
   ]
  },
  {
   "cell_type": "markdown",
   "metadata": {},
   "source": [
    "##### 2706.Buy Two Chocolates"
   ]
  },
  {
   "cell_type": "code",
   "execution_count": 6,
   "metadata": {},
   "outputs": [
    {
     "name": "stdout",
     "output_type": "stream",
     "text": [
      "0\n",
      "3\n"
     ]
    }
   ],
   "source": [
    "class Solution:\n",
    "    def buyChoco(self, prices: List[int], money: int) -> int:\n",
    "        prices.sort()\n",
    "\n",
    "        if money < prices[0] + prices[1]:\n",
    "            return money\n",
    "        \n",
    "        return money - (prices[0] + prices[1])\n",
    "    \n",
    "sol = Solution()\n",
    "print(sol.buyChoco(prices = [1,2,2], money = 3)) #0\n",
    "print(sol.buyChoco(prices = [3,2,3], money = 3)) #3"
   ]
  },
  {
   "cell_type": "markdown",
   "metadata": {},
   "source": [
    "##### 1422.Maximum Score After Splitting a String"
   ]
  },
  {
   "cell_type": "code",
   "execution_count": 4,
   "metadata": {},
   "outputs": [
    {
     "name": "stdout",
     "output_type": "stream",
     "text": [
      "5\n",
      "5\n",
      "3\n"
     ]
    }
   ],
   "source": [
    "class Solution:\n",
    "    def maxScore(self, s: str) -> int:\n",
    "        zero_cnt = 0\n",
    "        one_cnt = s.count('1')\n",
    "        \n",
    "        res = 0\n",
    "        for idx in range(len(s) - 1):\n",
    "            if s[idx] == '0':\n",
    "                zero_cnt += 1\n",
    "            else:\n",
    "                one_cnt -= 1 \n",
    "\n",
    "            res = max(res, zero_cnt + one_cnt)\n",
    "\n",
    "        return res\n",
    "\n",
    "sol = Solution()\n",
    "print(sol.maxScore(\"011101\")) #5\n",
    "print(sol.maxScore(\"00111\")) #5\n",
    "print(sol.maxScore(\"1111\")) #3"
   ]
  },
  {
   "attachments": {},
   "cell_type": "markdown",
   "metadata": {},
   "source": [
    "#### Medium"
   ]
  },
  {
   "attachments": {},
   "cell_type": "markdown",
   "metadata": {},
   "source": [
    "##### 49.Group Anagrams"
   ]
  },
  {
   "cell_type": "code",
   "execution_count": 48,
   "metadata": {},
   "outputs": [
    {
     "name": "stdout",
     "output_type": "stream",
     "text": [
      "dict_values([['eat', 'tea', 'ate'], ['tan', 'nat'], ['bat']])\n",
      "dict_values([['']])\n",
      "dict_values([['a']])\n"
     ]
    }
   ],
   "source": [
    "class Solution:\n",
    "    def groupAnagrams(self, strs: List[str]) -> List[List[str]]:\n",
    "        res = defaultdict(list)\n",
    "        \n",
    "        for word in strs:\n",
    "            temp = [0] * 26\n",
    "\n",
    "            for i in word:\n",
    "                temp[ord(i) - ord('a')] +=1\n",
    "            \n",
    "            res[tuple(temp)].append(word)\n",
    "\n",
    "        return res.values()\n",
    "\n",
    "sol = Solution()\n",
    "print(sol.groupAnagrams([\"eat\",\"tea\",\"tan\",\"ate\",\"nat\",\"bat\"]))\n",
    "print(sol.groupAnagrams([\"\"]))\n",
    "print(sol.groupAnagrams([\"a\"]))"
   ]
  },
  {
   "attachments": {},
   "cell_type": "markdown",
   "metadata": {},
   "source": [
    "##### 347.Top K Frequent Elements"
   ]
  },
  {
   "cell_type": "code",
   "execution_count": 50,
   "metadata": {},
   "outputs": [
    {
     "name": "stdout",
     "output_type": "stream",
     "text": [
      "[1, 2]\n",
      "[1]\n"
     ]
    }
   ],
   "source": [
    "class Solution:\n",
    "    ## Uses Ordered Dictionary\n",
    "    def topKFrequent1(self, nums: List[int], k: int) -> List[int]: # nlogn\n",
    "        tempMap = defaultdict(int)\n",
    "        \n",
    "        for num in nums:\n",
    "            tempMap[num] += 1\n",
    "\n",
    "        tempMap = OrderedDict(sorted(tempMap.items(), key=lambda item: item[1], reverse=True)) \n",
    "\n",
    "        tempMap = list(tempMap.items())\n",
    "        res = []\n",
    "        for i in range(k):\n",
    "            res.append(tempMap[i][0])\n",
    "\n",
    "        return res\n",
    "\n",
    "    ## Uses Frequency array\n",
    "    def topKFrequent2(self, nums: List[int], k: int) -> List[int]: # n\n",
    "        countArr = [[] for i in range(len(nums) + 1)]\n",
    "        \n",
    "        tempMap = defaultdict(int)\n",
    "        for num in nums:\n",
    "            tempMap[num] += 1\n",
    "        \n",
    "        for num, count in tempMap.items():\n",
    "            countArr[count].append(num)\n",
    "\n",
    "        res = []\n",
    "        for i in range(len(countArr) - 1, 0, -1):\n",
    "            for j in countArr[i]:\n",
    "                res.append(j)\n",
    "\n",
    "                if len(res) == k:\n",
    "                    return res\n",
    "\n",
    "    ## Uses Counter\n",
    "    def topKFrequent(self, nums, k):\n",
    "        frq = defaultdict(list)\n",
    "        for key, cnt in Counter(nums).items():\n",
    "            frq[cnt].append(key)\n",
    "\n",
    "        res = []\n",
    "        for times in reversed(range(len(nums) + 1)):\n",
    "            res.extend(frq[times])\n",
    "            if len(res) >= k: return res[:k]\n",
    "\n",
    "        return res[:k]\n",
    "\n",
    "    \n",
    "sol = Solution()\n",
    "print(sol.topKFrequent([1,1,1,2,2,3], 2))\n",
    "print(sol.topKFrequent([1], 1))"
   ]
  },
  {
   "attachments": {},
   "cell_type": "markdown",
   "metadata": {},
   "source": [
    "##### 238.Product of Array Except Self"
   ]
  },
  {
   "cell_type": "code",
   "execution_count": 70,
   "metadata": {},
   "outputs": [
    {
     "name": "stdout",
     "output_type": "stream",
     "text": [
      "[24, 12, 8, 6]\n",
      "[0, 0, 9, 0, 0]\n"
     ]
    }
   ],
   "source": [
    "class Solution:\n",
    "    ## Using Prefix and Post fix\n",
    "    def productExceptSelf1(self, nums: List[int]) -> List[int]: # 3 times n; space is 2 times n\n",
    "        pre = [1] * len(nums)\n",
    "        post = [1] * len(nums)\n",
    "        res = [1] * len(nums)\n",
    "\n",
    "        for i in range(len(nums)):\n",
    "            if i - 1 == -1: \n",
    "                pre[i] = nums[i]\n",
    "            else:\n",
    "                pre[i] = nums[i] * pre[i - 1]\n",
    "\n",
    "        for i in range(len(nums) -1 , 0, -1):\n",
    "            if i + 1 == len(nums):\n",
    "                post[i] = nums[i]\n",
    "            else:\n",
    "                post[i] = nums[i] * post[i + 1]\n",
    "        \n",
    "        for i in range(len(nums)):\n",
    "            if i - 1 == -1: \n",
    "                res[i] = post[i + 1]\n",
    "            elif i + 1 == len(nums):\n",
    "                res[i] = pre[i - 1]\n",
    "            else:\n",
    "                res[i] = pre[i - 1] * post[i + 1]\n",
    "\n",
    "        return res\n",
    "\n",
    "    ## Using constant space\n",
    "    def productExceptSelf(self, nums: List[int]) -> List[int]: # n; space is constant\n",
    "        res = [1] * len(nums)\n",
    "\n",
    "        pre = 1\n",
    "        for i in range(len(nums)):\n",
    "            res[i] = pre\n",
    "            pre *= nums[i]\n",
    "\n",
    "        post = 1\n",
    "        for i in range(len(nums) -1 , -1, -1):\n",
    "            res[i] *= post\n",
    "            post *= nums[i]\n",
    "\n",
    "        return res\n",
    "\n",
    "sol = Solution()\n",
    "print(sol.productExceptSelf([1,2,3,4]))\n",
    "print(sol.productExceptSelf([-1,1,0,-3,3]))"
   ]
  },
  {
   "attachments": {},
   "cell_type": "markdown",
   "metadata": {},
   "source": [
    "##### 659.Encode and Decode Strings"
   ]
  },
  {
   "cell_type": "code",
   "execution_count": 28,
   "metadata": {},
   "outputs": [
    {
     "name": "stdout",
     "output_type": "stream",
     "text": [
      "4;lint4;code4;love3;you ['lint', 'code', 'love', 'you'] True\n",
      "2;we3;say1;:3;yes ['we', 'say', ':', 'yes'] True\n"
     ]
    }
   ],
   "source": [
    "class Solution:\n",
    "    def encode(self, strs: List[str]) -> str:\n",
    "        res = \"\"\n",
    "        for word in strs:\n",
    "            res += str(len(word)) + ';' + word\n",
    "        \n",
    "        return res\n",
    "\n",
    "    def decode(self, str: str) -> List[str]:\n",
    "        res = []\n",
    "        i = 0\n",
    "        \n",
    "        while i < len(str):\n",
    "            num = ''\n",
    "            while str[i] != ';':\n",
    "                num += str[i]\n",
    "                i += 1\n",
    "            length = int(num)\n",
    "            \n",
    "            i += 1\n",
    "            \n",
    "            word = ''\n",
    "            while length != 0:\n",
    "                word += str[i]\n",
    "                length -= 1\n",
    "                i +=1\n",
    "            \n",
    "            res.append(word)\n",
    "        \n",
    "        return res\n",
    "\n",
    "sol = Solution()\n",
    "enc = sol.encode([\"lint\",\"code\",\"love\",\"you\"])\n",
    "dec = sol.decode(enc)\n",
    "print(enc, dec, [\"lint\",\"code\",\"love\",\"you\"] == dec)\n",
    "\n",
    "enc = sol.encode([\"we\", \"say\", \":\", \"yes\"])\n",
    "dec = sol.decode(enc)\n",
    "print(enc, dec, [\"we\", \"say\", \":\", \"yes\"] == dec)"
   ]
  },
  {
   "attachments": {},
   "cell_type": "markdown",
   "metadata": {},
   "source": [
    "##### 128.Longest Consecutive Sequence"
   ]
  },
  {
   "cell_type": "code",
   "execution_count": 84,
   "metadata": {},
   "outputs": [
    {
     "name": "stdout",
     "output_type": "stream",
     "text": [
      "4\n",
      "9\n",
      "0\n"
     ]
    }
   ],
   "source": [
    "class Solution:\n",
    "    def longestConsecutive1(self, nums: List[int]) -> int: ## Stores the sequences too\n",
    "        nums = set(nums)\n",
    "        consecutives = []\n",
    "        \n",
    "        for num in nums:\n",
    "            if num - 1 not in nums:\n",
    "                seq = [num]\n",
    "                while num + 1 in nums:\n",
    "                    seq.append(num + 1)\n",
    "                    num = num + 1\n",
    "                consecutives.append(seq)\n",
    "\n",
    "        return len(max(consecutives, key=len))\n",
    "\n",
    "    #O(n)\n",
    "    def longestConsecutive(self, nums: List[int]) -> int:\n",
    "        nums = set(nums)\n",
    "        longest = 0\n",
    "        \n",
    "        for num in nums:\n",
    "            if num - 1 not in nums:\n",
    "                length = 1\n",
    "                while num + 1 in nums:\n",
    "                    length += 1\n",
    "                    num = num + 1\n",
    "                longest = max(longest, length)\n",
    "\n",
    "        return longest\n",
    "\n",
    "sol = Solution()\n",
    "print(sol.longestConsecutive([100,4,200,1,3,2]))\n",
    "print(sol.longestConsecutive([0,3,7,2,5,8,4,6,0,1]))\n",
    "print(sol.longestConsecutive([]))"
   ]
  },
  {
   "attachments": {},
   "cell_type": "markdown",
   "metadata": {},
   "source": [
    "##### 167.Two Sum II - Input Array Is Sorted"
   ]
  },
  {
   "cell_type": "code",
   "execution_count": 94,
   "metadata": {},
   "outputs": [
    {
     "name": "stdout",
     "output_type": "stream",
     "text": [
      "[1, 2]\n",
      "[1, 3]\n",
      "[1, 2]\n"
     ]
    }
   ],
   "source": [
    "class Solution:\n",
    "    ## Same as two sum\n",
    "    def twoSum1(self, numbers: List[int], target: int) -> List[int]:\n",
    "        tempMap = {}\n",
    "\n",
    "        for i in range(len(numbers)):\n",
    "            if target - numbers[i] in tempMap:\n",
    "                return [tempMap[target - numbers[i]] + 1, i + 1]\n",
    "            tempMap[numbers[i]] = i\n",
    "\n",
    "    def twoSum(self, numbers: List[int], target: int) -> List[int]:\n",
    "        l, r = 0, len(numbers) - 1\n",
    "    \n",
    "        while l < r:\n",
    "            if numbers[l] + numbers[r] == target:\n",
    "                return [l + 1, r + 1]\n",
    "            elif numbers[l] + numbers[r] > target:\n",
    "                r -= 1\n",
    "            else:\n",
    "                l += 1\n",
    "\n",
    "sol = Solution()\n",
    "print(sol.twoSum([2,7,11,15], 9))\n",
    "print(sol.twoSum([2,3,4], 6))\n",
    "print(sol.twoSum([-1,0], -1))"
   ]
  },
  {
   "attachments": {},
   "cell_type": "markdown",
   "metadata": {},
   "source": [
    "##### 36.Valid Sudoku"
   ]
  },
  {
   "cell_type": "code",
   "execution_count": 47,
   "metadata": {},
   "outputs": [
    {
     "name": "stdout",
     "output_type": "stream",
     "text": [
      "True\n",
      "False\n"
     ]
    }
   ],
   "source": [
    "class Solution:\n",
    "    def isValidSudoku(self, board: List[List[str]]) -> bool:\n",
    "        # Check row\n",
    "        for row in board:\n",
    "            row = [i for i in row if i != '.']\n",
    "            if len(row) != len(set(row)):\n",
    "                return False\n",
    "\n",
    "        # Column Check\n",
    "        for i in range(9):\n",
    "            col = [board[j][i] for j in range(9) if board[j][i] != '.']\n",
    "            if len(col) != len(set(col)):\n",
    "                return False\n",
    "\n",
    "        # Box check\n",
    "        def boxcheck(start, end):\n",
    "            box = []\n",
    "            for i in range(0, 3):\n",
    "                for j in range(0, 3):\n",
    "                    val = board[start + i][end + j]\n",
    "                    if val != '.':\n",
    "                        box.append(val)\n",
    "\n",
    "            return len(box) == len(set(box))\n",
    "\n",
    "        for i in range(0, 9, 3):\n",
    "            for j in range(0, 9, 3):\n",
    "                if not boxcheck(i, j):\n",
    "                    return False\n",
    "\n",
    "        return True\n",
    "\n",
    "    def isValidSudoku1(self, board: List[List[str]]) -> bool:\n",
    "        cols = collections.defaultdict(set)\n",
    "        rows = collections.defaultdict(set)\n",
    "        squares = collections.defaultdict(set)  # key = (r /3, c /3)\n",
    "\n",
    "        for r in range(9):\n",
    "            for c in range(9):\n",
    "                if board[r][c] == \".\":\n",
    "                    continue\n",
    "                if (\n",
    "                    board[r][c] in rows[r]\n",
    "                    or board[r][c] in cols[c]\n",
    "                    or board[r][c] in squares[(r // 3, c // 3)]\n",
    "                ):\n",
    "                    return False\n",
    "                cols[c].add(board[r][c])\n",
    "                rows[r].add(board[r][c])\n",
    "                squares[(r // 3, c // 3)].add(board[r][c])\n",
    "\n",
    "        return True\n",
    "\n",
    "sol = Solution()\n",
    "print(sol.isValidSudoku([[\"5\",\"3\",\".\",\".\",\"7\",\".\",\".\",\".\",\".\"]\n",
    ",[\"6\",\".\",\".\",\"1\",\"9\",\"5\",\".\",\".\",\".\"]\n",
    ",[\".\",\"9\",\"8\",\".\",\".\",\".\",\".\",\"6\",\".\"]\n",
    ",[\"8\",\".\",\".\",\".\",\"6\",\".\",\".\",\".\",\"3\"]\n",
    ",[\"4\",\".\",\".\",\"8\",\".\",\"3\",\".\",\".\",\"1\"]\n",
    ",[\"7\",\".\",\".\",\".\",\"2\",\".\",\".\",\".\",\"6\"]\n",
    ",[\".\",\"6\",\".\",\".\",\".\",\".\",\"2\",\"8\",\".\"]\n",
    ",[\".\",\".\",\".\",\"4\",\"1\",\"9\",\".\",\".\",\"5\"]\n",
    ",[\".\",\".\",\".\",\".\",\"8\",\".\",\".\",\"7\",\"9\"]])) #True\n",
    "\n",
    "print(sol.isValidSudoku([[\"8\",\"3\",\".\",\".\",\"7\",\".\",\".\",\".\",\".\"]\n",
    ",[\"6\",\".\",\".\",\"1\",\"9\",\"5\",\".\",\".\",\".\"]\n",
    ",[\".\",\"9\",\"8\",\".\",\".\",\".\",\".\",\"6\",\".\"]\n",
    ",[\"8\",\".\",\".\",\".\",\"6\",\".\",\".\",\".\",\"3\"]\n",
    ",[\"4\",\".\",\".\",\"8\",\".\",\"3\",\".\",\".\",\"1\"]\n",
    ",[\"7\",\".\",\".\",\".\",\"2\",\".\",\".\",\".\",\"6\"]\n",
    ",[\".\",\"6\",\".\",\".\",\".\",\".\",\"2\",\"8\",\".\"]\n",
    ",[\".\",\".\",\".\",\"4\",\"1\",\"9\",\".\",\".\",\"5\"]\n",
    ",[\".\",\".\",\".\",\".\",\"8\",\".\",\".\",\"7\",\"9\"]])) #False"
   ]
  },
  {
   "attachments": {},
   "cell_type": "markdown",
   "metadata": {},
   "source": [
    "##### 1930.Unique Length-3 Palindromic Subsequences"
   ]
  },
  {
   "cell_type": "code",
   "execution_count": 79,
   "metadata": {},
   "outputs": [
    {
     "name": "stdout",
     "output_type": "stream",
     "text": [
      "3\n",
      "0\n",
      "4\n"
     ]
    }
   ],
   "source": [
    "class Solution:\n",
    "    def countPalindromicSubsequence(self, s: str) -> int:\n",
    "        right = defaultdict(int)\n",
    "\n",
    "        for c in s:\n",
    "            right[c] += 1\n",
    "\n",
    "        left = set()\n",
    "        res = set()\n",
    "\n",
    "        for c in s:\n",
    "            right[c] -= 1\n",
    "            if right[c] == 0:\n",
    "                del right[c]\n",
    "\n",
    "            for i in range(26):\n",
    "                mid = chr(ord('a') + i)\n",
    "\n",
    "                if mid in left and mid in right:\n",
    "                    res.add((mid, c))\n",
    "            \n",
    "            left.add(c)\n",
    "        \n",
    "        return len(res)\n",
    "\n",
    "\n",
    "sol = Solution()\n",
    "print(sol.countPalindromicSubsequence(\"aabca\")) #3\n",
    "print(sol.countPalindromicSubsequence(\"adc\")) #0\n",
    "print(sol.countPalindromicSubsequence(\"bbcbaba\")) #4"
   ]
  },
  {
   "attachments": {},
   "cell_type": "markdown",
   "metadata": {},
   "source": [
    "##### 151.Reverse Words in a String\n"
   ]
  },
  {
   "cell_type": "code",
   "execution_count": 26,
   "metadata": {},
   "outputs": [
    {
     "name": "stdout",
     "output_type": "stream",
     "text": [
      "blue is sky the\n",
      "world hello\n",
      "example good a\n"
     ]
    }
   ],
   "source": [
    "class Solution:\n",
    "    def reverseWords(self, s: str) -> str:\n",
    "        words = s.split(\" \")\n",
    "        words = [w for w in words if len(w) > 0]\n",
    "        return ' '.join(words[::-1])\n",
    "\n",
    "sol = Solution()\n",
    "print(sol.reverseWords(\"the sky is blue\")) #\"blue is sky the\"\n",
    "print(sol.reverseWords(\"  hello world  \")) #\"world hello\"\n",
    "print(sol.reverseWords(\"a good   example\")) #\"example good a\"\n"
   ]
  },
  {
   "attachments": {},
   "cell_type": "markdown",
   "metadata": {},
   "source": [
    "##### 334.Increasing Triplet Subsequence\n"
   ]
  },
  {
   "cell_type": "code",
   "execution_count": 37,
   "metadata": {},
   "outputs": [
    {
     "name": "stdout",
     "output_type": "stream",
     "text": [
      "True\n",
      "False\n",
      "True\n"
     ]
    }
   ],
   "source": [
    "class Solution:\n",
    "    def increasingTriplet1(self, nums: List[int]) -> bool:\n",
    "        if len(nums) < 3:\n",
    "            return False\n",
    "        \n",
    "        q = []\n",
    "        q.append(nums[0])\n",
    "        i = 1\n",
    "        while i < len(nums):\n",
    "            while q and nums[i] < q[-1]:\n",
    "                q.pop()\n",
    "            q.append(nums[i])\n",
    "            i += 1\n",
    "            if len(q) == 3:\n",
    "                return True\n",
    "        \n",
    "        return False\n",
    "    \n",
    "    def increasingTriplet(self, nums: List[int]) -> bool:\n",
    "        a = b = float('inf')\n",
    "\n",
    "        for num in nums:\n",
    "            if num <= a:\n",
    "                a = num\n",
    "            elif num <= b:\n",
    "                b = num\n",
    "            else:\n",
    "                return True\n",
    "        \n",
    "        return False\n",
    "\n",
    "sol = Solution()\n",
    "print(sol.increasingTriplet([1,2,3,4,5])) #True\n",
    "print(sol.increasingTriplet([5,4,3,2,1])) #False\n",
    "print(sol.increasingTriplet([2,1,5,0,4,6,1])) #True"
   ]
  },
  {
   "cell_type": "markdown",
   "metadata": {},
   "source": [
    "##### 2483.Minimum Penalty for a Shop"
   ]
  },
  {
   "cell_type": "code",
   "execution_count": null,
   "metadata": {},
   "outputs": [
    {
     "name": "stdout",
     "output_type": "stream",
     "text": [
      "2\n",
      "0\n",
      "4\n",
      "5\n"
     ]
    }
   ],
   "source": [
    "class Solution:\n",
    "    def bestClosingTime(self, customers: str) -> int:\n",
    "        cus_len = len(customers)\n",
    "        \n",
    "        open_pen = [0] * (cus_len + 1) # penalty caused by N when open\n",
    "        close_pen = [0] * (cus_len + 1) # penalty caused by Y when closed\n",
    "\n",
    "        for i in range(1, cus_len + 1):\n",
    "            open_pen[i] = open_pen[i -1]\n",
    "            if customers[i - 1] == 'N':\n",
    "                open_pen[i] += 1\n",
    "        \n",
    "        for i in range(cus_len -1, -1, -1):\n",
    "            close_pen[i] = close_pen[i + 1]\n",
    "            if customers[i] == 'Y':\n",
    "                close_pen[i] += 1\n",
    "\n",
    "        \n",
    "        min_penalty, close_pos = float('inf'), 0\n",
    "\n",
    "        for i in range(cus_len + 1):\n",
    "            curr_pen = open_pen[i] + close_pen[i]\n",
    "            if curr_pen < min_penalty:\n",
    "                min_penalty = curr_pen\n",
    "                close_pos = i\n",
    "        \n",
    "        return close_pos\n",
    "\n",
    "\n",
    "\n",
    "sol = Solution()\n",
    "print(sol.bestClosingTime(\"YYNY\")) #2\n",
    "print(sol.bestClosingTime(\"NNNNN\")) #0\n",
    "print(sol.bestClosingTime(\"YYYY\")) #4\n",
    "print(sol.bestClosingTime(\"NYNYY\")) #5"
   ]
  },
  {
   "cell_type": "markdown",
   "metadata": {},
   "source": [
    "##### 1282.Group the People Given the Group Size They Belong To"
   ]
  },
  {
   "cell_type": "code",
   "execution_count": 35,
   "metadata": {},
   "outputs": [
    {
     "name": "stdout",
     "output_type": "stream",
     "text": [
      "[[0, 1, 2], [3, 4, 6], [5]]\n",
      "[[0, 5], [1], [2, 3, 4]]\n"
     ]
    }
   ],
   "source": [
    "class Solution:\n",
    "    def groupThePeople_old(self, groupSizes: List[int]) -> List[List[int]]:\n",
    "        res = []\n",
    "        n = len(groupSizes)\n",
    "        size_map = defaultdict(lambda:[0, []])\n",
    "\n",
    "        for i in range(n):\n",
    "            curr_size = groupSizes[i]\n",
    "            size_map[curr_size][0] += 1\n",
    "            size_map[curr_size][1].append(i)\n",
    "\n",
    "            if size_map[curr_size][0] == curr_size:\n",
    "                res.append(size_map[curr_size][1])\n",
    "                size_map[curr_size] = [0, []]\n",
    "        return res\n",
    "\n",
    "    def groupThePeople(self, groupSizes: List[int]) -> List[List[int]]:\n",
    "        size_map = {}\n",
    "        for idx, size in enumerate(groupSizes):\n",
    "            if size not in size_map:\n",
    "                size_map[size] = [[idx]]\n",
    "            else:\n",
    "                if len(size_map.get(size)[-1]) < size:\n",
    "                    size_map[size][-1].append(idx)\n",
    "                else:\n",
    "                    size_map[size].append([idx])\n",
    "\n",
    "        res = []\n",
    "        for item in list(size_map.values()):\n",
    "            res.extend(item)\n",
    "            \n",
    "        return res\n",
    "\n",
    "sol = Solution()\n",
    "print(sol.groupThePeople([3,3,3,3,3,1,3])) #[[5],[0,1,2],[3,4,6]]\n",
    "print(sol.groupThePeople([2,1,3,3,3,2])) #[[1],[0,5],[2,3,4]]"
   ]
  },
  {
   "cell_type": "markdown",
   "metadata": {},
   "source": [
    "##### 1647.Minimum Deletions to Make Character Frequencies Unique"
   ]
  },
  {
   "cell_type": "code",
   "execution_count": 78,
   "metadata": {},
   "outputs": [
    {
     "name": "stdout",
     "output_type": "stream",
     "text": [
      "0\n",
      "2\n",
      "2\n"
     ]
    }
   ],
   "source": [
    "class Solution:\n",
    "    def minDeletions(self, s: str) -> int:\n",
    "        count_map = Counter(s)\n",
    "        freq = set()\n",
    "        res = 0\n",
    "        for ch, cnt in count_map.items():\n",
    "            while cnt > 0 and cnt in freq:\n",
    "                cnt -= 1\n",
    "                res += 1\n",
    "            \n",
    "            freq.add(cnt)\n",
    "\n",
    "        return res\n",
    "\n",
    "\n",
    "sol = Solution()\n",
    "print(sol.minDeletions(\"aab\")) #0\n",
    "print(sol.minDeletions(\"aaabbbcc\")) #2\n",
    "print(sol.minDeletions(\"ceabaacb\")) #2"
   ]
  },
  {
   "cell_type": "markdown",
   "metadata": {},
   "source": [
    "##### 880.Decoded String at Index"
   ]
  },
  {
   "cell_type": "code",
   "execution_count": null,
   "metadata": {},
   "outputs": [
    {
     "name": "stdout",
     "output_type": "stream",
     "text": [
      "o\n",
      "h\n",
      "a\n",
      "b\n"
     ]
    }
   ],
   "source": [
    "class Solution:\n",
    "    # Wrong - entire old string is reapeated whenever a number comes up\n",
    "    # here the consideration is only the new word repeats\n",
    "    # also consider each digit at a time, do not take the whole number\n",
    "    def decodeAtIndex_(self, s: str, k: int) -> str:\n",
    "        if k == 1: return s[0]\n",
    "\n",
    "        word_start = 0\n",
    "        reps, num_start = 0, -1\n",
    "        for j in range(len(s)):\n",
    "            if s[j].isnumeric():\n",
    "                if num_start == -1:\n",
    "                    num_start = j\n",
    "                reps = (reps * 10 + int(s[j])) % (10 ** 9 + 7)\n",
    "                \n",
    "                word_len = num_start - word_start\n",
    "                if reps * (word_len) >= k:\n",
    "                    letter_pos = (k % word_len if k >= word_len else word_len % k) - 1\n",
    "                    return s[word_start:num_start][letter_pos]\n",
    "            else:\n",
    "                if num_start != -1:\n",
    "                    k -= reps * (num_start - word_start)\n",
    "                    reps = 0\n",
    "                    word_start = j\n",
    "                    num_start = -1\n",
    "\n",
    "                if j - word_start + 1 == k:\n",
    "                    return s[j]\n",
    "                \n",
    "    def decodeAtIndex(self, s: str, k: int) -> str:\n",
    "        size = 0\n",
    "        for ch in s:\n",
    "            if ch.isdigit():\n",
    "                size *= int(ch)\n",
    "            else:\n",
    "                size += 1\n",
    "        \n",
    "        for ch in reversed(s):\n",
    "            k %= size\n",
    "            if k == 0 and ch.isalpha():\n",
    "                return ch\n",
    "            if ch.isdigit():\n",
    "                size /= int(ch)\n",
    "            else:\n",
    "                size -= 1\n",
    "\n",
    "\n",
    "\n",
    "sol = Solution()\n",
    "print(sol.decodeAtIndex(\"leet2code3\", 10)) #o\n",
    "print(sol.decodeAtIndex(\"ha22\", 5)) #h\n",
    "print(sol.decodeAtIndex(\"a2345678999999999999999\", 1)) #a\n",
    "print(sol.decodeAtIndex(\"a2b3c4d5e6f7g8h9\", 9)) #b"
   ]
  },
  {
   "cell_type": "markdown",
   "metadata": {},
   "source": [
    "##### 1861.Rotating the Box"
   ]
  },
  {
   "cell_type": "code",
   "execution_count": 39,
   "metadata": {},
   "outputs": [
    {
     "name": "stdout",
     "output_type": "stream",
     "text": [
      "[['.'], ['#'], ['#']]\n",
      "[['#', '.'], ['#', '#'], ['*', '*'], ['.', '.']]\n",
      "[['.', '#', '#'], ['.', '#', '#'], ['#', '#', '*'], ['#', '*', '.'], ['#', '.', '*'], ['#', '.', '.']]\n"
     ]
    }
   ],
   "source": [
    "class Solution:\n",
    "    def rotateTheBox_(self, box: List[List[str]]) -> List[List[str]]:\n",
    "        ROWS, COLS = len(box), len(box[0])\n",
    "        res = [[''] * ROWS for _ in range(COLS)]\n",
    "\n",
    "       # Rotating by 90\n",
    "        for i in range(COLS):\n",
    "            for j in range(ROWS - 1, -1, -1):\n",
    "                res[i][ROWS - 1 - j] = box[j][i]\n",
    "        \n",
    "        # Applying Gravity\n",
    "        for i in range(ROWS):\n",
    "            fall_pos = COLS - 1\n",
    "            for j in range(fall_pos, -1, -1):\n",
    "                if res[j][i] == '#':\n",
    "                    res[j][i] = '.'\n",
    "                    res[fall_pos][i] = '#'\n",
    "                    fall_pos -= 1\n",
    "                elif res[j][i] == '*':\n",
    "                    fall_pos = j - 1\n",
    "        \n",
    "        return res\n",
    "\n",
    "    def rotateTheBox(self, box: List[List[str]]) -> List[List[str]]:\n",
    "        ROWS, COLS = len(box), len(box[0])\n",
    "        res = [[''] * ROWS for _ in range(COLS)]\n",
    "\n",
    "       # Rotating by 90\n",
    "        for r in range(ROWS):\n",
    "            for c in range(COLS):\n",
    "                res[c][ROWS - r - 1] = box[r][c]\n",
    "        \n",
    "        # Applying Gravity\n",
    "        for c in range(ROWS):\n",
    "            fall_pos = COLS - 1\n",
    "            for r in range(COLS - 1, -1, -1):\n",
    "                if res[r][c] == '*':\n",
    "                    fall_pos = r - 1\n",
    "                elif res[r][c] == '#':\n",
    "                    res[r][c] = '.'\n",
    "                    res[fall_pos][c] = '#'\n",
    "                    fall_pos -= 1\n",
    "        \n",
    "        return res\n",
    "\n",
    "\n",
    "sol = Solution()\n",
    "print(sol.rotateTheBox([[\"#\",\".\",\"#\"]])) # [[\".\"],[\"#\"],[\"#\"]]\n",
    "print(sol.rotateTheBox([[\"#\",\".\",\"*\",\".\"],\n",
    "              [\"#\",\"#\",\"*\",\".\"]])) # [[\"#\",\".\"],[\"#\",\"#\"],[\"*\",\"*\"],[\".\",\".\"]]\n",
    "print(sol.rotateTheBox([[\"#\",\"#\",\"*\",\".\",\"*\",\".\"],\n",
    "              [\"#\",\"#\",\"#\",\"*\",\".\",\".\"],\n",
    "              [\"#\",\"#\",\"#\",\".\",\"#\",\".\"]])) # [[\".\",\"#\",\"#\"],[\".\",\"#\",\"#\"],[\"#\",\"#\",\"*\"],[\"#\",\"*\",\".\"],[\"#\",\".\",\"*\"],[\"#\",\".\",\".\"]]"
   ]
  },
  {
   "cell_type": "markdown",
   "metadata": {},
   "source": [
    "##### 2038.Remove Colored Pieces if Both Neighbors are the Same Color"
   ]
  },
  {
   "cell_type": "code",
   "execution_count": 26,
   "metadata": {},
   "outputs": [
    {
     "name": "stdout",
     "output_type": "stream",
     "text": [
      "True\n",
      "False\n",
      "False\n"
     ]
    }
   ],
   "source": [
    "class Solution:\n",
    "    def winnerOfGame(self, colors: str) -> bool:\n",
    "        if len(colors) < 3:\n",
    "            return False\n",
    "\n",
    "        A_wins, B_wins = 0, 0\n",
    "\n",
    "        for idx in range(1, len(colors) - 1):\n",
    "            if colors[idx - 1] == colors[idx] == colors[idx + 1]:\n",
    "                if colors[idx] == 'A':\n",
    "                    A_wins += 1\n",
    "                else:\n",
    "                    B_wins += 1\n",
    "\n",
    "        return A_wins - B_wins >= 1\n",
    "\n",
    "sol = Solution()\n",
    "print(sol.winnerOfGame(\"AAABABB\")) # True\n",
    "print(sol.winnerOfGame(\"AA\")) # False\n",
    "print(sol.winnerOfGame(\"ABBBBBBBAAA\")) # False"
   ]
  },
  {
   "cell_type": "markdown",
   "metadata": {},
   "source": [
    "##### 1366.Rank Teams by Votes"
   ]
  },
  {
   "cell_type": "code",
   "execution_count": 43,
   "metadata": {},
   "outputs": [
    {
     "name": "stdout",
     "output_type": "stream",
     "text": [
      "ACB\n",
      "XWYZ\n",
      "ZMNAGUEDSJYLBOPHRQICWFXTVK\n"
     ]
    }
   ],
   "source": [
    "class Solution:\n",
    "    def rankTeams(self, votes: List[str]) -> str:\n",
    "        vote_map = {}\n",
    "\n",
    "        for vote in votes:\n",
    "            for idx, ch in enumerate(vote):\n",
    "                if ch not in vote_map:\n",
    "                    vote_map[ch] = [0] * len(vote)\n",
    "                vote_map[ch][idx] += 1\n",
    "        \n",
    "        res = sorted(vote_map.keys())\n",
    "        return \"\".join(sorted(res, key = lambda x: vote_map[x], reverse=True))\n",
    "                \n",
    "                \n",
    "\n",
    "sol = Solution()\n",
    "print(sol.rankTeams([\"ABC\",\"ACB\",\"ABC\",\"ACB\",\"ACB\"])) #ACB\n",
    "print(sol.rankTeams([\"WXYZ\",\"XYZW\"])) #XWYZ\n",
    "print(sol.rankTeams([\"ZMNAGUEDSJYLBOPHRQICWFXTVK\"])) #ZMNAGUEDSJYLBOPHRQICWFXTVK"
   ]
  },
  {
   "cell_type": "markdown",
   "metadata": {},
   "source": [
    "##### 799.Champagne Tower"
   ]
  },
  {
   "cell_type": "code",
   "execution_count": 63,
   "metadata": {},
   "outputs": [
    {
     "name": "stdout",
     "output_type": "stream",
     "text": [
      "0\n",
      "0.5\n",
      "1\n"
     ]
    }
   ],
   "source": [
    "class Solution:\n",
    "    def champagneTower(self, poured: int, query_row: int, query_glass: int) -> float:\n",
    "        prev_row = [poured]\n",
    "\n",
    "        for r in range(1, query_row + 1):\n",
    "            curr_row = [0] * (r + 1)\n",
    "            for c in range(r):\n",
    "                rem = prev_row[c] - 1\n",
    "                if rem > 0:\n",
    "                    curr_row[c] += 0.5 * rem\n",
    "                    curr_row[c + 1] += 0.5 * rem\n",
    "            \n",
    "            prev_row = curr_row\n",
    "\n",
    "        return min(1, prev_row[query_glass])\n",
    "\n",
    "sol = Solution()\n",
    "print(sol.champagneTower(poured = 1, query_row = 1, query_glass = 1)) #0\n",
    "print(sol.champagneTower(poured = 2, query_row = 1, query_glass = 1)) #0.5\n",
    "print(sol.champagneTower(poured = 100000009, query_row = 33, query_glass = 17)) #1"
   ]
  },
  {
   "cell_type": "markdown",
   "metadata": {},
   "source": [
    "##### 453.Minimum Moves to Equal Array Elements"
   ]
  },
  {
   "cell_type": "code",
   "execution_count": 18,
   "metadata": {},
   "outputs": [
    {
     "name": "stdout",
     "output_type": "stream",
     "text": [
      "3\n",
      "0\n"
     ]
    }
   ],
   "source": [
    "class Solution:\n",
    "    def minMoves(self, nums: List[int]) -> int:\n",
    "        res = 0\n",
    "        nums.sort()\n",
    "\n",
    "        for idx in range(len(nums) - 1, 0, -1):\n",
    "            diff = nums[idx] - nums[0]\n",
    "            res += diff\n",
    "\n",
    "        return res\n",
    "        # return sum(nums)-len(nums)*min(nums)\n",
    "\n",
    "sol = Solution()\n",
    "print(sol.minMoves([1,2,3])) #3\n",
    "print(sol.minMoves([1,1,1])) #0"
   ]
  },
  {
   "cell_type": "markdown",
   "metadata": {},
   "source": [
    "##### 1328.Break a Palindrome"
   ]
  },
  {
   "cell_type": "code",
   "execution_count": 21,
   "metadata": {},
   "outputs": [
    {
     "name": "stdout",
     "output_type": "stream",
     "text": [
      "aaccba\n",
      "\n",
      "aabba\n",
      "ab\n"
     ]
    }
   ],
   "source": [
    "class Solution:\n",
    "    def breakPalindrome(self, palindrome: str) -> str:\n",
    "        if len(palindrome) == 1: return \"\"\n",
    "\n",
    "        for idx in range(len(palindrome)//2):\n",
    "            if not palindrome[idx] == 'a':\n",
    "                return palindrome[:idx] + 'a' + palindrome[idx + 1:]\n",
    "        \n",
    "        return palindrome[:-1] + 'b'\n",
    "\n",
    "sol = Solution()\n",
    "print(sol.breakPalindrome(\"abccba\")) #\"aaccba\"\n",
    "print(sol.breakPalindrome(\"a\")) #\"\"\n",
    "print(sol.breakPalindrome(\"abbba\")) #\"aabba\"\n",
    "print(sol.breakPalindrome(\"aa\")) #\"ab\""
   ]
  },
  {
   "cell_type": "markdown",
   "metadata": {},
   "source": [
    "##### 179.Largest Number"
   ]
  },
  {
   "cell_type": "code",
   "execution_count": 31,
   "metadata": {},
   "outputs": [
    {
     "name": "stdout",
     "output_type": "stream",
     "text": [
      "210\n",
      "9534330\n"
     ]
    }
   ],
   "source": [
    "from functools import cmp_to_key\n",
    "class Solution:\n",
    "    def largestNumber(self, nums: List[int]) -> str:\n",
    "        def compare(a, b):\n",
    "            return int(str(a) + str(b)) - int(str(b) + str(a))\n",
    "\n",
    "        nums.sort(key = cmp_to_key(compare), reverse = True)\n",
    "        return ''.join(str(num) for num in nums)\n",
    "\n",
    "sol = Solution()\n",
    "print(sol.largestNumber([10,2])) #210\n",
    "print(sol.largestNumber([3,30,34,5,9])) #9534330"
   ]
  },
  {
   "cell_type": "markdown",
   "metadata": {},
   "source": [
    "##### 1963.Minimum Number of Swaps to Make the String Balanced"
   ]
  },
  {
   "cell_type": "code",
   "execution_count": 32,
   "metadata": {},
   "outputs": [
    {
     "name": "stdout",
     "output_type": "stream",
     "text": [
      "1\n",
      "2\n",
      "0\n"
     ]
    }
   ],
   "source": [
    "class Solution:\n",
    "    def minSwaps(self, s: str) -> int:\n",
    "        close = 0\n",
    "        max_close = 0\n",
    "        for ch in s:\n",
    "            if ch == ']':\n",
    "                close += 1\n",
    "            else: \n",
    "                close -= 1\n",
    "            max_close = max(max_close, close)\n",
    "\n",
    "        return (max_close + 1)//2\n",
    "\n",
    "\n",
    "sol = Solution()\n",
    "print(sol.minSwaps(\"][][\")) #1\n",
    "print(sol.minSwaps(\"]]][[[\")) #2\n",
    "print(sol.minSwaps(\"[]\")) #0"
   ]
  },
  {
   "cell_type": "markdown",
   "metadata": {},
   "source": [
    "##### 2023.Number of Pairs of Strings With Concatenation Equal to Target"
   ]
  },
  {
   "cell_type": "code",
   "execution_count": 37,
   "metadata": {},
   "outputs": [
    {
     "name": "stdout",
     "output_type": "stream",
     "text": [
      "4\n",
      "2\n",
      "6\n"
     ]
    }
   ],
   "source": [
    "class Solution:\n",
    "    def numOfPairs(self, nums: List[str], target: str) -> int:\n",
    "        cnt_map = defaultdict(int)\n",
    "        for i in range(len(nums)):\n",
    "            cnt_map[nums[i]] += 1\n",
    "        \n",
    "        res = 0\n",
    "        for idx in range(1, len(target)) :\n",
    "            a = target[:idx]\n",
    "            b = target[idx:]\n",
    "            if a == b :\n",
    "                res += (cnt_map[a]*(cnt_map[a]-1))\n",
    "            else :\n",
    "                res += (cnt_map[a]*cnt_map[b])\n",
    "        return res\n",
    "\n",
    "\n",
    "sol = Solution()\n",
    "print(sol.numOfPairs(nums = [\"777\",\"7\",\"77\",\"77\"], target = \"7777\")) #4\n",
    "print(sol.numOfPairs(nums = [\"123\",\"4\",\"12\",\"34\"], target = \"1234\")) #2\n",
    "print(sol.numOfPairs(nums = [\"1\",\"1\",\"1\"], target = \"11\")) #6"
   ]
  },
  {
   "cell_type": "markdown",
   "metadata": {},
   "source": [
    "##### 442.Find All Duplicates in an Array"
   ]
  },
  {
   "cell_type": "code",
   "execution_count": 94,
   "metadata": {},
   "outputs": [
    {
     "name": "stdout",
     "output_type": "stream",
     "text": [
      "[2, 3]\n",
      "[1]\n",
      "[]\n"
     ]
    }
   ],
   "source": [
    "class Solution:\n",
    "    def findDuplicates(self, nums: List[int]) -> List[int]:\n",
    "        res = []\n",
    "\n",
    "        for num in nums:\n",
    "            if nums[abs(num) - 1] < 0:\n",
    "                res.append(abs(num))\n",
    "            nums[abs(num) - 1] *= -1\n",
    "\n",
    "        return res\n",
    "\n",
    "\n",
    "sol = Solution()\n",
    "print(sol.findDuplicates([4,3,2,7,8,2,3,1])) #[2,3]\n",
    "print(sol.findDuplicates([1,1,2])) #[1]\n",
    "print(sol.findDuplicates([1])) #[]"
   ]
  },
  {
   "cell_type": "markdown",
   "metadata": {},
   "source": [
    "##### 341.Flatten Nested List Iterator"
   ]
  },
  {
   "cell_type": "code",
   "execution_count": null,
   "metadata": {},
   "outputs": [],
   "source": [
    "# \"\"\"\n",
    "# This is the interface that allows for creating nested lists.\n",
    "# You should not implement it, or speculate about its implementation\n",
    "# \"\"\"\n",
    "class NestedInteger:\n",
    "   def isInteger(self) -> bool:\n",
    "       \"\"\"\n",
    "       @return True if this NestedInteger holds a single integer, rather than a nested list.\n",
    "       \"\"\"\n",
    "       pass\n",
    "\n",
    "   def getInteger(self) -> int:\n",
    "       \"\"\"\n",
    "       @return the single integer that this NestedInteger holds, if it holds a single integer\n",
    "       Return None if this NestedInteger holds a nested list\n",
    "       \"\"\"\n",
    "       pass\n",
    "\n",
    "   def getList(self) -> [NestedInteger]:\n",
    "       \"\"\"\n",
    "       @return the nested list that this NestedInteger holds, if it holds a nested list\n",
    "       Return None if this NestedInteger holds a single integer\n",
    "       \"\"\"\n",
    "       pass\n",
    "\n",
    "class NestedIterator:\n",
    "    def __init__(self, nestedList: [NestedInteger]):\n",
    "        self.flat_list = []\n",
    "        self.fetchNums(nestedList)\n",
    "        self.idx = 0\n",
    "        self.flat_len = len(self.flat_list)\n",
    "    \n",
    "    def fetchNums(self, nestedList):\n",
    "        for n in nestedList:\n",
    "            if n.isInteger():\n",
    "                self.flat_list.append(n.getInteger())\n",
    "            else:\n",
    "                self.fetchNums(n.getList())\n",
    "\n",
    "    def next(self) -> int:\n",
    "        val = self.flat_list[self.idx]\n",
    "        self.idx += 1\n",
    "        return val\n",
    "    \n",
    "    def hasNext(self) -> bool:\n",
    "        return self.idx < self.flat_len\n",
    "\n",
    "\n",
    "# Your NestedIterator object will be instantiated and called as such:\n",
    "# i, v = NestedIterator(nestedList), []\n",
    "# while i.hasNext(): v.append(i.next())"
   ]
  },
  {
   "cell_type": "markdown",
   "metadata": {},
   "source": [
    "##### 1441.Build an Array With Stack Operations"
   ]
  },
  {
   "cell_type": "code",
   "execution_count": 15,
   "metadata": {},
   "outputs": [
    {
     "name": "stdout",
     "output_type": "stream",
     "text": [
      "['Push', 'Push', 'Pop', 'Push']\n",
      "['Push', 'Push', 'Push']\n",
      "['Push', 'Push']\n"
     ]
    }
   ],
   "source": [
    "class Solution:\n",
    "    def buildArray(self, target: List[int], n: int) -> List[str]:\n",
    "        tar_idx = 0\n",
    "        res = []\n",
    "\n",
    "        for num in range(1, n + 1):\n",
    "            res.append(\"Push\")\n",
    "            \n",
    "            if target[tar_idx] == num:\n",
    "                tar_idx += 1\n",
    "            else:\n",
    "                res.append(\"Pop\")\n",
    "            \n",
    "            if tar_idx == len(target):\n",
    "                break\n",
    "\n",
    "        return res\n",
    "        \n",
    "        res = []\n",
    "        s = set(target)\n",
    "        for i in range(1, target[-1] + 1):\n",
    "            res.append(\"Push\")\n",
    "            if i not in s:\n",
    "                res.append(\"Pop\")\n",
    "        return res\n",
    "\n",
    "sol = Solution()\n",
    "print(sol.buildArray(target = [1,3], n = 3)) #[\"Push\",\"Push\",\"Pop\",\"Push\"]\n",
    "print(sol.buildArray(target = [1,2,3], n = 3)) #[\"Push\",\"Push\",\"Push\"]\n",
    "print(sol.buildArray(target = [1,2], n = 4)) #[\"Push\",\"Push\"]"
   ]
  },
  {
   "cell_type": "markdown",
   "metadata": {},
   "source": [
    "##### 1503.Last Moment Before All Ants Fall Out of a Plank"
   ]
  },
  {
   "cell_type": "code",
   "execution_count": 5,
   "metadata": {},
   "outputs": [
    {
     "name": "stdout",
     "output_type": "stream",
     "text": [
      "4\n",
      "7\n",
      "7\n"
     ]
    }
   ],
   "source": [
    "class Solution:\n",
    "    def getLastMoment(self, n: int, left: List[int], right: List[int]) -> int:\n",
    "        if not left:\n",
    "            return n - min(right)\n",
    "        if not right:\n",
    "            return max(left)\n",
    "        return max(n - min(right), max(left))\n",
    "        return max(max(left) if left else 0, n - min(right) if right else 0)\n",
    "\n",
    "sol = Solution()\n",
    "print(sol.getLastMoment(n = 4, left = [4,3], right = [0,1])) #4\n",
    "print(sol.getLastMoment(n = 7, left = [], right = [0,1,2,3,4,5,6,7])) #7\n",
    "print(sol.getLastMoment(n = 7, left = [0,1,2,3,4,5,6,7], right = [])) #7"
   ]
  },
  {
   "cell_type": "markdown",
   "metadata": {},
   "source": [
    "##### 1535.Find the Winner of an Array Game"
   ]
  },
  {
   "cell_type": "code",
   "execution_count": 6,
   "metadata": {},
   "outputs": [
    {
     "name": "stdout",
     "output_type": "stream",
     "text": [
      "5\n",
      "3\n"
     ]
    }
   ],
   "source": [
    "class Solution:\n",
    "    def getWinner(self, arr: List[int], k: int) -> int:\n",
    "        if k >= len(arr):\n",
    "            return max(arr)\n",
    "        if k == 1:\n",
    "            return max(arr[0], arr[1])\n",
    "        \n",
    "        curr = arr[0]\n",
    "        curr_wins = 0\n",
    "\n",
    "        for idx in range(1, len(arr)):\n",
    "            if curr > arr[idx]:\n",
    "                curr_wins += 1\n",
    "            else:\n",
    "                curr = arr[idx]\n",
    "                curr_wins = 1\n",
    "\n",
    "            if curr_wins == k:\n",
    "                return curr\n",
    "            \n",
    "        return curr\n",
    "        \n",
    "\n",
    "sol = Solution()\n",
    "print(sol.getWinner(arr = [2,1,3,5,4,6,7], k = 2)) #5\n",
    "print(sol.getWinner(arr = [3,2,1], k = 10)) #3"
   ]
  },
  {
   "cell_type": "markdown",
   "metadata": {},
   "source": [
    "##### 1921.Eliminate Maximum Number of Monsters"
   ]
  },
  {
   "cell_type": "code",
   "execution_count": 13,
   "metadata": {},
   "outputs": [
    {
     "name": "stdout",
     "output_type": "stream",
     "text": [
      "3\n",
      "1\n",
      "1\n"
     ]
    }
   ],
   "source": [
    "class Solution:\n",
    "    def eliminateMaximum(self, dist: List[int], speed: List[int]) -> int:\n",
    "        time = [dist[i]/speed[i] for i in range(len(dist))]\n",
    "        time.sort()\n",
    "        curr_time = 0 \n",
    "        res = 0\n",
    "        for t in time:\n",
    "            if curr_time != 0 and curr_time >= t:\n",
    "                return res\n",
    "            res += 1\n",
    "            curr_time += 1\n",
    "\n",
    "        return res\n",
    "        time = sorted([dist[i]/speed[i] for i in range(len(dist))])\n",
    "        res = 0\n",
    "        for idx in range(len(time)):\n",
    "            if time[idx] <= idx:\n",
    "                break\n",
    "            res += 1\n",
    "\n",
    "        return res\n",
    "\n",
    "\n",
    "sol = Solution()\n",
    "print(sol.eliminateMaximum(dist = [1,3,4], speed = [1,1,1])) #3\n",
    "print(sol.eliminateMaximum(dist = [1,1,2,3], speed = [1,1,1,1])) #1\n",
    "print(sol.eliminateMaximum(dist = [3,2,4], speed = [5,3,2])) #1\n"
   ]
  },
  {
   "cell_type": "markdown",
   "metadata": {},
   "source": [
    "##### 2785.Sort Vowels in a String"
   ]
  },
  {
   "cell_type": "code",
   "execution_count": 3,
   "metadata": {},
   "outputs": [
    {
     "name": "stdout",
     "output_type": "stream",
     "text": [
      "lEOtcede\n",
      "lYmpH\n"
     ]
    }
   ],
   "source": [
    "class Solution:\n",
    "    def sortVowels(self, s: str) -> str:\n",
    "        s = list(s)\n",
    "        VOWELS_STR = \"aeiouAEIOU\"\n",
    "        vowels = []\n",
    "\n",
    "        for ch in s:\n",
    "            if ch in VOWELS_STR:\n",
    "                vowels.append(ch)\n",
    "\n",
    "        vowels.sort(key= lambda ch: ord(ch))\n",
    "        vow_pos = 0\n",
    "\n",
    "        for idx in range(len(s)):\n",
    "            if s[idx] in VOWELS_STR:\n",
    "                s[idx] = vowels[vow_pos]\n",
    "                vow_pos += 1\n",
    "\n",
    "        return ''.join(s)\n",
    "\n",
    "sol = Solution()\n",
    "print(sol.sortVowels(\"lEetcOde\")) #\"lEOtcede\"\n",
    "print(sol.sortVowels(\"lYmpH\")) #\"lYmpH\""
   ]
  },
  {
   "cell_type": "markdown",
   "metadata": {},
   "source": [
    "##### 1846.Maximum Element After Decreasing and Rearranging"
   ]
  },
  {
   "cell_type": "code",
   "execution_count": 6,
   "metadata": {},
   "outputs": [
    {
     "name": "stdout",
     "output_type": "stream",
     "text": [
      "2\n",
      "3\n",
      "5\n"
     ]
    }
   ],
   "source": [
    "class Solution:\n",
    "    def maximumElementAfterDecrementingAndRearranging(self, arr: List[int]) -> int:\n",
    "        arr.sort()\n",
    "        res = 1\n",
    "        for idx in range(1,len(arr)):\n",
    "            if arr[idx] > res:\n",
    "                res += 1\n",
    "        return res\n",
    "    \n",
    "        arr.sort()\n",
    "        arr[0] = 1\n",
    "        for idx in range(1,len(arr)):\n",
    "            if arr[idx] - arr[idx - 1] > 1:\n",
    "                arr[idx] = arr[idx - 1] + 1\n",
    "\n",
    "        return arr[-1]\n",
    "\n",
    "    \n",
    "sol = Solution()\n",
    "print(sol.maximumElementAfterDecrementingAndRearranging([2,2,1,2,1])) #2\n",
    "print(sol.maximumElementAfterDecrementingAndRearranging([100,1,1000])) #3\n",
    "print(sol.maximumElementAfterDecrementingAndRearranging([1,2,3,4,5])) #5"
   ]
  },
  {
   "cell_type": "markdown",
   "metadata": {},
   "source": [
    "##### 1877.Minimize Maximum Pair Sum in Array"
   ]
  },
  {
   "cell_type": "code",
   "execution_count": 4,
   "metadata": {},
   "outputs": [
    {
     "name": "stdout",
     "output_type": "stream",
     "text": [
      "7\n",
      "8\n"
     ]
    }
   ],
   "source": [
    "class Solution:\n",
    "    def minPairSum(self, nums: List[int]) -> int:\n",
    "        nums.sort()\n",
    "        res = float('-inf')\n",
    "\n",
    "        i, j = 0, len(nums) - 1\n",
    "\n",
    "        while i < j:\n",
    "            # res = max(res, nums[i] + nums[j]) # slower\n",
    "            if res < nums[i] + nums[j]:\n",
    "                res = nums[i] + nums[j]\n",
    "            i += 1\n",
    "            j -= 1\n",
    "\n",
    "        return res\n",
    "\n",
    "sol = Solution()\n",
    "print(sol.minPairSum([3,5,2,3])) #7\n",
    "print(sol.minPairSum([3,5,4,2,4,6])) #8"
   ]
  },
  {
   "cell_type": "markdown",
   "metadata": {},
   "source": [
    "##### 1887.Reduction Operations to Make the Array Elements Equal"
   ]
  },
  {
   "cell_type": "code",
   "execution_count": 11,
   "metadata": {},
   "outputs": [
    {
     "name": "stdout",
     "output_type": "stream",
     "text": [
      "3\n",
      "0\n",
      "4\n"
     ]
    }
   ],
   "source": [
    "class Solution:\n",
    "    def reductionOperations(self, nums: List[int]) -> int:\n",
    "        nums.sort(reverse=True)\n",
    "        res = 0\n",
    "        for idx in range(len(nums) - 1):\n",
    "            if nums[idx] > nums[idx + 1]:\n",
    "                res += idx + 1\n",
    "        return res\n",
    "\n",
    "sol = Solution()\n",
    "print(sol.reductionOperations([5,1,3])) #3\n",
    "print(sol.reductionOperations([1,1,1])) #0\n",
    "print(sol.reductionOperations([1,1,2,2,3])) #4"
   ]
  },
  {
   "cell_type": "markdown",
   "metadata": {},
   "source": [
    "##### 2391.Minimum Amount of Time to Collect Garbage"
   ]
  },
  {
   "cell_type": "code",
   "execution_count": 14,
   "metadata": {},
   "outputs": [
    {
     "name": "stdout",
     "output_type": "stream",
     "text": [
      "21\n",
      "37\n"
     ]
    }
   ],
   "source": [
    "class Solution:\n",
    "    def garbageCollection(self, garbage: List[str], travel: List[int]) -> int:\n",
    "        res = 0\n",
    "\n",
    "        for ch in \"MPG\":\n",
    "            tot_val = 0\n",
    "            curr_val = 0\n",
    "            curr_val += garbage[0].count(ch)\n",
    "            tot_val = curr_val\n",
    "\n",
    "            for idx in range(1, len(garbage)):\n",
    "                curr_val += travel[idx - 1]\n",
    "                if ch in garbage[idx]:\n",
    "                    curr_val += garbage[idx].count(ch)\n",
    "                    tot_val = curr_val\n",
    "\n",
    "            res += tot_val\n",
    "        \n",
    "        return res\n",
    "\n",
    "        res = 0\n",
    "        \n",
    "        for g in garbage:\n",
    "            res += len(g)\n",
    "\n",
    "        m, p, g = False, False, False\n",
    "\n",
    "        for i in range(len(travel), 0, -1):\n",
    "            m = m or 'M' in garbage[i]\n",
    "            p = p or 'P' in garbage[i]\n",
    "            g = g or 'G' in garbage[i]\n",
    "\n",
    "            res += travel[i-1] * (m + p + g)\n",
    "        \n",
    "        return res\n",
    "\n",
    "sol = Solution()\n",
    "print(sol.garbageCollection(garbage = [\"G\",\"P\",\"GP\",\"GG\"], travel = [2,4,3])) #21\n",
    "print(sol.garbageCollection(garbage = [\"MMM\",\"PGM\",\"GP\"], travel = [3,10])) #37"
   ]
  },
  {
   "cell_type": "markdown",
   "metadata": {},
   "source": [
    "##### 1814.Count Nice Pairs in an Array"
   ]
  },
  {
   "cell_type": "code",
   "execution_count": 6,
   "metadata": {},
   "outputs": [
    {
     "name": "stdout",
     "output_type": "stream",
     "text": [
      "2\n",
      "4\n"
     ]
    }
   ],
   "source": [
    "class Solution:\n",
    "    def countNicePairs(self, nums: List[int]) -> int:\n",
    "        MOD_VAL = 10**9 + 7\n",
    "\n",
    "        def rev(num):\n",
    "            return int(str(num)[::-1])\n",
    "        \n",
    "        nums = [num - rev(num) for num in nums]\n",
    "        nums.sort()\n",
    "\n",
    "        res = 0\n",
    "        idx = 0\n",
    "        while idx < len(nums) - 1:\n",
    "            cnt = 1\n",
    "            while idx < len(nums) - 1 and nums[idx] == nums[idx + 1]:\n",
    "                cnt += 1\n",
    "                idx += 1\n",
    "            res = (res % MOD_VAL + (cnt * (cnt - 1)) // 2) % MOD_VAL\n",
    "            idx += 1\n",
    "\n",
    "        return int(res % MOD_VAL)\n",
    "\n",
    "        def rev(num):\n",
    "            return int(str(num)[::-1])\n",
    "        \n",
    "        cnt_map = defaultdict(int)\n",
    "        for num in nums:\n",
    "            x = num - rev(num)\n",
    "            cnt_map[x] += 1\n",
    "\n",
    "        res = 0\n",
    "        MOD_VAL = 10**9 + 7\n",
    "        for val in cnt_map.values():\n",
    "            res = (res + (val * (val - 1)) // 2) % MOD_VAL\n",
    "\n",
    "        return res\n",
    "\n",
    "sol = Solution()\n",
    "print(sol.countNicePairs([42,11,1,97])) #2\n",
    "print(sol.countNicePairs([13,10,35,24,76])) #4"
   ]
  },
  {
   "cell_type": "markdown",
   "metadata": {},
   "source": [
    "##### 1424.Diagonal Traverse II"
   ]
  },
  {
   "cell_type": "code",
   "execution_count": 9,
   "metadata": {},
   "outputs": [
    {
     "name": "stdout",
     "output_type": "stream",
     "text": [
      "[1, 4, 2, 7, 5, 3, 8, 6, 9]\n",
      "[1, 6, 2, 8, 7, 3, 9, 4, 12, 10, 5, 13, 11, 14, 15, 16]\n",
      "[1, 11, 36, 35, 27, 9, 5, 16, 7, 7, 12, 40, 7, 38, 4, 29, 17, 27, 7, 32, 20, 13, 5, 2, 37, 21, 17, 1, 34, 19, 3, 26, 13, 13, 7, 20, 37, 17, 24, 4, 9, 32, 7, 6, 34, 4, 32, 9]\n"
     ]
    }
   ],
   "source": [
    "class Solution:\n",
    "    def findDiagonalOrder(self, nums: List[List[int]]) -> List[int]:\n",
    "        diag_map = defaultdict(list)\n",
    "\n",
    "        for row in range(len(nums)):\n",
    "            for col in range(len(nums[row])):\n",
    "                diag_map[row + col].append(nums[row][col])\n",
    "\n",
    "        res = []\n",
    "        tot_diags = max(diag_map.keys())\n",
    "        for diag in range(tot_diags + 1):\n",
    "            res.extend(diag_map[diag][::-1])\n",
    "\n",
    "        return res\n",
    "    \n",
    "    def findDiagonalOrder_(self, nums: List[List[int]]) -> List[int]:\n",
    "        res = []\n",
    "        N = len(nums)\n",
    "        \n",
    "        dq = collections.deque([(0, 0)])\n",
    "        while dq:\n",
    "            row, col = dq.popleft()\n",
    "            res.append(nums[row][col])\n",
    "            \n",
    "            # we only add the number at the bottom if we are at column 0\n",
    "            if col == 0 and row + 1 < N:\n",
    "                dq.append((row + 1, col))\n",
    "            # add the number on the right\n",
    "            if col + 1 < len(nums[row]):\n",
    "                dq.append((row, col + 1))\n",
    "        return res\n",
    "\n",
    "\n",
    "sol = Solution()\n",
    "print(sol.findDiagonalOrder([[1,2,3],[4,5,6],[7,8,9]])) #[1,4,2,7,5,3,8,6,9]\n",
    "print(sol.findDiagonalOrder([[1,2,3,4,5],[6,7],[8],[9,10,11],[12,13,14,15,16]])) #[1,6,2,8,7,3,9,4,12,10,5,13,11,14,15,16]\n",
    "print(sol.findDiagonalOrder(\n",
    "    [[1,36,9,7,4,20,1,7],\n",
    "     [11,27,7,38,32,17,13],\n",
    "     [35,16,7,7,21,13],\n",
    "     [5,40,27,37,26],\n",
    "     [12,17,2,3,17,9,6,4],\n",
    "     [29,5,19,37,4,7,34,32,9],\n",
    "     [13,34,20,24,32]])) #[1,6,2,8,7,3,9,4,12,10,5,13,11,14,15,16]"
   ]
  },
  {
   "cell_type": "markdown",
   "metadata": {},
   "source": [
    "##### 1630.Arithmetic Subarrays"
   ]
  },
  {
   "cell_type": "code",
   "execution_count": 14,
   "metadata": {},
   "outputs": [
    {
     "name": "stdout",
     "output_type": "stream",
     "text": [
      "[True, False, True]\n",
      "[False, True, False, False, True, True]\n"
     ]
    }
   ],
   "source": [
    "class Solution:\n",
    "    def checkArithmeticSubarrays(self, nums: List[int], l: List[int], r: List[int]) -> List[bool]:\n",
    "        def isArithmetic(num_list: List[int]) -> bool:\n",
    "            num_list.sort()\n",
    "            for idx in range(len(num_list) - 1):\n",
    "                if num_list[idx + 1] - num_list[idx] != num_list[1] - num_list[0]:\n",
    "                    return False\n",
    "                \n",
    "            return True\n",
    "        \n",
    "        res = []\n",
    "        for idx in range(len(l)):\n",
    "            res.append(isArithmetic(nums[l[idx]:r[idx] + 1]))\n",
    "\n",
    "        return res\n",
    "\n",
    "\n",
    "sol = Solution()\n",
    "print(sol.checkArithmeticSubarrays(nums = [4,6,5,9,3,7], l = [0,0,2], r = [2,3,5])) #[true,false,true]\n",
    "print(sol.checkArithmeticSubarrays(nums = [-12,-9,-3,-12,-6,15,20,-25,-20,-15,-10], l = [0,1,6,4,8,7], r = [4,4,9,7,9,10])) #[false,true,false,false,true,true]"
   ]
  },
  {
   "cell_type": "markdown",
   "metadata": {},
   "source": [
    "##### 2482.Difference Between Ones and Zeros in Row and Column"
   ]
  },
  {
   "cell_type": "code",
   "execution_count": 11,
   "metadata": {},
   "outputs": [
    {
     "name": "stdout",
     "output_type": "stream",
     "text": [
      "[[0, 0, 4], [0, 0, 4], [-2, -2, 2]]\n",
      "[[5, 5, 5], [5, 5, 5]]\n"
     ]
    }
   ],
   "source": [
    "class Solution:\n",
    "    def onesMinusZeros(self, grid: List[List[int]]) -> List[List[int]]:\n",
    "        ROWS = len(grid)\n",
    "        COLS = len(grid[0])\n",
    "\n",
    "        rows = {}\n",
    "        for r in range(ROWS):        \n",
    "            row_sum = 0\n",
    "            for c in range(COLS):\n",
    "                row_sum += grid[r][c]\n",
    "            \n",
    "            rows[r] = row_sum\n",
    "\n",
    "        cols = {}\n",
    "        for c in range(COLS):\n",
    "            col_sum = 0\n",
    "            for r in range(ROWS):\n",
    "                col_sum += grid[r][c]\n",
    "            \n",
    "            cols[c] = col_sum\n",
    "\n",
    "        res = [[0] * COLS for _ in range(ROWS)]\n",
    "\n",
    "        for r in range(ROWS):\n",
    "            for c in range(COLS):\n",
    "                res[r][c] = rows[r] + cols[c] - (ROWS - rows[r]) - (COLS - cols[c])\n",
    "        \n",
    "        return res\n",
    "    \n",
    "    def onesMinusZeros_(self, grid: List[List[int]]) -> List[List[int]]:\n",
    "        m, n = len(grid), len(grid[0])\n",
    "        \n",
    "        def count(nums) : \n",
    "            return 2*sum(nums)-len(nums)       \n",
    "            \n",
    "        rows = list(map(count, grid))                        \n",
    "        cols = list(map(count, zip(*grid)))                  \n",
    "\n",
    "        for i,j in product(range(m), range(n)):              \n",
    "            grid[i][j] = rows[i] + cols[j]                   \n",
    "                \n",
    "        return grid\n",
    "\n",
    "sol = Solution()\n",
    "print(sol.onesMinusZeros([[0,1,1],[1,0,1],[0,0,1]])) #[[0,0,4],[0,0,4],[-2,-2,2]]\n",
    "print(sol.onesMinusZeros([[1,1,1],[1,1,1]])) #[[5,5,5],[5,5,5]]"
   ]
  },
  {
   "cell_type": "markdown",
   "metadata": {},
   "source": [
    "##### 1637.Widest Vertical Area Between Two Points Containing No Points"
   ]
  },
  {
   "cell_type": "code",
   "execution_count": 7,
   "metadata": {},
   "outputs": [
    {
     "name": "stdout",
     "output_type": "stream",
     "text": [
      "1\n",
      "3\n"
     ]
    }
   ],
   "source": [
    "class Solution:\n",
    "    def maxWidthOfVerticalArea(self, points: List[List[int]]) -> int:\n",
    "        points.sort(key = lambda x: x[0])\n",
    "\n",
    "        res = 0\n",
    "        for idx in range(len(points) - 1):\n",
    "            res = max(res, points[idx + 1][0] - points[idx][0])\n",
    "\n",
    "        return res\n",
    "    \n",
    "sol = Solution()\n",
    "print(sol.maxWidthOfVerticalArea([[8,7],[9,9],[7,4],[9,7]])) #1\n",
    "print(sol.maxWidthOfVerticalArea([[3,1],[9,0],[1,0],[1,4],[5,3],[8,8]])) #3"
   ]
  },
  {
   "cell_type": "markdown",
   "metadata": {},
   "source": [
    "#### Hard"
   ]
  },
  {
   "cell_type": "markdown",
   "metadata": {},
   "source": [
    "##### 135.Candy"
   ]
  },
  {
   "cell_type": "code",
   "execution_count": 87,
   "metadata": {},
   "outputs": [
    {
     "name": "stdout",
     "output_type": "stream",
     "text": [
      "5\n",
      "4\n",
      "9\n",
      "13\n"
     ]
    }
   ],
   "source": [
    "class Solution:\n",
    "    def candy_old(self, ratings: List[int]) -> int:\n",
    "        res = [1] * len(ratings)\n",
    "\n",
    "        for i in range(len(ratings)):\n",
    "            if i > 0 and ratings[i - 1] < ratings[i] and res[i] <= res[i - 1]:\n",
    "                res[i] = res[i - 1] + 1\n",
    "            \n",
    "            if i + 1 < len(ratings) and ratings[i + 1] < ratings[i] and res[i] <= res[i + 1]:\n",
    "                res[i] = res[i + 1] + 1\n",
    "\n",
    "        for i in range(len(ratings) - 1, -1, -1):\n",
    "            if i > 0 and ratings[i - 1] < ratings[i] and res[i] <= res[i - 1]:\n",
    "                res[i] = res[i - 1] + 1\n",
    "            \n",
    "            if i + 1 < len(ratings) and ratings[i + 1] < ratings[i] and res[i] <= res[i + 1]:\n",
    "                res[i] = res[i + 1] + 1\n",
    "\n",
    "        return sum(res)\n",
    "    \n",
    "\n",
    "    def candy(self, ratings: List[int]) -> int:\n",
    "        res = [1] * len(ratings)\n",
    "\n",
    "        for i in range(1, len(ratings)):\n",
    "            if ratings[i - 1] < ratings[i]:\n",
    "                res[i] = res[i - 1] + 1\n",
    "\n",
    "        for i in range(len(ratings) - 2, -1, -1):\n",
    "            if ratings[i + 1] < ratings[i] and res[i] < res[i + 1] + 1:\n",
    "                res[i] = res[i + 1] + 1 \n",
    "\n",
    "        return sum(res)\n",
    "\n",
    "sol = Solution()\n",
    "print(sol.candy([1,0,2])) #5\n",
    "print(sol.candy([1,2,2])) #4\n",
    "print(sol.candy([1,2,2,3,2,4])) #9\n",
    "print(sol.candy([1,2,87,87,87,2,1])) #13"
   ]
  },
  {
   "cell_type": "markdown",
   "metadata": {},
   "source": [
    "##### 2659.Make Array Empty"
   ]
  },
  {
   "cell_type": "code",
   "execution_count": 15,
   "metadata": {},
   "outputs": [
    {
     "name": "stdout",
     "output_type": "stream",
     "text": [
      "5\n"
     ]
    }
   ],
   "source": [
    "class Solution:\n",
    "    def countOperationsToEmptyArray(self, nums: List[int]) -> int:\n",
    "        sorted_index = [i[0] for i in sorted(enumerate(nums), key=lambda x:x[1])]\n",
    "        \n",
    "        s = 0\n",
    "        curr = 0\n",
    "        curr_loop_subtract = 0\n",
    "        looped_subtract = 0\n",
    "        for ind in sorted_index:\n",
    "            if curr <= ind:\n",
    "                s += ind - curr + 1\n",
    "                curr = ind + 1\n",
    "                curr_loop_subtract += 1\n",
    "            else:#wrap around\n",
    "                s += ind + (len(nums) - curr) + 1\n",
    "                curr = ind + 1\n",
    "                s -= looped_subtract\n",
    "                looped_subtract += curr_loop_subtract \n",
    "                curr_loop_subtract = 1\n",
    "        s -= (curr - curr_loop_subtract) \n",
    "        return s\n",
    "    \n",
    "sol = Solution()\n",
    "print(sol.countOperationsToEmptyArray([3,4,-1])) #5\n",
    "print(sol.countOperationsToEmptyArray([1,2,4,3])) #5\n",
    "print(sol.countOperationsToEmptyArray([1,2,3])) #3"
   ]
  },
  {
   "cell_type": "markdown",
   "metadata": {},
   "source": [
    "##### 588.Design In-Memory File System"
   ]
  },
  {
   "cell_type": "code",
   "execution_count": 68,
   "metadata": {},
   "outputs": [
    {
     "name": "stdout",
     "output_type": "stream",
     "text": [
      "[]\n",
      "['a']\n",
      "hello\n"
     ]
    }
   ],
   "source": [
    "class TrieNode:\n",
    "    def __init__(self):\n",
    "        self.child = collections.defaultdict(TrieNode)\n",
    "        self.isFile = False\n",
    "        self.content = \"\"\n",
    "        self.name = \"\"\n",
    "\n",
    "class FileSystem:\n",
    "\n",
    "    def __init__(self):\n",
    "        self.root = TrieNode()   \n",
    "\n",
    "    def ls(self, path: str) -> List[str]:\n",
    "        res = []\n",
    "        path = path.split('/')[1:]\n",
    "        cur = self.root\n",
    "        if path[0]!='':\n",
    "            for p in path:\n",
    "                cur = cur.child[p]\n",
    "        if cur.isFile:\n",
    "            return [cur.name]\n",
    "        for ch in cur.child:\n",
    "            res.append(ch)\n",
    "        return sorted(res)\n",
    "\n",
    "\n",
    "    def mkdir(self, path: str) -> None:\n",
    "        cur = self.root\n",
    "        paths = path.split('/')[1:]\n",
    "        for p in paths:\n",
    "            cur = cur.child[p]\n",
    "            cur.name = p\n",
    "\n",
    "\n",
    "    def addContentToFile(self, filePath: str, content: str) -> None:\n",
    "        cur =self.root\n",
    "        filePath = filePath.split('/')[1:]\n",
    "        for p in filePath:\n",
    "            cur = cur.child[p]\n",
    "            cur.name = p\n",
    "        cur.isFile = True\n",
    "        cur.content += content\n",
    "\n",
    "    def readContentFromFile(self, filePath: str) -> str:\n",
    "        cur =self.root\n",
    "        filePath = filePath.split('/')[1:]\n",
    "        for p in filePath:\n",
    "            cur = cur.child[p]\n",
    "        if cur.isFile:\n",
    "            return cur.content\n",
    "\n",
    "\n",
    "# Your FileSystem object will be instantiated and called as such:\n",
    "fileSystem = FileSystem()\n",
    "print(fileSystem.ls(\"/\"))                         # return []\n",
    "fileSystem.mkdir(\"/a/b/c\")\n",
    "fileSystem.addContentToFile(\"/a/b/c/d\", \"hello\")\n",
    "print(fileSystem.ls(\"/\"))                         # return [\"a\"]\n",
    "print(fileSystem.readContentFromFile(\"/a/b/c/d\")) # return \"hello\")"
   ]
  },
  {
   "cell_type": "markdown",
   "metadata": {},
   "source": [
    "##### 1425.Constrained Subsequence Sum"
   ]
  },
  {
   "cell_type": "code",
   "execution_count": 11,
   "metadata": {},
   "outputs": [
    {
     "name": "stdout",
     "output_type": "stream",
     "text": [
      "37\n",
      "-1\n",
      "23\n"
     ]
    }
   ],
   "source": [
    "import heapq\n",
    "class Solution:\n",
    "    # O(n.k), O(n) - can be optimized to O(k)\n",
    "    # TLE\n",
    "    def constrainedSubsetSum_(self, nums: List[int], k: int) -> int:\n",
    "        dp = [n for n in nums]\n",
    "        res = float('-inf')\n",
    "        for i in range(1, len(nums)):\n",
    "            for j in range(max(i - k, 0), i):\n",
    "                dp[i] = max(dp[i], nums[i] + dp[j])\n",
    "            res = max(res, dp[i])\n",
    "\n",
    "        return max(dp)\n",
    "\n",
    "    def constrainedSubsetSum(self, nums: List[int], k: int) -> int:\n",
    "        res = nums[0]\n",
    "        hp = [(-1*nums[0], 0)]\n",
    "        \n",
    "        for i in range(1, len(nums)):\n",
    "            while hp and i - hp[0][1] > k:\n",
    "                heapq.heappop(hp)\n",
    "            \n",
    "            curr_max = max(nums[i], nums[i] + -1 * hp[0][0])\n",
    "            res = max(res, curr_max)\n",
    "            heapq.heappush(hp, (-1*curr_max, i))\n",
    "\n",
    "        return res\n",
    "\n",
    "sol = Solution()\n",
    "print(sol.constrainedSubsetSum(nums = [10,2,-10,5,20], k = 2)) #37\n",
    "print(sol.constrainedSubsetSum(nums = [-1,-2,-3], k = 1)) #-1\n",
    "print(sol.constrainedSubsetSum(nums = [10,-2,-10,-5,20], k = 2)) #23"
   ]
  },
  {
   "cell_type": "markdown",
   "metadata": {},
   "source": [
    "##### 65.Valid Number"
   ]
  },
  {
   "cell_type": "code",
   "execution_count": 93,
   "metadata": {},
   "outputs": [
    {
     "name": "stdout",
     "output_type": "stream",
     "text": [
      "True\n",
      "False\n",
      "False\n",
      "[True, True, True, True, True, True, True, True, True, True, True, True]\n"
     ]
    }
   ],
   "source": [
    "class Solution:\n",
    "    def isInteger(self, st):\n",
    "        if st == \"\":\n",
    "            return False\n",
    "        return set(st).issubset('0123456789')\n",
    "\n",
    "    def isSignedInteger(self, st):\n",
    "        if st == \"\":\n",
    "            return False\n",
    "\n",
    "        if st[0] in '+-':\n",
    "            return self.isInteger(st[1:]) \n",
    "        \n",
    "        return self.isInteger(st)\n",
    "\n",
    "    def isDecimal(self, st):\n",
    "        if st == \"\": \n",
    "            return False\n",
    "        \n",
    "        for idx, ch in enumerate(st):\n",
    "            if ch == \".\": \n",
    "                break \n",
    "        else: \n",
    "            return self.isSignedInteger(st)\n",
    "\n",
    "        left = st[:idx]\n",
    "        right = st[idx + 1:]\n",
    "\n",
    "        return (\n",
    "            ((left in \"+-\") and self.isInteger(right)) \n",
    "            or (\n",
    "                (self.isSignedInteger(left) and \n",
    "                    (self.isInteger(right) or right==\"\"))\n",
    "            )\n",
    "        )\n",
    "\n",
    "    def isNumber(self, s: str) -> bool:\n",
    "        for idx, ch in enumerate(s):\n",
    "            if ch in \"eE\":\n",
    "                break \n",
    "        else:\n",
    "            return self.isDecimal(s) or self.isSignedInteger(s)\n",
    "\n",
    "        return  self.isDecimal(s[: idx]) & self.isSignedInteger(s[idx + 1:])\n",
    "\n",
    "    # Faster\n",
    "    def isNumber_(self, s: str) -> bool:\n",
    "        seen_digit = False\n",
    "        seen_exponent = False\n",
    "        seen_dot = False\n",
    "\n",
    "        for i in range(len(s)):\n",
    "            if s[i] in ['+', '-']:\n",
    "                if i == 0 or s[i-1] in ['e', 'E']:\n",
    "                    continue\n",
    "                else:\n",
    "                    return False\n",
    "            \n",
    "            elif s[i] == '.':\n",
    "                if seen_dot or seen_exponent:\n",
    "                    return False\n",
    "                seen_dot = True\n",
    "\n",
    "            elif s[i] in ['e', 'E']:\n",
    "                if not seen_digit or seen_exponent:\n",
    "                    return False\n",
    "                seen_exponent = True\n",
    "                seen_digit = False\n",
    "            \n",
    "            elif s[i].isdigit():\n",
    "                seen_digit = True\n",
    "\n",
    "            else:\n",
    "                return False\n",
    "\n",
    "        return seen_digit\n",
    "sol = Solution()\n",
    "print(sol.isNumber(\"0\")) #true\n",
    "print(sol.isNumber(\"e\")) #false\n",
    "print(sol.isNumber(\".\")) #false\n",
    "\n",
    "res = []\n",
    "for num in [\"2\", \"0089\", \"-0.1\", \"+3.14\", \"4.\", \"-.9\", \"2e10\", \"-90E3\", \"3e+7\", \"+6e-1\", \"53.5e93\", \"-123.456e789\"]:\n",
    "# for num in [\"abc\", \"1a\", \"1e\", \"e3\", \"99e2.5\", \"--6\", \"-+3\", \"95a54e53\"]:\n",
    "    res.append(sol.isNumber(num))\n",
    "print(res)"
   ]
  },
  {
   "attachments": {},
   "cell_type": "markdown",
   "metadata": {},
   "source": [
    "### Two Pointers"
   ]
  },
  {
   "attachments": {},
   "cell_type": "markdown",
   "metadata": {},
   "source": [
    "#### Easy"
   ]
  },
  {
   "attachments": {},
   "cell_type": "markdown",
   "metadata": {},
   "source": [
    "##### 125.Valid Palindrome"
   ]
  },
  {
   "cell_type": "code",
   "execution_count": 91,
   "metadata": {},
   "outputs": [
    {
     "name": "stdout",
     "output_type": "stream",
     "text": [
      "True\n",
      "False\n",
      "True\n"
     ]
    }
   ],
   "source": [
    "class Solution:\n",
    "    def isPalindrome(self, s: str) -> bool:\n",
    "        str  = ''.join(char for char in s if char.isalnum()).lower()\n",
    "        i, j = 0, len(str) - 1\n",
    "        \n",
    "        while i <= j:\n",
    "            if str[i] != str[j]:\n",
    "                return False\n",
    "            i += 1\n",
    "            j -= 1\n",
    "\n",
    "        return True\n",
    "\n",
    "sol = Solution()\n",
    "print(sol.isPalindrome(\"A man, a plan, a canal: Panama\"))\n",
    "print(sol.isPalindrome(\"race a car\"))\n",
    "print(sol.isPalindrome(\" \"))"
   ]
  },
  {
   "attachments": {},
   "cell_type": "markdown",
   "metadata": {},
   "source": [
    "##### 345.Reverse Vowels of a String\n"
   ]
  },
  {
   "cell_type": "code",
   "execution_count": 14,
   "metadata": {},
   "outputs": [
    {
     "name": "stdout",
     "output_type": "stream",
     "text": [
      "holle\n",
      "leotcede\n"
     ]
    }
   ],
   "source": [
    "class Solution:\n",
    "    def reverseVowels(self, s: str) -> str:\n",
    "        i, j, s = 0, len(s) - 1, list(s)\n",
    "        vowels = 'aeiouAEIOU'\n",
    "        while i <= j:\n",
    "            if s[i] not in vowels:\n",
    "                i += 1\n",
    "            if s[j] not in vowels:\n",
    "                j -= 1\n",
    "            if i <= j and s[i] in vowels and s[j] in vowels:\n",
    "                s[i], s[j] = s[j], s[i]\n",
    "                i += 1\n",
    "                j -= 1\n",
    "        return ''.join(s) \n",
    "\n",
    "sol = Solution()\n",
    "print(sol.reverseVowels(\"hello\")) #\"holle\"\n",
    "print(sol.reverseVowels(\"leetcode\")) #\"leotcede\""
   ]
  },
  {
   "attachments": {},
   "cell_type": "markdown",
   "metadata": {},
   "source": [
    "##### 283.Move Zeroes\n"
   ]
  },
  {
   "cell_type": "code",
   "execution_count": 32,
   "metadata": {},
   "outputs": [
    {
     "name": "stdout",
     "output_type": "stream",
     "text": [
      "[1, 3, 12, 0, 0]\n",
      "None\n"
     ]
    }
   ],
   "source": [
    "class Solution:\n",
    "    def moveZeroes(self, nums: List[int]) -> None:\n",
    "        \"\"\"\n",
    "        Do not return anything, modify nums in-place instead.\n",
    "        \"\"\"\n",
    "        zero_idx = 0 \n",
    "        for i in range(len(nums)):\n",
    "            if nums[i]:\n",
    "                nums[zero_idx], nums[i] = nums[i], nums[zero_idx]\n",
    "                zero_idx += 1\n",
    "        print(nums)\n",
    "\n",
    "sol = Solution()\n",
    "print(sol.moveZeroes([0,1,0,3,12])) #[1,3,12,0,0]"
   ]
  },
  {
   "cell_type": "markdown",
   "metadata": {},
   "source": [
    "##### 905.Sort Array By Parity"
   ]
  },
  {
   "cell_type": "code",
   "execution_count": 6,
   "metadata": {},
   "outputs": [
    {
     "name": "stdout",
     "output_type": "stream",
     "text": [
      "[4, 2, 1, 3]\n",
      "[0]\n"
     ]
    }
   ],
   "source": [
    "class Solution:\n",
    "    def sortArrayByParity(self, nums: List[int]) -> List[int]:\n",
    "        l, r = 0, len(nums) - 1\n",
    "\n",
    "        while l < r:\n",
    "            while l < r and nums[l] % 2 == 0:\n",
    "                l += 1\n",
    "            \n",
    "            while l < r and nums[r] % 2 == 1:\n",
    "                r -= 1\n",
    "\n",
    "            if l < r:\n",
    "                nums[l], nums[r] = nums[r], nums[l]\n",
    "\n",
    "        return nums\n",
    "\n",
    "            \n",
    "\n",
    "sol = Solution()\n",
    "print(sol.sortArrayByParity([3,1,2,4])) # [2,4,3,1]\n",
    "print(sol.sortArrayByParity([0])) # [0]"
   ]
  },
  {
   "attachments": {},
   "cell_type": "markdown",
   "metadata": {},
   "source": [
    "#### Medium"
   ]
  },
  {
   "attachments": {},
   "cell_type": "markdown",
   "metadata": {},
   "source": [
    "##### 15.3 Sum"
   ]
  },
  {
   "cell_type": "code",
   "execution_count": 33,
   "metadata": {},
   "outputs": [
    {
     "name": "stdout",
     "output_type": "stream",
     "text": [
      "[[-1, -1, 2], [-1, 0, 1]]\n",
      "[]\n",
      "[[0, 0, 0]]\n"
     ]
    }
   ],
   "source": [
    "class Solution:\n",
    "    ## add def for two sum\n",
    "    def threeSum(self, nums: List[int]) -> List[List[int]]:\n",
    "        nums.sort()\n",
    "        res = []\n",
    "        \n",
    "        for i in range(len(nums)-2):\n",
    "            if i > 0 and nums[i] == nums[i - 1]:\n",
    "                continue\n",
    "\n",
    "            target = -1 * nums[i]\n",
    "            l = i + 1\n",
    "            r = len(nums) - 1\n",
    "\n",
    "            while l < r:\n",
    "                if nums[l] + nums[r] == target:\n",
    "                    res.append([nums[i], nums[l], nums[r]])\n",
    "                    l += 1\n",
    "                    while nums[l] == nums[l - 1] and l < r:\n",
    "                        l += 1\n",
    "                elif nums[l] + nums[r] > target:\n",
    "                    r -= 1\n",
    "                else:\n",
    "                    l += 1\n",
    "\n",
    "        return res\n",
    "\n",
    "sol = Solution()\n",
    "print(sol.threeSum([-1,0,1,2,-1,-4]))\n",
    "print(sol.threeSum([0,1,1]))\n",
    "print(sol.threeSum([0,0,0]))"
   ]
  },
  {
   "attachments": {},
   "cell_type": "markdown",
   "metadata": {},
   "source": [
    "##### 11.Container With Most Water"
   ]
  },
  {
   "cell_type": "code",
   "execution_count": 98,
   "metadata": {},
   "outputs": [
    {
     "name": "stdout",
     "output_type": "stream",
     "text": [
      "49\n",
      "1\n"
     ]
    }
   ],
   "source": [
    "class Solution:\n",
    "    def maxArea(self, height: List[int]) -> int:\n",
    "        i, j = 0, len(height) - 1\n",
    "        res = float('-inf')\n",
    "        while i < j:\n",
    "            area = (j - i) * min(height[i], height[j])\n",
    "            res = max(res, area)\n",
    "            if height[i] < height[j]:\n",
    "                i +=1\n",
    "            else:\n",
    "                j -=1\n",
    "        \n",
    "        return res\n",
    "\n",
    "sol = Solution()\n",
    "print(sol.maxArea([1,8,6,2,5,4,8,3,7]))\n",
    "print(sol.maxArea([1,1]))"
   ]
  },
  {
   "attachments": {},
   "cell_type": "markdown",
   "metadata": {},
   "source": [
    "##### 167.Two Sum II - Input Array Is Sorted"
   ]
  },
  {
   "cell_type": "code",
   "execution_count": 51,
   "metadata": {},
   "outputs": [
    {
     "name": "stdout",
     "output_type": "stream",
     "text": [
      "[1, 2]\n",
      "[1, 3]\n",
      "[1, 2]\n"
     ]
    }
   ],
   "source": [
    "class Solution:\n",
    "    def twoSum(self, numbers: List[int], target: int) -> List[int]:\n",
    "        l, r = 0, len(numbers) - 1\n",
    "    \n",
    "        while l < r:\n",
    "            if numbers[l] + numbers[r] == target:\n",
    "                return [l + 1, r + 1]\n",
    "            elif numbers[l] + numbers[r] > target:\n",
    "                r -= 1\n",
    "            else:\n",
    "                l += 1\n",
    "\n",
    "sol = Solution()\n",
    "print(sol.twoSum([2,7,11,15], 9))\n",
    "print(sol.twoSum([2,3,4], 6))\n",
    "print(sol.twoSum([-1, 0], -1))"
   ]
  },
  {
   "attachments": {},
   "cell_type": "markdown",
   "metadata": {},
   "source": [
    "##### 443.String Compression"
   ]
  },
  {
   "cell_type": "code",
   "execution_count": 31,
   "metadata": {},
   "outputs": [
    {
     "name": "stdout",
     "output_type": "stream",
     "text": [
      "6\n",
      "1\n",
      "4\n",
      "6\n"
     ]
    }
   ],
   "source": [
    "class Solution:\n",
    "    def compress(self, chars: List[str]) -> int:\n",
    "        i, j, cnt = 0, 0, 1\n",
    "        while j < len(chars):\n",
    "            cnt = 1\n",
    "            while (j + cnt < len(chars)\n",
    "                   and chars[j + cnt] == chars[j]):\n",
    "                cnt += 1\n",
    "            chars[i] = chars[j]\n",
    "            i += 1\n",
    "            if cnt > 1:\n",
    "                strCnt = str(cnt)\n",
    "                chars[i:i+len(strCnt)] = list(strCnt)\n",
    "                i += len(strCnt)\n",
    "            j += cnt\n",
    "        chars = chars[:i]\n",
    "        return len(chars)\n",
    "\n",
    "\n",
    "\n",
    "\n",
    "sol = Solution()\n",
    "print(sol.compress([\"a\",\"a\",\"b\",\"b\",\"c\",\"c\",\"c\"])) #6\n",
    "print(sol.compress([\"a\"])) #1\n",
    "print(sol.compress([\"a\",\"b\",\"b\",\"b\",\"b\",\"b\",\"b\",\"b\",\"b\",\"b\",\"b\",\"b\",\"b\"])) #4\n",
    "print(sol.compress([\"a\",\"a\",\"a\",\"b\",\"b\",\"a\",\"a\"])) #6"
   ]
  },
  {
   "attachments": {},
   "cell_type": "markdown",
   "metadata": {},
   "source": [
    "##### 1679.Max Number of K-Sum Pairs"
   ]
  },
  {
   "cell_type": "code",
   "execution_count": 40,
   "metadata": {},
   "outputs": [
    {
     "name": "stdout",
     "output_type": "stream",
     "text": [
      "2\n",
      "1\n"
     ]
    }
   ],
   "source": [
    "class Solution:\n",
    "    def maxOperations(self, nums: List[int], k: int) -> int:\n",
    "        nums.sort()\n",
    "\n",
    "        l, r = 0, len(nums) - 1\n",
    "        ops = 0\n",
    "        while l < r:\n",
    "            if nums[l] + nums[r] == k:\n",
    "                ops += 1\n",
    "                l += 1\n",
    "                r -= 1\n",
    "            elif nums[l] + nums[r] < k:\n",
    "                l += 1\n",
    "            else:\n",
    "                r -= 1\n",
    "        \n",
    "        return ops\n",
    "    \n",
    "    def maxOperations1(self, nums: List[int], k: int) -> int:\n",
    "        countMap = defaultdict(int)\n",
    "\n",
    "        for num in nums:\n",
    "            countMap[num] += 1\n",
    "        \n",
    "        ops = 0\n",
    "        for num in countMap:\n",
    "            if k - num in countMap:\n",
    "                ops += min(countMap[num], countMap[k - num])\n",
    "\n",
    "        return ops // 2\n",
    "sol = Solution()\n",
    "print(sol.maxOperations([1,2,3,4], 5)) #2\n",
    "print(sol.maxOperations([3,1,3,4,3], 6)) #1"
   ]
  },
  {
   "cell_type": "markdown",
   "metadata": {},
   "source": [
    "##### 209.Minimum Size Subarray Sum"
   ]
  },
  {
   "cell_type": "code",
   "execution_count": 6,
   "metadata": {},
   "outputs": [
    {
     "name": "stdout",
     "output_type": "stream",
     "text": [
      "2\n",
      "1\n",
      "0\n"
     ]
    }
   ],
   "source": [
    "class Solution:\n",
    "    def minSubArrayLen(self, target: int, nums: List[int]) -> int:\n",
    "        res = len(nums) + 1\n",
    "        i, curr_sum = 0, 0\n",
    "        for j in range(len(nums)):\n",
    "            curr_sum += nums[j]\n",
    "\n",
    "            while curr_sum >= target:\n",
    "                curr_sum -= nums[i]\n",
    "\n",
    "                if curr_sum == target:\n",
    "                    res = min(res, j - i + 1)\n",
    "                i += 1\n",
    "\n",
    "        return 0 if res == len(nums) + 1 else res\n",
    "\n",
    "sol = Solution()\n",
    "print(sol.minSubArrayLen(7, [2,3,1,2,4,3])) #2\n",
    "print(sol.minSubArrayLen(4, [1,4,4])) #1\n",
    "print(sol.minSubArrayLen(11, [1,1,1,1,1,1,1,1])) #0\n",
    "print(sol.minSubArrayLen(11, [1,2,3,4,5])) #3"
   ]
  },
  {
   "attachments": {},
   "cell_type": "markdown",
   "metadata": {},
   "source": [
    "#### Hard"
   ]
  },
  {
   "attachments": {},
   "cell_type": "markdown",
   "metadata": {},
   "source": [
    "##### 42.Trapping Rain Water"
   ]
  },
  {
   "cell_type": "code",
   "execution_count": 54,
   "metadata": {},
   "outputs": [
    {
     "name": "stdout",
     "output_type": "stream",
     "text": [
      "6\n",
      "9\n"
     ]
    }
   ],
   "source": [
    "class Solution:\n",
    "    def trap1(self, height: List[int]) -> int:\n",
    "        l, r = 0, len(height) - 1\n",
    "        volume = 0\n",
    "        l_max, r_max = 0, 0\n",
    "        while l < r :\n",
    "            if height[l] < height[r]:\n",
    "                if (height[l] >= l_max): \n",
    "                    l_max = height[l] \n",
    "                else: \n",
    "                    volume = volume + (l_max - height[l])\n",
    "                l += 1\n",
    "\n",
    "            else:\n",
    "                if height[r] >= r_max: \n",
    "                    r_max = height[r]\n",
    "                else:\n",
    "                    volume += (r_max - height[r])\n",
    "                r -= 1\n",
    "        return volume\n",
    "\n",
    "    def trap(self, height: List[int]) -> int:\n",
    "        \n",
    "        def get_volume(heights: list[int], max_height: int) -> int:\n",
    "            volume = 0\n",
    "            for h in heights:\n",
    "                volume += max_height - h\n",
    "\n",
    "            return volume\n",
    "\n",
    "        start= -1\n",
    "        volume = 0 \n",
    "        height_stack = []\n",
    "        for h in height:\n",
    "            if start == -1:\n",
    "                start = h\n",
    "            elif h < start:\n",
    "                height_stack.append(h)\n",
    "            else:\n",
    "                # Calculate volume\n",
    "                volume += get_volume(height_stack, min(start, h))\n",
    "\n",
    "                # reset \n",
    "                start = h\n",
    "                height_stack.clear()\n",
    "\n",
    "        # need to handle the rest of them\n",
    "        if len(height_stack):\n",
    "            rev = height_stack[::-1]\n",
    "            rev.append(start)\n",
    "            volume += self.trap(rev)\n",
    "        return volume\n",
    "        \n",
    "\n",
    "sol = Solution()\n",
    "print(sol.trap([0,1,0,2,1,0,1,3,2,1,2,1]))\n",
    "print(sol.trap([4,2,0,3,2,5]))"
   ]
  },
  {
   "cell_type": "markdown",
   "metadata": {},
   "source": [
    "##### 1793.Maximum Score of a Good Subarray"
   ]
  },
  {
   "cell_type": "code",
   "execution_count": 12,
   "metadata": {},
   "outputs": [
    {
     "name": "stdout",
     "output_type": "stream",
     "text": [
      "15\n",
      "20\n"
     ]
    }
   ],
   "source": [
    "class Solution:\n",
    "    def maximumScore(self, nums: List[int], k: int) -> int:\n",
    "        l = r = k\n",
    "        res = nums[k]\n",
    "        curr_min = nums[k]\n",
    "\n",
    "        while l > 0 or r < len(nums) - 1:\n",
    "            left = nums[l - 1] if l > 0 else 0\n",
    "            right = nums[r + 1] if r < len(nums) - 1 else 0\n",
    "\n",
    "            if left > right:\n",
    "                l -= 1\n",
    "                curr_min = min(curr_min, left)\n",
    "            else:\n",
    "                r += 1\n",
    "                curr_min = min(curr_min, right)\n",
    "\n",
    "            res = max(res, curr_min*(r - l + 1))\n",
    "\n",
    "        return res\n",
    "\n",
    "sol = Solution()\n",
    "print(sol.maximumScore(nums = [1,4,3,7,4,5], k = 3)) #15\n",
    "print(sol.maximumScore(nums = [5,5,4,5,4,1,1,1], k = 0))#20"
   ]
  },
  {
   "attachments": {},
   "cell_type": "markdown",
   "metadata": {},
   "source": [
    "### Sliding window"
   ]
  },
  {
   "attachments": {},
   "cell_type": "markdown",
   "metadata": {},
   "source": [
    "#### Easy"
   ]
  },
  {
   "attachments": {},
   "cell_type": "markdown",
   "metadata": {},
   "source": [
    "##### 121.Best Time to Buy and Sell Stock"
   ]
  },
  {
   "cell_type": "code",
   "execution_count": 103,
   "metadata": {},
   "outputs": [
    {
     "name": "stdout",
     "output_type": "stream",
     "text": [
      "5\n",
      "0\n",
      "2\n"
     ]
    }
   ],
   "source": [
    "class Solution:\n",
    "    def maxProfit(self, prices: List[int]) -> int:\n",
    "        res, i, j = 0, 0, 1\n",
    "\n",
    "        while j < len(prices):\n",
    "            if prices[i] > prices[j]:\n",
    "                i = j\n",
    "            else:\n",
    "                prof = prices[j] - prices[i]\n",
    "                if res < prof:\n",
    "                    res = prof\n",
    "            j +=1\n",
    "        \n",
    "        return res\n",
    "\n",
    "sol = Solution()\n",
    "print(sol.maxProfit([7,1,5,3,6,4]))\n",
    "print(sol.maxProfit([7,6,4,3,1]))\n",
    "print(sol.maxProfit([2,1,2,1,0,1,2]))"
   ]
  },
  {
   "attachments": {},
   "cell_type": "markdown",
   "metadata": {},
   "source": [
    "##### 643.Maximum Average Subarray I\n"
   ]
  },
  {
   "cell_type": "code",
   "execution_count": 43,
   "metadata": {},
   "outputs": [
    {
     "name": "stdout",
     "output_type": "stream",
     "text": [
      "12.75\n",
      "5.0\n"
     ]
    }
   ],
   "source": [
    "class Solution:\n",
    "    def findMaxAverage(self, nums: List[int], k: int) -> float:\n",
    "        res, i, j, currSum = 0, 0, 0, 0\n",
    "\n",
    "        while j < len(nums):\n",
    "            currSum += nums[j]\n",
    "            if j - i + 1 == k:\n",
    "                res = max(res, currSum/k)\n",
    "                currSum -= nums[i] \n",
    "                i += 1\n",
    "            j += 1\n",
    "        \n",
    "        return res\n",
    "    \n",
    "    def findMaxAverage(self, nums: List[int], k: int) -> float:\n",
    "        cur = res = sum(nums[:k])\n",
    "        for i in range(k, len(nums)):\n",
    "            cur += nums[i] - nums[i-k]\n",
    "            if cur > res:\n",
    "                res = cur\n",
    "\n",
    "        return res/k\n",
    "\n",
    "sol = Solution()\n",
    "print(sol.findMaxAverage([1,12,-5,-6,50,3], 4)) #12.75000\n",
    "print(sol.findMaxAverage([5], 1)) #5\n"
   ]
  },
  {
   "cell_type": "markdown",
   "metadata": {},
   "source": [
    "##### 557.Reverse Words in a String III"
   ]
  },
  {
   "cell_type": "code",
   "execution_count": 20,
   "metadata": {},
   "outputs": [
    {
     "name": "stdout",
     "output_type": "stream",
     "text": [
      "s'teL ekat edoCteeL tsetnoc\n",
      "doG gniD\n"
     ]
    }
   ],
   "source": [
    "class Solution:\n",
    "    def reverseWords_(self, s: str) -> str:\n",
    "        s = list(s)\n",
    "        start = 0\n",
    "\n",
    "        for i in range(len(s) + 1):\n",
    "            if i == len(s) or s[i] == ' ':\n",
    "                end = i - 1\n",
    "\n",
    "                while start < end:\n",
    "                    s[start], s[end] = s[end], s[start]\n",
    "                    start += 1\n",
    "                    end -= 1\n",
    "                \n",
    "                start = i + 1\n",
    "\n",
    "        return ''.join(s)\n",
    "    \n",
    "    def reverseWords(self, s: str) -> str:\n",
    "        s = s.split()\n",
    "\n",
    "        for idx in range(len(s)):\n",
    "            s[idx] = s[idx][::-1]\n",
    "\n",
    "        return ' '.join(s)\n",
    "\n",
    "sol = Solution()\n",
    "print(sol.reverseWords(\"Let's take LeetCode contest\")) # \"s'teL ekat edoCteeL tsetnoc\"\n",
    "print(sol.reverseWords(\"God Ding\")) # \"doG gniD\""
   ]
  },
  {
   "attachments": {},
   "cell_type": "markdown",
   "metadata": {},
   "source": [
    "#### Medium"
   ]
  },
  {
   "attachments": {},
   "cell_type": "markdown",
   "metadata": {},
   "source": [
    "##### 3.Longest Substring Without Repeating Characters"
   ]
  },
  {
   "cell_type": "code",
   "execution_count": 113,
   "metadata": {},
   "outputs": [
    {
     "name": "stdout",
     "output_type": "stream",
     "text": [
      "3\n",
      "1\n",
      "3\n"
     ]
    }
   ],
   "source": [
    "class Solution:\n",
    "    def lengthOfLongestSubstring(self, s: str) -> int:\n",
    "        substr = set() \n",
    "        i = 0\n",
    "        j = 0\n",
    "        maxlen = 0\n",
    "        while j < len(s):\n",
    "            while s[j] in substr:\n",
    "                substr.remove(s[i]) \n",
    "                i +=1\n",
    "            substr.add(s[j])\n",
    "            maxlen = max(maxlen, j - i + 1)\n",
    "            j += 1\n",
    "        return maxlen\n",
    "\n",
    "sol = Solution()\n",
    "print(sol.lengthOfLongestSubstring(\"abcabcbb\"))\n",
    "print(sol.lengthOfLongestSubstring(\"bbbbb\"))\n",
    "print(sol.lengthOfLongestSubstring(\"pwwkew\"))"
   ]
  },
  {
   "attachments": {},
   "cell_type": "markdown",
   "metadata": {},
   "source": [
    "##### 424.Longest Repeating Character Replacement"
   ]
  },
  {
   "cell_type": "code",
   "execution_count": 55,
   "metadata": {},
   "outputs": [
    {
     "name": "stdout",
     "output_type": "stream",
     "text": [
      "4\n",
      "5\n",
      "4\n"
     ]
    }
   ],
   "source": [
    "class Solution:\n",
    "    def characterReplacement(self, s: str, k: int) -> int:\n",
    "        freq = {}\n",
    "        i, j = 0, 0\n",
    "        maxFreq = 0\n",
    "        res = 0\n",
    "\n",
    "        for j in range(len(s)):\n",
    "            freq[s[j]] = freq.get(s[j], 0) + 1\n",
    "            maxFreq = max(maxFreq, freq[s[j]])\n",
    "\n",
    "            while (j - i + 1) - maxFreq > k:\n",
    "                freq[s[i]] -= 1\n",
    "                i += 1\n",
    "\n",
    "            res = max(res, j - i + 1)\n",
    "\n",
    "        return res\n",
    "sol = Solution()\n",
    "print(sol.characterReplacement(\"ABAB\", 2))\n",
    "print(sol.characterReplacement(\"ABABB\", 2))\n",
    "print(sol.characterReplacement(\"AABABBA\", 1))"
   ]
  },
  {
   "attachments": {},
   "cell_type": "markdown",
   "metadata": {},
   "source": [
    "##### 567.Permutation in String"
   ]
  },
  {
   "cell_type": "code",
   "execution_count": 3,
   "metadata": {},
   "outputs": [
    {
     "name": "stdout",
     "output_type": "stream",
     "text": [
      "True\n",
      "False\n",
      "True\n"
     ]
    }
   ],
   "source": [
    "class Solution:\n",
    "    def checkInclusion1(self, s1: str, s2: str) -> bool: # Very slow\n",
    "        char_map = defaultdict(int)\n",
    "\n",
    "        for ch in s1:\n",
    "            char_map[ch] += 1\n",
    "\n",
    "        i = 0\n",
    "        while i < len(s2):\n",
    "            if s2[i] in char_map and i + len(s1) <= len(s2):\n",
    "                check_map = char_map.copy()\n",
    "                for k in range(i, i + len(s1)):\n",
    "                    if s2[k] in check_map:\n",
    "                        check_map[s2[k]] -= 1\n",
    "\n",
    "                    if check_map[s2[k]] == 0:\n",
    "                        check_map.pop(s2[k])\n",
    "\n",
    "                if not check_map:\n",
    "                    return True\n",
    "            i += 1\n",
    "        \n",
    "        return False\n",
    "\n",
    "    def checkInclusion2(self, s1: str, s2: str) -> bool: \n",
    "        char_map = defaultdict(int)\n",
    "\n",
    "        for ch in s1:\n",
    "            char_map[ch] += 1\n",
    "\n",
    "        i, j = 0, 0\n",
    "\n",
    "        while j < len(s2):\n",
    "            if j - i + 1 > len(s1):\n",
    "                if s2[i] in char_map:\n",
    "                    char_map[s2[i]] += 1\n",
    "                i += 1\n",
    "            \n",
    "            if s2[j] in char_map:\n",
    "                char_map[s2[j]] -= 1\n",
    "                \n",
    "                if all(value == 0 for value in char_map.values()):\n",
    "                    return True\n",
    "            j += 1\n",
    "        \n",
    "        return False\n",
    "    \n",
    "    def checkInclusion(self, s1: str, s2: str) -> bool: \n",
    "        s1_map = defaultdict(int)\n",
    "        for ch in s1:\n",
    "            s1_map[ch] += 1\n",
    "\n",
    "        l, r = 0, 0\n",
    "        while r < len(s2):\n",
    "            while r - l + 1 > len(s1):\n",
    "                if s2[l] in s1_map:\n",
    "                    s1_map[s2[l]] += 1\n",
    "                    l += 1\n",
    "            s1_map[s2[r]] -= 1\n",
    "\n",
    "            if all(value == 0 for value in s1_map.values()):\n",
    "                return True\n",
    "            r += 1\n",
    "\n",
    "        return False\n",
    "\n",
    "\n",
    "            \n",
    "sol = Solution()\n",
    "print(sol.checkInclusion(\"ab\", \"eidbaooo\")) #True\n",
    "print(sol.checkInclusion(\"ab\", \"eidboaoo\")) #False\n",
    "print(sol.checkInclusion(\"adc\", \"dcda\")) #True"
   ]
  },
  {
   "attachments": {},
   "cell_type": "markdown",
   "metadata": {},
   "source": [
    "##### 1456.Maximum Number of Vowels in a Substring of Given Length\n"
   ]
  },
  {
   "cell_type": "code",
   "execution_count": 46,
   "metadata": {},
   "outputs": [
    {
     "name": "stdout",
     "output_type": "stream",
     "text": [
      "3\n",
      "2\n",
      "2\n"
     ]
    }
   ],
   "source": [
    "class Solution:\n",
    "    def maxVowels(self, s: str, k: int) -> int:\n",
    "        res, vowels = 0, 'aeiou'\n",
    "        \n",
    "        currCnt = 0\n",
    "        for ch in s[:k]:\n",
    "            if ch in vowels:\n",
    "                currCnt += 1\n",
    "        \n",
    "        i, j = 0, k\n",
    "        res = currCnt\n",
    "        while j < len(s):\n",
    "            if s[i] in vowels:\n",
    "                currCnt -= 1\n",
    "            \n",
    "            if s[j] in vowels:\n",
    "                currCnt += 1\n",
    "\n",
    "            if currCnt > res:\n",
    "                res = currCnt\n",
    "            \n",
    "            i += 1\n",
    "            j += 1\n",
    "\n",
    "        \n",
    "        return res\n",
    "            \n",
    "\n",
    "\n",
    "sol = Solution()\n",
    "print(sol.maxVowels(\"abciiidef\", 3)) #3\n",
    "print(sol.maxVowels(\"aeiou\", 2)) #2\n",
    "print(sol.maxVowels(\"leetcode\", 3)) #2"
   ]
  },
  {
   "attachments": {},
   "cell_type": "markdown",
   "metadata": {},
   "source": [
    "##### 1004.Max Consecutive Ones III\n"
   ]
  },
  {
   "cell_type": "code",
   "execution_count": 55,
   "metadata": {},
   "outputs": [
    {
     "name": "stdout",
     "output_type": "stream",
     "text": [
      "6\n",
      "10\n"
     ]
    }
   ],
   "source": [
    "class Solution:\n",
    "    def longestOnes(self, nums: List[int], k: int) -> int:\n",
    "        n = len(nums)\n",
    "        s = sum(nums)\n",
    "        if s == 0:\n",
    "            return k\n",
    "        if s + k >= n:\n",
    "            return n\n",
    "        \n",
    "        res, i, j = 0, 0, 0\n",
    "        \n",
    "        repl, cnt = 0, 0\n",
    "        while j < n:\n",
    "            if nums[j] == 0:\n",
    "                repl += 1\n",
    "            cnt += 1\n",
    "            if repl <= k:\n",
    "                if cnt > res:\n",
    "                    res = cnt\n",
    "            else:\n",
    "                while repl > k:\n",
    "                    if nums[i] == 0:\n",
    "                        repl -= 1\n",
    "                    cnt -= 1\n",
    "                    i += 1\n",
    "            j += 1\n",
    "\n",
    "        return res\n",
    "\n",
    "sol = Solution()\n",
    "print(sol.longestOnes([1,1,1,0,0,0,1,1,1,1,0], 2)) #6\n",
    "print(sol.longestOnes([0,0,1,1,0,0,1,1,1,0,1,1,0,0,0,1,1,1,1], 3)) #10"
   ]
  },
  {
   "attachments": {},
   "cell_type": "markdown",
   "metadata": {},
   "source": [
    "##### 1493.Longest Subarray of 1's After Deleting One Element\n"
   ]
  },
  {
   "cell_type": "code",
   "execution_count": 17,
   "metadata": {},
   "outputs": [
    {
     "name": "stdout",
     "output_type": "stream",
     "text": [
      "3\n",
      "5\n",
      "2\n"
     ]
    }
   ],
   "source": [
    "class Solution:\n",
    "    def longestSubarray1(self, nums: List[int]) -> int:\n",
    "        i, j, zeros, res = 0, 0, 0, 0\n",
    "\n",
    "        while j < len(nums):\n",
    "            if nums[j] == 0:\n",
    "                zeros += 1\n",
    "\n",
    "            while zeros > 1:\n",
    "                if nums[i] == 0:\n",
    "                    zeros -= 1\n",
    "                i += 1\n",
    "            \n",
    "            if j - i > res:\n",
    "                res = j - i\n",
    "\n",
    "            j += 1\n",
    "        \n",
    "        return res\n",
    "    \n",
    "    def longestSubarray(self, nums: List[int]) -> int:\n",
    "        i, j, zeros = 0, 0, 0\n",
    "\n",
    "        while j < len(nums):\n",
    "            if nums[j] == 0:\n",
    "                zeros += 1\n",
    "\n",
    "            if zeros > 1:\n",
    "                if nums[i] == 0:\n",
    "                    zeros -= 1\n",
    "                i += 1\n",
    "\n",
    "            j += 1\n",
    "        \n",
    "        return j - i - 1\n",
    "\n",
    "sol = Solution()\n",
    "print(sol.longestSubarray([1,1,0,1])) #3\n",
    "print(sol.longestSubarray([0,1,1,1,0,1,1,0,1])) #5\n",
    "print(sol.longestSubarray([1,1,1])) #2"
   ]
  },
  {
   "cell_type": "markdown",
   "metadata": {},
   "source": [
    "##### 1658.Minimum Operations to Reduce X to Zero"
   ]
  },
  {
   "cell_type": "code",
   "execution_count": 16,
   "metadata": {},
   "outputs": [
    {
     "name": "stdout",
     "output_type": "stream",
     "text": [
      "2\n",
      "-1\n",
      "5\n"
     ]
    }
   ],
   "source": [
    "class Solution:\n",
    "    def minOperations(self, nums: List[int], x: int) -> int:\n",
    "        rem_total = sum(nums) - x\n",
    "        n = len(nums)\n",
    "\n",
    "        if rem_total == 0:\n",
    "            return n\n",
    "\n",
    "        max_len, curr_sum, i = 0, 0, 0\n",
    "\n",
    "        for j in range(n):\n",
    "            curr_sum += nums[j]\n",
    "\n",
    "            while j > i and curr_sum > rem_total:\n",
    "                curr_sum -= nums[i]\n",
    "                i += 1\n",
    "\n",
    "            if curr_sum == rem_total:\n",
    "                max_len = max(max_len, j - i + 1)\n",
    "        \n",
    "        return n - max_len if max_len != 0 else -1\n",
    "\n",
    "sol = Solution()\n",
    "print(sol.minOperations([1,1,4,2,3], 5)) #2\n",
    "print(sol.minOperations([5,6,7,8,9], 4)) #-1\n",
    "print(sol.minOperations([3,2,20,1,1,3], 10)) #5"
   ]
  },
  {
   "cell_type": "markdown",
   "metadata": {},
   "source": [
    "##### 438.Find All Anagrams in a String"
   ]
  },
  {
   "cell_type": "code",
   "execution_count": 107,
   "metadata": {},
   "outputs": [
    {
     "name": "stdout",
     "output_type": "stream",
     "text": [
      "[0, 6]\n",
      "[0, 1, 2]\n"
     ]
    }
   ],
   "source": [
    "class Solution:\n",
    "    def findAnagrams_(self, s: str, p: str) -> List[int]:\n",
    "        res = []\n",
    "        p_map = collections.Counter(p)\n",
    "        run_map = collections.Counter(s[:len(p)])\n",
    "        \n",
    "        for i in range(len(s) - len(p) + 1):\n",
    "            if run_map == p_map:\n",
    "                res.append(i)\n",
    "            \n",
    "            if i == len(s) - len(p):\n",
    "                break\n",
    "            \n",
    "            run_map[s[i]] -= 1 # removing current char\n",
    "            if run_map[s[i]] == 0:\n",
    "                del run_map[s[i]]\n",
    "            \n",
    "            run_map[s[i + len(p)]] += 1 # adding next char\n",
    "        \n",
    "        return res\n",
    "\n",
    "    def findAnagrams(self, s: str, p: str) -> List[int]:\n",
    "        if len(s) < len(p): return []\n",
    "\n",
    "        p_map, len_p, len_s = defaultdict(int), len(p), len(s)\n",
    "\n",
    "        for ch in p:\n",
    "            p_map[ch] += 1\n",
    "\n",
    "        \n",
    "        # initial full pass over the window, \n",
    "        # except last element which we will pass over later\n",
    "        for i in range(len_p - 1):\n",
    "            if s[i] in p_map:\n",
    "                p_map[s[i]] -= 1\n",
    "            \n",
    "        res = []\n",
    "        # slide the window with stride 1, \n",
    "        # adding the value \"sliding out\" \n",
    "        # and subtracting the value \"sliding in\"\n",
    "        for i in range(-1, len_s - len_p + 1):\n",
    "            if i > -1 and s[i] in p_map:\n",
    "                p_map[s[i]] += 1\n",
    "            if i + len_p < len_s and s[i + len_p] in p_map: \n",
    "                p_map[s[i + len_p]] -= 1\n",
    "                \n",
    "            if not any(p_map.values()): \n",
    "                res.append(i + 1)\n",
    "                \n",
    "        return res\n",
    "\n",
    "sol = Solution()\n",
    "print(sol.findAnagrams(s = \"cbaebabacd\", p = \"abc\")) #[0,6]\n",
    "print(sol.findAnagrams(s = \"abab\", p = \"ab\")) #[0,1,2]"
   ]
  },
  {
   "cell_type": "markdown",
   "metadata": {},
   "source": [
    "##### 1838.Frequency of the Most Frequent Element"
   ]
  },
  {
   "cell_type": "code",
   "execution_count": 6,
   "metadata": {},
   "outputs": [
    {
     "name": "stdout",
     "output_type": "stream",
     "text": [
      "3\n",
      "2\n",
      "1\n"
     ]
    }
   ],
   "source": [
    "class Solution:\n",
    "    def maxFrequency(self, nums: List[int], k: int) -> int:\n",
    "        i=0\n",
    "        j=0\n",
    "        res=1\n",
    "        n=len(nums)\n",
    "        nums=sorted(nums)\n",
    "        curs=0\n",
    "        while j<n:\n",
    "            curs+=nums[j]\n",
    "            j+=1\n",
    "            if (curs+k<nums[j-1]*(j-i)):\n",
    "                curs-=nums[i]\n",
    "                i+=1\n",
    "            res=max(res,j-i)\n",
    "        return res\n",
    "\n",
    "sol = Solution()\n",
    "print(sol.maxFrequency(nums = [1,2,4], k = 5)) #3\n",
    "print(sol.maxFrequency(nums = [1,4,8,13], k = 5)) #2\n",
    "print(sol.maxFrequency(nums = [3,9,6], k = 2)) #1"
   ]
  },
  {
   "cell_type": "markdown",
   "metadata": {},
   "source": [
    "##### 2953.Count Complete Substrings"
   ]
  },
  {
   "cell_type": "code",
   "execution_count": 41,
   "metadata": {},
   "outputs": [
    {
     "name": "stdout",
     "output_type": "stream",
     "text": [
      "3\n",
      "6\n",
      "0\n"
     ]
    }
   ],
   "source": [
    "class Solution:\n",
    "    #TLE\n",
    "    def countCompleteSubstrings_(self, word: str, k: int) -> int:\n",
    "        def hasEqFreq(char_freq, k):\n",
    "            return all(v in [0, k] for v in char_freq.values())\n",
    "\n",
    "        def hasDiffTwo(l, r):\n",
    "            for idx in range(l + 1, r + 1):\n",
    "                if abs(ord(word[idx]) - ord(word[idx - 1])) > 2:\n",
    "                    return False\n",
    "            return True\n",
    "\n",
    "        res = 0\n",
    "        \n",
    "        for sub_len in range(1, 27):\n",
    "            window_size = sub_len * k\n",
    "            l = 0\n",
    "            r = l + window_size - 1\n",
    "\n",
    "            char_freq = Counter(word[l:min(r, len(word)) + 1])\n",
    "\n",
    "            while r < len(word):\n",
    "                if hasEqFreq(char_freq, k) and hasDiffTwo(l, r):\n",
    "                    res += 1\n",
    "\n",
    "                char_freq[word[l]] -= 1\n",
    "                l += 1\n",
    "                r += 1\n",
    "\n",
    "                if r < len(word) and window_size < len(word):\n",
    "                    char_freq[word[r]] += 1\n",
    "\n",
    "        return res\n",
    "    \n",
    "    def countCompleteSubstrings(self, word: str, k: int) -> int:\n",
    "        def hasEqFreq(char_freq, k):\n",
    "            for value in char_freq.values():\n",
    "                if value != k and value != 0:\n",
    "                    return False\n",
    "            return True\n",
    "\n",
    "        def hasDiffTwo(l, r):\n",
    "            for idx in range(l + 1, r + 1):\n",
    "                if abs(ord(word[idx]) - ord(word[idx - 1])) > 2:\n",
    "                    return False\n",
    "            return True\n",
    "\n",
    "        res = 0\n",
    "        unique_chars = len(set(word))\n",
    "        for sub_len in range(1, 27):\n",
    "            if sub_len * k > len(word): break\n",
    "            window_size = sub_len * k\n",
    "            l = 0\n",
    "            r = l + window_size - 1\n",
    "            char_freq = defaultdict(int)\n",
    "\n",
    "            # for i in range(l, min(r + 1, len(word))):\n",
    "            #     char_freq[word[i]] += 1\n",
    "            char_freq = Counter(word[l:min(r + 1, len(word))])\n",
    "\n",
    "            while r < len(word):\n",
    "                if hasEqFreq(char_freq, k) and hasDiffTwo(l, r):\n",
    "                    res += 1\n",
    "\n",
    "                char_freq[word[l]] -= 1\n",
    "                l += 1\n",
    "                r += 1\n",
    "\n",
    "                if r < len(word) and window_size < len(word):\n",
    "                    char_freq[word[r]] += 1\n",
    "\n",
    "        return res\n",
    "\n",
    "sol = Solution()\n",
    "print(sol.countCompleteSubstrings(word = \"igigee\", k = 2)) #3\n",
    "print(sol.countCompleteSubstrings(word = \"aaabbbccc\", k = 3)) #6\n",
    "print(sol.countCompleteSubstrings(word = \"ab\", k = 2)) #0"
   ]
  },
  {
   "attachments": {},
   "cell_type": "markdown",
   "metadata": {},
   "source": [
    "#### Hard"
   ]
  },
  {
   "attachments": {},
   "cell_type": "markdown",
   "metadata": {},
   "source": [
    "##### 76.Minimum Window Substring"
   ]
  },
  {
   "cell_type": "code",
   "execution_count": 14,
   "metadata": {},
   "outputs": [
    {
     "name": "stdout",
     "output_type": "stream",
     "text": [
      "aa\n",
      "BANC\n",
      "a\n",
      "\n"
     ]
    }
   ],
   "source": [
    "class Solution:\n",
    "    ## doesn't work for aa, aa\n",
    "    def minWindow1(self, s: str, t: str) -> str:\n",
    "        if len(t) > len(s): return \"\"\n",
    "        minval, i, j = float('inf'), 0, 0\n",
    "        temp = []\n",
    "        ans = ''\n",
    "        for j in range(len(s)):\n",
    "            temp.append(s[j])\n",
    "            while list(t).issubset(set(temp)):\n",
    "                if minval > j - i + 1:\n",
    "                    minval = j - i + 1\n",
    "                    ans = ''.join(temp)\n",
    "                temp = temp[1:]\n",
    "                i += 1\n",
    "        return ans\n",
    "\n",
    "    def minWindow(self, s: str, t: str) -> str:\n",
    "        if len(t) > len(s) or t == \"\": return \"\"\n",
    "        countT, countSub = {}, {}\n",
    "\n",
    "        # initial required counts\n",
    "        for c in t:\n",
    "            countT[c] = countT.get(c, 0) + 1\n",
    "\n",
    "        have, need = 0, len(countT)\n",
    "        pos, res = [-1, -1], float(\"inf\")\n",
    "        i = 0\n",
    "        for j in range(len(s)):\n",
    "            countSub[s[j]] = countSub.get(s[j], 0) +  1\n",
    "\n",
    "            if s[j] in countT and countT[s[j]] == countSub[s[j]]:\n",
    "                have += 1\n",
    "\n",
    "            while have == need:\n",
    "                if res > (j - i + 1):\n",
    "                    res = j - i + 1\n",
    "                    pos = [i, j]\n",
    "\n",
    "                countSub[s[i]] -= 1\n",
    "            \n",
    "                if s[i] in countT and countSub[s[i]] < countT[s[i]]:\n",
    "                    have -= 1\n",
    "                \n",
    "                i += 1\n",
    "\n",
    "        \n",
    "        if res == float('inf'):\n",
    "            return \"\"\n",
    "        else:\n",
    "            return s[pos[0]:pos[1]+1]\n",
    "\n",
    "\n",
    "sol = Solution()\n",
    "print(sol.minWindow(\"aa\", \"aa\"))\n",
    "print(sol.minWindow(\"ADOBECODEBANC\", \"ABC\"))\n",
    "print(sol.minWindow(\"a\", \"a\"))\n",
    "print(sol.minWindow(\"a\", \"aa\"))"
   ]
  },
  {
   "attachments": {},
   "cell_type": "markdown",
   "metadata": {},
   "source": [
    "##### 239.Sliding window max"
   ]
  },
  {
   "cell_type": "code",
   "execution_count": 8,
   "metadata": {},
   "outputs": [
    {
     "name": "stdout",
     "output_type": "stream",
     "text": [
      "[3, 3, 5, 5, 6, 7]\n",
      "[1]\n"
     ]
    }
   ],
   "source": [
    "class Solution:\n",
    "    def maxSlidingWindow(self, nums: List[int], k: int) -> List[int]:\n",
    "        start, end = 0, 0\n",
    "        res = []\n",
    "        dq = collections.deque()\n",
    "\n",
    "        while end != len(nums):\n",
    "            while dq and nums[dq[-1]] < nums[end]:\n",
    "                dq.pop()\n",
    "\n",
    "            dq.append(end)\n",
    "\n",
    "            if start > dq[0]:\n",
    "                dq.popleft()\n",
    "            \n",
    "            if (end + 1) >= k:\n",
    "                res.append(nums[dq[0]])\n",
    "                start += 1\n",
    "            end += 1\n",
    "        \n",
    "        return res\n",
    "\n",
    "sol = Solution()\n",
    "print(sol.maxSlidingWindow([1,3,-1,-3,5,3,6,7], 3)) #[3,3,5,5,6,7]\n",
    "print(sol.maxSlidingWindow([1], 1)) #1"
   ]
  },
  {
   "cell_type": "markdown",
   "metadata": {},
   "source": [
    "##### 2009.Minimum Number of Operations to Make Array Continuous"
   ]
  },
  {
   "cell_type": "code",
   "execution_count": 25,
   "metadata": {},
   "outputs": [
    {
     "name": "stdout",
     "output_type": "stream",
     "text": [
      "0\n",
      "1\n",
      "3\n"
     ]
    }
   ],
   "source": [
    "class Solution:\n",
    "    # in each iteration we take a starting point \n",
    "    # and find an r such that it is either at start + length of nums (so that last number would be start + length - 1)\n",
    "    # or we run out of numbers\n",
    "    def minOperations(self, nums: List[int]) -> int:\n",
    "        orig_len = len(nums)\n",
    "        nums = sorted(set(nums))\n",
    "\n",
    "        res = orig_len\n",
    "        r = 0\n",
    "        set_len = len(nums)\n",
    "        for l in range(set_len):\n",
    "            while r < set_len and nums[r] < nums[l] + orig_len:\n",
    "                r += 1\n",
    "            \n",
    "            window_size = r - l\n",
    "            res = min(res, orig_len - window_size)\n",
    "\n",
    "        return res\n",
    "\n",
    "\n",
    "sol = Solution()\n",
    "print(sol.minOperations([4,2,5,3])) #0\n",
    "print(sol.minOperations([1,2,3,5,6])) #1\n",
    "print(sol.minOperations([1,10,100,1000])) #3"
   ]
  },
  {
   "cell_type": "markdown",
   "metadata": {},
   "source": [
    "##### 992.Subarrays with K Different Integers"
   ]
  },
  {
   "cell_type": "code",
   "execution_count": 75,
   "metadata": {},
   "outputs": [
    {
     "name": "stdout",
     "output_type": "stream",
     "text": [
      "7\n",
      "3\n"
     ]
    }
   ],
   "source": [
    "class Solution:\n",
    "    def subarraysWithKDistinct_(self, nums: List[int], k: int) -> int:\n",
    "        ans = 0\n",
    "        n = len(nums)\n",
    "        latest = {}\n",
    "        unique = 0\n",
    "        prev = 0\n",
    "        for i in range(n):\n",
    "            if nums[i] not in latest:\n",
    "                unique += 1\n",
    "            latest[nums[i]] = i\n",
    "            if unique > k :\n",
    "                while True:\n",
    "                    if latest[nums[prev]] == prev:\n",
    "                        latest.pop(nums[prev])\n",
    "                        prev += 1\n",
    "                        unique -= 1                        \n",
    "                        break\n",
    "                    else:\n",
    "                        prev += 1\n",
    "                        \n",
    "            if unique == k:\n",
    "                ans += 1\n",
    "                tmp = prev\n",
    "                while True:\n",
    "                    if latest[nums[tmp]] != tmp:\n",
    "                        ans += 1\n",
    "                        tmp += 1\n",
    "                    else:\n",
    "                        break\n",
    "        return ans\n",
    "\n",
    "    def subarraysWithKDistinct(self, nums: List[int], k: int) -> int:\n",
    "        def atMostN(n):\n",
    "            cnt_map = defaultdict(int)\n",
    "\n",
    "            l = 0\n",
    "            res = 0\n",
    "\n",
    "            for r in range(len(nums)):\n",
    "                cnt_map[nums[r]] += 1\n",
    "\n",
    "                while len(cnt_map) > n:\n",
    "                    cnt_map[nums[l]] -= 1\n",
    "\n",
    "                    if cnt_map[nums[l]] == 0:\n",
    "                        del cnt_map[nums[l]]\n",
    "                    \n",
    "                    l += 1\n",
    "                \n",
    "                res += r - l + 1\n",
    "\n",
    "            return res\n",
    "        \n",
    "        return atMostN(k) - atMostN(k - 1)\n",
    "\n",
    "sol = Solution()\n",
    "print(sol.subarraysWithKDistinct(nums = [1,2,1,2,3], k = 2)) #7\n",
    "print(sol.subarraysWithKDistinct(nums = [1,2,1,3,4], k = 3)) #3"
   ]
  },
  {
   "attachments": {},
   "cell_type": "markdown",
   "metadata": {},
   "source": [
    "### Stack"
   ]
  },
  {
   "attachments": {},
   "cell_type": "markdown",
   "metadata": {},
   "source": [
    "#### Easy"
   ]
  },
  {
   "attachments": {},
   "cell_type": "markdown",
   "metadata": {},
   "source": [
    "##### 20.Valid Parentheses"
   ]
  },
  {
   "cell_type": "code",
   "execution_count": 9,
   "metadata": {},
   "outputs": [
    {
     "name": "stdout",
     "output_type": "stream",
     "text": [
      "True\n",
      "True\n",
      "False\n"
     ]
    }
   ],
   "source": [
    "class Solution:\n",
    "    def isValid(self, s: str) -> bool:\n",
    "        stack = []\n",
    "        brace_map = {')':'(', ']':'[', '}': '{'}\n",
    "        for c in s:\n",
    "            if c in brace_map:\n",
    "                top = stack.pop() if stack else \"N\"\n",
    "\n",
    "                if brace_map[c] != top:\n",
    "                    return False\n",
    "            else:\n",
    "                stack.append(c)\n",
    "        return not stack\n",
    "\n",
    "sol = Solution()\n",
    "print(sol.isValid(\"()\")) #True\n",
    "print(sol.isValid(\"()[]{}\")) #True\n",
    "print(sol.isValid(\"(]\")) #False"
   ]
  },
  {
   "cell_type": "markdown",
   "metadata": {},
   "source": [
    "##### 844.Backspace String Compare"
   ]
  },
  {
   "cell_type": "code",
   "execution_count": 44,
   "metadata": {},
   "outputs": [
    {
     "name": "stdout",
     "output_type": "stream",
     "text": [
      "True\n",
      "True\n",
      "False\n",
      "True\n"
     ]
    }
   ],
   "source": [
    "class Solution:\n",
    "    def backspaceCompare(self, s: str, t: str) -> bool:\n",
    "        def helper(a):\n",
    "            stk = []\n",
    "            for ch in a:\n",
    "                if ch == '#':\n",
    "                    if stk:\n",
    "                        stk.pop()\n",
    "                else:\n",
    "                    stk.append(ch)\n",
    "\n",
    "            return ''.join(stk)\n",
    "\n",
    "        return helper(s) == helper(t)\n",
    "\n",
    "\n",
    "sol = Solution()\n",
    "print(sol.backspaceCompare(s = \"ab#c\", t = \"ad#c\")) #True\n",
    "print(sol.backspaceCompare(s = \"ab##\", t = \"c#d#\")) #True\n",
    "print(sol.backspaceCompare(s = \"a#c\", t = \"b\")) #False\n",
    "print(sol.backspaceCompare(s = \"y#fo##f\", t = \"y#f#o##f\")) #True"
   ]
  },
  {
   "attachments": {},
   "cell_type": "markdown",
   "metadata": {},
   "source": [
    "#### Medium"
   ]
  },
  {
   "attachments": {},
   "cell_type": "markdown",
   "metadata": {},
   "source": [
    "##### 155.Min Stack"
   ]
  },
  {
   "cell_type": "code",
   "execution_count": null,
   "metadata": {},
   "outputs": [],
   "source": [
    "class MinStack_:\n",
    "\n",
    "    def __init__(self):\n",
    "        self.stack = []\n",
    "        self.minStack = []\n",
    "\n",
    "    def push(self, val: int) -> None:\n",
    "        self.stack.append(val)\n",
    "        \n",
    "        if (not self.minStack) or (val <= self.getMin()):\n",
    "            self.minStack.append(val)\n",
    "\n",
    "    def pop(self) -> None:\n",
    "        poppedval = self.stack.pop()\n",
    "        \n",
    "        if poppedval == self.getMin():\n",
    "            self.minStack.pop()\n",
    "\n",
    "    def top(self) -> int:\n",
    "        return self.stack[-1]\n",
    "\n",
    "    def getMin(self) -> int:\n",
    "        return self.minStack[-1]\n",
    "        \n",
    "\n",
    "\n",
    "# Your MinStack object will be instantiated and called as such:\n",
    "# obj = MinStack()\n",
    "# obj.push(val)\n",
    "# obj.pop()\n",
    "# param_3 = obj.top()\n",
    "# param_4 = obj.getMin()\n",
    "\n",
    "\n",
    "class MinStack:\n",
    "\n",
    "    def __init__(self):\n",
    "        self.minStack = [] # stores value and min val\n",
    "\n",
    "    def push(self, val: int) -> None:\n",
    "        if (not self.minStack) or (val <= self.getMin()):\n",
    "            self.minStack.append((val, val))\n",
    "        else:\n",
    "            self.minStack.append((val, self.getMin()))\n",
    "\n",
    "    def pop(self) -> None:\n",
    "        self.minStack.pop()\n",
    "\n",
    "    def top(self) -> int:\n",
    "        return self.minStack[-1][0]\n",
    "\n",
    "    def getMin(self) -> int:\n",
    "        return self.minStack[-1][1]\n",
    "\n",
    "\n",
    "# Your MinStack object will be instantiated and called as such:\n",
    "# obj = MinStack()\n",
    "# obj.push(val)\n",
    "# obj.pop()\n",
    "# param_3 = obj.top()\n",
    "# param_4 = obj.getMin()"
   ]
  },
  {
   "attachments": {},
   "cell_type": "markdown",
   "metadata": {},
   "source": [
    "##### 150.Evaluate Reverse Polish Notation"
   ]
  },
  {
   "cell_type": "code",
   "execution_count": 9,
   "metadata": {},
   "outputs": [
    {
     "name": "stdout",
     "output_type": "stream",
     "text": [
      "9\n",
      "6\n",
      "22\n",
      "0\n"
     ]
    }
   ],
   "source": [
    "class Solution:\n",
    "    def evalRPN(self, tokens: List[str]) -> int:\n",
    "        calc_stack = []\n",
    "\n",
    "        \n",
    "        op = {'+': lambda x, y: x + y,\n",
    "            '-': lambda x, y: x - y,\n",
    "            '*': lambda x, y: x * y,\n",
    "            '/': lambda x, y: x / y\n",
    "            }\n",
    "\n",
    "        for char in tokens:\n",
    "            if not char.lstrip('-').isdigit():\n",
    "                a, b = calc_stack.pop(), calc_stack.pop()\n",
    "                calc_stack.append(int(op[char](b, a)))\n",
    "            else:\n",
    "                calc_stack.append(int(char))\n",
    "\n",
    "        return calc_stack[0]\n",
    "\n",
    "sol = Solution()\n",
    "print(sol.evalRPN([\"2\",\"1\",\"+\",\"3\",\"*\"])) #9\n",
    "print(sol.evalRPN([\"4\",\"13\",\"5\",\"/\",\"+\"])) #6\n",
    "print(sol.evalRPN([\"10\",\"6\",\"9\",\"3\",\"+\",\"-11\",\"*\",\"/\",\"*\",\"17\",\"+\",\"5\",\"+\"])) #22\n",
    "print(sol.evalRPN([\"0\", \"3\", \"/\"])) #0"
   ]
  },
  {
   "attachments": {},
   "cell_type": "markdown",
   "metadata": {},
   "source": [
    "##### 22.Generate Parentheses"
   ]
  },
  {
   "cell_type": "code",
   "execution_count": 11,
   "metadata": {},
   "outputs": [
    {
     "name": "stdout",
     "output_type": "stream",
     "text": [
      "['((()))', '(()())', '(())()', '()(())', '()()()']\n",
      "['()']\n"
     ]
    }
   ],
   "source": [
    "class Solution:\n",
    "    def generateParenthesis(self, n: int) -> List[str]: # Store the temporary parantheses in a stack\n",
    "        stack = []\n",
    "        res = []\n",
    "\n",
    "        def backtrack(open_c, close_c):\n",
    "            if open_c == close_c == n:\n",
    "                res.append(\"\".join(stack))\n",
    "                return\n",
    "            \n",
    "            if open_c < n:\n",
    "                stack.append('(')\n",
    "                backtrack(open_c + 1, close_c)\n",
    "                stack.pop()\n",
    "\n",
    "            if close_c < open_c:\n",
    "                stack.append(')')\n",
    "                backtrack(open_c, close_c + 1)\n",
    "                stack.pop()\n",
    "\n",
    "        backtrack(0,0)\n",
    "        return res\n",
    "\n",
    "\n",
    "sol = Solution()\n",
    "print(sol.generateParenthesis(3)) #[\"((()))\",\"(()())\",\"(())()\",\"()(())\",\"()()()\"]\n",
    "print(sol.generateParenthesis(1)) #[\"()\"]"
   ]
  },
  {
   "attachments": {},
   "cell_type": "markdown",
   "metadata": {},
   "source": [
    "##### 739.Daily Temperatures"
   ]
  },
  {
   "cell_type": "code",
   "execution_count": 14,
   "metadata": {},
   "outputs": [
    {
     "name": "stdout",
     "output_type": "stream",
     "text": [
      "[1, 1, 4, 2, 1, 1, 0, 0]\n",
      "[1, 1, 1, 0]\n",
      "[1, 1, 0]\n"
     ]
    }
   ],
   "source": [
    "class Solution:\n",
    "    def dailyTemperatures(self, temperatures: List[int]) -> List[int]:\n",
    "        temp_stack = [] # only store positions\n",
    "        res = [0] * len(temperatures)\n",
    "\n",
    "        for i in range(len(temperatures)):\n",
    "            while temp_stack and temperatures[temp_stack[-1]] < temperatures[i]:\n",
    "                pop_val = temp_stack.pop()\n",
    "                res[pop_val] = i - pop_val\n",
    "            \n",
    "            temp_stack.append(i)\n",
    "        return res\n",
    "\n",
    "\n",
    "\n",
    "sol = Solution()\n",
    "print(sol.dailyTemperatures([73,74,75,71,69,72,76,73])) #[1,1,4,2,1,1,0,0]\n",
    "print(sol.dailyTemperatures([30,40,50,60])) #[1,1,1,0]\n",
    "print(sol.dailyTemperatures([30,60,90])) #[1,1,0]"
   ]
  },
  {
   "attachments": {},
   "cell_type": "markdown",
   "metadata": {},
   "source": [
    "##### 853.Car Fleet"
   ]
  },
  {
   "cell_type": "code",
   "execution_count": 3,
   "metadata": {},
   "outputs": [
    {
     "name": "stdout",
     "output_type": "stream",
     "text": [
      "3\n",
      "1\n",
      "1\n"
     ]
    }
   ],
   "source": [
    "class Solution:\n",
    "    def carFleet(self, target: int, position: List[int], speed: List[int]) -> int:\n",
    "        combined = sorted([(position[i], speed[i]) for i in range(len(position))])\n",
    "        \n",
    "        duration_stack = []\n",
    "        for pos, sp in combined[::-1]:\n",
    "            duration_stack.append((target - pos)/ sp)\n",
    "            if len(duration_stack) >=2 and duration_stack[-1] <= duration_stack[-2]:\n",
    "                duration_stack.pop()\n",
    "        return len(duration_stack)\n",
    "\n",
    "sol = Solution()\n",
    "print(sol.carFleet(12, [10,8,0,5,3], [2,4,1,1,3])) #3\n",
    "print(sol.carFleet(10, [3], [3])) #3\n",
    "print(sol.carFleet(100, [0, 2, 4], [4, 2, 1])) #1"
   ]
  },
  {
   "attachments": {},
   "cell_type": "markdown",
   "metadata": {},
   "source": [
    "##### 2390.Removing Stars From a String"
   ]
  },
  {
   "cell_type": "code",
   "execution_count": 5,
   "metadata": {},
   "outputs": [
    {
     "name": "stdout",
     "output_type": "stream",
     "text": [
      "lecoe\n",
      "\n"
     ]
    }
   ],
   "source": [
    "class Solution:\n",
    "    def removeStars(self, s: str) -> str:\n",
    "        stk = []\n",
    "\n",
    "        for ch in s:\n",
    "            if ch == \"*\":\n",
    "                stk.pop()\n",
    "            else:\n",
    "                stk.append(ch)\n",
    "\n",
    "        return \"\".join(stk)\n",
    "\n",
    "sol = Solution()\n",
    "print(sol.removeStars(\"leet**cod*e\")) #\"lecoe\"\n",
    "print(sol.removeStars(\"erase*****\")) #\"\""
   ]
  },
  {
   "attachments": {},
   "cell_type": "markdown",
   "metadata": {},
   "source": [
    "##### 735.Asteroid Collision\n"
   ]
  },
  {
   "cell_type": "code",
   "execution_count": 13,
   "metadata": {},
   "outputs": [
    {
     "name": "stdout",
     "output_type": "stream",
     "text": [
      "[5, 10]\n",
      "[]\n",
      "[10]\n",
      "[-10]\n"
     ]
    }
   ],
   "source": [
    "class Solution:\n",
    "    def asteroidCollision(self, asteroids: List[int]) -> List[int]:\n",
    "        stk = []\n",
    "\n",
    "        i = 0\n",
    "        while i < len(asteroids):\n",
    "            curr = asteroids[i]\n",
    "            \n",
    "            while stk and stk[-1] > 0 and curr < 0: #if both are travelling in opposite\n",
    "                if stk[-1] < curr * -1: #right is smaller\n",
    "                    stk.pop()\n",
    "                    continue\n",
    "\n",
    "                if stk[-1] == curr * -1: #both break\n",
    "                    stk.pop()\n",
    "                    \n",
    "                curr = float('-inf')\n",
    "                break\n",
    "\n",
    "            if curr != float('-inf'):\n",
    "                stk.append(curr)\n",
    "            i += 1\n",
    "\n",
    "        return stk\n",
    "\n",
    "\n",
    "sol = Solution()\n",
    "print(sol.asteroidCollision([5,10,-5])) #[5,10]\n",
    "print(sol.asteroidCollision([8,-8])) #[]\n",
    "print(sol.asteroidCollision([10,2,-5])) #[10]\n",
    "print(sol.asteroidCollision([-10,2,-2])) #[-10]"
   ]
  },
  {
   "cell_type": "markdown",
   "metadata": {},
   "source": [
    "##### 316.Remove Duplicate Letters"
   ]
  },
  {
   "cell_type": "code",
   "execution_count": 33,
   "metadata": {},
   "outputs": [
    {
     "name": "stdout",
     "output_type": "stream",
     "text": [
      "abc\n",
      "acdb\n",
      "abcd\n"
     ]
    }
   ],
   "source": [
    "class Solution:\n",
    "    def removeDuplicateLetters(self, s: str) -> str:\n",
    "        char_freq = defaultdict(int)\n",
    "\n",
    "        for ch in s:\n",
    "            char_freq[ch] += 1\n",
    "\n",
    "        stk = []\n",
    "        seen = set()\n",
    "        \n",
    "        for ch in s:\n",
    "            char_freq[ch] -= 1\n",
    "            if ch in seen:\n",
    "                continue\n",
    "            \n",
    "            # if the incoming character is lesser than top and there are more top characters\n",
    "            # remove the top character\n",
    "            while stk and stk[-1] > ch and char_freq[stk[-1]] > 0:\n",
    "                seen.remove(stk[-1])\n",
    "                stk.pop()\n",
    "            \n",
    "            stk.append(ch)\n",
    "            seen.add(ch)\n",
    "\n",
    "        return ''.join(stk)\n",
    "    \n",
    "    def removeDuplicateLetters__(self, s: str) -> str:\n",
    "        stack = []\n",
    "        seen = set() \n",
    "        last_occ = {c: i for i, c in enumerate(s)}\n",
    "        \n",
    "        for i, c in enumerate(s):\n",
    "            if c not in seen:\n",
    "                \n",
    "                while stack and c < stack[-1] and i < last_occ[stack[-1]]:\n",
    "                    seen.discard(stack.pop())\n",
    "                seen.add(c)\n",
    "                stack.append(c)\n",
    "        \n",
    "        return ''.join(stack)\n",
    "\n",
    "\n",
    "            \n",
    "\n",
    "sol = Solution()\n",
    "print(sol.removeDuplicateLetters(\"bcabc\")) # \"abc\"\n",
    "print(sol.removeDuplicateLetters(\"cbacdcbc\")) # \"acdb\"\n",
    "print(sol.removeDuplicateLetters(\"cbacdcbcad\")) # \"abcd\""
   ]
  },
  {
   "cell_type": "markdown",
   "metadata": {},
   "source": [
    "##### 456.132 Pattern"
   ]
  },
  {
   "cell_type": "code",
   "execution_count": 11,
   "metadata": {},
   "outputs": [
    {
     "name": "stdout",
     "output_type": "stream",
     "text": [
      "False\n",
      "True\n",
      "True\n"
     ]
    }
   ],
   "source": [
    "class Solution:\n",
    "    def find132pattern(self, nums: List[int]) -> bool:\n",
    "        stk, third = [], float('-inf')\n",
    "        \n",
    "        for num in reversed(nums):\n",
    "            if num < third:\n",
    "                return True\n",
    "            while stk and stk[-1] < num:\n",
    "                third = stk.pop()\n",
    "            stk.append(num)\n",
    "        return False\n",
    "\n",
    "sol = Solution()\n",
    "print(sol.find132pattern([1,2,3,4])) #false\n",
    "print(sol.find132pattern([3,1,4,2])) #true\n",
    "print(sol.find132pattern([-1,3,2,0])) #true"
   ]
  },
  {
   "cell_type": "markdown",
   "metadata": {},
   "source": [
    "##### 856.Score of Parentheses"
   ]
  },
  {
   "cell_type": "code",
   "execution_count": 58,
   "metadata": {},
   "outputs": [
    {
     "name": "stdout",
     "output_type": "stream",
     "text": [
      "1\n",
      "2\n",
      "2\n",
      "5\n"
     ]
    }
   ],
   "source": [
    "class Solution:\n",
    "    def scoreOfParentheses(self, s: str) -> int:\n",
    "        stk = [0]\n",
    "        for ch in s:\n",
    "            if ch == '(':\n",
    "                stk.append(0)\n",
    "            else:\n",
    "                v = stk.pop()\n",
    "                stk[-1] += max(2 * v, 1)\n",
    "\n",
    "        return stk.pop()\n",
    "\n",
    "sol = Solution()\n",
    "print(sol.scoreOfParentheses(\"()\")) #1\n",
    "print(sol.scoreOfParentheses(\"(())\")) #2\n",
    "print(sol.scoreOfParentheses(\"()()\")) #2\n",
    "print(sol.scoreOfParentheses(\"(()())()\")) #5"
   ]
  },
  {
   "cell_type": "markdown",
   "metadata": {},
   "source": [
    "##### 402.Remove K Digits"
   ]
  },
  {
   "cell_type": "code",
   "execution_count": 115,
   "metadata": {},
   "outputs": [
    {
     "name": "stdout",
     "output_type": "stream",
     "text": [
      "1219\n",
      "200\n",
      "0\n"
     ]
    }
   ],
   "source": [
    "class Solution:\n",
    "    def removeKdigits(self, num: str, k: int) -> str:\n",
    "        stk = []\n",
    "        for n in num:\n",
    "            while stk and k and stk[-1] > n:\n",
    "                stk.pop()\n",
    "                k -= 1\n",
    "            \n",
    "            # to avoid leading zeros\n",
    "            if stk or n != '0': \n",
    "                stk.append(n)\n",
    "\n",
    "        # if there is still k remove last k                \n",
    "        if k: \n",
    "            stk = stk[0 : -k]\n",
    "            \n",
    "        return ''.join(stk) or '0'\n",
    "\n",
    "sol = Solution()\n",
    "print(sol.removeKdigits(num = \"1432219\", k = 3)) #\"1219\"\n",
    "print(sol.removeKdigits(num = \"10200\", k = 1)) #\"200\"\n",
    "print(sol.removeKdigits(num = \"10\", k = 2)) #\"0\""
   ]
  },
  {
   "attachments": {},
   "cell_type": "markdown",
   "metadata": {},
   "source": [
    "#### Hard"
   ]
  },
  {
   "attachments": {},
   "cell_type": "markdown",
   "metadata": {},
   "source": [
    "##### 84.Largest Rectangle in Histogram"
   ]
  },
  {
   "cell_type": "code",
   "execution_count": 12,
   "metadata": {},
   "outputs": [
    {
     "name": "stdout",
     "output_type": "stream",
     "text": [
      "10\n",
      "4\n"
     ]
    }
   ],
   "source": [
    "class Solution:\n",
    "    def largestRectangleArea(self, heights: List[int]) -> int:\n",
    "        MIS = [] # monotonic increasing (pos, height)\n",
    "        max_area = 0\n",
    "        for pos, height in enumerate(heights):\n",
    "            start_pos = pos\n",
    "            while MIS and MIS[-1][1] > height:\n",
    "                curr_pos, curr_height =  MIS.pop()\n",
    "                max_area = max(max_area, (pos - curr_pos) * curr_height)\n",
    "                start_pos = curr_pos\n",
    "            \n",
    "            MIS.append((start_pos, height))\n",
    "\n",
    "        for pos, height in MIS:\n",
    "            max_area = max(max_area, height * (len(heights) - pos))\n",
    "\n",
    "        return max_area\n",
    "\n",
    "sol = Solution()\n",
    "print(sol.largestRectangleArea([2,1,5,6,2,3])) #10\n",
    "print(sol.largestRectangleArea([2,4])) #4"
   ]
  },
  {
   "cell_type": "markdown",
   "metadata": {},
   "source": [
    "##### 224.Basic Calculator"
   ]
  },
  {
   "cell_type": "code",
   "execution_count": 24,
   "metadata": {},
   "outputs": [
    {
     "name": "stdout",
     "output_type": "stream",
     "text": [
      "2\n"
     ]
    }
   ],
   "source": [
    "class Solution:\n",
    "    #TLE\n",
    "    def calculate_(self, s: str) -> int:\n",
    "\n",
    "        # gives the start and end of the braces, \n",
    "        # even if there's another pair in between them\n",
    "        def findClosing(i: int) -> int:\n",
    "            level = 0\n",
    "            while i < len(s):\n",
    "                if s[i] == \"(\":\n",
    "                    level += 1\n",
    "                elif s[i] == \")\":\n",
    "                    level -= 1\n",
    "                    if level == 0:\n",
    "                        return i\n",
    "                i += 1\n",
    "            return i\n",
    "        \n",
    "\n",
    "        stk = []\n",
    "        num = 0\n",
    "        op = \"+\"\n",
    "        i = 0\n",
    "        while i < len(s):\n",
    "            c = s[i]\n",
    "            if c.isdigit():\n",
    "                num = num * 10 + int(c)\n",
    "            elif c == \"(\":\n",
    "                j = findClosing(i)\n",
    "                num = self.calculate(s[i+1:j])\n",
    "                i = j \n",
    "            if c in \"+-\" or i == len(s) - 1:\n",
    "                if op == \"+\":\n",
    "                    stk.append(num)\n",
    "                else:\n",
    "                    stk.append(-num)\n",
    "                \n",
    "                op = c\n",
    "                num = 0\n",
    "            i += 1\n",
    "        return sum(stk)\n",
    "\n",
    "    # WRONG\n",
    "    def calculate__(self, s: str) -> int:\n",
    "        s = s.strip().replace(\" \", \"\")\n",
    "\n",
    "        if not s:\n",
    "            return 0\n",
    "        \n",
    "        def helper(num_stack, op_stack):\n",
    "            num2 = num_stack.pop() if num_stack else 0\n",
    "            num1 = num_stack.pop() if num_stack else 0\n",
    "\n",
    "            op = op_stack.pop()\n",
    "\n",
    "            if op == '+':\n",
    "                ans = num1 + num2\n",
    "            else:\n",
    "                ans = num1 - num2\n",
    "\n",
    "            num_stack.append(ans)\n",
    "\n",
    "        op_stack = []\n",
    "        num_stack = []\n",
    "\n",
    "        i = 0\n",
    "        while i < len(s):\n",
    "            if s[i].isdigit():\n",
    "                num = 0\n",
    "                while i < len(s) and s[i].isdigit():\n",
    "                    num = num * 10 + int(s[i])\n",
    "                    i += 1\n",
    "\n",
    "                num_stack.append(num)\n",
    "            else:\n",
    "                op = s[i]\n",
    "                if not op_stack:\n",
    "                    op_stack.append(op)\n",
    "                    i += 1\n",
    "                elif op == '(':\n",
    "                    op_stack.append(op)\n",
    "                    i += 1\n",
    "                elif op == '+' or op == '-':\n",
    "                    top = op_stack[-1]\n",
    "                    if top == '(':\n",
    "                        op_stack.append(op)\n",
    "                        i += 1\n",
    "                    else:\n",
    "                        # there is a pending operation resolve it\n",
    "                        helper(num_stack, op_stack)\n",
    "                elif op == ')':\n",
    "                    # finish all operations within the braces\n",
    "                    while op_stack[-1] != '(':\n",
    "                        helper(num_stack, op_stack)\n",
    "                    op_stack.pop()\n",
    "                    i += 1\n",
    "\n",
    "        while op_stack:\n",
    "            helper(num_stack, op_stack)\n",
    "\n",
    "        return num_stack[-1]\n",
    "\n",
    "    def calculate(self, s):\n",
    "        s = s.strip().replace(\" \", \"\")\n",
    "        \n",
    "        def evaluate(i):\n",
    "            res, digit, sign = 0, 0, 1\n",
    "            \n",
    "            while i < len(s):\n",
    "                if s[i].isdigit():\n",
    "                    digit = digit * 10 + int(s[i])\n",
    "                elif s[i] in '+-':\n",
    "                    res += digit * sign\n",
    "                    digit = 0\n",
    "                    sign = 1 if s[i] == '+' else -1\n",
    "                elif s[i] == '(':\n",
    "                    subres, i = evaluate(i+1)\n",
    "                    res += sign * subres\n",
    "                elif s[i] == ')':\n",
    "                    res += digit * sign\n",
    "                    return res, i\n",
    "                i += 1\n",
    "\n",
    "            return res + digit * sign\n",
    "        \n",
    "        return evaluate(0)\n",
    "    \n",
    "\n",
    "    \n",
    "\n",
    "sol = Solution()    \n",
    "print(sol.calculate(\"1 + 1\")) #2\n",
    "# print(sol.calculate(\" 2-1 + 2 \")) #3\n",
    "# print(sol.calculate(\"(1+(4+5+2)-3)+(6+8)\")) #23\n",
    "# print(sol.calculate(\"1-(     -2)\")) #3\n",
    "    "
   ]
  },
  {
   "cell_type": "markdown",
   "metadata": {},
   "source": [
    "##### 772.Basic Calculator III"
   ]
  },
  {
   "cell_type": "code",
   "execution_count": 26,
   "metadata": {},
   "outputs": [
    {
     "name": "stdout",
     "output_type": "stream",
     "text": [
      "21\n"
     ]
    },
    {
     "ename": "IndexError",
     "evalue": "pop from empty list",
     "output_type": "error",
     "traceback": [
      "\u001b[1;31m---------------------------------------------------------------------------\u001b[0m",
      "\u001b[1;31mIndexError\u001b[0m                                Traceback (most recent call last)",
      "\u001b[1;32md:\\Work\\NeetCode\\NeetCode.ipynb Cell 167\u001b[0m line \u001b[0;36m<cell line: 121>\u001b[1;34m()\u001b[0m\n\u001b[0;32m    <a href='vscode-notebook-cell:/d%3A/Work/NeetCode/NeetCode.ipynb#Z2204sZmlsZQ%3D%3D?line=117'>118</a>\u001b[0m \u001b[39m# print(sol.calculate('1+1')) #2\u001b[39;00m\n\u001b[0;32m    <a href='vscode-notebook-cell:/d%3A/Work/NeetCode/NeetCode.ipynb#Z2204sZmlsZQ%3D%3D?line=118'>119</a>\u001b[0m \u001b[39m# print(sol.calculate('6 - 4 / 2')) #4\u001b[39;00m\n\u001b[0;32m    <a href='vscode-notebook-cell:/d%3A/Work/NeetCode/NeetCode.ipynb#Z2204sZmlsZQ%3D%3D?line=119'>120</a>\u001b[0m \u001b[39mprint\u001b[39m(sol\u001b[39m.\u001b[39mcalculate(\u001b[39m'\u001b[39m\u001b[39m2*(5+5*2)/3+(6/2+8)\u001b[39m\u001b[39m'\u001b[39m)) \u001b[39m#21\u001b[39;00m\n\u001b[1;32m--> <a href='vscode-notebook-cell:/d%3A/Work/NeetCode/NeetCode.ipynb#Z2204sZmlsZQ%3D%3D?line=120'>121</a>\u001b[0m \u001b[39mprint\u001b[39m(sol\u001b[39m.\u001b[39;49mcalculate(\u001b[39m\"\u001b[39;49m\u001b[39m1-(     -2)\u001b[39;49m\u001b[39m\"\u001b[39;49m))\n",
      "\u001b[1;32md:\\Work\\NeetCode\\NeetCode.ipynb Cell 167\u001b[0m line \u001b[0;36mSolution.calculate\u001b[1;34m(self, s)\u001b[0m\n\u001b[0;32m     <a href='vscode-notebook-cell:/d%3A/Work/NeetCode/NeetCode.ipynb#Z2204sZmlsZQ%3D%3D?line=90'>91</a>\u001b[0m             i \u001b[39m+\u001b[39m\u001b[39m=\u001b[39m \u001b[39m1\u001b[39m\n\u001b[0;32m     <a href='vscode-notebook-cell:/d%3A/Work/NeetCode/NeetCode.ipynb#Z2204sZmlsZQ%3D%3D?line=92'>93</a>\u001b[0m \u001b[39mwhile\u001b[39;00m op_stack:\n\u001b[1;32m---> <a href='vscode-notebook-cell:/d%3A/Work/NeetCode/NeetCode.ipynb#Z2204sZmlsZQ%3D%3D?line=93'>94</a>\u001b[0m     \u001b[39mself\u001b[39;49m\u001b[39m.\u001b[39;49mcalculate_helper(num_stack, op_stack)\n\u001b[0;32m     <a href='vscode-notebook-cell:/d%3A/Work/NeetCode/NeetCode.ipynb#Z2204sZmlsZQ%3D%3D?line=95'>96</a>\u001b[0m \u001b[39mreturn\u001b[39;00m num_stack[\u001b[39m-\u001b[39m\u001b[39m1\u001b[39m]\n",
      "\u001b[1;32md:\\Work\\NeetCode\\NeetCode.ipynb Cell 167\u001b[0m line \u001b[0;36mSolution.calculate_helper\u001b[1;34m(self, num_stack, op_stack)\u001b[0m\n\u001b[0;32m     <a href='vscode-notebook-cell:/d%3A/Work/NeetCode/NeetCode.ipynb#Z2204sZmlsZQ%3D%3D?line=97'>98</a>\u001b[0m \u001b[39mdef\u001b[39;00m \u001b[39mcalculate_helper\u001b[39m(\u001b[39mself\u001b[39m, num_stack, op_stack):\n\u001b[0;32m     <a href='vscode-notebook-cell:/d%3A/Work/NeetCode/NeetCode.ipynb#Z2204sZmlsZQ%3D%3D?line=98'>99</a>\u001b[0m     num2 \u001b[39m=\u001b[39m num_stack\u001b[39m.\u001b[39mpop()\n\u001b[1;32m--> <a href='vscode-notebook-cell:/d%3A/Work/NeetCode/NeetCode.ipynb#Z2204sZmlsZQ%3D%3D?line=99'>100</a>\u001b[0m     num1 \u001b[39m=\u001b[39m num_stack\u001b[39m.\u001b[39;49mpop()\n\u001b[0;32m    <a href='vscode-notebook-cell:/d%3A/Work/NeetCode/NeetCode.ipynb#Z2204sZmlsZQ%3D%3D?line=101'>102</a>\u001b[0m     op \u001b[39m=\u001b[39m op_stack\u001b[39m.\u001b[39mpop()\n\u001b[0;32m    <a href='vscode-notebook-cell:/d%3A/Work/NeetCode/NeetCode.ipynb#Z2204sZmlsZQ%3D%3D?line=103'>104</a>\u001b[0m     \u001b[39mif\u001b[39;00m op \u001b[39m==\u001b[39m \u001b[39m'\u001b[39m\u001b[39m+\u001b[39m\u001b[39m'\u001b[39m:\n",
      "\u001b[1;31mIndexError\u001b[0m: pop from empty list"
     ]
    }
   ],
   "source": [
    "class Solution:\n",
    "    # DFS and recursion\n",
    "    # TLE\n",
    "    def calculate_(self, s: str) -> int:\n",
    "        # gives the start and end of the braces, \n",
    "        # even if there's another pair in between them\n",
    "        def findClosing(s: str, i: int) -> int:\n",
    "            level = 0\n",
    "            while i < len(s):\n",
    "                if s[i] == \"(\":\n",
    "                    level += 1\n",
    "                elif s[i] == \")\":\n",
    "                    level -= 1\n",
    "                    if level == 0:\n",
    "                        return i\n",
    "                i += 1\n",
    "            return i\n",
    "\n",
    "        stk = []\n",
    "        num = 0\n",
    "        op = \"+\"\n",
    "        i = 0\n",
    "        while i < len(s):\n",
    "            c = s[i]\n",
    "            if c.isdigit():\n",
    "                num = num * 10 + int(c)\n",
    "            elif c == \"(\":\n",
    "                j = findClosing(s, i)\n",
    "                num = self.calculate(s[i+1:j]) # j is ')'\n",
    "                i = j # out if, i will +1 below\n",
    "            if c in \"+-*/\" or i == len(s) - 1:\n",
    "                if op == \"+\":\n",
    "                    stk.append(num)\n",
    "                elif op == \"-\":\n",
    "                    stk.append(-num)\n",
    "                elif op == \"*\":\n",
    "                    stk[-1] *= num\n",
    "                else:\n",
    "                    stk[-1] = int(stk[-1] / num)\n",
    "                op = c\n",
    "                num = 0\n",
    "            i += 1\n",
    "        return sum(stk)\n",
    "\n",
    "    \n",
    "    \n",
    "    def calculate(self, s: str) -> int:\n",
    "        # remove leading and trailing spaces and white spaces.\n",
    "        s = s.strip().replace(\" \", \"\")\n",
    "\n",
    "        if not s:\n",
    "            return 0\n",
    "\n",
    "        op_stack = []\n",
    "        num_stack = []\n",
    "\n",
    "        i = 0\n",
    "        while i < len(s):\n",
    "            if s[i].isdigit():\n",
    "                num = 0\n",
    "                while i < len(s) and s[i].isdigit():\n",
    "                    num = num * 10 + int(s[i])\n",
    "                    i += 1\n",
    "                num_stack.append(num)\n",
    "            else:\n",
    "                op = s[i]\n",
    "                if not op_stack:\n",
    "                    op_stack.append(op)\n",
    "                    i += 1\n",
    "                elif op == '+' or op == '-':\n",
    "                    top = op_stack[-1]\n",
    "                    if top == '(':\n",
    "                        op_stack.append(op)\n",
    "                        i += 1\n",
    "                    else:\n",
    "                        self.calculate_helper(num_stack, op_stack)\n",
    "                elif op == '*' or op == '/':\n",
    "                    top = op_stack[-1]\n",
    "                    if top == '(' or top == '+' or top == '-':\n",
    "                        op_stack.append(op)\n",
    "                        i += 1\n",
    "                    else:\n",
    "                        self.calculate_helper(num_stack, op_stack)\n",
    "                elif op == '(':\n",
    "                    op_stack.append(op)\n",
    "                    i += 1\n",
    "                elif op == ')':\n",
    "                    while op_stack[-1] != '(':\n",
    "                        self.calculate_helper(num_stack, op_stack)\n",
    "                    op_stack.pop()\n",
    "                    i += 1\n",
    "\n",
    "        while op_stack:\n",
    "            self.calculate_helper(num_stack, op_stack)\n",
    "\n",
    "        return num_stack[-1]\n",
    "\n",
    "    def calculate_helper(self, num_stack, op_stack):\n",
    "        num2 = num_stack.pop()\n",
    "        num1 = num_stack.pop()\n",
    "\n",
    "        op = op_stack.pop()\n",
    "\n",
    "        if op == '+':\n",
    "            ans = num1 + num2\n",
    "        elif op == '-':\n",
    "            ans = num1 - num2\n",
    "        elif op == '*':\n",
    "            ans = num1 * num2\n",
    "        else:\n",
    "            ans = num1 // num2\n",
    "\n",
    "        num_stack.append(ans)\n",
    "\n",
    "            \n",
    "\n",
    "sol = Solution()\n",
    "# print(sol.calculate('1+1')) #2\n",
    "# print(sol.calculate('6 - 4 / 2')) #4\n",
    "print(sol.calculate('2*(5+5*2)/3+(6/2+8)')) #21\n",
    "print(sol.calculate(\"1-(     -2)\")) #3"
   ]
  },
  {
   "attachments": {},
   "cell_type": "markdown",
   "metadata": {},
   "source": [
    "### Binary Search"
   ]
  },
  {
   "attachments": {},
   "cell_type": "markdown",
   "metadata": {},
   "source": [
    "#### Easy"
   ]
  },
  {
   "attachments": {},
   "cell_type": "markdown",
   "metadata": {},
   "source": [
    "##### 704.Binary Search"
   ]
  },
  {
   "cell_type": "code",
   "execution_count": 14,
   "metadata": {},
   "outputs": [
    {
     "name": "stdout",
     "output_type": "stream",
     "text": [
      "4\n",
      "-1\n"
     ]
    }
   ],
   "source": [
    "class Solution:\n",
    "    def search(self, nums: List[int], target: int) -> int:\n",
    "        low, high = 0, len(nums) - 1\n",
    "\n",
    "        while low <= high:\n",
    "            mid = (low + high)//2\n",
    "\n",
    "            if nums[mid] < target:\n",
    "                low = mid + 1\n",
    "            elif nums[mid] > target:\n",
    "                high = mid -1\n",
    "            else:\n",
    "                return mid\n",
    "        return -1\n",
    "\n",
    "sol = Solution()\n",
    "print(sol.search([-1,0,3,5,9,12], 9)) #4\n",
    "print(sol.search([-1,0,3,5,9,12], 2)) #-1"
   ]
  },
  {
   "attachments": {},
   "cell_type": "markdown",
   "metadata": {},
   "source": [
    "#### Medium"
   ]
  },
  {
   "attachments": {},
   "cell_type": "markdown",
   "metadata": {},
   "source": [
    "##### 33.Search in Rotated Sorted Array"
   ]
  },
  {
   "cell_type": "code",
   "execution_count": 9,
   "metadata": {},
   "outputs": [
    {
     "name": "stdout",
     "output_type": "stream",
     "text": [
      "4\n",
      "-1\n",
      "-1\n"
     ]
    }
   ],
   "source": [
    "class Solution:\n",
    "    def search(self, nums: List[int], target: int) -> int:\n",
    "        l, r = 0, len(nums) - 1\n",
    "\n",
    "        while l <= r:\n",
    "            m = (l + r)//2\n",
    "\n",
    "            if nums[m] == target:\n",
    "                return m\n",
    "            \n",
    "            if nums[l] <= nums[m]:\n",
    "                if target > nums[m] or target < nums[l]:\n",
    "                    l = m + 1\n",
    "                else:\n",
    "                    r = m - 1\n",
    "            else:\n",
    "                if target < nums[m] or target > nums[r]:\n",
    "                    r = m - 1\n",
    "                else:\n",
    "                    l = m + 1\n",
    "        return -1\n",
    "        \n",
    "sol = Solution()\n",
    "print(sol.search([4,5,6,7,0,1,2], 0))\n",
    "print(sol.search([4,5,6,7,0,1,2], 3))\n",
    "print(sol.search([1], 0))"
   ]
  },
  {
   "attachments": {},
   "cell_type": "markdown",
   "metadata": {},
   "source": [
    "##### 153.Find Minimum in Rotated Sorted Array"
   ]
  },
  {
   "cell_type": "code",
   "execution_count": 65,
   "metadata": {},
   "outputs": [
    {
     "name": "stdout",
     "output_type": "stream",
     "text": [
      "1\n",
      "0\n",
      "11\n"
     ]
    }
   ],
   "source": [
    "class Solution:\n",
    "    def findMin(self, nums: List[int]) -> int:\n",
    "        res = nums[0]\n",
    "        l, r = 0, len(nums) - 1\n",
    "\n",
    "        while l <= r:\n",
    "            if nums[l] <= nums[r]:\n",
    "                res = min(res, nums[l])\n",
    "                break\n",
    "\n",
    "            m = (l + r) // 2\n",
    "            res = min(res, nums[m])\n",
    "            if nums[m] >= nums[l]:\n",
    "                l = m + 1\n",
    "            else:\n",
    "                r = m - 1\n",
    "        \n",
    "        return res\n",
    "\n",
    "sol = Solution()\n",
    "print(sol.findMin([3,4,5,1,2]))\n",
    "print(sol.findMin([4,5,6,7,0,1,2]))\n",
    "print(sol.findMin([11,13,15,17]))"
   ]
  },
  {
   "attachments": {},
   "cell_type": "markdown",
   "metadata": {},
   "source": [
    "##### 74.Search a 2D Matrix"
   ]
  },
  {
   "cell_type": "code",
   "execution_count": 21,
   "metadata": {},
   "outputs": [
    {
     "name": "stdout",
     "output_type": "stream",
     "text": [
      "True\n",
      "False\n"
     ]
    }
   ],
   "source": [
    "class Solution:\n",
    "    def searchMatrix1(self, matrix: List[List[int]], target: int) -> bool:\n",
    "        # Row search\n",
    "        top, bottom = 0, len(matrix) - 1\n",
    "        while top <= bottom:\n",
    "            mid = (top + bottom) // 2\n",
    "\n",
    "            if matrix[mid][-1] < target:\n",
    "                top = mid + 1\n",
    "            elif matrix[mid][0] > target:\n",
    "                bottom = mid - 1\n",
    "            else:\n",
    "                break\n",
    "        \n",
    "        if top > bottom: return False\n",
    "        row = mid\n",
    "\n",
    "        # Col search\n",
    "        left, right = 0, len(matrix[0]) - 1\n",
    "        while left <= right:\n",
    "            mid = (left + right) // 2\n",
    "\n",
    "            if matrix[row][mid] > target:\n",
    "                right = mid - 1\n",
    "            elif matrix[row][mid] < target:\n",
    "                left = mid + 1\n",
    "            else:\n",
    "                return True\n",
    "\n",
    "        return False\n",
    "\n",
    "    def searchMatrix(self, matrix: List[List[int]], target: int) -> bool:\n",
    "        if not len(matrix):\n",
    "            return False\n",
    "        \n",
    "        low, high = 0, ((len(matrix) * len(matrix[0])) - 1)\n",
    "\n",
    "        while low <= high:\n",
    "            mid = (low + high) // 2\n",
    "            # row, col = divmod(mid, matrix[0]) \n",
    "            row, col = mid//len(matrix[0]), mid % len(matrix[0])\n",
    "            if matrix[row][col] > target:\n",
    "                high = mid - 1\n",
    "            elif matrix[row][col] < target:\n",
    "                low = mid + 1\n",
    "            else:\n",
    "                return True  \n",
    "\n",
    "        return False  \n",
    "        \n",
    "\n",
    "sol = Solution()\n",
    "print(sol.searchMatrix([[1,3,5,7],[10,11,16,20],[23,30,34,60]], 3)) #True\n",
    "print(sol.searchMatrix([[1,3,5,7],[10,11,16,20],[23,30,34,60]], 13)) #False"
   ]
  },
  {
   "attachments": {},
   "cell_type": "markdown",
   "metadata": {},
   "source": [
    "##### 875.Koko Eating Bananas"
   ]
  },
  {
   "cell_type": "code",
   "execution_count": 28,
   "metadata": {},
   "outputs": [
    {
     "name": "stdout",
     "output_type": "stream",
     "text": [
      "4\n",
      "30\n",
      "23\n",
      "1\n"
     ]
    }
   ],
   "source": [
    "import math\n",
    "class Solution:\n",
    "    def minEatingSpeed(self, piles: List[int], h: int) -> int:\n",
    "        low, high = 0, max(piles)\n",
    "        leastVal = max(piles)\n",
    "        while low <= high:\n",
    "            mid = (low + high)//2\n",
    "            curr_days = 0\n",
    "\n",
    "            if not mid:\n",
    "                return leastVal\n",
    "\n",
    "            for p in piles:\n",
    "                curr_days += math.ceil(p/mid)\n",
    "\n",
    "            if curr_days <= h:\n",
    "                leastVal = min(leastVal, mid)\n",
    "                high = mid -1\n",
    "            else:\n",
    "                low = mid + 1\n",
    "\n",
    "        return leastVal\n",
    "\n",
    "sol = Solution()\n",
    "print(sol.minEatingSpeed([3,6,7,11], 8)) #4\n",
    "print(sol.minEatingSpeed([30,11,23,4,20], 5)) #30\n",
    "print(sol.minEatingSpeed([30,11,23,4,20], 6)) #23\n",
    "print(sol.minEatingSpeed([312884470], 968709470)) #1"
   ]
  },
  {
   "attachments": {},
   "cell_type": "markdown",
   "metadata": {},
   "source": [
    "##### 981.Time Based Key-Value Store"
   ]
  },
  {
   "cell_type": "code",
   "execution_count": 33,
   "metadata": {},
   "outputs": [
    {
     "name": "stdout",
     "output_type": "stream",
     "text": [
      "bar\n",
      "bar\n",
      "bar2\n",
      "bar2\n",
      "bar\n"
     ]
    }
   ],
   "source": [
    "class TimeMap:\n",
    "\n",
    "    def __init__(self):\n",
    "        self.map = defaultdict(list)\n",
    "\n",
    "    def set(self, key: str, value: str, timestamp: int) -> None:\n",
    "        self.map[key].append((value, timestamp))\n",
    "\n",
    "    def get(self, key: str, timestamp: int) -> str:\n",
    "        values = self.map[key]\n",
    "        low, high = 0, len(values) - 1\n",
    "        res = \"\"\n",
    "        while low <= high:\n",
    "            mid = (low + high) // 2\n",
    "            \n",
    "            if values[mid][1] <= timestamp:\n",
    "                res = values[mid][0]\n",
    "                low = mid + 1\n",
    "            else:\n",
    "                high = mid - 1\n",
    "\n",
    "        return res\n",
    "\n",
    "timeMap = TimeMap()\n",
    "timeMap.set(\"foo\", \"bar\", 1);  # store the key \"foo\" and value \"bar\" along with timestamp = 1.\n",
    "print(timeMap.get(\"foo\", 1))         # return \"bar\"\n",
    "print(timeMap.get(\"foo\", 3))         # return \"bar\", since there is no value corresponding to foo at timestamp 3 and timestamp 2, then the only value is at timestamp 1 is \"bar\".\n",
    "timeMap.set(\"foo\", \"bar2\", 4); # store the key \"foo\" and value \"bar2\" along with timestamp = 4.\n",
    "print(timeMap.get(\"foo\", 4))         # return \"bar2\"\n",
    "print(timeMap.get(\"foo\", 5))         # return \"bar2\"\n",
    "print(timeMap.get(\"foo\", 2))         # return \"bar\""
   ]
  },
  {
   "cell_type": "markdown",
   "metadata": {},
   "source": [
    "##### 779.K-th Symbol in Grammar"
   ]
  },
  {
   "cell_type": "code",
   "execution_count": 2,
   "metadata": {},
   "outputs": [
    {
     "name": "stdout",
     "output_type": "stream",
     "text": [
      "0\n",
      "0\n",
      "1\n"
     ]
    }
   ],
   "source": [
    "class Solution:\n",
    "    def kthGrammar(self, n: int, k: int) -> int:\n",
    "        curr_node = 0\n",
    "        l, r = 1, 2**(n - 1)\n",
    "\n",
    "        for _ in range(n - 1):\n",
    "            m = (l + r)//2\n",
    "            if k <= m:\n",
    "                r = m\n",
    "            else:\n",
    "                l = m + 1\n",
    "                curr_node = 0 if curr_node == 1 else 1\n",
    "        \n",
    "        return curr_node\n",
    "\n",
    "sol = Solution()\n",
    "print(sol.kthGrammar(n = 1, k = 1))#0\n",
    "print(sol.kthGrammar(n = 2, k = 1))#0\n",
    "print(sol.kthGrammar(n = 2, k = 2))#1"
   ]
  },
  {
   "attachments": {},
   "cell_type": "markdown",
   "metadata": {},
   "source": [
    "#### Hard"
   ]
  },
  {
   "attachments": {},
   "cell_type": "markdown",
   "metadata": {},
   "source": [
    "##### 4.Median of two sorted arrays"
   ]
  },
  {
   "cell_type": "code",
   "execution_count": 46,
   "metadata": {},
   "outputs": [
    {
     "name": "stdout",
     "output_type": "stream",
     "text": [
      "2\n",
      "2.5\n"
     ]
    }
   ],
   "source": [
    "class Solution:\n",
    "    def findMedianSortedArrays1(self, nums1: List[int], nums2: List[int]) -> float:\n",
    "        N1 = len(nums1)\n",
    "        N2 = len(nums2)\n",
    "        if (N1 < N2): return self.findMedianSortedArrays(nums2, nums1)\t# Make sure A2 is the shorter one.\n",
    "        \n",
    "        MIN, MAX = float('-inf'), float('inf')\n",
    "        lo, hi = 0, N2 * 2\n",
    "        while (lo <= hi) :\n",
    "            mid2 = (lo + hi) // 2   # Try Cut 2 \n",
    "            mid1 = N1 + N2 - mid2  # Calculate Cut 1 accordingly\n",
    "            \n",
    "            L1 = MIN if (mid1 == 0) else nums1[(mid1-1)//2]\t# Get L1, R1, L2, R2 respectively\n",
    "            L2 = MIN if (mid2 == 0) else nums2[(mid2-1)//2]\n",
    "            R1 = MAX if (mid1 == N1 * 2) else nums1[(mid1)//2]\n",
    "            R2 = MAX if (mid2 == N2 * 2) else nums2[(mid2)//2]\n",
    "            \n",
    "            if (L1 > R2): lo = mid2 + 1\t\t# A1's lower half is too big; need to move C1 left (C2 right)\n",
    "            elif (L2 > R1): hi = mid2 - 1\t# A2's lower half too big; need to move C2 left.\n",
    "            else: return (max(L1,L2) + min(R1, R2)) / 2\t# Otherwise, that's the right cut.\n",
    "        \n",
    "        return -1\n",
    "\n",
    "    def findMedianSortedArrays(self, nums1: List[int], nums2: List[int]) -> float:\n",
    "        A, B = nums1, nums2\n",
    "        total = len(nums1) + len(nums2)\n",
    "        half = total // 2\n",
    "\n",
    "        if len(B) < len(A):\n",
    "            A, B = B, A\n",
    "        \n",
    "        MIN, MAX = float('-inf'), float('inf')\n",
    "\n",
    "        lo, hi = 0, len(A) - 1\n",
    "        while True:\n",
    "            i = (lo + hi) // 2   \n",
    "            j = half - i - 2 # -1 for 0-index in nums1; -1 for 0-index in nums2 \n",
    "            \n",
    "            L1 = A[i] if (i >= 0) else MIN\n",
    "            R1 = A[i + 1] if (i + 1 < len(A)) else MAX\n",
    "            \n",
    "            L2 = B[j] if (j >= 0) else MIN\n",
    "            R2 = B[j + 1] if (j + 1 < len(B)) else MAX\n",
    "            \n",
    "            if L1 <= R2 and L2 <= R1:\n",
    "                if total % 2: #odd\n",
    "                    return min(R1, R2)\n",
    "                return (max(L1,L2) + min(R1, R2)) / 2 #even\n",
    "\n",
    "            if L1 > R2: hi = i - 1\t\t\n",
    "            else: lo = i + 1\n",
    "        \n",
    "\n",
    "sol = Solution()\n",
    "print(sol.findMedianSortedArrays([1, 3], [2])) #2.0\n",
    "print(sol.findMedianSortedArrays([1, 2], [3, 4])) #2.5"
   ]
  },
  {
   "cell_type": "markdown",
   "metadata": {},
   "source": [
    "##### 1095.Find in Mountain Array"
   ]
  },
  {
   "cell_type": "code",
   "execution_count": null,
   "metadata": {},
   "outputs": [],
   "source": [
    "class MountainArray:\n",
    "   def get(self, index: int) -> int:\n",
    "        pass\n",
    "   def length(self) -> int:\n",
    "        pass\n",
    "\n",
    "class Solution:\n",
    "    def findInMountainArray(self, target: int, mountain_arr: 'MountainArray') -> int:\n",
    "        arr_len = mountain_arr.length()\n",
    "        \n",
    "        # Finding peak\n",
    "        l, r = 1, arr_len - 2 #(peak cannot be at edges)\n",
    "        peak_idx = 0\n",
    "        while l <= r:\n",
    "            m = (l + r)//2\n",
    "            prev, curr, nxt = mountain_arr.get(m - 1), mountain_arr.get(m), mountain_arr.get(m + 1)\n",
    "\n",
    "            #Left portion\n",
    "            if prev < curr < nxt:\n",
    "                l = m + 1\n",
    "            elif prev > curr > nxt:\n",
    "                r = m - 1\n",
    "            else:\n",
    "                peak_idx = m \n",
    "                break\n",
    "        \n",
    "        # Search in left portion\n",
    "        l, r = 0, peak_idx\n",
    "        while l <= r:\n",
    "            m = (l + r) // 2\n",
    "            val = mountain_arr.get(m)\n",
    "            if target == val:\n",
    "                return m\n",
    "            elif target > val:\n",
    "                l = m + 1\n",
    "            else:\n",
    "                r = m - 1\n",
    "\n",
    "        # search in right portion\n",
    "        l, r = peak_idx, arr_len - 1\n",
    "        while l <= r:\n",
    "            m = (l + r) // 2\n",
    "            val = mountain_arr.get(m)\n",
    "            if target == val:\n",
    "                return m\n",
    "            elif target < val:\n",
    "                l = m + 1\n",
    "            else:\n",
    "                r = m - 1\n",
    "\n",
    "        return - 1\n",
    "\n",
    "sol = Solution()\n",
    "# print(sol.findInMountainArray(array = [1,2,3,4,5,3,1], target = 3)) #2\n",
    "# print(sol.findInMountainArray(array = [0,1,2,4,2,1], target = 3)) #-1\n",
    "print(sol.findInMountainArray(array = [1,5,2], target = 2)) #2"
   ]
  },
  {
   "attachments": {},
   "cell_type": "markdown",
   "metadata": {},
   "source": [
    "### Linked Lists"
   ]
  },
  {
   "cell_type": "code",
   "execution_count": 11,
   "metadata": {},
   "outputs": [],
   "source": [
    "# Definition for singly-linked list.\n",
    "class ListNode:\n",
    "    def __init__(self, val=0, next=None):\n",
    "        self.val = val\n",
    "        self.next = next\n",
    "\n",
    "class ListNodeMaker:\n",
    "    def list_to_link(self, lst):\n",
    "        if len(lst) == 1:\n",
    "            return ListNode(lst[0], None)\n",
    "        return ListNode(lst[0], self.list_to_link(lst[1:]))  # <<<< RECURSIVE\n",
    "\n",
    "    def p(self, head: Optional[ListNode]):\n",
    "        while head:\n",
    "            print(head.val)\n",
    "            head = head.next\n",
    "        return ''"
   ]
  },
  {
   "attachments": {},
   "cell_type": "markdown",
   "metadata": {},
   "source": [
    "#### Easy"
   ]
  },
  {
   "attachments": {},
   "cell_type": "markdown",
   "metadata": {},
   "source": [
    "##### 206.Reverse Linked List"
   ]
  },
  {
   "cell_type": "code",
   "execution_count": 12,
   "metadata": {},
   "outputs": [
    {
     "name": "stdout",
     "output_type": "stream",
     "text": [
      "5\n",
      "4\n",
      "3\n",
      "2\n",
      "1\n",
      "\n"
     ]
    }
   ],
   "source": [
    "class Solution:\n",
    "    #Iterative\n",
    "    def reverseList_(self, nums: List[int]) -> Optional[ListNode]:\n",
    "        nodeMaker = ListNodeMaker()\n",
    "        head = nodeMaker.list_to_link(nums)\n",
    "\n",
    "        prev, currHead = None, head\n",
    "\n",
    "        while currHead:\n",
    "            temp = currHead.next\n",
    "            currHead.next = prev\n",
    "            prev = currHead\n",
    "            currHead = temp\n",
    "        \n",
    "        return nodeMaker.p(prev) \n",
    "    \n",
    "    #Recursive\n",
    "    def reverseList(self, nums: List[int]) -> Optional[ListNode]:\n",
    "        nodeMaker = ListNodeMaker()\n",
    "        head = nodeMaker.list_to_link(nums)\n",
    "\n",
    "        def recurse(head):\n",
    "            if not head: return None\n",
    "\n",
    "            newHead = head\n",
    "            if head.next:\n",
    "                newHead = recurse(head.next)\n",
    "                head.next.next = head\n",
    "\n",
    "            head.next = None\n",
    "            return newHead\n",
    "        \n",
    "        newHead = recurse(head)\n",
    "\n",
    "        return nodeMaker.p(newHead) \n",
    "\n",
    "sol = Solution()\n",
    "print(sol.reverseList([1,2,3,4,5]))\n",
    "        "
   ]
  },
  {
   "attachments": {},
   "cell_type": "markdown",
   "metadata": {},
   "source": [
    "##### 21.Merge Two Sorted Lists"
   ]
  },
  {
   "cell_type": "code",
   "execution_count": 18,
   "metadata": {},
   "outputs": [],
   "source": [
    "class Solution:\n",
    "    def mergeTwoLists(self, list1: Optional[ListNode], list2: Optional[ListNode]) -> Optional[ListNode]:\n",
    "        temp = ListNode(0)\n",
    "        curr = temp\n",
    "        while list1 and list2:\n",
    "            if list1.val <= list2.val:\n",
    "                curr.next = list1\n",
    "                list1 = list1.next\n",
    "            else:\n",
    "                curr.next = list2\n",
    "                list2 = list2.next\n",
    "            curr = curr.next\n",
    "        if list1:\n",
    "            curr.next = list1\n",
    "        else:\n",
    "            curr.next = list2\n",
    "\n",
    "        return temp.next"
   ]
  },
  {
   "attachments": {},
   "cell_type": "markdown",
   "metadata": {},
   "source": [
    "##### 141.Linked List Cycle"
   ]
  },
  {
   "cell_type": "code",
   "execution_count": null,
   "metadata": {},
   "outputs": [],
   "source": [
    "class Solution:\n",
    "    def hasCycle(self, head: Optional[ListNode]) -> bool:\n",
    "        if not head:\n",
    "            return False\n",
    "        \n",
    "        a = head\n",
    "        b = head.next\n",
    "        while not a == b:\n",
    "            if b == None or b.next == None:\n",
    "                return False\n",
    "            a = a.next\n",
    "            b = b.next.next\n",
    "            \n",
    "        return True\n",
    "\n",
    "sol = Solution()\n",
    "print(sol.hasCycle([]))"
   ]
  },
  {
   "attachments": {},
   "cell_type": "markdown",
   "metadata": {},
   "source": [
    "##### 872.Leaf-Similar Trees"
   ]
  },
  {
   "cell_type": "code",
   "execution_count": null,
   "metadata": {},
   "outputs": [],
   "source": [
    "# Definition for a binary tree node.\n",
    "class TreeNode:\n",
    "    def __init__(self, val=0, left=None, right=None):\n",
    "        self.val = val\n",
    "        self.left = left\n",
    "        self.right = right\n",
    "\n",
    "class Solution:\n",
    "    def leafSimilar(self, root1: Optional[TreeNode], root2: Optional[TreeNode]) -> bool:\n",
    "        \n",
    "        def getLeafList(root: Optional[TreeNode]) -> List[int]:\n",
    "            leafList, stk = [], [root]\n",
    "            while stk:\n",
    "                node = stk.pop()\n",
    "                \n",
    "                if node.left == node.right == None:\n",
    "                    leafList.append(node.val)\n",
    "                else:\n",
    "                    stk.extend(filter(None, [node.right, node.left]))\n",
    "            \n",
    "            return leafList\n",
    "                    \n",
    "        return getLeafList(root1) == getLeafList(root2)\n",
    "    \n",
    "    def leafSimilar(self, root1: Optional[TreeNode], root2: Optional[TreeNode]) -> bool:\n",
    "        def getLeafList(root):\n",
    "            if root.left is None and root.right is None:\n",
    "                return [root.val]\n",
    "            elif root.left is None:\n",
    "                return getLeafList(root.right)\n",
    "            elif root.right is None:\n",
    "                return getLeafList(root.left)\n",
    "            \n",
    "            return getLeafList(root.left) + getLeafList(root.right)\n",
    "        \n",
    "        return str(getLeafList(root1)) == str(getLeafList(root2))"
   ]
  },
  {
   "attachments": {},
   "cell_type": "markdown",
   "metadata": {},
   "source": [
    "#### Medium"
   ]
  },
  {
   "attachments": {},
   "cell_type": "markdown",
   "metadata": {},
   "source": [
    "##### 143.Reorder List"
   ]
  },
  {
   "cell_type": "code",
   "execution_count": 6,
   "metadata": {},
   "outputs": [
    {
     "name": "stdout",
     "output_type": "stream",
     "text": [
      "1\n",
      "2\n",
      "3\n",
      "4\n",
      "1\n",
      "2\n",
      "1\n",
      "2\n",
      "2\n",
      "1\n",
      "4\n",
      "2\n",
      "3\n",
      "\n",
      "1\n",
      "5\n",
      "2\n",
      "4\n",
      "3\n",
      "\n"
     ]
    }
   ],
   "source": [
    "class Solution:\n",
    "    def reorderList(self, nums: List[int]) -> None:\n",
    "        \"\"\"\n",
    "        Do not return anything, modify head in-place instead.\n",
    "        \"\"\"\n",
    "        nodeMaker = ListNodeMaker()\n",
    "        head = nodeMaker.list_to_link(nums)\n",
    "        mainHead = head\n",
    "        \n",
    "        # Find the middle\n",
    "        a = head\n",
    "        b = head.next\n",
    "        while b and b.next:\n",
    "            a = a.next\n",
    "            b = b.next.next\n",
    "        \n",
    "        # flip the second half\n",
    "        currHead = a.next\n",
    "        prev = a.next = None\n",
    "\n",
    "        while currHead:\n",
    "            temp = currHead.next\n",
    "            currHead.next = prev\n",
    "            prev = currHead\n",
    "            currHead = temp\n",
    "\n",
    "        # Merge one after the other\n",
    "        first, second = head, prev\n",
    "        while second:\n",
    "            tmp1, tmp2 = first.next, second.next\n",
    "            first.next = second\n",
    "            second.next = tmp1\n",
    "            first, second = tmp1, tmp2\n",
    "\n",
    "        return nodeMaker.p(head)\n",
    "\n",
    "\n",
    "sol = Solution()\n",
    "print(sol.reorderList([1,2,3,4]))\n",
    "print(sol.reorderList([1,2,3,4,5]))"
   ]
  },
  {
   "attachments": {},
   "cell_type": "markdown",
   "metadata": {},
   "source": [
    "##### 19.Remove Nth Node From End of List"
   ]
  },
  {
   "cell_type": "code",
   "execution_count": 9,
   "metadata": {},
   "outputs": [
    {
     "name": "stdout",
     "output_type": "stream",
     "text": [
      "1\n",
      "2\n",
      "3\n",
      "5\n",
      "\n",
      "\n",
      "1\n",
      "\n"
     ]
    }
   ],
   "source": [
    "class Solution:\n",
    "    def removeNthFromEnd(self, nums: List[int], n: int) -> Optional[ListNode]:\n",
    "        nodeMaker = ListNodeMaker()\n",
    "        head = nodeMaker.list_to_link(nums)\n",
    "        \n",
    "        temp = ListNode(-1, head)\n",
    "        a = temp\n",
    "        b = head\n",
    "\n",
    "        while n > 0:\n",
    "            b = b.next\n",
    "            n -= 1\n",
    "        \n",
    "        while b:\n",
    "            a = a.next\n",
    "            b = b.next\n",
    "        \n",
    "        a.next = a.next.next\n",
    "        return nodeMaker.p(temp.next)\n",
    "        \n",
    "\n",
    "sol = Solution()\n",
    "print(sol.removeNthFromEnd([1,2,3,4,5], 2))\n",
    "print(sol.removeNthFromEnd([1], 1))\n",
    "print(sol.removeNthFromEnd([1,2], 1))"
   ]
  },
  {
   "attachments": {},
   "cell_type": "markdown",
   "metadata": {},
   "source": [
    "##### 138.Copy List with Random Pointer"
   ]
  },
  {
   "cell_type": "code",
   "execution_count": null,
   "metadata": {},
   "outputs": [],
   "source": [
    "class Node:\n",
    "    def __init__(self, x: int, next: 'Node' = None, random: 'Node' = None):\n",
    "        self.val = int(x)\n",
    "        self.next = next\n",
    "        self.random = random\n",
    "\n",
    "class Solution:\n",
    "    # O(n) time O(n) space\n",
    "    def copyRandomList(self, head: 'Optional[Node]') -> 'Optional[Node]':\n",
    "        copy_map = {None: None}\n",
    "\n",
    "        temp = head\n",
    "        while temp:\n",
    "            node = Node(temp.val)\n",
    "            copy_map[temp] = node\n",
    "            temp = temp.next\n",
    "\n",
    "        temp = head\n",
    "        while temp:\n",
    "            copy = copy_map[temp]\n",
    "            copy.next = copy_map[temp.next]\n",
    "            copy.random = copy_map[temp.random]\n",
    "            temp = temp.next\n",
    "\n",
    "        return copy_map[head]\n",
    "\n",
    "    # O(n) time O(1) space\n",
    "    def copyRandomList1(self, head: 'Node') -> 'Node':\n",
    "        if not head:\n",
    "            return None\n",
    "        \n",
    "        # Inserting duplicates next to original\n",
    "        curr = head\n",
    "        while curr:\n",
    "            curr_copy = Node(curr.val)\n",
    "            curr_copy.next = curr.next\n",
    "            curr.next = curr_copy\n",
    "            curr = curr_copy.next\n",
    "        \n",
    "        # attaching the random links\n",
    "        curr = head\n",
    "        while curr:\n",
    "            curr.next.random = curr.random.next if curr.random else None\n",
    "            curr = curr.next.next\n",
    "        \n",
    "        # re-establishing original next links between original and copy\n",
    "        prev = Node(-1)\n",
    "        prev.next = copy = head.next\n",
    "        while head and head.next:\n",
    "            head.next = copy.next\n",
    "            copy.next = copy.next.next if copy.next else None\n",
    "            head = head.next\n",
    "            copy=copy.next\n",
    "        return prev.next\n"
   ]
  },
  {
   "attachments": {},
   "cell_type": "markdown",
   "metadata": {},
   "source": [
    "##### 2.Add Two Numbers"
   ]
  },
  {
   "cell_type": "code",
   "execution_count": null,
   "metadata": {},
   "outputs": [],
   "source": [
    "class Solution:\n",
    "    def addTwoNumbers(self, l1: Optional[ListNode], l2: Optional[ListNode]) -> Optional[ListNode]:\n",
    "        carry = 0\n",
    "        tempNode = ListNode()\n",
    "        result = tempNode\n",
    "        while l1 != None or l2 != None:\n",
    "            sum = 0\n",
    "            if l1 != None:\n",
    "                sum += l1.val\n",
    "                l1 = l1.next\n",
    "\n",
    "            if l2 != None:\n",
    "                sum += l2.val\n",
    "                l2 = l2.next\n",
    "\n",
    "            sum += carry\n",
    "            tempNode.val = sum % 10\n",
    "            carry = sum // 10\n",
    "            \n",
    "\n",
    "            if l1 != None or l2 != None or carry != 0:\n",
    "                tempNode.next = ListNode()\n",
    "                tempNode = tempNode.next\n",
    "\n",
    "        if carry > 0:\n",
    "            tempNode.val = carry\n",
    "\n",
    "        return result"
   ]
  },
  {
   "attachments": {},
   "cell_type": "markdown",
   "metadata": {},
   "source": [
    "##### 287.Find the Duplicate Number"
   ]
  },
  {
   "cell_type": "code",
   "execution_count": 50,
   "metadata": {},
   "outputs": [
    {
     "name": "stdout",
     "output_type": "stream",
     "text": [
      "2\n",
      "3\n"
     ]
    }
   ],
   "source": [
    "class Solution:\n",
    "    def findDuplicate(self, nums: List[int]) -> int:\n",
    "        slow, fast = 0, 0\n",
    "        while True:\n",
    "            slow = nums[slow]\n",
    "            fast = nums[nums[fast]]\n",
    "            if slow == fast:\n",
    "                break\n",
    "\n",
    "        slow2 = 0\n",
    "        while True:\n",
    "            slow = nums[slow]\n",
    "            slow2 = nums[slow2]\n",
    "            if slow == slow2:\n",
    "                return slow\n",
    "\n",
    "\n",
    "sol = Solution()\n",
    "print(sol.findDuplicate([1,3,4,2,2])) #2\n",
    "print(sol.findDuplicate([3,1,3,4,2])) #3"
   ]
  },
  {
   "attachments": {},
   "cell_type": "markdown",
   "metadata": {},
   "source": [
    "##### 146.LRU Cache"
   ]
  },
  {
   "cell_type": "code",
   "execution_count": null,
   "metadata": {},
   "outputs": [],
   "source": [
    "class Node:\n",
    "    def __init__(self, key, value):\n",
    "        self.key = key\n",
    "        self.val = value\n",
    "        self.next = self.prev = None\n",
    "\n",
    "class LRUCache:\n",
    "\n",
    "    def __init__(self, capacity: int):\n",
    "        self.cap = capacity\n",
    "        self.cache = {} #maps keys to nodes\n",
    "\n",
    "        # left is least recent, right is most recent\n",
    "        self.leftMost, self.rightMost = Node(0, 0), Node(0, 0)\n",
    "        self.leftMost.next, self.rightMost.prev = self.rightMost, self.leftMost\n",
    "\n",
    "    # removes the specified node\n",
    "    def remove(self, node):\n",
    "        prev, next = node.prev, node.next\n",
    "        prev.next, next.prev = next, prev \n",
    "    \n",
    "    # inserts node at the right before the right most\n",
    "    def insert(self, node):\n",
    "        prev, next = self.rightMost.prev, self.rightMost\n",
    "        prev.next = next.prev = node\n",
    "        node.prev, node.next = prev, next\n",
    "\n",
    "    # Whenever a node is accessed, it is moved to the right\n",
    "    def get(self, key: int) -> int:\n",
    "        if key in self.cache:\n",
    "            self.remove(self.cache[key])   \n",
    "            self.insert(self.cache[key])\n",
    "            return self.cache[key].val\n",
    "        return -1\n",
    "\n",
    "    # the newly inserted is put at the right\n",
    "    # if the capacity exceeds remove the left most\n",
    "    def put(self, key: int, value: int) -> None:\n",
    "        if key in self.cache:\n",
    "            self.remove(self.cache[key])\n",
    "\n",
    "        self.cache[key] = Node(key, value)\n",
    "        self.insert(self.cache[key])\n",
    "\n",
    "        if len(self.cache) > self.cap:\n",
    "            lru = self.leftMost.next\n",
    "            self.remove(lru)\n",
    "            del self.cache[lru.key]\n",
    "\n",
    "\n",
    "lRUCache = LRUCache(2)\n",
    "lRUCache.put(1, 1) # cache is {1=1}\n",
    "lRUCache.put(2, 2) # cache is {1=1, 2=2}\n",
    "lRUCache.get(1)   # return 1\n",
    "lRUCache.put(3, 3) # LRU key was 2, evicts key 2, cache is {1=1, 3=3}\n",
    "lRUCache.get(2)   # returns -1 (not found)\n",
    "lRUCache.put(4, 4) # LRU key was 1, evicts key 1, cache is {4=4, 3=3}\n",
    "lRUCache.get(1)   # return -1 (not found)\n",
    "lRUCache.get(3)   # return 3\n",
    "lRUCache.get(4)   # return 4"
   ]
  },
  {
   "attachments": {},
   "cell_type": "markdown",
   "metadata": {},
   "source": [
    "##### 2095.Delete the Middle Node of a Linked List"
   ]
  },
  {
   "cell_type": "code",
   "execution_count": null,
   "metadata": {},
   "outputs": [],
   "source": [
    "# Definition for singly-linked list.\n",
    "class ListNode:\n",
    "    def __init__(self, val=0, next=None):\n",
    "        self.val = val\n",
    "        self.next = next\n",
    "        \n",
    "class Solution:\n",
    "    def deleteMiddle(self, head: Optional[ListNode]) -> Optional[ListNode]:\n",
    "        cnt = 0\n",
    "        curr = head\n",
    "        while curr:\n",
    "            curr = curr.next\n",
    "            cnt += 1\n",
    "\n",
    "        mid = cnt // 2\n",
    "\n",
    "        i = 0\n",
    "        curr = head\n",
    "        while i < mid:\n",
    "            curr = curr.next\n",
    "\n",
    "        mid = curr.next\n",
    "        curr.next = mid.next\n",
    "        mid.next = None\n",
    "\n",
    "        return head\n",
    "    \n",
    "    def deleteMiddle1(self, head: Optional[ListNode]) -> Optional[ListNode]:\n",
    "        if head.next == None:\n",
    "            return None\n",
    "        \n",
    "        slow = fast = head\n",
    "        while fast and fast.next:\n",
    "            fast = fast.next.next\n",
    "            slow = slow.next\n",
    "        \n",
    "        mid = slow\n",
    "        slow = head\n",
    "        while slow.next != mid:\n",
    "            slow = slow.next\n",
    "        \n",
    "        slow.next = mid.next\n",
    "        del mid\n",
    "        return head"
   ]
  },
  {
   "attachments": {},
   "cell_type": "markdown",
   "metadata": {},
   "source": [
    "##### 2130.Maximum Twin Sum of a Linked List"
   ]
  },
  {
   "cell_type": "code",
   "execution_count": null,
   "metadata": {},
   "outputs": [],
   "source": [
    "# Definition for singly-linked list.\n",
    "class ListNode:\n",
    "    def __init__(self, val=0, next=None):\n",
    "        self.val = val\n",
    "        self.next = next\n",
    "\n",
    "class Solution:\n",
    "    def pairSum(self, head: Optional[ListNode]) -> int:\n",
    "        slow = fast = head\n",
    "        res = 0\n",
    "\n",
    "        # Finding middle\n",
    "        while fast and fast.next:\n",
    "            fast = fast.next.next\n",
    "            slow = slow.next\n",
    "\n",
    "        # reverse second half\n",
    "        curr, prev = slow, None\n",
    "        while curr:       \n",
    "            curr.next = prev \n",
    "            prev = curr\n",
    "            curr = curr.next\n",
    "        \n",
    "        start = head\n",
    "        while prev:\n",
    "            res = max(res, start.val + prev.val)\n",
    "            prev = prev.next\n",
    "            start = start.next\n",
    "\n",
    "        return res"
   ]
  },
  {
   "attachments": {},
   "cell_type": "markdown",
   "metadata": {},
   "source": [
    "#### Hard"
   ]
  },
  {
   "attachments": {},
   "cell_type": "markdown",
   "metadata": {},
   "source": [
    "##### 23.Merge k Sorted Lists"
   ]
  },
  {
   "cell_type": "code",
   "execution_count": null,
   "metadata": {},
   "outputs": [],
   "source": [
    "class Solution:\n",
    "    def mergeKLists(self, lists: List[Optional[ListNode]]) -> Optional[ListNode]:\n",
    "        if not lists or len(lists) == 0:\n",
    "            return None\n",
    "        \n",
    "        while len(lists) > 1:\n",
    "            temp_lists = []\n",
    "\n",
    "            for i in range(0, len(lists), 2):\n",
    "                l1 = lists[i]\n",
    "                l2 = lists[i + 1] if i + 1 < len(lists) else None\n",
    "                temp_lists.append(self.mergeTwoLists(l1, l2))\n",
    "            lists = temp_lists\n",
    "\n",
    "        return lists\n",
    "\n",
    "\n",
    "    def mergeTwoLists(self, l1: List[Optional[ListNode]], l2: List[Optional[ListNode]]) -> Optional[ListNode]:\n",
    "        temp = ListNode(0)\n",
    "        curr = temp\n",
    "        while list1 and list2:\n",
    "            if list1.val <= list2.val:\n",
    "                curr.next = list1\n",
    "                list1 = list1.next\n",
    "            else:\n",
    "                curr.next = list2\n",
    "                list2 = list2.next\n",
    "\n",
    "        if list1:\n",
    "            curr.next = list1\n",
    "        else:\n",
    "            curr.next = list2\n",
    "\n",
    "        return temp.next\n"
   ]
  },
  {
   "attachments": {},
   "cell_type": "markdown",
   "metadata": {},
   "source": [
    "##### 25.Reverse Nodes in k-Group"
   ]
  },
  {
   "cell_type": "code",
   "execution_count": 13,
   "metadata": {},
   "outputs": [
    {
     "name": "stdout",
     "output_type": "stream",
     "text": [
      "1\n",
      "2\n",
      "3\n",
      "4\n",
      "5\n",
      "-------\n",
      "2\n",
      "1\n",
      "4\n",
      "3\n",
      "5\n"
     ]
    },
    {
     "data": {
      "text/plain": [
       "''"
      ]
     },
     "execution_count": 13,
     "metadata": {},
     "output_type": "execute_result"
    }
   ],
   "source": [
    "# Definition for singly-linked list.\n",
    "class ListNode:\n",
    "    def __init__(self, val=0, next=None):\n",
    "        self.val = val\n",
    "        self.next = next\n",
    "\n",
    "class Solution:\n",
    "    def reverseKGroup_(self, head: Optional[ListNode], k: int) -> Optional[ListNode]:\n",
    "\n",
    "        def reverse(head: Optional[ListNode]) -> tuple[Optional[ListNode], Optional[ListNode]]:\n",
    "            prev, temp, tail = None, head, head\n",
    "            target = 0\n",
    "            while temp:\n",
    "                next = temp.next\n",
    "                temp.next = prev\n",
    "                prev = temp\n",
    "                temp = next\n",
    "                target += 1\n",
    "\n",
    "                if target == k: break\n",
    "\n",
    "            return (prev, tail) # new head, tail\n",
    "        \n",
    "        temp, curr_head= head, head\n",
    "        prev = main_head = ListNode(-1)\n",
    "        count = 0\n",
    "        while temp:\n",
    "            count += 1\n",
    "            temp = temp.next\n",
    "            if count == k:\n",
    "                count = 0\n",
    "                new_head, new_tail = reverse(curr_head)\n",
    "                \n",
    "                prev.next = new_head\n",
    "                new_tail.next = temp\n",
    "                \n",
    "                curr_head = temp\n",
    "                prev = new_tail\n",
    "        \n",
    "        return main_head.next\n",
    "    \n",
    "    def reverseKGroup(self, head: Optional[ListNode], k: int) -> Optional[ListNode]:\n",
    "        \n",
    "        def getKthNode(curr, k):\n",
    "            while k and curr:\n",
    "                curr = curr.next\n",
    "                k -= 1\n",
    "\n",
    "            return curr\n",
    "        \n",
    "        def reverse(prev, curr, endNode):\n",
    "            while curr != endNode:\n",
    "                nxt = curr.next\n",
    "                curr.next = prev\n",
    "                prev = curr\n",
    "                curr = nxt\n",
    "        \n",
    "        dummy = ListNode(-1, head)\n",
    "        groupPrev = dummy\n",
    "\n",
    "        while True:\n",
    "            kth = getKthNode(groupPrev, k)\n",
    "            if not kth: # group is not big enough to reverse\n",
    "                break\n",
    "\n",
    "            groupNext = kth.next\n",
    "            #reverse the group\n",
    "            reverse(kth.next, groupPrev.next, groupNext)\n",
    "\n",
    "            nxt = groupPrev.next\n",
    "            groupPrev.next = kth\n",
    "            groupPrev = nxt\n",
    "\n",
    "        return dummy.next\n",
    "            \n",
    "p = ListNodeMaker()\n",
    "head = p.list_to_link([1,2,3,4,5])\n",
    "p.p(head)\n",
    "sol = Solution()\n",
    "print('-------')\n",
    "p.p(sol.reverseKGroup(head, 2))\n",
    "\n",
    "        "
   ]
  },
  {
   "attachments": {},
   "cell_type": "markdown",
   "metadata": {},
   "source": [
    "#### Extra"
   ]
  },
  {
   "attachments": {},
   "cell_type": "markdown",
   "metadata": {},
   "source": [
    "##### 430.Flatten a Multilevel Doubly Linked List"
   ]
  },
  {
   "cell_type": "code",
   "execution_count": null,
   "metadata": {},
   "outputs": [],
   "source": [
    "# Definition for a Node.\n",
    "class Node:\n",
    "    def __init__(self, val, prev, next, child):\n",
    "        self.val = val\n",
    "        self.prev = prev\n",
    "        self.next = next\n",
    "        self.child = child\n",
    "\n",
    "\n",
    "class Solution:\n",
    "    def flatten(self, head: 'Optional[Node]') -> 'Optional[Node]':\n",
    "        if not head: return head\n",
    "        \n",
    "        newHead = Node(0)\n",
    "        curr, node_stack = newHead, [head]\n",
    "        \n",
    "        while node_stack:\n",
    "            node = node_stack.pop()\n",
    "\n",
    "            if node.next: node_stack.append(node.next)\n",
    "            if node.child: node_stack.append(node.child)\n",
    "\n",
    "            curr.next = node\n",
    "            node.prev = curr\n",
    "            curr.child = None\n",
    "            curr = node\n",
    "            \n",
    "        newHead.next.prev = None\n",
    "        return newHead.next\n",
    "    \n",
    "\n"
   ]
  },
  {
   "attachments": {},
   "cell_type": "markdown",
   "metadata": {},
   "source": [
    "### Trees"
   ]
  },
  {
   "cell_type": "code",
   "execution_count": 60,
   "metadata": {},
   "outputs": [],
   "source": [
    "class TreeNode:\n",
    "    def __init__(self, val=0, left=None, right=None):\n",
    "        self.val = val\n",
    "        self.left = left\n",
    "        self.right = right"
   ]
  },
  {
   "attachments": {},
   "cell_type": "markdown",
   "metadata": {},
   "source": [
    "#### Easy"
   ]
  },
  {
   "attachments": {},
   "cell_type": "markdown",
   "metadata": {},
   "source": [
    "##### 226.Invert Binary Tree"
   ]
  },
  {
   "cell_type": "code",
   "execution_count": null,
   "metadata": {},
   "outputs": [],
   "source": [
    "class Solution:\n",
    "    def invertTree(self, root: Optional[TreeNode]) -> Optional[TreeNode]:\n",
    "        if not root:\n",
    "            return None\n",
    "        \n",
    "        temp = root.left\n",
    "        root.left = root.right\n",
    "        root.right = temp\n",
    "\n",
    "        self.invertTree(root.left)\n",
    "        self.invertTree(root.right)\n",
    "        \n",
    "        return root\n",
    "\n",
    "sol = Solution()\n",
    "print(sol.invertTree([4,2,7,1,3,6,9]))"
   ]
  },
  {
   "attachments": {},
   "cell_type": "markdown",
   "metadata": {},
   "source": [
    "##### 104.Maximum Depth of Binary Tree"
   ]
  },
  {
   "cell_type": "code",
   "execution_count": null,
   "metadata": {},
   "outputs": [],
   "source": [
    "class Solution:\n",
    "    #Recursive DFS\n",
    "    def maxDepth2(self, root: Optional[TreeNode]) -> int:\n",
    "        if not root:\n",
    "            return 0\n",
    "        \n",
    "        return max(1 + self.maxDepth(root.left), 1 + self.maxDepth(root.right))\n",
    "\n",
    "    #Iterative BFS\n",
    "    def maxDepth1(self, root: Optional[TreeNode]) -> int:\n",
    "        if not root:\n",
    "            return 0\n",
    "\n",
    "        level = 0\n",
    "        dq = collections.deque([root])\n",
    "\n",
    "        while dq:\n",
    "            dq_len = len(dq)\n",
    "\n",
    "            for _ in range(dq_len):\n",
    "                node = dq.popleft()\n",
    "                if node.left: \n",
    "                    dq.append(node.left)\n",
    "                if node.right: \n",
    "                    dq.append(node.right)\n",
    "            level += 1\n",
    "\n",
    "        return level\n",
    "\n",
    "    #Iterative DFS\n",
    "    def maxDepth(self, root: Optional[TreeNode]) -> int:\n",
    "        stk = [(root, 1)]\n",
    "        level = 0\n",
    "        \n",
    "        while stk:\n",
    "            node, depth = stk.pop()\n",
    "\n",
    "            if node:\n",
    "                level = max(level, depth)\n",
    "                stk.append((node.left, depth + 1))\n",
    "                stk.append((node.right, depth + 1))\n",
    "        return level\n",
    "                \n",
    "\n",
    "\n",
    "sol = Solution()\n",
    "print(sol.maxDepth([3,9,20,None,None,15,7]))"
   ]
  },
  {
   "attachments": {},
   "cell_type": "markdown",
   "metadata": {},
   "source": [
    "##### 100.Same Tree"
   ]
  },
  {
   "cell_type": "code",
   "execution_count": null,
   "metadata": {},
   "outputs": [],
   "source": [
    "class Solution:\n",
    "    def isSameTree(self, p: Optional[TreeNode], q: Optional[TreeNode]) -> bool:\n",
    "        if not p and not q: return True\n",
    "        if not p or not q: return False\n",
    "        return p.val == q.val and self.isSameTree(p.left, q.left) and self.isSameTree(p.right, q.right)\n",
    "\n",
    "sol = Solution()\n",
    "print(sol.isSameTree([[1,2,3], [1,2,3]]))"
   ]
  },
  {
   "attachments": {},
   "cell_type": "markdown",
   "metadata": {},
   "source": [
    "##### 572.Subtree of Another Tree"
   ]
  },
  {
   "cell_type": "code",
   "execution_count": null,
   "metadata": {},
   "outputs": [],
   "source": [
    "class Solution:\n",
    "    def isSubtree(self, root: Optional[TreeNode], subRoot: Optional[TreeNode]) -> bool:\n",
    "        def isSameTree(p: Optional[TreeNode], q: Optional[TreeNode]) -> bool:\n",
    "            if not p and not q: return True\n",
    "            if not p or not q: return False\n",
    "            return p.val == q.val and isSameTree(p.left, q.left) and isSameTree(p.right, q.right)\n",
    "\n",
    "        if subRoot.val == root.val:\n",
    "            return isSameTree(root.left, subRoot)\n",
    "        \n",
    "        return self.isSubtree(root.left, subRoot) or self.isSubtree(root.right, subRoot)\n",
    "    \n",
    "    \n",
    "\n",
    "sol = Solution()\n",
    "print(sol.isSubtree([3,4,5,1,2], [4,1,2]))"
   ]
  },
  {
   "attachments": {},
   "cell_type": "markdown",
   "metadata": {},
   "source": [
    "##### 235.Lowest Common Ancestor of a Binary Search Tree"
   ]
  },
  {
   "cell_type": "code",
   "execution_count": null,
   "metadata": {},
   "outputs": [],
   "source": [
    "class Solution:\n",
    "    def lowestCommonAncestor(self, root: 'TreeNode', p: 'TreeNode', q: 'TreeNode') -> 'TreeNode':\n",
    "        temp = root\n",
    "        while temp:\n",
    "            if p.val > temp.val and q.val > temp.val:\n",
    "                temp = temp.right\n",
    "            elif p.val < temp.val and q.val < temp.val:\n",
    "                temp = temp.left\n",
    "            else: \n",
    "                return temp\n",
    "\n",
    "sol = Solution()\n",
    "print(sol.lowestCommonAncestor([6,2,8,0,4,7,9,None,None,3,5], 2, 8))"
   ]
  },
  {
   "attachments": {},
   "cell_type": "markdown",
   "metadata": {},
   "source": [
    "##### 543.Diameter of Binary Tree"
   ]
  },
  {
   "cell_type": "code",
   "execution_count": null,
   "metadata": {},
   "outputs": [],
   "source": [
    "class Solution:\n",
    "    def diameterOfBinaryTree(self, root: Optional[TreeNode]) -> int:\n",
    "        \n",
    "        def depth(root):  \n",
    "            nonlocal res      \n",
    "            if root==None:\n",
    "                return 0\n",
    "            l=depth(root.left)\n",
    "            r=depth(root.right)\n",
    "            res=max(res,l+r)\n",
    "            return max(l,r)+1\n",
    "\n",
    "        res=0\n",
    "        depth(root)\n",
    "        return res\n",
    "\n",
    "    def diameterOfBinaryTree(self, root: Optional[TreeNode]) -> int:\n",
    "        res = [0]\n",
    "\n",
    "        def dfs(root):\n",
    "            if not root:\n",
    "                return -1\n",
    "            left = dfs(root.left)\n",
    "            right = dfs(root.right)\n",
    "\n",
    "            res[0] = max(res[0], left + right + 2)\n",
    "\n",
    "            return 1 + max(left, right)\n",
    "\n",
    "        dfs(root)\n",
    "\n",
    "        return res[0]\n",
    "            "
   ]
  },
  {
   "attachments": {},
   "cell_type": "markdown",
   "metadata": {},
   "source": [
    "##### 110.Balanced Binary Tree"
   ]
  },
  {
   "cell_type": "code",
   "execution_count": null,
   "metadata": {},
   "outputs": [],
   "source": [
    "class Solution:\n",
    "    def isBalanced(self, root: Optional[TreeNode]) -> bool:\n",
    "        def dfs(root):\n",
    "            if not root:\n",
    "                return [True, 0]\n",
    "\n",
    "            left, right = dfs(root.left), dfs(root.right)\n",
    "            balanced = left[0] and right[0] and abs(left[1] - right[1]) <= 1\n",
    "            return [balanced, 1 + max(left[1], right[1])]\n",
    "\n",
    "        return dfs(root)[0]"
   ]
  },
  {
   "attachments": {},
   "cell_type": "markdown",
   "metadata": {},
   "source": [
    "##### 700.Search in a Binary Search Tree"
   ]
  },
  {
   "cell_type": "code",
   "execution_count": null,
   "metadata": {},
   "outputs": [],
   "source": [
    "# Definition for a binary tree node.\n",
    "class TreeNode:\n",
    "    def __init__(self, val=0, left=None, right=None):\n",
    "        self.val = val\n",
    "        self.left = left\n",
    "        self.right = right\n",
    "\n",
    "class Solution:\n",
    "    def searchBST(self, root: Optional[TreeNode], val: int) -> Optional[TreeNode]:\n",
    "        if not root:\n",
    "            return None\n",
    "        \n",
    "        if val == root.val:\n",
    "            return root\n",
    "        if val < root.val:\n",
    "            return self.searchBST(root.left, val)\n",
    "        else:\n",
    "            return self.searchBST(root.right, val)\n",
    "    \n",
    "    def searchBST1(self, root: Optional[TreeNode], val: int) -> Optional[TreeNode]:\n",
    "        while root and root.val != val:\n",
    "            if root.val > val:\n",
    "                root = root.left\n",
    "            else:\n",
    "                root = root.right\n",
    "        return root"
   ]
  },
  {
   "cell_type": "markdown",
   "metadata": {},
   "source": [
    "##### 501.Find Mode in Binary Search Tree"
   ]
  },
  {
   "cell_type": "code",
   "execution_count": null,
   "metadata": {},
   "outputs": [],
   "source": [
    "# Definition for a binary tree node.\n",
    "class TreeNode:\n",
    "    def __init__(self, val=0, left=None, right=None):\n",
    "        self.val = val\n",
    "        self.left = left\n",
    "        self.right = right\n",
    "\n",
    "class Solution:\n",
    "    def findMode(self, root: Optional[TreeNode]) -> List[int]:\n",
    "        self.nodes = []\n",
    "        def traverse(root):\n",
    "            if not root: return\n",
    "            traverse(root.left)\n",
    "            self.nodes.append(root.val)\n",
    "            traverse(root.right)\n",
    "\n",
    "        traverse(root)        \n",
    "        cnt_map = collections.Counter(self.nodes)\n",
    "        maxx = max(cnt_map.values())\n",
    "        return [val for val in cnt_map if cnt_map[val] == maxx]"
   ]
  },
  {
   "cell_type": "markdown",
   "metadata": {},
   "source": [
    "##### 606.Construct String from Binary Tree"
   ]
  },
  {
   "cell_type": "code",
   "execution_count": 12,
   "metadata": {},
   "outputs": [
    {
     "name": "stdout",
     "output_type": "stream",
     "text": [
      "1(2()(4))(3)\n"
     ]
    }
   ],
   "source": [
    "# Definition for a binary tree node.\n",
    "class TreeNode:\n",
    "    def __init__(self, val=0, left=None, right=None):\n",
    "        self.val = val\n",
    "        self.left = left\n",
    "        self.right = right\n",
    "class Solution:\n",
    "    def tree2str(self, root: Optional[TreeNode]) -> str:\n",
    "        def traverse(node: Optional[TreeNode]) -> str:\n",
    "            if not node:\n",
    "                return ''\n",
    "            if node.right:\n",
    "                return str(node.val) + '(' + traverse(node.left) + ')(' + traverse(node.right) + ')'\n",
    "            if node.left:\n",
    "                return str(node.val) + '(' + traverse(node.left) + ')'\n",
    "            \n",
    "            return str(node.val)\n",
    "      \n",
    "        return traverse(root)  \n",
    "    \n",
    "    def tree2str_(self, root: Optional[TreeNode]) -> str:\n",
    "        if not root:\n",
    "            return ''\n",
    "\n",
    "        string = str(root.val)\n",
    "        if root.left or root.right:\n",
    "            string += f'({self.tree2str(root.left)})'\n",
    "        if root.right:\n",
    "            string += f'({self.tree2str(root.right)})'\n",
    "        return string\n",
    "\n",
    "sol = Solution()\n",
    "tree = TreeNode(1)\n",
    "tree.left = TreeNode(2)\n",
    "tree.left.right = TreeNode(4)\n",
    "tree.right = TreeNode(3)\n",
    "\n",
    "print(sol.tree2str(tree))"
   ]
  },
  {
   "cell_type": "markdown",
   "metadata": {},
   "source": [
    "##### 94.Binary Tree Inorder Traversal"
   ]
  },
  {
   "cell_type": "code",
   "execution_count": 13,
   "metadata": {},
   "outputs": [
    {
     "name": "stdout",
     "output_type": "stream",
     "text": [
      "[1, 3, 2]\n"
     ]
    }
   ],
   "source": [
    "# Definition for a binary tree node.\n",
    "class TreeNode:\n",
    "    def __init__(self, val=0, left=None, right=None):\n",
    "        self.val = val\n",
    "        self.left = left\n",
    "        self.right = right\n",
    "\n",
    "class Solution:\n",
    "    def inorderTraversal(self, root: Optional[TreeNode]) -> List[int]:\n",
    "        res = []\n",
    "        stk = []\n",
    "\n",
    "        curr = root\n",
    "        while curr or (not len(stk) == 0):\n",
    "            while curr:\n",
    "                stk.append(curr)\n",
    "                curr = curr.left\n",
    "\n",
    "            curr = stk.pop()\n",
    "            res.append(curr.val)\n",
    "            curr = curr.right\n",
    "\n",
    "        return res\n",
    "    \n",
    "    def inorderTraversal_(self, root: Optional[TreeNode]) -> List[int]:\n",
    "        result = []\n",
    "\n",
    "        def traverse(node):\n",
    "            if node:\n",
    "                traverse(node.left)\n",
    "                result.append(node.val)\n",
    "                traverse(node.right)\n",
    "\n",
    "        traverse(root)\n",
    "        return result\n",
    "    \n",
    "tree = TreeNode(1)\n",
    "tree.right = TreeNode(2)\n",
    "tree.right.left = TreeNode(3)\n",
    "\n",
    "sol = Solution()\n",
    "print(sol.inorderTraversal(tree))"
   ]
  },
  {
   "attachments": {},
   "cell_type": "markdown",
   "metadata": {},
   "source": [
    "#### Medium"
   ]
  },
  {
   "attachments": {},
   "cell_type": "markdown",
   "metadata": {},
   "source": [
    "##### 102.Binary Tree Level Order Traversal"
   ]
  },
  {
   "cell_type": "code",
   "execution_count": null,
   "metadata": {},
   "outputs": [],
   "source": [
    "class Solution:\n",
    "    def levelOrder(self, root: Optional[TreeNode]) -> List[List[int]]:\n",
    "        result = []\n",
    "        queue = collections.deque()\n",
    "        queue.append(root)\n",
    "        while queue:\n",
    "            qlen = len(queue)\n",
    "            sub = []\n",
    "            for _ in range(qlen):\n",
    "                node = queue.popleft()\n",
    "                if node:\n",
    "                    sub.append(node.val)\n",
    "                    queue.append(node.left)\n",
    "                    queue.append(node.right)\n",
    "            if sub:\n",
    "                result.append(sub)\n",
    "                    \n",
    "        return result"
   ]
  },
  {
   "attachments": {},
   "cell_type": "markdown",
   "metadata": {},
   "source": [
    "##### 230.Kth Smallest Element in a BST"
   ]
  },
  {
   "cell_type": "code",
   "execution_count": null,
   "metadata": {},
   "outputs": [],
   "source": [
    "class Solution:\n",
    "    def kthSmallest(self, root: Optional[TreeNode], k: int) -> int:\n",
    "        count = 0\n",
    "        stack = []\n",
    "        temp = root\n",
    "        \n",
    "        while temp or stack:\n",
    "            while temp:\n",
    "                stack.append(temp)\n",
    "                temp = temp.left\n",
    "            \n",
    "            temp = stack.pop()\n",
    "            count += 1\n",
    "            \n",
    "            if count == k:\n",
    "                return temp.val\n",
    "            \n",
    "            temp = temp.right\n",
    "\n",
    "        return -1"
   ]
  },
  {
   "attachments": {},
   "cell_type": "markdown",
   "metadata": {},
   "source": [
    "##### 105.Construct Binary Tree from Preorder and Inorder Traversal"
   ]
  },
  {
   "cell_type": "code",
   "execution_count": 5,
   "metadata": {},
   "outputs": [
    {
     "name": "stdout",
     "output_type": "stream",
     "text": [
      "<__main__.TreeNode object at 0x0000021470E7D340>\n",
      "<__main__.TreeNode object at 0x0000021470A812B0>\n"
     ]
    }
   ],
   "source": [
    "class Solution:\n",
    "    def buildTree(self, preorder: List[int], inorder: List[int]) -> Optional[TreeNode]:\n",
    "        if not preorder or not inorder:\n",
    "            return None\n",
    "\n",
    "        root = TreeNode(preorder[0])\n",
    "        mid = inorder.index(preorder[0])\n",
    "        root.left = self.buildTree(preorder[1 : mid + 1], inorder[:mid])\n",
    "        root.right = self.buildTree(preorder[mid + 1 :], inorder[mid + 1 :])\n",
    "        return root\n",
    "\n",
    "sol = Solution()\n",
    "print(sol.buildTree([10,5,4,6,12,11,13], [4,5,6,10,11,12,13]))\n",
    "print(sol.buildTree([3,9,20,15,7], [9,3,15,20,7]))"
   ]
  },
  {
   "attachments": {},
   "cell_type": "markdown",
   "metadata": {},
   "source": [
    "##### 337.House Robber III"
   ]
  },
  {
   "cell_type": "code",
   "execution_count": null,
   "metadata": {},
   "outputs": [],
   "source": [
    "# Definition for a binary tree node.\n",
    "class TreeNode:\n",
    "    def __init__(self, val=0, left=None, right=None):\n",
    "        self.val = val\n",
    "        self.left = left\n",
    "        self.right = right\n",
    "\n",
    "class Solution:\n",
    "    def rob(self, root: Optional[TreeNode]) -> int:\n",
    "        \n",
    "        def dfs(node):\n",
    "            if not node:\n",
    "                return [0, 0]\n",
    "\n",
    "            leftTree = dfs(node.left)\n",
    "            rightTree = dfs(node.right)\n",
    "\n",
    "            withRoot = node.val + leftTree[1] + rightTree[1]\n",
    "            withOutRoot = max(leftTree) + max(rightTree)\n",
    "\n",
    "            return [withRoot, withOutRoot]\n",
    "            \n",
    "        return max(dfs(root))"
   ]
  },
  {
   "attachments": {},
   "cell_type": "markdown",
   "metadata": {},
   "source": [
    "##### 199.Binary Tree Right Side View"
   ]
  },
  {
   "cell_type": "code",
   "execution_count": null,
   "metadata": {},
   "outputs": [],
   "source": [
    "class Solution:\n",
    "    def rightSideView(self, root: Optional[TreeNode]) -> List[int]:\n",
    "        if not root:\n",
    "            return []\n",
    "        res = []\n",
    "        q = collections.deque()\n",
    "        q.append(root)\n",
    "        \n",
    "        while q:\n",
    "            qlen = len(q)\n",
    "            rightMost = None\n",
    "            # sub = []\n",
    "            for _ in range(qlen):\n",
    "                node = q.popleft()\n",
    "                if node:\n",
    "                    rightMost = node # since each element is added onto stack left to right... last would be right most\n",
    "                    # sub.append(node.val)\n",
    "                    q.append(node.left)\n",
    "                    q.append(node.right)\n",
    "            \n",
    "            # if sub:\n",
    "                # res.append(sub[-1])\n",
    "\n",
    "            if rightMost:\n",
    "                res.append(rightMost.val)\n",
    "        \n",
    "        return res"
   ]
  },
  {
   "attachments": {},
   "cell_type": "markdown",
   "metadata": {},
   "source": [
    "##### 1448.Count Good Nodes in Binary Tree"
   ]
  },
  {
   "cell_type": "code",
   "execution_count": null,
   "metadata": {},
   "outputs": [],
   "source": [
    "class Solution:\n",
    "    def goodNodes(self, root: TreeNode) -> int:\n",
    "        if not root:\n",
    "            return 0\n",
    "\n",
    "        res = 0\n",
    "\n",
    "        def dfs(node, val):\n",
    "            nonlocal res\n",
    "            if not node:\n",
    "                return False\n",
    "\n",
    "            if node.val >= val:\n",
    "                res += 1\n",
    "\n",
    "            dfs(node.left, max(val, node.val))\n",
    "            dfs(node.right, max(val, node.val))\n",
    "\n",
    "\n",
    "        dfs(root, root.val)\n",
    "        return res\n"
   ]
  },
  {
   "attachments": {},
   "cell_type": "markdown",
   "metadata": {},
   "source": [
    "##### 1372.Longest ZigZag Path in a Binary Tree"
   ]
  },
  {
   "cell_type": "code",
   "execution_count": null,
   "metadata": {},
   "outputs": [],
   "source": [
    "# Definition for a binary tree node.\n",
    "class TreeNode:\n",
    "    def __init__(self, val=0, left=None, right=None):\n",
    "        self.val = val\n",
    "        self.left = left\n",
    "        self.right = right\n",
    "\n",
    "class Solution:\n",
    "    def longestZigZag(self, root: Optional[TreeNode]) -> int:\n",
    "        self.res = 0\n",
    "        \n",
    "        def dfs(node, isLeft, currCnt):\n",
    "            if node:\n",
    "                self.res = max(self.res, currCnt)\n",
    "\n",
    "                if isLeft:\n",
    "                    dfs(node.left, False, currCnt + 1)\n",
    "                    dfs(node.left, True, 0)\n",
    "                else:\n",
    "                    dfs(node.right, True, currCnt + 1)\n",
    "                    dfs(node.right, False, 0)\n",
    "\n",
    "        dfs(root, True, 0)\n",
    "        dfs(root, False, 0)\n",
    "        return self.res"
   ]
  },
  {
   "attachments": {},
   "cell_type": "markdown",
   "metadata": {},
   "source": [
    "##### 1161.Maximum Level Sum of a Binary Tree"
   ]
  },
  {
   "cell_type": "code",
   "execution_count": 35,
   "metadata": {},
   "outputs": [
    {
     "name": "stdout",
     "output_type": "stream",
     "text": [
      "3\n"
     ]
    }
   ],
   "source": [
    "# Definition for a binary tree node.\n",
    "class TreeNode:\n",
    "    def __init__(self, val=0, left=None, right=None):\n",
    "        self.val = val\n",
    "        self.left = left\n",
    "        self.right = right\n",
    "\n",
    "class Solution:\n",
    "    def maxLevelSum(self, root: Optional[TreeNode]) -> int:\n",
    "        self.minLevel, self.maxSum = 0, float('-inf')\n",
    "\n",
    "        if not root:\n",
    "            return 0\n",
    "        \n",
    "        dq = collections.deque([root])\n",
    "        level = 0\n",
    "        while dq:\n",
    "            q_len = len(dq)\n",
    "            level += 1\n",
    "            curr_sum = 0\n",
    "            for _ in range(q_len):\n",
    "                node = dq.popleft()\n",
    "                curr_sum += node.val\n",
    "                if node.left: dq.append(node.left)\n",
    "                if node.right: dq.append(node.right)\n",
    "            \n",
    "            if self.maxSum < curr_sum:\n",
    "                self.minLevel = level\n",
    "                self.maxSum = curr_sum\n",
    "\n",
    "        return self.minLevel\n",
    "\n",
    "tree = TreeNode(-100)\n",
    "tree.left = TreeNode(-200)\n",
    "tree.left.left = TreeNode(-20)\n",
    "tree.left.right = TreeNode(-5)\n",
    "tree.right = TreeNode(-300)\n",
    "tree.right.left = TreeNode(-10)\n",
    "\n",
    "sol = Solution()\n",
    "print(sol.maxLevelSum(tree))\n",
    "        "
   ]
  },
  {
   "attachments": {},
   "cell_type": "markdown",
   "metadata": {},
   "source": [
    "##### 450.Delete Node in a BST"
   ]
  },
  {
   "cell_type": "code",
   "execution_count": null,
   "metadata": {},
   "outputs": [],
   "source": [
    "# Definition for a binary tree node.\n",
    "class TreeNode:\n",
    "    def __init__(self, val=0, left=None, right=None):\n",
    "        self.val = val\n",
    "        self.left = left\n",
    "        self.right = right\n",
    "\n",
    "class Solution:\n",
    "    def deleteNode(self, root: Optional[TreeNode], key: int) -> Optional[TreeNode]:\n",
    "        if not root:\n",
    "            return None\n",
    "        \n",
    "        if key > root.val:\n",
    "            root.right = self.deleteNode(root.right, key)\n",
    "        elif key < root.val:\n",
    "            root.left = self.deleteNode(root.left, key)\n",
    "        else:\n",
    "            if not root.left:\n",
    "                return root.right\n",
    "            elif not root.right:\n",
    "                return root.left\n",
    "            \n",
    "            # finding min in right sub tree\n",
    "            temp = root.right\n",
    "            while temp.left:\n",
    "                temp = temp.left\n",
    "            root.val = temp.val\n",
    "            root.right = self.deleteNode(root.right, root.val)\n",
    "\n",
    "        return root"
   ]
  },
  {
   "cell_type": "markdown",
   "metadata": {},
   "source": [
    "##### 2096.Step-By-Step Directions From a Binary Tree Node to Another"
   ]
  },
  {
   "cell_type": "code",
   "execution_count": 40,
   "metadata": {},
   "outputs": [
    {
     "name": "stdout",
     "output_type": "stream",
     "text": [
      "UURL\n"
     ]
    }
   ],
   "source": [
    "# Definition for a binary tree node.\n",
    "class TreeNode:\n",
    "    def __init__(self, val=0, left=None, right=None):\n",
    "        self.val = val\n",
    "        self.left = left\n",
    "        self.right = right\n",
    "\n",
    "class Solution:\n",
    "    def getDirections(self, root: Optional[TreeNode], startValue: int, destValue: int) -> str:\n",
    "        # Lowest Common ancestor\n",
    "        def getAncestor(node):\n",
    "            if not node: return None\n",
    "            \n",
    "            if node.val in (startValue, destValue):\n",
    "                return node\n",
    "            \n",
    "            left = getAncestor(node.left)\n",
    "            right = getAncestor(node.right)\n",
    "\n",
    "            if left and right:\n",
    "                return node\n",
    "            \n",
    "            return left or right\n",
    "        \n",
    "        new_root = getAncestor(root)\n",
    "        startPath, destPath = None, None\n",
    "        \n",
    "        dq = collections.deque([(new_root, '')])\n",
    "        while dq:\n",
    "            node, path = dq.popleft()\n",
    "            \n",
    "            if node.val == startValue:\n",
    "                startPath = path\n",
    "                if destPath: break\n",
    "            \n",
    "            if node.val == destValue:\n",
    "                destPath = path\n",
    "                if startPath: break\n",
    "\n",
    "            if node.left: \n",
    "                dq.append((node.left, path + 'L'))\n",
    "            if node.right: \n",
    "                dq.append((node.right, path + 'R'))\n",
    "\n",
    "        return 'U' * len(startPath) + destPath\n",
    "\n",
    "sol = Solution()\n",
    "tree = TreeNode(5)\n",
    "tree.left = TreeNode(1)\n",
    "tree.left.left = TreeNode(3)\n",
    "tree.right = TreeNode(2)\n",
    "tree.right.left = TreeNode(6)\n",
    "tree.right.right = TreeNode(4)\n",
    "\n",
    "print(sol.getDirections(tree, 3, 6)) # UURL"
   ]
  },
  {
   "cell_type": "markdown",
   "metadata": {},
   "source": [
    "##### 1361.Validate Binary Tree Nodes"
   ]
  },
  {
   "cell_type": "code",
   "execution_count": 77,
   "metadata": {},
   "outputs": [
    {
     "name": "stdout",
     "output_type": "stream",
     "text": [
      "True\n"
     ]
    }
   ],
   "source": [
    "class Solution:\n",
    "    def validateBinaryTreeNodes(self, n: int, leftChild: List[int], rightChild: List[int]) -> bool:\n",
    "        indegree = [0] * n\n",
    "        for l, r in zip(leftChild, rightChild):\n",
    "            if l != -1:\n",
    "                indegree[l] += 1\n",
    "                # if there are nodes that has more than 2+ parents, return false.\n",
    "                if indegree[l] > 1:\n",
    "                    return False\n",
    "            if r != -1:\n",
    "                indegree[r] += 1\n",
    "                if indegree[r] > 1:\n",
    "                    return False\n",
    "        \n",
    "        # a valid tree only has 1 root. \n",
    "        if indegree.count(0) != 1:\n",
    "            return False\n",
    "        \n",
    "        # count nodes from root, if the total number is not n, it means there are islands, then return false.\n",
    "        root = indegree.index(0)\n",
    "        def count_nodes(root):\n",
    "            if root == -1:\n",
    "                return 0\n",
    "            return 1 + count_nodes(leftChild[root]) + count_nodes(rightChild[root])\n",
    "        \n",
    "        return count_nodes(root) == n\n",
    "\n",
    "        \n",
    "\n",
    "sol = Solution()\n",
    "print(sol.validateBinaryTreeNodes(n = 4, leftChild = [1,-1,3,-1], rightChild = [2,-1,-1,-1])) #True\n",
    "print(sol.validateBinaryTreeNodes(n = 4, leftChild = [1,-1,3,-1], rightChild = [2,3,-1,-1])) #False\n",
    "print(sol.validateBinaryTreeNodes(n = 2, leftChild = [1,0], rightChild = [-1,-1])) #False"
   ]
  },
  {
   "cell_type": "markdown",
   "metadata": {},
   "source": [
    "##### 2049.Count Nodes With the Highest Score"
   ]
  },
  {
   "cell_type": "code",
   "execution_count": 134,
   "metadata": {},
   "outputs": [
    {
     "name": "stdout",
     "output_type": "stream",
     "text": [
      "3\n",
      "2\n",
      "1\n"
     ]
    }
   ],
   "source": [
    "class Solution:\n",
    "    def countHighestScoreNodes_(self, parents: List[int]) -> int:\n",
    "        n = len(parents)\n",
    "        scores = [1] * n\n",
    "        \n",
    "        graph = [[] for _ in range(n)]\n",
    "        for e, i in enumerate(parents):\n",
    "            if e: \n",
    "                graph[i].append(e)\n",
    "        \n",
    "        def dfs(i):\n",
    "            res = 1\n",
    "            \n",
    "            for j in graph[i]:\n",
    "                val = dfs(j)\n",
    "                res += val\n",
    "                scores[i] *= val\n",
    "            \n",
    "            if i: \n",
    "                scores[i] *= (n - res)\n",
    "            return res\n",
    "\n",
    "        dfs(0)\n",
    "        return scores.count(max(scores))\n",
    "\n",
    "    def countHighestScoreNodes(self, parents: List[int]) -> int:\n",
    "        children = defaultdict(list)\n",
    "\n",
    "        for idx, par in enumerate(parents):\n",
    "            if idx:\n",
    "                children[par].append(idx)\n",
    "\n",
    "        max_score, max_sc_cnt = -1, 0\n",
    "        def dfs(root):\n",
    "            nonlocal max_score, max_sc_cnt\n",
    "            \n",
    "            score = 1\n",
    "            nodes = 1\n",
    "\n",
    "            for child in children[root]:\n",
    "                child_nodes = dfs(child)\n",
    "                score *= child_nodes\n",
    "                nodes += child_nodes\n",
    "\n",
    "            # multiplying remaining nodes\n",
    "            if len(parents) - nodes > 0:\n",
    "                score *= (len(parents) - nodes)\n",
    "\n",
    "            if score == max_score:\n",
    "                max_sc_cnt += 1\n",
    "            elif score > max_score:\n",
    "                max_sc_cnt = 1\n",
    "                max_score = score\n",
    "\n",
    "            return nodes\n",
    "\n",
    "        dfs(0)\n",
    "        return max_sc_cnt\n",
    "\n",
    "sol = Solution()\n",
    "print(sol.countHighestScoreNodes([-1,2,0,2,0])) #3\n",
    "print(sol.countHighestScoreNodes([-1,2,0])) #2\n",
    "print(sol.countHighestScoreNodes([-1,2,0,2,0,4,4])) #1"
   ]
  },
  {
   "cell_type": "markdown",
   "metadata": {},
   "source": [
    "##### 515.Find Largest Value in Each Tree Row "
   ]
  },
  {
   "cell_type": "code",
   "execution_count": 4,
   "metadata": {},
   "outputs": [
    {
     "name": "stdout",
     "output_type": "stream",
     "text": [
      "[1, 3, 9]\n"
     ]
    }
   ],
   "source": [
    "# Definition for a binary tree node.\n",
    "class TreeNode:\n",
    "    def __init__(self, val=0, left=None, right=None):\n",
    "        self.val = val\n",
    "        self.left = left\n",
    "        self.right = right\n",
    "\n",
    "class Solution:\n",
    "    def largestValues(self, root: Optional[TreeNode]) -> List[int]:\n",
    "        if not root:\n",
    "            return []\n",
    "        \n",
    "        res = []\n",
    "        dq = collections.deque([root])\n",
    "        while dq:\n",
    "            max_val = float('-inf')\n",
    "            for _ in range(len(dq)):\n",
    "                node = dq.popleft()\n",
    "                max_val = max(max_val, node.val)\n",
    "                if node.left:\n",
    "                    dq.append(node.left)\n",
    "                if node.right:\n",
    "                    dq.append(node.right)\n",
    "            res.append(max_val)\n",
    "        return res\n",
    "\n",
    "tree = TreeNode(1)\n",
    "tree.left = TreeNode(3)\n",
    "tree.left.left = TreeNode(5)\n",
    "tree.left.right = TreeNode(3)\n",
    "tree.right = TreeNode(2)\n",
    "tree.right.right = TreeNode(9)\n",
    "\n",
    "sol = Solution()\n",
    "print(sol.largestValues(tree)) #[1,3,9]"
   ]
  },
  {
   "cell_type": "markdown",
   "metadata": {},
   "source": [
    "##### 2265.Count Nodes Equal to Average of Subtree"
   ]
  },
  {
   "cell_type": "code",
   "execution_count": null,
   "metadata": {},
   "outputs": [],
   "source": [
    "# Definition for a binary tree node.\n",
    "class TreeNode:\n",
    "    def __init__(self, val=0, left=None, right=None):\n",
    "        self.val = val\n",
    "        self.left = left\n",
    "        self.right = right\n",
    "\n",
    "class Solution:\n",
    "    def averageOfSubtree(self, root: Optional[TreeNode]) -> int:\n",
    "        res = 0\n",
    "\n",
    "        def countEqualNodes(node):\n",
    "            nonlocal res\n",
    "            \n",
    "            if not node:\n",
    "                return (0, 0)\n",
    "            \n",
    "            left_sum, left_count = countEqualNodes(node.left)\n",
    "            right_sum, right_count = countEqualNodes(node.right)\n",
    "            \n",
    "            curr_sum = node.val + left_sum + right_sum\n",
    "            curr_count = 1 + left_count + right_count\n",
    "            \n",
    "            if curr_sum // curr_count == node.val:\n",
    "                res += 1\n",
    "            \n",
    "            return curr_sum, curr_count\n",
    "        \n",
    "        countEqualNodes(root)\n",
    "        return res\n",
    "            \n",
    "        "
   ]
  },
  {
   "attachments": {},
   "cell_type": "markdown",
   "metadata": {},
   "source": [
    "#### Hard"
   ]
  },
  {
   "attachments": {},
   "cell_type": "markdown",
   "metadata": {},
   "source": [
    "##### 124.Binary Tree Maximum Path Sum"
   ]
  },
  {
   "cell_type": "code",
   "execution_count": null,
   "metadata": {},
   "outputs": [],
   "source": [
    "class Solution:\n",
    "    def maxPathSum(self, root: Optional[TreeNode]) -> int:\n",
    "        res = root.val\n",
    "        \n",
    "        def dfs(node):\n",
    "            nonlocal res\n",
    "            \n",
    "            if not node:\n",
    "                return 0\n",
    "            \n",
    "            left = max(dfs(node.left), 0)\n",
    "            right = max(dfs(node.right), 0)\n",
    "            \n",
    "            res = max(res, node.val + left + right)\n",
    "            \n",
    "            return node.val + max(left, right)\n",
    "        \n",
    "        dfs(root)\n",
    "        return res"
   ]
  },
  {
   "attachments": {},
   "cell_type": "markdown",
   "metadata": {},
   "source": [
    "##### 297.Serialize and Deserialize Binary Tree "
   ]
  },
  {
   "cell_type": "code",
   "execution_count": null,
   "metadata": {},
   "outputs": [],
   "source": [
    "class Codec:\n",
    "\n",
    "    def serialize(self, root):\n",
    "        \"\"\"Encodes a tree to a single string.\n",
    "        \n",
    "        :type root: TreeNode\n",
    "        :rtype: str\n",
    "        \"\"\"\n",
    "        res = []\n",
    "\n",
    "        def dfs(node):\n",
    "            if not node:\n",
    "                res.append(\"n\")\n",
    "                return\n",
    "            res.append(str(node.val))\n",
    "            dfs(node.left)\n",
    "            dfs(node.right)\n",
    "\n",
    "        dfs(root)\n",
    "        return \";\".join(res)\n",
    "\n",
    "    def deserialize(self, data):\n",
    "        \"\"\"Decodes your encoded data to tree.\n",
    "        \n",
    "        :type data: str\n",
    "        :rtype: TreeNode\n",
    "        \"\"\"\n",
    "        vals = data.split(\";\")\n",
    "        i = 0\n",
    "\n",
    "        def dfs():\n",
    "            nonlocal i\n",
    "            if vals[i] == \"n\":\n",
    "                i += 1\n",
    "                return None\n",
    "            node = TreeNode(int(vals[i]))\n",
    "            i += 1\n",
    "            node.left = dfs()\n",
    "            node.right = dfs()\n",
    "            return node\n",
    "\n",
    "        return dfs()\n"
   ]
  },
  {
   "attachments": {},
   "cell_type": "markdown",
   "metadata": {},
   "source": [
    "### Trie"
   ]
  },
  {
   "attachments": {},
   "cell_type": "markdown",
   "metadata": {},
   "source": [
    "#### Medium"
   ]
  },
  {
   "attachments": {},
   "cell_type": "markdown",
   "metadata": {},
   "source": [
    "##### 208.Implement Trie (Prefix Tree)"
   ]
  },
  {
   "cell_type": "code",
   "execution_count": 6,
   "metadata": {},
   "outputs": [],
   "source": [
    "class TrieNode:\n",
    "    def __init__(self):\n",
    "        self.children = {}\n",
    "        self.end = False\n",
    "\n",
    "class Trie:\n",
    "\n",
    "    def __init__(self):\n",
    "        self.root = TrieNode()\n",
    "\n",
    "    def insert(self, word: str) -> None:\n",
    "        curr = self.root\n",
    "        \n",
    "        for i in word:\n",
    "            if i not in curr.children:\n",
    "                curr.children[i] = TrieNode()\n",
    "            curr = curr.children[i]\n",
    "        curr.end = True\n",
    "        \n",
    "    def search(self, word: str) -> bool:\n",
    "        curr = self.root\n",
    "        \n",
    "        for i in word:\n",
    "            if i not in curr.children:\n",
    "                return False\n",
    "            curr = curr.children[i]\n",
    "        return curr.end\n",
    "\n",
    "    def startsWith(self, prefix: str) -> bool:\n",
    "        curr = self.root\n",
    "        \n",
    "        for i in prefix:\n",
    "            if i not in curr.children:\n",
    "                return False\n",
    "            curr = curr.children[i]\n",
    "        return True"
   ]
  },
  {
   "attachments": {},
   "cell_type": "markdown",
   "metadata": {},
   "source": [
    "##### 211.Design Add and Search Words Data Structure"
   ]
  },
  {
   "cell_type": "code",
   "execution_count": 7,
   "metadata": {},
   "outputs": [
    {
     "data": {
      "text/plain": [
       "False"
      ]
     },
     "execution_count": 7,
     "metadata": {},
     "output_type": "execute_result"
    }
   ],
   "source": [
    "class TrieNode:\n",
    "    def __init__(self):\n",
    "        self.children = {}\n",
    "        self.end = False\n",
    "        \n",
    "class WordDictionary:\n",
    "\n",
    "    def __init__(self):\n",
    "        self.root = TrieNode()\n",
    "\n",
    "    def addWord(self, word: str) -> None:\n",
    "        curr = self.root\n",
    "        \n",
    "        for i in word:\n",
    "            if i not in curr.children:\n",
    "                curr.children[i] = TrieNode()\n",
    "            curr = curr.children[i]\n",
    "        curr.end = True\n",
    "\n",
    "    def search(self, word: str) -> bool:\n",
    "        def dfs(pos, root):\n",
    "            curr = root\n",
    "            \n",
    "            for i in range(pos, len(word)):\n",
    "                char = word[i]\n",
    "                \n",
    "                if char == '.':\n",
    "                    for j in curr.children.values():\n",
    "                        if dfs(i + 1, j):\n",
    "                            return True\n",
    "                    return False\n",
    "                else:\n",
    "                    if i not in curr.children:\n",
    "                        return False\n",
    "                    curr = curr.children[i]\n",
    "            return curr.end\n",
    "        \n",
    "        return dfs(0, self.root)\n",
    "        \n",
    "\n",
    "dictionary = WordDictionary()\n",
    "dictionary.addWord('bad')\n",
    "dictionary.addWord('dad')\n",
    "dictionary.addWord('mad')\n",
    "dictionary.search('bad')"
   ]
  },
  {
   "attachments": {},
   "cell_type": "markdown",
   "metadata": {},
   "source": [
    "#### Hard"
   ]
  },
  {
   "attachments": {},
   "cell_type": "markdown",
   "metadata": {},
   "source": [
    "##### 212. Word Search II"
   ]
  },
  {
   "cell_type": "code",
   "execution_count": 29,
   "metadata": {},
   "outputs": [
    {
     "name": "stdout",
     "output_type": "stream",
     "text": [
      "['oath', 'eat']\n",
      "['eaabcdgfa', 'eaafgdcba']\n",
      "['a']\n"
     ]
    }
   ],
   "source": [
    "class Solution_:\n",
    "    # Too time taking... works for single word though.\n",
    "    def findWords(self, board: List[List[str]], words: List[str]) -> List[str]:\n",
    "        r_max = len(board)\n",
    "        c_max = len(board[0])\n",
    "        def dfs(word, r, c, buffer):\n",
    "            nonlocal r_max, c_max\n",
    "            if r < 0 or c < 0 or r >= r_max or c >= c_max:\n",
    "                return False\n",
    "            \n",
    "            if word[0] == board[r][c] and (r, c) not in buffer:\n",
    "                buffer.append((r, c))\n",
    "                word = word[1:]\n",
    "                if not word:\n",
    "                    return True\n",
    "                \n",
    "                if dfs(word, r - 1, c, buffer) or dfs(word, r + 1, c, buffer) or dfs(word, r, c - 1, buffer) or dfs(word, r, c + 1, buffer):\n",
    "                    return True\n",
    "                buffer.pop()\n",
    "            return False\n",
    "\n",
    "        res = []\n",
    "        for word in words:\n",
    "            def inner():\n",
    "                for i in range(len(board)):\n",
    "                    for j in range(len(board[0])):\n",
    "                        if word[0] == board[i][j]:\n",
    "                            if dfs(word, i, j, []):\n",
    "                                res.append(word)\n",
    "                                return\n",
    "            inner()\n",
    "        \n",
    "        return res\n",
    "\n",
    "class TrieNode:\n",
    "    def __init__(self):\n",
    "        self.children = {}\n",
    "        self.isEnd = False\n",
    "        self.refs = 0\n",
    "\n",
    "    def addWord(self, word: str) -> None:\n",
    "        curr = self\n",
    "        curr.refs += 1\n",
    "        for i in word:\n",
    "            if i not in curr.children:\n",
    "                curr.children[i] = TrieNode()\n",
    "            curr = curr.children[i]\n",
    "            curr.refs += 1\n",
    "        curr.isEnd = True\n",
    "\n",
    "    def removeWord(self, word):\n",
    "        cur = self\n",
    "        cur.refs -= 1\n",
    "        for c in word:\n",
    "            if c in cur.children:\n",
    "                cur = cur.children[c]\n",
    "                cur.refs -= 1\n",
    "\n",
    "class Solution:\n",
    "    def findWords(self, board: List[List[str]], words: List[str]) -> List[str]:\n",
    "        root = TrieNode()\n",
    "        for i in words:\n",
    "            root.addWord(i)\n",
    "\n",
    "        r_max = len(board)\n",
    "        c_max = len(board[0])\n",
    "        res, visited = set(), set()\n",
    "        def dfs(r, c, node, word):\n",
    "            nonlocal r_max, c_max\n",
    "            if ((r < 0 or c < 0 or r >= r_max or c >= c_max)\n",
    "                or board[r][c] not in node.children \n",
    "                or node.children[board[r][c]].refs < 1\n",
    "                or (r, c) in visited):\n",
    "                return \n",
    "            \n",
    "            visited.add((r, c))\n",
    "            node = node.children[board[r][c]]\n",
    "            word += board[r][c]\n",
    "            if node.isEnd:\n",
    "                node.isEnd = False\n",
    "                res.add(word)\n",
    "                root.removeWord(word)\n",
    "                \n",
    "            dfs(r - 1, c, node, word) \n",
    "            dfs(r + 1, c, node, word)\n",
    "            dfs(r, c - 1, node, word)\n",
    "            dfs(r, c + 1, node, word)\n",
    "                    \n",
    "            visited.remove((r, c))\n",
    "\n",
    "        \n",
    "        for i in range(len(board)):\n",
    "            for j in range(len(board[0])):\n",
    "                dfs(i, j, root, \"\")\n",
    "\n",
    "        return list(res)\n",
    "\n",
    "sol = Solution()\n",
    "board1 = [[\"o\",\"a\",\"a\",\"n\"],[\"e\",\"t\",\"a\",\"e\"],[\"i\",\"h\",\"k\",\"r\"],[\"i\",\"f\",\"l\",\"v\"]]\n",
    "words1 = [\"oath\",\"pea\",\"eat\",\"rain\"]\n",
    "board2 = [[\"a\",\"b\",\"c\"],[\"a\",\"e\",\"d\"],[\"a\",\"f\",\"g\"]]\n",
    "words2 = [\"eaafgdcba\",\"eaabcdgfa\"]\n",
    "board3 = [[\"a\"]]\n",
    "words3 = [\"a\"]\n",
    "print(sol.findWords(board1, words1))\n",
    "print(sol.findWords(board2, words2))\n",
    "print(sol.findWords(board3, words3))"
   ]
  },
  {
   "attachments": {},
   "cell_type": "markdown",
   "metadata": {},
   "source": [
    "### Heap/Priority Queue"
   ]
  },
  {
   "attachments": {},
   "cell_type": "markdown",
   "metadata": {},
   "source": [
    "#### Easy"
   ]
  },
  {
   "attachments": {},
   "cell_type": "markdown",
   "metadata": {},
   "source": [
    "##### 703.Kth Largest Element in a Stream"
   ]
  },
  {
   "cell_type": "code",
   "execution_count": 61,
   "metadata": {},
   "outputs": [],
   "source": [
    "import heapq\n",
    "class KthLargest:\n",
    "\n",
    "    def __init__(self, k: int, nums: List[int]):\n",
    "        self.minheap = nums\n",
    "        self.size = k\n",
    "        heapq.heapify(self.minheap)\n",
    "\n",
    "        while len(self.minheap) > k:\n",
    "            heapq.heappop(self.minheap)\n",
    "\n",
    "    def add(self, val: int) -> int:\n",
    "        heapq.heappush(self.minheap, val)\n",
    "        if len(self.minheap) > self.size:\n",
    "            heapq.heappop(self.minheap)\n",
    "\n",
    "        return self.minheap[0]\n",
    "\n",
    "kthLargest = KthLargest(3, [4, 5, 8, 2])\n",
    "kthLargest.add(3);   # return 4\n",
    "kthLargest.add(5);   # return 5\n",
    "kthLargest.add(10);  # return 5\n",
    "kthLargest.add(9);   # return 8\n",
    "kthLargest.add(4);   # return 8"
   ]
  },
  {
   "attachments": {},
   "cell_type": "markdown",
   "metadata": {},
   "source": [
    "##### 1046.Last Stone Weight"
   ]
  },
  {
   "cell_type": "code",
   "execution_count": 71,
   "metadata": {},
   "outputs": [
    {
     "name": "stdout",
     "output_type": "stream",
     "text": [
      "1\n",
      "1\n"
     ]
    }
   ],
   "source": [
    "import heapq\n",
    "class Solution:\n",
    "    def lastStoneWeight(self, stones: List[int]) -> int:\n",
    "        stones = [-i for i in stones]\n",
    "\n",
    "        heapq.heapify(stones)\n",
    "\n",
    "        while len(stones) > 1:\n",
    "            x = heapq.heappop(stones)\n",
    "            y = heapq.heappop(stones)\n",
    "            if y > x: # since negative\n",
    "                heapq.heappush(stones, x - y)\n",
    "\n",
    "        return abs(stones[0]) if stones else 0\n",
    "\n",
    "sol = Solution()\n",
    "print(sol.lastStoneWeight([2,7,4,1,8,1])) #1\n",
    "print(sol.lastStoneWeight([1])) #1"
   ]
  },
  {
   "attachments": {},
   "cell_type": "markdown",
   "metadata": {},
   "source": [
    "##### 933.Number of Recent Calls"
   ]
  },
  {
   "cell_type": "code",
   "execution_count": 15,
   "metadata": {},
   "outputs": [
    {
     "name": "stdout",
     "output_type": "stream",
     "text": [
      "1\n",
      "2\n",
      "3\n",
      "3\n"
     ]
    }
   ],
   "source": [
    "class RecentCounter:\n",
    "\n",
    "    def __init__(self):\n",
    "        self.reqs = collections.deque([])\n",
    "\n",
    "    def ping(self, t: int) -> int:\n",
    "        self.reqs.append(t)\n",
    "        \n",
    "        while self.reqs[0] < t - 3000:\n",
    "            self.reqs.popleft()\n",
    "        \n",
    "        return len(self.reqs)\n",
    "\n",
    "\n",
    "recentCounter = RecentCounter()\n",
    "print(recentCounter.ping(1))     # requests = [1], range is [-2999,1], return 1\n",
    "print(recentCounter.ping(100))   # requests = [1, 100], range is [-2900,100], return 2\n",
    "print(recentCounter.ping(3001))  # requests = [1, 100, 3001], range is [1,3001], return 3\n",
    "print(recentCounter.ping(3002))  # requests = [1, 100, 3001, 3002], range is [2,3002], return 3"
   ]
  },
  {
   "attachments": {},
   "cell_type": "markdown",
   "metadata": {},
   "source": [
    "#### Medium"
   ]
  },
  {
   "attachments": {},
   "cell_type": "markdown",
   "metadata": {},
   "source": [
    "##### 973.K Closest Points to Origin"
   ]
  },
  {
   "cell_type": "code",
   "execution_count": 82,
   "metadata": {},
   "outputs": [
    {
     "name": "stdout",
     "output_type": "stream",
     "text": [
      "[[-2, 2]]\n",
      "[[3, 3], [-2, 4]]\n"
     ]
    }
   ],
   "source": [
    "class Solution:\n",
    "    #O(nlogn)\n",
    "    def kClosest1(self, points: List[List[int]], k: int) -> List[List[int]]:\n",
    "        distances = []\n",
    "        \n",
    "        for x, y in points:\n",
    "            distances.append((x*x + y*y, [x,y])) \n",
    "\n",
    "        distances = sorted(distances, key=lambda val: val[0], reverse=True)\n",
    "\n",
    "        res = []\n",
    "        for _ in range(k):\n",
    "            res.append(distances.pop()[1])\n",
    "\n",
    "        return res\n",
    "\n",
    "    #O(n) \n",
    "    def kClosest(self, points: List[List[int]], k: int) -> List[List[int]]:\n",
    "        distances = []\n",
    "        \n",
    "        for x, y in points:\n",
    "            distances.append((x*x + y*y, [x,y])) \n",
    "\n",
    "        heapq.heapify(distances)\n",
    "\n",
    "        res = []\n",
    "        for _ in range(k):\n",
    "            res.append(heapq.heappop(distances) [1])\n",
    "\n",
    "        return res\n",
    "\n",
    "sol = Solution()\n",
    "print(sol.kClosest([[1,3],[-2,2]], 1)) # [[-2,2]]\n",
    "print(sol.kClosest([[3,3],[5,-1],[-2,4]], 2)) # [[3,3],[-2,4]]"
   ]
  },
  {
   "attachments": {},
   "cell_type": "markdown",
   "metadata": {},
   "source": [
    "##### 215.Kth Largest Element in an Array"
   ]
  },
  {
   "cell_type": "code",
   "execution_count": 88,
   "metadata": {},
   "outputs": [
    {
     "name": "stdout",
     "output_type": "stream",
     "text": [
      "5\n",
      "4\n"
     ]
    }
   ],
   "source": [
    "class Solution:\n",
    "    #O(n)\n",
    "    def findKthLargest1(self, nums: List[int], k: int) -> int:\n",
    "        nums = [-num for num in nums]\n",
    "        heapq.heapify(nums)\n",
    "\n",
    "        res = -1\n",
    "        for _ in range(k):\n",
    "            res = heapq.heappop(nums)\n",
    "\n",
    "        return res * -1\n",
    "\n",
    "    # Time Complexity:\n",
    "    #   - Best Case: O(n)\n",
    "    #   - Average Case: O(n)\n",
    "    #   - Worst Case: O(n^2)\n",
    "    # Extra Space Complexity: O(1)\n",
    "    def findKthLargest(self, nums: List[int], k: int) -> int:\n",
    "        k = len(nums) - k\n",
    "        \n",
    "        def quickSelect(nums:List[int], left:int, right:int) -> int:\n",
    "            pivot, p = nums[right], left\n",
    "\n",
    "            for i in range(left, right): # keep swapping in the given range\n",
    "                if nums[i] <= pivot:\n",
    "                    nums[p], nums[i] = nums[i], nums[p]\n",
    "                    p += 1\n",
    "            ''' swap the pivot value with p, as p stops at either bigger than\n",
    "            pivot or at the end of the given range (swaps with itself)'''\n",
    "            nums[right], nums[p] = nums[p], nums[right] \n",
    "\n",
    "            if k < p: return quickSelect(nums, left, p - 1)\n",
    "            elif k > p: return quickSelect(nums, p + 1, right)\n",
    "            else: return nums[p]\n",
    "\n",
    "        \n",
    "        return quickSelect(nums, 0, len(nums) - 1)\n",
    "\n",
    "\n",
    "    \n",
    "\n",
    "sol = Solution()\n",
    "print(sol.findKthLargest([3,2,1,5,6,4], 2)) #5\n",
    "print(sol.findKthLargest([3,2,3,1,2,4,5,5,6], 4)) #4"
   ]
  },
  {
   "attachments": {},
   "cell_type": "markdown",
   "metadata": {},
   "source": [
    "##### 621.Task Scheduler"
   ]
  },
  {
   "cell_type": "code",
   "execution_count": 65,
   "metadata": {},
   "outputs": [
    {
     "name": "stdout",
     "output_type": "stream",
     "text": [
      "8\n",
      "6\n",
      "16\n"
     ]
    }
   ],
   "source": [
    "from collections import deque\n",
    "import heapq\n",
    "\n",
    "class Solution:\n",
    "    def leastInterval(self, tasks: List[str], n: int) -> int:\n",
    "        counter = Counter(tasks)\n",
    "        maxHeap = []\n",
    "        wait_queue = deque()\n",
    "        \n",
    "        for v in counter.values():\n",
    "            maxHeap.append(-v)\n",
    "\n",
    "        heapq.heapify(maxHeap)\n",
    "\n",
    "        time = 0\n",
    "        while maxHeap or wait_queue:\n",
    "            time += 1\n",
    "\n",
    "            if maxHeap:\n",
    "                count = heapq.heappop(maxHeap) + 1\n",
    "\n",
    "                if count:\n",
    "                    wait_queue.append((count, time + n))\n",
    "\n",
    "            if wait_queue and wait_queue[0][1] == time:\n",
    "                heapq.heappush(maxHeap, wait_queue.popleft()[0])\n",
    "        \n",
    "        return time\n",
    "\n",
    "sol = Solution()\n",
    "print(sol.leastInterval([\"A\",\"A\",\"A\",\"B\",\"B\",\"B\"], 2)) #8\n",
    "print(sol.leastInterval([\"A\",\"A\",\"A\",\"B\",\"B\",\"B\"], 0)) #6\n",
    "print(sol.leastInterval([\"A\",\"A\",\"A\",\"A\",\"A\",\"A\",\"B\",\"C\",\"D\",\"E\",\"F\",\"G\"], 2)) #16"
   ]
  },
  {
   "attachments": {},
   "cell_type": "markdown",
   "metadata": {},
   "source": [
    "##### 355.Design Twitter"
   ]
  },
  {
   "cell_type": "code",
   "execution_count": 18,
   "metadata": {},
   "outputs": [
    {
     "name": "stdout",
     "output_type": "stream",
     "text": [
      "[5]\n",
      "[6, 5]\n",
      "[5]\n"
     ]
    },
    {
     "data": {
      "text/plain": [
       "[333, 505, 94, 2, 10, 13, 101, 3, 5]"
      ]
     },
     "execution_count": 18,
     "metadata": {},
     "output_type": "execute_result"
    }
   ],
   "source": [
    "class Twitter:\n",
    "    # twwet ID can't be considered as time\n",
    "    def __init__(self):\n",
    "        self.time = 0\n",
    "        self.tweetMap = defaultdict(list)\n",
    "        self.followMap = defaultdict(set)\n",
    "\n",
    "    def postTweet(self, userId: int, tweetId: int) -> None:\n",
    "        self.tweetMap[userId].append([self.time, tweetId])\n",
    "        self.time -= 1\n",
    "\n",
    "    def getNewsFeed(self, userId: int) -> List[int]:\n",
    "        res = []\n",
    "        minHeap = []\n",
    "\n",
    "        self.followMap[userId].add(userId)\n",
    "        for followeeId in self.followMap[userId]:\n",
    "            if followeeId in self.tweetMap: # adding at least one tweet from each user\n",
    "                index = len(self.tweetMap[followeeId]) - 1\n",
    "                time, tweetId = self.tweetMap[followeeId][index]\n",
    "                heapq.heappush(minHeap, [time, tweetId, followeeId, index - 1]) # next tweet from same user\n",
    "\n",
    "        while minHeap and len(res) < 10:\n",
    "            time, tweetId, followeeId, index = heapq.heappop(minHeap)\n",
    "            res.append(tweetId)\n",
    "            if index >= 0: # if there is a next tweet\n",
    "                time, tweetId = self.tweetMap[followeeId][index]\n",
    "                heapq.heappush(minHeap, [time, tweetId, followeeId, index - 1])\n",
    "        \n",
    "        return res\n",
    "\n",
    "    def follow(self, followerId: int, followeeId: int) -> None:\n",
    "        self.followMap[followerId].add(followeeId)\n",
    "\n",
    "    def unfollow(self, followerId: int, followeeId: int) -> None:\n",
    "        if followeeId in self.followMap[followerId]:\n",
    "            self.followMap[followerId].remove(followeeId)\n",
    "\n",
    "\n",
    "# Your Twitter object will be instantiated and called as such:\n",
    "twitter = Twitter()\n",
    "twitter.postTweet(1, 5) # User 1 posts a new tweet (id = 5).\n",
    "print(twitter.getNewsFeed(1))  # User 1's news feed should return a list with 1 tweet id -> [5]. return [5]\n",
    "twitter.follow(1, 2)    # User 1 follows user 2.\n",
    "twitter.postTweet(2, 6) # User 2 posts a new tweet (id = 6).\n",
    "print(twitter.getNewsFeed(1))  # User 1's news feed should return a list with 2 tweet ids -> [6, 5]. Tweet id 6 should precede tweet id 5 because it is posted after tweet id 5.\n",
    "twitter.unfollow(1, 2)  # User 1 unfollows user 2.\n",
    "print(twitter.getNewsFeed(1))  # User 1's news feed should return a list with 1 tweet id -> [5], since user 1 is no longer following user 2.\n",
    "\n",
    "\n",
    "twitter2 = Twitter()\n",
    "twitter2.postTweet(1,5)\n",
    "twitter2.postTweet(1,3)\n",
    "twitter2.postTweet(1,101)\n",
    "twitter2.postTweet(1,13)\n",
    "twitter2.postTweet(1,10)\n",
    "twitter2.postTweet(1,2)\n",
    "twitter2.postTweet(1,94)\n",
    "twitter2.postTweet(1,505)\n",
    "twitter2.postTweet(1,333)\n",
    "twitter2.getNewsFeed(1)\n"
   ]
  },
  {
   "attachments": {},
   "cell_type": "markdown",
   "metadata": {},
   "source": [
    "##### 649.Dota2 Senate"
   ]
  },
  {
   "cell_type": "code",
   "execution_count": 29,
   "metadata": {},
   "outputs": [
    {
     "name": "stdout",
     "output_type": "stream",
     "text": [
      "Radiant\n",
      "Dire\n",
      "Dire\n"
     ]
    }
   ],
   "source": [
    "class Solution:\n",
    "    def predictPartyVictory1(self, senate: str) -> str:\n",
    "        ban = ''\n",
    "        votes = {'R': 0, 'D': 0}\n",
    "        other = {'R': 'D', 'D': 'R'}\n",
    "\n",
    "        for v in senate:\n",
    "            if not ban:\n",
    "                votes[v] += 1\n",
    "                # votes[other[v]] -= 1\n",
    "                ban = other[v]\n",
    "            else:\n",
    "                if v == ban: # if current is banned\n",
    "                    ban = ''\n",
    "                else:\n",
    "                    votes[v] += 1\n",
    "        \n",
    "        return \"Radiant\" if max(votes.items(), key = operator.itemgetter(1))[0] == 'R' else \"Dire\"\n",
    "    \n",
    "    def predictPartyVictory(self, senate: str) -> str:\n",
    "        r_cnt = senate.count('R')\n",
    "        d_cnt = len(senate) - r_cnt\n",
    "        d_ban, r_ban = 0, 0\n",
    "\n",
    "        dq = collections.deque(senate)\n",
    "\n",
    "        while r_cnt and d_cnt:\n",
    "            curr = dq.popleft()\n",
    "\n",
    "            # Eligible will ban the other and go to next round\n",
    "            # banned will decrement ban count and eligible members from same team.\n",
    "            if curr == 'R':\n",
    "                if r_ban:\n",
    "                    r_ban -= 1\n",
    "                    r_cnt -= 1\n",
    "                else:\n",
    "                    d_ban += 1\n",
    "                    dq.append('R')\n",
    "            else:\n",
    "                if d_ban:\n",
    "                    d_ban -= 1\n",
    "                    d_cnt -= 1\n",
    "                else:\n",
    "                    r_ban += 1\n",
    "                    dq.append('D')\n",
    "\n",
    "        return 'Radiant' if r_cnt else 'Dire'\n",
    "\n",
    "sol = Solution()\n",
    "print(sol.predictPartyVictory(\"RD\")) #\"Radiant\"\n",
    "print(sol.predictPartyVictory(\"RDD\")) #\"Dire\"\n",
    "print(sol.predictPartyVictory(\"DDRRR\")) #\"Dire\""
   ]
  },
  {
   "attachments": {},
   "cell_type": "markdown",
   "metadata": {},
   "source": [
    "##### 2336.Smallest Number in Infinite Set"
   ]
  },
  {
   "cell_type": "code",
   "execution_count": 66,
   "metadata": {},
   "outputs": [
    {
     "name": "stdout",
     "output_type": "stream",
     "text": [
      "1\n",
      "2\n",
      "3\n",
      "1\n",
      "4\n",
      "5\n"
     ]
    }
   ],
   "source": [
    "import heapq\n",
    "class SmallestInfiniteSet:\n",
    "\n",
    "    def __init__(self):\n",
    "        self.cur = 1\n",
    "        self.s = set()\n",
    "\n",
    "    def popSmallest(self) -> int:\n",
    "        if self.s:\n",
    "            res = min(self.s)\n",
    "            self.s.remove(res)\n",
    "            return res\n",
    "        else:\n",
    "            self.cur += 1\n",
    "            return self.cur - 1\n",
    "\n",
    "    def addBack(self, num: int) -> None:\n",
    "        if self.cur > num:\n",
    "            self.s.add(num) \n",
    "\n",
    "\n",
    "# Your SmallestInfiniteSet object will be instantiated and called as such:\n",
    "smallestInfiniteSet = SmallestInfiniteSet()\n",
    "smallestInfiniteSet.addBack(2)    # 2 is already in the set, so no change is made.\n",
    "print(smallestInfiniteSet.popSmallest()) # return 1, since 1 is the smallest number, and remove it from the set.\n",
    "print(smallestInfiniteSet.popSmallest()) # return 2, and remove it from the set.\n",
    "print(smallestInfiniteSet.popSmallest()) # return 3, and remove it from the set.\n",
    "smallestInfiniteSet.addBack(1)    # 1 is added back to the set.\n",
    "print(smallestInfiniteSet.popSmallest()) # return 1, since 1 was added back to the set and\n",
    "                                   # is the smallest number, and remove it from the set.\n",
    "print(smallestInfiniteSet.popSmallest()) # return 4, and remove it from the set.\n",
    "print(smallestInfiniteSet.popSmallest()) # return 5, and remove it from the set."
   ]
  },
  {
   "attachments": {},
   "cell_type": "markdown",
   "metadata": {},
   "source": [
    "##### 2542.Maximum Subsequence Score"
   ]
  },
  {
   "cell_type": "code",
   "execution_count": null,
   "metadata": {},
   "outputs": [],
   "source": [
    "class Solution:\n",
    "    def maxScore(self, nums1: List[int], nums2: List[int], k: int) -> int:\n",
    "        pass\n",
    "\n",
    "sol = Solution()\n",
    "print(sol.maxScore([1,3,3,2], [2,1,3,4], 3))\n",
    "print(sol.maxScore([4,2,3,1,1], [7,5,10,9,6], 1))"
   ]
  },
  {
   "cell_type": "markdown",
   "metadata": {},
   "source": [
    "##### 1845.Seat Reservation Manager"
   ]
  },
  {
   "cell_type": "code",
   "execution_count": 9,
   "metadata": {},
   "outputs": [
    {
     "name": "stdout",
     "output_type": "stream",
     "text": [
      "1\n",
      "2\n",
      "2\n",
      "3\n",
      "4\n",
      "5\n"
     ]
    }
   ],
   "source": [
    "import heapq\n",
    "class SeatManager:\n",
    "\n",
    "    def __init__(self, n: int):\n",
    "        self.hp = [num for num in range(1, n + 1)]\n",
    "        # heapq.heapify(self.hp)\n",
    "\n",
    "    def reserve(self) -> int:\n",
    "        return heapq.heappop(self.hp)\n",
    "        \n",
    "\n",
    "    def unreserve(self, seatNumber: int) -> None:\n",
    "        heapq.heappush(self.hp, seatNumber)\n",
    "\n",
    "seatManager = SeatManager(5) # Initializes a SeatManager with 5 seats.\n",
    "print(seatManager.reserve())    # All seats are available, so return the lowest numbered seat, which is 1.\n",
    "print(seatManager.reserve())    # The available seats are [2,3,4,5], so return the lowest of them, which is 2.\n",
    "seatManager.unreserve(2) # Unreserve seat 2, so now the available seats are [2,3,4,5].\n",
    "print(seatManager.reserve())    # The available seats are [2,3,4,5], so return the lowest of them, which is 2.\n",
    "print(seatManager.reserve())    # The available seats are [3,4,5], so return the lowest of them, which is 3.\n",
    "print(seatManager.reserve())    # The available seats are [4,5], so return the lowest of them, which is 4.\n",
    "print(seatManager.reserve())    # The only available seat is seat 5, so return 5.\n",
    "seatManager.unreserve(5) # Unreserve seat 5, so now the available seats are [5]."
   ]
  },
  {
   "cell_type": "markdown",
   "metadata": {},
   "source": [
    "##### 2353.Design a Food Rating System"
   ]
  },
  {
   "cell_type": "code",
   "execution_count": 3,
   "metadata": {},
   "outputs": [
    {
     "name": "stdout",
     "output_type": "stream",
     "text": [
      "sushi\n"
     ]
    }
   ],
   "source": [
    "import heapq\n",
    "class FoodRatings:\n",
    "\n",
    "    def __init__(self, foods: List[str], cuisines: List[str], ratings: List[int]):\n",
    "        self.food_rating_dict = defaultdict(int)\n",
    "        self.food_cuisine_dict = {}\n",
    "        self.cuisine_rating_dict = defaultdict(list)\n",
    "\n",
    "        n = len(cuisines)\n",
    "        for i in range(n):\n",
    "            self.food_rating_dict[foods[i]] = ratings[i]\n",
    "\n",
    "            self.food_cuisine_dict[foods[i]] = cuisines[i]\n",
    "\n",
    "            heapq.heappush(self.cuisine_rating_dict[cuisines[i]], (-ratings[i], foods[i]))\n",
    "\n",
    "    def changeRating(self, food: str, newRating: int) -> None:\n",
    "        self.food_rating_dict[food] = newRating\n",
    "\n",
    "        cuisine = self.food_cuisine_dict[food]\n",
    "\n",
    "        heapq.heappush(self.cuisine_rating_dict[cuisine], (-newRating, food))\n",
    "\n",
    "    def highestRated(self, cuisine: str) -> str:\n",
    "        heap = self.cuisine_rating_dict[cuisine]\n",
    "\n",
    "        while heap:\n",
    "            rating = -heap[0][0]\n",
    "            food = heap[0][1]\n",
    "\n",
    "            if self.food_rating_dict[food] != rating:\n",
    "                heapq.heappop(heap)\n",
    "                continue\n",
    "            \n",
    "            return food\n",
    "        \n",
    "\n",
    "obj = FoodRatings([\"kimchi\", \"miso\", \"sushi\", \"moussaka\", \"ramen\", \"bulgogi\"], \n",
    "                  [\"korean\", \"japanese\", \"japanese\", \"greek\", \"japanese\", \"korean\"], [9, 12, 8, 15, 14, 7])\n",
    "obj.changeRating(\"sushi\",16)\n",
    "param_2 = obj.highestRated(\"japanese\")\n",
    "print(param_2)"
   ]
  },
  {
   "attachments": {},
   "cell_type": "markdown",
   "metadata": {},
   "source": [
    "#### Hard"
   ]
  },
  {
   "attachments": {},
   "cell_type": "markdown",
   "metadata": {},
   "source": [
    "##### 295.Find Median from Data Stream"
   ]
  },
  {
   "cell_type": "code",
   "execution_count": 85,
   "metadata": {},
   "outputs": [
    {
     "name": "stdout",
     "output_type": "stream",
     "text": [
      "1.5\n",
      "2\n",
      "2.5\n"
     ]
    }
   ],
   "source": [
    "import heapq\n",
    "\n",
    "class MedianFinder:\n",
    "    def __init__(self):\n",
    "        #small and large\n",
    "        self.maxHeap, self.minHeap = [], []  \n",
    "\n",
    "    def addNum(self, num: int) -> None:\n",
    "        heapq.heappush(self.maxHeap, -1 * num)\n",
    "\n",
    "        if self.maxHeap and self.minHeap and (-1 * self.maxHeap[0]) > self.minHeap[0]:\n",
    "            val = -1 * heapq.heappop(self.maxHeap)\n",
    "            heapq.heappush(self.minHeap, val)\n",
    "\n",
    "        if len(self.maxHeap) > len(self.minHeap) + 1:\n",
    "            val = -1 * heapq.heappop(self.maxHeap)\n",
    "            heapq.heappush(self.minHeap, val)\n",
    "        if len(self.minHeap) > len(self.maxHeap) + 1:\n",
    "            val = heapq.heappop(self.minHeap)\n",
    "            heapq.heappush(self.maxHeap, -1 * val)\n",
    "\n",
    "    def findMedian(self) -> float:\n",
    "        if len(self.maxHeap) > len(self.minHeap):\n",
    "            return -1 * self.maxHeap[0]\n",
    "        elif len(self.minHeap) > len(self.maxHeap):\n",
    "            return self.minHeap[0]\n",
    "        return (-1 * self.maxHeap[0] + self.minHeap[0]) / 2\n",
    "\n",
    "\n",
    "# Your MedianFinder object will be instantiated and called as such:\n",
    "medianFinder = MedianFinder()\n",
    "medianFinder.addNum(1)    # arr = [1]\n",
    "medianFinder.addNum(2)    # arr = [1, 2]\n",
    "print(medianFinder.findMedian()) # return 1.5 (i.e., (1 + 2) / 2)\n",
    "medianFinder.addNum(3)    # arr[1, 2, 3]\n",
    "print(medianFinder.findMedian()) # return 2.0\n",
    "medianFinder.addNum(4)    # arr[1, 2, 3, 4]\n",
    "print(medianFinder.findMedian()) # return 2.5"
   ]
  },
  {
   "attachments": {},
   "cell_type": "markdown",
   "metadata": {},
   "source": [
    "##### 4.Median of Two Sorted Arrays"
   ]
  },
  {
   "cell_type": "code",
   "execution_count": 17,
   "metadata": {},
   "outputs": [
    {
     "name": "stdout",
     "output_type": "stream",
     "text": [
      "2\n",
      "2.5\n",
      "2.5\n"
     ]
    }
   ],
   "source": [
    "import heapq\n",
    "\n",
    "class Solution:\n",
    "    def findMedianSortedArrays1(self, nums1: List[int], nums2: List[int]) -> float:\n",
    "        max_heap, min_heap = [], []\n",
    "\n",
    "        def addNum(num: int):\n",
    "            nonlocal max_heap, min_heap\n",
    "            heapq.heappush(max_heap, -1*num)\n",
    "\n",
    "            if max_heap and min_heap and (-1 * max_heap[0]) > min_heap[0]:\n",
    "                val = -1 * heapq.heappop(max_heap)\n",
    "                heapq.heappush(min_heap, val)\n",
    "\n",
    "            if len(max_heap) > len(min_heap) + 1:\n",
    "                val = -1 * heapq.heappop(max_heap)\n",
    "                heapq.heappush(min_heap, val)\n",
    "\n",
    "            if len(min_heap) > len(max_heap) + 1:\n",
    "                val = heapq.heappop(min_heap)\n",
    "                heapq.heappush(max_heap, -1 * val)\n",
    "\n",
    "        def findMedian():\n",
    "            nonlocal max_heap, min_heap\n",
    "            max_heap_len, min_heap_len = len(max_heap), len(min_heap)\n",
    "            if max_heap_len > min_heap_len:\n",
    "                return -1 * max_heap[0]\n",
    "            \n",
    "            if max_heap_len < min_heap_len:\n",
    "                return min_heap[0]\n",
    "\n",
    "            return (-1 * max_heap[0] + min_heap[0])/2\n",
    "\n",
    "        for i in nums1: addNum(i)\n",
    "        for i in nums2: addNum(i)\n",
    "\n",
    "        return findMedian()\n",
    "\n",
    "    def findMedianSortedArrays(self, nums1: List[int], nums2: List[int]) -> float:\n",
    "        len_1 = len(nums1)\n",
    "        len_2 = len(nums2)\n",
    "\n",
    "        if ((len_1 > len_2) \n",
    "            or ((len_1 == len_2) and (nums1[-1] >= nums2[0]))): \n",
    "            return self.findMedianSortedArrays(nums2, nums1)\n",
    "\n",
    "        start = 0 \n",
    "        end = len_1\n",
    "\n",
    "        while True:\n",
    "            part_n1 = (start + end) // 2\n",
    "            part_n2 = (len_1 + len_2 + 1) // 2 - part_n1\n",
    "            \n",
    "            max_left_n1 = float('-inf') if part_n1 == 0 else nums1[part_n1 - 1]\n",
    "            min_right_n1 = float('inf') if part_n1 == len_1 else nums1[part_n1]\n",
    "\n",
    "            max_left_n2 = float('-inf') if part_n2 == 0 else nums2[part_n2 - 1]\n",
    "            min_right_n2 = float('inf') if part_n2 == len_2 else nums2[part_n2]\n",
    "\n",
    "\n",
    "            if ((max_left_n1 <= min_right_n2) \n",
    "                and (max_left_n2 <= min_right_n1)):\n",
    "                if (len_1 + len_2) % 2 == 1:\n",
    "                    return max(max_left_n1, max_left_n2)\n",
    "                else:\n",
    "                    return (max(max_left_n1, max_left_n2) + min(min_right_n1, min_right_n2)) / 2\n",
    "            elif max_left_n1 > min_right_n2:\n",
    "                start = part_n1 - 1\n",
    "            else:\n",
    "                start = part_n1 + 1\n",
    "\n",
    "    def findMedianSortedArrays(self, nums1: List[int], nums2: List[int]) -> float:\n",
    "        N1 = len(nums1)\n",
    "        N2 = len(nums2)\n",
    "        if (N1 < N2): return self.findMedianSortedArrays(nums2, nums1)\t# Make sure A2 is the shorter one.\n",
    "        \n",
    "        MIN, MAX = float('-inf'), float('inf')\n",
    "        lo, hi = 0, N2 * 2\n",
    "        while (lo <= hi) :\n",
    "            mid2 = (lo + hi) // 2   # Try Cut 2 \n",
    "            mid1 = N1 + N2 - mid2  # Calculate Cut 1 accordingly\n",
    "            \n",
    "            L1 = MIN if (mid1 == 0) else nums1[(mid1-1)//2]\t# Get L1, R1, L2, R2 respectively\n",
    "            L2 = MIN if (mid2 == 0) else nums2[(mid2-1)//2]\n",
    "            R1 = MAX if (mid1 == N1 * 2) else nums1[(mid1)//2]\n",
    "            R2 = MAX if (mid2 == N2 * 2) else nums2[(mid2)//2]\n",
    "            \n",
    "            if (L1 > R2): lo = mid2 + 1\t\t# A1's lower half is too big; need to move C1 left (C2 right)\n",
    "            elif (L2 > R1): hi = mid2 - 1\t# A2's lower half too big; need to move C2 left.\n",
    "            else: return (max(L1,L2) + min(R1, R2)) / 2\t# Otherwise, that's the right cut.\n",
    "        \n",
    "        return -1\n",
    "\n",
    "\n",
    "sol = Solution()\n",
    "print(sol.findMedianSortedArrays([1,3], [2])) #2\n",
    "print(sol.findMedianSortedArrays([1,2], [3, 4])) #2.5\n",
    "print(sol.findMedianSortedArrays([3, 4], [1, 2])) #2.5"
   ]
  },
  {
   "cell_type": "markdown",
   "metadata": {},
   "source": [
    "##### 358.Rearrange String K distance apart"
   ]
  },
  {
   "cell_type": "code",
   "execution_count": null,
   "metadata": {},
   "outputs": [
    {
     "name": "stdout",
     "output_type": "stream",
     "text": [
      "abcabc\n",
      "\n",
      "abacabcd\n",
      "a\n",
      "bab\n",
      "abaca\n",
      "\n",
      "abcdabceabcf\n"
     ]
    }
   ],
   "source": [
    "import math , heapq\n",
    "\n",
    "class Solution:\n",
    "    # 63/64\n",
    "    def rearrangeString_old(self, s: str, k: int) -> str:\n",
    "        if k < 2: return s\n",
    "        \n",
    "        count_map = Counter(s)\n",
    "\n",
    "        if max(count_map.items(), key=operator.itemgetter(1))[1] > math.ceil(len(s)/k) or k > len(count_map):\n",
    "            return ''\n",
    "\n",
    "        res = ''\n",
    "        while len(count_map) > 0:\n",
    "            rem, subStr = k, ''\n",
    "            \n",
    "            count_map = dict(sorted(count_map.items(), key = lambda item:item[1], reverse=True))\n",
    "            unq_str = ''.join(count_map.keys())\n",
    "\n",
    "            char_idx = 0    \n",
    "            while rem:\n",
    "                if unq_str[char_idx] in count_map:\n",
    "                    subStr += unq_str[char_idx]\n",
    "                    count_map[unq_str[char_idx]] -= 1\n",
    "                    if count_map[unq_str[char_idx]] == 0:\n",
    "                        del count_map[unq_str[char_idx]]\n",
    "                    \n",
    "                    rem -= 1\n",
    "\n",
    "                char_idx = (char_idx + 1) % len(unq_str)\n",
    "\n",
    "                if len(count_map) == 0: break\n",
    "            \n",
    "            res += subStr\n",
    "                \n",
    "        return res\n",
    "    \n",
    "    def rearrangeString(self, s: str, k: int) -> str:\n",
    "        if k < 2: return s\n",
    "\n",
    "        h = [(-v, k) for k, v in Counter(s).items()]\n",
    "        heapq.heapify(h)\n",
    "        \n",
    "        dq = collections.deque()\n",
    "        res = []\n",
    "        \n",
    "        while h:\n",
    "            cnt, ch = heapq.heappop(h)\n",
    "            cnt *= -1\n",
    "            res.append(ch)\n",
    "            dq.append((cnt - 1, ch))\n",
    "\n",
    "            # avoid same character rotation within k\n",
    "            if len(dq) >= k: \n",
    "                cnt_, ch_ = dq.popleft()\n",
    "                if cnt_:\n",
    "                    heapq.heappush(h, (-cnt_, ch_))\n",
    "                    \n",
    "        return \"\" if len(res) != len(s) else \"\".join(res)\n",
    "    \n",
    "\n",
    "sol = Solution()\n",
    "print(sol.rearrangeString(\"aabbcc\", 3)) #\"abcabc\"\n",
    "print(sol.rearrangeString(\"aaabc\", 3)) #\"\"\n",
    "print(sol.rearrangeString(\"aaadbbcc\", 2)) #\"abacabcd\"\n",
    "print(sol.rearrangeString(\"a\", 0)) #\"a\"\n",
    "print(sol.rearrangeString(\"abb\", 2)) #\"bab\"\n",
    "print(sol.rearrangeString(\"aaabc\", 2)) #\"abaca\"\n",
    "print(sol.rearrangeString(\"abcabcabcd\", 4)) #\"\"\n",
    "print(sol.rearrangeString(\"abcabcabcdef\", 4)) #\"\""
   ]
  },
  {
   "attachments": {},
   "cell_type": "markdown",
   "metadata": {},
   "source": [
    "### Backtracking"
   ]
  },
  {
   "attachments": {},
   "cell_type": "markdown",
   "metadata": {},
   "source": [
    "#### Medium"
   ]
  },
  {
   "attachments": {},
   "cell_type": "markdown",
   "metadata": {},
   "source": [
    "##### 39.Combination Sum"
   ]
  },
  {
   "cell_type": "code",
   "execution_count": 6,
   "metadata": {},
   "outputs": [
    {
     "name": "stdout",
     "output_type": "stream",
     "text": [
      "[[2, 2, 3], [7]]\n",
      "[[2, 2, 2, 2], [2, 3, 3], [3, 5]]\n",
      "[]\n"
     ]
    }
   ],
   "source": [
    "class Solution:\n",
    "    def combinationSum(self, candidates: List[int], target: int) -> List[List[int]]:\n",
    "        # Time complexity will be O(2^target); since at each step we have 2 decisions and the height of the tree can go upto atmost target value\n",
    "        res = []\n",
    "\n",
    "        def dfs(i, curr, tot):\n",
    "            if tot == target:\n",
    "                res.append(curr.copy())\n",
    "                return\n",
    "            \n",
    "            if i >= len(candidates) or tot > target:\n",
    "                return\n",
    "            \n",
    "            # case 1: Include the same number\n",
    "            curr.append(candidates[i])\n",
    "            dfs(i, curr, tot + candidates[i])\n",
    "            \n",
    "            # case 2: Do not include the number again\n",
    "            curr.pop()\n",
    "            dfs(i + 1, curr, tot)\n",
    "\n",
    "        dfs(0, [], 0)\n",
    "        return res\n",
    "\n",
    "sol = Solution()\n",
    "print(sol.combinationSum([2,3,6,7], 7))\n",
    "print(sol.combinationSum([2,3,5], 8))\n",
    "print(sol.combinationSum([2], 1))"
   ]
  },
  {
   "attachments": {},
   "cell_type": "markdown",
   "metadata": {},
   "source": [
    "##### 79.Word Search"
   ]
  },
  {
   "cell_type": "code",
   "execution_count": null,
   "metadata": {},
   "outputs": [],
   "source": [
    "# Instead of passing the whole word, just pass the current index you are looking at; reduces space in the recursive calls\n",
    "class Solution:\n",
    "    def exist(self, board: List[List[str]], word: str) -> bool:\n",
    "        r_max = len(board)\n",
    "        c_max = len(board[0])\n",
    "        path = set()\n",
    "        def dfs(i, r, c):\n",
    "            nonlocal r_max, c_max\n",
    "\n",
    "            if i == len(word):\n",
    "                return True\n",
    "\n",
    "            if (r < 0 or c < 0 \n",
    "                or r >= r_max or c >= c_max\n",
    "                or word[i] != board[r][c]\n",
    "                or (r, c) not in path):\n",
    "                return False\n",
    "            \n",
    "            path.add((r, c))\n",
    "            res = (dfs(i + 1, r - 1, c) \n",
    "                or dfs(i + 1, r + 1, c) \n",
    "                or dfs(i + 1, r, c - 1) \n",
    "                or dfs(i + 1, r, c + 1))\n",
    "            path.remove((r, c))\n",
    "            return res\n",
    "        \n",
    "        for i in range(len(board)):\n",
    "            for j in range(len(board[0])):\n",
    "                if word[0] == board[i][j] and dfs(0, i, j):\n",
    "                    return True\n",
    "                \n",
    "        return False"
   ]
  },
  {
   "attachments": {},
   "cell_type": "markdown",
   "metadata": {},
   "source": [
    "##### 78.Subsets"
   ]
  },
  {
   "cell_type": "code",
   "execution_count": 21,
   "metadata": {},
   "outputs": [
    {
     "name": "stdout",
     "output_type": "stream",
     "text": [
      "[[1, 2, 3], [1, 2], [1, 3], [1], [2, 3], [2], [3], []]\n",
      "[[0], []]\n"
     ]
    }
   ],
   "source": [
    "class Solution:\n",
    "    def subsets(self, nums: List[int]) -> List[List[int]]:\n",
    "        res = []\n",
    "\n",
    "        sub = []\n",
    "        def dfs(i):\n",
    "            if i >= len(nums):\n",
    "                res.append(sub.copy())\n",
    "                return\n",
    "            \n",
    "            sub.append(nums[i])\n",
    "            dfs(i + 1)\n",
    "            sub.pop()\n",
    "            dfs(i + 1)\n",
    "        \n",
    "        dfs(0)\n",
    "        return res\n",
    "\n",
    "sol = Solution()\n",
    "print(sol.subsets([1,2,3])) #[[],[1],[2],[1,2],[3],[1,3],[2,3],[1,2,3]]\n",
    "print(sol.subsets([0])) #[[],[0]]"
   ]
  },
  {
   "attachments": {},
   "cell_type": "markdown",
   "metadata": {},
   "source": [
    "##### 46.Permutations"
   ]
  },
  {
   "cell_type": "code",
   "execution_count": 2,
   "metadata": {},
   "outputs": [
    {
     "name": "stdout",
     "output_type": "stream",
     "text": [
      "[[3, 2, 1], [2, 3, 1], [1, 3, 2], [3, 1, 2], [2, 1, 3], [1, 2, 3]]\n",
      "[[1, 0], [0, 1]]\n",
      "[[1]]\n"
     ]
    }
   ],
   "source": [
    "class Solution:\n",
    "    def permute(self, nums: List[int]) -> List[List[int]]:\n",
    "        res = []\n",
    "\n",
    "        if len(nums) == 1:\n",
    "            return [nums[:]]\n",
    "\n",
    "        for _ in range(len(nums)):\n",
    "            n = nums.pop(0)\n",
    "            perms = self.permute(nums)\n",
    "\n",
    "            for perm in perms:\n",
    "                perm.append(n)\n",
    "            res.extend(perms)\n",
    "            nums.append(n)\n",
    "        return res\n",
    "\n",
    "\n",
    "sol = Solution()\n",
    "print(sol.permute([1,2,3])) # [[1,2,3],[1,3,2],[2,1,3],[2,3,1],[3,1,2],[3,2,1]]\n",
    "print(sol.permute([0,1])) # [[0,1],[1,0]]\n",
    "print(sol.permute([1])) # [[1]]"
   ]
  },
  {
   "attachments": {},
   "cell_type": "markdown",
   "metadata": {},
   "source": [
    "##### 90.Subsets II"
   ]
  },
  {
   "cell_type": "code",
   "execution_count": 3,
   "metadata": {},
   "outputs": [
    {
     "name": "stdout",
     "output_type": "stream",
     "text": [
      "[[1, 2, 2], [1, 2], [1], [2, 2], [2], []]\n",
      "[[0], []]\n"
     ]
    }
   ],
   "source": [
    "class Solution:\n",
    "    def subsetsWithDup(self, nums: List[int]) -> List[List[int]]:\n",
    "        res = []\n",
    "\n",
    "        sub = []\n",
    "        nums.sort()\n",
    "        def dfs(i):\n",
    "            if i >= len(nums):\n",
    "                if sub not in res:\n",
    "                    res.append(sub.copy())\n",
    "                return\n",
    "            \n",
    "            sub.append(nums[i])\n",
    "            dfs(i + 1)\n",
    "            sub.pop()\n",
    "            dfs(i + 1)\n",
    "        \n",
    "        dfs(0)\n",
    "        return res\n",
    "\n",
    "    # avoiding duplicate calls\n",
    "    def subsetsWithDup(self, nums: List[int]) -> List[List[int]]:\n",
    "        res = []\n",
    "\n",
    "        sub = []\n",
    "        nums.sort()\n",
    "        def dfs(i):\n",
    "            if i >= len(nums):\n",
    "                res.append(sub.copy())\n",
    "                return\n",
    "            \n",
    "            sub.append(nums[i])\n",
    "            dfs(i + 1)\n",
    "            sub.pop()\n",
    "\n",
    "            while i + 1 < len(nums) and nums[i] == nums[i + 1]:\n",
    "                i += 1\n",
    "            dfs(i + 1)\n",
    "        \n",
    "        dfs(0)\n",
    "        return res\n",
    "\n",
    "sol = Solution()\n",
    "print(sol.subsetsWithDup([1,2,2])) # [[],[1],[1,2],[1,2,2],[2],[2,2]]\n",
    "print(sol.subsetsWithDup([0])) # [[], [0]]"
   ]
  },
  {
   "attachments": {},
   "cell_type": "markdown",
   "metadata": {},
   "source": [
    "##### 40.Combination Sum II"
   ]
  },
  {
   "cell_type": "code",
   "execution_count": 96,
   "metadata": {},
   "outputs": [
    {
     "name": "stdout",
     "output_type": "stream",
     "text": [
      "[[1, 1, 6], [1, 2, 5], [1, 7], [2, 6]]\n",
      "[[1, 2, 2], [5]]\n"
     ]
    }
   ],
   "source": [
    "class Solution:\n",
    "    # O(2^n)\n",
    "    def combinationSum2(self, candidates: List[int], target: int) -> List[List[int]]:\n",
    "        res = []\n",
    "\n",
    "        candidates.sort()\n",
    "        sub = []\n",
    "        def dfs(pos, currSum):\n",
    "            if currSum == target:\n",
    "                res.append(sub[:])\n",
    "            \n",
    "            if currSum >= target:\n",
    "                return\n",
    "            \n",
    "            prev = -1\n",
    "            for i in range(pos, len(candidates)):\n",
    "                if candidates[i] == prev:\n",
    "                    continue\n",
    "                sub.append(candidates[i])\n",
    "                dfs(i + 1, currSum + candidates[i])\n",
    "                sub.pop()\n",
    "                prev = candidates[i]\n",
    "\n",
    "        dfs(0, 0)\n",
    "        return res\n",
    "\n",
    "sol = Solution()\n",
    "print(sol.combinationSum2([10,1,2,7,6,1,5], 8)) # [[1,1,6],[1,2,5],[1,7],[2,6]]\n",
    "print(sol.combinationSum2([2,5,2,1,2], 5)) # [[1,2,2],[5]]"
   ]
  },
  {
   "attachments": {},
   "cell_type": "markdown",
   "metadata": {},
   "source": [
    "##### 131.Palindrome Partitioning"
   ]
  },
  {
   "cell_type": "code",
   "execution_count": 6,
   "metadata": {},
   "outputs": [
    {
     "name": "stdout",
     "output_type": "stream",
     "text": [
      "[['a', 'a', 'b'], ['aa', 'b']]\n",
      "[['a']]\n"
     ]
    }
   ],
   "source": [
    "class Solution:\n",
    "    def partition(self, s: str) -> List[List[str]]:\n",
    "        res = []\n",
    "\n",
    "        def isPalindrome(subStr):\n",
    "            l, r = 0, len(subStr) - 1\n",
    "            while l < r:\n",
    "                if subStr[l] != subStr[r]:\n",
    "                    return False\n",
    "                l += 1\n",
    "                r -= 1\n",
    "            return True\n",
    "            # return subStr == subStr[::-1]\n",
    "\n",
    "        sub = []\n",
    "        def dfs(i):\n",
    "            if i >= len(s):\n",
    "                res.append(sub[:])\n",
    "                return\n",
    "            for j in range(i, len(s)):\n",
    "                if isPalindrome(s[i : j + 1]):\n",
    "                    sub.append(s[i : j + 1])\n",
    "                    dfs(j + 1)\n",
    "                    sub.pop()\n",
    "\n",
    "        \n",
    "        dfs(0)\n",
    "        return res\n",
    "\n",
    "sol = Solution()\n",
    "print(sol.partition(\"aab\")) # [[\"a\",\"a\",\"b\"],[\"aa\",\"b\"]]\n",
    "print(sol.partition(\"a\")) # [[\"a\"]]"
   ]
  },
  {
   "attachments": {},
   "cell_type": "markdown",
   "metadata": {},
   "source": [
    "##### 17.Letter Combinations of a Phone Number"
   ]
  },
  {
   "cell_type": "code",
   "execution_count": 99,
   "metadata": {},
   "outputs": [
    {
     "name": "stdout",
     "output_type": "stream",
     "text": [
      "['ad', 'ae', 'af', 'bd', 'be', 'bf', 'cd', 'ce', 'cf']\n",
      "[]\n",
      "['a', 'b', 'c']\n"
     ]
    }
   ],
   "source": [
    "import itertools\n",
    "\n",
    "class Solution:\n",
    "    def letterCombinations1(self, digits: str) -> List[str]:\n",
    "        if not digits: return []\n",
    "\n",
    "        char_map = {\n",
    "            \"2\": \"abc\",\n",
    "            \"3\": \"def\",\n",
    "            \"4\": \"ghi\",\n",
    "            \"5\": \"jkl\",\n",
    "            \"6\": \"mno\",\n",
    "            \"7\": \"qprs\",\n",
    "            \"8\": \"tuv\",\n",
    "            \"9\": \"wxyz\",\n",
    "        }\n",
    "\n",
    "        res = []\n",
    "        sub = []\n",
    "        def dfs(pos):\n",
    "            if pos >= len(digits):\n",
    "                res.append(''.join(sub[:]))\n",
    "                return\n",
    "            num = digits[pos]\n",
    "            curr_chars = char_map[num]\n",
    "            for i in range(len(curr_chars)):\n",
    "                sub.append(curr_chars[i])\n",
    "                dfs(pos + 1)\n",
    "                sub.pop()\n",
    "\n",
    "        dfs(0)\n",
    "        return res\n",
    "\n",
    "\n",
    "\n",
    "    def letterCombinations(self, digits: str) -> List[str]:\n",
    "        values = {\n",
    "            \"2\": [\"a\", \"b\", \"c\"],\n",
    "            \"3\": [\"d\", \"e\", \"f\"],\n",
    "            \"4\": [\"g\", \"h\", \"i\"],\n",
    "            \"5\": [\"j\", \"k\", \"l\"],\n",
    "            \"6\": [\"m\", \"n\", \"o\"],\n",
    "            \"7\": [\"p\", \"q\", \"r\", \"s\"],\n",
    "            \"8\": [\"t\", \"u\", \"v\"],\n",
    "            \"9\": [\"w\", \"x\", \"y\", \"z\"]\n",
    "        }\n",
    "        chars = []\n",
    "        if digits == \"\":\n",
    "            return chars\n",
    "        for num in digits:\n",
    "            chars.append(values.get(num))\n",
    "\n",
    "        return list(''.join(x) for x in list(itertools.product(*chars)))\n",
    "\n",
    "\n",
    "sol = Solution()\n",
    "print(sol.letterCombinations1(\"23\")) #[\"ad\",\"ae\",\"af\",\"bd\",\"be\",\"bf\",\"cd\",\"ce\",\"cf\"]\n",
    "print(sol.letterCombinations1(\"\")) #[]\n",
    "print(sol.letterCombinations1(\"2\")) #[\"a\",\"b\",\"c\"]"
   ]
  },
  {
   "cell_type": "markdown",
   "metadata": {},
   "source": [
    "##### 377.Combination Sum IV\n"
   ]
  },
  {
   "cell_type": "code",
   "execution_count": 16,
   "metadata": {},
   "outputs": [
    {
     "name": "stdout",
     "output_type": "stream",
     "text": [
      "7\n",
      "0\n",
      "39882198\n"
     ]
    }
   ],
   "source": [
    "class Solution:\n",
    "    # recursive Memo Top down\n",
    "    def combinationSum4_old(self, nums: List[int], target: int) -> int:\n",
    "        nums.sort()\n",
    "        memo_dict = {0: 1}\n",
    "\n",
    "        def helper(num):\n",
    "            if num in memo_dict:\n",
    "                return memo_dict[num]\n",
    "            \n",
    "            if num < nums[0]:\n",
    "                return 0\n",
    "            \n",
    "            count = 0\n",
    "            for i in nums:\n",
    "                if num - i < 0:\n",
    "                    break \n",
    "                count += helper(num - i)\n",
    "                \n",
    "            memo_dict[num] = count\n",
    "            return count\n",
    "        \n",
    "        return helper(target)\n",
    "\n",
    "    #dp Bottom up\n",
    "    def combinationSum4(self, nums: List[int], target: int) -> int:\n",
    "        dp = [0] * (target + 1)\n",
    "        dp[0] = 1\n",
    "        \n",
    "        for num in range(1, target + 1):\n",
    "            for i in nums:\n",
    "                if num - i >= 0:\n",
    "                    dp[num] += dp[num - i]\n",
    "                    \n",
    "        return dp[target]\n",
    "\n",
    "sol = Solution()\n",
    "print(sol.combinationSum4([1,2,3], 4)) #7\n",
    "print(sol.combinationSum4([9], 3)) #0\n",
    "print(sol.combinationSum4([4,2,1], 32)) #39882198"
   ]
  },
  {
   "cell_type": "markdown",
   "metadata": {},
   "source": [
    "##### 2787.Ways to Express an Integer as Sum of Powers\n"
   ]
  },
  {
   "cell_type": "code",
   "execution_count": 18,
   "metadata": {},
   "outputs": [
    {
     "name": "stdout",
     "output_type": "stream",
     "text": [
      "1\n",
      "2\n"
     ]
    }
   ],
   "source": [
    "class Solution:\n",
    "    def numberOfWays(self, n: int, x: int) -> int:\n",
    "        dp = [0] * (n+1)\n",
    "        dp[0] = 1\n",
    "        mod_val = 10 ** 9 + 7\n",
    "        \n",
    "        for num in range(1, n+1):\n",
    "            pow = num**x\n",
    "            for i in range(n, 0, -1):\n",
    "                if i - pow >= 0:\n",
    "                    dp[i] = (dp[i] + dp[i-pow]) % mod_val\n",
    "        \n",
    "        return dp[n] % mod_val\n",
    "\n",
    "sol = Solution()\n",
    "print(sol.numberOfWays(10, 2)) #1\n",
    "print(sol.numberOfWays(4, 1)) #2"
   ]
  },
  {
   "cell_type": "markdown",
   "metadata": {},
   "source": [
    "##### 1849.Splitting a String Into Descending Consecutive Values"
   ]
  },
  {
   "cell_type": "code",
   "execution_count": 59,
   "metadata": {},
   "outputs": [
    {
     "name": "stdout",
     "output_type": "stream",
     "text": [
      "False\n",
      "True\n",
      "False\n"
     ]
    }
   ],
   "source": [
    "class Solution:\n",
    "    def splitString(self, s: str) -> bool:\n",
    "        \n",
    "        def dfs(idx, prev_val):\n",
    "            if idx == len(s):\n",
    "                return True\n",
    "\n",
    "            for i in range(idx, len(s)):\n",
    "                curr_val = int(s[idx: i + 1])\n",
    "                if curr_val == prev_val - 1 and dfs(i + 1 ,curr_val):\n",
    "                    return True\n",
    "            \n",
    "            return False\n",
    "\n",
    "        for i in range(len(s) - 1):\n",
    "            curr_val = int(s[:i + 1])\n",
    "            if dfs(i + 1, curr_val):\n",
    "                return True\n",
    "\n",
    "        return False\n",
    "    \n",
    "sol = Solution()\n",
    "print(sol.splitString(\"1234\")) #False\n",
    "print(sol.splitString(\"050043\")) #True\n",
    "print(sol.splitString(\"9080701\")) #False"
   ]
  },
  {
   "cell_type": "markdown",
   "metadata": {},
   "source": [
    "##### 1980.Find Unique Binary String"
   ]
  },
  {
   "cell_type": "code",
   "execution_count": 3,
   "metadata": {},
   "outputs": [
    {
     "name": "stdout",
     "output_type": "stream",
     "text": [
      "['00']\n",
      "['10']\n",
      "['000']\n"
     ]
    }
   ],
   "source": [
    "class Solution:\n",
    "    def findDifferentBinaryString(self, nums: List[str]) -> str:\n",
    "        str_map = { s for s in nums} #hashset\n",
    "        res = []\n",
    "        def dfs(idx, curr_str):\n",
    "            if not res: \n",
    "                if idx == len(nums[0]):\n",
    "                    val = ''.join(curr_str)\n",
    "                    if val not in str_map:\n",
    "                        res.append(val)\n",
    "                    return \n",
    "                \n",
    "                for ch in ['0', '1']:\n",
    "                    curr_str.append(ch)\n",
    "                    dfs(idx + 1, curr_str)\n",
    "                    curr_str.pop()\n",
    "        \n",
    "        dfs(0, [])\n",
    "        return res\n",
    "    \n",
    "\n",
    "sol = Solution()\n",
    "print(sol.findDifferentBinaryString([\"01\",\"10\"])) #00/11\n",
    "print(sol.findDifferentBinaryString([\"00\",\"01\"])) #10/11\n",
    "print(sol.findDifferentBinaryString([\"111\",\"011\",\"001\"])) #101/....."
   ]
  },
  {
   "cell_type": "markdown",
   "metadata": {},
   "source": [
    "##### 77.Combinations"
   ]
  },
  {
   "cell_type": "code",
   "execution_count": 3,
   "metadata": {},
   "outputs": [
    {
     "name": "stdout",
     "output_type": "stream",
     "text": [
      "[[1, 2], [1, 3], [1, 4], [2, 3], [2, 4], [3, 4]]\n",
      "[[1]]\n"
     ]
    }
   ],
   "source": [
    "class Solution:\n",
    "    def combine(self, n: int, k: int) -> List[List[int]]:\n",
    "        res = []\n",
    "\n",
    "        comb = []\n",
    "        def dfs(num):\n",
    "            if len(comb) == k:\n",
    "                res.append(comb[:])\n",
    "                return\n",
    "\n",
    "            if num == n + 1:\n",
    "                return \n",
    "\n",
    "            # include this num\n",
    "            comb.append(num)\n",
    "            dfs(num + 1)\n",
    "\n",
    "            # do not include this num\n",
    "            comb.pop()\n",
    "            dfs(num + 1)\n",
    "\n",
    "        \n",
    "        dfs(1)\n",
    "        return res\n",
    "    \n",
    "sol = Solution()\n",
    "print(sol.combine(4, 2)) # [[1,2],[1,3],[1,4],[2,3],[2,4],[3,4]]\n",
    "print(sol.combine(1, 1)) # [[1]]"
   ]
  },
  {
   "cell_type": "markdown",
   "metadata": {},
   "source": [
    "##### 1239.Maximum Length of a Concatenated String with Unique Characters"
   ]
  },
  {
   "cell_type": "code",
   "execution_count": 8,
   "metadata": {},
   "outputs": [
    {
     "name": "stdout",
     "output_type": "stream",
     "text": [
      "4\n",
      "6\n",
      "26\n",
      "0\n"
     ]
    }
   ],
   "source": [
    "class Solution:\n",
    "    def maxLength(self, arr: List[str]) -> int:\n",
    "        res = set()\n",
    "\n",
    "        def dfs(idx):\n",
    "            if idx == len(arr):\n",
    "                return len(res)\n",
    "            \n",
    "            overlap = False\n",
    "            curr_set = set()\n",
    "            for ch in arr[idx]:\n",
    "                if ch in res or ch in curr_set:\n",
    "                    overlap = True\n",
    "                    break\n",
    "                curr_set.add(ch)\n",
    "\n",
    "            max_len = 0\n",
    "            if not overlap: # include the number\n",
    "                for ch in arr[idx]:\n",
    "                    res.add(ch)\n",
    "\n",
    "                max_len = dfs(idx + 1)\n",
    "\n",
    "                for ch in arr[idx]:\n",
    "                    res.remove(ch)\n",
    "\n",
    "            return max(max_len, dfs(idx + 1))\n",
    "        \n",
    "        return dfs(0)\n",
    "sol = Solution()\n",
    "print(sol.maxLength([\"un\",\"iq\",\"ue\"])) #4\n",
    "print(sol.maxLength([\"cha\",\"r\",\"act\",\"ers\"])) #6\n",
    "print(sol.maxLength([\"abcdefghijklmnopqrstuvwxyz\"])) #26\n",
    "print(sol.maxLength([\"aa\",\"bb\"])) #0"
   ]
  },
  {
   "cell_type": "markdown",
   "metadata": {},
   "source": [
    "##### 698.Partition to K Equal Sum Subsets"
   ]
  },
  {
   "cell_type": "code",
   "execution_count": 14,
   "metadata": {},
   "outputs": [
    {
     "name": "stdout",
     "output_type": "stream",
     "text": [
      "True\n",
      "False\n"
     ]
    }
   ],
   "source": [
    "class Solution:\n",
    "    def canPartitionKSubsets(self, nums: List[int], k: int) -> bool:\n",
    "        if sum(nums) % k != 0:\n",
    "            return False\n",
    "        \n",
    "        nums.sort(reverse=True)\n",
    "        target = sum(nums)/k\n",
    "        used = [False] * len(nums)\n",
    "\n",
    "        def dfs(idx, sub_sum, rem_k):\n",
    "            if rem_k == 0: return True\n",
    "            \n",
    "            if sub_sum == target: \n",
    "                return dfs(0, 0, rem_k - 1)\n",
    "            \n",
    "            for j in range(idx, len(nums)):\n",
    "                if j > 0 and not used[j - 1] and nums[j] == nums[j - 1]:\n",
    "                    continue\n",
    "                \n",
    "                if used[j] or nums[j] + sub_sum > target:\n",
    "                    continue\n",
    "\n",
    "                used[j] = True\n",
    "\n",
    "                if dfs(j + 1, nums[j] + sub_sum, rem_k):\n",
    "                    return True\n",
    "\n",
    "                used[j] = False\n",
    "\n",
    "            return False\n",
    "\n",
    "        return dfs(0, 0, k)\n",
    "\n",
    "\n",
    "sol = Solution()\n",
    "print(sol.canPartitionKSubsets([4,3,2,3,5,2,1], 4)) #True\n",
    "print(sol.canPartitionKSubsets([1,2,3,4], 4)) #False"
   ]
  },
  {
   "cell_type": "markdown",
   "metadata": {},
   "source": [
    "##### 473.Matchsticks to Square"
   ]
  },
  {
   "cell_type": "code",
   "execution_count": 17,
   "metadata": {},
   "outputs": [
    {
     "name": "stdout",
     "output_type": "stream",
     "text": [
      "True\n",
      "False\n"
     ]
    }
   ],
   "source": [
    "class Solution:\n",
    "    def makesquare(self, matchsticks: List[int]) -> bool:\n",
    "        if sum(matchsticks) % 4 != 0:\n",
    "            return False\n",
    "\n",
    "        matchsticks.sort(reverse=True)\n",
    "        target = sum(matchsticks)/4\n",
    "        used = [False] * len(matchsticks)\n",
    "\n",
    "        def dfs(idx, curr_sum, rem_sides):\n",
    "            if rem_sides == 0:\n",
    "                return True\n",
    "            \n",
    "            if curr_sum == target:\n",
    "                return dfs(0, 0, rem_sides - 1)\n",
    "            \n",
    "            for j in range(idx, len(matchsticks)):\n",
    "                if j > 0 and not used[j - 1] and matchsticks[j] == matchsticks[j - 1]:\n",
    "                    continue\n",
    "                \n",
    "                if used[j] or matchsticks[j] + curr_sum > target:\n",
    "                    continue\n",
    "                    \n",
    "                used[j] = True\n",
    "                if dfs(j + 1, matchsticks[j] + curr_sum, rem_sides):\n",
    "                    return True\n",
    "                used[j] = False\n",
    "\n",
    "            return False\n",
    "        \n",
    "        return dfs(0, 0, 4)\n",
    "\n",
    "sol = Solution()\n",
    "print(sol.makesquare([1,1,2,2,2])) #True\n",
    "print(sol.makesquare([3,3,3,3,4])) #False"
   ]
  },
  {
   "attachments": {},
   "cell_type": "markdown",
   "metadata": {},
   "source": [
    "#### Hard"
   ]
  },
  {
   "attachments": {},
   "cell_type": "markdown",
   "metadata": {},
   "source": [
    "##### 51.N-Queens"
   ]
  },
  {
   "cell_type": "code",
   "execution_count": 16,
   "metadata": {},
   "outputs": [
    {
     "name": "stdout",
     "output_type": "stream",
     "text": [
      "[['.Q..', '...Q', 'Q...', '..Q.'], ['..Q.', 'Q...', '...Q', '.Q..']]\n",
      "[['Q']]\n"
     ]
    }
   ],
   "source": [
    "class Solution:\n",
    "    def solveNQueens(self, n: int) -> List[List[str]]:\n",
    "        cols = set()\n",
    "        pos_diag = set()\n",
    "        neg_diag = set()\n",
    "\n",
    "        board = [[\".\"] * n for i in range(n)]\n",
    "        \n",
    "        res = []\n",
    "        def dfs(row):\n",
    "            if row == n:\n",
    "                copy = [\"\".join(r) for r in board]\n",
    "                res.append(copy)\n",
    "                return\n",
    "            \n",
    "            for col in range(n):\n",
    "                if (col in cols\n",
    "                    or (row - col) in neg_diag\n",
    "                    or abs(row + col) in pos_diag):\n",
    "                    continue\n",
    "\n",
    "                board[row][col] = \"Q\"\n",
    "                cols.add(col)\n",
    "                pos_diag.add(row + col)\n",
    "                neg_diag.add(row - col)\n",
    "                \n",
    "                dfs(row + 1)\n",
    "                \n",
    "                board[row][col] = \".\"\n",
    "                cols.remove(col)\n",
    "                pos_diag.remove(row + col)\n",
    "                neg_diag.remove(row - col)\n",
    "        dfs(0)\n",
    "        return res\n",
    "\n",
    "sol = Solution()\n",
    "print(sol.solveNQueens(4)) #[[\".Q..\",\"...Q\",\"Q...\",\"..Q.\"],[\"..Q.\",\"Q...\",\"...Q\",\".Q..\"]]\n",
    "print(sol.solveNQueens(1)) #[[\"Q\"]]"
   ]
  },
  {
   "cell_type": "markdown",
   "metadata": {},
   "source": [
    "##### 52.N-Queens II"
   ]
  },
  {
   "cell_type": "code",
   "execution_count": 18,
   "metadata": {},
   "outputs": [
    {
     "name": "stdout",
     "output_type": "stream",
     "text": [
      "2\n",
      "1\n"
     ]
    }
   ],
   "source": [
    "class Solution:\n",
    "    def totalNQueens(self, n: int) -> int:\n",
    "        cols = set()\n",
    "        left_diag = set()\n",
    "        right_diag = set()\n",
    "\n",
    "        res = 0\n",
    "        def dfs(row_num):\n",
    "            if row_num == n:\n",
    "                nonlocal res\n",
    "                res += 1\n",
    "                return\n",
    "\n",
    "            for col_num in range(n):\n",
    "                if (col_num in cols\n",
    "                    or (row_num + col_num) in left_diag\n",
    "                    or (row_num - col_num) in right_diag):\n",
    "                    continue\n",
    "\n",
    "                cols.add(col_num)\n",
    "                left_diag.add(row_num + col_num)\n",
    "                right_diag.add(row_num - col_num)\n",
    "\n",
    "                dfs(row_num + 1)\n",
    "\n",
    "                cols.remove(col_num)\n",
    "                left_diag.remove(row_num + col_num)\n",
    "                right_diag.remove(row_num - col_num)\n",
    "\n",
    "        \n",
    "        dfs(0)\n",
    "        return res\n",
    "\n",
    "sol = Solution()\n",
    "print(sol.totalNQueens(4)) #2\n",
    "print(sol.totalNQueens(1)) #1"
   ]
  },
  {
   "cell_type": "code",
   "execution_count": 15,
   "metadata": {},
   "outputs": [
    {
     "name": "stdout",
     "output_type": "stream",
     "text": [
      "defaultdict(<class 'set'>, {'1': {'5'}, '5': {'4', '3', '2', '1'}, '2': {'5'}, '3': {'5'}, '4': {'5'}})\n"
     ]
    }
   ],
   "source": [
    "class Graph:\n",
    "    def __init__(self) -> None:\n",
    "        self.neighbours = defaultdict(set)\n",
    "    \n",
    "    def addPath(self, u, v):\n",
    "        self.neighbours[u].add(v)\n",
    "        self.neighbours[v].add(u)\n",
    "\n",
    "    \n",
    "\n",
    "def CityTraffic(strArr):\n",
    "    \n",
    "    # BFS algorithm\n",
    "    def getShortestPath(graph, startNode, targetNode):\n",
    "        queue = [ startNode ]\n",
    "        visited = { startNode: True }\n",
    "        tail = 0\n",
    "        predecessor =  {}\n",
    "        while (tail < queue.length):\n",
    "            currentNode = queue[tail]\n",
    "            tail += 1\n",
    "            neighbours = graph.neighbours[currentNode]\n",
    "            \n",
    "            for i in range(len(neighbours.length)):\n",
    "                neighbourNode = neighbours[i]\n",
    "\n",
    "                if not visited[neighbourNode]:\n",
    "                    visited[neighbourNode] = True\n",
    "                    if (neighbourNode == targetNode):\n",
    "                        path = [ targetNode ]\n",
    "                        while (currentNode != startNode):\n",
    "                            path.append(currentNode)\n",
    "                            currentNode = predecessor[currentNode]\n",
    "\n",
    "                        path.append(currentNode)\n",
    "                        path = path[::-1]\n",
    "                        \n",
    "                        return '-'.join(path)\n",
    "\n",
    "                    predecessor[neighbourNode] = currentNode\n",
    "                    queue.append(neighbourNode)\n",
    "        return \"-1\"\n",
    "    \n",
    "\n",
    "    def addPaths(graph, str):\n",
    "        str = str.replace(\"[\", \"\")\n",
    "        str = str.replace(\"]\", \"\")\n",
    "        node1, neighbourCities = str.split(\":\")\n",
    "        cities.append(node1)\n",
    "        neighbourCities = neighbourCities.split(\",\")\n",
    "        for n in neighbourCities:\n",
    "            graph.addPath(node1, n)\n",
    "    \n",
    "\n",
    "    graph = Graph()\n",
    "    cities = []\n",
    "    for str in strArr:\n",
    "        addPaths(graph, str)\n",
    "\n",
    "    res = []\n",
    "    for city in cities:\n",
    "        \n",
    "    \n",
    "    # cities = sorted(cities, lambda i: int(i))\n",
    "    return graph.neighbours\n",
    "    # cities.forEach(c => console.log(c));\n",
    "\n",
    "\n",
    "input = [\"1:[5]\", \"2:[5]\", \"3:[5]\", \"4:[5]\", \"5:[1,2,3,4]\"]\n",
    "print(CityTraffic(input))"
   ]
  },
  {
   "attachments": {},
   "cell_type": "markdown",
   "metadata": {},
   "source": [
    "### Graphs"
   ]
  },
  {
   "cell_type": "markdown",
   "metadata": {},
   "source": [
    "#### Easy"
   ]
  },
  {
   "cell_type": "markdown",
   "metadata": {},
   "source": [
    "##### 1436.Destination City"
   ]
  },
  {
   "cell_type": "code",
   "execution_count": 12,
   "metadata": {},
   "outputs": [
    {
     "name": "stdout",
     "output_type": "stream",
     "text": [
      "Sao Paulo\n",
      "A\n",
      "Z\n"
     ]
    }
   ],
   "source": [
    "class Solution:\n",
    "    def destCity(self, paths: List[List[str]]) -> str:\n",
    "        adj_list = {}\n",
    "\n",
    "        for s, d in paths:\n",
    "            adj_list[s] = d\n",
    "\n",
    "        def dfs(city):\n",
    "            if city not in adj_list:\n",
    "                return city\n",
    "\n",
    "            return dfs(adj_list[city])\n",
    "\n",
    "        return dfs(paths[0][0])\n",
    "\n",
    "sol = Solution()\n",
    "print(sol.destCity([[\"London\",\"New York\"],[\"New York\",\"Lima\"],[\"Lima\",\"Sao Paulo\"]])) #\"Sao Paulo\"\n",
    "print(sol.destCity([[\"B\",\"C\"],[\"D\",\"B\"],[\"C\",\"A\"]])) #\"A\"\n",
    "print(sol.destCity([[\"A\",\"Z\"]])) #\"Z\""
   ]
  },
  {
   "attachments": {},
   "cell_type": "markdown",
   "metadata": {},
   "source": [
    "#### Medium"
   ]
  },
  {
   "attachments": {},
   "cell_type": "markdown",
   "metadata": {},
   "source": [
    "##### 200.Number of Islands"
   ]
  },
  {
   "cell_type": "code",
   "execution_count": 15,
   "metadata": {},
   "outputs": [
    {
     "name": "stdout",
     "output_type": "stream",
     "text": [
      "1\n",
      "3\n"
     ]
    }
   ],
   "source": [
    "class Solution:\n",
    "    def numIslands(self, grid: List[List[str]]) -> int:\n",
    "        if not grid: return False\n",
    "\n",
    "        r_max, c_max = len(grid), len(grid[0])\n",
    "        directions = [[1,0], [0,1], [-1, 0], [0, -1]]\n",
    "        visited = set()\n",
    "        n_islands = 0\n",
    "\n",
    "        def bfs(r, c):\n",
    "            q = collections.deque()\n",
    "\n",
    "            visited.add((r,c))\n",
    "            q.append((r,c))\n",
    "\n",
    "            while q:\n",
    "                row, col = q.popleft() # change this to pop to make it DFS iterative\n",
    "                for i, j in directions:\n",
    "                    new_r, new_c = row + i, col + j\n",
    "                    if (new_r >=0 and new_c >= 0\n",
    "                        and new_r < r_max and new_c < c_max \n",
    "                        and grid[new_r][new_c] == \"1\"\n",
    "                        and (new_r, new_c) not in visited):\n",
    "                        q.append((new_r, new_c))\n",
    "                        visited.add((new_r, new_c))\n",
    "\n",
    "\n",
    "\n",
    "        for i in range(r_max):\n",
    "            for j in range(c_max):\n",
    "                if grid[i][j] == \"1\" and (i, j) not in visited:\n",
    "                    bfs(i, j)\n",
    "                    n_islands += 1\n",
    "        \n",
    "        return n_islands\n",
    "\n",
    "sol = Solution()\n",
    "grid1 = [\n",
    "  [\"1\",\"1\",\"1\",\"1\",\"0\"],\n",
    "  [\"1\",\"1\",\"0\",\"1\",\"0\"],\n",
    "  [\"1\",\"1\",\"0\",\"0\",\"0\"],\n",
    "  [\"0\",\"0\",\"0\",\"0\",\"0\"]\n",
    "]\n",
    "print(sol.numIslands(grid1))\n",
    "grid2 = [\n",
    "  [\"1\",\"1\",\"0\",\"0\",\"0\"],\n",
    "  [\"1\",\"1\",\"0\",\"0\",\"0\"],\n",
    "  [\"0\",\"0\",\"1\",\"0\",\"0\"],\n",
    "  [\"0\",\"0\",\"0\",\"1\",\"1\"]\n",
    "]\n",
    "print(sol.numIslands(grid2))"
   ]
  },
  {
   "attachments": {},
   "cell_type": "markdown",
   "metadata": {},
   "source": [
    "##### 133.Clone Graph"
   ]
  },
  {
   "cell_type": "code",
   "execution_count": null,
   "metadata": {},
   "outputs": [],
   "source": [
    "\"\"\"\n",
    "# Definition for a Node.\n",
    "\"\"\"\n",
    "class Node:\n",
    "    def __init__(self, val = 0, neighbors = None):\n",
    "        self.val = val\n",
    "        self.neighbors = neighbors if neighbors is not None else []\n",
    "\n",
    "\n",
    "class Solution:\n",
    "    def cloneGraph(self, node: 'Node') -> 'Node': # Runtime is O(V + E)\n",
    "        mapping = {} # Contains old to new mapping\n",
    "\n",
    "        def dfs(node):\n",
    "            if node in mapping:\n",
    "                return mapping[node]\n",
    "\n",
    "            new_node = Node(node.val)\n",
    "            mapping[node] = new_node\n",
    "\n",
    "            for neighbor in node.neighbors:\n",
    "                new_node.neighbors.append(dfs(neighbor))\n",
    "\n",
    "            return new_node\n",
    "        \n",
    "        return dfs(node) if node else None\n"
   ]
  },
  {
   "attachments": {},
   "cell_type": "markdown",
   "metadata": {},
   "source": [
    "##### 417.Pacific Atlantic Water Flow"
   ]
  },
  {
   "cell_type": "code",
   "execution_count": 16,
   "metadata": {},
   "outputs": [
    {
     "name": "stdout",
     "output_type": "stream",
     "text": [
      "[[0, 4], [1, 3], [1, 4], [2, 2], [3, 0], [3, 1], [4, 0]]\n",
      "[[0, 0]]\n"
     ]
    }
   ],
   "source": [
    "class Solution:\n",
    "    def pacificAtlantic(self, heights: List[List[int]]) -> List[List[int]]:\n",
    "        r_max, c_max = len(heights), len(heights[0])\n",
    "        pacific, atlantic = set(), set()\n",
    "        directions = [[1,0], [0,1], [-1, 0], [0, -1]]\n",
    "        \n",
    "        def dfs(row, col, visit, height):\n",
    "            if((row, col) in visit \n",
    "                or row < 0 or col < 0 or row == r_max or col == c_max\n",
    "                or heights[row][col] < height):\n",
    "                return\n",
    "            \n",
    "            visit.add((row, col))\n",
    "            for i, j in directions:\n",
    "                dfs(row + i, col + j, visit, heights[row][col])\n",
    "\n",
    "        for r in range(r_max):\n",
    "            dfs(r, 0, pacific, heights[r][0])\n",
    "            dfs(r, c_max - 1, atlantic, heights[r][c_max - 1])\n",
    "\n",
    "        for c in range(c_max):\n",
    "            dfs(0, c, pacific, heights[0][c])\n",
    "            dfs(r_max - 1, c, atlantic, heights[r_max - 1][c])\n",
    "        \n",
    "        res = []\n",
    "        for r in range(r_max):\n",
    "            for c in range(c_max):\n",
    "                if (r, c) in pacific and (r, c) in atlantic:\n",
    "                    res.append([r, c])\n",
    "\n",
    "        return res\n",
    "\n",
    "\n",
    "sol = Solution()\n",
    "heights1 = [[1,2,2,3,5],[3,2,3,4,4],[2,4,5,3,1],[6,7,1,4,5],[5,1,1,2,4]]\n",
    "print(sol.pacificAtlantic(heights1))\n",
    "heights2 = [[1]]\n",
    "print(sol.pacificAtlantic(heights2))"
   ]
  },
  {
   "attachments": {},
   "cell_type": "markdown",
   "metadata": {},
   "source": [
    "##### 207.Course Schedule"
   ]
  },
  {
   "cell_type": "code",
   "execution_count": null,
   "metadata": {},
   "outputs": [],
   "source": [
    "class Solution:\n",
    "    def canFinish(self, numCourses: int, prerequisites: List[List[int]]) -> bool:\n",
    "        reqMap = {i:[] for i in range(numCourses)}\n",
    "\n",
    "        for crs, pre in prerequisites:\n",
    "            reqMap[crs].append(pre)\n",
    "        visited = set()\n",
    "\n",
    "\n",
    "        def dfs(crs):\n",
    "            if crs in visited:\n",
    "                return False\n",
    "\n",
    "            if reqMap[crs] == []:\n",
    "                return True\n",
    "            \n",
    "            visited.add(crs)\n",
    "            for pre in reqMap[crs]:\n",
    "                if not dfs(pre): return False\n",
    "            \n",
    "            visited.remove(crs)\n",
    "            reqMap[crs] = []\n",
    "            return True\n",
    "        \n",
    "        for crs in range(numCourses):\n",
    "            if not dfs(crs): return False\n",
    "        \n",
    "        return True\n"
   ]
  },
  {
   "attachments": {},
   "cell_type": "markdown",
   "metadata": {},
   "source": [
    "##### 323.Number of Connected components in an undirected graph"
   ]
  },
  {
   "cell_type": "code",
   "execution_count": 23,
   "metadata": {},
   "outputs": [
    {
     "name": "stdout",
     "output_type": "stream",
     "text": [
      "2\n"
     ]
    }
   ],
   "source": [
    "class Solution:\n",
    "    def connected_components_(self, numVertices: int, edges: List[List[int]]) -> int:\n",
    "        adj = {i:[] for i  in range(numVertices)}\n",
    "\n",
    "        for i, j in edges:\n",
    "            adj[i].append(j)\n",
    "            adj[j].append(i)\n",
    "\n",
    "        visited = set()\n",
    "\n",
    "        def dfs(vertex):\n",
    "            visited.add(vertex)\n",
    "\n",
    "            for nei in adj[vertex]:\n",
    "                if nei not in visited:\n",
    "                    dfs(nei)\n",
    "\n",
    "        res = 0\n",
    "        for vertex in range(numVertices):\n",
    "            if vertex not in visited:\n",
    "                res += 1\n",
    "                dfs(vertex)\n",
    "        return res\n",
    "\n",
    "    def connected_components(self, numVertices: int, edges: List[List[int]]) -> int:\n",
    "        root = [i for i in range(numVertices)]\n",
    "        rank = [1] * numVertices\n",
    "\n",
    "        def get_root(vertex):\n",
    "            parent = vertex\n",
    "\n",
    "            while parent != root[parent]:\n",
    "                # In case there are any nodes after one level of hierarchy, better update them with the main node\n",
    "                root[parent] = root[root[parent]] \n",
    "                parent = root[parent]\n",
    "            return parent\n",
    "\n",
    "        def union(n1, n2):\n",
    "            p1, p2 = get_root(n1), get_root(n2)\n",
    "\n",
    "            if p1 == p2:\n",
    "                return 0\n",
    "            \n",
    "            if rank[p1] < rank[p2]:\n",
    "                root[p1] = p2\n",
    "                rank[p2] += rank[p1]\n",
    "            else:\n",
    "                root[p2] = p1\n",
    "                rank[p1] += rank[p2]\n",
    "            \n",
    "            return 1\n",
    "\n",
    "        result = numVertices\n",
    "        for i, j in edges:\n",
    "            result -= union(i, j)\n",
    "        \n",
    "        return result\n",
    "        \n",
    "\n",
    "sol = Solution()\n",
    "print(sol.connected_components2(5, [[0, 1], [1, 2], [3, 4]]))"
   ]
  },
  {
   "attachments": {},
   "cell_type": "markdown",
   "metadata": {},
   "source": [
    "##### 178.Graph Valid Tree"
   ]
  },
  {
   "cell_type": "code",
   "execution_count": 21,
   "metadata": {},
   "outputs": [
    {
     "name": "stdout",
     "output_type": "stream",
     "text": [
      "True\n",
      "False\n"
     ]
    }
   ],
   "source": [
    "class Solution:\n",
    "    def isValidTree(self, numVertices: int, edges: List[List[int]]) -> bool:\n",
    "        adj = {i:[] for i  in range(numVertices)}\n",
    "\n",
    "        for i, j in edges:\n",
    "            adj[i].append(j)\n",
    "            adj[j].append(i)\n",
    "\n",
    "        seen = set()\n",
    "        def dfs(vertex, prev):\n",
    "            if vertex in seen:\n",
    "                return False\n",
    "            \n",
    "            seen.add(vertex)\n",
    "\n",
    "            for nei in adj[vertex]:\n",
    "                if nei != prev:\n",
    "                    if not dfs(nei, vertex): return False\n",
    "            return True\n",
    "\n",
    "        return dfs(0, -1) and numVertices == len(seen)\n",
    "\n",
    "\n",
    "sol = Solution()\n",
    "print(sol.isValidTree(5, [[0, 1], [0, 2], [0, 3], [1, 4]])) #True\n",
    "print(sol.isValidTree(5, [[0, 1], [0, 2], [0, 3], [1, 4], [4, 0]])) # False"
   ]
  },
  {
   "attachments": {},
   "cell_type": "markdown",
   "metadata": {},
   "source": [
    "##### 695.Max Area of Island"
   ]
  },
  {
   "cell_type": "code",
   "execution_count": 7,
   "metadata": {},
   "outputs": [
    {
     "name": "stdout",
     "output_type": "stream",
     "text": [
      "6\n",
      "0\n"
     ]
    }
   ],
   "source": [
    "class Solution:\n",
    "    def maxAreaOfIsland(self, grid: List[List[int]]) -> int:\n",
    "        visited = set()\n",
    "        ROWS = len(grid)\n",
    "        COLS = len(grid[0])\n",
    "\n",
    "        def dfs(r, c):\n",
    "            if (not (0 <= r < ROWS)\n",
    "                or not (0 <= c < COLS)\n",
    "                or grid[r][c] != 1\n",
    "                or (r, c) in visited):\n",
    "                return 0\n",
    "\n",
    "\n",
    "            visited.add((r, c))\n",
    "            return 1 + dfs (r + 1, c) + dfs (r - 1, c) + dfs (r, c + 1) + dfs (r, c - 1)\n",
    "        \n",
    "        res = 0\n",
    "        for r in range(ROWS):\n",
    "            for c in range(COLS):\n",
    "                if grid[r][c] == 1:\n",
    "                    res = max(res, dfs(r, c))\n",
    "        return res\n",
    "\n",
    "\n",
    "sol = Solution()\n",
    "print(sol.maxAreaOfIsland([[0,0,1,0,0,0,0,1,0,0,0,0,0],\n",
    "[0,0,0,0,0,0,0,1,1,1,0,0,0],\n",
    "[0,1,1,0,1,0,0,0,0,0,0,0,0],\n",
    "[0,1,0,0,1,1,0,0,1,0,1,0,0],\n",
    "[0,1,0,0,1,1,0,0,1,1,1,0,0],\n",
    "[0,0,0,0,0,0,0,0,0,0,1,0,0],\n",
    "[0,0,0,0,0,0,0,1,1,1,0,0,0],\n",
    "[0,0,0,0,0,0,0,1,1,0,0,0,0]])) #6\n",
    "\n",
    "print(sol.maxAreaOfIsland([[0,0,0,0,0,0,0,0]])) #0"
   ]
  },
  {
   "attachments": {},
   "cell_type": "markdown",
   "metadata": {},
   "source": [
    "##### 130.Surrounded Regions"
   ]
  },
  {
   "cell_type": "code",
   "execution_count": 8,
   "metadata": {},
   "outputs": [
    {
     "name": "stdout",
     "output_type": "stream",
     "text": [
      "[['X', 'X', 'X', 'X'], ['X', 'X', 'X', 'X'], ['X', 'X', 'X', 'X'], ['X', 'O', 'X', 'X']]\n",
      "[['X']]\n"
     ]
    }
   ],
   "source": [
    "class Solution:\n",
    "    def solve(self, board: List[List[str]]) -> None:\n",
    "        \"\"\"\n",
    "        Do not return anything, modify board in-place instead.\n",
    "        \"\"\"\n",
    "        ROWS = len(board)\n",
    "        COLS = len(board[0])\n",
    "\n",
    "        def dfs(r, c):\n",
    "            if r < 0 or c < 0 or r == ROWS or c == COLS or board[r][c] != \"O\":\n",
    "                return\n",
    "            board[r][c] = \"N\"\n",
    "            dfs(r + 1, c)\n",
    "            dfs(r - 1, c)\n",
    "            dfs(r, c + 1)\n",
    "            dfs(r, c - 1)\n",
    "\n",
    "        # 1. (DFS) Capture unsurrounded regions (O -> N)\n",
    "        for r in range(ROWS):\n",
    "            for c in range(COLS):\n",
    "                if board[r][c] == \"O\" and (r in [0, ROWS - 1] or c in [0, COLS - 1]):\n",
    "                    dfs(r, c)\n",
    "\n",
    "        # 2. Capture surrounded regions (O -> X)\n",
    "        for r in range(ROWS):\n",
    "            for c in range(COLS):\n",
    "                if board[r][c] == \"O\":\n",
    "                    board[r][c] = \"X\"\n",
    "\n",
    "        # 3. Uncapture unsurrounded regions (N -> O)\n",
    "        for r in range(ROWS):\n",
    "            for c in range(COLS):\n",
    "                if board[r][c] == \"N\":\n",
    "                    board[r][c] = \"O\"\n",
    "\n",
    "\n",
    "\n",
    "sol = Solution()\n",
    "board1 = [[\"X\",\"X\",\"X\",\"X\"],[\"X\",\"O\",\"O\",\"X\"],[\"X\",\"X\",\"O\",\"X\"],[\"X\",\"O\",\"X\",\"X\"]]\n",
    "sol.solve(board1)\n",
    "print(board1)\n",
    "board2 = [[\"X\"]]\n",
    "sol.solve(board2)\n",
    "print(board2)"
   ]
  },
  {
   "attachments": {},
   "cell_type": "markdown",
   "metadata": {},
   "source": [
    "##### 994.Rotting Oranges"
   ]
  },
  {
   "cell_type": "code",
   "execution_count": 10,
   "metadata": {},
   "outputs": [
    {
     "name": "stdout",
     "output_type": "stream",
     "text": [
      "4\n",
      "-1\n",
      "0\n"
     ]
    }
   ],
   "source": [
    "class Solution:\n",
    "    def orangesRotting(self, grid: List[List[int]]) -> int:\n",
    "        ROWS = len(grid)\n",
    "        COLS = len(grid[0])\n",
    "        \n",
    "        fresh = 0\n",
    "        q = collections.deque()\n",
    "        time = 0\n",
    "\n",
    "        def bfs():\n",
    "            nonlocal fresh, time\n",
    "            \n",
    "            directions = [[0, 1], [0, -1], [1, 0], [-1, 0]]\n",
    "            while fresh > 0 and q:\n",
    "                length = len(q)\n",
    "                for _ in range(length):\n",
    "                    r, c = q.popleft()\n",
    "\n",
    "                    for dr, dc in directions:\n",
    "                        row, col = r + dr, c + dc\n",
    "                        if (\n",
    "                            row in range(ROWS)\n",
    "                            and col in range(COLS)\n",
    "                            and grid[row][col] == 1\n",
    "                        ):\n",
    "                            grid[row][col] = 2\n",
    "                            q.append((row, col))\n",
    "                            fresh -= 1\n",
    "                time += 1\n",
    "\n",
    "        \n",
    "        for r in range(ROWS):\n",
    "            for c in range(COLS):\n",
    "                if grid[r][c] == 1:\n",
    "                    fresh += 1\n",
    "                if grid[r][c] == 2:\n",
    "                    q.append((r, c))\n",
    "\n",
    "        bfs()\n",
    "        return time if not fresh else -1\n",
    "\n",
    "\n",
    "sol = Solution()\n",
    "print(sol.orangesRotting([[2,1,1],[1,1,0],[0,1,1]])) #4\n",
    "print(sol.orangesRotting([[2,1,1],[0,1,1],[1,0,1]])) #-1\n",
    "print(sol.orangesRotting([[0,2]])) #0"
   ]
  },
  {
   "attachments": {},
   "cell_type": "markdown",
   "metadata": {},
   "source": [
    "##### 286.Walls and Gates"
   ]
  },
  {
   "cell_type": "code",
   "execution_count": 14,
   "metadata": {},
   "outputs": [
    {
     "name": "stdout",
     "output_type": "stream",
     "text": [
      "[[3, -1, 0, 1], [2, 2, 1, -1], [1, -1, 2, -1], [0, -1, 3, 4]]\n",
      "[[0, -1], [1, 2]]\n"
     ]
    }
   ],
   "source": [
    "class Solution:\n",
    "    \"\"\"\n",
    "    @param rooms: m x n 2D grid\n",
    "    @return: nothing\n",
    "    \"\"\"\n",
    "    def walls_and_gates(self, rooms: List[List[int]]):\n",
    "        ROWS, COLS = len(rooms), len(rooms[0])\n",
    "        \n",
    "        visit = set()\n",
    "        q = collections.deque()\n",
    "        def bfs():\n",
    "            dist = 0\n",
    "            while q:\n",
    "                length = len(q)\n",
    "                for _ in range(length):\n",
    "                    r, c = q.popleft()\n",
    "                    rooms[r][c] = dist\n",
    "                    for dx, dy in [(1, 0), (0, 1), (-1, 0), (0, -1)]:\n",
    "                        row, col = r + dx, c + dy\n",
    "                        if ((0 <= row < ROWS) \n",
    "                            and (0 <= col < COLS)\n",
    "                            and (row, col) not in visit\n",
    "                            and rooms[row][col] != -1):\n",
    "                            visit.add((row, col))\n",
    "                            q.append((row,col))\n",
    "                dist += 1\n",
    "\n",
    "        for r in range(ROWS):\n",
    "            for c in range(COLS):\n",
    "                if rooms[r][c] == 0:\n",
    "                    q.append((r,c))\n",
    "                    visit.add((r,c))\n",
    "        \n",
    "\n",
    "        bfs()\n",
    "        return rooms\n",
    "\n",
    "sol = Solution()\n",
    "print(sol.walls_and_gates([[2147483647,-1,0,2147483647],\n",
    "[2147483647,2147483647,2147483647,-1],\n",
    "[2147483647,-1,2147483647,-1],\n",
    "[0,-1,2147483647,2147483647]])) # [[3,-1,0,1],[2,2,1,-1],[1,-1,2,-1],[0,-1,3,4]]\n",
    "\n",
    "print(sol.walls_and_gates([[0,-1],[2147483647,2147483647]])) # [[0,-1],[1,2]]\n"
   ]
  },
  {
   "attachments": {},
   "cell_type": "markdown",
   "metadata": {},
   "source": [
    "##### 210.Course Schedule II"
   ]
  },
  {
   "cell_type": "code",
   "execution_count": 15,
   "metadata": {},
   "outputs": [
    {
     "name": "stdout",
     "output_type": "stream",
     "text": [
      "[0, 1]\n",
      "[0, 1, 2, 3]\n",
      "[0]\n"
     ]
    }
   ],
   "source": [
    "class Solution:\n",
    "    # Topological sort\n",
    "    def findOrder(self, numCourses: int, prerequisites: List[List[int]]) -> List[int]:\n",
    "        pre_map = {i:[] for i in range(numCourses)}\n",
    "\n",
    "        for x, y in prerequisites:\n",
    "            pre_map[x].append(y)\n",
    "\n",
    "        \n",
    "        res = []\n",
    "        visit, curr_path = set(), set()\n",
    "        def dfs(course):\n",
    "            if course in curr_path: return False\n",
    "            if course in visit: return True\n",
    "\n",
    "            curr_path.add(course)\n",
    "\n",
    "            for pre in pre_map[course]:\n",
    "                if not dfs(pre): return False\n",
    "            \n",
    "            curr_path.remove(course)\n",
    "            visit.add(course)\n",
    "            res.append(course)\n",
    "            return True\n",
    "            \n",
    "        for n in range(numCourses):\n",
    "            if not dfs(n): return []\n",
    "\n",
    "        return res\n",
    "\n",
    "\n",
    "sol = Solution()\n",
    "print(sol.findOrder(2, [[1, 0]])) #[0,1]\n",
    "print(sol.findOrder(4, [[1,0],[2,0],[3,1],[3,2]])) #[0,2,1,3]\n",
    "print(sol.findOrder(1, [])) #[0]"
   ]
  },
  {
   "cell_type": "markdown",
   "metadata": {},
   "source": [
    "##### 1136.Parallel Courses"
   ]
  },
  {
   "cell_type": "code",
   "execution_count": 13,
   "metadata": {},
   "outputs": [
    {
     "name": "stdout",
     "output_type": "stream",
     "text": [
      "2\n",
      "-1\n"
     ]
    }
   ],
   "source": [
    "class Solution:\n",
    "    def getSemesterCount(self, n: int, relations: List[List[int]]) -> int:\n",
    "        pre_map = collections.defaultdict(list)\n",
    "        req_count = [0] * (n + 1)\n",
    "\n",
    "        for pre, cur in relations:\n",
    "            pre_map[pre].append(cur)\n",
    "            req_count[cur] += 1\n",
    "\n",
    "        dq = collections.deque([idx for idx, cnt in enumerate(req_count) if cnt == 0 and idx != 0])\n",
    "        res = 0\n",
    "        rem_courses = n\n",
    "        def bfs():\n",
    "            nonlocal req_count, dq, res, rem_courses\n",
    "\n",
    "            while dq:\n",
    "                res += 1\n",
    "\n",
    "                for _ in range(len(dq)):\n",
    "                    crs = dq.popleft()\n",
    "                    rem_courses -= 1\n",
    "                    for next in pre_map[crs]:\n",
    "                        req_count[next] -= 1\n",
    "                        if req_count[next] == 0:\n",
    "                            dq.append(next)\n",
    "        bfs()\n",
    "        return -1 if rem_courses else res\n",
    "\n",
    "sol = Solution()\n",
    "print(sol.getSemesterCount(3, [[1,3],[2,3]])) #2\n",
    "print(sol.getSemesterCount(3, [[1,2],[2,3],[3,1]])) #-1"
   ]
  },
  {
   "attachments": {},
   "cell_type": "markdown",
   "metadata": {},
   "source": [
    "##### 684.Redundant Connection"
   ]
  },
  {
   "cell_type": "code",
   "execution_count": 16,
   "metadata": {},
   "outputs": [
    {
     "name": "stdout",
     "output_type": "stream",
     "text": [
      "[2, 3]\n",
      "[1, 4]\n"
     ]
    }
   ],
   "source": [
    "class Solution:\n",
    "    # Union find\n",
    "    def findRedundantConnection(self, edges: List[List[int]]) -> List[int]:\n",
    "        par = [i for i in range(len(edges) + 1)]\n",
    "        rank = [1] * (len(edges) + 1)\n",
    "\n",
    "        def find(node):\n",
    "            p = par[node]\n",
    "            while p != par[p]:\n",
    "                par[p] = par[par[p]]\n",
    "                p = par[p]\n",
    "            return p\n",
    "\n",
    "        def union(n1, n2):\n",
    "            p1, p2 = find(n1), find(n2)\n",
    "\n",
    "            if p1 == p2:\n",
    "                return False\n",
    "            \n",
    "            if rank[p1] > rank[p2]:\n",
    "                par[p2] = p1\n",
    "                rank[p1] += rank[p2]\n",
    "            else:\n",
    "                par[p1] = p2\n",
    "                rank[p2] += rank[p1]\n",
    "\n",
    "            return True\n",
    "\n",
    "        for n1, n2 in edges:\n",
    "            if not union(n1, n2):\n",
    "                return [n1, n2]\n",
    "\n",
    "    # DFS\n",
    "    def findRedundantConnection(self, edges: List[List[int]]) -> List[int]:\n",
    "        graph = collections.defaultdict(set)\n",
    "        \n",
    "        def dfs(s,d): #Measures if s and d CAN be connected directly or indirectly.\n",
    "            if s not in seen:\n",
    "                seen.add(s)\n",
    "                if s==d:\n",
    "                    return True\n",
    "                return any(dfs(n,d) for n in graph[s])\n",
    "            return False\n",
    "        \n",
    "        for u,v in edges:\n",
    "            seen =set() #Cause we dont want to have infinite loops.\n",
    "            if dfs(u,v): #If u and v ARE already conected, then we dont want a redundant edge.\n",
    "                return [u,v]\n",
    "                \n",
    "            graph[u].add(v)\n",
    "            graph[v].add(u)\n",
    "sol = Solution()\n",
    "print(sol.findRedundantConnection([[1,2],[1,3],[2,3]])) #[2,3]\n",
    "print(sol.findRedundantConnection([[1,2],[2,3],[3,4],[1,4],[1,5]])) #[1, 4]"
   ]
  },
  {
   "attachments": {},
   "cell_type": "markdown",
   "metadata": {},
   "source": [
    "##### 1091.Shortest Path in Binary Matrix\n"
   ]
  },
  {
   "cell_type": "code",
   "execution_count": 16,
   "metadata": {},
   "outputs": [
    {
     "name": "stdout",
     "output_type": "stream",
     "text": [
      "2\n",
      "4\n",
      "-1\n",
      "3\n",
      "8\n"
     ]
    }
   ],
   "source": [
    "class Solution:\n",
    "    # runtime exception\n",
    "    def shortestPathBinaryMatrix1(self, grid: List[List[int]]) -> int:\n",
    "        n = len(grid)\n",
    "\n",
    "        if grid[0][0] == 1 or grid[n -1][n - 1] == 1:\n",
    "            return -1\n",
    "        \n",
    "        directions = [(1, 0), (-1, 0), (1, 1), (-1, 1), (0, 1), (0, -1), (1, -1), (-1, -1)]\n",
    "        def dfs(i, j):\n",
    "            if i == j == n - 1:\n",
    "                return 1 if grid[i][j] == 0 else float('inf')\n",
    "\n",
    "            if (i < 0 or j < 0 \n",
    "                or i > n - 1 or j > n - 1\n",
    "                or grid[i][j] == -1\n",
    "                or grid[i][j] == 1):\n",
    "                return float('inf')\n",
    "            \n",
    "            grid[i][j] = -1 #Mark as visited\n",
    "            res = float('inf')\n",
    "            for dx, dy in directions:\n",
    "                res = min(res, dfs(i + dx, j + dy))\n",
    "            grid[i][j] = 0 #Reset mark as visited\n",
    "            \n",
    "            return 1 + res\n",
    "        \n",
    "        pathLen = dfs(0, 0)\n",
    "        return -1 if pathLen == float('inf') else pathLen\n",
    "    \n",
    "    def shortestPathBinaryMatrix(self, grid: List[List[int]]) -> int:\n",
    "        n = len(grid)\n",
    "        if grid[0][0] == 1 or grid[n -1][n - 1] == 1:\n",
    "            return -1\n",
    "        \n",
    "        directions = [(1, 0), (-1, 0), (1, 1), (-1, 1), (0, 1), (0, -1), (1, -1), (-1, -1)]\n",
    "\n",
    "\n",
    "        dq = collections.deque()\n",
    "        dq.append((0, 0, 1))\n",
    "\n",
    "        while dq:\n",
    "            r, c, dist = dq.popleft()\n",
    "            if r == c == n - 1:\n",
    "                return dist\n",
    "\n",
    "            for dx, dy in directions:\n",
    "                nr, nc = r + dx, c + dy\n",
    "\n",
    "                if nr >=0 and nr < n and nc >=0 and nc < n and grid[nr][nc] == 0:\n",
    "                    dq.append((nr, nc, dist+1))\n",
    "                    grid[nr][nc] = 1 # to avoid revisiting\n",
    "        \n",
    "        return -1\n",
    "        \n",
    "\n",
    "\n",
    "    \n",
    "    \n",
    "sol = Solution()\n",
    "print(sol.shortestPathBinaryMatrix([[0,1],[1,0]])) #2\n",
    "print(sol.shortestPathBinaryMatrix([[0,0,0],[1,1,0],[1,1,0]])) #4\n",
    "print(sol.shortestPathBinaryMatrix([[1,0,0],[1,1,0],[1,1,0]])) #-1\n",
    "print(sol.shortestPathBinaryMatrix([[0,0,0],[1,0,0],[1,1,0]])) #3\n",
    "print(sol.shortestPathBinaryMatrix([[0,0,1,1,0,0],[0,0,0,0,1,1],[1,0,1,1,0,0],[0,0,1,1,0,0],[0,0,0,0,0,0],[0,0,1,0,0,0]])) "
   ]
  },
  {
   "attachments": {},
   "cell_type": "markdown",
   "metadata": {},
   "source": [
    "##### 2101.Detonate the Maximum Bombs"
   ]
  },
  {
   "cell_type": "code",
   "execution_count": 30,
   "metadata": {},
   "outputs": [
    {
     "name": "stdout",
     "output_type": "stream",
     "text": [
      "2\n",
      "1\n",
      "5\n"
     ]
    }
   ],
   "source": [
    "class Solution:\n",
    "    def maximumDetonation(self, bombs: List[List[int]]) -> int:\n",
    "\n",
    "        def distance(x1, y1, x2, y2):\n",
    "            return (y2 - y1)**2 + (x2 - x1)**2\n",
    "        \n",
    "        adj_list = defaultdict(list)\n",
    "\n",
    "        for i in range(len(bombs)):\n",
    "            for j in range(i + 1, len(bombs)):\n",
    "                dist = distance(bombs[i][0], bombs[i][1], bombs[j][0], bombs[j][1])\n",
    "                if (dist <= bombs[i][2] ** 2):\n",
    "                    adj_list[i].append(j)\n",
    "                if(dist <= bombs[j][2] ** 2):\n",
    "                    adj_list[j].append(i)\n",
    "\n",
    "        def dfs(i, visit):\n",
    "            if i in visit:\n",
    "                return 0\n",
    "            visit.add(i)\n",
    "            for nei in adj_list[i]:\n",
    "                dfs(nei, visit)\n",
    "            return len(visit)\n",
    "\n",
    "        res = 0\n",
    "        for i in range(len(bombs)):\n",
    "            currMax = dfs(i, set())\n",
    "            if currMax > res:\n",
    "                res = currMax\n",
    "\n",
    "        return res\n",
    "\n",
    "\n",
    "sol = Solution()\n",
    "print(sol.maximumDetonation([[2,1,3],[6,1,4]])) #2\n",
    "print(sol.maximumDetonation([[1,1,5],[10,10,5]])) #1\n",
    "print(sol.maximumDetonation([[1,2,3],[2,3,1],[3,4,2],[4,5,3],[5,6,4]])) #5"
   ]
  },
  {
   "attachments": {},
   "cell_type": "markdown",
   "metadata": {},
   "source": [
    "##### 1376.Time Needed to Inform All Employees"
   ]
  },
  {
   "cell_type": "code",
   "execution_count": 50,
   "metadata": {},
   "outputs": [
    {
     "name": "stdout",
     "output_type": "stream",
     "text": [
      "0\n",
      "1\n",
      "3\n"
     ]
    }
   ],
   "source": [
    "class Solution:\n",
    "    def numOfMinutes(self, n: int, headID: int, manager: List[int], informTime: List[int]) -> int:\n",
    "        adj_list = defaultdict(list)\n",
    "        \n",
    "        for idx, val in enumerate(manager):\n",
    "            if val != -1:\n",
    "                adj_list[val].append(idx)\n",
    "\n",
    "        def bfs(managerId):\n",
    "            dq = collections.deque([(managerId, 0)])\n",
    "            time = 0\n",
    "            \n",
    "            while dq:\n",
    "                id, levelTime = dq.popleft()\n",
    "                time = max(time, levelTime)    \n",
    "                for nei in adj_list[id]:\n",
    "                    dq.append((nei, levelTime + informTime[id]))\n",
    "                \n",
    "            return time\n",
    "\n",
    "        return bfs(headID)\n",
    "\n",
    "sol = Solution()\n",
    "print(sol.numOfMinutes(1, 0, [-1], [0])) #0\n",
    "print(sol.numOfMinutes(6, 2, [2, 2, -1, 2, 2, 2], [0, 0, 1, 0, 0, 0])) #1\n",
    "print(sol.numOfMinutes(15, 0, [-1,0,0,1,1,2,2,3,3,4,4,5,5,6,6], [1,1,1,1,1,1,1,0,0,0,0,0,0,0,0])) #3"
   ]
  },
  {
   "attachments": {},
   "cell_type": "markdown",
   "metadata": {},
   "source": [
    "##### 841.Keys and Rooms"
   ]
  },
  {
   "cell_type": "code",
   "execution_count": 36,
   "metadata": {},
   "outputs": [
    {
     "name": "stdout",
     "output_type": "stream",
     "text": [
      "True\n",
      "False\n"
     ]
    }
   ],
   "source": [
    "class Solution:\n",
    "    def canVisitAllRooms(self, rooms: List[List[int]]) -> bool:\n",
    "        visited = set()\n",
    "        def dfs(room):\n",
    "            visited.add(room)\n",
    "\n",
    "            for key in rooms[room]:\n",
    "                if key not in visited:\n",
    "                    dfs(key)\n",
    "        \n",
    "        dfs(0)\n",
    "\n",
    "        return len(visited) == len(rooms)\n",
    "\n",
    "\n",
    "sol = Solution()\n",
    "print(sol.canVisitAllRooms([[1],[2],[3],[]])) #true\n",
    "print(sol.canVisitAllRooms([[1,3],[3,0,1],[2],[0]])) #false"
   ]
  },
  {
   "attachments": {},
   "cell_type": "markdown",
   "metadata": {},
   "source": [
    "##### 1466.Reorder Routes to Make All Paths Lead to the City Zero"
   ]
  },
  {
   "cell_type": "code",
   "execution_count": 37,
   "metadata": {},
   "outputs": [
    {
     "name": "stdout",
     "output_type": "stream",
     "text": [
      "3\n",
      "2\n",
      "0\n"
     ]
    }
   ],
   "source": [
    "class Solution:\n",
    "    def minReorder(self, n: int, connections: List[List[int]]) -> int:\n",
    "        roads = {(a, b) for a, b in connections} #set of roads\n",
    "        adj_list = {city:[] for city in range(n)}\n",
    "        visited, res = set(), 0\n",
    "\n",
    "        for a, b in connections:\n",
    "            adj_list[a].append(b)\n",
    "            adj_list[b].append(a)\n",
    "\n",
    "        def dfs(city):\n",
    "            nonlocal roads, adj_list, visited, res\n",
    "\n",
    "            for nei in adj_list[city]:\n",
    "                if nei not in visited:\n",
    "                    if (nei, city) not in roads:\n",
    "                        res += 1\n",
    "                    visited.add(nei)\n",
    "                    dfs(nei)\n",
    "        \n",
    "        visited.add(0)\n",
    "        dfs(0)\n",
    "        return res\n",
    "\n",
    "sol = Solution()\n",
    "print(sol.minReorder(6, [[0,1],[1,3],[2,3],[4,0],[4,5]])) #3\n",
    "print(sol.minReorder(5, [[1,0],[1,2],[3,2],[3,4]])) #2\n",
    "print(sol.minReorder(3, [[1,0],[2, 0]])) #0"
   ]
  },
  {
   "attachments": {},
   "cell_type": "markdown",
   "metadata": {},
   "source": [
    "##### 1926.Nearest Exit from Entrance in Maze"
   ]
  },
  {
   "cell_type": "code",
   "execution_count": 61,
   "metadata": {},
   "outputs": [
    {
     "name": "stdout",
     "output_type": "stream",
     "text": [
      "1\n",
      "2\n",
      "-1\n"
     ]
    }
   ],
   "source": [
    "class Solution:\n",
    "    def nearestExit(self, maze: List[List[str]], entrance: List[int]) -> int:\n",
    "        ROWS, COLS = len(maze), len(maze[0])\n",
    "        directions = [(1, 0), (-1, 0), (0, -1), (0, 1)]\n",
    "        \n",
    "\n",
    "        def isExit(x, y):\n",
    "            return (x == 0 or x == ROWS - 1 or y == 0 or y == COLS - 1)\n",
    "        \n",
    "        def isValid(x, y):\n",
    "            return ((0 <= x <= ROWS - 1) and (0 <= y <= COLS - 1))\n",
    "\n",
    "        dq = collections.deque([(entrance[0], entrance[1], 0)])\n",
    "        maze[entrance[0]][entrance[1]] = '+'\n",
    "\n",
    "        while dq:\n",
    "            curr_x, curr_y, level = dq.popleft()\n",
    "\n",
    "            for dx, dy in directions:\n",
    "                new_x, new_y = curr_x + dx, curr_y + dy\n",
    "                if isValid(new_x, new_y) and maze[new_x][new_y] == '.':\n",
    "                    if isExit(new_x, new_y):\n",
    "                        return level + 1\n",
    "                    \n",
    "                    maze[new_x][new_y] = '+' \n",
    "                    dq.append((new_x, new_y, level + 1))\n",
    "                    \n",
    "        return -1\n",
    "\n",
    "sol = Solution()\n",
    "print(sol.nearestExit([[\"+\",\"+\",\".\",\"+\"],[\".\",\".\",\".\",\"+\"],[\"+\",\"+\",\"+\",\".\"]], [1, 2])) #1\n",
    "print(sol.nearestExit([[\"+\",\"+\",\"+\"],[\".\",\".\",\".\"],[\"+\",\"+\",\"+\"]], [1, 0])) #2\n",
    "print(sol.nearestExit([[\".\",\"+\"]], [0, 0])) #-1"
   ]
  },
  {
   "cell_type": "markdown",
   "metadata": {},
   "source": [
    "##### 1631.Path With Minimum Effort"
   ]
  },
  {
   "cell_type": "code",
   "execution_count": 8,
   "metadata": {},
   "outputs": [
    {
     "name": "stdout",
     "output_type": "stream",
     "text": [
      "2\n",
      "1\n",
      "0\n"
     ]
    }
   ],
   "source": [
    "import heapq\n",
    "class Solution:\n",
    "    def minimumEffortPath(self, heights: List[List[int]]) -> int:\n",
    "        ROWS, COLS = len(heights), len(heights[0])\n",
    "        dirs = [(0, -1), (0, 1), (-1, 0), (1, 0)] # LRUD\n",
    "        # dist_map = defaultdict(lambda: float('inf')) # more time and space complex\n",
    "        # dist_map[(0, 0)] = 0\n",
    "        dist = [[float('inf') for _ in range(COLS)] for _ in range(ROWS)]\n",
    "        visited = [[False for _ in range(COLS)] for _ in range(ROWS)]\n",
    "        dist[0][0] = 0\n",
    "        minHeap = [(0, 0, 0)]\n",
    "\n",
    "        while minHeap:\n",
    "            effort, x, y  = heapq.heappop(minHeap)\n",
    "\n",
    "            if x == ROWS - 1 and y == COLS - 1:\n",
    "                return effort\n",
    "            visited[x][y] = True\n",
    "            for dx, dy in dirs:\n",
    "                nx, ny = x + dx, y + dy\n",
    "                \n",
    "                if 0 <= nx < ROWS and 0 <= ny < COLS and not visited[nx][ny]:\n",
    "                    maxEffort = max(effort, abs(heights[x][y] - heights[nx][ny]))\n",
    "\n",
    "                    # if dist_map[(nx, ny)] > maxEffort:\n",
    "                    #     dist_map[(nx, ny)] = maxEffort\n",
    "                    if dist[nx][ny] > maxEffort:\n",
    "                        dist[nx][ny] = maxEffort\n",
    "                        heapq.heappush(minHeap, (maxEffort, nx, ny))\n",
    "\n",
    "sol = Solution()\n",
    "print(sol.minimumEffortPath([[1,2,2],[3,8,2],[5,3,5]])) #2\n",
    "print(sol.minimumEffortPath([[1,2,3],[3,8,4],[5,3,5]])) #1\n",
    "print(sol.minimumEffortPath([[1,2,1,1,1],[1,2,1,2,1],[1,2,1,2,1],[1,2,1,2,1],[1,1,1,2,1]])) #0"
   ]
  },
  {
   "cell_type": "markdown",
   "metadata": {},
   "source": [
    "##### 2115.Find All Possible Recipes from Given Supplies"
   ]
  },
  {
   "cell_type": "code",
   "execution_count": 33,
   "metadata": {},
   "outputs": [
    {
     "name": "stdout",
     "output_type": "stream",
     "text": [
      "['bread', 'sandwich', 'burger']\n"
     ]
    }
   ],
   "source": [
    "class Solution:\n",
    "    def findAllRecipes(self, recipes: List[str], ingredients: List[List[str]], supplies: List[str]) -> List[str]:\n",
    "        graph = {recipe : [] for recipe in recipes}\n",
    "        cache =  {}\n",
    "        supplies = set(supplies)\n",
    "        \n",
    "        def dfs(recipe):\n",
    "            if recipe in cache:\n",
    "                return cache[recipe]\n",
    "            \n",
    "            cache[recipe] = False\n",
    "            \n",
    "            can_make = True\n",
    "            for req in graph[recipe]:\n",
    "                can_make = can_make & dfs(req)\n",
    "            \n",
    "            cache[recipe] = can_make\n",
    "            \n",
    "            return cache[recipe]\n",
    "        \n",
    "        for idx, recipe in enumerate(recipes):\n",
    "            for ingr in ingredients[idx]:\n",
    "                if ingr not in supplies:\n",
    "                    graph[recipe].append(ingr if ingr in graph else recipe)\n",
    "\n",
    "        res = []\n",
    "        for recipe in recipes:\n",
    "            if dfs(recipe):\n",
    "                res.append(recipe)\n",
    "\n",
    "        return res\n",
    "\n",
    "sol = Solution()\n",
    "print(sol.findAllRecipes(recipes = [\"bread\"], \n",
    "                         ingredients = [[\"yeast\",\"flour\"]], \n",
    "                         supplies = [\"yeast\",\"flour\",\"corn\"])) # [\"bread\"]\n",
    "\n",
    "print(sol.findAllRecipes(recipes = [\"bread\",\"sandwich\"], \n",
    "                         ingredients = [[\"yeast\",\"flour\"],[\"bread\",\"meat\"]], \n",
    "                         supplies = [\"yeast\",\"flour\",\"meat\"])) # [\"bread\",\"sandwich\"]\n",
    "\n",
    "print(sol.findAllRecipes(recipes = [\"bread\",\"sandwich\",\"burger\"], \n",
    "                         ingredients = [[\"yeast\",\"flour\"],[\"bread\",\"meat\"],[\"sandwich\",\"meat\",\"bread\"]], \n",
    "                         supplies = [\"yeast\",\"flour\",\"meat\"])) #[\"bread\",\"sandwich\",\"burger\"]"
   ]
  },
  {
   "cell_type": "markdown",
   "metadata": {},
   "source": [
    "##### 2849.Determine if a Cell Is Reachable at a Given Time"
   ]
  },
  {
   "cell_type": "code",
   "execution_count": 2,
   "metadata": {},
   "outputs": [
    {
     "ename": "KeyboardInterrupt",
     "evalue": "",
     "output_type": "error",
     "traceback": [
      "\u001b[1;31m---------------------------------------------------------------------------\u001b[0m",
      "\u001b[1;31mKeyboardInterrupt\u001b[0m                         Traceback (most recent call last)",
      "\u001b[1;32md:\\Work\\NeetCode\\NeetCode.ipynb Cell 479\u001b[0m line \u001b[0;36m<cell line: 40>\u001b[1;34m()\u001b[0m\n\u001b[0;32m     <a href='vscode-notebook-cell:/d%3A/Work/NeetCode/NeetCode.ipynb#Z2454sZmlsZQ%3D%3D?line=34'>35</a>\u001b[0m         \u001b[39mreturn\u001b[39;00m x_dist \u001b[39m<\u001b[39m\u001b[39m=\u001b[39m t \u001b[39mand\u001b[39;00m y_dist \u001b[39m<\u001b[39m\u001b[39m=\u001b[39m t\n\u001b[0;32m     <a href='vscode-notebook-cell:/d%3A/Work/NeetCode/NeetCode.ipynb#Z2454sZmlsZQ%3D%3D?line=38'>39</a>\u001b[0m sol \u001b[39m=\u001b[39m Solution()\n\u001b[1;32m---> <a href='vscode-notebook-cell:/d%3A/Work/NeetCode/NeetCode.ipynb#Z2454sZmlsZQ%3D%3D?line=39'>40</a>\u001b[0m \u001b[39mprint\u001b[39m(sol\u001b[39m.\u001b[39;49misReachableAtTime(sx \u001b[39m=\u001b[39;49m \u001b[39m2\u001b[39;49m, sy \u001b[39m=\u001b[39;49m \u001b[39m4\u001b[39;49m, fx \u001b[39m=\u001b[39;49m \u001b[39m7\u001b[39;49m, fy \u001b[39m=\u001b[39;49m \u001b[39m7\u001b[39;49m, t \u001b[39m=\u001b[39;49m \u001b[39m6\u001b[39;49m))\n",
      "\u001b[1;32md:\\Work\\NeetCode\\NeetCode.ipynb Cell 479\u001b[0m line \u001b[0;36mSolution.isReachableAtTime\u001b[1;34m(self, sx, sy, fx, fy, t)\u001b[0m\n\u001b[0;32m     <a href='vscode-notebook-cell:/d%3A/Work/NeetCode/NeetCode.ipynb#Z2454sZmlsZQ%3D%3D?line=16'>17</a>\u001b[0m curr_dist \u001b[39m=\u001b[39m \u001b[39mabs\u001b[39m(px \u001b[39m-\u001b[39m fx) \u001b[39m+\u001b[39m \u001b[39mabs\u001b[39m(py \u001b[39m-\u001b[39m fy)\n\u001b[0;32m     <a href='vscode-notebook-cell:/d%3A/Work/NeetCode/NeetCode.ipynb#Z2454sZmlsZQ%3D%3D?line=17'>18</a>\u001b[0m \u001b[39mfor\u001b[39;00m dx, dy \u001b[39min\u001b[39;00m dirs:\n\u001b[1;32m---> <a href='vscode-notebook-cell:/d%3A/Work/NeetCode/NeetCode.ipynb#Z2454sZmlsZQ%3D%3D?line=18'>19</a>\u001b[0m     \u001b[39mif\u001b[39;00m (px \u001b[39m+\u001b[39m dx, py \u001b[39m+\u001b[39m dy) \u001b[39mnot\u001b[39;00m \u001b[39min\u001b[39;00m vistited:\n\u001b[0;32m     <a href='vscode-notebook-cell:/d%3A/Work/NeetCode/NeetCode.ipynb#Z2454sZmlsZQ%3D%3D?line=19'>20</a>\u001b[0m         new_dist \u001b[39m=\u001b[39m \u001b[39mabs\u001b[39m((px \u001b[39m+\u001b[39m dx) \u001b[39m-\u001b[39m fx) \u001b[39m+\u001b[39m \u001b[39mabs\u001b[39m((py \u001b[39m+\u001b[39m dy) \u001b[39m-\u001b[39m fy)\n\u001b[0;32m     <a href='vscode-notebook-cell:/d%3A/Work/NeetCode/NeetCode.ipynb#Z2454sZmlsZQ%3D%3D?line=21'>22</a>\u001b[0m         \u001b[39mif\u001b[39;00m new_dist \u001b[39m<\u001b[39m curr_dist:\n",
      "\u001b[1;32md:\\Work\\NeetCode\\NeetCode.ipynb Cell 479\u001b[0m line \u001b[0;36mSolution.isReachableAtTime\u001b[1;34m(self, sx, sy, fx, fy, t)\u001b[0m\n\u001b[0;32m     <a href='vscode-notebook-cell:/d%3A/Work/NeetCode/NeetCode.ipynb#Z2454sZmlsZQ%3D%3D?line=16'>17</a>\u001b[0m curr_dist \u001b[39m=\u001b[39m \u001b[39mabs\u001b[39m(px \u001b[39m-\u001b[39m fx) \u001b[39m+\u001b[39m \u001b[39mabs\u001b[39m(py \u001b[39m-\u001b[39m fy)\n\u001b[0;32m     <a href='vscode-notebook-cell:/d%3A/Work/NeetCode/NeetCode.ipynb#Z2454sZmlsZQ%3D%3D?line=17'>18</a>\u001b[0m \u001b[39mfor\u001b[39;00m dx, dy \u001b[39min\u001b[39;00m dirs:\n\u001b[1;32m---> <a href='vscode-notebook-cell:/d%3A/Work/NeetCode/NeetCode.ipynb#Z2454sZmlsZQ%3D%3D?line=18'>19</a>\u001b[0m     \u001b[39mif\u001b[39;00m (px \u001b[39m+\u001b[39m dx, py \u001b[39m+\u001b[39m dy) \u001b[39mnot\u001b[39;00m \u001b[39min\u001b[39;00m vistited:\n\u001b[0;32m     <a href='vscode-notebook-cell:/d%3A/Work/NeetCode/NeetCode.ipynb#Z2454sZmlsZQ%3D%3D?line=19'>20</a>\u001b[0m         new_dist \u001b[39m=\u001b[39m \u001b[39mabs\u001b[39m((px \u001b[39m+\u001b[39m dx) \u001b[39m-\u001b[39m fx) \u001b[39m+\u001b[39m \u001b[39mabs\u001b[39m((py \u001b[39m+\u001b[39m dy) \u001b[39m-\u001b[39m fy)\n\u001b[0;32m     <a href='vscode-notebook-cell:/d%3A/Work/NeetCode/NeetCode.ipynb#Z2454sZmlsZQ%3D%3D?line=21'>22</a>\u001b[0m         \u001b[39mif\u001b[39;00m new_dist \u001b[39m<\u001b[39m curr_dist:\n",
      "File \u001b[1;32m_pydevd_bundle/pydevd_cython.pyx:1366\u001b[0m, in \u001b[0;36m_pydevd_bundle.pydevd_cython.SafeCallWrapper.__call__\u001b[1;34m()\u001b[0m\n",
      "File \u001b[1;32m_pydevd_bundle/pydevd_cython.pyx:662\u001b[0m, in \u001b[0;36m_pydevd_bundle.pydevd_cython.PyDBFrame.trace_dispatch\u001b[1;34m()\u001b[0m\n",
      "File \u001b[1;32m_pydevd_bundle/pydevd_cython.pyx:1291\u001b[0m, in \u001b[0;36m_pydevd_bundle.pydevd_cython.PyDBFrame.trace_dispatch\u001b[1;34m()\u001b[0m\n",
      "File \u001b[1;32m_pydevd_bundle/pydevd_cython.pyx:1253\u001b[0m, in \u001b[0;36m_pydevd_bundle.pydevd_cython.PyDBFrame.trace_dispatch\u001b[1;34m()\u001b[0m\n",
      "File \u001b[1;32m_pydevd_bundle/pydevd_cython.pyx:297\u001b[0m, in \u001b[0;36m_pydevd_bundle.pydevd_cython.PyDBFrame.do_wait_suspend\u001b[1;34m()\u001b[0m\n",
      "File \u001b[1;32m~\\AppData\\Local\\Packages\\PythonSoftwareFoundation.Python.3.9_qbz5n2kfra8p0\\LocalCache\\local-packages\\Python39\\site-packages\\debugpy\\_vendored\\pydevd\\pydevd.py:2023\u001b[0m, in \u001b[0;36mPyDB.do_wait_suspend\u001b[1;34m(self, thread, frame, event, arg, exception_type)\u001b[0m\n\u001b[0;32m   2020\u001b[0m             from_this_thread\u001b[39m.\u001b[39mappend(frame_custom_thread_id)\n\u001b[0;32m   2022\u001b[0m     \u001b[39mwith\u001b[39;00m \u001b[39mself\u001b[39m\u001b[39m.\u001b[39m_threads_suspended_single_notification\u001b[39m.\u001b[39mnotify_thread_suspended(thread_id, stop_reason):\n\u001b[1;32m-> 2023\u001b[0m         keep_suspended \u001b[39m=\u001b[39m \u001b[39mself\u001b[39;49m\u001b[39m.\u001b[39;49m_do_wait_suspend(thread, frame, event, arg, suspend_type, from_this_thread, frames_tracker)\n\u001b[0;32m   2025\u001b[0m frames_list \u001b[39m=\u001b[39m \u001b[39mNone\u001b[39;00m\n\u001b[0;32m   2027\u001b[0m \u001b[39mif\u001b[39;00m keep_suspended:\n\u001b[0;32m   2028\u001b[0m     \u001b[39m# This means that we should pause again after a set next statement.\u001b[39;00m\n",
      "File \u001b[1;32m~\\AppData\\Local\\Packages\\PythonSoftwareFoundation.Python.3.9_qbz5n2kfra8p0\\LocalCache\\local-packages\\Python39\\site-packages\\debugpy\\_vendored\\pydevd\\pydevd.py:2059\u001b[0m, in \u001b[0;36mPyDB._do_wait_suspend\u001b[1;34m(self, thread, frame, event, arg, suspend_type, from_this_thread, frames_tracker)\u001b[0m\n\u001b[0;32m   2056\u001b[0m         \u001b[39mself\u001b[39m\u001b[39m.\u001b[39m_call_input_hook()\n\u001b[0;32m   2058\u001b[0m     \u001b[39mself\u001b[39m\u001b[39m.\u001b[39mprocess_internal_commands()\n\u001b[1;32m-> 2059\u001b[0m     time\u001b[39m.\u001b[39;49msleep(\u001b[39m0.01\u001b[39;49m)\n\u001b[0;32m   2061\u001b[0m \u001b[39mself\u001b[39m\u001b[39m.\u001b[39mcancel_async_evaluation(get_current_thread_id(thread), \u001b[39mstr\u001b[39m(\u001b[39mid\u001b[39m(frame)))\n\u001b[0;32m   2063\u001b[0m \u001b[39m# process any stepping instructions\u001b[39;00m\n",
      "\u001b[1;31mKeyboardInterrupt\u001b[0m: "
     ]
    }
   ],
   "source": [
    "import collections\n",
    "class Solution:\n",
    "    # To be fixed\n",
    "    def isReachableAtTime_(self, sx: int, sy: int, fx: int, fy: int, t: int) -> bool:\n",
    "        dq = collections.deque([(sx, sy)])\n",
    "        dirs = [(-1, -1), (0, -1), (1, -1), (-1, 0), (1, 0), (-1, 1), (0, 1), (1, 1)]\n",
    "        curr_lev = 0\n",
    "        vistited = set([(sx, sy)])\n",
    "        while dq:\n",
    "            \n",
    "            for _ in range(len(dq)):\n",
    "                px, py = dq.popleft()\n",
    "                \n",
    "                if (px, py) == (fx, fy):\n",
    "                    print(curr_lev, t)\n",
    "                    return curr_lev == t\n",
    "                \n",
    "                curr_dist = abs(px - fx) + abs(py - fy)\n",
    "                for dx, dy in dirs:\n",
    "                    if (px + dx, py + dy) not in vistited:\n",
    "                        new_dist = abs((px + dx) - fx) + abs((py + dy) - fy)\n",
    "\n",
    "                        if new_dist < curr_dist:\n",
    "                            dq.append((px + dx, py + dy))\n",
    "                            vistited.add((px + dx, py + dy))\n",
    "            curr_lev += 1\n",
    "            \n",
    "    \n",
    "    def isReachableAtTime(self, sx: int, sy: int, fx: int, fy: int, t: int) -> bool:\n",
    "        x_dist = abs(sx - fx)\n",
    "        y_dist = abs(sy - fy)\n",
    "\n",
    "        if x_dist == 0 and y_dist == 0:\n",
    "            return t != 1\n",
    "\n",
    "        return x_dist <= t and y_dist <= t\n",
    "\n",
    "\n",
    "\n",
    "sol = Solution()\n",
    "print(sol.isReachableAtTime(sx = 2, sy = 4, fx = 7, fy = 7, t = 6)) #True\n",
    "# print(sol.isReachableAtTime(sx = 3, sy = 1, fx = 7, fy = 3, t = 3)) #False\n",
    "# print(sol.isReachableAtTime(sx = 1, sy = 2, fx = 1, fy = 2, t = 1)) #False"
   ]
  },
  {
   "cell_type": "markdown",
   "metadata": {},
   "source": [
    "##### 1743.Restore the Array From Adjacent Pairs"
   ]
  },
  {
   "cell_type": "code",
   "execution_count": 7,
   "metadata": {},
   "outputs": [
    {
     "name": "stdout",
     "output_type": "stream",
     "text": [
      "[1, 2, 3, 4]\n",
      "[-2, 4, 1, -3]\n",
      "[100000, -100000]\n"
     ]
    }
   ],
   "source": [
    "class Solution:\n",
    "    def restoreArray(self, adjacentPairs: List[List[int]]) -> List[int]:\n",
    "        graph = defaultdict(list)\n",
    "        for u, v in adjacentPairs:\n",
    "            graph[u].append(v)\n",
    "            graph[v].append(u)\n",
    "\n",
    "        res = []\n",
    "\n",
    "        for node, adj in graph.items():\n",
    "            if len(adj) == 1:\n",
    "                res = [node, adj[0]]\n",
    "                break\n",
    "\n",
    "        while len(res) < len(adjacentPairs) + 1:\n",
    "            last, prev = res[-1], res[-2]\n",
    "            neighs = graph[last]\n",
    "            next_element = neighs[0] if neighs[0] != prev else neighs[1]\n",
    "            res.append(next_element)\n",
    "\n",
    "        return res\n",
    "\n",
    "\n",
    "sol = Solution()\n",
    "print(sol.restoreArray([[2,1],[3,4],[3,2]])) #[1,2,3,4]\n",
    "print(sol.restoreArray([[4,-2],[1,4],[-3,1]])) #[-2,4,1,-3]\n",
    "print(sol.restoreArray([[100000,-100000]])) #[100000,-100000]"
   ]
  },
  {
   "cell_type": "markdown",
   "metadata": {},
   "source": [
    "##### 529.Minesweeper"
   ]
  },
  {
   "cell_type": "code",
   "execution_count": 4,
   "metadata": {},
   "outputs": [
    {
     "name": "stdout",
     "output_type": "stream",
     "text": [
      "[['B', '1', 'E', '1', 'B'], ['B', '1', 'M', '1', 'B'], ['B', '1', '1', '1', 'B'], ['B', 'B', 'B', 'B', 'B']]\n"
     ]
    }
   ],
   "source": [
    "class Solution:\n",
    "    def updateBoard(self, board: List[List[str]], click: List[int]) -> List[List[str]]:\n",
    "        if board[click[0]][click[1]] == 'M':\n",
    "            board[click[0]][click[1]] = 'X'\n",
    "            return board\n",
    "        \n",
    "        ROWS = len(board)\n",
    "        COLS = len(board[0])\n",
    "\n",
    "        dq = collections.deque([])\n",
    "        dq.append((click[0], click[1]))\n",
    "\n",
    "        while dq:\n",
    "            temp_dq = collections.deque([])\n",
    "            r, c = dq.popleft()\n",
    "            \n",
    "            if board[r][c] == 'M' or board[r][c] != 'E':\n",
    "                continue\n",
    "\n",
    "            bomb_cnt = 0\n",
    "            if board[r][c] == 'E':\n",
    "                for dr, dc in [(-1, -1),(0, -1),(1, -1),(-1, 0),(1, 0),(-1, 1),(0, 1),(1, 1)]:\n",
    "                    if not((0 <= r + dr < ROWS) and (0 <= c + dc < COLS)):\n",
    "                        continue\n",
    "                    if board[r + dr][c + dc] == \"M\":\n",
    "                        bomb_cnt += 1\n",
    "                        \n",
    "                    temp_dq.append((r + dr, c + dc))\n",
    "\n",
    "            if bomb_cnt > 0:\n",
    "                board[r][c] = str(bomb_cnt) \n",
    "            else:\n",
    "                board[r][c] = 'B'\n",
    "                dq += temp_dq\n",
    "\n",
    "        return board\n",
    "        \n",
    "\n",
    "sol = Solution()\n",
    "print(sol.updateBoard(board = [\n",
    "    [\"E\",\"E\",\"E\",\"E\",\"E\"],\n",
    "    [\"E\",\"E\",\"M\",\"E\",\"E\"],\n",
    "    [\"E\",\"E\",\"E\",\"E\",\"E\"],\n",
    "    [\"E\",\"E\",\"E\",\"E\",\"E\"]], click = [3,0])) #[[\"B\",\"1\",\"E\",\"1\",\"B\"],[\"B\",\"1\",\"M\",\"1\",\"B\"],[\"B\",\"1\",\"1\",\"1\",\"B\"],[\"B\",\"B\",\"B\",\"B\",\"B\"]]\n",
    "# print(sol.updateBoard(board = [\n",
    "#     [\"B\",\"1\",\"E\",\"1\",\"B\"],\n",
    "#     [\"B\",\"1\",\"M\",\"1\",\"B\"],\n",
    "#     [\"B\",\"1\",\"1\",\"1\",\"B\"],\n",
    "#     [\"B\",\"B\",\"B\",\"B\",\"B\"]], click = [1,2])) #[[\"B\",\"1\",\"E\",\"1\",\"B\"],[\"B\",\"1\",\"X\",\"1\",\"B\"],[\"B\",\"1\",\"1\",\"1\",\"B\"],[\"B\",\"B\",\"B\",\"B\",\"B\"]]"
   ]
  },
  {
   "attachments": {},
   "cell_type": "markdown",
   "metadata": {},
   "source": [
    "#### Hard"
   ]
  },
  {
   "attachments": {},
   "cell_type": "markdown",
   "metadata": {},
   "source": [
    "##### 127.Word Ladder"
   ]
  },
  {
   "cell_type": "code",
   "execution_count": 28,
   "metadata": {},
   "outputs": [
    {
     "name": "stdout",
     "output_type": "stream",
     "text": [
      "5\n",
      "0\n"
     ]
    }
   ],
   "source": [
    "class Solution:\n",
    "    def ladderLength(self, beginWord: str, endWord: str, wordList: List[str]) -> int:\n",
    "        if endWord not in wordList:\n",
    "            return 0\n",
    "        \n",
    "        neighbors = defaultdict(list)\n",
    "        wordList.append(beginWord)\n",
    "\n",
    "        for word in wordList:\n",
    "            for i in range(len(word)):\n",
    "                pattern = word[:i] + '.' + word[i + 1:]\n",
    "                neighbors[pattern].append(word)\n",
    "\n",
    "        visit = set([beginWord])\n",
    "        q = collections.deque([beginWord])\n",
    "        dist = 1\n",
    "        while q:\n",
    "            length = len(q)\n",
    "            for _ in range(length):\n",
    "                word = q.popleft()\n",
    "                if word == endWord:\n",
    "                    return dist\n",
    "\n",
    "                for i in range(len(word)):\n",
    "                    pattern = word[:i] + '.' + word[i + 1:]\n",
    "                    for neighbor in neighbors[pattern]:\n",
    "                        if neighbor not in visit:\n",
    "                            visit.add(neighbor)\n",
    "                            q.append(neighbor)\n",
    "            dist += 1\n",
    "        return 0\n",
    "\n",
    "sol = Solution()\n",
    "print(sol.ladderLength(\"hit\", \"cog\", [\"hot\",\"dot\",\"dog\",\"lot\",\"log\",\"cog\"])) #5\n",
    "print(sol.ladderLength(\"hit\", \"cog\", [\"hot\",\"dot\",\"dog\",\"lot\",\"log\"])) #0"
   ]
  },
  {
   "cell_type": "markdown",
   "metadata": {},
   "source": [
    "##### 847.Shortest Path Visiting All Nodes"
   ]
  },
  {
   "cell_type": "code",
   "execution_count": 6,
   "metadata": {},
   "outputs": [
    {
     "name": "stdout",
     "output_type": "stream",
     "text": [
      "4\n",
      "4\n"
     ]
    }
   ],
   "source": [
    "class Solution:\n",
    "    # Wrong answer\n",
    "    def shortestPathLength_old(self, graph: List[List[int]]) -> int:\n",
    "        edges_map = {}\n",
    "\n",
    "        start_point, low_nei = 0, float('inf')\n",
    "        for i in range(len(graph)):\n",
    "            if i not in edges_map:\n",
    "                edges_map[i] = []\n",
    "            edges_map[i].extend(graph[i])\n",
    "\n",
    "            if len(graph[i]) < low_nei:\n",
    "                low_nei = len(graph[i])\n",
    "                start_point = i\n",
    "        \n",
    "        visited_vertices = set()\n",
    "        visited_edges = set()\n",
    "        def dfs(vertex):\n",
    "            visited_vertices.add(vertex)\n",
    "            \n",
    "            if len(visited_vertices) == len(graph):\n",
    "                return\n",
    "            \n",
    "            for nei in edges_map[vertex]:\n",
    "                if (vertex, nei) not in visited_edges and nei not in visited_vertices:\n",
    "                    visited_edges.add((vertex, nei))\n",
    "                    dfs(nei)\n",
    "\n",
    "            \n",
    "\n",
    "        dfs(start_point)\n",
    "        return len(visited_edges)\n",
    "    \n",
    "    def shortestPathLength(self, graph: List[List[int]]) -> int:\n",
    "        n = len(graph)\n",
    "        \n",
    "        # state of vertcies until now, neighbor visiting\n",
    "        seen_state = set()\n",
    "        \n",
    "        # cost to reach this vertex, vertex index, state to reach this vertex\n",
    "        dq = collections.deque([(0, i, frozenset([i])) for i in range(n)])\n",
    "\n",
    "        while dq:\n",
    "            count, index, visited_state  = dq.popleft()\n",
    "\n",
    "            # if state of vertices to reach the current vertex is full\n",
    "            if len(visited_state) == len(graph):\n",
    "                return count\n",
    "\n",
    "\n",
    "            for neighbor in graph[index]:\n",
    "                # adding current vertex to the state\n",
    "                curr_state = set(visited_state)\n",
    "                curr_state.add(neighbor)\n",
    "                curr_state = frozenset(curr_state)\n",
    "\n",
    "                # going to the nei with current state.\n",
    "                if (curr_state, neighbor) not in seen_state:\n",
    "                    seen_state.add((curr_state, neighbor))\n",
    "                    dq.append((count + 1, neighbor, curr_state))\n",
    "\n",
    "sol = Solution()\n",
    "print(sol.shortestPathLength([[1,2,3],[0],[0],[0]])) #4\n",
    "print(sol.shortestPathLength([[1],[0,2,4],[1,3,4],[2],[1,2]])) #4"
   ]
  },
  {
   "cell_type": "markdown",
   "metadata": {},
   "source": [
    "##### 1293.Shortest Path in a Grid with Obstacles Elimination"
   ]
  },
  {
   "cell_type": "code",
   "execution_count": 47,
   "metadata": {},
   "outputs": [
    {
     "name": "stdout",
     "output_type": "stream",
     "text": [
      "6\n",
      "-1\n"
     ]
    }
   ],
   "source": [
    "class Solution:\n",
    "    # DFS\n",
    "    # Wrong - need to handle the removed obstacle block\n",
    "    def shortestPath_(self, grid: List[List[int]], k: int) -> int:\n",
    "        ROWS, COLS = len(grid), len(grid[0])\n",
    "\n",
    "        visited = set()\n",
    "        step_map = {}\n",
    "        \n",
    "        def dfs(r, c, rem_k, steps, changed):\n",
    "            if (r, c) == (ROWS - 1, COLS -1):\n",
    "                return steps\n",
    "\n",
    "            if (r, c) in step_map and steps > step_map[(r, c)]:\n",
    "                return step_map[(r, c)]\n",
    "            \n",
    "            if (not (0 <= r < ROWS)\n",
    "                or not (0 <= c < COLS)\n",
    "                or (r, c) in visited\n",
    "                or (grid[r][c] == 1 and not changed)):\n",
    "                return float('inf')\n",
    "            \n",
    "            visited.add((r, c))\n",
    "            min_dist = float('inf')\n",
    "\n",
    "            for dx, dy in [(1, 0), (-1, 0), (0, 1), (0, -1)]:\n",
    "                if (not (0 <= r + dx < ROWS)\n",
    "                    or not (0 <= c + dy < COLS)):\n",
    "                    continue\n",
    "                if grid[r + dx][c + dy] == 1:\n",
    "                    min_dist = min(min_dist, dfs(r + dx, c + dy, rem_k - 1, steps + 1, True))\n",
    "                else:\n",
    "                    min_dist = min(min_dist, dfs(r + dx, c + dy, rem_k, steps + 1, False))\n",
    "\n",
    "            visited.remove((r, c))\n",
    "            step_map[(r, c)] = min_dist\n",
    "            return min_dist\n",
    "            \n",
    "\n",
    "        steps = dfs(0, 0, k, 0, False)\n",
    "        return  -1 if steps == float('inf') else steps\n",
    "    \n",
    "    # BFS\n",
    "    def shortestPath(self, grid: List[List[int]], k: int) -> int:\n",
    "        ROWS, COLS = len(grid), len(grid[0])\n",
    "        if ROWS == 1 and COLS == 1: return 0\n",
    "\n",
    "        steps = 0\n",
    "        dq = collections.deque([(0, 0, k)])\n",
    "        seen = {(0, 0, k)}\n",
    "\n",
    "        while dq:\n",
    "            steps += 1\n",
    "            for _ in range(len(dq)):\n",
    "                r, c, rem_k = dq.popleft()\n",
    "                for dx, dy in [(1, 0), (-1, 0), (0, 1), (0, -1)]:\n",
    "                    x = r + dx\n",
    "                    y = c + dy\n",
    "\n",
    "                    if x == ROWS - 1 and y == COLS - 1:\n",
    "                        return steps\n",
    "                    \n",
    "                    if (not (0 <= x < ROWS)\n",
    "                        or not (0 <= y < COLS)\n",
    "                        or (grid[x][y] == 1 and rem_k == 0)):\n",
    "                        continue\n",
    "    \n",
    "                    \n",
    "                    new_k = rem_k - grid[x][y]\n",
    "                    if (x, y, new_k) in seen:\n",
    "                        continue\n",
    "\n",
    "                    dq.append((x, y, new_k))\n",
    "                    seen.add((x, y, new_k))\n",
    "\n",
    "        return -1\n",
    "\n",
    "\n",
    "sol = Solution()\n",
    "print(sol.shortestPath([[0,0,0],[1,1,0],[0,0,0],[0,1,1],[0,0,0]], 1)) #6\n",
    "print(sol.shortestPath([[0,1,1],[1,1,1],[1,0,0]], 1)) #-1"
   ]
  },
  {
   "cell_type": "markdown",
   "metadata": {},
   "source": [
    "##### 815.Bus Routes"
   ]
  },
  {
   "cell_type": "code",
   "execution_count": 62,
   "metadata": {},
   "outputs": [
    {
     "name": "stdout",
     "output_type": "stream",
     "text": [
      "2\n",
      "-1\n"
     ]
    }
   ],
   "source": [
    "import collections\n",
    "class Solution:\n",
    "    def numBusesToDestination(self, routes: List[List[int]], source: int, target: int) -> int:\n",
    "        graph = defaultdict(set)\n",
    "\n",
    "        for bus_no, route in enumerate(routes):\n",
    "            for stop in route:\n",
    "                graph[stop].add(bus_no)\n",
    "\n",
    "        dq = collections.deque([source])\n",
    "        seen_stop = set([source])\n",
    "        seen_bus = set()\n",
    "        \n",
    "        res = 0\n",
    "        while dq:\n",
    "            for _ in range(len(dq)):\n",
    "                stop = dq.popleft()\n",
    "\n",
    "                if stop == target:\n",
    "                    return res\n",
    "\n",
    "                for bus_no in graph[stop]:\n",
    "                    if bus_no not in seen_bus:\n",
    "                        for new_stop in routes[bus_no]:\n",
    "                            if new_stop not in seen_stop:\n",
    "                                seen_stop.add(new_stop)\n",
    "                                dq.append(new_stop)\n",
    "                    \n",
    "                    seen_bus.add(bus_no)\n",
    "\n",
    "            res += 1\n",
    "        \n",
    "        return -1\n",
    "\n",
    "\n",
    "sol = Solution()\n",
    "print(sol.numBusesToDestination(routes = [[1,2,7],[3,6,7]], source = 1, target = 6)) #2\n",
    "print(sol.numBusesToDestination(routes = [[7,12],[4,5,15],[6],[15,19],[9,12,13]], source = 15, target = 12)) #-1"
   ]
  },
  {
   "cell_type": "markdown",
   "metadata": {},
   "source": [
    "##### 2050.Parallel Courses III"
   ]
  },
  {
   "cell_type": "code",
   "execution_count": 22,
   "metadata": {},
   "outputs": [
    {
     "name": "stdout",
     "output_type": "stream",
     "text": [
      "8\n",
      "12\n"
     ]
    }
   ],
   "source": [
    "class Solution:\n",
    "    def minimumTime(self, n: int, relations: List[List[int]], time: List[int]) -> int:\n",
    "        req_map = {crs:[] for crs in range(n + 1)}\n",
    "        \n",
    "        for pre, crs in relations:\n",
    "            req_map[crs].append(pre)\n",
    "\n",
    "        visited = set()\n",
    "        crs_time = {}\n",
    "\n",
    "        def dfs(crs):\n",
    "            if crs in crs_time:\n",
    "                return crs_time[crs]\n",
    "            \n",
    "            if crs in visited:\n",
    "                return 0\n",
    "            \n",
    "            visited.add(crs)\n",
    "            crs_time[crs] = time[crs - 1]\n",
    "\n",
    "            pre_time = 0\n",
    "            for pre in req_map[crs]:\n",
    "                pre_time = max(pre_time, dfs(pre))\n",
    "\n",
    "            crs_time[crs] += pre_time\n",
    "            return crs_time[crs]\n",
    "\n",
    "        total_time = 0\n",
    "        for crs in range(1, n + 1):\n",
    "            if crs not in visited:\n",
    "                total_time = max(total_time, dfs(crs))\n",
    "\n",
    "        return total_time\n",
    "\n",
    "\n",
    "sol = Solution()\n",
    "print(sol.minimumTime(n = 3, relations = [[1,3],[2,3]], time = [3,2,5])) #8\n",
    "print(sol.minimumTime(n = 5, relations = [[1,5],[2,5],[3,5],[3,4],[4,5]], time = [1,2,3,4,5])) #12"
   ]
  },
  {
   "attachments": {},
   "cell_type": "markdown",
   "metadata": {},
   "source": [
    "### Advanced Graphs"
   ]
  },
  {
   "attachments": {},
   "cell_type": "markdown",
   "metadata": {},
   "source": [
    "#### Medium"
   ]
  },
  {
   "attachments": {},
   "cell_type": "markdown",
   "metadata": {},
   "source": [
    "##### 1584.Min Cost to Connect All Points"
   ]
  },
  {
   "cell_type": "code",
   "execution_count": 32,
   "metadata": {},
   "outputs": [
    {
     "name": "stdout",
     "output_type": "stream",
     "text": [
      "20\n",
      "18\n"
     ]
    }
   ],
   "source": [
    "import heapq\n",
    "class Solution:\n",
    "    # Prim's\n",
    "    def minCostConnectPoints(self, points: List[List[int]]) -> int:\n",
    "        num_points = len(points)\n",
    "        adj = {i:[] for i in range(num_points)}\n",
    "\n",
    "        for i in range(num_points):\n",
    "            x1, y1 = points[i]\n",
    "            for j in range(i + 1, num_points):\n",
    "                x2, y2 = points[j]\n",
    "                dist = abs(x2 - x1) + abs(y2 - y1)\n",
    "                adj[i].append([dist, j])\n",
    "                adj[j].append([dist, i]) \n",
    "\n",
    "        minHeap = [[0,0]]\n",
    "        # heapq.heapify(minHeap)\n",
    "        visit = set()\n",
    "        res = 0\n",
    "\n",
    "        while len(visit) < num_points:\n",
    "            dist, point = heapq.heappop(minHeap)\n",
    "            if point in visit:\n",
    "                continue\n",
    "            res += dist\n",
    "            visit.add(point)\n",
    "\n",
    "            for nei_dist, nei in adj[point]:\n",
    "                if nei not in visit:\n",
    "                    heapq.heappush(minHeap, [nei_dist, nei])\n",
    "\n",
    "        return res\n",
    "\n",
    "\n",
    "\n",
    "sol = Solution()\n",
    "print(sol.minCostConnectPoints([[0,0],[2,2],[3,10],[5,2],[7,0]])) #20\n",
    "print(sol.minCostConnectPoints([[3,12],[-2,5],[-4,1]])) #18"
   ]
  },
  {
   "attachments": {},
   "cell_type": "markdown",
   "metadata": {},
   "source": [
    "##### 743.Network Delay Time"
   ]
  },
  {
   "cell_type": "code",
   "execution_count": 37,
   "metadata": {},
   "outputs": [
    {
     "name": "stdout",
     "output_type": "stream",
     "text": [
      "2\n",
      "1\n",
      "-1\n"
     ]
    }
   ],
   "source": [
    "class Solution:\n",
    "    # Djikstra's\n",
    "    def networkDelayTime(self, times: List[List[int]], n: int, k: int) -> int:\n",
    "        adj = defaultdict(list)\n",
    "\n",
    "        for s, d, t in times:\n",
    "            adj[s].append([d, t])\n",
    "\n",
    "        minHeap = [(0, k)]\n",
    "        visit = set()\n",
    "        while minHeap:\n",
    "            time, node = heapq.heappop(minHeap)\n",
    "            \n",
    "            visit.add(node)\n",
    "            if len(visit) == n: return time\n",
    "\n",
    "            for nei, neig_time in adj[node]:\n",
    "                if nei not in visit:\n",
    "                    heapq.heappush(minHeap, (time + neig_time, nei))\n",
    "\n",
    "        return -1\n",
    "\n",
    "sol = Solution()\n",
    "print(sol.networkDelayTime([[2,1,1],[2,3,1],[3,4,1]], 4, 2)) #2\n",
    "print(sol.networkDelayTime([[1,2,1]], 2, 1)) #1\n",
    "print(sol.networkDelayTime([[1,2,1]], 2, 2)) #-1"
   ]
  },
  {
   "attachments": {},
   "cell_type": "markdown",
   "metadata": {},
   "source": [
    "##### 787.Cheapest Flights Within K Stops"
   ]
  },
  {
   "cell_type": "code",
   "execution_count": 41,
   "metadata": {},
   "outputs": [
    {
     "name": "stdout",
     "output_type": "stream",
     "text": [
      "700\n",
      "200\n",
      "500\n"
     ]
    }
   ],
   "source": [
    "class Solution:\n",
    "    # Bellman Ford (can deal with negative weights)\n",
    "    def findCheapestPrice(self, n: int, flights: List[List[int]], src: int, dst: int, k: int) -> int:\n",
    "        prices = [float(\"inf\")] * n\n",
    "        prices[src] = 0\n",
    "\n",
    "        for _ in range(k + 1):\n",
    "            temp = prices[:]\n",
    "\n",
    "            for s, d, p in flights:\n",
    "                if prices[s] == float('inf'):\n",
    "                    continue\n",
    "\n",
    "                if prices[s] + p < temp[d]:\n",
    "                    temp[d] = prices[s] + p\n",
    "\n",
    "            prices = temp\n",
    "\n",
    "        return prices[dst] if prices[dst] != float('inf') else -1\n",
    "\n",
    "    # dijkstra's algo\n",
    "    def findCheapestPrice1(self, n: int, flights: List[List[int]], src: int, dst: int, k: int) -> int:\n",
    "        graph = defaultdict(list)\n",
    "        for u, v, w in flights:\n",
    "            graph[u].append((v, w))\n",
    "\n",
    "        # dist, idx, path_len\n",
    "        q = [(0, src, 1)]\n",
    "        max_path_len = k + 2\n",
    "        while q:\n",
    "            dist, idx, path_len = heapq.heappop(q)\n",
    "            if path_len > max_path_len:\n",
    "                continue\n",
    "            if idx == dst:\n",
    "                return dist\n",
    "            for v, w in graph[idx]:\n",
    "                heapq.heappush(q, (dist+w, v, path_len+1))\n",
    "        return -1\n",
    "\n",
    "sol = Solution()\n",
    "print(sol.findCheapestPrice(4, [[0,1,100],[1,2,100],[2,0,100],[1,3,600],[2,3,200]], 0, 3, 1)) # 700\n",
    "print(sol.findCheapestPrice(3, [[0,1,100],[1,2,100],[0,2,500]], 0, 2, 1)) # 200\n",
    "print(sol.findCheapestPrice(3, [[0,1,100],[1,2,100],[0,2,500]], 0, 2, 0)) # 500"
   ]
  },
  {
   "attachments": {},
   "cell_type": "markdown",
   "metadata": {},
   "source": [
    "#### Hard"
   ]
  },
  {
   "attachments": {},
   "cell_type": "markdown",
   "metadata": {},
   "source": [
    "##### 269.Alien Dictionary"
   ]
  },
  {
   "cell_type": "code",
   "execution_count": 18,
   "metadata": {},
   "outputs": [
    {
     "name": "stdout",
     "output_type": "stream",
     "text": [
      "wertf\n"
     ]
    }
   ],
   "source": [
    "class Solution:\n",
    "    def getOrder(self, words: List[str]) -> str:\n",
    "        char_map = {c:set() for word in words for c in word}\n",
    "        \n",
    "        # building the map to get initial ordering\n",
    "        for idx in range(len(words) - 1):\n",
    "            word1, word2 = words[idx], words[idx + 1]\n",
    "            min_len = min (len(word1), len(word2))\n",
    "\n",
    "            # If one word is a prefix of other one, then the smaller word should come first \n",
    "            if len(word1) > len(word2) and word1[:min_len] == word2[:min_len]:\n",
    "                return \"\"\n",
    "            \n",
    "            for i in range(min_len):\n",
    "                if word1[i] != word2[i]: # First differing character\n",
    "                    char_map[word1[i]].add(word2[i])\n",
    "\n",
    "        visit = {} # False is for visited; True is for saying it is in the current path\n",
    "        res = []\n",
    "        \n",
    "        def dfs(c): # returns True in case of loop\n",
    "            if c in visit:\n",
    "                return visit[c]\n",
    "            \n",
    "            visit[c] = True # adding to current path\n",
    "\n",
    "            for nei in char_map[c]:\n",
    "                if dfs(nei): return True\n",
    "            \n",
    "            visit[c] = False # adding to visited and removing from current path\n",
    "            res.append(c)\n",
    "            return False\n",
    "\n",
    "        for c in char_map.keys():\n",
    "            if dfs(c): return \"\"\n",
    "\n",
    "        return ''.join(res[::-1])\n",
    "            \n",
    "                \n",
    "sol = Solution()\n",
    "print(sol.getOrder(['wrt', 'wrf', 'er', 'ett', 'rftt']))"
   ]
  },
  {
   "attachments": {},
   "cell_type": "markdown",
   "metadata": {},
   "source": [
    "##### 332.Reconstruct Itinerary"
   ]
  },
  {
   "cell_type": "code",
   "execution_count": 19,
   "metadata": {},
   "outputs": [
    {
     "name": "stdout",
     "output_type": "stream",
     "text": [
      "['JFK', 'MUC', 'LHR', 'SFO', 'SJC']\n",
      "['JFK', 'SFO', 'ATL', 'JFK', 'ATL', 'SFO']\n"
     ]
    }
   ],
   "source": [
    "class Solution:\n",
    "    def findItinerary(self, tickets: List[List[str]]) -> List[str]:\n",
    "        adj_list = defaultdict(list)\n",
    "\n",
    "        tickets.sort()\n",
    "        for s, d in tickets:\n",
    "            adj_list[s].append(d)\n",
    "\n",
    "        res = [\"JFK\"]\n",
    "        def dfs(src):\n",
    "            if len(res) == len(tickets) + 1:\n",
    "                return True\n",
    "\n",
    "            if src not in adj_list: \n",
    "                return False\n",
    "\n",
    "            temp = list(adj_list[src])\n",
    "            for idx, val in enumerate(temp):\n",
    "                adj_list[src].pop(idx)\n",
    "                res.append(val)\n",
    "\n",
    "                if dfs(val): return True\n",
    "\n",
    "                adj_list[src].insert(idx, val)\n",
    "                res.pop()\n",
    "\n",
    "            return False\n",
    "        \n",
    "        dfs(\"JFK\")\n",
    "        return res\n",
    "\n",
    "sol = Solution()\n",
    "print(sol.findItinerary([[\"MUC\",\"LHR\"],[\"JFK\",\"MUC\"],[\"SFO\",\"SJC\"],[\"LHR\",\"SFO\"]])) #[\"JFK\",\"MUC\",\"LHR\",\"SFO\",\"SJC\"]\n",
    "print(sol.findItinerary([[\"JFK\",\"SFO\"],[\"JFK\",\"ATL\"],[\"SFO\",\"ATL\"],[\"ATL\",\"JFK\"],[\"ATL\",\"SFO\"]])) #[\"JFK\",\"ATL\",\"JFK\",\"SFO\",\"ATL\",\"SFO\"]"
   ]
  },
  {
   "attachments": {},
   "cell_type": "markdown",
   "metadata": {},
   "source": [
    "##### 778.Swim in Rising Water"
   ]
  },
  {
   "cell_type": "code",
   "execution_count": 43,
   "metadata": {},
   "outputs": [
    {
     "name": "stdout",
     "output_type": "stream",
     "text": [
      "3\n",
      "16\n"
     ]
    }
   ],
   "source": [
    "class Solution:\n",
    "    # Dijkstra's algo\n",
    "    def swimInWater(self, grid: List[List[int]]) -> int:\n",
    "        ROWS, COLS = len(grid), len(grid[0])\n",
    "\n",
    "        minHeap = [[grid[0][0], (0, 0)]]\n",
    "        visit = set([(0, 0)])\n",
    "\n",
    "        while minHeap:\n",
    "            maxHeight, (r, c) = heapq.heappop(minHeap)\n",
    "\n",
    "            if (r, c) == (ROWS -1, COLS -1):\n",
    "                return maxHeight\n",
    "\n",
    "            for dx, dy in [(1, 0), (0, 1), (-1, 0), (0, -1)]:\n",
    "                row, col = r + dx, c + dy\n",
    "\n",
    "                if (not (0 <= row < ROWS)\n",
    "                    or not (0 <= col < COLS)\n",
    "                    or (row, col) in visit):\n",
    "                    continue\n",
    "                visit.add((row, col))\n",
    "                heapq.heappush(minHeap, [max(maxHeight, grid[row][col]), (row, col)])\n",
    "\n",
    "sol = Solution()\n",
    "print(sol.swimInWater([[0,2],[1,3]])) #3\n",
    "print(sol.swimInWater([[0,1,2,3,4],[24,23,22,21,5],[12,13,14,15,16],[11,17,18,19,20],[10,9,8,7,6]])) #16"
   ]
  },
  {
   "cell_type": "markdown",
   "metadata": {},
   "source": [
    "##### 2642.Design Graph With Shortest Path Calculator"
   ]
  },
  {
   "cell_type": "code",
   "execution_count": null,
   "metadata": {},
   "outputs": [],
   "source": [
    "class Graph:\n",
    "\n",
    "    def __init__(self, n: int, edges: List[List[int]]):\n",
    "        self.nodes = n\n",
    "        self.graph = {i: {} for i in range(n)}\n",
    "        \n",
    "        for src, dst, cst in edges:\n",
    "            self.graph[src][dst] = cst\n",
    "\n",
    "    def addEdge(self, edge: List[int]) -> None:\n",
    "        src, dst, cst = edge\n",
    "        self.graph[src][dst] = cst\n",
    "\n",
    "    def shortestPath(self, node1: int, node2: int) -> int:\n",
    "        dst_arr = {node: float('inf') for node in range(self.nodes)}\n",
    "        dst_arr[node1] = 0\n",
    "\n",
    "        heap = [(0, node1)]\n",
    "\n",
    "        while heap:\n",
    "            curr_dist, curr_node = heapq.heappop(heap)\n",
    "\n",
    "            if curr_dist > dst_arr[curr_node]:\n",
    "                continue\n",
    "\n",
    "            for nei, dst in self.graph[curr_node].items():\n",
    "                new_dist = curr_dist + dst\n",
    "\n",
    "                if new_dist < dst_arr[nei]:\n",
    "                    dst_arr[nei] = new_dist\n",
    "                    heapq.heappush(heap, (new_dist, nei))\n",
    "\n",
    "        return dst_arr[node2] if dst_arr[node2] != float('inf') else -1\n"
   ]
  },
  {
   "attachments": {},
   "cell_type": "markdown",
   "metadata": {},
   "source": [
    "### 1-D Dynamic Programming"
   ]
  },
  {
   "attachments": {},
   "cell_type": "markdown",
   "metadata": {},
   "source": [
    "#### Easy"
   ]
  },
  {
   "attachments": {},
   "cell_type": "markdown",
   "metadata": {},
   "source": [
    "##### 70.Climbing Stairs"
   ]
  },
  {
   "cell_type": "code",
   "execution_count": 59,
   "metadata": {},
   "outputs": [
    {
     "name": "stdout",
     "output_type": "stream",
     "text": [
      "2\n",
      "3\n"
     ]
    }
   ],
   "source": [
    "class Solution:\n",
    "    def climbStairs(self, n: int) -> int:\n",
    "        # 1 step 1 way, 2 steps 2 ways\n",
    "        prev, curr = 1, 2\n",
    "        for _ in range(3, n+1):\n",
    "            temp = prev + curr\n",
    "            prev = curr\n",
    "            curr = temp\n",
    "        return prev\n",
    "\n",
    "sol = Solution()\n",
    "print(sol.climbStairs(2))\n",
    "print(sol.climbStairs(3))"
   ]
  },
  {
   "attachments": {},
   "cell_type": "markdown",
   "metadata": {},
   "source": [
    "##### 746.Min Cost Climbing Stairs"
   ]
  },
  {
   "cell_type": "code",
   "execution_count": 56,
   "metadata": {},
   "outputs": [
    {
     "name": "stdout",
     "output_type": "stream",
     "text": [
      "15\n",
      "6\n"
     ]
    }
   ],
   "source": [
    "class Solution:\n",
    "    def minCostClimbingStairs(self, cost: List[int]) -> int:\n",
    "        cost.append(0)\n",
    "\n",
    "        for i in range(len(cost) - 3, -1, -1):\n",
    "            cost[i] += min(cost[i + 1], cost[i + 2])\n",
    "        \n",
    "        return min(cost[0], cost[1])\n",
    "\n",
    "sol = Solution()\n",
    "print(sol.minCostClimbingStairs([10,15,20])) #15\n",
    "print(sol.minCostClimbingStairs([1,100,1,1,1,100,1,1,100,1])) #6"
   ]
  },
  {
   "attachments": {},
   "cell_type": "markdown",
   "metadata": {},
   "source": [
    "#### Medium"
   ]
  },
  {
   "attachments": {},
   "cell_type": "markdown",
   "metadata": {},
   "source": [
    "##### 198.House Robber"
   ]
  },
  {
   "cell_type": "code",
   "execution_count": 36,
   "metadata": {},
   "outputs": [
    {
     "name": "stdout",
     "output_type": "stream",
     "text": [
      "16\n"
     ]
    }
   ],
   "source": [
    "class Solution:\n",
    "    def rob1(self, nums: List[int]) -> int: # Times out for long lists\n",
    "        if len(nums) == 0:\n",
    "            return 0\n",
    "        if len(nums) == 1:\n",
    "            return nums[0]\n",
    "        max_rob = max(nums[0] + self.rob(nums[2:]), self.rob(nums[1:]))\n",
    "        return max_rob\n",
    "\n",
    "    def rob(self, nums: List[int]) -> int:\n",
    "        a, b = 0, 0\n",
    "        \n",
    "        for n in nums:\n",
    "            max_rob = max(n + a, b)\n",
    "            a = b\n",
    "            b = max_rob\n",
    "        \n",
    "        return b\n",
    "\n",
    "sol = Solution()\n",
    "print(sol.rob([1,2,3,1]))\n",
    "print(sol.rob([2,7,9,3,1]))\n",
    "print(sol.rob([7,1,1,9,1]))"
   ]
  },
  {
   "attachments": {},
   "cell_type": "markdown",
   "metadata": {},
   "source": [
    "##### 213.House Robber II"
   ]
  },
  {
   "cell_type": "code",
   "execution_count": 43,
   "metadata": {},
   "outputs": [
    {
     "name": "stdout",
     "output_type": "stream",
     "text": [
      "4\n",
      "4\n",
      "4\n",
      "4\n",
      "2\n"
     ]
    }
   ],
   "source": [
    "class Solution:\n",
    "    def rob(self, nums: List[int]) -> int:\n",
    "\n",
    "        def helper(sub_nums):\n",
    "            a, b = 0, 0\n",
    "            for n in sub_nums:\n",
    "                max_rob = max(n + a, b)\n",
    "                a = b\n",
    "                b = max_rob\n",
    "            return b\n",
    "        \n",
    "        return max(nums[0], helper(nums[1:]), helper(nums[:-1]))\n",
    "\n",
    "sol = Solution()\n",
    "print(sol.rob([2,3,2]))\n",
    "print(sol.rob([1,2,3,1]))\n",
    "print(sol.rob([1,2,3]))\n",
    "print(sol.rob([2,1,1,2]))\n",
    "print(sol.rob([2]))"
   ]
  },
  {
   "attachments": {},
   "cell_type": "markdown",
   "metadata": {},
   "source": [
    "##### 5.Longest Palindromic Substring"
   ]
  },
  {
   "cell_type": "code",
   "execution_count": 32,
   "metadata": {},
   "outputs": [
    {
     "name": "stdout",
     "output_type": "stream",
     "text": [
      "bab\n",
      "bb\n"
     ]
    }
   ],
   "source": [
    "class Solution:\n",
    "    def longestPalindrome1(self, s: str) -> str:\n",
    "        res = ''\n",
    "        maxLen = 0\n",
    "\n",
    "        def getMaxPalindrome(start, end):\n",
    "            nonlocal res, maxLen, s\n",
    "            \n",
    "            while start >= 0 and end < len(s) and s[start] == s[end]:\n",
    "                if end - start + 1 > maxLen:\n",
    "                    res = s[start:end + 1]\n",
    "                    maxLen = len(res) \n",
    "                start -= 1\n",
    "                end += 1\n",
    "\n",
    "        for i in range(len(s)):\n",
    "            # Odd length palindromes\n",
    "            getMaxPalindrome(i, i)\n",
    "            \n",
    "            # Even length palindromes\n",
    "            getMaxPalindrome(i, i + 1)\n",
    "\n",
    "        return res\n",
    "\n",
    "    def longestPalindrome(self, s: str) -> str:\n",
    "        def helper(s, i, j):\n",
    "            while 0 <= i and j < len(s) and s[i] == s[j]:\n",
    "                i -= 1\n",
    "                j += 1\n",
    "            return s[i+1:j]\n",
    "        \n",
    "        res = \"\"\n",
    "        for i in range(len(s)):\n",
    "            tmp = helper(s, i, i)\n",
    "            if len(tmp) > len(res):\n",
    "                res = tmp\n",
    "                \n",
    "            tmp = helper(s, i, i+1)\n",
    "            if len(tmp) > len(res):\n",
    "                res = tmp\n",
    "        return res\n",
    "            \n",
    "\n",
    "sol = Solution()\n",
    "print(sol.longestPalindrome(\"babad\"))\n",
    "print(sol.longestPalindrome(\"cbbd\"))"
   ]
  },
  {
   "attachments": {},
   "cell_type": "markdown",
   "metadata": {},
   "source": [
    "##### 647.Palindromic Substrings"
   ]
  },
  {
   "cell_type": "code",
   "execution_count": 31,
   "metadata": {},
   "outputs": [
    {
     "name": "stdout",
     "output_type": "stream",
     "text": [
      "3\n",
      "6\n"
     ]
    }
   ],
   "source": [
    "class Solution:\n",
    "    def countSubstrings(self, s: str) -> int:\n",
    "        res = 0\n",
    "\n",
    "        def palindromeCounter(start, end):\n",
    "            nonlocal res, s\n",
    "\n",
    "            while start >= 0 and end < len(s) and s[start] == s[end]:\n",
    "                res += 1\n",
    "                start -= 1\n",
    "                end += 1\n",
    "        \n",
    "        for i in range(len(s)):\n",
    "            # Odd length count\n",
    "            palindromeCounter(i, i)\n",
    "\n",
    "            # Even length count\n",
    "            palindromeCounter(i, i + 1)\n",
    "\n",
    "        return res\n",
    "\n",
    "sol = Solution()\n",
    "print(sol.countSubstrings(\"abc\"))\n",
    "print(sol.countSubstrings(\"aaa\"))"
   ]
  },
  {
   "attachments": {},
   "cell_type": "markdown",
   "metadata": {},
   "source": [
    "##### 91.Decode Ways"
   ]
  },
  {
   "cell_type": "code",
   "execution_count": 91,
   "metadata": {},
   "outputs": [
    {
     "name": "stdout",
     "output_type": "stream",
     "text": [
      "2\n",
      "3\n",
      "0\n"
     ]
    }
   ],
   "source": [
    "class Solution:\n",
    "    def numDecodings(self, s: str) -> int:\n",
    "        decodeMap = {len(s): 1}\n",
    "        \n",
    "        def decodeCounter(i):\n",
    "            if i in decodeMap:\n",
    "                return decodeMap[i]\n",
    "            if s[i] == '0':\n",
    "                return 0\n",
    "\n",
    "            res = decodeCounter(i + 1)\n",
    "            if i + 1 < len(s) and 10 <= int(s[i: i+2]) <= 26:\n",
    "                res += decodeCounter(i + 2)\n",
    "            \n",
    "            decodeMap[i] = res\n",
    "            return res\n",
    "        \n",
    "        return decodeCounter(0)\n",
    "\n",
    "sol = Solution()\n",
    "print(sol.numDecodings(\"12\"))\n",
    "print(sol.numDecodings(\"226\"))\n",
    "print(sol.numDecodings(\"06\"))"
   ]
  },
  {
   "attachments": {},
   "cell_type": "markdown",
   "metadata": {},
   "source": [
    "##### 322.Coin Change"
   ]
  },
  {
   "cell_type": "code",
   "execution_count": 39,
   "metadata": {},
   "outputs": [],
   "source": [
    "class Solution:\n",
    "    # DP Bottom Up\n",
    "    def coinChange(self, coins: List[int], amount: int) -> int:\n",
    "        amountMap = [amount + 1] * (amount + 1)\n",
    "        amountMap[0] = 0\n",
    "        \n",
    "        for i in range(1, amount + 1):\n",
    "            for c in coins:\n",
    "                if i - c >= 0:\n",
    "                    amountMap[i] = min(amountMap[i], 1 + amountMap[i - c])\n",
    "        \n",
    "        return amountMap[amount] if amountMap[amount] != amount + 1 else -1\n",
    "        \n",
    "sol = Solution()\n",
    "print(sol.coinChange([1,2,5], 11))\n",
    "print(sol.coinChange([2], 3))\n",
    "print(sol.coinChange([1], 0))"
   ]
  },
  {
   "attachments": {},
   "cell_type": "markdown",
   "metadata": {},
   "source": [
    "##### 152.Maximum Product Subarray"
   ]
  },
  {
   "cell_type": "code",
   "execution_count": 44,
   "metadata": {},
   "outputs": [
    {
     "name": "stdout",
     "output_type": "stream",
     "text": [
      "6\n",
      "0\n"
     ]
    }
   ],
   "source": [
    "class Solution:\n",
    "    def maxProduct(self, nums: List[int]) -> int:\n",
    "        res = max(nums)\n",
    "        currMin, currMax = 1, 1\n",
    "\n",
    "        for n in nums:\n",
    "            if n == 0:\n",
    "                currMin, currMax = 1, 1\n",
    "                continue\n",
    "            temp = currMin\n",
    "            currMin = min(currMax * n, currMin * n, n)\n",
    "            currMax = max(currMax * n, temp * n, n)\n",
    "            res = max(res, currMax, currMin)\n",
    "\n",
    "        return res\n",
    "\n",
    "sol = Solution()\n",
    "print(sol.maxProduct([2,3,-2,4]))\n",
    "print(sol.maxProduct([-2,0,-1]))"
   ]
  },
  {
   "attachments": {},
   "cell_type": "markdown",
   "metadata": {},
   "source": [
    "##### 139.Word Break"
   ]
  },
  {
   "cell_type": "code",
   "execution_count": 15,
   "metadata": {},
   "outputs": [
    {
     "name": "stdout",
     "output_type": "stream",
     "text": [
      "True\n",
      "True\n",
      "False\n"
     ]
    }
   ],
   "source": [
    "class Solution:\n",
    "    def wordBreak(self, s: str, wordDict: List[str]) -> bool:\n",
    "        dp = [False] * (len(s) + 1)\n",
    "        dp[len(s)] = True\n",
    "\n",
    "        for i in range(len(s) - 1, -1, -1):\n",
    "            for w in wordDict:\n",
    "                if (i + len(w)) <= len(s) and w == s[i : i + len(w)]:\n",
    "                    dp[i] = dp[i + len(w)]\n",
    "                if dp[i]:\n",
    "                    break\n",
    "        return dp[0]\n",
    "\n",
    "sol = Solution()\n",
    "print(sol.wordBreak(\"leetcode\", [\"leet\",\"code\"]))\n",
    "print(sol.wordBreak(\"applepenapple\", [\"apple\",\"pen\"]))\n",
    "print(sol.wordBreak(\"catsandog\", [\"cats\",\"dog\",\"sand\",\"and\",\"cat\"]))"
   ]
  },
  {
   "attachments": {},
   "cell_type": "markdown",
   "metadata": {},
   "source": [
    "##### 300.Longest Increasing Subsequence"
   ]
  },
  {
   "cell_type": "code",
   "execution_count": 6,
   "metadata": {},
   "outputs": [
    {
     "name": "stdout",
     "output_type": "stream",
     "text": [
      "4\n",
      "4\n",
      "1\n"
     ]
    },
    {
     "ename": "",
     "evalue": "",
     "output_type": "error",
     "traceback": [
      "\u001b[1;31mThe Kernel crashed while executing code in the the current cell or a previous cell. Please review the code in the cell(s) to identify a possible cause of the failure. Click <a href='https://aka.ms/vscodeJupyterKernelCrash'>here</a> for more info. View Jupyter <a href='command:jupyter.viewOutput'>log</a> for further details."
     ]
    }
   ],
   "source": [
    "class Solution:\n",
    "    def lengthOfLIS(self, nums: List[int]) -> int:\n",
    "        LIS = [1] * len(nums)\n",
    "        \n",
    "        for i in range(len(nums) - 1, -1, -1):\n",
    "            for j in range(i + 1, len(nums)):\n",
    "                if nums[i] < nums[j]:\n",
    "                    LIS[i] = max(LIS[i], LIS[j] + 1)\n",
    "\n",
    "        return max(LIS)\n",
    "        \n",
    "\n",
    "sol = Solution()\n",
    "print(sol.lengthOfLIS([10,9,2,5,3,7,101,18]))\n",
    "print(sol.lengthOfLIS([0,1,0,3,2,3]))\n",
    "print(sol.lengthOfLIS([7,7,7,7,7,7,7]))"
   ]
  },
  {
   "attachments": {},
   "cell_type": "markdown",
   "metadata": {},
   "source": [
    "##### 45.Jump Game II"
   ]
  },
  {
   "cell_type": "code",
   "execution_count": 55,
   "metadata": {},
   "outputs": [
    {
     "name": "stdout",
     "output_type": "stream",
     "text": [
      "2\n",
      "2\n"
     ]
    }
   ],
   "source": [
    "class Solution:\n",
    "    def jump(self, nums: List[int]) -> int:\n",
    "        l = r = 0\n",
    "        res = 0\n",
    "        \n",
    "        while r < len(nums) - 1:\n",
    "            max_jump = 0\n",
    "            for i in range(l, r + 1):\n",
    "                max_jump = max(max_jump, i + nums[i])\n",
    "            \n",
    "            l = r + 1\n",
    "            r = max_jump\n",
    "            res += 1\n",
    "\n",
    "        return res\n",
    "\n",
    "sol = Solution()\n",
    "print(sol.jump([2,3,1,1,4])) #2\n",
    "print(sol.jump([2,3,0,1,4])) #2"
   ]
  },
  {
   "attachments": {},
   "cell_type": "markdown",
   "metadata": {},
   "source": [
    "##### 416.Partition Equal Subset Sum"
   ]
  },
  {
   "cell_type": "code",
   "execution_count": 100,
   "metadata": {},
   "outputs": [
    {
     "name": "stdout",
     "output_type": "stream",
     "text": [
      "True\n",
      "False\n"
     ]
    }
   ],
   "source": [
    "class Solution:\n",
    "    def canPartition(self, nums: List[int]) -> bool:\n",
    "        total = sum(nums)\n",
    "\n",
    "        if total % 2 == 1:\n",
    "            return False\n",
    "        \n",
    "        total = total // 2\n",
    "        cache = set([0])\n",
    "\n",
    "        for n in nums:\n",
    "            temp = cache.copy()\n",
    "            for t in cache:\n",
    "                if n + t == total:\n",
    "                    return True\n",
    "                temp.add(n + t)\n",
    "\n",
    "            cache = temp\n",
    "        \n",
    "        return False\n",
    "\n",
    "\n",
    "\n",
    "sol = Solution()\n",
    "print(sol.canPartition([1,5,11,5])) #True\n",
    "print(sol.canPartition([1,2,3,5])) #False"
   ]
  },
  {
   "cell_type": "markdown",
   "metadata": {},
   "source": [
    "##### 1048.Longest String Chain"
   ]
  },
  {
   "cell_type": "code",
   "execution_count": 58,
   "metadata": {},
   "outputs": [
    {
     "name": "stdout",
     "output_type": "stream",
     "text": [
      "4\n",
      "5\n",
      "1\n"
     ]
    }
   ],
   "source": [
    "class Solution:\n",
    "    # Wrong - looks for consecutive chain\n",
    "    # Also, looks for subsequence not single character change\n",
    "    def longestStrChain__(self, words: List[str]) -> int:\n",
    "        if len(words) == 1: return 1\n",
    "\n",
    "        def isSubsequence(s: str, t: str) -> bool:\n",
    "            if len(s) == 0: return True\n",
    "            \n",
    "            i = 0\n",
    "            for j in range(len(t)):\n",
    "                if s[i] == t[j]:\n",
    "                    i += 1\n",
    "                    if i == len(s):\n",
    "                        return True\n",
    "            \n",
    "            return False\n",
    "        \n",
    "        start, end = 0, 1\n",
    "        maxLen = 1\n",
    "        \n",
    "        while end < len(words):\n",
    "            prev, curr = words[end - 1], words[end]\n",
    "\n",
    "            if len(prev) < len(curr):\n",
    "                if isSubsequence(prev, curr):\n",
    "                    maxLen = max(maxLen, end - start + 1)\n",
    "            else:\n",
    "                start = end\n",
    "\n",
    "            end += 1\n",
    "        return maxLen\n",
    "    \n",
    "    #Top down\n",
    "    def longestStrChain_(self, words: List[str]) -> int:\n",
    "        words.sort(key=len)\n",
    "        \n",
    "        cache = {}\n",
    "\n",
    "        def dfs(word):\n",
    "            if word not in words:\n",
    "                return 0\n",
    "\n",
    "            if word in cache:\n",
    "                return cache[word]\n",
    "            \n",
    "            max_chain = 0\n",
    "            for idx in range(len(word)):\n",
    "                max_chain = max(max_chain, dfs(word[:idx] + word[idx + 1:])) \n",
    "\n",
    "            cache[word] = max_chain + 1\n",
    "\n",
    "            return cache[word]\n",
    "            \n",
    "\n",
    "        res = 0\n",
    "        for idx in range(len(words)):\n",
    "            res = max(res, dfs(words[idx]))\n",
    "\n",
    "        return res\n",
    "    \n",
    "    # Bottom Up - Faster\n",
    "    def longestStrChain(self, words: List[str]) -> int:\n",
    "        words.sort(key=len)\n",
    "        cache = {}\n",
    "\n",
    "        res = 0\n",
    "        for word in words:\n",
    "            cache[word] = 1\n",
    "            for idx in range(len(word)):\n",
    "                new_word = word[:idx] + word[idx + 1:]\n",
    "                if new_word in cache:\n",
    "                    cache[word] = max(cache[word], 1 + cache[new_word])\n",
    "\n",
    "            res = max(res, cache[word])\n",
    "\n",
    "        return res\n",
    "\n",
    "sol = Solution()\n",
    "print(sol.longestStrChain([\"a\",\"b\",\"ba\",\"bca\",\"bda\",\"bdca\"])) #4\n",
    "print(sol.longestStrChain([\"xbc\",\"pcxbcf\",\"xb\",\"cxbc\",\"pcxbc\"])) #5\n",
    "print(sol.longestStrChain([\"abcd\",\"dbqca\"])) #1"
   ]
  },
  {
   "cell_type": "markdown",
   "metadata": {},
   "source": [
    "##### 2707.Extra Characters in a String"
   ]
  },
  {
   "cell_type": "code",
   "execution_count": 71,
   "metadata": {},
   "outputs": [
    {
     "name": "stdout",
     "output_type": "stream",
     "text": [
      "1\n",
      "3\n"
     ]
    }
   ],
   "source": [
    "class Solution:\n",
    "    def minExtraChar(self, s: str, dictionary: List[str]) -> int:\n",
    "        str_len = len(s)\n",
    "        words = set(dictionary)\n",
    "        cache = {}\n",
    "\n",
    "        def dfs(idx):\n",
    "            if idx == str_len:\n",
    "                return 0\n",
    "            \n",
    "            if idx in cache: \n",
    "                return cache[idx]\n",
    "\n",
    "            res = 1 + dfs(idx + 1) # skipping the current char\n",
    "\n",
    "            for j in range(idx, str_len):\n",
    "                if s[idx : j + 1] in words:\n",
    "                    res = min(res, dfs(j + 1))\n",
    "            cache[idx] = res\n",
    "            return res\n",
    "\n",
    "        return dfs(0)\n",
    "\n",
    "sol = Solution()\n",
    "print(sol.minExtraChar(s = \"leetscode\", dictionary = [\"leet\",\"code\",\"leetcode\"])) #1\n",
    "print(sol.minExtraChar(s = \"sayhelloworld\", dictionary = [\"hello\",\"world\"])) #3"
   ]
  },
  {
   "cell_type": "markdown",
   "metadata": {},
   "source": [
    "##### 931.Minimum Falling Path Sum"
   ]
  },
  {
   "cell_type": "code",
   "execution_count": 92,
   "metadata": {},
   "outputs": [
    {
     "name": "stdout",
     "output_type": "stream",
     "text": [
      "13\n",
      "-59\n",
      "-36\n"
     ]
    }
   ],
   "source": [
    "class Solution:\n",
    "    def minFallingPathSum(self, matrix: List[List[int]]) -> int:\n",
    "        ROWS, COLS = len(matrix), len(matrix[0])\n",
    "        prev_row = matrix[-1]\n",
    "\n",
    "        for row in range(ROWS - 2, -1, -1):\n",
    "            curr_row = [float('inf')] * COLS\n",
    "\n",
    "            for col in range(COLS):\n",
    "                min_val = prev_row[col]\n",
    "                \n",
    "                if col > 0:\n",
    "                    min_val = min(min_val, prev_row[col - 1])\n",
    "                \n",
    "                if col < COLS - 1:\n",
    "                    min_val = min(min_val, prev_row[col + 1])\n",
    "\n",
    "                curr_row[col] = min(curr_row[col], min_val + matrix[row][col])\n",
    "            \n",
    "            prev_row = curr_row\n",
    "\n",
    "        return min(prev_row)\n",
    "\n",
    "sol = Solution()\n",
    "print(sol.minFallingPathSum([[2,1,3],[6,5,4],[7,8,9]])) #13\n",
    "print(sol.minFallingPathSum([[-19,57],[-40,-5]])) #-59\n",
    "print(sol.minFallingPathSum([[100,-42,-46,-41],[31,97,10,-10],[-58,-51,82,89],[51,81,69,-51]])) #-36"
   ]
  },
  {
   "cell_type": "markdown",
   "metadata": {},
   "source": [
    "##### 823.Binary Trees With Factors"
   ]
  },
  {
   "cell_type": "code",
   "execution_count": 4,
   "metadata": {},
   "outputs": [
    {
     "name": "stdout",
     "output_type": "stream",
     "text": [
      "3\n",
      "7\n"
     ]
    }
   ],
   "source": [
    "class Solution:\n",
    "    def numFactoredBinaryTrees(self, arr: List[int]) -> int:\n",
    "        arr.sort()\n",
    "        dp = {num: 1 for num in arr}\n",
    "        res = 0\n",
    "        \n",
    "        for idx in range(len(arr)):\n",
    "            for fact_idx in range(idx):\n",
    "                if arr[idx] % arr[fact_idx] == 0 and arr[idx] // arr[fact_idx] in dp:\n",
    "                    dp[arr[idx]] += dp[arr[fact_idx]] * dp[arr[idx] // arr[fact_idx]]\n",
    "            \n",
    "            res += dp[arr[idx]]\n",
    "            res %= 10**9 + 7\n",
    "            \n",
    "        return res\n",
    "\n",
    "sol = Solution()\n",
    "print(sol.numFactoredBinaryTrees([2,4])) #3\n",
    "print(sol.numFactoredBinaryTrees([2,4,5,10])) #7"
   ]
  },
  {
   "cell_type": "markdown",
   "metadata": {},
   "source": [
    "##### 935.Knight Dialer"
   ]
  },
  {
   "cell_type": "code",
   "execution_count": null,
   "metadata": {},
   "outputs": [
    {
     "name": "stdout",
     "output_type": "stream",
     "text": [
      "10\n",
      "20\n",
      "136006598\n",
      "46\n"
     ]
    }
   ],
   "source": [
    "class Solution:\n",
    "    # Top Down\n",
    "    def knightDialer_(self, n: int) -> int:\n",
    "        MOD_VAL = 10 ** 9 + 7\n",
    "        neigh_map = {\n",
    "            0: [4, 6],\n",
    "            1: [6, 8],\n",
    "            2: [7, 9],\n",
    "            3: [4, 8],\n",
    "            4: [0, 3, 9],\n",
    "            5: [],\n",
    "            6: [0, 7, 1],\n",
    "            7: [2, 6],\n",
    "            8: [1, 3],\n",
    "            9: [2, 4],\n",
    "        }\n",
    "\n",
    "        cache = {}\n",
    "\n",
    "        def getCount(n, num):\n",
    "            if (n, num) in cache:\n",
    "                return cache[(n, num)]\n",
    "            if n == 0:\n",
    "                return 1\n",
    "            \n",
    "            cnt = 0\n",
    "            for nei in neigh_map[num]:\n",
    "                cnt += (getCount(n - 1, nei) % MOD_VAL)\n",
    "            \n",
    "            cache[(n, num)] = cnt\n",
    "            return cache[(n, num)]\n",
    "        \n",
    "        res = 0\n",
    "        for num in range(10):\n",
    "        # for num in [1]:\n",
    "            res += (getCount(n - 1, num) % MOD_VAL)\n",
    "\n",
    "        return res % MOD_VAL\n",
    "    \n",
    "    # Bottom up\n",
    "    def knightDialer(self, n: int) -> int:\n",
    "        MOD_VAL = 10 ** 9 + 7\n",
    "        neigh_map = {\n",
    "            0: [4, 6],\n",
    "            1: [6, 8],\n",
    "            2: [7, 9],\n",
    "            3: [4, 8],\n",
    "            4: [0, 3, 9],\n",
    "            5: [],\n",
    "            6: [0, 7, 1],\n",
    "            7: [2, 6],\n",
    "            8: [1, 3],\n",
    "            9: [2, 4],\n",
    "        }\n",
    "\n",
    "        cache = [1 for _ in range(10)]\n",
    "\n",
    "        for _ in range(n - 1):\n",
    "            nxt = [0 for _ in range(10)]\n",
    "            for start in range(10):\n",
    "                for end in neigh_map[start]:\n",
    "                    nxt[end] += cache[start] % MOD_VAL\n",
    "\n",
    "            cache = nxt\n",
    "\n",
    "        return sum(cache) % MOD_VAL\n",
    "\n",
    "\n",
    "sol = Solution()\n",
    "print(sol.knightDialer(1)) #10\n",
    "print(sol.knightDialer(2)) #20\n",
    "print(sol.knightDialer(3131)) #136006598\n",
    "print(sol.knightDialer(3)) #46"
   ]
  },
  {
   "attachments": {},
   "cell_type": "markdown",
   "metadata": {},
   "source": [
    "#### Hard"
   ]
  },
  {
   "attachments": {},
   "cell_type": "markdown",
   "metadata": {},
   "source": [
    "##### 140.Word Break II"
   ]
  },
  {
   "cell_type": "code",
   "execution_count": 30,
   "metadata": {},
   "outputs": [
    {
     "name": "stdout",
     "output_type": "stream",
     "text": [
      "['cat sand dog', 'cats and dog']\n",
      "['pine apple pen apple', 'pine applepen apple', 'pineapple pen apple']\n",
      "[]\n"
     ]
    }
   ],
   "source": [
    "class Solution:\n",
    "    def wordBreak(self, s: str, wordDict: List[str]) -> List[str]:\n",
    "        ans = []\n",
    "        \n",
    "        def dfs(pos, words):\n",
    "            if pos == len(s):\n",
    "                ans.append(\" \".join(words))\n",
    "            else:\n",
    "                for i in range(pos, len(s)):\n",
    "                    if s[pos: i + 1] in wordDict:\n",
    "                        dfs(i + 1, words + [s[pos: i + 1]])\n",
    "            return\n",
    "\n",
    "        dfs(0, [])\n",
    "        return ans\n",
    "\n",
    "sol = Solution()\n",
    "print(sol.wordBreak(\"catsanddog\", [\"cat\",\"cats\",\"and\",\"sand\",\"dog\"]))\n",
    "print(sol.wordBreak(\"pineapplepenapple\", [\"apple\",\"pen\",\"applepen\",\"pine\",\"pineapple\"]))\n",
    "print(sol.wordBreak(\"catsandog\", [\"cats\",\"dog\",\"sand\",\"and\",\"cat\"]))"
   ]
  },
  {
   "cell_type": "markdown",
   "metadata": {},
   "source": [
    "##### 1420.Build Array Where You Can Find The Maximum Exactly K Comparisons"
   ]
  },
  {
   "cell_type": "code",
   "execution_count": 8,
   "metadata": {},
   "outputs": [
    {
     "name": "stdout",
     "output_type": "stream",
     "text": [
      "6\n",
      "0\n",
      "1\n"
     ]
    }
   ],
   "source": [
    "class Solution:\n",
    "    def numOfArrays(self, n: int, m: int, k: int) -> int:\n",
    "        MOD_VAL = 10**9 + 7\n",
    "        cache = {}\n",
    "        \n",
    "        def helper(idx, max_val, score):\n",
    "            tup = (idx, max_val, score)\n",
    "            if tup in cache:\n",
    "                return cache[tup]\n",
    "\n",
    "            if idx == 1 and score == 1:\n",
    "                return 1\n",
    "            elif idx == 1:\n",
    "                return 0\n",
    "            elif score == 0:\n",
    "                return 0\n",
    "            \n",
    "            combs = 0\n",
    "\n",
    "            for j in range(1, m + 1):\n",
    "                if j <= max_val:\n",
    "                    combs += helper(idx - 1, max_val, score)\n",
    "                else:\n",
    "                    combs += helper(idx - 1, j, score - 1)\n",
    "            \n",
    "            cache[tup] = combs % MOD_VAL\n",
    "            return cache[tup]\n",
    "\n",
    "        res = 0\n",
    "        for num in range(1, m + 1):\n",
    "            res = (res + helper(n, num, k)) % MOD_VAL\n",
    "            \n",
    "        return res\n",
    "    \n",
    "sol = Solution()\n",
    "print(sol.numOfArrays(2,3,1)) #6\n",
    "print(sol.numOfArrays(5,2,3)) #0\n",
    "print(sol.numOfArrays(9,1,1)) #1"
   ]
  },
  {
   "cell_type": "markdown",
   "metadata": {},
   "source": [
    "##### 2742.Painting the Walls"
   ]
  },
  {
   "cell_type": "code",
   "execution_count": 74,
   "metadata": {},
   "outputs": [
    {
     "name": "stdout",
     "output_type": "stream",
     "text": [
      "3\n",
      "4\n"
     ]
    }
   ],
   "source": [
    "class Solution:\n",
    "    def paintWalls_(self, cost: List[int], time: List[int]) -> int:\n",
    "        cache = {}\n",
    "\n",
    "        def dfs(idx, rem_walls):\n",
    "            if rem_walls <= 0:\n",
    "                return 0\n",
    "\n",
    "            if idx == len(cost):\n",
    "                return float('inf')\n",
    "\n",
    "            if (idx, rem_walls) in cache:\n",
    "                return cache[(idx, rem_walls)]\n",
    "\n",
    "            skip_cost = dfs(idx + 1, rem_walls)\n",
    "            paint_cost = cost[idx] + dfs(idx + 1, rem_walls - 1 - time[idx])\n",
    "\n",
    "            cache[(idx, rem_walls)] = min(skip_cost, paint_cost)\n",
    "\n",
    "            return cache[(idx, rem_walls)]\n",
    "\n",
    "        return dfs(0, len(cost))\n",
    "\n",
    "\n",
    "    def paintWalls(self, cost: List[int], time: List[int]) -> int:\n",
    "        num_walls = len(cost)\n",
    "        dp = [0] + [float('inf')] * num_walls\n",
    "        \n",
    "        for c, t in zip(cost, time):\n",
    "            for idx in range(num_walls, 0, -1):\n",
    "                #min(skip, paint)\n",
    "                dp[idx] = min(dp[idx], dp[max(idx - t - 1, 0)] + c)\n",
    "\n",
    "        return dp[num_walls] \n",
    "\n",
    "sol = Solution()\n",
    "print(sol.paintWalls(cost = [1,2,3,2], time = [1,2,3,2])) #3\n",
    "print(sol.paintWalls(cost = [2,3,4,2], time = [1,1,1,1])) #4"
   ]
  },
  {
   "cell_type": "markdown",
   "metadata": {},
   "source": [
    "##### 1269.Number of Ways to Stay in the Same Place After Some Steps"
   ]
  },
  {
   "cell_type": "code",
   "execution_count": 6,
   "metadata": {},
   "outputs": [
    {
     "name": "stdout",
     "output_type": "stream",
     "text": [
      "4\n",
      "2\n",
      "8\n"
     ]
    }
   ],
   "source": [
    "class Solution:\n",
    "    #Top Down\n",
    "    def numWays_(self, steps: int, arrLen: int) -> int:\n",
    "        MOD_VAL = 10**9 + 7\n",
    "\n",
    "        cache = {}\n",
    "\n",
    "        def dfs(idx, rem_steps):\n",
    "            if rem_steps == 0 and idx == 0:\n",
    "                return 1\n",
    "            \n",
    "            if idx < 0 or idx >= arrLen or rem_steps < 0:\n",
    "                return 0\n",
    "            \n",
    "            if (idx, rem_steps) in cache:\n",
    "                return cache[(idx, rem_steps)]\n",
    "\n",
    "            possib = (dfs(idx, rem_steps - 1) \n",
    "                + dfs(idx - 1, rem_steps - 1) \n",
    "                + dfs(idx + 1, rem_steps - 1))\n",
    "\n",
    "            cache[(idx, rem_steps)] = possib % MOD_VAL\n",
    "            return cache[(idx, rem_steps)]\n",
    "\n",
    "        return dfs(0, steps)\n",
    "\n",
    "    #Bottom Up\n",
    "    def numWays(self, steps: int, arrLen: int) -> int:\n",
    "        # in any array length the farthest we can reach is \n",
    "        # either we use up all the steps or we run to the end of the array\n",
    "\n",
    "        MOD_VAL = 10**9 + 7\n",
    "\n",
    "        #base case is at 0 steps , the number of way to reach 0. \n",
    "        # Only 0 will have 1 way (as it is already at the target)\n",
    "        # rest all would be 0\n",
    "        arrLen = min(steps, arrLen)\n",
    "        prev_row = [0] * arrLen\n",
    "        prev_row[0] = 1\n",
    "\n",
    "        for step in range(1, steps + 1):\n",
    "            curr_row = [0] * arrLen\n",
    "\n",
    "            for idx in range(arrLen):\n",
    "                if idx > 0:\n",
    "                    curr_row[idx] = prev_row[idx - 1]\n",
    "                if idx < arrLen - 1:\n",
    "                    curr_row[idx] += prev_row[idx + 1]   \n",
    "                curr_row[idx] += prev_row[idx] \n",
    "                curr_row[idx] %= MOD_VAL\n",
    "\n",
    "            prev_row = curr_row\n",
    "\n",
    "        return prev_row[0]\n",
    "\n",
    "sol = Solution()\n",
    "print(sol.numWays(steps = 3, arrLen = 2)) #4\n",
    "print(sol.numWays(steps = 2, arrLen = 4)) #2\n",
    "print(sol.numWays(steps = 4, arrLen = 2)) #8"
   ]
  },
  {
   "cell_type": "markdown",
   "metadata": {},
   "source": [
    "##### 829.Consecutive Numbers Sum"
   ]
  },
  {
   "cell_type": "code",
   "execution_count": 17,
   "metadata": {},
   "outputs": [
    {
     "name": "stdout",
     "output_type": "stream",
     "text": [
      "2\n",
      "3\n",
      "4\n",
      "2\n"
     ]
    }
   ],
   "source": [
    "class Solution:\n",
    "    def consecutiveNumbersSum_(self, n: int) -> int:\n",
    "        res, i = 1, 3\n",
    "        while n % 2 == 0:\n",
    "            n //= 2\n",
    "        \n",
    "        while i*i <= n:\n",
    "            count = 0\n",
    "            while n % i == 0:\n",
    "                n //= i\n",
    "                count += 1\n",
    "            res *= count + 1\n",
    "            i += 2\n",
    "        return res if n == 1 else res * 2\n",
    "\n",
    "    # n = k + k+1 + k+2 + ... + k+i\n",
    "    # n = k * (i + 1) + (i(i + 1)/2)\n",
    "    # n - (i(i + 1)/2) = k * (i + 1)\n",
    "    # n - (i(i + 1)/2) % (i + 1) = 0 if true, a pair exists\n",
    "    def consecutiveNumbersSum(self, n: int) -> int:\n",
    "        res, i = 0, 0\n",
    "        \n",
    "        while (i*(i + 1))//2 < n:\n",
    "            if (n - (i*(i + 1))//2) % (i + 1) == 0:\n",
    "                res += 1\n",
    "            i += 1\n",
    "        return res\n",
    "\n",
    "sol = Solution()\n",
    "print(sol.consecutiveNumbersSum(5)) #2\n",
    "print(sol.consecutiveNumbersSum(9)) #3\n",
    "print(sol.consecutiveNumbersSum(15)) #4\n",
    "print(sol.consecutiveNumbersSum(10)) #2"
   ]
  },
  {
   "cell_type": "markdown",
   "metadata": {},
   "source": [
    "##### 1220.Count Vowels Permutation"
   ]
  },
  {
   "cell_type": "code",
   "execution_count": 7,
   "metadata": {},
   "outputs": [
    {
     "name": "stdout",
     "output_type": "stream",
     "text": [
      "5\n",
      "10\n",
      "68\n"
     ]
    }
   ],
   "source": [
    "class Solution:\n",
    "    def countVowelPermutation(self, n: int) -> int:\n",
    "        MOD_VAL = 10**9 + 7\n",
    "\n",
    "        count_map = {ch: 1 for ch in 'aeiou'}\n",
    "        for _ in range(1, n):\n",
    "            # Calculate the next counts for each vowel based on the previous counts\n",
    "            nextCountA = count_map['e']\n",
    "            nextCountE = (count_map['a'] + count_map['i']) % MOD_VAL\n",
    "            nextCountI = (count_map['a'] + count_map['e'] + count_map['o'] + count_map['u']) % MOD_VAL\n",
    "            nextCountO = (count_map['i'] + count_map['u']) % MOD_VAL\n",
    "            nextCountU = count_map['a']\n",
    "\n",
    "            # Update the counts with the newly calculated values for the next length\n",
    "            count_map['a'] = nextCountA\n",
    "            count_map['e'] = nextCountE\n",
    "            count_map['i'] = nextCountI\n",
    "            count_map['o'] = nextCountO\n",
    "            count_map['u'] = nextCountU\n",
    "\n",
    "        # Calculate the total count of valid strings for length n\n",
    "        res = (count_map['a'] + count_map['e'] + count_map['i'] + count_map['o'] + count_map['u']) % MOD_VAL\n",
    "\n",
    "        return res\n",
    "\n",
    "sol = Solution()\n",
    "print(sol.countVowelPermutation(1)) #5\n",
    "print(sol.countVowelPermutation(2)) #10\n",
    "print(sol.countVowelPermutation(5)) #68"
   ]
  },
  {
   "attachments": {},
   "cell_type": "markdown",
   "metadata": {},
   "source": [
    "### 2-D Dynamic Programming"
   ]
  },
  {
   "attachments": {},
   "cell_type": "markdown",
   "metadata": {},
   "source": [
    "#### Medium"
   ]
  },
  {
   "attachments": {},
   "cell_type": "markdown",
   "metadata": {},
   "source": [
    "##### 62.Unique Paths"
   ]
  },
  {
   "cell_type": "code",
   "execution_count": 2,
   "metadata": {},
   "outputs": [
    {
     "name": "stdout",
     "output_type": "stream",
     "text": [
      "28\n",
      "3\n"
     ]
    }
   ],
   "source": [
    "class Solution:\n",
    "    def uniquePaths(self, m: int, n: int) -> int: # O(n) is space and and O(mn) is time\n",
    "        row = [1] * n\n",
    "\n",
    "        for _ in range(m - 1):\n",
    "            new_row = [1] * n\n",
    "            for j in range(n - 2, -1, -1):\n",
    "                new_row[j] = new_row[j + 1] + row[j]\n",
    "            \n",
    "            row = new_row\n",
    "\n",
    "        return row[0]\n",
    "\n",
    "sol = Solution()\n",
    "print(sol.uniquePaths(3, 7)) #28\n",
    "print(sol.uniquePaths(3, 2)) #3\n"
   ]
  },
  {
   "attachments": {},
   "cell_type": "markdown",
   "metadata": {},
   "source": [
    "##### 1143.Longest Common Subsequence"
   ]
  },
  {
   "cell_type": "code",
   "execution_count": 5,
   "metadata": {},
   "outputs": [
    {
     "name": "stdout",
     "output_type": "stream",
     "text": [
      "3\n",
      "3\n",
      "0\n"
     ]
    }
   ],
   "source": [
    "class Solution:\n",
    "    def longestCommonSubsequence1(self, text1: str, text2: str) -> int: # works but very time consuming\n",
    "        if not text1 or not text2:\n",
    "            return 0\n",
    "        \n",
    "        if text1[0] == text2[0]:\n",
    "            return 1 + self.longestCommonSubsequence(text1[1:], text2[1:])\n",
    "        else:\n",
    "            return max(self.longestCommonSubsequence(text1, text2[1:]), self.longestCommonSubsequence(text1[1:], text2))\n",
    "\n",
    "    def longestCommonSubsequence2(self, text1: str, text2: str) -> int:\n",
    "        cache = [[0 for j in range(len(text2) + 1)] for i in range(len(text1) + 1)]\n",
    "\n",
    "        for i in range(len(text1) - 1, -1, -1):\n",
    "            for j in range(len(text2) - 1, -1, -1):\n",
    "                if text1[i] == text2[j]:\n",
    "                    cache[i][j] = 1 + cache[i + 1][j + 1]\n",
    "                else:\n",
    "                    cache[i][j] = max(cache[i + 1][j], cache[i][j + 1])\n",
    "\n",
    "        return cache[0][0]\n",
    "\n",
    "    def longestCommonSubsequence(self, text1: str, text2: str) -> int:\n",
    "        prevRow = [0] * (len(text2) + 1)\n",
    "        \n",
    "        for i in range(len(text1) - 1, -1, -1):\n",
    "            currRow = [0] * (len(text2) + 1)\n",
    "            for j in range(len(text2) - 1, -1, -1):\n",
    "                if text1[i] == text2[j]:\n",
    "                    currRow[j] = 1 + prevRow[j + 1]\n",
    "                else:\n",
    "                    currRow[j] = max(currRow[j + 1], prevRow[j])\n",
    "            prevRow = currRow\n",
    "\n",
    "        return prevRow[0]\n",
    "        \n",
    "\n",
    "sol = Solution()\n",
    "print(sol.longestCommonSubsequence(\"abcde\", \"ace\"))\n",
    "print(sol.longestCommonSubsequence(\"abc\", \"abc\"))\n",
    "print(sol.longestCommonSubsequence(\"abc\", \"def\"))"
   ]
  },
  {
   "attachments": {},
   "cell_type": "markdown",
   "metadata": {},
   "source": [
    "##### 309.Best Time to Buy and Sell Stock with Cooldown"
   ]
  },
  {
   "cell_type": "code",
   "execution_count": 48,
   "metadata": {},
   "outputs": [
    {
     "name": "stdout",
     "output_type": "stream",
     "text": [
      "3\n",
      "0\n"
     ]
    }
   ],
   "source": [
    "class Solution:\n",
    "    def maxProfit(self, prices: List[int]) -> int:\n",
    "        cache = {}\n",
    "\n",
    "        def dfs(pos, buy):\n",
    "            if pos >= len(prices):\n",
    "                return 0\n",
    "\n",
    "            if (pos, buy) in cache:\n",
    "                return cache[(pos, buy)]\n",
    "\n",
    "            cooldown = dfs(pos + 1, buy)\n",
    "            new_prof = 0\n",
    "            if buy:\n",
    "                new_prof = dfs(pos + 1, not buy) - prices[pos]\n",
    "            else:\n",
    "                new_prof = dfs(pos + 2, not buy) + prices[pos]\n",
    "            cache[(pos, buy)] = max(new_prof, cooldown)\n",
    "            return cache[(pos, buy)]\n",
    "\n",
    "        return dfs(0, True)\n",
    "\n",
    "sol = Solution()\n",
    "print(sol.maxProfit([1,2,3,0,2])) #3\n",
    "print(sol.maxProfit([1])) #0"
   ]
  },
  {
   "attachments": {},
   "cell_type": "markdown",
   "metadata": {},
   "source": [
    "##### 518.Coin Change II"
   ]
  },
  {
   "cell_type": "code",
   "execution_count": 94,
   "metadata": {},
   "outputs": [
    {
     "name": "stdout",
     "output_type": "stream",
     "text": [
      "4\n",
      "0\n",
      "1\n"
     ]
    }
   ],
   "source": [
    "class Solution:\n",
    "    # O(n_coins*amount) time and space\n",
    "    def change1(self, amount: int, coins: List[int]) -> int:\n",
    "        res = 0\n",
    "\n",
    "        cache = {}\n",
    "        def dfs(pos, currSum):\n",
    "            nonlocal res\n",
    "            \n",
    "            if currSum == amount:\n",
    "                return 1\n",
    "            \n",
    "            if pos >= len(coins) or currSum >= amount:\n",
    "                return 0\n",
    "\n",
    "            if (pos, currSum) in cache:\n",
    "                return cache[(pos, currSum)]\n",
    "\n",
    "            cache[(pos, currSum)] = dfs(pos, currSum + coins[pos]) + dfs(pos + 1, currSum)\n",
    "            return cache[(pos, currSum)]\n",
    "        return dfs(0, 0)\n",
    "\n",
    "    # DP bottom up\n",
    "    def change(self, amount: int, coins: List[int]) -> int:\n",
    "        prev = [0] * (amount + 1)\n",
    "        prev[0] = 1\n",
    "        for coin in coins:\n",
    "            curr = [0] * (amount + 1)\n",
    "            curr[0] = 1\n",
    "            for a in range(1, amount + 1):\n",
    "                curr[a] = prev[a]\n",
    "                if a - coin >= 0:\n",
    "                    curr[a] += curr[a - coin]\n",
    "\n",
    "            prev = curr\n",
    "\n",
    "        return prev[amount]\n",
    "\n",
    "sol = Solution()\n",
    "print(sol.change(5, [1,2,5])) #4\n",
    "print(sol.change(3, [2])) #0\n",
    "print(sol.change(10, [10])) #1"
   ]
  },
  {
   "attachments": {},
   "cell_type": "markdown",
   "metadata": {},
   "source": [
    "##### 494.Target Sum"
   ]
  },
  {
   "cell_type": "code",
   "execution_count": 53,
   "metadata": {},
   "outputs": [
    {
     "name": "stdout",
     "output_type": "stream",
     "text": [
      "5\n",
      "1\n"
     ]
    }
   ],
   "source": [
    "class Solution:\n",
    "    def findTargetSumWays(self, nums: List[int], target: int) -> int:\n",
    "        cache = {}\n",
    "\n",
    "        def dfs(pos, val):\n",
    "            if pos == len(nums):\n",
    "                return 1 if target == val else 0\n",
    "            if (pos, val) in cache:\n",
    "                return cache[(pos, val)]\n",
    "\n",
    "            cache[(pos, val)] = dfs(pos + 1, val + nums[pos]) + dfs(pos + 1, val - nums[pos])\n",
    "            return cache[(pos, val)]\n",
    "\n",
    "        return dfs(0, 0)\n",
    "\n",
    "sol = Solution()\n",
    "print(sol.findTargetSumWays([1,1,1,1,1], 3)) #5\n",
    "print(sol.findTargetSumWays([1], 1)) #1"
   ]
  },
  {
   "attachments": {},
   "cell_type": "markdown",
   "metadata": {},
   "source": [
    "##### 97.Interleaving String"
   ]
  },
  {
   "cell_type": "code",
   "execution_count": 55,
   "metadata": {},
   "outputs": [
    {
     "name": "stdout",
     "output_type": "stream",
     "text": [
      "True\n",
      "False\n",
      "True\n"
     ]
    }
   ],
   "source": [
    "class Solution:\n",
    "    # Memoization bruteforce\n",
    "    def isInterleave1(self, s1: str, s2: str, s3: str) -> bool:\n",
    "        if len(s1) + len(s2) != len(s3):\n",
    "            return False\n",
    "\n",
    "        cache = {}\n",
    "\n",
    "        def dfs(i, j):\n",
    "            if i == len(s1) and j == len(s2):\n",
    "                return True\n",
    "            \n",
    "            if (i,j) in cache:\n",
    "                return cache[(i, j)]\n",
    "\n",
    "            if i < len(s1) and s1[i] == s3[i + j] and dfs(i + 1, j):\n",
    "                return True\n",
    "            if j < len(s2) and s2[j] == s3[i + j] and dfs(i , j + 1):\n",
    "                return True\n",
    "            cache[(i, j)] = False\n",
    "            return False\n",
    "\n",
    "        return dfs(0, 0)\n",
    "\n",
    "    # DP\n",
    "    def isInterleave(self, s1: str, s2: str, s3: str) -> bool:\n",
    "        if len(s1) + len(s2) != len(s3):\n",
    "            return False\n",
    "\n",
    "        cache = [[False for _ in range(len(s2) + 1)] for _ in range(len(s1) + 1)]\n",
    "        cache[len(s1)][len(s2)] = True\n",
    "\n",
    "        for i in range(len(s1), -1, -1):\n",
    "            for j in range(len(s2), -1, -1):\n",
    "                if i < len(s1) and s1[i] == s3[i + j] and cache[i + 1][j]:\n",
    "                    cache[i][j] = True\n",
    "                if j < len(s2) and s2[j] == s3[i + j] and cache[i][j + 1]:\n",
    "                    cache[i][j] = True\n",
    "\n",
    "        return cache[0][0]\n",
    "        \n",
    "\n",
    "sol = Solution()\n",
    "print(sol.isInterleave(\"aabcc\", \"dbbca\", \"aadbbcbcac\")) # True\n",
    "print(sol.isInterleave(\"aabcc\", \"dbbca\", \"aadbbbaccc\")) # False\n",
    "print(sol.isInterleave(\"\", \"\", \"\")) # true"
   ]
  },
  {
   "cell_type": "markdown",
   "metadata": {},
   "source": [
    "##### 221.Maximal Square"
   ]
  },
  {
   "cell_type": "code",
   "execution_count": 40,
   "metadata": {},
   "outputs": [
    {
     "name": "stdout",
     "output_type": "stream",
     "text": [
      "4\n",
      "1\n",
      "0\n",
      "1\n"
     ]
    }
   ],
   "source": [
    "class Solution:\n",
    "    # bottom up; time and space mn\n",
    "    def maximalSquare_(self, matrix: List[List[str]]) -> int:\n",
    "        ROWS, COLS = len(matrix), len(matrix[0])\n",
    "        prev_row = [int(i) for i in matrix[ROWS - 1]]\n",
    "\n",
    "        maxArea = max(prev_row)\n",
    "        for r in range(ROWS - 2, -1, -1):\n",
    "            new_row = [int(i) for i in matrix[r]]\n",
    "            maxArea = max(maxArea, max(new_row))\n",
    "            for c in range(COLS - 2, -1, -1):\n",
    "                if new_row[c] == 0:\n",
    "                    continue\n",
    "                else:\n",
    "                    new_row[c] = 1 + min(new_row[c + 1], prev_row[c], prev_row[c + 1])\n",
    "                    maxArea = max(maxArea, new_row[c] ** 2)\n",
    "                \n",
    "            prev_row = new_row\n",
    "\n",
    "        return maxArea\n",
    "    \n",
    "    # Bottom up with dummy row on right and bottom - better\n",
    "    def maximalSquare__(self, matrix: List[List[str]]) -> int:\n",
    "        ROWS, COLS = len(matrix), len(matrix[0])\n",
    "        prev_row = [0] * (COLS + 1)\n",
    "\n",
    "        maxArea = 0\n",
    "        for r in range(ROWS - 1, -1, -1):\n",
    "            new_row = [0] * (COLS + 1)\n",
    "            for c in range(COLS - 1, -1, -1):\n",
    "                if matrix[r][c] == '1':\n",
    "                    new_row[c] = 1 + min(new_row[c + 1], prev_row[c], prev_row[c + 1])\n",
    "                    maxArea = max(maxArea, new_row[c] ** 2)\n",
    "                \n",
    "            prev_row = new_row\n",
    "\n",
    "        return maxArea\n",
    "    \n",
    "    #Top down\n",
    "    def maximalSquare(self, matrix: List[List[str]]) -> int:\n",
    "        ROWS, COLS = len(matrix), len(matrix[0])\n",
    "        cache = {}\n",
    "        maxSquare = 0\n",
    "\n",
    "        def helper(r, c):\n",
    "            nonlocal maxSquare\n",
    "            \n",
    "            if r >= ROWS or c >= COLS:\n",
    "                return 0\n",
    "            \n",
    "            if (r, c) not in cache:\n",
    "                down = helper(r + 1, c)\n",
    "                right = helper(r, c + 1)\n",
    "                diag = helper(r + 1, c + 1)\n",
    "\n",
    "                cache[(r,c)] = 0\n",
    "                if matrix[r][c] == '1':\n",
    "                    cache[(r,c)] = 1 + min(down, right, diag)\n",
    "                    maxSquare = max(maxSquare, cache[(r, c)])\n",
    "            \n",
    "            return cache[(r, c)]\n",
    "        \n",
    "        helper(0, 0)\n",
    "        return maxSquare * maxSquare\n",
    "\n",
    "\n",
    "sol = Solution()\n",
    "print(sol.maximalSquare([[\"1\",\"0\",\"1\",\"0\",\"0\"],[\"1\",\"0\",\"1\",\"1\",\"1\"],[\"1\",\"1\",\"1\",\"1\",\"1\"],[\"1\",\"0\",\"0\",\"1\",\"0\"]])) #4\n",
    "print(sol.maximalSquare([[\"0\",\"1\"],[\"1\",\"0\"]])) #1\n",
    "print(sol.maximalSquare([[\"0\"]])) #0\n",
    "print(sol.maximalSquare([[\"0\",\"0\",\"0\",\"0\",\"0\"],[\"0\",\"0\",\"0\",\"0\",\"0\"],[\"0\",\"0\",\"0\",\"0\",\"1\"],[\"0\",\"0\",\"0\",\"0\",\"0\"]])) #1"
   ]
  },
  {
   "attachments": {},
   "cell_type": "markdown",
   "metadata": {},
   "source": [
    "#### Hard"
   ]
  },
  {
   "attachments": {},
   "cell_type": "markdown",
   "metadata": {},
   "source": [
    "##### 329.Longest Increasing Path in a Matrix"
   ]
  },
  {
   "cell_type": "code",
   "execution_count": 54,
   "metadata": {},
   "outputs": [
    {
     "name": "stdout",
     "output_type": "stream",
     "text": [
      "4\n",
      "4\n",
      "1\n"
     ]
    }
   ],
   "source": [
    "class Solution:\n",
    "    def longestIncreasingPath(self, matrix: List[List[int]]) -> int:\n",
    "        ROWS = len(matrix)\n",
    "        COLS = len(matrix[0])\n",
    "        LIP = {}\n",
    "\n",
    "        dirs = [(-1, 0), (0, -1), (1, 0), (0, 1)]\n",
    "        max_path = 0\n",
    "\n",
    "        def dfs(r, c, prevVal):\n",
    "            nonlocal max_path\n",
    "            if (not (0 <= r < ROWS)\n",
    "            or not(0 <= c < COLS)\n",
    "            or matrix[r][c] <= prevVal):\n",
    "                return 0\n",
    "\n",
    "            if (r, c) in LIP:\n",
    "                return LIP[(r, c)]\n",
    "            \n",
    "            max_val = 1\n",
    "            for x, y in dirs:\n",
    "                max_val = max(max_val, dfs(r + x, c + y, matrix[r][c]))\n",
    "            \n",
    "            LIP[(r, c)] = 1 + max_val\n",
    "            max_path = max(max_path, max_val)\n",
    "            return LIP[(r, c)]\n",
    "\n",
    "        for r in range(ROWS):\n",
    "            for c in range(COLS):\n",
    "                dfs(r, c, -1)\n",
    "        return max_path\n",
    "\n",
    "sol = Solution()\n",
    "print(sol.longestIncreasingPath([[9,9,4],[6,6,8],[2,1,1]])) #4\n",
    "print(sol.longestIncreasingPath([[3,4,5],[3,2,6],[2,2,1]])) #4\n",
    "print(sol.longestIncreasingPath([[1]])) #1\n"
   ]
  },
  {
   "attachments": {},
   "cell_type": "markdown",
   "metadata": {},
   "source": [
    "##### 115.Distinct Subsequences"
   ]
  },
  {
   "cell_type": "code",
   "execution_count": 59,
   "metadata": {},
   "outputs": [
    {
     "name": "stdout",
     "output_type": "stream",
     "text": [
      "3\n",
      "5\n"
     ]
    }
   ],
   "source": [
    "class Solution:\n",
    "    # Recursion DP top down\n",
    "    def numDistinct1(self, s: str, t: str) -> int:\n",
    "        cache = {}\n",
    "\n",
    "        for i in range(len(s) + 1):\n",
    "            cache[(i, len(t))] = 1\n",
    "        for j in range(len(t)):\n",
    "            cache[(len(s), j)] = 0\n",
    "\n",
    "        for i in range(len(s) - 1, -1, -1):\n",
    "            for j in range(len(t) - 1, -1, -1):\n",
    "                if s[i] == t[j]:\n",
    "                    cache[(i, j)] = cache[(i + 1, j + 1)] + cache[(i + 1, j)]\n",
    "                else:\n",
    "                    cache[(i, j)] = cache[(i + 1, j)]\n",
    "        return cache[(0, 0)]\n",
    "\n",
    "    # DP bottom up\n",
    "    def numDistinct(self, s: str, t: str) -> int:\n",
    "        if len(t) > len(s):\n",
    "            return 0\n",
    "\n",
    "        prev = [0 for _ in range(len(t) + 1)]\n",
    "        prev[len(t)] = 1\n",
    "\n",
    "        for i in range(len(s) - 1, -1, -1):\n",
    "            curr = [0 for _ in range(len(t) + 1)]\n",
    "            curr[len(t)] = 1\n",
    "\n",
    "            for j in range(len(t) - 1, -1, -1):\n",
    "                curr[j] = prev[j]\n",
    "                if s[i] == t[j]:\n",
    "                    curr[j] += prev[j + 1]\n",
    "                \n",
    "            prev = curr\n",
    "\n",
    "        return prev[0]\n",
    "\n",
    "\n",
    "sol = Solution()\n",
    "print(sol.numDistinct(\"rabbbit\", \"rabbit\")) #3\n",
    "print(sol.numDistinct(\"babgbag\", \"bag\")) #5"
   ]
  },
  {
   "attachments": {},
   "cell_type": "markdown",
   "metadata": {},
   "source": [
    "##### 72.Edit Distance"
   ]
  },
  {
   "cell_type": "code",
   "execution_count": 63,
   "metadata": {},
   "outputs": [
    {
     "name": "stdout",
     "output_type": "stream",
     "text": [
      "3\n",
      "5\n"
     ]
    }
   ],
   "source": [
    "class Solution:\n",
    "    def minDistance(self, word1: str, word2: str) -> int:\n",
    "        prev = [i for i in range(len(word2) + 1)[::-1]]\n",
    "\n",
    "        for i in range(len(word1) - 1, -1, -1):\n",
    "            curr = [0 for _ in range(len(word2) + 1)]\n",
    "            curr[len(word2)] = len(word1) - i\n",
    "\n",
    "            for j in range(len(word2) -1, -1, -1):\n",
    "                if word1[i] == word2[j]:\n",
    "                    curr[j] = prev[j + 1]\n",
    "                else:\n",
    "                    curr[j] = 1 + min(\n",
    "                        prev[j + 1], #replace\n",
    "                        prev[j], #delete\n",
    "                        curr[j + 1] #insert\n",
    "                    )\n",
    "\n",
    "            prev = curr\n",
    "\n",
    "        return prev[0]\n",
    "\n",
    "sol = Solution()\n",
    "print(sol.minDistance(\"horse\", \"ros\")) #3\n",
    "print(sol.minDistance(\"intention\", \"execution\")) #5"
   ]
  },
  {
   "attachments": {},
   "cell_type": "markdown",
   "metadata": {},
   "source": [
    "##### 312.Burst Balloons"
   ]
  },
  {
   "cell_type": "code",
   "execution_count": 65,
   "metadata": {},
   "outputs": [
    {
     "name": "stdout",
     "output_type": "stream",
     "text": [
      "167\n",
      "10\n"
     ]
    }
   ],
   "source": [
    "class Solution:\n",
    "    # TIME out\n",
    "    def maxCoins1(self, nums: List[int]) -> int:\n",
    "        nums = [1] + nums + [1]\n",
    "\n",
    "        cache = {}\n",
    "\n",
    "        def dfs(l,r):\n",
    "            if l > r: return 0\n",
    "            if (l, r) in cache: return cache[(l, r)]\n",
    "\n",
    "            cache[(l, r)] = 0\n",
    "\n",
    "            for i in range(l, r + 1):\n",
    "                coins = nums[l - 1] * nums[i] * nums[r + 1]\n",
    "                coins += dfs(l, i-1) + dfs(i + 1, r)\n",
    "                cache[(l, r)] = max(cache[(l, r)], coins)\n",
    "\n",
    "            return cache[(l, r)]\n",
    "\n",
    "        return dfs(1, len(nums) - 2)\n",
    "\n",
    "    def maxCoins(self, nums: List[int]) -> int:\n",
    "        cache = {}\n",
    "        nums = [1] + nums + [1]\n",
    "\n",
    "        for offset in range(2, len(nums)):\n",
    "            for left in range(len(nums) - offset):\n",
    "                right = left + offset\n",
    "                for pivot in range(left + 1, right):\n",
    "                    coins = nums[left] * nums[pivot] * nums[right]\n",
    "                    coins += cache.get((left, pivot), 0) + cache.get((pivot, right), 0)\n",
    "                    cache[(left, right)] = max(coins, cache.get((left, right), 0))\n",
    "        return cache.get((0, len(nums) - 1), 0)\n",
    "\n",
    "sol = Solution()\n",
    "print(sol.maxCoins([3,1,5,8])) #167\n",
    "print(sol.maxCoins([1,5])) #10"
   ]
  },
  {
   "attachments": {},
   "cell_type": "markdown",
   "metadata": {},
   "source": [
    "##### 10.Regular Expression Matching"
   ]
  },
  {
   "cell_type": "code",
   "execution_count": 66,
   "metadata": {},
   "outputs": [
    {
     "name": "stdout",
     "output_type": "stream",
     "text": [
      "False\n",
      "True\n",
      "True\n"
     ]
    }
   ],
   "source": [
    "class Solution:\n",
    "    # Top-down Memoization\n",
    "    def isMatch(self, s: str, p: str) -> bool:\n",
    "        cache = {}\n",
    "\n",
    "        def dfs(i, j):\n",
    "            if (i, j) in cache:\n",
    "                return cache[(i, j)]\n",
    "\n",
    "            if i >= len(s) and j >= len(p):\n",
    "                return True\n",
    "            if j >= len(p):\n",
    "                return False\n",
    "\n",
    "            char_match = i < len(s) and (s[i] == p[j] or p[j] == '.')\n",
    "\n",
    "            # check whether the next char is a star and choose how to handle\n",
    "            if j + 1 < len(p) and p[j + 1] == '*':\n",
    "                cache[(i, j)] = (dfs(i, j + 2) # avoid *; skip the char and star hence j + 2\n",
    "                                or  char_match and dfs(i + 1, j)) # use *; stay at char to check next time as well\n",
    "            elif char_match:\n",
    "                cache[(i, j)] = dfs(i + 1, j + 1)\n",
    "            else:\n",
    "                cache[(i, j)] = False\n",
    "\n",
    "            return cache[(i,j)]\n",
    "\n",
    "        return dfs(0, 0)\n",
    "sol = Solution()\n",
    "print(sol.isMatch(\"aa\", \"a\")) #false\n",
    "print(sol.isMatch(\"aa\", \"a*\")) #true\n",
    "print(sol.isMatch(\"ab\", \".*\")) #true"
   ]
  },
  {
   "attachments": {},
   "cell_type": "markdown",
   "metadata": {},
   "source": [
    "### Greedy"
   ]
  },
  {
   "cell_type": "markdown",
   "metadata": {},
   "source": [
    "#### Easy"
   ]
  },
  {
   "cell_type": "markdown",
   "metadata": {},
   "source": [
    "##### 2078.Two Furthest Houses With Different Colors"
   ]
  },
  {
   "cell_type": "code",
   "execution_count": 140,
   "metadata": {},
   "outputs": [
    {
     "name": "stdout",
     "output_type": "stream",
     "text": [
      "3\n",
      "4\n",
      "1\n"
     ]
    }
   ],
   "source": [
    "class Solution:\n",
    "    def maxDistance_(self, colors: List[int]) -> int:\n",
    "        p, res = float('inf'), 0\n",
    "        for i, c in enumerate(colors):\n",
    "            if (c != colors[0]):\n",
    "                res = i\n",
    "                p = min(p, i)\n",
    "            else:\n",
    "                res = max(res, i - p)\n",
    "        return res\n",
    "\n",
    "    def maxDistance(self, colors: List[int]) -> int:\n",
    "        col_len = len(colors)\n",
    "        i, j = 0, col_len - 1\n",
    "\n",
    "        # first house from last different than first house\n",
    "        while colors[0] == colors[j]:\n",
    "            j -= 1\n",
    "\n",
    "        # last house from first different than last house\n",
    "        while colors[col_len - 1] == colors[i]:\n",
    "            i += 1\n",
    "        \n",
    "        return max(j , col_len - i - 1)\n",
    "\n",
    "sol = Solution()\n",
    "print(sol.maxDistance([1,1,1,6,1,1,1])) #3\n",
    "print(sol.maxDistance([1,8,3,8,3])) #4\n",
    "print(sol.maxDistance([0,1])) #1"
   ]
  },
  {
   "attachments": {},
   "cell_type": "markdown",
   "metadata": {},
   "source": [
    "#### Medium"
   ]
  },
  {
   "attachments": {},
   "cell_type": "markdown",
   "metadata": {},
   "source": [
    "##### 53.Maximum Subarray"
   ]
  },
  {
   "cell_type": "code",
   "execution_count": 6,
   "metadata": {},
   "outputs": [
    {
     "name": "stdout",
     "output_type": "stream",
     "text": [
      "6\n",
      "1\n",
      "23\n"
     ]
    }
   ],
   "source": [
    "class Solution:\n",
    "    def maxSubArray(self, nums: List[int]) -> int:\n",
    "        maxsum = nums[0]\n",
    "        currsum = 0\n",
    "        for n in nums:\n",
    "            if currsum < 0:\n",
    "                currsum = 0\n",
    "            \n",
    "            currsum +=n\n",
    "            maxsum = max(maxsum, currsum)\n",
    "        \n",
    "        return maxsum\n",
    "\n",
    "sol = Solution()\n",
    "\n",
    "print(sol.maxSubArray([-2,1,-3,4,-1,2,1,-5,4])) #6\n",
    "print(sol.maxSubArray([1])) #1\n",
    "print(sol.maxSubArray([5,4,-1,7,8])) #23"
   ]
  },
  {
   "attachments": {},
   "cell_type": "markdown",
   "metadata": {},
   "source": [
    "##### 55.Jump Game"
   ]
  },
  {
   "cell_type": "code",
   "execution_count": 23,
   "metadata": {},
   "outputs": [
    {
     "name": "stdout",
     "output_type": "stream",
     "text": [
      "True\n",
      "False\n",
      "True\n"
     ]
    }
   ],
   "source": [
    "class Solution:\n",
    "    def canJump(self, nums: List[int]) -> bool:\n",
    "        goal = len(nums) - 1\n",
    "        for i in range(len(nums) - 1, -1, -1):\n",
    "            if i + nums[i] >= goal:\n",
    "                goal = i\n",
    "\n",
    "        return goal == 0\n",
    "\n",
    "sol = Solution()\n",
    "print(sol.canJump([2,3,1,1,4]))\n",
    "print(sol.canJump([3,2,1,0,4]))\n",
    "print(sol.canJump([0]))"
   ]
  },
  {
   "attachments": {},
   "cell_type": "markdown",
   "metadata": {},
   "source": [
    "##### 45.Jump Game II"
   ]
  },
  {
   "cell_type": "code",
   "execution_count": null,
   "metadata": {},
   "outputs": [],
   "source": [
    "class Solution:\n",
    "    def jump(self, nums: List[int]) -> int:\n",
    "        l = r = 0\n",
    "        res = 0\n",
    "        \n",
    "        while r < len(nums) - 1:\n",
    "            max_jump = 0\n",
    "            for i in range(l, r + 1):\n",
    "                max_jump = max(max_jump, i + nums[i])\n",
    "            \n",
    "            l = r + 1\n",
    "            r = max_jump\n",
    "            res += 1\n",
    "\n",
    "        return res\n",
    "\n",
    "sol = Solution()\n",
    "print(sol.jump([2,3,1,1,4])) #2\n",
    "print(sol.jump([2,3,0,1,4])) #2"
   ]
  },
  {
   "attachments": {},
   "cell_type": "markdown",
   "metadata": {},
   "source": [
    "##### 134.Gas Station"
   ]
  },
  {
   "cell_type": "code",
   "execution_count": 75,
   "metadata": {},
   "outputs": [
    {
     "name": "stdout",
     "output_type": "stream",
     "text": [
      "3\n",
      "-1\n"
     ]
    }
   ],
   "source": [
    "class Solution:\n",
    "    #Greedy\n",
    "    def canCompleteCircuit(self, gas: List[int], cost: List[int]) -> int:\n",
    "        if sum(gas) < sum(cost): return -1\n",
    "\n",
    "        run_cost = 0\n",
    "        pos = 0\n",
    "\n",
    "        for i in range(len(cost)):\n",
    "            run_cost += (gas[i] - cost[i])\n",
    "\n",
    "            if run_cost < 0:\n",
    "                run_cost = 0\n",
    "                pos = i + 1\n",
    "\n",
    "        return pos \n",
    "\n",
    "    # two pointer\n",
    "    def canCompleteCircuit(self, gas: List[int], cost: List[int]) -> int:\n",
    "        start, end = len(gas) - 1, 0\n",
    "        total = gas[start] - cost[start]\n",
    "\n",
    "        while start >= end:\n",
    "            while total < 0 and start >= end:\n",
    "                start -= 1\n",
    "                total += gas[start] - cost[start]\n",
    "            if start == end:\n",
    "                return start\n",
    "            total += gas[end] - cost[end]\n",
    "            end += 1\n",
    "        return -1\n",
    "\n",
    "sol = Solution()\n",
    "print(sol.canCompleteCircuit([1,2,3,4,5], [3,4,5,1,2])) #3\n",
    "print(sol.canCompleteCircuit([2,3,4], [3,4,3])) #-1"
   ]
  },
  {
   "attachments": {},
   "cell_type": "markdown",
   "metadata": {},
   "source": [
    "##### 846.Hand of Straights"
   ]
  },
  {
   "cell_type": "code",
   "execution_count": 80,
   "metadata": {},
   "outputs": [
    {
     "name": "stdout",
     "output_type": "stream",
     "text": [
      "True\n",
      "False\n"
     ]
    }
   ],
   "source": [
    "class Solution:\n",
    "    def isNStraightHand(self, hand: List[int], groupSize: int) -> bool:\n",
    "        if len(hand) % groupSize:\n",
    "            return False\n",
    "\n",
    "        count_map = defaultdict(int)\n",
    "        for val in hand:\n",
    "            count_map[val] += 1\n",
    "\n",
    "        \n",
    "        minHeap = list(count_map.keys()) \n",
    "        heapq.heapify(minHeap)\n",
    "        \n",
    "        while minHeap:\n",
    "            start = minHeap[0]\n",
    "\n",
    "            for i in range(start, start + groupSize):\n",
    "                if i not in count_map: \n",
    "                    return False\n",
    "                count_map[i] -= 1\n",
    "                if count_map[i] == 0:\n",
    "                    if i != minHeap[0]: \n",
    "                        return False\n",
    "                    heapq.heappop(minHeap)\n",
    "\n",
    "        return True\n",
    "\n",
    "sol = Solution()\n",
    "print(sol.isNStraightHand([1,2,3,6,2,3,4,7,8], 3)) #True\n",
    "print(sol.isNStraightHand([1,2,3,4,5], 4)) #False"
   ]
  },
  {
   "attachments": {},
   "cell_type": "markdown",
   "metadata": {},
   "source": [
    "##### 1899.Merge Triplets to Form Target Triplet"
   ]
  },
  {
   "cell_type": "code",
   "execution_count": 81,
   "metadata": {},
   "outputs": [
    {
     "name": "stdout",
     "output_type": "stream",
     "text": [
      "True\n",
      "False\n",
      "True\n"
     ]
    }
   ],
   "source": [
    "class Solution:\n",
    "    def mergeTriplets(self, triplets: List[List[int]], target: List[int]) -> bool:\n",
    "        valid = set()\n",
    "\n",
    "        for trip in triplets:\n",
    "            if (trip[0] > target[0]\n",
    "                or trip[1] > target[1]\n",
    "                or trip[2] > target[2]\n",
    "                ): continue\n",
    "            \n",
    "            for i in range(len(trip)):\n",
    "                if trip[i] == target[i]:\n",
    "                    valid.add(i)\n",
    "\n",
    "        return len(valid) == 3\n",
    "\n",
    "sol = Solution()\n",
    "print(sol.mergeTriplets([[2,5,3],[1,8,4],[1,7,5]], [2,7,5])) #True\n",
    "print(sol.mergeTriplets([[3,4,5],[4,5,6]], [3,2,5])) #False\n",
    "print(sol.mergeTriplets([[2,5,3],[2,3,4],[1,2,5],[5,2,3]], [5,5,5])) #True "
   ]
  },
  {
   "attachments": {},
   "cell_type": "markdown",
   "metadata": {},
   "source": [
    "##### 763.Partition Labels"
   ]
  },
  {
   "cell_type": "code",
   "execution_count": 30,
   "metadata": {},
   "outputs": [
    {
     "name": "stdout",
     "output_type": "stream",
     "text": [
      "[9, 7, 8]\n",
      "[10]\n"
     ]
    }
   ],
   "source": [
    "class Solution:\n",
    "    def partitionLabels(self, s: str) -> List[int]:\n",
    "        count_map = defaultdict(int)\n",
    "\n",
    "        for ch in s:\n",
    "            count_map[ch] += 1\n",
    "\n",
    "        temp_set = set()\n",
    "        res = []\n",
    "        count = 0\n",
    "        for ch in s:\n",
    "            temp_set.add(ch)\n",
    "            count_map[ch] -= 1\n",
    "            count += 1\n",
    "\n",
    "            if count_map[ch] == 0:\n",
    "                temp_set.remove(ch)\n",
    "\n",
    "            if not len(temp_set):\n",
    "                res.append(count)\n",
    "                count = 0\n",
    "        \n",
    "        return res\n",
    "\n",
    "\n",
    "    def partitionLabels(self, s: str) -> List[int]:\n",
    "        pos_map = defaultdict(int)\n",
    "\n",
    "        for i in range(len(s)):\n",
    "            pos_map[s[i]] = max(pos_map[s[i]], i)\n",
    "\n",
    "        res = []\n",
    "        count = 0\n",
    "        end = 0\n",
    "        for i in range(len(s)):\n",
    "            end = max(end, pos_map[s[i]])\n",
    "            count += 1\n",
    "            if i == end:\n",
    "                res.append(count)\n",
    "                count = 0\n",
    "\n",
    "        return res\n",
    "\n",
    "\n",
    "\n",
    "sol = Solution()\n",
    "print(sol.partitionLabels(\"ababcbacadefegdehijhklij\")) #[9,7,8]\n",
    "print(sol.partitionLabels(\"eccbbbbdec\")) #[10]"
   ]
  },
  {
   "attachments": {},
   "cell_type": "markdown",
   "metadata": {},
   "source": [
    "##### 678.Valid Parenthesis String"
   ]
  },
  {
   "cell_type": "code",
   "execution_count": 85,
   "metadata": {},
   "outputs": [
    {
     "name": "stdout",
     "output_type": "stream",
     "text": [
      "True\n",
      "True\n",
      "True\n"
     ]
    }
   ],
   "source": [
    "class Solution:\n",
    "    def checkValidString(self, s: str) -> bool:\n",
    "        maxOpen, minOpen = 0,0\n",
    "\n",
    "        for ch in s:\n",
    "            if ch == \"(\":\n",
    "                maxOpen += 1\n",
    "                minOpen += 1\n",
    "            elif ch == \")\":\n",
    "                maxOpen -= 1\n",
    "                minOpen -= 1\n",
    "            else:\n",
    "                maxOpen += 1\n",
    "                minOpen -= 1\n",
    "\n",
    "            if maxOpen < 0:\n",
    "                return False\n",
    "\n",
    "            if minOpen < 0:\n",
    "                minOpen = 0\n",
    "\n",
    "        return minOpen == 0\n",
    "\n",
    "sol = Solution()\n",
    "print(sol.checkValidString(\"()\")) #True\n",
    "print(sol.checkValidString(\"(*)\")) #True\n",
    "print(sol.checkValidString(\"(*))\")) #True"
   ]
  },
  {
   "cell_type": "markdown",
   "metadata": {},
   "source": [
    "##### 1296.Divide Array in Sets of K Consecutive Numbers"
   ]
  },
  {
   "cell_type": "code",
   "execution_count": 29,
   "metadata": {},
   "outputs": [
    {
     "name": "stdout",
     "output_type": "stream",
     "text": [
      "True\n",
      "True\n",
      "False\n"
     ]
    }
   ],
   "source": [
    "import heapq\n",
    "class Solution:\n",
    "    def isPossibleDivide(self, nums: List[int], k: int) -> bool:\n",
    "        if len(nums) % k != 0:\n",
    "            return False\n",
    "        \n",
    "        cnt_map = defaultdict(int)\n",
    "        for num in nums:\n",
    "            cnt_map[num] += 1\n",
    "\n",
    "        minHeap = list(cnt_map.keys())\n",
    "        heapq.heapify(minHeap)\n",
    "\n",
    "        while minHeap:\n",
    "            start = minHeap[0]\n",
    "            \n",
    "            for num in range(start, start + k):\n",
    "                if num not in cnt_map:\n",
    "                    return False\n",
    "                \n",
    "                cnt_map[num] -= 1\n",
    "                if cnt_map[num] == 0:\n",
    "                    if num != minHeap[0]:\n",
    "                        return False\n",
    "                    heapq.heappop(minHeap)\n",
    "\n",
    "        return True\n",
    "\n",
    "\n",
    "sol = Solution()\n",
    "print(sol.isPossibleDivide(nums = [1,2,3,3,4,4,5,6], k = 4)) #True\n",
    "print(sol.isPossibleDivide(nums = [3,2,1,2,3,4,3,4,5,9,10,11], k = 3)) #True\n",
    "print(sol.isPossibleDivide(nums = [1,2,3,4], k = 3)) #False"
   ]
  },
  {
   "cell_type": "markdown",
   "metadata": {},
   "source": [
    "##### 1727.Largest Submatrix With Rearrangements"
   ]
  },
  {
   "cell_type": "code",
   "execution_count": 4,
   "metadata": {},
   "outputs": [
    {
     "name": "stdout",
     "output_type": "stream",
     "text": [
      "4\n",
      "3\n",
      "2\n"
     ]
    }
   ],
   "source": [
    "class Solution:\n",
    "    def largestSubmatrix(self, matrix: List[List[int]]) -> int:\n",
    "        ROWS = len(matrix)\n",
    "        COLS = len(matrix[0])\n",
    "        \n",
    "        res = 0\n",
    "        for r in range(1, ROWS):\n",
    "            for c in range(COLS):\n",
    "                matrix[r][c] += matrix[r-1][c] if matrix[r][c] else 0\n",
    "\n",
    "        for r in range(ROWS):\n",
    "            matrix[r].sort(reverse=True)\n",
    "            for c in range(COLS):\n",
    "                res = max(res, (c + 1) * matrix[r][c])\n",
    "        return res                \n",
    "    \n",
    "sol = Solution()\n",
    "print(sol.largestSubmatrix([[0,0,1],[1,1,1],[1,0,1]])) #4\n",
    "print(sol.largestSubmatrix([[1,0,1,0,1]])) #3\n",
    "print(sol.largestSubmatrix([[1,1,0],[1,0,1]])) #2"
   ]
  },
  {
   "cell_type": "markdown",
   "metadata": {},
   "source": [
    "##### 2952.Minimum Number of Coins to be Added"
   ]
  },
  {
   "cell_type": "code",
   "execution_count": 24,
   "metadata": {},
   "outputs": [
    {
     "name": "stdout",
     "output_type": "stream",
     "text": [
      "2\n",
      "1\n",
      "3\n"
     ]
    }
   ],
   "source": [
    "class Solution:\n",
    "    def minimumAddedCoins(self, coins: List[int], target: int) -> int:\n",
    "        coins.sort()\n",
    "        curr_max = 0\n",
    "        res = 0\n",
    "        idx = 0\n",
    "\n",
    "        while curr_max < target:\n",
    "            if idx < len(coins) and coins[idx] <= curr_max + 1:\n",
    "                curr_max += coins[idx]\n",
    "                idx += 1\n",
    "            else:\n",
    "                curr_max += curr_max + 1\n",
    "                res += 1\n",
    "\n",
    "        return res\n",
    "\n",
    "sol = Solution()\n",
    "print(sol.minimumAddedCoins(coins = [1,4,10], target = 19)) #2\n",
    "print(sol.minimumAddedCoins(coins = [1,4,10,5,7,19], target = 19)) #1\n",
    "print(sol.minimumAddedCoins(coins = [1,1,1], target = 20)) #3"
   ]
  },
  {
   "cell_type": "markdown",
   "metadata": {},
   "source": [
    "##### 1578.Minimum Time to Make Rope Colorful"
   ]
  },
  {
   "cell_type": "code",
   "execution_count": 6,
   "metadata": {},
   "outputs": [
    {
     "name": "stdout",
     "output_type": "stream",
     "text": [
      "3\n",
      "0\n",
      "2\n"
     ]
    }
   ],
   "source": [
    "class Solution:\n",
    "    def minCost(self, colors: str, neededTime: List[int]) -> int:\n",
    "        res, curr = 0, 0\n",
    "\n",
    "        for i in range(len(colors)):\n",
    "            if i > 0 and colors[i] != colors[i - 1]:\n",
    "                curr = 0\n",
    "\n",
    "            res += min(curr, neededTime[i])\n",
    "            curr = max(curr, neededTime[i])\n",
    "\n",
    "        return res\n",
    "\n",
    "sol = Solution()\n",
    "print(sol.minCost(colors = \"abaac\", neededTime = [1,2,3,4,5])) #3\n",
    "print(sol.minCost(colors = \"abc\", neededTime = [1,2,3])) #0\n",
    "print(sol.minCost(colors = \"aabaa\", neededTime = [1,2,3,4,1])) #2"
   ]
  },
  {
   "cell_type": "markdown",
   "metadata": {},
   "source": [
    "#### Hard"
   ]
  },
  {
   "cell_type": "markdown",
   "metadata": {},
   "source": [
    "##### 2136.Earliest Possible Day of Full Bloom"
   ]
  },
  {
   "cell_type": "code",
   "execution_count": 143,
   "metadata": {},
   "outputs": [
    {
     "name": "stdout",
     "output_type": "stream",
     "text": [
      "9\n",
      "9\n",
      "2\n"
     ]
    }
   ],
   "source": [
    "from functools import cmp_to_key\n",
    "class Solution:\n",
    "    def earliestFullBloom_(self, plantTime: List[int], growTime: List[int]) -> int:\n",
    "        def compare(a, b):\n",
    "            p1, g1 = a\n",
    "            p2, g2 = b\n",
    "\n",
    "            return p1 + max(p2 + g2, g1) - p2 + max(p1 + g1, g2)\n",
    "\n",
    "        pg_list = list(zip(plantTime, growTime))\n",
    "        pg_list.sort(key = cmp_to_key(compare))\n",
    "\n",
    "        res = 0\n",
    "        curr_time = 0\n",
    "        for p, g in pg_list:\n",
    "            res = max(res, p + g + curr_time)\n",
    "            curr_time += p #once the planting is done we acn move to next plant\n",
    "\n",
    "        return res\n",
    "    \n",
    "    def earliestFullBloom(self, plantTime: List[int], growTime: List[int]) -> int:\n",
    "        pg_list = list(zip(plantTime, growTime))\n",
    "        pg_list.sort(key = lambda x:(-x[1],x[0]))\n",
    "\n",
    "        res = 0\n",
    "        curr_time = 0\n",
    "        for p, g in pg_list:\n",
    "            res = max(res, p + g + curr_time)\n",
    "            curr_time += p #once the planting is done we acn move to next plant\n",
    "\n",
    "        return res\n",
    "\n",
    "\n",
    "sol = Solution()\n",
    "print(sol.earliestFullBloom(plantTime = [1,4,3], growTime = [2,3,1])) #9\n",
    "print(sol.earliestFullBloom(plantTime = [1,2,3,2], growTime = [2,1,2,1])) #9\n",
    "print(sol.earliestFullBloom(plantTime = [1], growTime = [1])) #2"
   ]
  },
  {
   "attachments": {},
   "cell_type": "markdown",
   "metadata": {},
   "source": [
    "#### Extra"
   ]
  },
  {
   "attachments": {},
   "cell_type": "markdown",
   "metadata": {},
   "source": [
    "##### 1029.Two City Scheduling"
   ]
  },
  {
   "cell_type": "code",
   "execution_count": 34,
   "metadata": {},
   "outputs": [
    {
     "name": "stdout",
     "output_type": "stream",
     "text": [
      "110\n",
      "1859\n",
      "3086\n"
     ]
    }
   ],
   "source": [
    "class Solution:\n",
    "    #O(n^2)\n",
    "    def twoCitySchedCost2(self, cost: List[List[int]]) -> int:\n",
    "        n = len(cost) // 2\n",
    "        dp = [[0 for _ in range(n + 1)] for _ in range(n + 1)]\n",
    "        for i in range(1, n + 1):\n",
    "            dp[i][0] = dp[i - 1][0] + cost[i - 1][0]\n",
    "        for i in range(1, n+1):\n",
    "            dp[0][i] = dp[0][i - 1] + cost[i - 1][1]\n",
    "        for i in range(1, n + 1):\n",
    "            for j in range(1, n + 1):\n",
    "                dp[i][j] = min(dp[i - 1][j] + cost[i + j - 1][0], dp[i][j - 1] + cost[i + j - 1][1])\n",
    "        return dp[-1][-1]\n",
    "    \n",
    "    # O(nlogn) for sort\n",
    "    def twoCitySchedCost(self, costs: List[List[int]]) -> int:\n",
    "        diffs = []\n",
    "        \n",
    "        for a, b in costs:\n",
    "            diffs.append([b - a, a, b])\n",
    "\n",
    "        diffs.sort()\n",
    "        res = 0\n",
    "        diff_len = len(diffs)\n",
    "        for i in range(diff_len):\n",
    "            if i < diff_len//2:\n",
    "                res += diffs[i][2]\n",
    "            else:\n",
    "                res += diffs[i][1]\n",
    "\n",
    "        return res\n",
    "\n",
    "\n",
    "sol = Solution()\n",
    "print(sol.twoCitySchedCost([[10,20],[30,200],[400,50],[30,20]])) #110\n",
    "print(sol.twoCitySchedCost([[259,770],[448,54],[926,667],[184,139],[840,118],[577,469]])) #1859\n",
    "print(sol.twoCitySchedCost([[515,563],[451,713],[537,709],[343,819],[855,779],[457,60],[650,359],[631,42]])) #3086"
   ]
  },
  {
   "attachments": {},
   "cell_type": "markdown",
   "metadata": {},
   "source": [
    "### Intervals"
   ]
  },
  {
   "attachments": {},
   "cell_type": "markdown",
   "metadata": {},
   "source": [
    "#### Easy"
   ]
  },
  {
   "attachments": {},
   "cell_type": "markdown",
   "metadata": {},
   "source": [
    "##### 920.Meeting Rooms"
   ]
  },
  {
   "cell_type": "code",
   "execution_count": 25,
   "metadata": {},
   "outputs": [
    {
     "name": "stdout",
     "output_type": "stream",
     "text": [
      "False\n",
      "True\n"
     ]
    }
   ],
   "source": [
    "class Interval(object):\n",
    "    def __init__(self, start, end):\n",
    "        self.start = start\n",
    "        self.end = end\n",
    "\n",
    "class Solution:\n",
    "    def createList(self, intervals: List[tuple[int]]) -> List[Interval]:\n",
    "        res = []\n",
    "        for i, j in intervals:\n",
    "            res.append(Interval(i, j))\n",
    "        return res\n",
    "\n",
    "    def can_attend_meetings(self, intervals: List[tuple[int]]) -> bool:\n",
    "        intervals = self.createList(intervals)\n",
    "        intervals.sort(key = lambda i: i.start)\n",
    "\n",
    "        for i in range(1, len(intervals)):\n",
    "            prev, curr = intervals[i - 1], intervals[i]\n",
    "\n",
    "            if prev.end > curr.start:\n",
    "                return False\n",
    "            \n",
    "        return True\n",
    "        \n",
    "\n",
    "sol = Solution()\n",
    "print(sol.can_attend_meetings([(0,30),(5,10),(15,20)])) #False\n",
    "print(sol.can_attend_meetings([(5,8),(9,15)])) #True"
   ]
  },
  {
   "attachments": {},
   "cell_type": "markdown",
   "metadata": {},
   "source": [
    "#### Medium"
   ]
  },
  {
   "attachments": {},
   "cell_type": "markdown",
   "metadata": {},
   "source": [
    "##### 57.Insert Interval"
   ]
  },
  {
   "cell_type": "code",
   "execution_count": 5,
   "metadata": {},
   "outputs": [
    {
     "name": "stdout",
     "output_type": "stream",
     "text": [
      "[[1, 5], [6, 9]]\n",
      "[[1, 2], [3, 10], [12, 16]]\n"
     ]
    }
   ],
   "source": [
    "class Solution:\n",
    "    def insert(self, intervals: List[List[int]], newInterval: List[int]) -> List[List[int]]:\n",
    "        res = []\n",
    "\n",
    "        for i in range(len(intervals)):\n",
    "            if newInterval[1] < intervals[i][0]:\n",
    "                res.append(newInterval)\n",
    "                return res + intervals[i:]\n",
    "            elif newInterval[0] > intervals[i][1]:\n",
    "                res.append(intervals[i])\n",
    "            # elif newInterval[0] <= intervals[i][0] or newInterval[1] >= intervals[i][1]:\n",
    "            else:\n",
    "                newInterval[0] = min(newInterval[0], intervals[i][0])\n",
    "                newInterval[1] = max(newInterval[1], intervals[i][1])\n",
    "                \n",
    "        return res.append(newInterval)\n",
    "\n",
    "sol = Solution()\n",
    "print(sol.insert([[1,3],[6,9]], [2,5]))\n",
    "print(sol.insert([[1,2],[3,5],[6,7],[8,10],[12,16]], [4,8]))"
   ]
  },
  {
   "attachments": {},
   "cell_type": "markdown",
   "metadata": {},
   "source": [
    "##### 56.Merge Intervals"
   ]
  },
  {
   "cell_type": "code",
   "execution_count": 32,
   "metadata": {},
   "outputs": [
    {
     "name": "stdout",
     "output_type": "stream",
     "text": [
      "[[1, 6], [8, 10], [15, 18]]\n",
      "[[1, 5]]\n",
      "[[0, 4]]\n"
     ]
    }
   ],
   "source": [
    "class Solution:\n",
    "    def merge(self, intervals: List[List[int]]) -> List[List[int]]:\n",
    "        if not intervals:\n",
    "            return []\n",
    "\n",
    "        intervals.sort(key= lambda k: k[0])\n",
    "        res = [intervals[0]]\n",
    "\n",
    "        for start, end in intervals:\n",
    "            prev_end = res[-1][1]\n",
    "\n",
    "            if start <= prev_end:\n",
    "                # merge\n",
    "                res[-1][1] = max(prev_end, end)\n",
    "            else:\n",
    "                res.append([start, end])\n",
    "        return res\n",
    "\n",
    "        \n",
    "\n",
    "sol = Solution()\n",
    "print(sol.merge([[1,3],[2,6],[8,10],[15,18]]))\n",
    "print(sol.merge([[1,4],[4,5]]))\n",
    "print(sol.merge([[1,4],[0,4]]))"
   ]
  },
  {
   "attachments": {},
   "cell_type": "markdown",
   "metadata": {},
   "source": [
    "##### 435.Non-overlapping Intervals"
   ]
  },
  {
   "cell_type": "code",
   "execution_count": 10,
   "metadata": {},
   "outputs": [
    {
     "name": "stdout",
     "output_type": "stream",
     "text": [
      "1\n",
      "2\n",
      "0\n"
     ]
    }
   ],
   "source": [
    "class Solution:\n",
    "    def eraseOverlapIntervals(self, intervals: List[List[int]]) -> int:\n",
    "        if not intervals:\n",
    "            return 0\n",
    "        \n",
    "        intervals.sort()\n",
    "        res = 0\n",
    "        prev_end = intervals[0][1]\n",
    "        for i in range(1, len(intervals)):\n",
    "            if intervals[i][0] >= prev_end:\n",
    "                prev_end = intervals[i][1]\n",
    "            else:\n",
    "                res += 1\n",
    "                prev_end = min(prev_end, intervals[i][1])\n",
    "\n",
    "        return res\n",
    "            \n",
    "\n",
    "sol = Solution()\n",
    "print(sol.eraseOverlapIntervals([[1,2],[2,3],[3,4],[1,3]])) #1\n",
    "print(sol.eraseOverlapIntervals([[1,2],[1,2],[1,2]])) #2\n",
    "print(sol.eraseOverlapIntervals([[1,2],[2,3]])) #0"
   ]
  },
  {
   "attachments": {},
   "cell_type": "markdown",
   "metadata": {},
   "source": [
    "##### 919.Meeting Rooms II"
   ]
  },
  {
   "cell_type": "code",
   "execution_count": 26,
   "metadata": {},
   "outputs": [
    {
     "name": "stdout",
     "output_type": "stream",
     "text": [
      "2\n",
      "1\n"
     ]
    }
   ],
   "source": [
    "class Interval(object):\n",
    "    def __init__(self, start, end):\n",
    "        self.start = start\n",
    "        self.end = end\n",
    "\n",
    "class Solution:\n",
    "    def createList(self, intervals: List[tuple[int]]) -> List[Interval]:\n",
    "        res = []\n",
    "        for i, j in intervals:\n",
    "            res.append(Interval(i, j))\n",
    "        return res\n",
    "\n",
    "    def min_meeting_rooms(self, intervals: List[tuple[int]]) -> int:\n",
    "        intervals = self.createList(intervals)\n",
    "\n",
    "        if not intervals:\n",
    "            return 0\n",
    "        \n",
    "        starts = sorted([i.start for i in intervals])\n",
    "        ends = sorted([i.end for i in intervals])\n",
    "\n",
    "        res = 0\n",
    "        curr_rooms = 0\n",
    "\n",
    "        s, e = 0, 0\n",
    "\n",
    "        while s < len(intervals):\n",
    "            if starts[s] < ends[e]:\n",
    "                curr_rooms += 1\n",
    "                s += 1\n",
    "            else:\n",
    "                curr_rooms -= 1\n",
    "                e += 1\n",
    "\n",
    "            res = max(res, curr_rooms)\n",
    "\n",
    "        return res\n",
    "\n",
    "\n",
    "sol = Solution()\n",
    "print(sol.min_meeting_rooms([(0,30),(5,10),(15,20)]))#2\n",
    "print(sol.min_meeting_rooms([(2,7)]))#1"
   ]
  },
  {
   "cell_type": "markdown",
   "metadata": {},
   "source": [
    "##### 253.Meeting Rooms II"
   ]
  },
  {
   "cell_type": "code",
   "execution_count": 25,
   "metadata": {},
   "outputs": [
    {
     "name": "stdout",
     "output_type": "stream",
     "text": [
      "2\n",
      "1\n"
     ]
    }
   ],
   "source": [
    "import heapq\n",
    "class Solution:\n",
    "    def minMeetingRooms(self, intervals: List[List[int]]) -> int:\n",
    "        intervals.sort()\n",
    "        \n",
    "        hp = []\n",
    "        for s, e in intervals:\n",
    "            if hp and hp[0] < s:\n",
    "                heapq.heappop(hp)\n",
    "            heapq.heappush(hp, e)\n",
    "\n",
    "        return len(hp)\n",
    "\n",
    "\n",
    "sol = Solution()\n",
    "print(sol.minMeetingRooms([[0,30],[5,10],[15,20]])) #2\n",
    "print(sol.minMeetingRooms([[7,10],[2,4]])) #1"
   ]
  },
  {
   "cell_type": "markdown",
   "metadata": {},
   "source": [
    "##### 1353.Maximum Number of Events That Can Be Attended"
   ]
  },
  {
   "cell_type": "code",
   "execution_count": 44,
   "metadata": {},
   "outputs": [
    {
     "name": "stdout",
     "output_type": "stream",
     "text": [
      "3\n",
      "4\n"
     ]
    }
   ],
   "source": [
    "class Solution:\n",
    "    def maxEvents(self, events: List[List[int]]) -> int:\n",
    "        start_map = defaultdict(list)\n",
    "        i, j = float('inf'), 0\n",
    "\n",
    "        for s, e in events:\n",
    "            start_map[s].append(e)\n",
    "            i = min(i, s)\n",
    "            j = max(j, e)\n",
    "        \n",
    "        start_heap = []\n",
    "        res = 0\n",
    "        for s in range(i, j + 1):\n",
    "            while start_heap and start_heap[0] < s:\n",
    "                heapq.heappop(start_heap)\n",
    "\n",
    "            for e in start_map[s]:\n",
    "                heapq.heappush(start_heap, e)\n",
    "\n",
    "            if start_heap:\n",
    "                res += 1\n",
    "                heapq.heappop(start_heap)\n",
    "        return res\n",
    "    \n",
    "sol = Solution()\n",
    "print(sol.maxEvents([[1,2],[2,3],[3,4]])) #3\n",
    "print(sol.maxEvents([[1,2],[2,3],[3,4],[1,2]])) #4"
   ]
  },
  {
   "attachments": {},
   "cell_type": "markdown",
   "metadata": {},
   "source": [
    "#### Hard"
   ]
  },
  {
   "attachments": {},
   "cell_type": "markdown",
   "metadata": {},
   "source": [
    "##### 1851.Minimum Interval to Include Each Query"
   ]
  },
  {
   "cell_type": "code",
   "execution_count": 34,
   "metadata": {},
   "outputs": [
    {
     "name": "stdout",
     "output_type": "stream",
     "text": [
      "[3, 3, 1, 4]\n",
      "[3, 3, 3, 1, 4]\n",
      "[2, -1, 4, 6]\n"
     ]
    }
   ],
   "source": [
    "class Solution:\n",
    "    def minInterval(self, intervals: List[List[int]], queries: List[int]) -> List[int]:\n",
    "        intervals.sort()\n",
    "\n",
    "        res = {}\n",
    "        minHeap = []\n",
    "        start = 0\n",
    "\n",
    "        for q in sorted(queries):\n",
    "            while start < len(intervals) and intervals[start][0] <= q:\n",
    "                s, e = intervals[start]\n",
    "                heapq.heappush(minHeap, (e - s + 1, e))\n",
    "                start += 1\n",
    "\n",
    "            while minHeap and minHeap[0][1] < q:\n",
    "                heapq.heappop(minHeap)\n",
    "                \n",
    "            \n",
    "            res[q] = minHeap[0][0] if minHeap else -1\n",
    "\n",
    "        return [res[q] for q in queries]\n",
    "\n",
    "sol = Solution()\n",
    "print(sol.minInterval([[1,4],[2,4],[3,6],[4,4]], [2,3,4,5])) #[3,3,1,4]\n",
    "print(sol.minInterval([[1,4],[2,4],[3,6],[4,4]], [2,2,3,4,5])) #[3,3,3,1,4]\n",
    "print(sol.minInterval([[2,3],[2,5],[1,8],[20,25]], [2,19,5,22])) #[2,-1,4,6]"
   ]
  },
  {
   "cell_type": "markdown",
   "metadata": {},
   "source": [
    "##### 2251.Number of Flowers in Full Bloom"
   ]
  },
  {
   "cell_type": "code",
   "execution_count": 36,
   "metadata": {},
   "outputs": [
    {
     "name": "stdout",
     "output_type": "stream",
     "text": [
      "[1, 2, 2, 2]\n",
      "[2, 2, 1]\n"
     ]
    }
   ],
   "source": [
    "from bisect import bisect_left, bisect_right\n",
    "import heapq\n",
    "class Solution:\n",
    "    def fullBloomFlowers_(self, flowers: List[List[int]], people: List[int]) -> List[int]:\n",
    "        # stores (time, flowers_calc/personIDX, isPerson)\n",
    "        timeline = []\n",
    "\n",
    "        for s, e in flowers:\n",
    "            timeline.append((s, 1, False))\n",
    "            timeline.append((e + 1, -1, False))\n",
    "        \n",
    "        for idx, time in enumerate(people):\n",
    "            timeline.append((time, idx, True))\n",
    "\n",
    "        # False comes before true and flower should come before person\n",
    "        timeline.sort(key= lambda x: (x[0], x[2])) \n",
    "\n",
    "        res = [0] * len(people)\n",
    "        tot_flowers = 0\n",
    "        for time, point, isPerson in timeline:\n",
    "            if isPerson:\n",
    "                res[point] = tot_flowers\n",
    "            else:\n",
    "                tot_flowers += point\n",
    "\n",
    "        return res\n",
    "    \n",
    "    def fullBloomFlowers_1(self, flowers: List[List[int]], people: List[int]) -> List[int]:\n",
    "        start = sorted([s for s, _ in flowers])\n",
    "        end = sorted([e for _, e in flowers])\n",
    "        return [bisect_right(start, t) - bisect_left(end, t) for t in people]\n",
    "\n",
    "    def fullBloomFlowers(self, flowers: List[List[int]], people: List[int]) -> List[int]:\n",
    "        people = [(p, i) for i, p in enumerate(people)]\n",
    "\n",
    "        starts = [s for s, e in flowers]\n",
    "        ends = [e for s, e in flowers]\n",
    "        heapq.heapify(starts) #O(n)\n",
    "        heapq.heapify(ends)\n",
    "        \n",
    "        res = [0] * len(people)\n",
    "        flow_cnt = 0\n",
    "\n",
    "        for p, i in sorted(people):\n",
    "            while starts and starts[0] <= p:\n",
    "                flow_cnt += 1\n",
    "                heapq.heappop(starts)\n",
    "\n",
    "            while ends and ends[0] < p:\n",
    "                flow_cnt -= 1\n",
    "                heapq.heappop(ends)\n",
    "\n",
    "            res[i] = flow_cnt\n",
    "        \n",
    "        return res\n",
    "\n",
    "sol = Solution()\n",
    "print(sol.fullBloomFlowers([[1,6],[3,7],[9,12],[4,13]], [2,3,7,11])) # [1,2,2,2]\n",
    "print(sol.fullBloomFlowers([[1,10],[3,3]], [3,3,2])) # [2,2,1]"
   ]
  },
  {
   "cell_type": "code",
   "execution_count": 5,
   "metadata": {},
   "outputs": [
    {
     "name": "stdout",
     "output_type": "stream",
     "text": [
      "[False, True, True]\n"
     ]
    }
   ],
   "source": [
    "a=[True, False, True]\n",
    "a.sort()\n",
    "print(a)"
   ]
  },
  {
   "attachments": {},
   "cell_type": "markdown",
   "metadata": {},
   "source": [
    "### Math & Geometry"
   ]
  },
  {
   "attachments": {},
   "cell_type": "markdown",
   "metadata": {},
   "source": [
    "#### Easy"
   ]
  },
  {
   "attachments": {},
   "cell_type": "markdown",
   "metadata": {},
   "source": [
    "##### 202.Happy Number"
   ]
  },
  {
   "cell_type": "code",
   "execution_count": 101,
   "metadata": {},
   "outputs": [
    {
     "name": "stdout",
     "output_type": "stream",
     "text": [
      "True\n",
      "False\n"
     ]
    }
   ],
   "source": [
    "class Solution:\n",
    "    def isHappy1(self, n: int) -> bool:\n",
    "        def square_sum(num):\n",
    "            sq = 0\n",
    "            while num > 0:\n",
    "                temp = num % 10\n",
    "                sq += temp * temp\n",
    "                num = num // 10\n",
    "            return sq\n",
    "            # return sum(int(i) ** 2 for i in str(num))\n",
    "\n",
    "        mem = set()\n",
    "        ss = square_sum(n)\n",
    "        curr = n\n",
    "        while True:\n",
    "            res = square_sum(curr)\n",
    "            curr = res\n",
    "\n",
    "            if res in mem:\n",
    "                return False\n",
    "            elif res == 1:\n",
    "                return True\n",
    "                \n",
    "            mem.add(res)\n",
    "\n",
    "    def isHappy(self, n: int) -> bool:\n",
    "        def square_sum(num):\n",
    "            return sum(int(i) ** 2 for i in str(num))\n",
    "\n",
    "        slow, fast = n, square_sum(n)\n",
    "\n",
    "        while fast != 1 and slow != fast:\n",
    "            fast = square_sum(square_sum(fast))\n",
    "            slow = square_sum(slow)\n",
    "\n",
    "        return fast == 1\n",
    "\n",
    "sol = Solution()\n",
    "print(sol.isHappy(19)) # True\n",
    "print(sol.isHappy(2)) # False"
   ]
  },
  {
   "attachments": {},
   "cell_type": "markdown",
   "metadata": {},
   "source": [
    "##### 66.Plus One"
   ]
  },
  {
   "cell_type": "code",
   "execution_count": 41,
   "metadata": {},
   "outputs": [
    {
     "name": "stdout",
     "output_type": "stream",
     "text": [
      "[1, 2, 4]\n",
      "[4, 3, 2, 2]\n",
      "[1, 0]\n",
      "[2, 0, 0, 0]\n"
     ]
    }
   ],
   "source": [
    "class Solution:\n",
    "    def plusOne_1(self, digits: List[int]) -> List[int]:\n",
    "        digits = [0] + digits\n",
    "        pos = len(digits) - 1\n",
    "        \n",
    "        zero_count = 0\n",
    "        while digits[pos] == 9:\n",
    "            digits.pop()\n",
    "            zero_count += 1\n",
    "            pos -= 1\n",
    "\n",
    "        digits[pos] += 1\n",
    "\n",
    "        for _ in range(zero_count):\n",
    "            digits.append(0)\n",
    "        \n",
    "        if digits[0] == 0:\n",
    "            digits = digits[1:]\n",
    "        return digits\n",
    "\n",
    "    def plusOne_2(self, digits: List[int]) -> List[int]:\n",
    "        digits = digits[::-1]\n",
    "        pos = 0\n",
    "        while True:\n",
    "            if pos < len(digits):\n",
    "                if digits[pos] == 9:\n",
    "                    digits[pos] = 0\n",
    "                else:\n",
    "                    digits[pos] += 1\n",
    "                    break\n",
    "            else:\n",
    "                digits.append(1)\n",
    "                break\n",
    "            pos += 1\n",
    "        return digits[::-1]\n",
    "    \n",
    "    def plusOne(self, digits: List[int]) -> List[int]:\n",
    "        digits = digits[::-1]\n",
    "\n",
    "        carry = 0\n",
    "        for i in range(len(digits)):\n",
    "            if i == 0:\n",
    "                digits[i] += 1\n",
    "\n",
    "            digits[i] += carry\n",
    "            num = digits[i]\n",
    "            digits[i] = num % 10\n",
    "            carry = num // 10\n",
    "        \n",
    "        if carry:\n",
    "            digits.append(carry)\n",
    "\n",
    "        return digits[::-1]\n",
    "\n",
    "\n",
    "sol = Solution()\n",
    "print(sol.plusOne([1,2,3])) #[1,2,4]\n",
    "print(sol.plusOne([4,3,2,1])) #[4,3,2,2]\n",
    "print(sol.plusOne([9])) #[1,0]\n",
    "print(sol.plusOne([1, 9, 9, 9])) #[2,0,0,0]"
   ]
  },
  {
   "cell_type": "markdown",
   "metadata": {},
   "source": [
    "##### 1025.Divisor Game"
   ]
  },
  {
   "cell_type": "code",
   "execution_count": 46,
   "metadata": {},
   "outputs": [
    {
     "name": "stdout",
     "output_type": "stream",
     "text": [
      "True\n",
      "False\n"
     ]
    }
   ],
   "source": [
    "class Solution:\n",
    "    def divisorGame(self, n: int) -> bool:\n",
    "        return n % 2 == 0\n",
    "    \n",
    "sol = Solution()\n",
    "print(sol.divisorGame(2)) #True\n",
    "print(sol.divisorGame(3)) #False"
   ]
  },
  {
   "cell_type": "markdown",
   "metadata": {},
   "source": [
    "##### 342.Power of Four"
   ]
  },
  {
   "cell_type": "code",
   "execution_count": null,
   "metadata": {},
   "outputs": [
    {
     "name": "stdout",
     "output_type": "stream",
     "text": [
      "True\n",
      "False\n",
      "True\n"
     ]
    }
   ],
   "source": [
    "class Solution:\n",
    "    def isPowerOfFour(self, n: int) -> bool:\n",
    "        if n == 1: return True\n",
    "\n",
    "        if n <= 0 or n % 4 != 0:\n",
    "            return False\n",
    "        \n",
    "        return self.isPowerOfFour(n//4)\n",
    "        return n > 0 and math.log(n, 4) % 1 == 0\n",
    "        return n > 0 and n & (n - 1) == 0 and n % 3 == 1\n",
    "\n",
    "sol = Solution()\n",
    "print(sol.isPowerOfFour(16)) #True\n",
    "print(sol.isPowerOfFour(5)) #False\n",
    "print(sol.isPowerOfFour(1)) #True"
   ]
  },
  {
   "cell_type": "markdown",
   "metadata": {},
   "source": [
    "##### 1266.Minimum Time Visiting All Points"
   ]
  },
  {
   "cell_type": "code",
   "execution_count": 18,
   "metadata": {},
   "outputs": [
    {
     "name": "stdout",
     "output_type": "stream",
     "text": [
      "7\n",
      "5\n"
     ]
    }
   ],
   "source": [
    "class Solution:\n",
    "    #Wrong\n",
    "    def minTimeToVisitAllPoints_(self, points: List[List[int]]) -> int:\n",
    "        points_len = len(points)\n",
    "        if points_len == 1:\n",
    "            return 0\n",
    "        \n",
    "        curr_x, curr_y = points[0][0], points[0][1]\n",
    "        res = 0\n",
    "        tar_idx = 1\n",
    "        tar_x, tar_y = points[tar_idx][0], points[tar_idx][1]\n",
    "        \n",
    "        while (curr_x, curr_y) != (tar_x, tar_y):\n",
    "            if curr_x < tar_x and curr_y < tar_y:\n",
    "                curr_x += 1\n",
    "                curr_y += 1\n",
    "            elif curr_x > tar_x and curr_y > tar_y:\n",
    "                curr_x -= 1\n",
    "                curr_y -= 1\n",
    "            elif curr_x == tar_x:\n",
    "                if curr_y > tar_y:\n",
    "                    curr_y -= 1\n",
    "                else:\n",
    "                    curr_y += 1\n",
    "            else:\n",
    "                if curr_x > tar_x:\n",
    "                    curr_x -= 1\n",
    "                else:\n",
    "                    curr_x += 1\n",
    "\n",
    "            res += 1\n",
    "\n",
    "            if (curr_x, curr_y) == (tar_x, tar_y):\n",
    "                tar_idx += 1\n",
    "                if tar_idx == points_len:\n",
    "                    break\n",
    "                tar_x, tar_y = points[tar_idx][0], points[tar_idx][1]\n",
    "\n",
    "        return res\n",
    "    \n",
    "    def minTimeToVisitAllPoints(self, points: List[List[int]]) -> int:\n",
    "        res = 0\n",
    "        for i in range(1, len(points)):\n",
    "            res += max(abs(points[i][0] - points[i - 1][0]),\n",
    "                    abs(points[i][1] - points[i - 1][1]))\n",
    "\n",
    "        return res\n",
    "\n",
    "\n",
    "\n",
    "sol = Solution()\n",
    "print(sol.minTimeToVisitAllPoints([[1,1],[3,4],[-1,0]])) #7\n",
    "print(sol.minTimeToVisitAllPoints([[3,2],[-2,2]])) #5"
   ]
  },
  {
   "cell_type": "markdown",
   "metadata": {},
   "source": [
    "##### 1688.Count of Matches in Tournament"
   ]
  },
  {
   "cell_type": "code",
   "execution_count": 97,
   "metadata": {},
   "outputs": [
    {
     "name": "stdout",
     "output_type": "stream",
     "text": [
      "6\n",
      "13\n"
     ]
    }
   ],
   "source": [
    "class Solution:\n",
    "    def numberOfMatches(self, n: int) -> int:\n",
    "        res = 0\n",
    "\n",
    "        while n > 1:\n",
    "            if n % 2:\n",
    "                temp = (n - 1) // 2\n",
    "                res += temp\n",
    "                n = temp + 1\n",
    "            else:\n",
    "                temp = n//2\n",
    "                res += temp\n",
    "                n = temp\n",
    "\n",
    "        return res\n",
    "\n",
    "sol = Solution()\n",
    "print(sol.numberOfMatches(7)) #6\n",
    "print(sol.numberOfMatches(14)) #13"
   ]
  },
  {
   "cell_type": "markdown",
   "metadata": {},
   "source": [
    "##### 1716.Calculate Money in Leetcode Bank"
   ]
  },
  {
   "cell_type": "code",
   "execution_count": 2,
   "metadata": {},
   "outputs": [
    {
     "name": "stdout",
     "output_type": "stream",
     "text": [
      "10\n",
      "37\n",
      "96\n"
     ]
    }
   ],
   "source": [
    "class Solution:\n",
    "    def totalMoney_(self, n: int) -> int:\n",
    "        weeks = n // 7\n",
    "        money = weeks * 28\n",
    "        money += (7 * weeks *( weeks - 1))//2\n",
    "\n",
    "        if (n % 7):\n",
    "            rem_days = n % 7\n",
    "            money_to_add = weeks + 1\n",
    "            for _ in range(rem_days):\n",
    "                money += money_to_add\n",
    "                money_to_add += 1\n",
    "\n",
    "        return money\n",
    "    \n",
    "    def totalMoney(self, n: int) -> int:\n",
    "        res = 0\n",
    "        weeks = (n // 7) + 1\n",
    "\n",
    "        for week in range(weeks):\n",
    "            if week == weeks - 1:\n",
    "                for day in range(1, (n % 7) +1):\n",
    "                    res += week + day\n",
    "            else:\n",
    "                for day in range(1, 8):\n",
    "                    res += week + day\n",
    "        return res\n",
    "\n",
    "sol = Solution()\n",
    "print(sol.totalMoney(4)) #10\n",
    "print(sol.totalMoney(10)) #37\n",
    "print(sol.totalMoney(20)) #96\n",
    "    "
   ]
  },
  {
   "attachments": {},
   "cell_type": "markdown",
   "metadata": {},
   "source": [
    "#### Medium"
   ]
  },
  {
   "attachments": {},
   "cell_type": "markdown",
   "metadata": {},
   "source": [
    "##### 48.Rotate Image"
   ]
  },
  {
   "cell_type": "code",
   "execution_count": 40,
   "metadata": {},
   "outputs": [
    {
     "name": "stdout",
     "output_type": "stream",
     "text": [
      "[[7, 4, 1], [8, 5, 2], [9, 6, 3]]\n",
      "[[7, 4, 1], [8, 5, 2], [9, 6, 3]]\n"
     ]
    }
   ],
   "source": [
    "class Solution:\n",
    "    def rotate_(self, matrix: List[List[int]]) -> List[List[int]]:\n",
    "        \"\"\"\n",
    "        Do not return anything, modify matrix in-place instead.\n",
    "        \"\"\"\n",
    "        matLen = len(matrix)\n",
    "\n",
    "        def transpose():\n",
    "            nonlocal matLen\n",
    "            for i in range(matLen):\n",
    "                for j in range(i + 1, matLen):\n",
    "                    matrix[i][j], matrix[j][i] = matrix[j][i], matrix[i][j]\n",
    "\n",
    "        def reflect():\n",
    "            nonlocal matLen\n",
    "            for i in range(matLen):\n",
    "                for j in range(matLen // 2):\n",
    "                    matrix[i][j], matrix[i][-j - 1] = matrix[i][-j - 1], matrix[i][j]\n",
    "\n",
    "        transpose()\n",
    "        reflect()\n",
    "        return matrix\n",
    "    \n",
    "    def rotate(self, matrix: List[List[int]]) -> List[List[int]]:\n",
    "        l, r = 0, len(matrix) - 1\n",
    "        \n",
    "        while l < r:\n",
    "            for i in range(l, r - l):\n",
    "                top, bottom = l, r\n",
    "\n",
    "                topLeft = matrix[top][l + i]\n",
    "                matrix[top][l + i] = matrix[bottom - i][l]\n",
    "                matrix[bottom - i][l] = matrix[bottom][r - i]\n",
    "                matrix[bottom][r - i] = matrix[top + i][r]\n",
    "                matrix[top + i][r] = topLeft\n",
    "            \n",
    "            r-= 1\n",
    "            l += 1\n",
    "        \n",
    "        return matrix\n",
    "\n",
    "sol = Solution()\n",
    "print(sol.rotate_([[1,2,3],[4,5,6],[7,8,9]]))\n",
    "print(sol.rotate([[1,2,3],[4,5,6],[7,8,9]]))\n",
    "\n"
   ]
  },
  {
   "attachments": {},
   "cell_type": "markdown",
   "metadata": {},
   "source": [
    "##### 54.Spiral Order"
   ]
  },
  {
   "cell_type": "code",
   "execution_count": 8,
   "metadata": {},
   "outputs": [
    {
     "name": "stdout",
     "output_type": "stream",
     "text": [
      "[1, 2, 3, 6, 9, 8, 7, 4, 5]\n",
      "[1, 2, 3, 4, 8, 12, 11, 10, 9, 5, 6, 7]\n"
     ]
    }
   ],
   "source": [
    "class Solution:\n",
    "    def spiralOrder(self, matrix: List[List[int]]) -> List[int]:\n",
    "        l, r = 0, len(matrix[0])\n",
    "        t, b = 0, len(matrix)\n",
    "        res = []\n",
    "\n",
    "        while l < r and t < b:\n",
    "            # travel top\n",
    "            for i in range(l, r):\n",
    "                res.append(matrix[t][i])\n",
    "            t += 1\n",
    "\n",
    "            # travel right\n",
    "            for i in range(t, b):\n",
    "                res.append(matrix[i][r - 1])\n",
    "            r -=1\n",
    "\n",
    "            if not (l < r and t < b):\n",
    "                break\n",
    "\n",
    "            # travel bottom\n",
    "            for i in range(r - 1, l - 1, -1):\n",
    "                res.append(matrix[b - 1][i])\n",
    "            b -= 1\n",
    "\n",
    "            # travel left\n",
    "            for i in range(b - 1, t - 1, -1):\n",
    "                res.append(matrix[i][l])\n",
    "            l += 1\n",
    "        \n",
    "        return res\n",
    "        # return matrix and [*matrix.pop(0)] + self.spiralOrder([*zip(*matrix)][::-1])\n",
    "\n",
    "            \n",
    "\n",
    "sol = Solution()\n",
    "print(sol.spiralOrder([[1,2,3],[4,5,6],[7,8,9]]))\n",
    "print(sol.spiralOrder([[1,2,3,4],[5,6,7,8],[9,10,11,12]]))"
   ]
  },
  {
   "attachments": {},
   "cell_type": "markdown",
   "metadata": {},
   "source": [
    "##### 73.SetMatrix Zeroes"
   ]
  },
  {
   "cell_type": "code",
   "execution_count": 29,
   "metadata": {},
   "outputs": [
    {
     "name": "stdout",
     "output_type": "stream",
     "text": [
      "[[1, 0, 1], [0, 0, 0], [1, 0, 1]]\n",
      "[[0, 0, 0, 0], [0, 4, 5, 0], [0, 3, 1, 0]]\n"
     ]
    }
   ],
   "source": [
    "class Solution:\n",
    "    def setZeroes(self, matrix: List[List[int]]) -> None:\n",
    "        # Memory complexity is O(m + n) and time is O(m.n)\n",
    "        \"\"\"\n",
    "        Do not return anything, modify matrix in-place instead.\n",
    "        \"\"\"\n",
    "        row = set()\n",
    "        column = set()\n",
    "\n",
    "        for i in range(len(matrix)):\n",
    "            for j in range(len(matrix[0])):\n",
    "                if matrix[i][j] == 0:\n",
    "                    row.add(i)\n",
    "                    column.add(j)\n",
    "\n",
    "        for r in list(row):\n",
    "            for j in range(len(matrix[0])):\n",
    "                matrix[r][j] = 0\n",
    "\n",
    "        for c in list(column):\n",
    "            for i in range(len(matrix)):\n",
    "                matrix[i][c] = 0\n",
    "\n",
    "        return matrix\n",
    "\n",
    "sol = Solution()\n",
    "print(sol.setZeroes([[1,1,1],[1,0,1],[1,1,1]]))\n",
    "print(sol.setZeroes([[0,1,2,0],[3,4,5,2],[1,3,1,5]]))"
   ]
  },
  {
   "attachments": {},
   "cell_type": "markdown",
   "metadata": {},
   "source": [
    "##### 50.Pow(x, n)"
   ]
  },
  {
   "cell_type": "code",
   "execution_count": 13,
   "metadata": {},
   "outputs": [
    {
     "name": "stdout",
     "output_type": "stream",
     "text": [
      "1024.0\n",
      "9.261000000000001\n",
      "0.25\n"
     ]
    }
   ],
   "source": [
    "class Solution:\n",
    "    def myPow1(self, x: float, n: int) -> float:\n",
    "        return x ** n\n",
    "\n",
    "    # O(n) time \n",
    "    def myPow2(self, x: float, n: int) -> float:\n",
    "        if n == 0:\n",
    "            return 1.0\n",
    "        temp = x\n",
    "        if n > 0:\n",
    "            for _ in range(n - 1):\n",
    "                x *= temp\n",
    "        else:\n",
    "            for _ in range(n - 1, 0):\n",
    "                x /= temp\n",
    "        return x\n",
    "\n",
    "    # O(log n) time \n",
    "    def myPow(self, x: float, n: int) -> float:\n",
    "        if n==0:\n",
    "            return 1\n",
    "        \n",
    "        if n<0:\n",
    "            neg_ans=self.myPow(1/x,-n)\n",
    "            return neg_ans\n",
    "        \n",
    "        half_ans=self.myPow(x,n//2)\n",
    "        \n",
    "        if n%2==0:\n",
    "            return half_ans*half_ans\n",
    "        \n",
    "        else:\n",
    "            return half_ans*half_ans*x\n",
    "\n",
    "sol = Solution()\n",
    "print(sol.myPow(2.00000, 10)) # 1024.00000\n",
    "print(sol.myPow(2.10000, 3)) # 9.26100\n",
    "print(sol.myPow(2.00000, -2)) # 0.25000"
   ]
  },
  {
   "attachments": {},
   "cell_type": "markdown",
   "metadata": {},
   "source": [
    "##### 43.Multiply Strings"
   ]
  },
  {
   "cell_type": "code",
   "execution_count": 19,
   "metadata": {},
   "outputs": [
    {
     "name": "stdout",
     "output_type": "stream",
     "text": [
      "6\n",
      "56088\n"
     ]
    }
   ],
   "source": [
    "class Solution:\n",
    "    def multiply1(self, num1: str, num2: str) -> str:\n",
    "        return str(int(num1) * int(num2))\n",
    "\n",
    "    def multiply(self, num1: str, num2: str) -> str:\n",
    "        if \"0\" in [num1, num2]:\n",
    "            return \"0\"\n",
    "\n",
    "        res = [0] * (len(num1) + len(num2))\n",
    "        num1, num2 = num1[::-1], num2[::-1]\n",
    "        for i1 in range(len(num1)):\n",
    "            for i2 in range(len(num2)):\n",
    "                digit = int(num1[i1]) * int(num2[i2])\n",
    "                res[i1 + i2] += digit\n",
    "                res[i1 + i2 + 1] += res[i1 + i2] // 10\n",
    "                res[i1 + i2] = res[i1 + i2] % 10\n",
    "\n",
    "        res, beg = res[::-1], 0\n",
    "        while beg < len(res) and res[beg] == 0:\n",
    "            beg += 1\n",
    "        res = map(str, res[beg:])\n",
    "        return \"\".join(res)\n",
    "\n",
    "sol = Solution()\n",
    "print(sol.multiply(\"2\", \"3\")) #\"6\"\n",
    "print(sol.multiply(\"123\", \"456\")) #\"56088\""
   ]
  },
  {
   "attachments": {},
   "cell_type": "markdown",
   "metadata": {},
   "source": [
    "##### 2013.Detect Squares"
   ]
  },
  {
   "cell_type": "code",
   "execution_count": 43,
   "metadata": {},
   "outputs": [
    {
     "name": "stdout",
     "output_type": "stream",
     "text": [
      "1\n",
      "0\n",
      "2\n"
     ]
    }
   ],
   "source": [
    "class DetectSquares:\n",
    "\n",
    "    def __init__(self):\n",
    "        self.points_ct_map = defaultdict(int)\n",
    "\n",
    "    def add(self, point: List[int]) -> None:\n",
    "        self.points_ct_map[tuple(point)] += 1\n",
    "\n",
    "    def count(self, point: List[int]) -> int:\n",
    "        res = 0\n",
    "        x, y = point\n",
    "        for a, b in self.points_ct_map:\n",
    "            if(abs(x - a) != abs(y - b)) or x == a or y == b:\n",
    "                continue\n",
    "            res += self.points_ct_map[(x, b)] * self.points_ct_map[(a, y)]\n",
    "\n",
    "        return res\n",
    "\n",
    "\n",
    "detectSquares = DetectSquares()\n",
    "detectSquares.add([3, 10])\n",
    "detectSquares.add([11, 2])\n",
    "detectSquares.add([3, 2])\n",
    "print(detectSquares.count([11, 10])) # return 1. You can choose:\n",
    "                               #   - The first, second, and third points\n",
    "print(detectSquares.count([14, 8]))  # return 0. The query point cannot form a square with any points in the data structure.\n",
    "detectSquares.add([11, 2])    # Adding duplicate points is allowed.\n",
    "print(detectSquares.count([11, 10])) # return 2. You can choose:\n",
    "                               #   - The first, second, and third points\n",
    "                               #   - The first, third, and fourth points"
   ]
  },
  {
   "cell_type": "markdown",
   "metadata": {},
   "source": [
    "##### 1759.Count Number of Homogenous Substrings"
   ]
  },
  {
   "cell_type": "code",
   "execution_count": 5,
   "metadata": {},
   "outputs": [
    {
     "name": "stdout",
     "output_type": "stream",
     "text": [
      "13\n",
      "2\n",
      "15\n"
     ]
    }
   ],
   "source": [
    "class Solution:\n",
    "    def countHomogenous(self, s: str) -> int:\n",
    "        MOD_VAL = 10 ** 9 + 7\n",
    "        res = 0\n",
    "        prev = s[0]\n",
    "        hom_len = 1\n",
    "\n",
    "        for ch in s[1:]:\n",
    "            if ch == prev:\n",
    "                hom_len += 1\n",
    "            else:\n",
    "                res += (hom_len * (hom_len + 1)) / 2\n",
    "                hom_len = 1\n",
    "                prev = ch\n",
    "                res %= MOD_VAL\n",
    "        \n",
    "        res += (hom_len * (hom_len + 1)) / 2\n",
    "        \n",
    "        return int(res) % MOD_VAL\n",
    "\n",
    "sol = Solution()\n",
    "print(sol.countHomogenous(\"abbcccaa\")) #13\n",
    "print(sol.countHomogenous(\"xy\")) #2\n",
    "print(sol.countHomogenous(\"zzzzz\")) #15"
   ]
  },
  {
   "cell_type": "markdown",
   "metadata": {},
   "source": [
    "##### 1561.Maximum Number of Coins You Can Get"
   ]
  },
  {
   "cell_type": "code",
   "execution_count": null,
   "metadata": {},
   "outputs": [
    {
     "name": "stdout",
     "output_type": "stream",
     "text": [
      "9\n",
      "4\n",
      "18\n"
     ]
    }
   ],
   "source": [
    "class Solution:\n",
    "    def maxCoins(self, piles: List[int]) -> int:\n",
    "        piles.sort()\n",
    "        res = 0\n",
    "        alice, bob = len(piles) - 1, 0\n",
    "\n",
    "        while bob < alice:\n",
    "            res += piles[alice - 1]\n",
    "            alice -= 2\n",
    "            bob += 1\n",
    "\n",
    "        return res\n",
    "    \n",
    "    def maxCoins_(self, piles: List[int]) -> int:\n",
    "        piles.sort()\n",
    "        alice = len(piles)\n",
    "        n = len(piles) // 3\n",
    "        res = 0\n",
    "        for _ in range(n):\n",
    "            alice -= 2\n",
    "            res += piles[alice]\n",
    "        return res\n",
    "\n",
    "sol = Solution()\n",
    "print(sol.maxCoins([2,4,1,2,7,8])) #9\n",
    "print(sol.maxCoins([2,4,5])) #4\n",
    "print(sol.maxCoins([9,8,7,6,5,1,2,3,4])) #18"
   ]
  },
  {
   "cell_type": "markdown",
   "metadata": {},
   "source": [
    "##### 1685.Sum of Absolute Differences in a Sorted Array"
   ]
  },
  {
   "cell_type": "code",
   "execution_count": 3,
   "metadata": {},
   "outputs": [
    {
     "name": "stdout",
     "output_type": "stream",
     "text": [
      "[4, 3, 5]\n",
      "[24, 15, 13, 15, 21]\n"
     ]
    }
   ],
   "source": [
    "class Solution:\n",
    "    def getSumAbsoluteDifferences(self, nums: List[int]) -> List[int]:\n",
    "        nums_len = len(nums)\n",
    "        pre_sum, post_sum = [0] * nums_len, [0] * nums_len\n",
    "\n",
    "        pre_sum[0] = nums[0]\n",
    "        post_sum[nums_len - 1] = nums[nums_len - 1]\n",
    "\n",
    "        for idx in range(1, nums_len):\n",
    "            pre_sum[idx] = pre_sum[idx - 1] + nums[idx]\n",
    "            post_sum[nums_len - 1 - idx] = post_sum[nums_len - idx] + nums[nums_len - 1 - idx]\n",
    "\n",
    "        res = []\n",
    "        for idx in range(nums_len):\n",
    "            left_sum = (nums[idx] * idx) - pre_sum[idx]\n",
    "            right_sum = post_sum[idx] - (nums[idx] * (nums_len - 1 - idx))\n",
    "            res.append(left_sum + right_sum)\n",
    "\n",
    "        return res\n",
    "    \n",
    "    def getSumAbsoluteDifferences_(self, nums: List[int]) -> List[int]:\n",
    "        nums_len = len(nums)\n",
    "        pre_sum = 0\n",
    "        post_sum = sum(nums)\n",
    "\n",
    "        res = []\n",
    "        for idx in range(nums_len):\n",
    "            post_sum -= nums[idx]\n",
    "            left_sum = (nums[idx] * idx) - pre_sum\n",
    "            right_sum = post_sum - (nums[idx] * (nums_len - 1 - idx))\n",
    "            res.append(left_sum + right_sum)\n",
    "            pre_sum += nums[idx]\n",
    "\n",
    "        return res\n",
    "\n",
    "sol = Solution()\n",
    "print(sol.getSumAbsoluteDifferences([2,3,5])) #[4,3,5]\n",
    "print(sol.getSumAbsoluteDifferences([1,4,6,8,10])) #[24,15,13,15,21]"
   ]
  },
  {
   "cell_type": "markdown",
   "metadata": {},
   "source": [
    "#### Hard"
   ]
  },
  {
   "cell_type": "markdown",
   "metadata": {},
   "source": [
    "##### 458.Poor Pigs"
   ]
  },
  {
   "cell_type": "code",
   "execution_count": 12,
   "metadata": {},
   "outputs": [
    {
     "name": "stdout",
     "output_type": "stream",
     "text": [
      "2\n",
      "2\n"
     ]
    }
   ],
   "source": [
    "import math\n",
    "class Solution:\n",
    "    def poorPigs(self, buckets: int, minutesToDie: int, minutesToTest: int) -> int:\n",
    "        res = 0\n",
    "        while ((minutesToTest // minutesToDie) + 1) ** res < buckets:\n",
    "            res += 1\n",
    "\n",
    "        return res\n",
    "        return math.ceil(math.log2(buckets) / math.log2((minutesToTest // minutesToDie) + 1))\n",
    "\n",
    "\n",
    "sol = Solution()\n",
    "print(sol.poorPigs(buckets = 4, minutesToDie = 15, minutesToTest = 15)) #2\n",
    "print(sol.poorPigs(buckets = 4, minutesToDie = 15, minutesToTest = 30)) #2"
   ]
  },
  {
   "cell_type": "markdown",
   "metadata": {},
   "source": [
    "##### 2147.Number of Ways to Divide a Long Corridor"
   ]
  },
  {
   "cell_type": "code",
   "execution_count": null,
   "metadata": {},
   "outputs": [
    {
     "name": "stdout",
     "output_type": "stream",
     "text": [
      "3\n"
     ]
    }
   ],
   "source": [
    "class Solution:\n",
    "    def numberOfWays_(self, corridor: str) -> int:\n",
    "        seat_cnt = corridor.count(\"S\")\n",
    "        if seat_cnt == 0 or seat_cnt % 2 != 0:\n",
    "            return 0\n",
    "        if seat_cnt == 2:\n",
    "            return 1\n",
    "        \n",
    "        MOD_VAL = 10 ** 9 + 7\n",
    "        res = 1\n",
    "        curr_cnt = 0\n",
    "        first_room = True\n",
    "        last_room_end_idx = -1\n",
    "        room_start_idx = -1\n",
    "        \n",
    "        for idx in range(len(corridor)):\n",
    "            if corridor[idx] == \"S\":\n",
    "                curr_cnt += 1\n",
    "\n",
    "                if curr_cnt == 1:\n",
    "                    room_start_idx = idx \n",
    "\n",
    "            if curr_cnt == 2:\n",
    "                curr_cnt = 0\n",
    "                if not first_room:\n",
    "                    res *= (room_start_idx - last_room_end_idx) \n",
    "                    res %= MOD_VAL\n",
    "                first_room = False\n",
    "                last_room_end_idx = idx\n",
    "\n",
    "        return res % MOD_VAL\n",
    "        \n",
    "    def numberOfWays(self, corridor: str) -> int:\n",
    "        corridor = corridor.lstrip(\"P\").rstrip(\"P\")\n",
    "        corr_len = len(corridor)\n",
    "\n",
    "        seat_pos_list = [idx for idx in range(corr_len) if corridor[idx] == \"S\"]\n",
    "        tot_seats = len(seat_pos_list)\n",
    "        if tot_seats % 2 or tot_seats == 0:\n",
    "            return 0\n",
    "        \n",
    "        seat_pos_list = seat_pos_list + [corr_len]\n",
    "        MOD_VAL = 10 ** 9 + 7\n",
    "\n",
    "        res = 1 \n",
    "        for idx in range(1, len(seat_pos_list), 2):\n",
    "            res *= seat_pos_list[idx + 1] - seat_pos_list[idx]\n",
    "            res %= MOD_VAL\n",
    "\n",
    "        return res\n",
    "\n",
    "sol = Solution()\n",
    "print(sol.numberOfWays(\"SSPPSPS\")) #3\n",
    "# print(sol.numberOfWays(\"PPSPSP\")) #1\n",
    "# print(sol.numberOfWays(\"S\")) #0\n",
    "# print(sol.numberOfWays(\"SPPSSSSPPS\")) #1"
   ]
  },
  {
   "attachments": {},
   "cell_type": "markdown",
   "metadata": {},
   "source": [
    "### Bit Manipulation"
   ]
  },
  {
   "attachments": {},
   "cell_type": "markdown",
   "metadata": {},
   "source": [
    "#### Easy"
   ]
  },
  {
   "attachments": {},
   "cell_type": "markdown",
   "metadata": {},
   "source": [
    "##### 191.Number of 1 Bits"
   ]
  },
  {
   "cell_type": "code",
   "execution_count": null,
   "metadata": {},
   "outputs": [],
   "source": [
    "class Solution:\n",
    "    def hammingWeight(self, n: int) -> int:\n",
    "        res = 0\n",
    "        while n:\n",
    "            n &= n - 1\n",
    "            res += 1\n",
    "\n",
    "        return res"
   ]
  },
  {
   "attachments": {},
   "cell_type": "markdown",
   "metadata": {},
   "source": [
    "##### 338.Counting Bits"
   ]
  },
  {
   "cell_type": "code",
   "execution_count": 32,
   "metadata": {},
   "outputs": [
    {
     "name": "stdout",
     "output_type": "stream",
     "text": [
      "[0, 1, 1]\n",
      "[0, 1, 1, 2, 1, 2]\n"
     ]
    }
   ],
   "source": [
    "class Solution:\n",
    "    def countBits(self, n: int) -> List[int]:\n",
    "        res = [0]\n",
    "        msb = 1\n",
    "        \n",
    "        for i in range(1, n + 1):\n",
    "            if msb * 2 == i:\n",
    "                msb *= 2\n",
    "            res.append(1 + res[i - msb])\n",
    "            \n",
    "        return res\n",
    "\n",
    "sol = Solution()\n",
    "print(sol.countBits(2))\n",
    "print(sol.countBits(5))\n",
    "\n",
    "\n"
   ]
  },
  {
   "attachments": {},
   "cell_type": "markdown",
   "metadata": {},
   "source": [
    "##### 190.Reverse Bits"
   ]
  },
  {
   "cell_type": "code",
   "execution_count": null,
   "metadata": {},
   "outputs": [],
   "source": [
    "class Solution:\n",
    "    def reverseBits(self, n: int) -> int:\n",
    "        res = 0\n",
    "\n",
    "        for i in range(32):\n",
    "            b = (n >> i) & 1\n",
    "            res = res | (b << (31 - i))\n",
    "        \n",
    "        return res\n",
    "\n",
    "sol = Solution()\n",
    "print(sol.reverseBits('00000010100101000001111010011100'))"
   ]
  },
  {
   "attachments": {},
   "cell_type": "markdown",
   "metadata": {},
   "source": [
    "##### 268.Missing Number"
   ]
  },
  {
   "cell_type": "code",
   "execution_count": 36,
   "metadata": {},
   "outputs": [
    {
     "name": "stdout",
     "output_type": "stream",
     "text": [
      "2\n",
      "2\n",
      "8\n"
     ]
    }
   ],
   "source": [
    "from functools import reduce\n",
    "from operator import xor\n",
    "class Solution:\n",
    "    def missingNumber1(self, nums: List[int]) -> int: # O(1) memory O(n) time\n",
    "        a = reduce(xor, range(len(nums) + 1))\n",
    "        b = reduce(xor, nums)\n",
    "        return a ^ b\n",
    "        \n",
    "    # sum solution\n",
    "    def missingNumber(self, nums: List[int]) -> int: # O(1) memory O(n) time\n",
    "        res = len(nums)\n",
    "        for i in range(len(nums)):\n",
    "            res += (i - nums[i])\n",
    "\n",
    "        return res\n",
    "\n",
    "        #sum solution\n",
    "        # return sum(range(len(nums) + 1)) - sum(nums)\n",
    "\n",
    "sol = Solution()\n",
    "print(sol.missingNumber([3,0,1]))\n",
    "print(sol.missingNumber([0,1]))\n",
    "print(sol.missingNumber([9,6,4,2,3,5,7,0,1]))"
   ]
  },
  {
   "attachments": {},
   "cell_type": "markdown",
   "metadata": {},
   "source": [
    "##### 136.Single Number"
   ]
  },
  {
   "cell_type": "code",
   "execution_count": 4,
   "metadata": {},
   "outputs": [
    {
     "name": "stdout",
     "output_type": "stream",
     "text": [
      "1\n",
      "4\n",
      "1\n"
     ]
    }
   ],
   "source": [
    "import functools\n",
    "\n",
    "class Solution:\n",
    "    def singleNumber1(self, nums: List[int]) -> int:\n",
    "        res = 0\n",
    "        for n in nums:\n",
    "            res = res ^ n\n",
    "        return res\n",
    "\n",
    "    def singleNumber(self, nums: List[int]) -> int:\n",
    "        return functools.reduce(lambda a, b: a ^ b, nums)\n",
    "\n",
    "sol = Solution()\n",
    "print(sol.singleNumber([2,2,1])) #1\n",
    "print(sol.singleNumber([4,1,2,1,2])) #4\n",
    "print(sol.singleNumber([1])) #1"
   ]
  },
  {
   "cell_type": "markdown",
   "metadata": {},
   "source": [
    "##### 1356.Sort Integers by The Number of 1 Bits"
   ]
  },
  {
   "cell_type": "code",
   "execution_count": 22,
   "metadata": {},
   "outputs": [
    {
     "name": "stdout",
     "output_type": "stream",
     "text": [
      "[0, 1, 2, 4, 8, 3, 5, 6, 7]\n",
      "[1, 2, 4, 8, 16, 32, 64, 128, 256, 512, 1024]\n"
     ]
    }
   ],
   "source": [
    "class Solution:\n",
    "    def sortByBits(self, arr: List[int]) -> List[int]:\n",
    "        bit_count = defaultdict(list)\n",
    "        arr.sort()\n",
    "        \n",
    "        for num in arr:\n",
    "            cnt = bin(num).count('1')\n",
    "            bit_count[cnt].append(num)\n",
    "        res = []\n",
    "        \n",
    "        for cnt in sorted(bit_count.keys()):\n",
    "            res.extend(bit_count[cnt])\n",
    "        return res\n",
    "\n",
    "\n",
    "\n",
    "sol = Solution()\n",
    "print(sol.sortByBits([0,1,2,3,4,5,6,7,8])) #[0,1,2,4,8,3,5,6,7]\n",
    "print(sol.sortByBits([1024,512,256,128,64,32,16,8,4,2,1])) #[1,2,4,8,16,32,64,128,256,512,1024]"
   ]
  },
  {
   "attachments": {},
   "cell_type": "markdown",
   "metadata": {},
   "source": [
    "#### Medium"
   ]
  },
  {
   "attachments": {},
   "cell_type": "markdown",
   "metadata": {},
   "source": [
    "##### 371.Sum of Two Integers"
   ]
  },
  {
   "cell_type": "code",
   "execution_count": null,
   "metadata": {},
   "outputs": [
    {
     "name": "stdout",
     "output_type": "stream",
     "text": [
      "0\n",
      "3\n",
      "5\n"
     ]
    }
   ],
   "source": [
    "class Solution:\n",
    "    def getSum(self, a: int, b: int) -> int:\n",
    "        def add(a, b):\n",
    "            if not a or not b:\n",
    "                return a or b\n",
    "            return add(a ^ b, (a & b) << 1)\n",
    "\n",
    "        if a * b < 0:  # assume a < 0, b > 0\n",
    "            if a > 0:\n",
    "                return self.getSum(b, a)\n",
    "            if add(~a, 1) == b:  # -a == b\n",
    "                return 0\n",
    "            if add(~a, 1) < b:  # -a < b\n",
    "                return add(~add(add(~a, 1), add(~b, 1)), 1)  # -add(-a, -b)\n",
    "\n",
    "        return add(a, b)  # a*b >= 0 or (-a) > b > 0\n",
    "\n",
    "        # doesn't work for negative integers\n",
    "        # while b != 0:\n",
    "        #     temp = (a & b) << 1\n",
    "        #     a = a ^ b\n",
    "        #     b = temp\n",
    "\n",
    "        # return a\n",
    "\n",
    "sol = Solution()\n",
    "print(sol.getSum(-1, 1))\n",
    "print(sol.getSum(1, 2))\n",
    "print(sol.getSum(2, 3))"
   ]
  },
  {
   "attachments": {},
   "cell_type": "markdown",
   "metadata": {},
   "source": [
    "##### 7.Reverse Integer"
   ]
  },
  {
   "cell_type": "code",
   "execution_count": 7,
   "metadata": {},
   "outputs": [
    {
     "name": "stdout",
     "output_type": "stream",
     "text": [
      "321\n",
      "-321\n",
      "21\n"
     ]
    }
   ],
   "source": [
    "import math\n",
    "class Solution:\n",
    "    def reverse(self, x: int) -> int:\n",
    "        # Integer.MAX_VALUE = 2147483647 (end with 7)\n",
    "        # Integer.MIN_VALUE = -2147483648 (end with -8 )\n",
    "\n",
    "        MIN = -2147483648  # -2^31,\n",
    "        MAX = 2147483647  #  2^31 - 1\n",
    "\n",
    "        res = 0\n",
    "        while x:\n",
    "            digit = int(math.fmod(x, 10))  # (python dumb) -1 %  10 = 9\n",
    "            x = int(x / 10)  # (python dumb) -1 // 10 = -1\n",
    "\n",
    "            if res > MAX // 10 or (res == MAX // 10 and digit >= MAX % 10):\n",
    "                return 0\n",
    "            if res < MIN // 10 or (res == MIN // 10 and digit <= MIN % 10):\n",
    "                return 0\n",
    "            res = (res * 10) + digit\n",
    "\n",
    "        return res\n",
    "    \n",
    "    def reverse(self, x: int) -> int:\n",
    "        if x not in range(-9,9):\n",
    "            x = int(str(x)[::-1].lstrip('0')) if x >= 0 else int(f\"-{str(x)[:0:-1]}\".lstrip('0'))\n",
    "        return x if (x < 2**31-1 and x > -2**31) else 0\n",
    "\n",
    "sol = Solution()\n",
    "print(sol.reverse(123)) #321\n",
    "print(sol.reverse(-123)) #-321\n",
    "print(sol.reverse(120)) #21"
   ]
  },
  {
   "cell_type": "markdown",
   "metadata": {},
   "source": [
    "##### 2433.Find The Original Array of Prefix Xor"
   ]
  },
  {
   "cell_type": "code",
   "execution_count": 5,
   "metadata": {},
   "outputs": [
    {
     "name": "stdout",
     "output_type": "stream",
     "text": [
      "[5, 7, 2, 3, 2]\n",
      "[13]\n"
     ]
    }
   ],
   "source": [
    "class Solution:\n",
    "    def findArray(self, pref: List[int]) -> List[int]:\n",
    "        prev = pref[0]\n",
    "        for i in range(1, len(pref)):\n",
    "            pref[i] ^= prev\n",
    "            prev ^= pref[i]\n",
    "        \n",
    "        return pref\n",
    "\n",
    "sol = Solution()\n",
    "print(sol.findArray([5,2,0,3,1])) #[5,7,2,3,2]\n",
    "print(sol.findArray([13])) #[13]"
   ]
  },
  {
   "cell_type": "markdown",
   "metadata": {},
   "source": [
    "#### Hard"
   ]
  },
  {
   "cell_type": "markdown",
   "metadata": {},
   "source": [
    "##### 1611.Minimum One Bit Operations to Make Integers Zero"
   ]
  },
  {
   "cell_type": "code",
   "execution_count": 7,
   "metadata": {},
   "outputs": [
    {
     "name": "stdout",
     "output_type": "stream",
     "text": [
      "2\n",
      "4\n",
      "5\n"
     ]
    }
   ],
   "source": [
    "from functools import cache\n",
    "\n",
    "class Solution:\n",
    "    # TLE\n",
    "    @cache\n",
    "    def minimumOneBitOperations_(self, n: int) -> int:\n",
    "        def dp(num, target):\n",
    "            if len(num) == 1:\n",
    "                return 0 if num == target else 1\n",
    "            if num[0] == target[0]:\n",
    "                return dp(num[1:], target[1:])\n",
    "            else:\n",
    "                target1 = '1' + target[2:]\n",
    "                target2 = target[1:]\n",
    "                return 1 + dp(num[1:], target1) + dp(target1, target2)\n",
    "            \n",
    "        num = bin(n)[2:]\n",
    "        return dp(num,'0' * len(num))\n",
    "    \n",
    "    def minimumOneBitOperations(self, n: int) -> int:\n",
    "        if n == 0:\n",
    "            return 0\n",
    "        \n",
    "        k = 0\n",
    "        while 2**k <= n:\n",
    "            k += 1\n",
    "        k -= 1\n",
    "\n",
    "        return 2 ** (k + 1) - 1 - self.minimumOneBitOperations(2 ** k ^ n)\n",
    "    \n",
    "    def minimumOneBitOperations(self, n: int) -> int:\n",
    "        res = 0\n",
    "        while n:\n",
    "            res ^= n\n",
    "            n >>= 1\n",
    "        return res\n",
    "\n",
    "sol = Solution()\n",
    "print(sol.minimumOneBitOperations(3)) #2\n",
    "print(sol.minimumOneBitOperations(6)) #4\n",
    "print(sol.minimumOneBitOperations(7)) #5"
   ]
  },
  {
   "attachments": {},
   "cell_type": "markdown",
   "metadata": {},
   "source": [
    "### Extra"
   ]
  },
  {
   "attachments": {},
   "cell_type": "markdown",
   "metadata": {},
   "source": [
    "#### Minimum changes to make an array ascending or descending"
   ]
  },
  {
   "cell_type": "code",
   "execution_count": 16,
   "metadata": {},
   "outputs": [
    {
     "name": "stdout",
     "output_type": "stream",
     "text": [
      "1\n",
      "2\n"
     ]
    }
   ],
   "source": [
    "def minchange(arr, n):\n",
    "    LIS = [1 for i in range(n)]\n",
    "    LDS = [1 for i in range(n)]\n",
    "    len_i, len_j = 0, 0\n",
    "    \n",
    "    for i in range(1, n):\n",
    "        for j in range(i):\n",
    "            if (arr[i] > arr[j] and (i-j)<=(arr[i]-arr[j]) ):\n",
    "                LIS[i] = max(LIS[i], LIS[j] + 1)\n",
    "            if (arr[i] < arr[j] and (i-j)<=(arr[j]-arr[i]) ):\n",
    "                LDS[i] = max(LDS[i], LDS[j] + 1)\n",
    "            \n",
    "        len_i = max(len_i, LIS[i])\n",
    "        len_j = max(len_j, LDS[i])\n",
    "    \n",
    "    return min(n - len_i, n - len_j)\n",
    "\n",
    "arr1 = [ 6, 2, 3, 4, 5 ]\n",
    "print(minchange(arr1, len(arr1)))\n",
    "arr2 = [ 1, 2, 6, 5, 4 ]\n",
    "print(minchange(arr2, len(arr2)))"
   ]
  },
  {
   "attachments": {},
   "cell_type": "markdown",
   "metadata": {},
   "source": [
    "#### 1864.Minimum Number of Swaps to Make the Binary String Alternating"
   ]
  },
  {
   "cell_type": "code",
   "execution_count": 1,
   "metadata": {},
   "outputs": [
    {
     "name": "stdout",
     "output_type": "stream",
     "text": [
      "1\n",
      "0\n",
      "-1\n"
     ]
    }
   ],
   "source": [
    "class Solution:\n",
    "    def minSwaps(self, s: str) -> int:\n",
    "        def countSwaps(ch):\n",
    "            count  = 0\n",
    "            for c in s[::2]:\n",
    "                if(c != ch):\n",
    "                    count += 1\n",
    "            \n",
    "            return count\n",
    "            \n",
    "        c0, c1 = s.count('0'), s.count('1')\n",
    "        \n",
    "        if(c0 == c1):\n",
    "            return min(countSwaps('0'), countSwaps('1'))\n",
    "        \n",
    "        if(c0 == c1+1):\n",
    "            return countSwaps('0')\n",
    "        \n",
    "        if(c1 == c0+1):\n",
    "            return countSwaps('1')\n",
    "        \n",
    "        return -1\n",
    "\n",
    "sol = Solution()\n",
    "print(sol.minSwaps(\"111000\")) #1\n",
    "print(sol.minSwaps(\"010\")) #0\n",
    "print(sol.minSwaps(\"1110\")) #-1"
   ]
  },
  {
   "attachments": {},
   "cell_type": "markdown",
   "metadata": {},
   "source": [
    "#### Candy Crush 1D"
   ]
  },
  {
   "cell_type": "code",
   "execution_count": 17,
   "metadata": {},
   "outputs": [
    {
     "name": "stdout",
     "output_type": "stream",
     "text": [
      "aac\n",
      "cd\n",
      "\n",
      "acd\n"
     ]
    }
   ],
   "source": [
    "class Solution:\n",
    "    def crush(self, string: str) -> str:\n",
    "        char_stack = []\n",
    "\n",
    "        i = 0\n",
    "        while i < len(string):\n",
    "            while char_stack and char_stack[-1][0] == string[i] and char_stack[-1][1] + 1 == 3:\n",
    "                char_stack.pop()\n",
    "                i += 1\n",
    "            \n",
    "            if i >= len(string):\n",
    "                break\n",
    "            \n",
    "            if char_stack and char_stack[-1][0] == string[i]:\n",
    "                char_stack[-1][1] = char_stack[-1][1] + 1\n",
    "            else:\n",
    "                char_stack.append([string[i], 1])\n",
    "            i += 1\n",
    "\n",
    "        return \"\".join([a*b for a, b in char_stack])\n",
    "\n",
    "\n",
    "sol = Solution()\n",
    "print(sol.crush(\"aaaaabbbc\")) #c\n",
    "print(sol.crush(\"aabbbacd\")) #cd\n",
    "print(sol.crush(\"aabbccddeeedcba\")) #\n",
    "print(sol.crush(\"aaabbbacd\")) #acd"
   ]
  },
  {
   "attachments": {},
   "cell_type": "markdown",
   "metadata": {},
   "source": [
    "#### 380.Insert Delete GetRandom O(1)"
   ]
  },
  {
   "cell_type": "code",
   "execution_count": null,
   "metadata": {},
   "outputs": [],
   "source": [
    "from random import randint\n",
    "class RandomizedSet:\n",
    "\n",
    "    def __init__(self):\n",
    "        self.posMap = {}\n",
    "        self.vals = []\n",
    "\n",
    "    def insert(self, val: int) -> bool:\n",
    "        if val not in self.posMap:\n",
    "            self.vals.append(val)\n",
    "            self.posMap[val] = len(self.vals) - 1\n",
    "            return True\n",
    "\n",
    "        return False\n",
    "\n",
    "    def remove(self, val: int) -> bool:\n",
    "        if val in self.posMap:\n",
    "            # get pos and swap val\n",
    "            rem_pos = self.posMap[val]\n",
    "            swap_val = self.vals[-1]\n",
    "\n",
    "            #perform swap\n",
    "            self.vals[rem_pos] = swap_val\n",
    "            # self.vals = self.vals[:-1]\n",
    "            self.vals.pop()\n",
    "\n",
    "            #update new pos for swap\n",
    "            self.posMap[swap_val] = rem_pos\n",
    "            del self.posMap[val]\n",
    "\n",
    "            return True\n",
    "        \n",
    "        return False\n",
    "\n",
    "    def getRandom(self) -> int:\n",
    "        index = randint(0, len(self.vals) - 1)\n",
    "        return self.vals[index]\n",
    "\n",
    "\n",
    "# Your RandomizedSet object will be instantiated and called as such:\n",
    "# obj = RandomizedSet()\n",
    "# param_1 = obj.insert(val)\n",
    "# param_2 = obj.remove(val)\n",
    "# param_3 = obj.getRandom()"
   ]
  },
  {
   "attachments": {},
   "cell_type": "markdown",
   "metadata": {},
   "source": [
    "#### Balance Parantheses"
   ]
  },
  {
   "cell_type": "code",
   "execution_count": 45,
   "metadata": {},
   "outputs": [
    {
     "name": "stdout",
     "output_type": "stream",
     "text": [
      "ab(a(c)fg)9\n",
      "a(b)c()\n",
      "\n",
      "(a)b(c)d(e)f(g)\n"
     ]
    }
   ],
   "source": [
    "class Solution:\n",
    "    def balance(self, string:str) -> str:\n",
    "        stack = []\n",
    "        remove_indices = set()\n",
    "        \n",
    "        for i in range(len(string)):\n",
    "            if string[i] == '(':\n",
    "                stack.append(i)\n",
    "            elif string[i] == ')':\n",
    "                if not stack:\n",
    "                    remove_indices.add(i)\n",
    "                else:\n",
    "                    stack.pop()\n",
    "        \n",
    "        while stack:\n",
    "            remove_indices.add(stack.pop())\n",
    "        \n",
    "        for index, char in enumerate(string):\n",
    "            if index not in remove_indices:\n",
    "                stack.append(char)\n",
    "        \n",
    "        return ''.join(stack)\n",
    "\n",
    "sol = Solution()\n",
    "print(sol.balance(\"ab(a(c)fg)9)\")) #\"ab(a(c)fg)9\"\n",
    "print(sol.balance(\")a(b)c()(\")) #\"a(b)c()\"\n",
    "print(sol.balance(\")(\")) #\"\"\n",
    "print(sol.balance(\"(a)b(c)d(e)f)(g)\")) #\"(a)b(c)d(e)f(g)\""
   ]
  },
  {
   "attachments": {},
   "cell_type": "markdown",
   "metadata": {},
   "source": [
    "#### 921.Minimum Add to Make Parentheses Valid"
   ]
  },
  {
   "cell_type": "code",
   "execution_count": 46,
   "metadata": {},
   "outputs": [
    {
     "name": "stdout",
     "output_type": "stream",
     "text": [
      "1\n",
      "3\n"
     ]
    }
   ],
   "source": [
    "class Solution:\n",
    "    def minAddToMakeValid(self, s: str) -> int:\n",
    "        ans = bal = 0\n",
    "        for ch in s:\n",
    "            bal += 1 if ch == '(' else -1\n",
    "            \n",
    "            if bal == -1:\n",
    "                ans += 1\n",
    "                bal = 0 #reset\n",
    "\n",
    "        return ans + bal\n",
    "\n",
    "sol = Solution()\n",
    "print(sol.minAddToMakeValid(\"())\")) #1\n",
    "print(sol.minAddToMakeValid(\"(((\")) #3"
   ]
  },
  {
   "attachments": {},
   "cell_type": "markdown",
   "metadata": {},
   "source": [
    "#### 394.Decode String"
   ]
  },
  {
   "cell_type": "code",
   "execution_count": 9,
   "metadata": {},
   "outputs": [
    {
     "name": "stdout",
     "output_type": "stream",
     "text": [
      "aaabcbc\n",
      "accaccacc\n",
      "abcabccdcdcdef\n",
      "leetcodeleetcodeleetcodeleetcodeleetcodeleetcodeleetcodeleetcodeleetcodeleetcode\n"
     ]
    }
   ],
   "source": [
    "class Solution:\n",
    "    def decodeString(self, s: str) -> str:\n",
    "        char_stack = []\n",
    "        for ch in s:\n",
    "            if ch != ']':\n",
    "                char_stack.append(ch)\n",
    "            else:\n",
    "                rep = ''\n",
    "                while char_stack[-1] != '[':\n",
    "                    rep = char_stack.pop() + rep\n",
    "                char_stack.pop()\n",
    "                \n",
    "                count = ''\n",
    "                while char_stack and char_stack[-1].isdigit():\n",
    "                    count = char_stack.pop() + count\n",
    "\n",
    "                char_stack.append(rep*int(count))\n",
    "        return ''.join(char_stack)\n",
    "\n",
    "sol = Solution()\n",
    "print(sol.decodeString(\"3[a]2[bc]\")) #aaabcbc\n",
    "print(sol.decodeString(\"3[a2[c]]\")) #accaccacc\n",
    "print(sol.decodeString(\"2[abc]3[cd]ef\")) #abcabccdcdcdef\n",
    "print(sol.decodeString(\"10[leetcode]\")) "
   ]
  },
  {
   "attachments": {},
   "cell_type": "markdown",
   "metadata": {},
   "source": [
    "#### 9.Palindrome Number"
   ]
  },
  {
   "cell_type": "code",
   "execution_count": 10,
   "metadata": {},
   "outputs": [
    {
     "name": "stdout",
     "output_type": "stream",
     "text": [
      "True\n",
      "False\n"
     ]
    }
   ],
   "source": [
    "class Solution:\n",
    "    def isPalindrome(self, x: int) -> bool:\n",
    "        if (x < 0) or (x % 10 == 0 and x != 0):\n",
    "            return False\n",
    "        \n",
    "        reverse = 0\n",
    "\n",
    "        while x > reverse:\n",
    "            reverse = reverse * 10 + x % 10\n",
    "            x = x // 10\n",
    "\n",
    "        return (x == reverse) or (x == reverse // 10)\n",
    "\n",
    "sol = Solution()\n",
    "print(sol.isPalindrome(121))\n",
    "print(sol.isPalindrome(1212))"
   ]
  },
  {
   "attachments": {},
   "cell_type": "markdown",
   "metadata": {},
   "source": [
    "#### 1656.Design an Ordered Stream"
   ]
  },
  {
   "cell_type": "code",
   "execution_count": null,
   "metadata": {},
   "outputs": [],
   "source": [
    "class OrderedStream:\n",
    "\n",
    "    def __init__(self, n: int):\n",
    "        self.num_list = [None] * n\n",
    "        self.ptr = 0\n",
    "        self.cap = n\n",
    "\n",
    "    def insert(self, idKey: int, value: str) -> List[str]:\n",
    "        self.num_list[idKey - 1] = value\n",
    "\n",
    "        res = []\n",
    "        while self.ptr < self.cap and self.num_list[self.ptr]:\n",
    "            res.append(self.num_list[self.ptr])\n",
    "            self.ptr += 1\n",
    "\n",
    "        return res\n",
    "\n",
    "\n",
    "# Your OrderedStream object will be instantiated and called as such:\n",
    "# obj = OrderedStream(n)\n",
    "# param_1 = obj.insert(idKey,value)"
   ]
  },
  {
   "attachments": {},
   "cell_type": "markdown",
   "metadata": {},
   "source": [
    "#### Minimum number of steps to get n from 1"
   ]
  },
  {
   "cell_type": "code",
   "execution_count": 13,
   "metadata": {},
   "outputs": [
    {
     "name": "stdout",
     "output_type": "stream",
     "text": [
      "6\n",
      "7\n"
     ]
    }
   ],
   "source": [
    "# using deque for removing first element from the queue in constant time (popleft)\n",
    "from collections import deque\n",
    "class Solution:\n",
    "    def num_steps(self, n: int):\n",
    "        # initialize queue with 1\n",
    "        queue = deque([1])\n",
    "        no_of_steps = 0\n",
    "\n",
    "        while(queue):\n",
    "            q_len = len(queue)\n",
    "\n",
    "            no_of_steps += 1\n",
    "\n",
    "            for i in range(q_len):\n",
    "                cur_number = queue.popleft()\n",
    "\n",
    "                mul = cur_number * 2\n",
    "                div = cur_number // 3\n",
    "\n",
    "                if(mul == n or div == n): return no_of_steps\n",
    "\n",
    "                # append multiplication and division results to queue\n",
    "                queue.append(mul)\n",
    "                if(div > 0): queue.append(div)\n",
    "\n",
    "        return no_of_steps\n",
    "\n",
    "sol = Solution()\n",
    "print(sol.num_steps(10)) #6\n",
    "print(sol.num_steps(3)) #7\n",
    "\n"
   ]
  },
  {
   "attachments": {},
   "cell_type": "markdown",
   "metadata": {},
   "source": [
    "#### 304.Range Sum Query 2D - Immutable"
   ]
  },
  {
   "cell_type": "code",
   "execution_count": 15,
   "metadata": {},
   "outputs": [],
   "source": [
    "class NumMatrix:\n",
    "\n",
    "    def __init__(self, matrix: List[List[int]]):\n",
    "        self.ROWS = len(matrix)\n",
    "        self.COLS = len(matrix[0])\n",
    "        self.prefix_sum = [[0 for i in range(self.COLS + 1)] for j in range(self.ROWS + 1)]\n",
    "        \n",
    "        \n",
    "        for row in range(self.ROWS):\n",
    "            prefix = 0\n",
    "            for col in range(self.COLS):\n",
    "                prefix += matrix[row][col]\n",
    "                above = self.prefix_sum[row][col + 1]\n",
    "                self.prefix_sum[row + 1][col + 1] = prefix + above\n",
    "                \n",
    "\n",
    "    def sumRegion(self, row1: int, col1: int, row2: int, col2: int) -> int:\n",
    "        curr_sum = self.prefix_sum[row2 + 1][col2 + 1]\n",
    "        curr_sum -= self.prefix_sum[row1][col2 + 1] \n",
    "        curr_sum -= self.prefix_sum[row2 + 1][col1]\n",
    "        curr_sum += self.prefix_sum[row1][col1]\n",
    "        \n",
    "        return curr_sum\n",
    "        \n",
    "sol = NumMatrix([[3, 0, 1, 4, 2], [5, 6, 3, 2, 1], [1, 2, 0, 1, 5], [4, 1, 0, 1, 7], [1, 0, 3, 0, 5]])\n",
    "\n",
    "# Your NumMatrix object will be instantiated and called as such:\n",
    "# obj = NumMatrix(matrix)\n",
    "# param_1 = obj.sumRegion(row1,col1,row2,col2)"
   ]
  },
  {
   "attachments": {},
   "cell_type": "markdown",
   "metadata": {},
   "source": [
    "#### Ships in the ocean"
   ]
  },
  {
   "cell_type": "code",
   "execution_count": 8,
   "metadata": {},
   "outputs": [
    {
     "name": "stdout",
     "output_type": "stream",
     "text": [
      "3\n"
     ]
    }
   ],
   "source": [
    "class Solution:\n",
    "    def hasShips(self, bottomLeft: tuple[int], topRight: tuple[int]) -> bool:\n",
    "        ships = [[1,1], [2,2], [3,3], [5,5]] # Hardcoded for this example\n",
    "        \n",
    "        bottom, left = bottomLeft\n",
    "        top, right = topRight\n",
    "\n",
    "        for x, y in ships:\n",
    "            if left <= x <= right and bottom <= y <= top:\n",
    "                return True\n",
    "        \n",
    "        return False\n",
    "\n",
    "    \n",
    "    def countShips(self, bottom, left, top, right):\n",
    "        if left > right or bottom > top: return 0\n",
    "        if not self.hasShips((bottom, left), (top, right)):\n",
    "            return 0\n",
    "        \n",
    "        if (left == right) and (top == bottom):\n",
    "            return 1 if self.hasShips((bottom, left), (top, right)) else 0\n",
    "        \n",
    "\n",
    "        if left == right:\n",
    "            return (self.countShips((bottom + top)//2 + 1, left, top, right) + \n",
    "                self.countShips(bottom, left, (top + bottom)//2, right))\n",
    "        \n",
    "        if top == bottom:\n",
    "            return (self.countShips(bottom, left, top, (left + right)//2) + \n",
    "                self.countShips(bottom, (left + right)//2 + 1, top, right))\n",
    "        \n",
    "        return (\n",
    "            self.countShips(bottom, left, (top + bottom)//2, (right + left)//2) + #Q1\n",
    "            self.countShips(bottom, (right + left)//2 + 1, (top + bottom)//2, right) + #Q2\n",
    "            self.countShips((top + bottom)//2 + 1, left, top, (right + left)//2) + #Q3\n",
    "            self.countShips((top + bottom)//2 + 1, (right + left)//2 + 1, top, right) #Q4\n",
    "        )\n",
    "\n",
    "sol = Solution()\n",
    "print(sol.countShips(0,0,4,4))"
   ]
  },
  {
   "attachments": {},
   "cell_type": "markdown",
   "metadata": {},
   "source": [
    "#### Currency Conversion"
   ]
  },
  {
   "cell_type": "code",
   "execution_count": 4,
   "metadata": {},
   "outputs": [
    {
     "name": "stdout",
     "output_type": "stream",
     "text": [
      "1.883116883116883\n"
     ]
    }
   ],
   "source": [
    "from collections import defaultdict\n",
    "from collections import deque\n",
    "\n",
    "\n",
    "def getRatio(start, end, data):\n",
    "    dict = defaultdict(list)\n",
    "    for node in data:\n",
    "        dict[node[0]].append([node[1], node[2]])\n",
    "        dict[node[1]].append([node[0], 1.0 / node[2]])\n",
    "    queue = deque()\n",
    "    queue.append((start, 1.0))\n",
    "    visited = set()\n",
    "    while queue:\n",
    "        curr, num = queue.popleft()\n",
    "        if curr in visited:\n",
    "            continue\n",
    "        visited.add(curr)\n",
    "        if curr in dict:\n",
    "            values = dict.get(curr)\n",
    "            for dst, val in values:\n",
    "                if dst not in visited:\n",
    "                    if dst == end:\n",
    "                        return num * val\n",
    "                    queue.append((dst, num * val))\n",
    "    \n",
    "    return -1\n",
    "\n",
    "\n",
    "data = [(\"USD\", \"JPY\", 110), (\"USD\", \"AUD\", 1.45), (\"JPY\", \"GBP\", 0.0070)]\n",
    "print(getRatio(\"GBP\", \"AUD\", data))"
   ]
  },
  {
   "attachments": {},
   "cell_type": "markdown",
   "metadata": {},
   "source": [
    "#### 766.Toeplitz Matrix"
   ]
  },
  {
   "cell_type": "code",
   "execution_count": 75,
   "metadata": {},
   "outputs": [
    {
     "name": "stdout",
     "output_type": "stream",
     "text": [
      "True\n",
      "False\n"
     ]
    }
   ],
   "source": [
    "class Solution:\n",
    "    def isToeplitzMatrix(self, matrix: List[List[int]]) -> bool:\n",
    "        ROWS = len(matrix)\n",
    "        COLS = len(matrix[0])\n",
    "\n",
    "        def diag_check(r,c):\n",
    "            prev_val = matrix[r][c]\n",
    "            while True:\n",
    "                if prev_val != matrix[r][c]:\n",
    "                    return False\n",
    "                prev_val = matrix[r][c]\n",
    "                r += 1\n",
    "                c += 1\n",
    "                if not (0 <= r < ROWS and 0 <= c < COLS):\n",
    "                    break\n",
    "                \n",
    "\n",
    "            return True\n",
    "\n",
    "\n",
    "        for r in range(ROWS - 2, -1, -1):\n",
    "            if not diag_check(r, 0):\n",
    "                return False\n",
    "\n",
    "        for c in range(0, COLS - 1):\n",
    "            if not diag_check(0, c):\n",
    "                return False\n",
    "\n",
    "        return True\n",
    "\n",
    "sol = Solution()\n",
    "print(sol.isToeplitzMatrix([[1,2,3,4],[5,1,2,3],[9,5,1,2]])) #True\n",
    "print(sol.isToeplitzMatrix([[1,2],[2,2]])) #False"
   ]
  },
  {
   "attachments": {},
   "cell_type": "markdown",
   "metadata": {},
   "source": [
    "#### 1396.Design Underground System"
   ]
  },
  {
   "cell_type": "code",
   "execution_count": 39,
   "metadata": {},
   "outputs": [
    {
     "name": "stdout",
     "output_type": "stream",
     "text": [
      "14.0\n",
      "11.0\n",
      "11.0\n",
      "12.0\n"
     ]
    }
   ],
   "source": [
    "class UndergroundSystem:\n",
    "\n",
    "    def __init__(self):\n",
    "        self.checkIn_map = {}\n",
    "        self.avg_map = {}\n",
    "\n",
    "    def checkIn(self, id: int, stationName: str, t: int) -> None:\n",
    "        self.checkIn_map[id] = (stationName, t)\n",
    "\n",
    "    def checkOut(self, id: int, stationName: str, t: int) -> None:\n",
    "        start, start_t = self.checkIn_map.pop(id)\n",
    "        curr_key = start + '->' + stationName\n",
    "        curr_dur = t - start_t\n",
    "        avg, trips = self.avg_map.get(curr_key, (0, 0))\n",
    "        trips += 1\n",
    "        self.avg_map[curr_key] = ((avg * (trips - 1) + curr_dur)/trips, trips)\n",
    "\n",
    "\n",
    "    def getAverageTime(self, startStation: str, endStation: str) -> float:\n",
    "        return self.avg_map[startStation + '->' + endStation][0]\n",
    "\n",
    "\n",
    "undergroundSystem = UndergroundSystem()\n",
    "undergroundSystem.checkIn(45, \"Leyton\", 3)\n",
    "undergroundSystem.checkIn(32, \"Paradise\", 8)\n",
    "undergroundSystem.checkIn(27, \"Leyton\", 10)\n",
    "undergroundSystem.checkOut(45, \"Waterloo\", 15)  # Customer 45 \"Leyton\" -> \"Waterloo\" in 15-3 = 12\n",
    "undergroundSystem.checkOut(27, \"Waterloo\", 20)  # Customer 27 \"Leyton\" -> \"Waterloo\" in 20-10 = 10\n",
    "undergroundSystem.checkOut(32, \"Cambridge\", 22) # Customer 32 \"Paradise\" -> \"Cambridge\" in 22-8 = 14\n",
    "print(undergroundSystem.getAverageTime(\"Paradise\", \"Cambridge\")) # return 14.00000. One trip \"Paradise\" -> \"Cambridge\", (14) / 1 = 14\n",
    "print(undergroundSystem.getAverageTime(\"Leyton\", \"Waterloo\"))    # return 11.00000. Two trips \"Leyton\" -> \"Waterloo\", (10 + 12) / 2 = 11\n",
    "undergroundSystem.checkIn(10, \"Leyton\", 24)\n",
    "print(undergroundSystem.getAverageTime(\"Leyton\", \"Waterloo\"))    # return 11.00000\n",
    "undergroundSystem.checkOut(10, \"Waterloo\", 38)  # Customer 10 \"Leyton\" -> \"Waterloo\" in 38-24 = 14\n",
    "print(undergroundSystem.getAverageTime(\"Leyton\", \"Waterloo\"))    # return 12.00000. Three trips \"Leyton\" -> \"Waterloo\", (10 + 12 + 14) / 3 = 12"
   ]
  },
  {
   "attachments": {},
   "cell_type": "markdown",
   "metadata": {},
   "source": [
    "#### 285.Inorder Successor in BST"
   ]
  },
  {
   "cell_type": "code",
   "execution_count": 7,
   "metadata": {},
   "outputs": [
    {
     "name": "stdout",
     "output_type": "stream",
     "text": [
      "25\n"
     ]
    }
   ],
   "source": [
    "# Definition for a binary tree node.\n",
    "class TreeNode(object):\n",
    "    def __init__(self, x):\n",
    "        self.val = x\n",
    "        self.left = None\n",
    "        self.right = None\n",
    "\n",
    "class Solution(object):\n",
    "  def inorderSuccessor(self, root, target):\n",
    "    \"\"\"\n",
    "    :type root: TreeNode\n",
    "    :type p: TreeNode\n",
    "    :rtype: TreeNode\n",
    "    \"\"\"\n",
    "    successor = None\n",
    "\n",
    "    temp = root\n",
    "    while temp:\n",
    "      if target >= temp.val:\n",
    "        temp = temp.right\n",
    "      else:\n",
    "        successor = temp\n",
    "        temp = temp.left\n",
    "    return successor.val if successor else None\n",
    "\n",
    "tree = TreeNode(20)\n",
    "tree.left = TreeNode(9)\n",
    "tree.left.left = TreeNode(5)\n",
    "tree.left.right = TreeNode(12)\n",
    "tree.left.right.left = TreeNode(11)\n",
    "tree.left.right.right = TreeNode(14)\n",
    "tree.right = TreeNode(25)\n",
    "\n",
    "sol = Solution()\n",
    "\n",
    "print(sol.inorderSuccessor(tree, 20))"
   ]
  },
  {
   "attachments": {},
   "cell_type": "markdown",
   "metadata": {},
   "source": [
    "#### 665.Non-decreasing Array"
   ]
  },
  {
   "cell_type": "code",
   "execution_count": null,
   "metadata": {},
   "outputs": [],
   "source": [
    "class Solution:\n",
    "    def checkPossibility(self, nums: List[int]) -> bool:\n",
    "        flag = False\n",
    "\n",
    "        for i in range(len(nums) - 1):\n",
    "            if nums[i] <= nums[i + 1]:\n",
    "                continue\n",
    "            if flag:\n",
    "                return False\n",
    "            # [4, 2] -> [2, 2]\n",
    "            # [4, 2, 5] -> [4, 5, 5]\n",
    "            # else [4, 2, 3] -> [4, 3, 3]\n",
    "            if i == 0 or nums[i + 1] >= nums[i -1]:\n",
    "                nums[i] = nums[i + 1]\n",
    "            else:\n",
    "                nums[i + 1] = nums[i]\n",
    "\n",
    "            flag = True\n",
    "        \n",
    "        return True"
   ]
  },
  {
   "attachments": {},
   "cell_type": "markdown",
   "metadata": {},
   "source": [
    "#### 75.Sort Colors"
   ]
  },
  {
   "cell_type": "code",
   "execution_count": null,
   "metadata": {},
   "outputs": [],
   "source": [
    "class Solution:\n",
    "    def sortColors(self, nums: List[int]) -> None:\n",
    "        \"\"\"\n",
    "        Do not return anything, modify nums in-place instead.\n",
    "        \"\"\"\n",
    "        l, r = 0, len(nums) - 1\n",
    "        i = 0\n",
    "\n",
    "        while i <= r:\n",
    "            if nums[i] == 0:\n",
    "                nums[l], nums[i] = nums[i], nums[l]\n",
    "                l += 1\n",
    "            elif nums[i] == 2:\n",
    "                nums[r], nums[i] = nums[i], nums[r]\n",
    "                r -= 1\n",
    "                i -= 1\n",
    "            i += 1"
   ]
  },
  {
   "attachments": {},
   "cell_type": "markdown",
   "metadata": {},
   "source": [
    "#### 535.Encode and Decode TinyURL"
   ]
  },
  {
   "cell_type": "code",
   "execution_count": null,
   "metadata": {},
   "outputs": [],
   "source": [
    "import string, random\n",
    "class Codec:\n",
    "    def __init__(self):\n",
    "        self.alphabet = string.ascii_letters + '0123456789'\n",
    "        self.url2code = {}\n",
    "        self.code2url = {}\n",
    "\n",
    "    def encode(self, longUrl):\n",
    "        while longUrl not in self.url2code:\n",
    "            code = ''.join(random.choice(self.alphabet) for _ in range(6))\n",
    "            if code not in self.code2url:\n",
    "                self.code2url[code] = longUrl\n",
    "                self.url2code[longUrl] = code\n",
    "        return 'http://tinyurl.com/' + self.url2code[longUrl]\n",
    "\n",
    "    def decode(self, shortUrl):\n",
    "        return self.code2url[shortUrl[-6:]]\n",
    "        \n",
    "\n",
    "# Your Codec object will be instantiated and called as such:\n",
    "# codec = Codec()\n",
    "# codec.decode(codec.encode(url))"
   ]
  },
  {
   "attachments": {},
   "cell_type": "markdown",
   "metadata": {},
   "source": [
    "#### 122.Best Time to Buy and Sell Stock II"
   ]
  },
  {
   "cell_type": "code",
   "execution_count": null,
   "metadata": {},
   "outputs": [],
   "source": [
    "class Solution:\n",
    "    def maxProfit(self, prices: List[int]) -> int:\n",
    "        profit = 0\n",
    "\n",
    "        for i in range(1, len(prices)):\n",
    "            if prices[i] > prices[i - 1]:\n",
    "                profit += prices[i] - prices[i - 1]\n",
    "\n",
    "        return profit"
   ]
  },
  {
   "attachments": {},
   "cell_type": "markdown",
   "metadata": {},
   "source": [
    "#### 560.Subarray Sum Equals K"
   ]
  },
  {
   "cell_type": "code",
   "execution_count": null,
   "metadata": {},
   "outputs": [],
   "source": [
    "class Solution:\n",
    "    def subarraySum(self, nums: List[int], k: int) -> int:\n",
    "        count, curr_sum, prefix_map = 0,0,{0:1}\n",
    "        for i in nums:\n",
    "            curr_sum+=i\n",
    "            if curr_sum-k in prefix_map: \n",
    "                count+=prefix_map[curr_sum-k]\n",
    "            prefix_map[curr_sum] = prefix_map.get(curr_sum,0)+1\n",
    "        return count"
   ]
  },
  {
   "attachments": {},
   "cell_type": "markdown",
   "metadata": {},
   "source": [
    "#### Leaderboard or Stock ticker"
   ]
  },
  {
   "cell_type": "code",
   "execution_count": 27,
   "metadata": {},
   "outputs": [
    {
     "name": "stdout",
     "output_type": "stream",
     "text": [
      "defaultdict(<class 'int'>, {'A': 73})\n",
      "defaultdict(<class 'int'>, {'A': 73, 'B': 56})\n",
      "defaultdict(<class 'int'>, {'A': 73, 'B': 56, 'C': 39})\n",
      "defaultdict(<class 'int'>, {'A': 73, 'B': 56, 'C': 39, 'D': 51})\n",
      "defaultdict(<class 'int'>, {'A': 73, 'B': 56, 'C': 39, 'D': 51, 'E': 4})\n",
      "73\n",
      "defaultdict(<class 'int'>, {'B': 56, 'C': 39, 'D': 51, 'E': 4})\n",
      "defaultdict(<class 'int'>, {'C': 39, 'D': 51, 'E': 4})\n",
      "defaultdict(<class 'int'>, {'C': 39, 'D': 51, 'E': 4, 'B': 51})\n",
      "141\n"
     ]
    }
   ],
   "source": [
    "import heapq\n",
    "class Leaderboard:\n",
    "    def __init__(self):\n",
    "        self.scores = collections.defaultdict(int)\n",
    "    \n",
    "    def addScore(self, playerId, score):\n",
    "        self.scores[playerId] += score\n",
    "        print(self.scores)\n",
    "    \n",
    "    def top(self,k):\n",
    "        return sum(heapq.nlargest(k, self.scores.values()))\n",
    "\n",
    "    def reset(self, playerId: int) -> None:\n",
    "        del self.scores[playerId]\n",
    "        print(self.scores)\n",
    "\n",
    "obj = Leaderboard()\n",
    "obj.addScore('A', 73)\n",
    "obj.addScore('B', 56)\n",
    "obj.addScore('C', 39)\n",
    "obj.addScore('D', 51)\n",
    "obj.addScore('E', 4)\n",
    "print(obj.top(1))\n",
    "obj.reset('A')\n",
    "obj.reset('B')\n",
    "obj.addScore('B', 51)\n",
    "print(obj.top(3))"
   ]
  },
  {
   "attachments": {},
   "cell_type": "markdown",
   "metadata": {},
   "source": [
    "#### 733.Flood Fill"
   ]
  },
  {
   "cell_type": "code",
   "execution_count": 5,
   "metadata": {},
   "outputs": [
    {
     "name": "stdout",
     "output_type": "stream",
     "text": [
      "(1, 1)\n",
      "(0, 1)\n",
      "(0, 2)\n",
      "(0, 0)\n",
      "(1, 0)\n",
      "(2, 0)\n",
      "[[2, 2, 2], [2, 2, 0], [2, 0, 1]]\n"
     ]
    }
   ],
   "source": [
    "class Solution:\n",
    "    def floodFill(self, image: List[List[int]], sr: int, sc: int, color: int) -> List[List[int]]:\n",
    "        ROWS = len(image)\n",
    "        COLS = len(image[0])\n",
    "        START_COL = image[sr][sc]\n",
    "        visited = set()\n",
    "        \n",
    "        def dfs(r, c):\n",
    "            if not (r in range(ROWS)\n",
    "            and c in range(COLS)\n",
    "            and (r, c) not in visited\n",
    "            and image[r][c] == START_COL):\n",
    "                return\n",
    "            \n",
    "            image[r][c] = color\n",
    "            visited.add((r,c))\n",
    "            \n",
    "            for i, j in [(1,0), (-1, 0), (0, 1), (0, -1)]:\n",
    "                dfs(r + i, c + j)\n",
    "        \n",
    "        dfs(sr, sc)\n",
    "        print(image)\n",
    "\n",
    "sol = Solution()\n",
    "sol.floodFill([[1,1,1],[1,1,0],[1,0,1]], 1, 1, 2)"
   ]
  },
  {
   "attachments": {},
   "cell_type": "markdown",
   "metadata": {},
   "source": [
    "#### 30.Substring with Concatenation of All Words"
   ]
  },
  {
   "cell_type": "code",
   "execution_count": 10,
   "metadata": {},
   "outputs": [
    {
     "name": "stdout",
     "output_type": "stream",
     "text": [
      "[0, 9]\n"
     ]
    }
   ],
   "source": [
    "class Solution:\n",
    "    def findSubstring(self, s: str, words: List[str]) -> List[int]:\n",
    "        word_len = len(words[0])\n",
    "        orig_word_count = collections.defaultdict(int)\n",
    "\t\t\n",
    "        for word in words:\n",
    "            orig_word_count[word] += 1\n",
    "        \n",
    "        total_string_len = len(words) * word_len\n",
    "        \n",
    "        result = []\n",
    "        \n",
    "        for i in range(word_len):\n",
    "            queue = collections.deque()\n",
    "            copy_count = orig_word_count.copy()\n",
    "\n",
    "            for j in range(i, len(s) - word_len + 1, word_len):\n",
    "                word = s[j:j + word_len]\n",
    "                if copy_count.get(word, 0) != 0:\n",
    "                    copy_count[word] -= 1\n",
    "                    queue.append(word)\n",
    "\n",
    "                    if sum(copy_count.values()) == 0:\n",
    "                        result.append(j - total_string_len + word_len)\n",
    "                        last_ele = queue.popleft()\n",
    "                        copy_count[last_ele] = copy_count[last_ele] + 1\n",
    "                else:\n",
    "                    while len(queue):\n",
    "                        last_ele = queue.popleft()\n",
    "                        if last_ele == word:\n",
    "                            queue.append(word)\n",
    "                            break\n",
    "                        else:\n",
    "                            copy_count[last_ele] = copy_count[last_ele] + 1\n",
    "                            if copy_count[last_ele] > orig_word_count[last_ele]:\n",
    "                                copy_count = orig_word_count.copy()\n",
    "\n",
    "        return result\n",
    "\n",
    "sol = Solution()\n",
    "print(sol.findSubstring(\"barfoothefoobarman\", [\"foo\",\"bar\"])) #[0, 9]"
   ]
  },
  {
   "attachments": {},
   "cell_type": "markdown",
   "metadata": {},
   "source": [
    "#### 37.Sudoku Solver"
   ]
  },
  {
   "cell_type": "code",
   "execution_count": 17,
   "metadata": {},
   "outputs": [
    {
     "name": "stdout",
     "output_type": "stream",
     "text": [
      "[['5', '3', '4', '6', '7', '8', '9', '1', '2'], ['6', '7', '2', '1', '9', '5', '3', '4', '8'], ['1', '9', '8', '3', '4', '2', '5', '6', '7'], ['8', '5', '9', '7', '6', '1', '4', '2', '3'], ['4', '2', '6', '8', '5', '3', '7', '9', '1'], ['7', '1', '3', '9', '2', '4', '8', '5', '6'], ['9', '6', '1', '5', '3', '7', '2', '8', '4'], ['2', '8', '7', '4', '1', '9', '6', '3', '5'], ['3', '4', '5', '2', '8', '6', '1', '7', '9']]\n",
      "None\n"
     ]
    }
   ],
   "source": [
    "class Solution:\n",
    "    def solveSudoku(self, board: List[List[str]]) -> None:\n",
    "        \"\"\"\n",
    "        Do not return anything, modify board in-place instead.\n",
    "        \"\"\"\n",
    "        rows = [set() for _ in range(9)]\n",
    "        columns = [set() for _ in range(9)]\n",
    "        boxes = [[set() for _ in range(3)] for _ in range(3)]\n",
    "\n",
    "        for i in range(9):\n",
    "            for j in range(9):\n",
    "                if board[i][j] != '.':\n",
    "                    k = int(board[i][j])\n",
    "                    rows[i].add(k)\n",
    "                    columns[j].add(k)\n",
    "                    boxes[i//3][j//3].add(k)\n",
    "\n",
    "        def backtrack(i,j):\n",
    "            nonlocal solved\n",
    "            if i == 9:\n",
    "                solved = True\n",
    "                return\n",
    "            \n",
    "            new_i = i + (j+1)//9\n",
    "            new_j = (j+1) % 9\n",
    "            \n",
    "            if board[i][j] != '.':\n",
    "                backtrack(new_i, new_j)\n",
    "            else:\n",
    "                for num in range(1,10):\n",
    "                    if (num not in rows[i] \n",
    "                    and num not in columns[j] \n",
    "                    and num not in boxes[i//3][j//3]):\n",
    "                        rows[i].add(num)\n",
    "                        columns[j].add(num)\n",
    "                        boxes[i//3][j//3].add(num)\n",
    "                        board[i][j] = str(num)\n",
    "\n",
    "                        backtrack(new_i, new_j)\n",
    "\n",
    "                        if not solved:\n",
    "                            rows[i].remove(num)\n",
    "                            columns[j].remove(num)\n",
    "                            boxes[i//3][j//3].remove(num)\n",
    "                            board[i][j] = '.'\n",
    "\n",
    "\n",
    "        solved = False\n",
    "        \n",
    "        backtrack(0,0)\n",
    "        print(board)\n",
    "\n",
    "sol = Solution()\n",
    "print(sol.solveSudoku(\n",
    "    [[\"5\",\"3\",\".\",\".\",\"7\",\".\",\".\",\".\",\".\"],\n",
    "     [\"6\",\".\",\".\",\"1\",\"9\",\"5\",\".\",\".\",\".\"],\n",
    "     [\".\",\"9\",\"8\",\".\",\".\",\".\",\".\",\"6\",\".\"],\n",
    "     [\"8\",\".\",\".\",\".\",\"6\",\".\",\".\",\".\",\"3\"],\n",
    "     [\"4\",\".\",\".\",\"8\",\".\",\"3\",\".\",\".\",\"1\"],\n",
    "     [\"7\",\".\",\".\",\".\",\"2\",\".\",\".\",\".\",\"6\"],\n",
    "     [\".\",\"6\",\".\",\".\",\".\",\".\",\"2\",\"8\",\".\"],\n",
    "     [\".\",\".\",\".\",\"4\",\"1\",\"9\",\".\",\".\",\"5\"],\n",
    "     [\".\",\".\",\".\",\".\",\"8\",\".\",\".\",\"7\",\"9\"]])) \n",
    "#[[\"5\",\"3\",\"4\",\"6\",\"7\",\"8\",\"9\",\"1\",\"2\"],\n",
    "# [\"6\",\"7\",\"2\",\"1\",\"9\",\"5\",\"3\",\"4\",\"8\"],\n",
    "# [\"1\",\"9\",\"8\",\"3\",\"4\",\"2\",\"5\",\"6\",\"7\"],\n",
    "# [\"8\",\"5\",\"9\",\"7\",\"6\",\"1\",\"4\",\"2\",\"3\"],\n",
    "# [\"4\",\"2\",\"6\",\"8\",\"5\",\"3\",\"7\",\"9\",\"1\"],\n",
    "# [\"7\",\"1\",\"3\",\"9\",\"2\",\"4\",\"8\",\"5\",\"6\"],\n",
    "# [\"9\",\"6\",\"1\",\"5\",\"3\",\"7\",\"2\",\"8\",\"4\"],\n",
    "# [\"2\",\"8\",\"7\",\"4\",\"1\",\"9\",\"6\",\"3\",\"5\"],\n",
    "# [\"3\",\"4\",\"5\",\"2\",\"8\",\"6\",\"1\",\"7\",\"9\"]]"
   ]
  },
  {
   "attachments": {},
   "cell_type": "markdown",
   "metadata": {},
   "source": [
    "#### 1657.Determine if Two Strings Are Close"
   ]
  },
  {
   "cell_type": "code",
   "execution_count": 53,
   "metadata": {},
   "outputs": [
    {
     "name": "stdout",
     "output_type": "stream",
     "text": [
      "True\n",
      "False\n",
      "True\n"
     ]
    }
   ],
   "source": [
    "class Solution:\n",
    "    def closeStrings(self, word1: str, word2: str) -> bool:\n",
    "        if len(word1) != len(word2): return False\n",
    "\n",
    "        wordCount1 = Counter(word1)\n",
    "        wordCount2 = Counter(word2)\n",
    "\n",
    "        if wordCount1 == wordCount2: return True\n",
    "\n",
    "        if wordCount1.keys() != wordCount2.keys(): return False\n",
    "\n",
    "        if sorted(wordCount1.values()) != sorted(wordCount2.values()):\n",
    "            return False\n",
    "        \n",
    "        return True\n",
    "\n",
    "sol = Solution()\n",
    "print(sol.closeStrings(\"abc\", \"bca\")) #True\n",
    "print(sol.closeStrings(\"a\", \"aa\")) #False\n",
    "print(sol.closeStrings(\"cabbba\", \"abbccc\")) #True"
   ]
  },
  {
   "attachments": {},
   "cell_type": "markdown",
   "metadata": {},
   "source": [
    "#### 2352.Equal Row and Column Pairs"
   ]
  },
  {
   "cell_type": "code",
   "execution_count": 55,
   "metadata": {},
   "outputs": [
    {
     "name": "stdout",
     "output_type": "stream",
     "text": [
      "1\n",
      "3\n"
     ]
    }
   ],
   "source": [
    "class Solution:\n",
    "    def equalPairs(self, grid: List[List[int]]) -> int:\n",
    "        res = 0\n",
    "        \n",
    "        row_freq = Counter(tuple(row) for row in grid)\n",
    "\n",
    "        n = len(grid)\n",
    "        for c in range(n):\n",
    "            col_tuple = tuple([grid[i][c] for i in range(n)])\n",
    "            res += row_freq[col_tuple]\n",
    "\n",
    "        return res\n",
    "\n",
    "sol = Solution()\n",
    "print(sol.equalPairs([[3,2,1],[1,7,6],[2,7,7]])) #1\n",
    "print(sol.equalPairs([[3,1,2,2],[1,4,4,5],[2,4,2,2],[2,4,2,2]])) #3"
   ]
  },
  {
   "cell_type": "markdown",
   "metadata": {},
   "source": [
    "#### 1337.The K Weakest Rows in a Matrix"
   ]
  },
  {
   "cell_type": "code",
   "execution_count": 11,
   "metadata": {},
   "outputs": [
    {
     "name": "stdout",
     "output_type": "stream",
     "text": [
      "[2, 0, 3]\n",
      "[0, 2]\n"
     ]
    }
   ],
   "source": [
    "class Solution:\n",
    "    def kWeakestRows(self, mat: List[List[int]], k: int) -> List[int]:\n",
    "        soldier_map  = [(i, mat[i].count(1)) for i in range(len(mat))]\n",
    "        soldier_map.sort(key = lambda x: x[1])\n",
    "        return [tup[0] for tup in soldier_map[:k]]\n",
    "\n",
    "sol = Solution()\n",
    "print(sol.kWeakestRows([[1,1,0,0,0],\n",
    " [1,1,1,1,0],\n",
    " [1,0,0,0,0],\n",
    " [1,1,0,0,0],\n",
    " [1,1,1,1,1]], 3)) #[2, 0, 3]\n",
    "print(sol.kWeakestRows([[1,0,0,0],\n",
    " [1,1,1,1],\n",
    " [1,0,0,0],\n",
    " [1,0,0,0]], 2)) #[0, 2]\n",
    "\n"
   ]
  },
  {
   "attachments": {},
   "cell_type": "markdown",
   "metadata": {},
   "source": [
    "### Bloomberg"
   ]
  },
  {
   "attachments": {},
   "cell_type": "markdown",
   "metadata": {},
   "source": [
    "#### Easy"
   ]
  },
  {
   "attachments": {},
   "cell_type": "markdown",
   "metadata": {},
   "source": [
    "##### 993.Cousins in Binary Tree"
   ]
  },
  {
   "cell_type": "code",
   "execution_count": 52,
   "metadata": {},
   "outputs": [
    {
     "name": "stdout",
     "output_type": "stream",
     "text": [
      "False\n"
     ]
    }
   ],
   "source": [
    "# Definition for a binary tree node.\n",
    "class TreeNode:\n",
    "    def __init__(self, val=0, left=None, right=None):\n",
    "        self.val = val\n",
    "        self.left = left\n",
    "        self.right = right\n",
    "\n",
    "class Solution:\n",
    "    def isCousins(self, root: Optional[TreeNode], x: int, y: int) -> bool:\n",
    "        q = collections.deque([(root, None)])\n",
    "\n",
    "        while q:\n",
    "            dq_len = len(q)\n",
    "            a, b = None, None #parents\n",
    "            for _ in range(dq_len):\n",
    "                node, par = q.popleft()\n",
    "                if node:\n",
    "                    if x == node.val:\n",
    "                        a = par\n",
    "                    if y == node.val:\n",
    "                        b = par\n",
    "\n",
    "                    if a and b and a != b:\n",
    "                        return True\n",
    "\n",
    "                    q.append((node.left, node))\n",
    "                    q.append((node.right, node))\n",
    "        return False\n",
    "\n",
    "tree = TreeNode(1)\n",
    "tree.left = TreeNode(2)\n",
    "tree.right = TreeNode(3)\n",
    "tree.left.left = TreeNode(4)\n",
    "\n",
    "sol = Solution()\n",
    "print(sol.isCousins(tree, 4, 3))\n",
    "\n",
    "\n"
   ]
  },
  {
   "attachments": {},
   "cell_type": "markdown",
   "metadata": {},
   "source": [
    "##### 344.Reverse String"
   ]
  },
  {
   "cell_type": "code",
   "execution_count": 63,
   "metadata": {},
   "outputs": [
    {
     "name": "stdout",
     "output_type": "stream",
     "text": [
      "['o', 'l', 'l', 'e', 'h']\n",
      "['h', 'a', 'n', 'n', 'a', 'H']\n"
     ]
    }
   ],
   "source": [
    "class Solution:\n",
    "    def reverseString(self, s: List[str]) -> None:\n",
    "        \"\"\"\n",
    "        Do not return anything, modify s in-place instead.\n",
    "        \"\"\"\n",
    "        l, r = 0, len(s) - 1\n",
    "\n",
    "        while l < r:\n",
    "            s[l], s[r] = s[r], s[l]\n",
    "            l += 1\n",
    "            r -= 1\n",
    "\n",
    "sol = Solution()\n",
    "sol.reverseString([\"h\",\"e\",\"l\",\"l\",\"o\"])\n",
    "sol.reverseString([\"H\",\"a\",\"n\",\"n\",\"a\",\"h\"])"
   ]
  },
  {
   "attachments": {},
   "cell_type": "markdown",
   "metadata": {},
   "source": [
    "##### 1047.Remove All Adjacent Duplicates In String"
   ]
  },
  {
   "cell_type": "code",
   "execution_count": null,
   "metadata": {},
   "outputs": [
    {
     "name": "stdout",
     "output_type": "stream",
     "text": [
      "ca\n",
      "ay\n"
     ]
    }
   ],
   "source": [
    "class Solution:\n",
    "    def removeDuplicates(self, s: str) -> str:\n",
    "        res = ''\n",
    "        for ch in s:\n",
    "            if res and res[-1] == ch:\n",
    "                res = res[:-1]\n",
    "            else:\n",
    "                res += ch\n",
    "        return res\n",
    "\n",
    "    def removeDuplicates(self, s: str) -> str:\n",
    "        stack = []\n",
    "\n",
    "        for char in s:\n",
    "            if stack and char==stack[-1]:\n",
    "                stack.pop()\n",
    "            else:\n",
    "                stack.append(char)\n",
    "        \n",
    "        return ''.join(stack)\n",
    "sol = Solution()\n",
    "print(sol.removeDuplicates(\"abbaca\")) #\"ca\"\n",
    "print(sol.removeDuplicates(\"azxxzy\")) #\"ay\""
   ]
  },
  {
   "attachments": {},
   "cell_type": "markdown",
   "metadata": {},
   "source": [
    "##### 387.First Unique Character in a String"
   ]
  },
  {
   "cell_type": "code",
   "execution_count": 13,
   "metadata": {},
   "outputs": [
    {
     "name": "stdout",
     "output_type": "stream",
     "text": [
      "0\n",
      "2\n",
      "-1\n"
     ]
    }
   ],
   "source": [
    "class Solution:\n",
    "    def firstUniqChar(self, s: str) -> int:\n",
    "        count_map = collections.Counter(s)\n",
    "\n",
    "        for i in range(len(s)):\n",
    "            if count_map[s[i]] == 1:\n",
    "                return i\n",
    "\n",
    "        return -1\n",
    "\n",
    "sol = Solution()\n",
    "print(sol.firstUniqChar(\"leetcode\")) #0\n",
    "print(sol.firstUniqChar(\"loveleetcode\")) #2\n",
    "print(sol.firstUniqChar(\"aabb\")) #-1"
   ]
  },
  {
   "attachments": {},
   "cell_type": "markdown",
   "metadata": {},
   "source": [
    "##### First Unique Character in a String"
   ]
  },
  {
   "cell_type": "code",
   "execution_count": 5,
   "metadata": {},
   "outputs": [
    {
     "name": "stdout",
     "output_type": "stream",
     "text": [
      "b\n",
      "b\n",
      "c\n"
     ]
    }
   ],
   "source": [
    "class Solution:\n",
    "    \"\"\"\n",
    "    @param str: str: the given string\n",
    "    @return: char: the first unique character in a given string\n",
    "    \"\"\"\n",
    "    def first_uniq_char(self, str: str) -> str:\n",
    "        count_map = {}\n",
    "\n",
    "        for ch in str:\n",
    "            count_map[ch] = count_map.get(ch, 0) + 1\n",
    "\n",
    "        for k,v in count_map.items():\n",
    "            if v == 1:\n",
    "                return k\n",
    "        \n",
    "\n",
    "sol = Solution()\n",
    "print(sol.first_uniq_char(\"abaccdeff\")) #b\n",
    "print(sol.first_uniq_char(\"aabccd\")) #b\n",
    "print(sol.first_uniq_char(\"xyxyxyxyxaazzbbciuiuiuiuiuiui\")) #c\n"
   ]
  },
  {
   "attachments": {},
   "cell_type": "markdown",
   "metadata": {},
   "source": [
    "##### 203.Remove Linked List Elements"
   ]
  },
  {
   "cell_type": "code",
   "execution_count": null,
   "metadata": {},
   "outputs": [],
   "source": [
    "# Definition for singly-linked list.\n",
    "class ListNode:\n",
    "    def __init__(self, val=0, next=None):\n",
    "        self.val = val\n",
    "        self.next = next\n",
    "\n",
    "class Solution:\n",
    "    def removeElements(self, head: Optional[ListNode], val: int) -> Optional[ListNode]:\n",
    "        dummy = ListNode(-1, head)\n",
    "\n",
    "        prev = dummy\n",
    "        temp = head\n",
    "        while temp:\n",
    "            if temp.val == val:\n",
    "                prev.next = temp.next\n",
    "            else:\n",
    "                prev = temp\n",
    "            temp = temp.next\n",
    "\n",
    "        return dummy.next\n"
   ]
  },
  {
   "attachments": {},
   "cell_type": "markdown",
   "metadata": {},
   "source": [
    "##### 69.Sqrt(x)"
   ]
  },
  {
   "cell_type": "code",
   "execution_count": 33,
   "metadata": {},
   "outputs": [
    {
     "name": "stdout",
     "output_type": "stream",
     "text": [
      "2\n"
     ]
    }
   ],
   "source": [
    "class Solution:\n",
    "    #O(logn) using binary search\n",
    "    def mySqrt(self, x: int) -> int:\n",
    "        low = 0\n",
    "        high = x\n",
    "        \n",
    "        while low <= high:\n",
    "            mid = (high + low) // 2\n",
    "            \n",
    "            if mid ** 2 < x:\n",
    "                low = mid + 1\n",
    "            elif mid ** 2 > x:\n",
    "                high = mid - 1\n",
    "            else:\n",
    "                return mid\n",
    "        \n",
    "        return mid if mid ** 2 < x else mid - 1\n",
    "        \n",
    "sol = Solution()\n",
    "print(sol.mySqrt(4)) #2\n",
    "print(sol.mySqrt(8)) #2"
   ]
  },
  {
   "attachments": {},
   "cell_type": "markdown",
   "metadata": {},
   "source": [
    "##### 836.Rectangle Overlap"
   ]
  },
  {
   "cell_type": "code",
   "execution_count": 31,
   "metadata": {},
   "outputs": [
    {
     "name": "stdout",
     "output_type": "stream",
     "text": [
      "True\n",
      "False\n",
      "False\n"
     ]
    }
   ],
   "source": [
    "class Solution:\n",
    "    def isRectangleOverlap(self, rec1: List[int], rec2: List[int]) -> bool:\n",
    "        left = max(rec1[0], rec2[0]) # x1\n",
    "        right = min(rec1[2], rec2[2]) # x2\n",
    "        bottom = max(rec1[1], rec2[1]) # y1\n",
    "        up = min(rec1[3], rec2[3]) # y2\n",
    "        \n",
    "        if left < right and up > bottom:\n",
    "            return True\n",
    "        else:\n",
    "            return False\n",
    "\n",
    "sol = Solution()\n",
    "print(sol.isRectangleOverlap([0,0,2,2], [1,1,3,3])) #True\n",
    "print(sol.isRectangleOverlap([0,0,1,1], [1,0,2,1])) #False\n",
    "print(sol.isRectangleOverlap([0,0,1,1], [2,2,3,3])) #False"
   ]
  },
  {
   "attachments": {},
   "cell_type": "markdown",
   "metadata": {},
   "source": [
    "##### 88.Merge Sorted Array"
   ]
  },
  {
   "cell_type": "code",
   "execution_count": 47,
   "metadata": {},
   "outputs": [
    {
     "name": "stdout",
     "output_type": "stream",
     "text": [
      "[1, 2, 2, 3, 5, 6]\n"
     ]
    }
   ],
   "source": [
    "class Solution:\n",
    "    def merge(self, nums1: List[int], m: int, nums2: List[int], n: int) -> None:\n",
    "        \"\"\"\n",
    "        Do not return anything, modify nums1 in-place instead.\n",
    "        \"\"\"\n",
    "        last = m + n - 1\n",
    "\n",
    "        while m > 0 and n > 0:\n",
    "            if nums1[m - 1] > nums2[n - 1]:\n",
    "                nums1[last] = nums1[m - 1]\n",
    "                m -= 1\n",
    "            else:\n",
    "                nums1[last] = nums2[n - 1]\n",
    "                n -= 1\n",
    "            last -= 1\n",
    "        \n",
    "\n",
    "        while n > 0:\n",
    "            nums1[last] = nums2[n - 1]\n",
    "            n -= 1\n",
    "            last -= 1\n",
    "\n",
    "        print(nums1)\n",
    "\n",
    "    def merge(self, nums1: List[int], m: int, nums2: List[int], n: int) -> None:\n",
    "        a,b,write_index=m-1,n-1,m+n-1\n",
    "\n",
    "        while b >= 0:\n",
    "            if a>= 0 and nums1[a]>nums2[b]:\n",
    "                nums1[write_index]=nums1[a]\n",
    "                a-= 1\n",
    "            else:\n",
    "                nums1[write_index]=nums2[b]\n",
    "                b-= 1\n",
    "\n",
    "            write_index-= 1\n",
    "\n",
    "\n",
    "sol = Solution()\n",
    "sol.merge([1,2,3,0,0,0], 3, [2,5,6], 3)"
   ]
  },
  {
   "attachments": {},
   "cell_type": "markdown",
   "metadata": {},
   "source": [
    "#### Medium"
   ]
  },
  {
   "attachments": {},
   "cell_type": "markdown",
   "metadata": {},
   "source": [
    "##### 582.Kill Process"
   ]
  },
  {
   "cell_type": "code",
   "execution_count": 2,
   "metadata": {},
   "outputs": [
    {
     "name": "stdout",
     "output_type": "stream",
     "text": [
      "[5, 10]\n",
      "[2]\n"
     ]
    }
   ],
   "source": [
    "class Solution:\n",
    "    \"\"\"\n",
    "    @param pid: the process id\n",
    "    @param ppid: the parent process id\n",
    "    @param kill: a PID you want to kill\n",
    "    @return: a list of PIDs of processes that will be killed in the end\n",
    "             we will sort your return value in output\n",
    "    \"\"\"\n",
    "    def kill_process(self, pid: List[int], ppid: List[int], kill: int) -> List[int]:\n",
    "        parent_map = defaultdict(list)\n",
    "\n",
    "        for i in range(len(pid)):\n",
    "            parent_map[ppid[i]].append(pid[i])\n",
    "\n",
    "        stack = [kill]\n",
    "        res = []\n",
    "        while stack:\n",
    "            id = stack.pop()\n",
    "            res.append(id)\n",
    "            stack.extend(parent_map[id])\n",
    "\n",
    "        return res\n",
    "\n",
    "sol = Solution()\n",
    "print(sol.kill_process([1,3,10,5], [3,0,5,3], 5)) #[5, 10]\n",
    "print(sol.kill_process([1,2,3], [0,1,1], 2)) #[2]\n"
   ]
  },
  {
   "attachments": {},
   "cell_type": "markdown",
   "metadata": {},
   "source": [
    "##### 8.String to Integer (atoi)"
   ]
  },
  {
   "cell_type": "code",
   "execution_count": 36,
   "metadata": {},
   "outputs": [
    {
     "name": "stdout",
     "output_type": "stream",
     "text": [
      "42\n",
      "-42\n",
      "4193\n",
      "0\n",
      "-2147483648\n",
      "0\n"
     ]
    }
   ],
   "source": [
    "class Solution:\n",
    "    def myAtoi(self, s: str) -> int:\n",
    "        if not s:\n",
    "            return 0\n",
    "\n",
    "        max_val = 2**31 - 1\n",
    "        min_val = -2**31\n",
    "\n",
    "        res = 0\n",
    "        pos = 1 #to denote positive or negative\n",
    "        changed = False\n",
    "        \n",
    "        for i in range(len(s)):\n",
    "            if not changed and s[i] == ' ':\n",
    "                continue\n",
    "            elif not changed and s[i] in ['+', '-']:\n",
    "                pos = -1 if s[i] == '-' else 1\n",
    "                changed = True\n",
    "            elif not s[i].isnumeric():\n",
    "                return res * pos\n",
    "            else:\n",
    "                changed = True\n",
    "                res = res * 10 + int(s[i])\n",
    "                if pos != -1 and res > max_val:\n",
    "                    return max_val\n",
    "                elif res * pos < min_val:\n",
    "                    return min_val\n",
    "\n",
    "        return res * pos\n",
    "            \n",
    "\n",
    "\n",
    "sol = Solution()\n",
    "print(sol.myAtoi(\"42\")) #42\n",
    "print(sol.myAtoi(\"     -42\")) #-42\n",
    "print(sol.myAtoi(\"4193 with words\")) #4193\n",
    "print(sol.myAtoi(\"words and 987\")) #987\n",
    "print(sol.myAtoi(\"-91283472332\")) #-2147483648\n",
    "print(sol.myAtoi(\"+-12\")) #0"
   ]
  },
  {
   "attachments": {},
   "cell_type": "markdown",
   "metadata": {},
   "source": [
    "##### 532.K-diff Pairs in an Array"
   ]
  },
  {
   "cell_type": "code",
   "execution_count": 47,
   "metadata": {},
   "outputs": [
    {
     "name": "stdout",
     "output_type": "stream",
     "text": [
      "2\n",
      "4\n",
      "1\n"
     ]
    }
   ],
   "source": [
    "class Solution:\n",
    "    def findPairs(self, nums: List[int], k: int) -> int:\n",
    "        count_map = defaultdict(int)\n",
    "        for num in nums:\n",
    "            count_map[num] += 1\n",
    "\n",
    "        res = 0\n",
    "        for num in count_map.keys():\n",
    "            if k > 0 and num + k in count_map or k == 0 and count_map[num] > 1:\n",
    "                res += 1\n",
    "\n",
    "        return res\n",
    "        \n",
    "\n",
    "sol = Solution()\n",
    "print(sol.findPairs([3,1,4,1,5], 2)) #2\n",
    "print(sol.findPairs([1,2,3,4,5], 1)) #4\n",
    "print(sol.findPairs([1,3,1,5,4], 0)) #1"
   ]
  },
  {
   "attachments": {},
   "cell_type": "markdown",
   "metadata": {},
   "source": [
    "##### 662.Maximum Width of Binary Tree"
   ]
  },
  {
   "cell_type": "code",
   "execution_count": 11,
   "metadata": {},
   "outputs": [
    {
     "name": "stdout",
     "output_type": "stream",
     "text": [
      "4\n"
     ]
    }
   ],
   "source": [
    "# Definition for a binary tree node.\n",
    "class TreeNode:\n",
    "    def __init__(self, val=0, left=None, right=None):\n",
    "        self.val = val\n",
    "        self.left = left\n",
    "        self.right = right\n",
    "\n",
    "class Solution:\n",
    "    def widthOfBinaryTree(self, root: Optional[TreeNode]) -> int:\n",
    "        if not root:\n",
    "            return 0\n",
    "        res = 1\n",
    "        q = collections.deque([(root, 0)])\n",
    "        while q:\n",
    "            q_len = len(q)\n",
    "            first = q[0][1]\n",
    "            last = q[-1][1]\n",
    "            res = max(res, last - first + 1)\n",
    "            for _ in range(q_len):\n",
    "                node, pos = q.popleft()\n",
    "                if node.left:\n",
    "                    q.append((node.left, 2*pos + 1))\n",
    "                if node.right:\n",
    "                    q.append((node.right, 2*pos + 2))\n",
    "        return res\n",
    "\n",
    "tree = TreeNode(1)\n",
    "tree.left = TreeNode(3)\n",
    "tree.right = TreeNode(2)\n",
    "tree.left.left = TreeNode(5)\n",
    "tree.left.right = TreeNode(3)\n",
    "tree.right.right = TreeNode(9)\n",
    "sol = Solution()\n",
    "print(sol.widthOfBinaryTree(tree))"
   ]
  },
  {
   "attachments": {},
   "cell_type": "markdown",
   "metadata": {},
   "source": [
    "##### 328.Odd Even Linked List"
   ]
  },
  {
   "cell_type": "code",
   "execution_count": null,
   "metadata": {},
   "outputs": [],
   "source": [
    "# Definition for singly-linked list.\n",
    "# class ListNode:\n",
    "#     def __init__(self, val=0, next=None):\n",
    "#         self.val = val\n",
    "#         self.next = next\n",
    "class Solution:\n",
    "    \n",
    "    def oddEvenList(self, head: Optional[ListNode]) -> Optional[ListNode]:\n",
    "        if not head:\n",
    "            return head\n",
    "\n",
    "        count = 0\n",
    "        end = head\n",
    "        while end.next:\n",
    "            end = end.next\n",
    "            count += 1\n",
    "\n",
    "        swaps = count // 2 \n",
    "        if count % 2 != 0: \n",
    "            swaps += 1\n",
    "\n",
    "        odd = head\n",
    "        while swaps:\n",
    "            end.next = odd.next\n",
    "            odd.next = odd.next.next\n",
    "            end.next.next = None\n",
    "            odd = odd.next\n",
    "            end = end.next\n",
    "            swaps -= 1\n",
    "\n",
    "        return head\n",
    "\n",
    "    # Faster\n",
    "    def oddEvenList(self, head: Optional[ListNode]) -> Optional[ListNode]:\n",
    "        if not head:\n",
    "            return head\n",
    "        \n",
    "        odd, even, even_head = head, head.next, head.next\n",
    "        \n",
    "        while even and even.next:\n",
    "            odd.next = odd.next.next\n",
    "            even.next = even.next.next\n",
    "            odd = odd.next\n",
    "            even = even.next\n",
    "\n",
    "        odd.next = even_head\n",
    "        return head"
   ]
  },
  {
   "attachments": {},
   "cell_type": "markdown",
   "metadata": {},
   "source": [
    "##### 934.Shortest Bridge"
   ]
  },
  {
   "cell_type": "code",
   "execution_count": 83,
   "metadata": {},
   "outputs": [
    {
     "name": "stdout",
     "output_type": "stream",
     "text": [
      "1\n",
      "2\n",
      "1\n"
     ]
    }
   ],
   "source": [
    "class Solution:\n",
    "    def shortestBridge(self, grid: List[List[int]]) -> int:\n",
    "        N = len(grid)\n",
    "        directions = [(1, 0), (0, 1), (-1, 0), (0, -1)]\n",
    "\n",
    "        def invalid(r, c):\n",
    "            return r < 0 or r == N or c < 0 or c == N\n",
    "\n",
    "        visit = set()\n",
    "        \n",
    "        def dfs(r, c):\n",
    "            if invalid(r,c) or not grid[r][c] or (r,c) in visit:\n",
    "                return\n",
    "            visit.add((r,c))\n",
    "            for x, y in directions:\n",
    "                dfs(r + x, c + y)\n",
    "\n",
    "        def bfs():\n",
    "            level, q = 0, collections.deque(visit)\n",
    "            while q:\n",
    "                q_len = len(q)\n",
    "                for _ in range(q_len):\n",
    "                    r, c = q.popleft()\n",
    "                    for x, y in directions:\n",
    "                        cur_x = r + x\n",
    "                        cur_y = c + y\n",
    "                        if invalid(cur_x, cur_y) or (cur_x, cur_y) in visit:\n",
    "                            continue\n",
    "                        if grid[cur_x][cur_y]:\n",
    "                            return level\n",
    "                        q.append((cur_x, cur_y))\n",
    "                        visit.add((cur_x, cur_y))\n",
    "                level += 1\n",
    "\n",
    "        for i in range(N):\n",
    "            for j in range(N):\n",
    "                if grid[i][j]:\n",
    "                    dfs(i, j)\n",
    "                    return bfs()\n",
    "\n",
    "\n",
    "sol = Solution()\n",
    "print(sol.shortestBridge([[0,1],[1,0]])) #1\n",
    "print(sol.shortestBridge([[0,1,0],[0,0,0],[0,0,1]])) #2\n",
    "print(sol.shortestBridge([[1,1,1,1,1],[1,0,0,0,1],[1,0,1,0,1],[1,0,0,0,1],[1,1,1,1,1]])) #1"
   ]
  },
  {
   "attachments": {},
   "cell_type": "markdown",
   "metadata": {},
   "source": [
    "##### 236.Lowest Common Ancestor of a Binary Tree"
   ]
  },
  {
   "cell_type": "code",
   "execution_count": null,
   "metadata": {},
   "outputs": [],
   "source": [
    "# Definition for a binary tree node.\n",
    "class TreeNode:\n",
    "    def __init__(self, x):\n",
    "        self.val = x\n",
    "        self.left = None\n",
    "        self.right = None\n",
    "\n",
    "\n",
    "class Solution:\n",
    "    #O(n) - the node that returns true for both values is the common ancestor\n",
    "    def lowestCommonAncestor(self, root: 'TreeNode', p: 'TreeNode', q: 'TreeNode') -> 'TreeNode':\n",
    "        if root.val == p.val or root.val == q.val:\n",
    "            return root\n",
    "        if not root.left and not root.right:\n",
    "            return None\n",
    "\n",
    "        left, right = None, None\n",
    "        if root.left:\n",
    "            left = self.lowestCommonAncestor(root.left, p, q)\n",
    "        if root.right:\n",
    "            right = self.lowestCommonAncestor(root.right, p, q)\n",
    "\n",
    "        if left and right:\n",
    "            return root\n",
    "        \n",
    "        return left if left != None else right"
   ]
  },
  {
   "attachments": {},
   "cell_type": "markdown",
   "metadata": {},
   "source": [
    "##### 652.Find Duplicate Subtrees"
   ]
  },
  {
   "cell_type": "code",
   "execution_count": null,
   "metadata": {},
   "outputs": [],
   "source": [
    "# Definition for a binary tree node.\n",
    "class TreeNode:\n",
    "    def __init__(self, val=0, left=None, right=None):\n",
    "        self.val = val\n",
    "        self.left = left\n",
    "        self.right = right\n",
    "\n",
    "class Solution:\n",
    "    #O(n) since all the nodes are being traversed exactly once; time and space\n",
    "    def findDuplicateSubtrees(self, root: Optional[TreeNode]) -> List[Optional[TreeNode]]:\n",
    "        res = []\n",
    "        path_map = {}\n",
    "\n",
    "        def dfs(node, path):\n",
    "            if not node:\n",
    "                return \"X\"\n",
    "\n",
    "            path += \",\".join([str(node.val), dfs(node.left, path), dfs(node.right, path)])\n",
    "\n",
    "            if path in path_map:\n",
    "                path_map[path] += 1\n",
    "\n",
    "                if path_map[path] == 2:\n",
    "                    res.append(node)\n",
    "            else:\n",
    "                path_map[path] = 1\n",
    "\n",
    "            return path\n",
    "            \n",
    "        dfs(root, '')\n",
    "        return res"
   ]
  },
  {
   "attachments": {},
   "cell_type": "markdown",
   "metadata": {},
   "source": [
    "##### 978.Longest Turbulent Subarray"
   ]
  },
  {
   "cell_type": "code",
   "execution_count": 20,
   "metadata": {},
   "outputs": [
    {
     "name": "stdout",
     "output_type": "stream",
     "text": [
      "5\n",
      "2\n",
      "1\n"
     ]
    }
   ],
   "source": [
    "class Solution:\n",
    "    # timeOut -- Wrong\n",
    "    def maxTurbulenceSize1(self, arr: List[int]) -> int:\n",
    "        start = 0\n",
    "        res = 1\n",
    "\n",
    "        while start < len(arr) -1:\n",
    "            j = start + 1\n",
    "            great_flag = arr[start] > arr[j]\n",
    "            prev = arr[start]\n",
    "            \n",
    "            while j < len(arr):\n",
    "                if (great_flag and prev > arr[j]\n",
    "                    or not great_flag and prev < arr[j]):\n",
    "                    prev = arr[j]\n",
    "                    res = max(res, j - start + 1)\n",
    "                    j += 1\n",
    "                    great_flag = not great_flag\n",
    "                    \n",
    "                else:\n",
    "                    break\n",
    "            \n",
    "            start += 1\n",
    "\n",
    "        return res\n",
    "\n",
    "    # O(n) time, O(1) space\n",
    "    def maxTurbulenceSize(self, arr: List[int]) -> int:\n",
    "        def cmp(a, b):\n",
    "            return (a > b) - (a < b) \n",
    "\n",
    "        N = len(arr)\n",
    "        ans = 1\n",
    "        anchor = 0\n",
    "\n",
    "        for i in range(1, N):\n",
    "            c = cmp(arr[i-1], arr[i])\n",
    "            if c == 0:\n",
    "                anchor = i\n",
    "            elif i == N-1 or c * cmp(arr[i], arr[i+1]) != -1:\n",
    "                ans = max(ans, i - anchor + 1)\n",
    "                anchor = i\n",
    "        return ans\n",
    "\n",
    "sol = Solution()\n",
    "print(sol.maxTurbulenceSize([9,4,2,10,7,8,8,1,9])) #5\n",
    "print(sol.maxTurbulenceSize([4,8,12,16])) #2\n",
    "print(sol.maxTurbulenceSize([100])) #1"
   ]
  },
  {
   "attachments": {},
   "cell_type": "markdown",
   "metadata": {},
   "source": [
    "##### 1209.Remove All Adjacent Duplicates in String II"
   ]
  },
  {
   "cell_type": "code",
   "execution_count": 124,
   "metadata": {},
   "outputs": [
    {
     "name": "stdout",
     "output_type": "stream",
     "text": [
      "abcd\n",
      "aa\n",
      "ps\n"
     ]
    }
   ],
   "source": [
    "class Solution:\n",
    "    def removeDuplicates(self, s: str, k: int) -> str:\n",
    "        stack = [] #[char, count]\n",
    "\n",
    "        for c in s:\n",
    "            if stack and stack[-1][0] == c:\n",
    "                stack[-1][1] += 1\n",
    "                if stack[-1][1] == k:\n",
    "                    stack.pop()\n",
    "            else:\n",
    "                stack.append([c, 1])\n",
    "\n",
    "        return \"\".join([ch*c for ch, c in stack]) if stack else \"\"\n",
    "            \n",
    "\n",
    "sol  = Solution()\n",
    "print(sol.removeDuplicates(\"abcd\", 2)) #\"abcd\"\n",
    "print(sol.removeDuplicates(\"deeedbbcccbdaa\", 3)) #\"aa\"\n",
    "print(sol.removeDuplicates(\"pbbcggttciiippooaais\", 2)) #\"ps\""
   ]
  },
  {
   "attachments": {},
   "cell_type": "markdown",
   "metadata": {},
   "source": [
    "##### 390.Elimination Game"
   ]
  },
  {
   "cell_type": "code",
   "execution_count": 21,
   "metadata": {},
   "outputs": [
    {
     "name": "stdout",
     "output_type": "stream",
     "text": [
      "6\n",
      "1\n"
     ]
    }
   ],
   "source": [
    "class Solution:\n",
    "    def lastRemaining(self, n: int) -> int:\n",
    "        res = 1\n",
    "        rem = n\n",
    "        left = True\n",
    "        step = 1\n",
    "\n",
    "        while rem > 1:\n",
    "            if left or rem % 2 == 1:\n",
    "                res += step\n",
    "\n",
    "            rem = rem//2\n",
    "            step *= 2\n",
    "            left = not left\n",
    "\n",
    "        return res\n",
    "\n",
    "sol = Solution()\n",
    "print(sol.lastRemaining(9)) #6\n",
    "print(sol.lastRemaining(1)) #1"
   ]
  },
  {
   "attachments": {},
   "cell_type": "markdown",
   "metadata": {},
   "source": [
    "##### First Unique Number in Data Stream II"
   ]
  },
  {
   "cell_type": "code",
   "execution_count": null,
   "metadata": {},
   "outputs": [
    {
     "name": "stdout",
     "output_type": "stream",
     "text": [
      "1\n",
      "2\n",
      "1\n",
      "2\n",
      "3\n",
      "4\n",
      "5\n",
      "6\n"
     ]
    }
   ],
   "source": [
    "class DataStream:\n",
    "\n",
    "    def __init__(self):\n",
    "        self.count_map = defaultdict(int)\n",
    "          \n",
    "    \"\"\"\n",
    "    @param num: next number in stream\n",
    "    @return: nothing\n",
    "    \"\"\"\n",
    "    def add(self, num):\n",
    "        self.count_map[num] += 1\n",
    "        if self.count_map[num] > 1:\n",
    "            del self.count_map[num]\n",
    "\n",
    "    \"\"\"\n",
    "    @return: the first unique number in stream\n",
    "    \"\"\"\n",
    "    def firstUnique(self):\n",
    "        print(list(self.count_map.items())[0][0])\n",
    "\n",
    "d = DataStream()\n",
    "d.add(1)\n",
    "d.add(2)\n",
    "d.firstUnique() #1\n",
    "d.add(1)\n",
    "d.firstUnique() #2\n",
    "\n",
    "d2 = DataStream()\n",
    "d2.add(1)\n",
    "d2.add(2)\n",
    "d2.add(3)\n",
    "d2.add(4)\n",
    "d2.add(5)\n",
    "d2.firstUnique() #1\n",
    "d2.add(1)\n",
    "d2.firstUnique() #2\n",
    "d2.add(2)\n",
    "d2.firstUnique() #3\n",
    "d2.add(3)\n",
    "d2.firstUnique() #4\n",
    "d2.add(4)\n",
    "d2.firstUnique() #5\n",
    "d2.add(5)\n",
    "d2.add(6)\n",
    "d2.firstUnique() #6"
   ]
  },
  {
   "attachments": {},
   "cell_type": "markdown",
   "metadata": {},
   "source": [
    "##### First Unique Number in Data Stream"
   ]
  },
  {
   "cell_type": "code",
   "execution_count": 27,
   "metadata": {},
   "outputs": [
    {
     "name": "stdout",
     "output_type": "stream",
     "text": [
      "5\n",
      "-1\n",
      "3\n"
     ]
    }
   ],
   "source": [
    "class Solution:\n",
    "    \"\"\"\n",
    "    @param nums: a continuous stream of numbers\n",
    "    @param number: a number\n",
    "    @return: returns the first unique number\n",
    "    \"\"\"\n",
    "    def first_unique_number(self, nums: List[int], number: int) -> int:\n",
    "        count_map = defaultdict(int)\n",
    "\n",
    "        for num in nums + [number]:\n",
    "            count_map[num] += 1\n",
    "            if count_map[num] > 1:\n",
    "                del count_map[num]\n",
    "\n",
    "        return number if number not in [k for k, v in list(count_map.items())] else -1\n",
    "\n",
    "sol = Solution()\n",
    "print(sol.first_unique_number([1, 2, 2, 1, 3, 4, 4, 5, 6], 5)) #5\n",
    "print(sol.first_unique_number([1, 2, 2, 1, 3, 4, 4, 5, 6], 7)) #-1\n",
    "print(sol.first_unique_number([1, 2, 2, 1, 3, 4], 3)) #3\n"
   ]
  },
  {
   "attachments": {},
   "cell_type": "markdown",
   "metadata": {},
   "source": [
    "##### 1105.Filling Bookcase Shelves"
   ]
  },
  {
   "cell_type": "code",
   "execution_count": 30,
   "metadata": {},
   "outputs": [
    {
     "name": "stdout",
     "output_type": "stream",
     "text": [
      "6\n",
      "4\n"
     ]
    }
   ],
   "source": [
    "class Solution:\n",
    "    def minHeightShelves(self, books: List[List[int]], shelfWidth: int) -> int:\n",
    "        cache = {}\n",
    "\n",
    "        def dfs(i, rem_width, cur_height):\n",
    "            if i >= len(books):\n",
    "                return cur_height\n",
    "\n",
    "            key = str(i) + \"_\" + str(rem_width)\n",
    "            if key in cache:\n",
    "                return cache[key]\n",
    "            \n",
    "            # put current book on the next level of shelf\n",
    "            next_shelf_height = cur_height + dfs(i+1, shelfWidth-books[i][0], books[i][1])\n",
    "\n",
    "            # if the book could be put on this level of shelf, try to put it\n",
    "            curr_shelf_height = float(\"inf\")\n",
    "            if books[i][0] <= rem_width:\n",
    "                curr_shelf_height = dfs(i+1, rem_width-books[i][0], max(cur_height, books[i][1]))\n",
    "            \n",
    "            cache[key] = min(next_shelf_height, curr_shelf_height)\n",
    "            return cache[key]\n",
    "\n",
    "        return dfs(0, shelfWidth, 0)\n",
    "\n",
    "\n",
    "\n",
    "sol = Solution()\n",
    "print(sol.minHeightShelves([[1,1],[2,3],[2,3],[1,1],[1,1],[1,1],[1,2]], 4)) #6\n",
    "print(sol.minHeightShelves([[1,3],[2,4],[3,2]], 6)) #4"
   ]
  },
  {
   "attachments": {},
   "cell_type": "markdown",
   "metadata": {},
   "source": [
    "##### 503.Next Greater Element II"
   ]
  },
  {
   "cell_type": "code",
   "execution_count": 37,
   "metadata": {},
   "outputs": [
    {
     "name": "stdout",
     "output_type": "stream",
     "text": [
      "[2, -1, 2]\n",
      "[2, 3, 4, -1, 4]\n"
     ]
    }
   ],
   "source": [
    "class Solution:\n",
    "    def nextGreaterElements(self, nums: List[int]) -> List[int]:\n",
    "        N = len(nums)\n",
    "\n",
    "        res = [-1] * N\n",
    "        stack = []\n",
    "\n",
    "        for i in range(2* N):\n",
    "            while stack and nums[stack[-1]] < nums[i % N]:\n",
    "                res[stack.pop()] = nums[i % N]\n",
    "            if i < N:\n",
    "                stack.append(i)\n",
    "\n",
    "        return res\n",
    "\n",
    "\n",
    "\n",
    "sol = Solution()\n",
    "print(sol.nextGreaterElements([1,2,1])) #[2,-1,2]\n",
    "print(sol.nextGreaterElements([1,2,3,4,3])) #[2,3,4,-1,4]"
   ]
  },
  {
   "attachments": {},
   "cell_type": "markdown",
   "metadata": {},
   "source": [
    "##### 229.Majority Element II"
   ]
  },
  {
   "cell_type": "code",
   "execution_count": 12,
   "metadata": {},
   "outputs": [
    {
     "name": "stdout",
     "output_type": "stream",
     "text": [
      "[3]\n",
      "[1]\n",
      "[1, 2]\n",
      "[2]\n"
     ]
    }
   ],
   "source": [
    "class Solution:\n",
    "    def majorityElement(self, nums: List[int]) -> List[int]:\n",
    "        N = len(nums)\n",
    "\n",
    "        a, b = None, None\n",
    "        a_c, b_c = 0, 0\n",
    "\n",
    "        for num in nums:\n",
    "            if a == num:\n",
    "                a_c += 1\n",
    "            elif b == num:\n",
    "                b_c += 1\n",
    "            elif a_c == 0:\n",
    "                a = num\n",
    "                a_c += 1\n",
    "            elif b_c == 0:\n",
    "                b = num\n",
    "                b_c += 1\n",
    "            else:\n",
    "                a_c -= 1\n",
    "                b_c -= 1\n",
    "\n",
    "        res = []\n",
    "        for c in [a, b]:\n",
    "            if nums.count(c) > N//3:\n",
    "                res.append(c)\n",
    "\n",
    "        return res\n",
    "\n",
    "sol = Solution()\n",
    "print(sol.majorityElement([3,2,3])) #[3]\n",
    "print(sol.majorityElement([1])) #[1]\n",
    "print(sol.majorityElement([1, 2])) #[1, 2]\n",
    "print(sol.majorityElement([2,2,1,3])) #[2]"
   ]
  },
  {
   "attachments": {},
   "cell_type": "markdown",
   "metadata": {},
   "source": [
    "##### 611.Valid Triangle Number"
   ]
  },
  {
   "cell_type": "code",
   "execution_count": 13,
   "metadata": {},
   "outputs": [
    {
     "name": "stdout",
     "output_type": "stream",
     "text": [
      "3\n",
      "4\n"
     ]
    }
   ],
   "source": [
    "class Solution:\n",
    "    def triangleNumber(self, nums: List[int]) -> int:\n",
    "        nums.sort()\n",
    "\n",
    "        res = 0\n",
    "        for k in range(2, len(nums)):\n",
    "            i, j = 0, k-1\n",
    "            while i < j:\n",
    "                if nums[i] + nums[j] > nums[k]:\n",
    "                    res += (j - i)\n",
    "                    j -= 1\n",
    "                else:\n",
    "                    i += 1\n",
    "\n",
    "        return res\n",
    "                \n",
    "\n",
    "sol = Solution()\n",
    "print(sol.triangleNumber([2,2,3,4])) #3\n",
    "print(sol.triangleNumber([4,2,3,4])) #4"
   ]
  },
  {
   "attachments": {},
   "cell_type": "markdown",
   "metadata": {},
   "source": [
    "##### 399.Evaluate Division"
   ]
  },
  {
   "cell_type": "code",
   "execution_count": 18,
   "metadata": {},
   "outputs": [
    {
     "name": "stdout",
     "output_type": "stream",
     "text": [
      "[6.0, 0.5, -1, 1.0, -1]\n",
      "[3.75, 0.4, 5.0, 0.2]\n",
      "[0.5, 2.0, -1, -1]\n"
     ]
    }
   ],
   "source": [
    "class Solution:\n",
    "    def calcEquation(self, equations: List[List[str]], values: List[float], queries: List[List[str]]) -> List[float]:\n",
    "        calc_map = defaultdict(dict)\n",
    "\n",
    "        for i in range(len(equations)):\n",
    "            calc_map[equations[i][0]][equations[i][1]] = values[i]\n",
    "            calc_map[equations[i][1]][equations[i][0]] = 1/values[i]\n",
    "\n",
    "        def dfs(x, y, visited):\n",
    "            if x not in calc_map or y not in calc_map:\n",
    "                return -1\n",
    "\n",
    "            if y in calc_map[x]:\n",
    "                return calc_map[x][y]\n",
    "\n",
    "            for i in calc_map[x]:\n",
    "                if i not in visited:\n",
    "                    visited.add(i)\n",
    "                    temp = dfs(i, y, visited)\n",
    "                    if temp == -1:\n",
    "                        continue\n",
    "                    return temp * calc_map[x][i]\n",
    "\n",
    "            return -1\n",
    "\n",
    "        res = []\n",
    "        for x, y in queries:\n",
    "            res.append(dfs(x, y, set()))\n",
    "\n",
    "        return res\n",
    "\n",
    "sol = Solution()\n",
    "print(sol.calcEquation([[\"a\",\"b\"],[\"b\",\"c\"]], [2.0,3.0], [[\"a\",\"c\"],[\"b\",\"a\"],[\"a\",\"e\"],[\"a\",\"a\"],[\"x\",\"x\"]])) #[6.00000,0.50000,-1.00000,1.00000,-1.00000]\n",
    "print(sol.calcEquation([[\"a\",\"b\"],[\"b\",\"c\"],[\"bc\",\"cd\"]], [1.5,2.5,5.0], [[\"a\",\"c\"],[\"c\",\"b\"],[\"bc\",\"cd\"],[\"cd\",\"bc\"]])) #[3.75000,0.40000,5.00000,0.20000]\n",
    "print(sol.calcEquation([[\"a\",\"b\"]], [0.5], [[\"a\",\"b\"],[\"b\",\"a\"],[\"a\",\"c\"],[\"x\",\"y\"]])) #[0.50000,2.00000,-1.00000,-1.00000]"
   ]
  },
  {
   "attachments": {},
   "cell_type": "markdown",
   "metadata": {},
   "source": [
    "##### 116.Populating Next Right Pointers in Each Node"
   ]
  },
  {
   "cell_type": "code",
   "execution_count": null,
   "metadata": {},
   "outputs": [],
   "source": [
    "# Definition for a Node.\n",
    "class Node:\n",
    "    def __init__(self, val: int = 0, left: 'Node' = None, right: 'Node' = None, next: 'Node' = None):\n",
    "        self.val = val\n",
    "        self.left = left\n",
    "        self.right = right\n",
    "        self.next = next\n",
    "\n",
    "\n",
    "class Solution:\n",
    "    def connect(self, root: 'Optional[Node]') -> 'Optional[Node]':\n",
    "        if not root: return root\n",
    "\n",
    "        q = collections.deque([root])\n",
    "        while q:\n",
    "            temp = None\n",
    "            for i in range(len(q)):\n",
    "                node = q.popleft()\n",
    "\n",
    "                if not temp:\n",
    "                    temp = node\n",
    "                else:\n",
    "                    temp.next = node\n",
    "                    temp = temp.next\n",
    "                \n",
    "                if node.left:\n",
    "                    q.append(node.left)\n",
    "                    q.append(node.right)\n",
    "            \n",
    "        return root"
   ]
  },
  {
   "attachments": {},
   "cell_type": "markdown",
   "metadata": {},
   "source": [
    "##### 797.All Paths From Source to Target"
   ]
  },
  {
   "cell_type": "code",
   "execution_count": 26,
   "metadata": {},
   "outputs": [
    {
     "name": "stdout",
     "output_type": "stream",
     "text": [
      "[[0, 1, 3], [0, 2, 3]]\n",
      "[[0, 4], [0, 3, 4], [0, 1, 3, 4], [0, 1, 2, 3, 4], [0, 1, 4]]\n"
     ]
    }
   ],
   "source": [
    "class Solution:\n",
    "    def allPathsSourceTarget(self, graph: List[List[int]]) -> List[List[int]]:\n",
    "        res = []\n",
    "        path = {}\n",
    "        \n",
    "        def dfs(node, target):\n",
    "            if node == target:\n",
    "                path[node] = 1\n",
    "                res.append(list(path.keys()))\n",
    "                del path[node]\n",
    "                return\n",
    "\n",
    "            if node in path:\n",
    "                return\n",
    "\n",
    "            path[node] = 1\n",
    "            for nei in graph[node]:\n",
    "                dfs(nei, target)\n",
    "            del path[node]\n",
    "\n",
    "\n",
    "        dfs(0, len(graph) - 1)\n",
    "        return res\n",
    "\n",
    "sol = Solution()\n",
    "print(sol.allPathsSourceTarget([[1,2],[3],[3],[]])) #[[0,1,3],[0,2,3]]\n",
    "print(sol.allPathsSourceTarget([[4,3,1],[3,2,4],[3],[4],[]])) #[[0,4],[0,3,4],[0,1,3,4],[0,1,2,3,4],[0,1,4]]"
   ]
  },
  {
   "attachments": {},
   "cell_type": "markdown",
   "metadata": {},
   "source": [
    "##### 12.Integer to Roman"
   ]
  },
  {
   "cell_type": "code",
   "execution_count": 29,
   "metadata": {},
   "outputs": [
    {
     "name": "stdout",
     "output_type": "stream",
     "text": [
      "III\n",
      "LVIII\n",
      "MCMXCIV\n"
     ]
    }
   ],
   "source": [
    "class Solution:\n",
    "    def intToRoman(self, num: int) -> str:\n",
    "        value_roman = {1000:\"M\", 900:\"CM\", 500:\"D\", 400:\"CD\",\n",
    "                       100:\"C\", 90:\"XC\", 50:\"L\", 40:\"XL\",\n",
    "                       10:\"X\", 9:\"IX\", 5:\"V\", 4:\"IV\", 1:\"I\"}\n",
    "        roman = \"\"\n",
    "        for v in value_roman.keys():\n",
    "            roman += value_roman[v] * (num//v)\n",
    "            num %= v\n",
    "        return roman\n",
    "\n",
    "sol = Solution()\n",
    "print(sol.intToRoman(3)) #III\n",
    "print(sol.intToRoman(58)) #\"LVIII\"\n",
    "print(sol.intToRoman(1994)) #\"MCMXCIV\""
   ]
  },
  {
   "attachments": {},
   "cell_type": "markdown",
   "metadata": {},
   "source": [
    "##### 117.Populating Next Right Pointers in Each Node II"
   ]
  },
  {
   "cell_type": "code",
   "execution_count": null,
   "metadata": {},
   "outputs": [],
   "source": [
    "# Definition for a Node.\n",
    "class Node:\n",
    "    def __init__(self, val: int = 0, left: 'Node' = None, right: 'Node' = None, next: 'Node' = None):\n",
    "        self.val = val\n",
    "        self.left = left\n",
    "        self.right = right\n",
    "        self.next = next\n",
    "\n",
    "\n",
    "class Solution:\n",
    "    def connect(self, root: 'Node') -> 'Node':\n",
    "        if not root: return root\n",
    "\n",
    "        q = collections.deque([root])\n",
    "        while q:\n",
    "            temp = None\n",
    "            for i in range(len(q)):\n",
    "                node = q.popleft()\n",
    "\n",
    "                if not temp:\n",
    "                    temp = node\n",
    "                else:\n",
    "                    temp.next = node\n",
    "                    temp = temp.next\n",
    "                \n",
    "                if node.left:\n",
    "                    q.append(node.left)\n",
    "                if node.right:\n",
    "                    q.append(node.right)\n",
    "            \n",
    "        return root"
   ]
  },
  {
   "attachments": {},
   "cell_type": "markdown",
   "metadata": {},
   "source": [
    "##### 445.Add Two Numbers II"
   ]
  },
  {
   "cell_type": "code",
   "execution_count": null,
   "metadata": {},
   "outputs": [],
   "source": [
    "# Definition for singly-linked list.\n",
    "class ListNode:\n",
    "    def __init__(self, val=0, next=None):\n",
    "        self.val = val\n",
    "        self.next = next\n",
    "class Solution:\n",
    "    def addTwoNumbers(self, l1: Optional[ListNode], l2: Optional[ListNode]) -> Optional[ListNode]:\n",
    "        if not l1 and not l2:\n",
    "            return None\n",
    "\n",
    "        l1_num = 0\n",
    "        while l1:\n",
    "            l1_num = l1_num * 10 + l1.val\n",
    "            l1 = l1.next\n",
    "\n",
    "        l2_num = 0\n",
    "        while l2:\n",
    "            l2_num = l2_num * 10 + l2.val\n",
    "            l2 = l2.next\n",
    "\n",
    "        lsum = l1_num + l2_num\n",
    "\n",
    "        head = ListNode(None)\n",
    "        cur = head\n",
    "        for istr in str(lsum):\n",
    "            cur.next = ListNode(int(istr))\n",
    "            cur = cur.next\n",
    "\n",
    "        return head.next"
   ]
  },
  {
   "attachments": {},
   "cell_type": "markdown",
   "metadata": {},
   "source": [
    "##### 162.Find Peak Element"
   ]
  },
  {
   "cell_type": "code",
   "execution_count": 34,
   "metadata": {},
   "outputs": [
    {
     "name": "stdout",
     "output_type": "stream",
     "text": [
      "2\n",
      "5\n"
     ]
    }
   ],
   "source": [
    "class Solution:\n",
    "    def findPeakElement(self, nums: List[int]) -> int:\n",
    "        l, r = 0, len(nums) - 1\n",
    "\n",
    "        while l < r:\n",
    "            mid = (l + r)//2\n",
    "\n",
    "            if nums[mid] < nums[mid + 1]:\n",
    "                l = mid + 1\n",
    "            else:\n",
    "                r = mid\n",
    "\n",
    "        return l\n",
    "\n",
    "sol = Solution()\n",
    "print(sol.findPeakElement([1,2,3,1])) #2\n",
    "print(sol.findPeakElement([1,2,1,3,5,6,4])) #5"
   ]
  },
  {
   "attachments": {},
   "cell_type": "markdown",
   "metadata": {},
   "source": [
    "##### Meeting Rooms II"
   ]
  },
  {
   "cell_type": "code",
   "execution_count": 37,
   "metadata": {},
   "outputs": [],
   "source": [
    "\n",
    "# Definition of Interval:\n",
    "class Interval(object):\n",
    "    def __init__(self, start, end):\n",
    "        self.start = start\n",
    "        self.end = end\n",
    "\n",
    "\n",
    "class Solution:\n",
    "    \"\"\"\n",
    "    @param intervals: an array of meeting time intervals\n",
    "    @return: the minimum number of conference rooms required\n",
    "    \"\"\"\n",
    "    def min_meeting_rooms(self, intervals: List[Interval]) -> int:\n",
    "        starts = sorted([i.start for i in intervals])\n",
    "        ends = sorted([i.end for i in intervals])\n",
    "\n",
    "        res, count = 0, 0\n",
    "        s, e = 0, 0\n",
    "\n",
    "        while s < len(intervals):\n",
    "            if starts[s] < ends[e]:\n",
    "                s += 1\n",
    "                count += 1\n",
    "            else:\n",
    "                e += 1\n",
    "                count -= 1\n",
    "\n",
    "            res = max(res, count)\n",
    "        return res\n",
    "\n",
    "\n",
    "# sol = Solution()\n",
    "# print(sol.min_meeting_rooms([(0,30),(5,10),(15,20)])) #2\n",
    "# print(sol.min_meeting_rooms([(2,7)])) #1"
   ]
  },
  {
   "attachments": {},
   "cell_type": "markdown",
   "metadata": {},
   "source": [
    "##### 451.Sort Characters By Frequency"
   ]
  },
  {
   "cell_type": "code",
   "execution_count": 43,
   "metadata": {},
   "outputs": [
    {
     "name": "stdout",
     "output_type": "stream",
     "text": [
      "eetr\n",
      "cccaaa\n",
      "bbAa\n"
     ]
    }
   ],
   "source": [
    "class Solution:\n",
    "    def frequencySort(self, s: str) -> str:\n",
    "        count_map = collections.Counter(s)\n",
    "\n",
    "        count_map = sorted(list(count_map.items()), key = lambda i : i[1], reverse = True)\n",
    "        res = ''\n",
    "        for k in count_map:\n",
    "            res += k * count_map[k]\n",
    "\n",
    "        return res\n",
    "\n",
    "    # more memory\n",
    "    def frequencySort(self, s: str) -> str:\n",
    "        dic = collections.Counter(s)\n",
    "        import heapq\n",
    "        freq = []\n",
    "        for k,v in dic.items():\n",
    "            heapq.heappush(freq, (-1*v, k))\n",
    "        curr = ''\n",
    "        while freq:\n",
    "            count, c = heapq.heappop(freq)\n",
    "            count *=-1\n",
    "            curr += count*c\n",
    "        return curr\n",
    "\n",
    "        \n",
    "\n",
    "sol = Solution()\n",
    "print(sol.frequencySort(\"tree\")) #eert\n",
    "print(sol.frequencySort(\"cccaaa\")) #aaaccc\n",
    "print(sol.frequencySort(\"Aabb\")) #bbAa\n",
    "    "
   ]
  },
  {
   "attachments": {},
   "cell_type": "markdown",
   "metadata": {},
   "source": [
    "##### 114.Flatten Binary Tree to Linked List"
   ]
  },
  {
   "cell_type": "code",
   "execution_count": null,
   "metadata": {},
   "outputs": [],
   "source": [
    "# Definition for a binary tree node.\n",
    "class TreeNode:\n",
    "    def __init__(self, val=0, left=None, right=None):\n",
    "        self.val = val\n",
    "        self.left = left\n",
    "        self.right = right\n",
    "\n",
    "class Solution:\n",
    "    def flatten(self, root: Optional[TreeNode]) -> None:\n",
    "        \"\"\"\n",
    "        Do not return anything, modify root in-place instead.\n",
    "        \"\"\"\n",
    "        \n",
    "        def dfs(root):\n",
    "            if not root:\n",
    "                return None\n",
    "\n",
    "            leftTail = dfs(root.left)\n",
    "            rightTail = dfs(root.right)\n",
    "\n",
    "            if leftTail:\n",
    "                leftTail.right = root.right\n",
    "                root.right = root.left\n",
    "                root.left = None\n",
    "            \n",
    "            tail = rightTail or leftTail or root\n",
    "            return tail\n",
    "\n",
    "        dfs(root)\n"
   ]
  },
  {
   "attachments": {},
   "cell_type": "markdown",
   "metadata": {},
   "source": [
    "##### 560.Subarray Sum Equals K"
   ]
  },
  {
   "cell_type": "code",
   "execution_count": 54,
   "metadata": {},
   "outputs": [
    {
     "name": "stdout",
     "output_type": "stream",
     "text": [
      "2\n",
      "2\n"
     ]
    }
   ],
   "source": [
    "class Solution:\n",
    "    def subarraySum(self, nums: List[int], k: int) -> int:\n",
    "        res = 0\n",
    "        curSum = 0\n",
    "        prefixSum = {0:1}\n",
    "\n",
    "        for num in nums:\n",
    "            curSum += num\n",
    "            if curSum - k in prefixSum:\n",
    "                res += prefixSum[curSum - k]\n",
    "            prefixSum[curSum] = prefixSum.get(curSum,0) + 1\n",
    "        \n",
    "        return res\n",
    "    \n",
    "\n",
    "sol = Solution()\n",
    "print(sol.subarraySum([1,1,1], 2)) #2\n",
    "print(sol.subarraySum([1,2,3], 3)) #2"
   ]
  },
  {
   "attachments": {},
   "cell_type": "markdown",
   "metadata": {},
   "source": [
    "##### 31.Next Permutation"
   ]
  },
  {
   "cell_type": "code",
   "execution_count": 32,
   "metadata": {},
   "outputs": [
    {
     "name": "stdout",
     "output_type": "stream",
     "text": [
      "[1, 3, 2]\n",
      "[1, 2, 3]\n",
      "[1, 5, 1]\n"
     ]
    }
   ],
   "source": [
    "class Solution:\n",
    "    def nextPermutation(self, nums: List[int]) -> List[int]:\n",
    "        \"\"\"\n",
    "        Do not return anything, modify nums in-place instead.\n",
    "        \"\"\"\n",
    "\n",
    "        pivot = -1\n",
    "        for i in range(len(nums)-1,0, -1):\n",
    "            if nums[i] > nums[i-1]:\n",
    "                pivot = i-1\n",
    "                break\n",
    "\n",
    "        if pivot == -1:\n",
    "            nums = nums[::-1]\n",
    "        else:\n",
    "            for i in range(len(nums)-1, pivot, -1):\n",
    "                if nums[i] > nums[pivot]:\n",
    "                    # swap\n",
    "                    p = nums[pivot]\n",
    "                    nums[pivot] = nums[i]\n",
    "                    nums[i] = p\n",
    "                    break\n",
    "            \n",
    "            nums[pivot+1:] = nums[pivot+1:][::-1]\n",
    "        \n",
    "        return nums\n",
    "\n",
    "\n",
    "sol = Solution()\n",
    "print(sol.nextPermutation([1,2,3])) #[1,3,2]\n",
    "print(sol.nextPermutation([3,2,1])) #[1,2,3]\n",
    "print(sol.nextPermutation([1,1,5])) #[1,5,1]"
   ]
  },
  {
   "attachments": {},
   "cell_type": "markdown",
   "metadata": {},
   "source": [
    "##### 16.3Sum Closest"
   ]
  },
  {
   "cell_type": "code",
   "execution_count": 69,
   "metadata": {},
   "outputs": [
    {
     "name": "stdout",
     "output_type": "stream",
     "text": [
      "2\n",
      "0\n"
     ]
    }
   ],
   "source": [
    "class Solution:\n",
    "    def threeSumClosest(self, nums: List[int], target: int) -> int:\n",
    "        result = 0\n",
    "        diff = float('inf')\n",
    "        nums.sort()\n",
    "\n",
    "        for i in range(len(nums) - 2):\n",
    "            begin = i + 1\n",
    "            end = len(nums) - 1\n",
    "            while begin < end:\n",
    "                currentSum = nums[i] + nums[begin] + nums[end]\n",
    "                currentDif = abs(target - currentSum)\n",
    "\n",
    "                if diff >= currentDif:\n",
    "                    diff = currentDif\n",
    "                    result = currentSum\n",
    "\n",
    "                if currentSum < target:\n",
    "                    begin += 1\n",
    "                else:\n",
    "                    end -= 1\n",
    "\n",
    "        return result\n",
    "\n",
    "sol = Solution()\n",
    "print(sol.threeSumClosest([-1,2,1,-4], 1)) #2\n",
    "print(sol.threeSumClosest([0,0,0], 1)) #0"
   ]
  },
  {
   "attachments": {},
   "cell_type": "markdown",
   "metadata": {},
   "source": [
    "##### 96.Unique Binary Search Trees"
   ]
  },
  {
   "cell_type": "code",
   "execution_count": 78,
   "metadata": {},
   "outputs": [
    {
     "name": "stdout",
     "output_type": "stream",
     "text": [
      "5\n",
      "1\n"
     ]
    }
   ],
   "source": [
    "class Solution:\n",
    "    def numTrees(self, n: int) -> int:\n",
    "        num_trees = [1] * (n + 1)\n",
    "        for nodes in range(2, n + 1):\n",
    "            total = 0\n",
    "            for root in (1, nodes + 1):\n",
    "                left = root - 1\n",
    "                right = nodes - root\n",
    "                total += num_trees[left] * num_trees[right]\n",
    "            num_trees[nodes] = total\n",
    "        return num_trees[n]\n",
    "\n",
    "    def numTrees1(self, n: int) -> int:\n",
    "        dp = [0] * (n + 1)\n",
    "        dp[0] = dp[1] = 1\n",
    "        \n",
    "        for i in range(2, n+1) :\n",
    "            for j in range(i) :\n",
    "                dp[i] += dp[j] * dp[(i-1)-j]\n",
    "        \n",
    "        return dp[-1]\n",
    "            \n",
    "sol = Solution()\n",
    "print(sol.numTrees(3)) #5\n",
    "print(sol.numTrees(1)) #1"
   ]
  },
  {
   "attachments": {},
   "cell_type": "markdown",
   "metadata": {},
   "source": [
    "##### 75.Sort Colors"
   ]
  },
  {
   "cell_type": "code",
   "execution_count": 82,
   "metadata": {},
   "outputs": [
    {
     "name": "stdout",
     "output_type": "stream",
     "text": [
      "[0, 0, 1, 1, 2, 2]\n",
      "[0, 1, 2]\n"
     ]
    }
   ],
   "source": [
    "class Solution:\n",
    "    #bucket sort\n",
    "    def sortColors1(self, nums: List[int]) -> None:\n",
    "        \"\"\"\n",
    "        Do not return anything, modify nums in-place instead.\n",
    "        \"\"\"\n",
    "        count_map = collections.Counter(nums)\n",
    "        start = 0\n",
    "        for i in range(len(nums)):\n",
    "            while count_map[start] == 0:\n",
    "                start += 1\n",
    "            nums[i] = start\n",
    "            count_map[start] -= 1\n",
    "\n",
    "    def sortColors(self, nums: List[int]) -> None:\n",
    "        \"\"\"\n",
    "        Do not return anything, modify nums in-place instead.\n",
    "        \"\"\"\n",
    "        l, r = 0, len(nums) - 1\n",
    "        i = 0\n",
    "\n",
    "        while i <= r:\n",
    "            if nums[i] == 0:\n",
    "                nums[l], nums[i] = nums[i], nums[l]\n",
    "                l += 1\n",
    "            elif nums[i] == 2:\n",
    "                nums[r], nums[i] = nums[i], nums[r]\n",
    "                r -= 1\n",
    "                i -= 1\n",
    "            i += 1\n",
    "\n",
    "        print(nums)\n",
    "\n",
    "\n",
    "sol = Solution()\n",
    "sol.sortColors([2,0,2,1,1,0]) # [0,0,1,1,2,2]\n",
    "sol.sortColors([2,0,1]) # [0,1,2]"
   ]
  },
  {
   "attachments": {},
   "cell_type": "markdown",
   "metadata": {},
   "source": [
    "#### Hard"
   ]
  },
  {
   "attachments": {},
   "cell_type": "markdown",
   "metadata": {},
   "source": [
    "##### 41.First Missing Positive"
   ]
  },
  {
   "cell_type": "code",
   "execution_count": 116,
   "metadata": {},
   "outputs": [
    {
     "name": "stdout",
     "output_type": "stream",
     "text": [
      "3\n",
      "2\n",
      "1\n"
     ]
    }
   ],
   "source": [
    "class Solution:\n",
    "    #O(n)\n",
    "    def firstMissingPositive_(self, nums: List[int]) -> int:\n",
    "        for i in range(len(nums)):\n",
    "            pos = nums[i] - 1 #correct position\n",
    "            while 1 <= nums[i] <= len(nums) and nums[i] != nums[pos]:\n",
    "                nums[i], nums[pos] = nums[pos], nums[i]\n",
    "                pos = nums[i] - 1\n",
    "            \n",
    "        for i in range(len(nums)):\n",
    "            if nums[i] != i + 1:\n",
    "                return i + 1\n",
    "\n",
    "        return len(nums) + 1\n",
    "\n",
    "    def firstMissingPositive(self, nums: List[int]) -> int:\n",
    "        num_len = len(nums)\n",
    "        # changing all negatives to zero\n",
    "        for i in range(num_len):\n",
    "            if nums[i] < 0:\n",
    "                nums[i] = 0\n",
    "\n",
    "        # Marking if a value exists\n",
    "        for i in range(num_len):\n",
    "            val = abs(nums[i])\n",
    "            if 1 <= val <= num_len:\n",
    "                if nums[val - 1] > 0:\n",
    "                    nums[val - 1] *= -1\n",
    "                elif nums[val - 1] == 0:\n",
    "                    nums[val - 1] = -1 * (num_len + 1)\n",
    "\n",
    "        # Finding the missing num\n",
    "        for i in range(1, num_len + 1):\n",
    "            if nums[i - 1] >= 0:\n",
    "                return i\n",
    "\n",
    "        return num_len + 1\n",
    "\n",
    "sol = Solution()\n",
    "print(sol.firstMissingPositive([1,2,0])) #3\n",
    "print(sol.firstMissingPositive([3,4,-1,1])) #2\n",
    "print(sol.firstMissingPositive([7,8,9,11,12])) #1"
   ]
  },
  {
   "attachments": {},
   "cell_type": "markdown",
   "metadata": {},
   "source": [
    "##### 44.Wildcard Matching"
   ]
  },
  {
   "cell_type": "code",
   "execution_count": 9,
   "metadata": {},
   "outputs": [
    {
     "name": "stdout",
     "output_type": "stream",
     "text": [
      "False\n",
      "True\n",
      "True\n",
      "True\n",
      "False\n"
     ]
    }
   ],
   "source": [
    "class Solution:\n",
    "    def isMatch(self, s: str, p: str) -> bool:\n",
    "        if not p:\n",
    "            return not s\n",
    "        \n",
    "        level = {0}\n",
    "        for i, c in enumerate(p):\n",
    "            if not level:\n",
    "                return False\n",
    "            \n",
    "            if c == \"*\":\n",
    "                level = set(range(min(level), len(s)+1))\n",
    "            else:\n",
    "                level = {j+1 for j in level if j < len(s) and (s[j] == c or c == \"?\")}\n",
    "        \n",
    "        return len(s) in level\n",
    "\n",
    "sol = Solution()\n",
    "print(sol.isMatch(\"aa\", \"a\")) # false\n",
    "print(sol.isMatch(\"aa\", \"*\")) # true\n",
    "print(sol.isMatch(\"ab\", \"*\")) # true\n",
    "print(sol.isMatch(\"aa\", \"aa\")) # true\n",
    "print(sol.isMatch(\"cb\", \"?a\")) # false"
   ]
  },
  {
   "attachments": {},
   "cell_type": "markdown",
   "metadata": {},
   "source": [
    "##### 727.Minimum Window Subsequence"
   ]
  },
  {
   "cell_type": "code",
   "execution_count": 12,
   "metadata": {},
   "outputs": [
    {
     "name": "stdout",
     "output_type": "stream",
     "text": [
      "bcde\n",
      "bcde\n"
     ]
    }
   ],
   "source": [
    "class Solution:\n",
    "    \"\"\"\n",
    "    @param s: a string\n",
    "    @param t: a string\n",
    "    @return: the minimum substring of S\n",
    "    \"\"\"\n",
    "    def min_window(self, s: str, t: str) -> str:\n",
    "        s_len = len(s)\n",
    "        t_len = len(t)\n",
    "        \n",
    "        dp = [[-1 for j in range(t_len)] for i in range(s_len)]\n",
    "        \n",
    "        # Marking start positions\n",
    "        for i in range(s_len):\n",
    "            if s[i] == t[0]:\n",
    "                dp[i][0] = i\n",
    "            elif (i != 0):\n",
    "                dp[i][0] = dp[i-1][0]\n",
    "        \n",
    "        # Marking rest of the positions\n",
    "        for i in range(1, s_len):\n",
    "            for j in range(1, t_len):\n",
    "                if s[i] == t[j]:\n",
    "                    dp[i][j] = dp[i-1][j-1]\n",
    "                else:\n",
    "                    dp[i][j] = dp[i-1][j]\n",
    "\n",
    "        start_pos, end_pos = -1, -1\n",
    "        res = float('inf')\n",
    "        # going through end columns to see if string end exists \n",
    "        for i in range(s_len):\n",
    "            start_idx = dp[i][t_len - 1]\n",
    "            if start_idx != -1:\n",
    "                curLength = i - start_idx + 1\n",
    "                if curLength < res:\n",
    "                    start_pos = start_idx\n",
    "                    end_pos = i\n",
    "                    res = curLength\n",
    "                \n",
    "        if start_pos == -1:\n",
    "            return \"\"\n",
    "        return s[start_pos:end_pos + 1]\n",
    "\n",
    "sol = Solution()\n",
    "# print(sol.min_window(\"jmeqksfrsdcmsiwvaovztaqenprpvnbstl\", \"u\")) # \"\"\n",
    "print(sol.min_window(\"abcdebdde\", \"bde\")) # \"bcde\"\n",
    "print(sol.min_window(\"abcdexyzy\", \"bde\")) # \"bcde\"\n"
   ]
  },
  {
   "attachments": {},
   "cell_type": "markdown",
   "metadata": {},
   "source": [
    "##### 460.LFU Cache"
   ]
  },
  {
   "cell_type": "code",
   "execution_count": 18,
   "metadata": {},
   "outputs": [
    {
     "data": {
      "text/plain": [
       "4"
      ]
     },
     "execution_count": 18,
     "metadata": {},
     "output_type": "execute_result"
    }
   ],
   "source": [
    "class Node:\n",
    "    def __init__(self, key, val):\n",
    "        self.key = key\n",
    "        self.val = val\n",
    "        self.freq = 1\n",
    "        self.prev = self.next = None\n",
    "\n",
    "class DLinkedList:\n",
    "    \"\"\" An implementation of doubly linked list.\n",
    "\t\n",
    "\tTwo APIs provided:\n",
    "    \n",
    "    append(node): append the node to the head of the linked list.\n",
    "    pop(node=None): remove the referenced node. \n",
    "                    If None is given, remove the one from tail, which is the least recently used.\n",
    "                    \n",
    "    Both operation, apparently, are in O(1) complexity.\n",
    "    \"\"\"\n",
    "    def __init__(self):\n",
    "        self.dummy = Node(None, None) # dummy node\n",
    "        self.dummy.next = self.dummy.prev = self.dummy\n",
    "        self._size = 0\n",
    "    \n",
    "    def __len__(self):\n",
    "        return self._size\n",
    "    \n",
    "    def append(self, node):\n",
    "        node.next = self.dummy.next\n",
    "        node.prev = self.dummy\n",
    "        node.next.prev = node\n",
    "        self.dummy.next = node\n",
    "        self._size += 1\n",
    "    \n",
    "    def pop(self, node=None):\n",
    "        if self._size == 0:\n",
    "            return\n",
    "        \n",
    "        if not node:\n",
    "            node = self.dummy.prev\n",
    "\n",
    "        node.prev.next = node.next\n",
    "        node.next.prev = node.prev\n",
    "        self._size -= 1\n",
    "        \n",
    "        return node\n",
    "\n",
    "class LFUCache:\n",
    "\n",
    "    def __init__(self, capacity):\n",
    "        \"\"\"\n",
    "        :type capacity: int\n",
    "        \n",
    "        Three things to maintain:\n",
    "        \n",
    "        1. a dict, named as `self._node`, for the reference of all nodes given key.\n",
    "           That is, O(1) time to retrieve node given a key.\n",
    "           \n",
    "        2. Each frequency has a doubly linked list, store in `self._freq`, where key\n",
    "           is the frequency, and value is an object of `DLinkedList`\n",
    "        \n",
    "        3. The min frequency through all nodes. We can maintain this in O(1) time, taking\n",
    "           advantage of the fact that the frequency can only increment by 1. Use the following\n",
    "\t\t   two rules:\n",
    "           \n",
    "           Rule 1: Whenever we see the size of the DLinkedList of current min frequency is 0,\n",
    "                   the min frequency must increment by 1.\n",
    "           \n",
    "           Rule 2: Whenever put in a new (key, value), the min frequency must 1 (the new node)\n",
    "           \n",
    "        \"\"\"\n",
    "        self._size = 0\n",
    "        self._capacity = capacity\n",
    "        \n",
    "        self._node = dict() # key: Node\n",
    "        self._freq = collections.defaultdict(DLinkedList) #Frequency to linked lists\n",
    "        self._minfreq = 0\n",
    "        \n",
    "        \n",
    "    def _update(self, node):\n",
    "        \"\"\" \n",
    "        This is a helper function that used in the following two cases:\n",
    "        \n",
    "            1. when `get(key)` is called; and\n",
    "            2. when `put(key, value)` is called and the key exists.\n",
    "         \n",
    "        The common point of these two cases is that:\n",
    "        \n",
    "            1. no new node comes in, and\n",
    "            2. the node is visited one more times -> node.freq changed -> \n",
    "               thus the place of this node will change\n",
    "        \n",
    "        The logic of this function is:\n",
    "        \n",
    "            1. pop the node from the old DLinkedList (with freq `f`)\n",
    "            2. append the node to new DLinkedList (with freq `f+1`)\n",
    "            3. if old DlinkedList has size 0 and self._minfreq is `f`,\n",
    "               update self._minfreq to `f+1`\n",
    "        \n",
    "        All of the above opeartions took O(1) time.\n",
    "        \"\"\"\n",
    "        freq = node.freq\n",
    "        \n",
    "        self._freq[freq].pop(node)\n",
    "        if self._minfreq == freq and not self._freq[freq]:\n",
    "            self._minfreq += 1\n",
    "        \n",
    "        node.freq += 1\n",
    "        freq = node.freq\n",
    "        self._freq[freq].append(node)\n",
    "    \n",
    "    def get(self, key):\n",
    "        \"\"\"\n",
    "        Through checking self._node[key], we can get the node in O(1) time.\n",
    "        Just performs self._update, then we can return the value of node.\n",
    "        \n",
    "        :type key: int\n",
    "        :rtype: int\n",
    "        \"\"\"\n",
    "        if key not in self._node:\n",
    "            return -1\n",
    "        \n",
    "        node = self._node[key]\n",
    "        self._update(node)\n",
    "        return node.val\n",
    "\n",
    "    def put(self, key, value):\n",
    "        \"\"\"\n",
    "        If `key` already exists in self._node, we do the same operations as `get`, except\n",
    "        updating the node.val to new value.\n",
    "        \n",
    "        Otherwise, the following logic will be performed\n",
    "        \n",
    "        1. if the cache reaches its capacity, pop the least frequently used item. (*)\n",
    "        2. add new node to self._node\n",
    "        3. add new node to the DLinkedList with frequency 1\n",
    "        4. reset self._minfreq to 1\n",
    "        \n",
    "        (*) How to pop the least frequently used item? Two facts:\n",
    "        \n",
    "        1. we maintain the self._minfreq, the minimum possible frequency in cache.\n",
    "        2. All cache with the same frequency are stored as a DLinkedList, with\n",
    "           recently used order (Always append at head)\n",
    "          \n",
    "        Consequence? ==> The tail of the DLinkedList with self._minfreq is the least\n",
    "                         recently used one, pop it...\n",
    "        \n",
    "        :type key: int\n",
    "        :type value: int\n",
    "        :rtype: void\n",
    "        \"\"\"\n",
    "        if self._capacity == 0:\n",
    "            return\n",
    "        \n",
    "        if key in self._node:\n",
    "            node = self._node[key]\n",
    "            self._update(node)\n",
    "            node.val = value\n",
    "        else:\n",
    "            if self._size == self._capacity:\n",
    "                node = self._freq[self._minfreq].pop()\n",
    "                del self._node[node.key]\n",
    "                self._size -= 1\n",
    "                \n",
    "            node = Node(key, value)\n",
    "            self._node[key] = node\n",
    "            self._freq[1].append(node)\n",
    "            self._minfreq = 1\n",
    "            self._size += 1\n",
    "\n",
    "# Your LFUCache object will be instantiated and called as such:\n",
    "lfu = LFUCache(2)\n",
    "lfu.put(1, 1)   # cache=[1,_], cnt(1)=1\n",
    "lfu.put(2, 2)   # cache=[2,1], cnt(2)=1, cnt(1)=1\n",
    "lfu.get(1)      # return 1\n",
    "                # cache=[1,2], cnt(2)=1, cnt(1)=2\n",
    "lfu.put(3, 3)   # 2 is the LFU key because cnt(2)=1 is the smallest, invalidate 2.\n",
    "                # cache=[3,1], cnt(3)=1, cnt(1)=2\n",
    "lfu.get(2)      # return -1 (not found)\n",
    "lfu.get(3)      # return 3\n",
    "                # cache=[3,1], cnt(3)=2, cnt(1)=2\n",
    "lfu.put(4, 4)   # Both 1 and 3 have the same cnt, but 1 is LRU, invalidate 1.\n",
    "                # cache=[4,3], cnt(4)=1, cnt(3)=2\n",
    "lfu.get(1)      # return -1 (not found)\n",
    "lfu.get(3)      # return 3\n",
    "                # cache=[3,4], cnt(4)=1, cnt(3)=3\n",
    "lfu.get(4)      # return 4\n",
    "                # cache=[4,3], cnt(4)=2, cnt(3)=3"
   ]
  },
  {
   "attachments": {},
   "cell_type": "markdown",
   "metadata": {},
   "source": [
    "##### 987.Vertical Order Traversal of a Binary Tree"
   ]
  },
  {
   "cell_type": "code",
   "execution_count": 73,
   "metadata": {},
   "outputs": [
    {
     "name": "stdout",
     "output_type": "stream",
     "text": [
      "[[0], [1], [3, 2, 2], [4]]\n"
     ]
    }
   ],
   "source": [
    "# Definition for a binary tree node.\n",
    "class TreeNode:\n",
    "    def __init__(self, val=0, left=None, right=None):\n",
    "        self.val = val\n",
    "        self.left = left\n",
    "        self.right = right\n",
    "\n",
    "class Solution:\n",
    "    # sort level wise and then row wise\n",
    "    def verticalTraversal(self, root: Optional[TreeNode]) -> List[List[int]]:\n",
    "        if not root: return []\n",
    "\n",
    "        res = []\n",
    "        col_map = defaultdict(list)\n",
    "        lowest, highest = 0, 0\n",
    "        \n",
    "        q = collections.deque([(root, (0, 0))])\n",
    "        def bfs():\n",
    "            nonlocal lowest, highest\n",
    "            while q:\n",
    "                q_len = len(q)\n",
    "\n",
    "                for _ in range(q_len):\n",
    "                    node, (row, col) = q.popleft()\n",
    "                    \n",
    "                    col_map[col].append((row, node.val))\n",
    "                    if node.left:\n",
    "                        q.append((node.left, (row + 1, col - 1)))\n",
    "                        lowest = min(lowest, col - 1)\n",
    "                    if node.right:\n",
    "                        q.append((node.right, (row + 1, col + 1)))\n",
    "                        highest = max(highest, col + 1)\n",
    "\n",
    "        bfs()\n",
    "\n",
    "        for i in range(lowest, highest + 1):\n",
    "            res.append([val for row, val in sorted(col_map[i])])\n",
    "\n",
    "        return res\n",
    "\n",
    "tree = TreeNode(3)\n",
    "tree.left = TreeNode(1)\n",
    "tree.right = TreeNode(4)\n",
    "tree.left.left = TreeNode(0)\n",
    "tree.left.right = TreeNode(2)\n",
    "tree.right.left = TreeNode(2)\n",
    "\n",
    "sol = Solution()\n",
    "print(sol.verticalTraversal(tree))"
   ]
  },
  {
   "attachments": {},
   "cell_type": "markdown",
   "metadata": {},
   "source": [
    "### Amazon OA"
   ]
  },
  {
   "attachments": {},
   "cell_type": "markdown",
   "metadata": {},
   "source": [
    "#### Rice bags"
   ]
  },
  {
   "cell_type": "code",
   "execution_count": null,
   "metadata": {},
   "outputs": [],
   "source": [
    "import collections, math\n",
    "\n",
    "def maxSetSize(riceBags):\n",
    "    count_map = collections.defaultdict(int)\n",
    "    res = 1\n",
    "    riceBags.sort()\n",
    "    for s in riceBags:\n",
    "        count_map[s] = count_map.get(math.sqrt(s), 0) + count_map.get(s*s, 0) + 1\n",
    "        res = max(res, count_map[s])\n",
    "\n",
    "    return -1 if res == 1 else res"
   ]
  },
  {
   "attachments": {},
   "cell_type": "markdown",
   "metadata": {},
   "source": [
    "#### Max Products picked"
   ]
  },
  {
   "cell_type": "code",
   "execution_count": null,
   "metadata": {},
   "outputs": [],
   "source": [
    "import collections\n",
    "\n",
    "def findMaxProducts(products):\n",
    "    max_sum = 0\n",
    "    for i in range(len(products) -1, -1, -1):\n",
    "        prev = products[i]\n",
    "        curr_sum = products[i]\n",
    "        for j in range(i-1, -1, -1):\n",
    "            if prev == 0:\n",
    "                break\n",
    "\n",
    "            if products[j] < prev:\n",
    "                prev = products[j]\n",
    "            else:\n",
    "                prev -= 1\n",
    "\n",
    "            sum += prev \n",
    "        max_sum = max(max_sum, curr_sum)\n",
    "\n",
    "    return max_sum\n",
    "                "
   ]
  },
  {
   "attachments": {},
   "cell_type": "markdown",
   "metadata": {},
   "source": [
    "## Flexport "
   ]
  },
  {
   "attachments": {},
   "cell_type": "markdown",
   "metadata": {},
   "source": [
    "Generate a random sentence of length N from a given text. Logic:\n",
    "\n",
    "Randomly select a word\n",
    "The next word will be the subsequent contagious word from the previously selected word. If the next word occurs multiple times in the sentence, select randomly.\n",
    "Continue until length fulfill required length\n",
    "Special case: If the chosen word has no next word (last word in the sentence, use first word as the \"next word\" - assume circular)\n",
    "\n",
    "Example\n",
    "text = \"hello this is a flexport interview and this is a hello and that was cool\"\n",
    "n = 4\n",
    "\n",
    "say first word randomly selected is \"flexport\"\n",
    "next word after \"flexport\" in the text is \"interview\". \"interview\" only occurs once.\n",
    "next word after \"interview\" in the text is \"and\". \"and\" occurs twice at index 6 & 11. Randomly select one of the indices. Say we select the one at index 6\n",
    "next word after \"and\" at index 6 is \"this\". \"this\" occurs at twice at index 1 & 7. Randomly selected at 7.\n",
    "Output: \"flexport interview and this\""
   ]
  },
  {
   "cell_type": "code",
   "execution_count": 15,
   "metadata": {},
   "outputs": [
    {
     "name": "stdout",
     "output_type": "stream",
     "text": [
      "and that was cool\n"
     ]
    }
   ],
   "source": [
    "import random\n",
    "class Solution:\n",
    "    def random_words(self, text: str, n: int) -> str: #O(n) time and space\n",
    "        word_index_map = collections.defaultdict(list)\n",
    "        \n",
    "        # Creating the word map\n",
    "        text = text.split()\n",
    "        for idx, word in enumerate(text): # O(n)\n",
    "            word_index_map[word].append(idx)\n",
    "\n",
    "        res = []\n",
    "        \n",
    "        # First word\n",
    "        idx = random.randint(0, len(text) - 1)\n",
    "        res.append(text[idx])\n",
    "        n -= 1\n",
    "        \n",
    "        while n > 0:\n",
    "            idx = random.choice(word_index_map[text[(idx + 1) % len(text)]])\n",
    "            res.append(text[idx])\n",
    "            n -= 1\n",
    "        \n",
    "        return ' '.join(res)\n",
    "\n",
    "sol = Solution()\n",
    "print(sol.random_words(\"hello this is a flexport interview and this is a hello and that was cool\", 4))"
   ]
  },
  {
   "attachments": {},
   "cell_type": "markdown",
   "metadata": {},
   "source": [
    "I was asked this problem during phone screen and could come with right solution. Can someone give some insight how I should approach this?\n",
    "\n",
    "Below is a section of a city with roads and stop lights. The letters indicate entry points where we measure traffic flow.\n",
    "Each intersection has a traffic light - We want to build a program to simulate traffic flowing through the city so we can\n",
    "test traffic light control algorithms with sample data.\n",
    "\n",
    "For purposes of this exercise, your simulation should operate on 1 minute intervals,\n",
    "where every minute lights (potentially) change and cars drive along roads, with each section of road taking 1 minute to drive.\n",
    "\n",
    "       J    \n",
    "       |    \n",
    "  A ---🚦---\n",
    "       |     \n",
    "  B ---🚦---\n",
    "       | \n",
    "Example of traffic flow::\n",
    "\n",
    "A car enters road J at minute 2\n",
    "It takes 1 minute to drive to light A-J\n",
    "Once light A-J is green for road J, it takes 1 minute to drive to light B-J\n",
    "Once light B-J is green for road J, it takes 1 minute to drive to the exit of the city\n",
    "Total travel time would be 3 minutes + number of minutes spent waiting at lights\n",
    "Assuming the car hit only green lights, it would exit the city at minute 5\n",
    "PART 1\n",
    "Let's start by simulating one road - Road J.\n",
    "\n",
    "First, create a data model to represent the road, lights, and cars driving along it.\n",
    "Next, enter one car into the road and write a function that simulates time in 1 minute intervals,\n",
    "moving the car along the road and stopping it at red lights until they turn green. It should run until the car has exited the city.\n",
    "For right now we can use a simple traffic light control: Start with both lights green on the first minute,\n",
    "and then toggle back and forth between red and green each minute after that.\n",
    "\n",
    "Your function should return the total time it took the car to travel through the city."
   ]
  },
  {
   "cell_type": "code",
   "execution_count": 25,
   "metadata": {},
   "outputs": [],
   "source": [
    "from dataclasses import dataclass\n",
    "\n",
    "\n",
    "@dataclass\n",
    "class Light:\n",
    "  x: int\n",
    "  y: int\n",
    "  is_green: bool = True\n",
    "\n",
    "@dataclass\n",
    "class Road:\n",
    "  x: Optional[int]\n",
    "  y: Optional[int]\n",
    "  is_vertical: bool\n",
    "\n",
    "@dataclass\n",
    "class Car:\n",
    "  x: int\n",
    "  y: int\n",
    "  direction: str\n",
    "\n",
    "class Map:\n",
    "  roads: List[Road]\n",
    "  lights: List[Light]\n",
    "  city_limits_min: Tuple[int, int]\n",
    "  city_limits_max: Tuple[int, int]\n",
    "  directions = {\n",
    "    'R': (1, 0),\n",
    "    'T': (0, 1),\n",
    "    'L': (-1, 0),\n",
    "    'D': (0, -1)\n",
    "  }\n",
    "\n",
    "  def __init__(self, roads: List[Road], city_limits_min: Tuple[int, int], city_limits_max: Tuple[int, int]):\n",
    "    self.lights = []\n",
    "    for r1 in roads:\n",
    "      for r2 in roads:\n",
    "        if r1.is_vertical and not r2.is_vertical:\n",
    "          self.lights.append(Light(r1.x, r2.y))\n",
    "    self.roads = roads\n",
    "    self.city_limits_min = city_limits_min\n",
    "    self.city_limits_max = city_limits_max\n",
    "  \n",
    "  def _change_lights(self):\n",
    "    for light in self.lights:\n",
    "      light.is_green = not light.is_green\n",
    "\n",
    "  def simulate_car(self, car: Car):\n",
    "    time_count = 0\n",
    "    \n",
    "    while (self.city_limits_min[0] <= car.x <= self.city_limits_max[0] \n",
    "      and self.city_limits_min[1] <= car.y <= self.city_limits_max[1]):\n",
    "      # print(\"car is at \", (car.x, car.y), \" at time \", time_count)\n",
    "      time_count += 1\n",
    "\n",
    "      # if the car is at any light and it is not green the skip\n",
    "      if not any((light.x, light.y) == (car.x, car.y) and not light.is_green for light in self.lights):\n",
    "        car.x , car.y = car.x + self.directions[car.direction][0], car.y + self.directions[car.direction][1]\n",
    "      \n",
    "      # alternate after every second\n",
    "      self._change_lights()\n",
    "\n",
    "    return time_count - 1\n",
    "\n",
    "# testing using the given case\n",
    "J = Road(1, 3, True)\n",
    "A = Road(0, 2, False)\n",
    "B = Road(0, 1, False)\n",
    "\n",
    "m = Map([J, A, B], (0, 0), (2, 3))\n",
    "assert m.simulate_car(Car(1, 3, 'D')) == 5"
   ]
  },
  {
   "attachments": {},
   "cell_type": "markdown",
   "metadata": {},
   "source": [
    "Reverse a linked list and then use the same function to swap nodes in pairs"
   ]
  },
  {
   "cell_type": "code",
   "execution_count": 105,
   "metadata": {},
   "outputs": [
    {
     "name": "stdout",
     "output_type": "stream",
     "text": [
      "1\n",
      "2\n",
      "3\n",
      "4\n",
      "5\n",
      "++++++++++++++++++\n",
      "5\n",
      "4\n",
      "3\n",
      "2\n",
      "1\n",
      "++++++++++++++++++\n",
      "5\n"
     ]
    },
    {
     "data": {
      "text/plain": [
       "''"
      ]
     },
     "execution_count": 105,
     "metadata": {},
     "output_type": "execute_result"
    }
   ],
   "source": [
    "class ListNode:\n",
    "    def __init__(self, val=0, next=None):\n",
    "        self.val = val\n",
    "        self.next = next\n",
    "\n",
    "class Solution:\n",
    "    def reverseList(self, head: Optional[ListNode]) -> Optional[ListNode]:\n",
    "        prev, curr = None, head\n",
    "\n",
    "        while curr:\n",
    "            next = curr.next\n",
    "            curr.next = prev\n",
    "            prev = curr\n",
    "            curr = next\n",
    "        return prev       \n",
    "\n",
    "    def reverseListPairs(self, head: Optional[ListNode]) -> Optional[ListNode]:\n",
    "        pre, pre.next = self, head\n",
    "        while pre.next and pre.next.next:\n",
    "            a = pre.next\n",
    "            b = a.next\n",
    "            pre.next, b.next, a.next = b, a, b.next\n",
    "            pre = a\n",
    "        return self.next\n",
    "\n",
    "nodeMaker = ListNodeMaker()\n",
    "ll = nodeMaker.list_to_link([1,2,3,4,5])\n",
    "nodeMaker.p(ll)\n",
    "print(\"++++++++++++++++++\")\n",
    "sol = Solution()\n",
    "nodeMaker.p(sol.reverseList(ll))\n",
    "print(\"++++++++++++++++++\")\n",
    "ll = nodeMaker.list_to_link([1,2,3,4,5])\n",
    "nodeMaker.p(sol.reverseListPairs(ll))\n"
   ]
  },
  {
   "attachments": {},
   "cell_type": "markdown",
   "metadata": {},
   "source": [
    "Hash map"
   ]
  },
  {
   "cell_type": "code",
   "execution_count": 32,
   "metadata": {},
   "outputs": [
    {
     "name": "stdout",
     "output_type": "stream",
     "text": [
      "1\n",
      "-1\n",
      "1\n",
      "-1\n"
     ]
    }
   ],
   "source": [
    "class Node:\n",
    "   def __init__(self, key, val):\n",
    "      self.key = key\n",
    "      self.val = val\n",
    "      self.next = None\n",
    "\n",
    "class LinkedList:\n",
    "   def __init__(self):\n",
    "      self.prehead = Node(None, None)\n",
    "   \n",
    "   def search(self, key):\n",
    "      p = self.prehead.next\n",
    "      while p:\n",
    "         if p.key == key:\n",
    "            return p\n",
    "         p = p.next\n",
    "      return None\n",
    "   \n",
    "   def add(self, key, val):\n",
    "      p = self.search(key)\n",
    "      if p:\n",
    "         p.val = val\n",
    "      else:\n",
    "         node = Node(key, val)\n",
    "         self.prehead.next, node.next = node, self.prehead.next\n",
    "   \n",
    "   def get(self, key):\n",
    "      p = self.search(key)\n",
    "      return p.val if p else None\n",
    "   \n",
    "   def remove(self, key):\n",
    "      prev = self.prehead\n",
    "      cur = prev.next\n",
    "      while cur:\n",
    "         if cur.key == key:\n",
    "            break\n",
    "         prev, cur = cur, cur.next\n",
    "      if cur:\n",
    "         prev.next = cur.next\n",
    "\n",
    "class MyHashMap:\n",
    "   def __init__(self):\n",
    "      self.size = 1033\n",
    "      self.arr = [LinkedList() for _ in range(self.size)]\n",
    "\n",
    "   def _hash(self, key):\n",
    "      return key % self.size\n",
    "\n",
    "   def put(self, key, value):\n",
    "      h = self._hash(key)\n",
    "      self.arr[h].add(key, value)\n",
    "\n",
    "   def get(self, key):\n",
    "      h = self._hash(key)\n",
    "      ret = self.arr[h].get(key)\n",
    "      return ret if ret is not None else -1\n",
    "\n",
    "   def remove(self, key):\n",
    "      h = self._hash(key)\n",
    "      self.arr[h].remove(key)\n",
    "\n",
    "ob = MyHashMap()\n",
    "ob.put(1, 1)\n",
    "ob.put(2, 2)\n",
    "print(ob.get(1))\n",
    "print(ob.get(3))\n",
    "ob.put(2, 1)\n",
    "print(ob.get(2))\n",
    "ob.remove(2)\n",
    "print(ob.get(2))"
   ]
  },
  {
   "attachments": {},
   "cell_type": "markdown",
   "metadata": {},
   "source": [
    "### 948.Bag of Tokens"
   ]
  },
  {
   "cell_type": "code",
   "execution_count": 35,
   "metadata": {},
   "outputs": [
    {
     "name": "stdout",
     "output_type": "stream",
     "text": [
      "0\n",
      "1\n",
      "2\n"
     ]
    }
   ],
   "source": [
    "class Solution:\n",
    "    def bagOfTokensScore(self, tokens: List[int], power: int) -> int:\n",
    "        tokens.sort()\n",
    "\n",
    "        deque = collections.deque(tokens)\n",
    "        \n",
    "        ans = score = 0\n",
    "        \n",
    "        while deque and (power >= deque[0] or score):\n",
    "            while deque and power >= deque[0]:\n",
    "                power -= deque.popleft()\n",
    "                score += 1\n",
    "            ans = max(ans, score)\n",
    "\n",
    "            if deque and score:\n",
    "                power += deque.pop()\n",
    "                score -= 1\n",
    "\n",
    "        return ans\n",
    "\n",
    "sol = Solution()\n",
    "print(sol.bagOfTokensScore([100], 50)) #0\n",
    "print(sol.bagOfTokensScore([100, 200], 150)) #1\n",
    "print(sol.bagOfTokensScore([100, 200, 300, 400], 200)) #2"
   ]
  },
  {
   "attachments": {},
   "cell_type": "markdown",
   "metadata": {},
   "source": [
    "### 782.Transform to Chessboard"
   ]
  },
  {
   "cell_type": "code",
   "execution_count": 39,
   "metadata": {},
   "outputs": [
    {
     "name": "stdout",
     "output_type": "stream",
     "text": [
      "2\n"
     ]
    }
   ],
   "source": [
    "class Solution(object):\n",
    "    def movesToChessboard(self, board):\n",
    "        n = len(board)\n",
    "        \n",
    "        def fn(vals): \n",
    "            \"\"\"Return min moves to transform to chessboard.\"\"\"\n",
    "            total = odd = 0 \n",
    "            for i, x in enumerate(vals): \n",
    "                if vals[0] == x: \n",
    "                    total += 1\n",
    "                    if i&1: odd += 1\n",
    "                elif vals[0] ^ x != (1 << n) - 1: return float('inf')\n",
    "            ans = float('inf')\n",
    "            if len(vals) <= 2*total <= len(vals)+1: ans = min(ans, odd)\n",
    "            if len(vals)-1 <= 2*total <= len(vals): ans = min(ans, total - odd)\n",
    "            return ans \n",
    "        \n",
    "        rows, cols = [0]*n, [0]*n\n",
    "        for i in range(n): \n",
    "            for j in range(n): \n",
    "                if board[i][j]: \n",
    "                    rows[i] ^= 1 << j \n",
    "                    cols[j] ^= 1 << i\n",
    "        ans = fn(rows) + fn(cols)\n",
    "        return ans if ans < float('inf') else -1 \n",
    "\n",
    "sol = Solution()\n",
    "print(sol.movesToChessboard([[0,1,1,0],[0,1,1,0],[1,0,0,1],[1,0,0,1]]))"
   ]
  },
  {
   "attachments": {},
   "cell_type": "markdown",
   "metadata": {},
   "source": [
    "### 93.Restore IP Addresses"
   ]
  },
  {
   "cell_type": "code",
   "execution_count": 42,
   "metadata": {},
   "outputs": [
    {
     "name": "stdout",
     "output_type": "stream",
     "text": [
      "['255.255.11.135', '255.255.111.35']\n",
      "['0.0.0.0']\n",
      "['1.0.10.23', '1.0.102.3', '10.1.0.23', '10.10.2.3', '101.0.2.3']\n"
     ]
    }
   ],
   "source": [
    "class Solution:\n",
    "    def restoreIpAddresses(self, s: str) -> List[str]:\n",
    "        res = []\n",
    "        sub = []\n",
    "        \n",
    "        def backtrack(pos):\n",
    "            if len(sub) == 4 and pos == len(s):\n",
    "                res.append('.'.join(sub))\n",
    "                return \n",
    "            \n",
    "            if len(sub) > 4:\n",
    "                return\n",
    "            \n",
    "            for i in range(pos, min(len(s), pos + 3)):\n",
    "                if int(s[pos : i+1]) <= 255 and (pos == i or s[pos] != '0'):\n",
    "                    sub.append(s[pos : i+1])\n",
    "                    backtrack(i + 1)\n",
    "                    sub.pop()\n",
    "\n",
    "        backtrack(0)    \n",
    "        return res\n",
    "        \n",
    "\n",
    "sol = Solution()\n",
    "print(sol.restoreIpAddresses(\"25525511135\")) #[\"255.255.11.135\",\"255.255.111.35\"]\n",
    "print(sol.restoreIpAddresses(\"0000\")) #[\"0.0.0.0\"]\n",
    "print(sol.restoreIpAddresses(\"101023\")) #[\"1.0.10.23\",\"1.0.102.3\",\"10.1.0.23\",\"10.10.2.3\",\"101.0.2.3\"]"
   ]
  },
  {
   "attachments": {},
   "cell_type": "markdown",
   "metadata": {},
   "source": [
    "### 468.Validate IP Address"
   ]
  },
  {
   "cell_type": "code",
   "execution_count": 46,
   "metadata": {},
   "outputs": [
    {
     "name": "stdout",
     "output_type": "stream",
     "text": [
      "Neither\n",
      "IPv4\n",
      "IPv6\n",
      "Neither\n"
     ]
    }
   ],
   "source": [
    "class Solution:\n",
    "    _NEITHER = \"Neither\"\n",
    "    _IPv4 = \"IPv4\"\n",
    "    _IPv6 = \"IPv6\"\n",
    "\n",
    "    def validate_IPv4(self, queryIP: str) -> str:\n",
    "        queryIP = queryIP.split('.')\n",
    "        if len(queryIP) != 4:\n",
    "            return self._NEITHER\n",
    "        \n",
    "        for num in queryIP:\n",
    "            if (num != '' and (num[0] == '0' and len(num) != 1) \n",
    "                or not (num.isdigit() and (int(num) <=255))):\n",
    "                return self._NEITHER\n",
    "        return self._IPv4\n",
    "\n",
    "        \n",
    "    def validate_IPv6(self, queryIP: str) -> str:\n",
    "        queryIP = queryIP.split(':')\n",
    "        if len(queryIP) != 8:\n",
    "            return self._NEITHER\n",
    "        \n",
    "        for alpha in queryIP:\n",
    "            if len(alpha) == 0 or len(alpha) > 4:\n",
    "                return self._NEITHER\n",
    "            for ch in alpha:\n",
    "                if not (ch.isdigit() or ch in 'abcdefABCDEF'):\n",
    "                    return self._NEITHER\n",
    "        return self._IPv6\n",
    "\n",
    "    def validIPAddress(self, queryIP: str) -> str:\n",
    "        if '.' in queryIP:\n",
    "            return self.validate_IPv4(queryIP)\n",
    "        elif ':' in queryIP:\n",
    "            return self.validate_IPv6(queryIP)\n",
    "        else:\n",
    "            return self._NEITHER\n",
    "\n",
    "sol = Solution()\n",
    "print(sol.validIPAddress(\"1.0.1.\")) #IPv4\n",
    "print(sol.validIPAddress(\"172.16.254.1\")) #IPv4\n",
    "print(sol.validIPAddress(\"2001:0db8:85a3:0:0:8A2E:0370:7334\")) #IPv6\n",
    "print(sol.validIPAddress(\"256.256.256.256\")) #Neither"
   ]
  },
  {
   "attachments": {},
   "cell_type": "markdown",
   "metadata": {},
   "source": [
    "### 1108.Defanging an IP Address"
   ]
  },
  {
   "cell_type": "code",
   "execution_count": 47,
   "metadata": {},
   "outputs": [
    {
     "name": "stdout",
     "output_type": "stream",
     "text": [
      "1[.]1[.]1[.]1\n",
      "255[.]100[.]50[.]0\n"
     ]
    }
   ],
   "source": [
    "class Solution:\n",
    "    def defangIPaddr(self, address: str) -> str:\n",
    "        return address.replace('.', '[.]')\n",
    "\n",
    "sol = Solution()\n",
    "print(sol.defangIPaddr(\"1.1.1.1\")) #\"1[.]1[.]1[.]1\"\n",
    "print(sol.defangIPaddr(\"255.100.50.0\")) #\"255[.]100[.]50[.]0\""
   ]
  },
  {
   "attachments": {},
   "cell_type": "markdown",
   "metadata": {},
   "source": [
    "### 352.Data Stream as Disjoint Intervals"
   ]
  },
  {
   "cell_type": "code",
   "execution_count": 48,
   "metadata": {},
   "outputs": [
    {
     "data": {
      "text/plain": [
       "[[1, 3], [6, 7]]"
      ]
     },
     "execution_count": 48,
     "metadata": {},
     "output_type": "execute_result"
    }
   ],
   "source": [
    "class SummaryRanges:\n",
    "\n",
    "    def __init__(self):\n",
    "        self.intervals = []\n",
    "\n",
    "    def addNum(self, value: int) -> None:\n",
    "        left, right = 0, len(self.intervals) - 1\n",
    "\n",
    "        while left <= right:\n",
    "            mid = (left + right) // 2\n",
    "            e = self.intervals[mid]\n",
    "            if e[0] <= value <= e[1]: \n",
    "                return\n",
    "            elif value < e[0]: \n",
    "                right = mid - 1\n",
    "            else: \n",
    "                left = mid + 1\n",
    "        pos = left\n",
    "\n",
    "        self.intervals.insert(pos, [value, value])\n",
    "\n",
    "        #Checking with next interval\n",
    "        if (pos + 1 < len(self.intervals) \n",
    "            and value + 1 == self.intervals[pos+1][0]):\n",
    "            self.intervals[pos][1] = self.intervals[pos+1][1]\n",
    "            del self.intervals[pos+1]\n",
    "        \n",
    "        #checking with previous interval\n",
    "        if (pos - 1 >= 0 \n",
    "            and value - 1 == self.intervals[pos-1][1]):\n",
    "            self.intervals[pos-1][1] = self.intervals[pos][1]\n",
    "            del self.intervals[pos]\n",
    "        \n",
    "\n",
    "    def getIntervals(self) -> List[List[int]]:\n",
    "        return self.intervals\n",
    "\n",
    "\n",
    "# Your SummaryRanges object will be instantiated and called as such:\n",
    "summaryRanges = SummaryRanges()\n",
    "summaryRanges.addNum(1)      # arr = [1]\n",
    "summaryRanges.getIntervals() # return [[1, 1]]\n",
    "summaryRanges.addNum(3)      # arr = [1, 3]\n",
    "summaryRanges.getIntervals() # return [[1, 1], [3, 3]]\n",
    "summaryRanges.addNum(7)      # arr = [1, 3, 7]\n",
    "summaryRanges.getIntervals() # return [[1, 1], [3, 3], [7, 7]]\n",
    "summaryRanges.addNum(2)      # arr = [1, 2, 3, 7]\n",
    "summaryRanges.getIntervals() # return [[1, 3], [7, 7]]\n",
    "summaryRanges.addNum(6)      # arr = [1, 2, 3, 6, 7]\n",
    "summaryRanges.getIntervals() # return [[1, 3], [6, 7]]"
   ]
  },
  {
   "attachments": {},
   "cell_type": "markdown",
   "metadata": {},
   "source": [
    "### 436.Find Right Interval"
   ]
  },
  {
   "cell_type": "code",
   "execution_count": 106,
   "metadata": {},
   "outputs": [
    {
     "name": "stdout",
     "output_type": "stream",
     "text": [
      "[-1]\n",
      "[-1, 0, 1]\n",
      "[-1, 2, -1]\n"
     ]
    }
   ],
   "source": [
    "import bisect\n",
    "\n",
    "class Solution:\n",
    "    def findRightInterval(self, intervals: List[List[int]]) -> List[int]:\n",
    "        sorted_starts = sorted([[start, index] for (index, [start, end]) in enumerate(intervals)])\n",
    "        result = [-1 for _ in range(len(intervals))]\n",
    "\n",
    "        def binary_search(x):\n",
    "            if sorted_starts[len(intervals) - 1][0] < x:\n",
    "                return -1\n",
    "            \n",
    "            l, r = 0, len(intervals) - 1\n",
    "            while l <= r:\n",
    "                mid = (l + r) // 2\n",
    "                if sorted_starts[mid][0] >= x:\n",
    "                    r = mid - 1\n",
    "                else:\n",
    "                    l = mid + 1\n",
    "            return sorted_starts[l][1]\n",
    "\n",
    "        for idx, [start, end] in enumerate(intervals):\n",
    "            result[idx] = binary_search(end)\n",
    "        \n",
    "        return result\n",
    "\n",
    "\n",
    "sol = Solution()\n",
    "print(sol.findRightInterval([[1,2]])) #-1\n",
    "print(sol.findRightInterval([[3,4],[2,3],[1,2]])) #[-1,0,1]\n",
    "print(sol.findRightInterval([[1,4],[2,3],[3,4]])) #[-1,2,-1]"
   ]
  },
  {
   "attachments": {},
   "cell_type": "markdown",
   "metadata": {},
   "source": [
    "### 437.Path Sum III"
   ]
  },
  {
   "cell_type": "code",
   "execution_count": 107,
   "metadata": {},
   "outputs": [
    {
     "name": "stdout",
     "output_type": "stream",
     "text": [
      "3\n"
     ]
    }
   ],
   "source": [
    "# Definition for a binary tree node.\n",
    "class TreeNode:\n",
    "    def __init__(self, val=0, left=None, right=None):\n",
    "        self.val = val\n",
    "        self.left = left\n",
    "        self.right = right\n",
    "\n",
    "class Solution:\n",
    "    def pathSum(self, root: Optional[TreeNode], targetSum: int) -> int:\n",
    "        res = 0\n",
    "        lookup = defaultdict(int)\n",
    "        # lookup[targetSum] = 1\n",
    "\n",
    "        def dfs(node, curr_sum):\n",
    "            nonlocal res\n",
    "            \n",
    "            if not node:\n",
    "                return\n",
    "            \n",
    "            curr_sum += node.val\n",
    "            res += lookup[curr_sum]\n",
    "            lookup[curr_sum + targetSum] += 1\n",
    "\n",
    "            dfs(node.left, curr_sum)\n",
    "            dfs(node.right, curr_sum)\n",
    "\n",
    "            lookup[curr_sum + targetSum] -= 1\n",
    "    \n",
    "        dfs(root, 0)\n",
    "        return res\n",
    "\n",
    "tree = TreeNode(10)\n",
    "tree.left = TreeNode(5)\n",
    "tree.left.left = TreeNode(3)\n",
    "tree.left.left.left = TreeNode(3)\n",
    "tree.left.left.right = TreeNode(-2)\n",
    "tree.left.right = TreeNode(2)\n",
    "tree.left.right.right = TreeNode(1)\n",
    "tree.right = TreeNode(-3)\n",
    "tree.right.right = TreeNode(11)\n",
    "\n",
    "sol = Solution()\n",
    "print(sol.pathSum(tree, 8))\n"
   ]
  },
  {
   "attachments": {},
   "cell_type": "markdown",
   "metadata": {},
   "source": [
    "### 113.Path Sum II"
   ]
  },
  {
   "cell_type": "code",
   "execution_count": 74,
   "metadata": {},
   "outputs": [
    {
     "name": "stdout",
     "output_type": "stream",
     "text": [
      "[[5, 4, 11, 2], [5, 8, 4, 5]]\n"
     ]
    }
   ],
   "source": [
    "# Definition for a binary tree node.\n",
    "class TreeNode:\n",
    "    def __init__(self, val=0, left=None, right=None):\n",
    "        self.val = val\n",
    "        self.left = left\n",
    "        self.right = right\n",
    "\n",
    "class Solution:\n",
    "    def pathSum(self, root: Optional[TreeNode], targetSum: int) -> List[List[int]]:\n",
    "        res = []\n",
    "        sub = []\n",
    "        \n",
    "        def dfs(node, curr_sum):\n",
    "            if not node:\n",
    "                return\n",
    "\n",
    "            sub.append(node.val)\n",
    "            curr_sum += node.val\n",
    "            \n",
    "            if (not node.left \n",
    "                and not node.right \n",
    "                and curr_sum == targetSum):\n",
    "                res.append(sub.copy())\n",
    "            \n",
    "            \n",
    "            dfs(node.left, curr_sum)\n",
    "            dfs(node.right, curr_sum)\n",
    "            sub.pop()\n",
    "\n",
    "        dfs(root, 0)\n",
    "        return res\n",
    "\n",
    "tree = TreeNode(5)\n",
    "tree.left = TreeNode(4)\n",
    "tree.left.left = TreeNode(11)\n",
    "tree.left.left.left = TreeNode(7)\n",
    "tree.left.left.right = TreeNode(2)\n",
    "tree.right = TreeNode(8)\n",
    "tree.right.left = TreeNode(13)\n",
    "tree.right.right = TreeNode(4)\n",
    "tree.right.right.left = TreeNode(5)\n",
    "tree.right.right.right = TreeNode(1)\n",
    "\n",
    "sol = Solution()\n",
    "print(sol.pathSum(tree, 22))"
   ]
  },
  {
   "attachments": {},
   "cell_type": "markdown",
   "metadata": {},
   "source": [
    "### 1672.Richest Customer Wealth"
   ]
  },
  {
   "cell_type": "code",
   "execution_count": 79,
   "metadata": {},
   "outputs": [
    {
     "name": "stdout",
     "output_type": "stream",
     "text": [
      "6\n",
      "10\n",
      "17\n"
     ]
    }
   ],
   "source": [
    "from functools import reduce\n",
    "class Solution:\n",
    "    def maximumWealth(self, accounts: List[List[int]]) -> int:\n",
    "        return max([reduce(lambda x, y:x+y, account) for account in accounts])\n",
    "\n",
    "sol = Solution()\n",
    "print(sol.maximumWealth([[1,2,3],[3,2,1]])) # 6\n",
    "print(sol.maximumWealth([[1,5],[7,3],[3,5]])) # 10\n",
    "print(sol.maximumWealth([[2,8,7],[7,1,3],[1,9,5]])) # 17"
   ]
  },
  {
   "attachments": {},
   "cell_type": "markdown",
   "metadata": {},
   "source": [
    "## Binarysearch.com"
   ]
  },
  {
   "attachments": {},
   "cell_type": "markdown",
   "metadata": {},
   "source": [
    "### Easy"
   ]
  },
  {
   "attachments": {},
   "cell_type": "markdown",
   "metadata": {},
   "source": [
    "#### 123 Number Flip"
   ]
  },
  {
   "cell_type": "code",
   "execution_count": null,
   "metadata": {},
   "outputs": [
    {
     "name": "stdout",
     "output_type": "stream",
     "text": [
      "323\n",
      "333\n",
      "3322\n"
     ]
    }
   ],
   "source": [
    "class Solution:\n",
    "    def solve(self, n):\n",
    "        res = str(n)\n",
    "        i = 0\n",
    "        while i != len(res) and res[i] == '3':\n",
    "            i += 1\n",
    "\n",
    "        return n if i == len(res) else int(res[:i] + '3' + res[i + 1:])\n",
    "        # return max(int(str(n).replace('2','3',1)), int(str(n).replace('1','3',1)))\n",
    "\n",
    "sol = Solution()\n",
    "print(sol.solve(123))\n",
    "print(sol.solve(333))\n",
    "print(sol.solve(3222))\n"
   ]
  },
  {
   "attachments": {},
   "cell_type": "markdown",
   "metadata": {},
   "source": [
    "#### Fixed point"
   ]
  },
  {
   "cell_type": "code",
   "execution_count": null,
   "metadata": {},
   "outputs": [
    {
     "name": "stdout",
     "output_type": "stream",
     "text": [
      "3\n",
      "-1\n",
      "0\n"
     ]
    }
   ],
   "source": [
    "class Solution:\n",
    "    def solve(self, nums):\n",
    "        res = -1\n",
    "        start, end = 0, len(nums) - 1\n",
    "        \n",
    "        while start <= end:\n",
    "            mid = (start + end)//2\n",
    "\n",
    "            if nums[mid] == mid:\n",
    "                res = mid\n",
    "            if nums[mid] >= mid:\n",
    "                end = mid -1 \n",
    "            else:\n",
    "                start = mid + 1\n",
    "        return res\n",
    "\n",
    "sol = Solution()\n",
    "print(sol.solve([-5, -2, 0, 3, 4]))\n",
    "print(sol.solve([-5, -4, 0]))\n",
    "print(sol.solve([0, 1, 2]))"
   ]
  },
  {
   "attachments": {},
   "cell_type": "markdown",
   "metadata": {},
   "source": [
    "#### Sorted Elements"
   ]
  },
  {
   "cell_type": "code",
   "execution_count": null,
   "metadata": {},
   "outputs": [
    {
     "name": "stdout",
     "output_type": "stream",
     "text": [
      "1\n"
     ]
    }
   ],
   "source": [
    "class Solution:\n",
    "    def solve(self, nums):\n",
    "        res = 1\n",
    "        max_val = nums[0]\n",
    "\n",
    "        for i in range(1, len(nums)):\n",
    "            if nums[i] > max_val:\n",
    "                max_val = nums[i]\n",
    "                res += 1\n",
    "            else:\n",
    "                res -= 1\n",
    "        \n",
    "        return res\n",
    "\n",
    "sol = Solution()\n",
    "print(sol.solve([1, 7, 3, 4, 10]))"
   ]
  },
  {
   "cell_type": "code",
   "execution_count": null,
   "metadata": {},
   "outputs": [
    {
     "name": "stdout",
     "output_type": "stream",
     "text": [
      "[(1, 1), (7, 3), (3, 4), (4, 7), (10, 10)]\n"
     ]
    }
   ],
   "source": [
    "nums = [1,7,3,4,10]\n",
    "print([(a, b) for a, b in zip(nums, sorted(nums))])"
   ]
  },
  {
   "attachments": {},
   "cell_type": "markdown",
   "metadata": {},
   "source": [
    "#### Strictly Increasing or Strictly Decreasing"
   ]
  },
  {
   "cell_type": "code",
   "execution_count": null,
   "metadata": {},
   "outputs": [
    {
     "name": "stdout",
     "output_type": "stream",
     "text": [
      "True\n",
      "False\n",
      "True\n"
     ]
    }
   ],
   "source": [
    "class Solution:\n",
    "    def solve(self, nums):\n",
    "        inc, dec = False, False\n",
    "\n",
    "        for i in range(len(nums) - 1):\n",
    "            if ((nums[i] == nums[i + 1])\n",
    "                or (inc and not (nums[i] < nums[i + 1])) \n",
    "                or (dec and not (nums[i] > nums[i + 1]))):\n",
    "                return False\n",
    "            \n",
    "            if not inc and not dec:\n",
    "                if nums[i] < nums[i + 1]:\n",
    "                    inc = True\n",
    "                else:\n",
    "                    dec = True\n",
    "        return True\n",
    "\n",
    "        # inc = all(i < j for i, j in zip(nums, nums[1:]))\n",
    "        # dec = all(i > j for i, j in zip(nums, nums[1:]))\n",
    "        # return inc or dec\n",
    "\n",
    "\n",
    "\n",
    "sol = Solution()\n",
    "print(sol.solve([1, 2, 3, 4, 5])) #True\n",
    "print(sol.solve([1, 2, 3, 4, 5, 5])) #False\n",
    "print(sol.solve([5, 4, 3, 2, 1])) #True"
   ]
  },
  {
   "attachments": {},
   "cell_type": "markdown",
   "metadata": {},
   "source": [
    "#### Merging two sorted lists"
   ]
  },
  {
   "cell_type": "code",
   "execution_count": null,
   "metadata": {},
   "outputs": [
    {
     "name": "stdout",
     "output_type": "stream",
     "text": [
      "[3, 5, 8, 9, 10, 13, 15, 20, 25, 30]\n"
     ]
    }
   ],
   "source": [
    "class Solution:\n",
    "    def solve(self, a, b):\n",
    "        a_i, b_i = 0, 0\n",
    "        res = []\n",
    "        while a_i != len(a) and b_i != len(b):\n",
    "            if a[a_i] > b[b_i]:\n",
    "                res.append(b[b_i])\n",
    "                b_i += 1\n",
    "            else:\n",
    "                res.append(a[a_i])\n",
    "                a_i += 1\n",
    "        \n",
    "        return res + a[a_i:] + b[b_i:]\n",
    "        \n",
    "\n",
    "sol = Solution()\n",
    "print(sol.solve([5, 10, 15, 20, 25, 30], [3, 8, 9, 13]))"
   ]
  },
  {
   "attachments": {},
   "cell_type": "markdown",
   "metadata": {},
   "source": [
    "#### Minimum Bracket Addition"
   ]
  },
  {
   "cell_type": "code",
   "execution_count": null,
   "metadata": {},
   "outputs": [
    {
     "name": "stdout",
     "output_type": "stream",
     "text": [
      "5\n",
      "5\n"
     ]
    }
   ],
   "source": [
    "class Solution:\n",
    "    def solve(self, s):\n",
    "        ans = bal = 0\n",
    "        for ch in s:\n",
    "            bal += 1 if ch == '(' else -1\n",
    "            \n",
    "            if bal == -1:\n",
    "                ans += 1\n",
    "                bal = 0 #reset\n",
    "\n",
    "        return ans + bal\n",
    "\n",
    "sol = Solution()\n",
    "print(sol.solve(\")))((\")) #5\n",
    "print(sol.solve(\"(())))((\")) #4"
   ]
  },
  {
   "attachments": {},
   "cell_type": "markdown",
   "metadata": {},
   "source": [
    "### Meduim"
   ]
  },
  {
   "attachments": {},
   "cell_type": "markdown",
   "metadata": {},
   "source": [
    "#### Dice Throw"
   ]
  },
  {
   "cell_type": "code",
   "execution_count": null,
   "metadata": {},
   "outputs": [
    {
     "name": "stdout",
     "output_type": "stream",
     "text": [
      "6\n"
     ]
    }
   ],
   "source": [
    "class Solution:\n",
    "    def solve(self, n, faces, total):\n",
    "        helper_map = {}\n",
    "\n",
    "        def helper(dices, total_rem):\n",
    "            if total_rem < dices or total_rem > dices * faces:\n",
    "                return 0\n",
    "            if dices == 1:\n",
    "                return 1 if total_rem <= faces else 0\n",
    "            \n",
    "            key = (dices, total_rem)\n",
    "\n",
    "            if not key in helper_map:\n",
    "                sum = 0\n",
    "                for i in range(1, faces + 1):\n",
    "                    sum += helper(dices - 1, total_rem - i)\n",
    "                    sum %= (10 ** 9 + 7)\n",
    "                helper_map[key] = sum\n",
    "            return helper_map[key]\n",
    "        \n",
    "        return helper(n, total)\n",
    "\n",
    "sol = Solution()\n",
    "print(sol.solve(2, 6, 7))"
   ]
  },
  {
   "attachments": {},
   "cell_type": "markdown",
   "metadata": {},
   "source": [
    "#### Special product List"
   ]
  },
  {
   "cell_type": "code",
   "execution_count": null,
   "metadata": {},
   "outputs": [
    {
     "name": "stdout",
     "output_type": "stream",
     "text": [
      "[120, 60, 40, 30, 24]\n",
      "[2, 3, 6]\n"
     ]
    }
   ],
   "source": [
    "class Solution:\n",
    "    def solve(self, nums):\n",
    "        res = [1] * len(nums)\n",
    "\n",
    "        pre = 1\n",
    "        for i in range(len(nums)):\n",
    "            res[i] = pre\n",
    "            pre *= nums[i]\n",
    "\n",
    "        post = 1\n",
    "        for i in range(len(nums) -1 , -1, -1):\n",
    "            res[i] *= post\n",
    "            post *= nums[i]\n",
    "\n",
    "        return res\n",
    "\n",
    "sol = Solution()\n",
    "print(sol.solve([1, 2, 3, 4, 5]))\n",
    "print(sol.solve([3, 2, 1]))"
   ]
  },
  {
   "attachments": {},
   "cell_type": "markdown",
   "metadata": {},
   "source": [
    "#### N Lexicographic Integers"
   ]
  },
  {
   "cell_type": "code",
   "execution_count": null,
   "metadata": {},
   "outputs": [
    {
     "name": "stdout",
     "output_type": "stream",
     "text": [
      "[1, 10, 100, 101, 102, 103, 104, 105, 106, 107, 108, 109, 11, 110, 111, 112, 113, 114, 115, 116, 117, 118, 119, 12, 120, 121, 122, 123, 124, 125, 126, 127, 128, 129, 13, 130, 131, 132, 133, 134, 135, 136, 137, 138, 139, 14, 140, 141, 142, 143, 144, 145, 146, 147, 148, 149, 15, 150, 151, 152, 153, 154, 155, 156, 157, 158, 159, 16, 160, 161, 162, 163, 164, 165, 166, 167, 168, 169, 17, 170, 171, 172, 173, 174, 175, 176, 177, 178, 179, 18, 180, 181, 182, 183, 184, 185, 186, 187, 188, 189, 19, 190, 191, 192, 193, 194, 195, 196, 197, 198, 199, 2, 20, 200, 201, 202, 203, 204, 205, 206, 207, 208, 209, 21, 210, 211, 212, 213, 214, 215, 216, 217, 218, 219, 22, 220, 221, 222, 223, 224, 225, 226, 227, 228, 229, 23, 230, 231, 232, 233, 234, 235, 236, 237, 238, 239, 24, 240, 241, 242, 243, 244, 245, 246, 247, 248, 249, 25, 250, 251, 252, 253, 254, 255, 256, 257, 258, 259, 26, 260, 261, 262, 263, 27, 28, 29, 3, 30, 31, 32, 33, 34, 35, 36, 37, 38, 39, 4, 40, 41, 42, 43, 44, 45, 46, 47, 48, 49, 5, 50, 51, 52, 53, 54, 55, 56, 57, 58, 59, 6, 60, 61, 62, 63, 64, 65, 66, 67, 68, 69, 7, 70, 71, 72, 73, 74, 75, 76, 77, 78, 79, 8, 80, 81, 82, 83, 84, 85, 86, 87, 88, 89, 9, 90, 91, 92, 93, 94, 95, 96, 97, 98, 99]\n"
     ]
    }
   ],
   "source": [
    "class Solution:\n",
    "    def solve(self, n):\n",
    "        number = 1\n",
    "        res = []\n",
    "\n",
    "        for i in range(n):\n",
    "            res.append(number)\n",
    "\n",
    "            if number * 10 <= n:\n",
    "                number *= 10\n",
    "            else:\n",
    "                if number + 1 <= n and number % 10 != 9:\n",
    "                    number += 1\n",
    "                else:\n",
    "                    while (number // 10) % 10 == 9:\n",
    "                        number = number // 10\n",
    "                    number = number // 10 + 1\n",
    "\n",
    "        return res\n",
    "\n",
    "sol = Solution()\n",
    "print(sol.solve(263))"
   ]
  },
  {
   "attachments": {},
   "cell_type": "markdown",
   "metadata": {},
   "source": [
    "#### Number of Islands"
   ]
  },
  {
   "cell_type": "code",
   "execution_count": null,
   "metadata": {},
   "outputs": [
    {
     "name": "stdout",
     "output_type": "stream",
     "text": [
      "1\n",
      "4\n"
     ]
    }
   ],
   "source": [
    "class Solution:\n",
    "    def solve(self, matrix):\n",
    "        if not matrix:\n",
    "            return 0\n",
    "\n",
    "        r_max, c_max = len(matrix), len(matrix[0])\n",
    "        directions = [[1,0], [0,1], [-1, 0], [0, -1]]\n",
    "        visited = set()\n",
    "        n_islands = 0\n",
    "\n",
    "        def bfs(r, c):\n",
    "            q = collections.deque()\n",
    "            visited.add((r,c))\n",
    "            q.append((r,c))\n",
    "\n",
    "            while q:\n",
    "                row, col = q.popleft() # change this to pop to make it DFS iterative\n",
    "                for i, j in directions:\n",
    "                    new_r, new_c = row + i, col + j\n",
    "                    if (new_r >=0 and new_c >= 0\n",
    "                        and new_r < r_max and new_c < c_max \n",
    "                        and matrix[new_r][new_c] == 1\n",
    "                        and (new_r, new_c) not in visited):\n",
    "                        q.append((new_r, new_c))\n",
    "                        visited.add((new_r, new_c))\n",
    "\n",
    "\n",
    "\n",
    "        for i in range(r_max):\n",
    "            for j in range(c_max):\n",
    "                if matrix[i][j] == 1 and (i, j) not in visited:\n",
    "                    bfs(i, j)\n",
    "                    n_islands += 1\n",
    "\n",
    "        return n_islands\n",
    "\n",
    "sol = Solution()\n",
    "print(sol.solve([\n",
    "    [1, 1],\n",
    "    [1, 0]\n",
    "])) #1\n",
    "\n",
    "print(sol.solve([\n",
    "    [1, 0, 0, 0, 0],\n",
    "    [0, 0, 1, 1, 0],\n",
    "    [0, 1, 1, 0, 0],\n",
    "    [0, 0, 0, 0, 0],\n",
    "    [1, 1, 0, 0, 1],\n",
    "    [1, 1, 0, 0, 1]\n",
    "])) #4"
   ]
  },
  {
   "attachments": {},
   "cell_type": "markdown",
   "metadata": {},
   "source": [
    "#### Rain Catcher"
   ]
  },
  {
   "cell_type": "code",
   "execution_count": null,
   "metadata": {},
   "outputs": [
    {
     "name": "stdout",
     "output_type": "stream",
     "text": [
      "8\n",
      "1\n",
      "8\n"
     ]
    }
   ],
   "source": [
    "class Solution:\n",
    "    def solve(self, nums):\n",
    "        l, r = 0, len(nums) - 1\n",
    "        volume = 0\n",
    "        l_max, r_max = 0, 0\n",
    "        while l < r :\n",
    "            if nums[l] < nums[r]:\n",
    "                if (nums[l] >= l_max): \n",
    "                    l_max = nums[l] \n",
    "                else: \n",
    "                    volume += (l_max - nums[l])\n",
    "                l += 1\n",
    "            \n",
    "            else:\n",
    "                if nums[r] >= r_max: \n",
    "                    r_max = nums[r]\n",
    "                else:\n",
    "                    volume += (r_max - nums[r])\n",
    "                r -= 1\n",
    "        return volume\n",
    "\n",
    "sol = Solution()\n",
    "print(sol.solve([2, 5, 2, 0, 5, 8, 8]))\n",
    "print(sol.solve([2, 1, 2]))\n",
    "print(sol.solve([3, 0, 1, 3, 0, 5]))"
   ]
  },
  {
   "attachments": {},
   "cell_type": "markdown",
   "metadata": {},
   "source": [
    "#### Removing Parantheses"
   ]
  },
  {
   "cell_type": "code",
   "execution_count": null,
   "metadata": {},
   "outputs": [
    {
     "name": "stdout",
     "output_type": "stream",
     "text": [
      "1\n",
      "2\n"
     ]
    }
   ],
   "source": [
    "class Solution:\n",
    "    def solve2(self, s):\n",
    "        stack = []\n",
    "        brace_map = {')':'(', ']':'[', '}': '{'}\n",
    "        count = 0\n",
    "        for c in s:\n",
    "            if c in brace_map:\n",
    "                top = stack[-1] if stack else \"N\"\n",
    "\n",
    "                if brace_map[c] != top:\n",
    "                    count += 1\n",
    "                else:\n",
    "                    stack.pop()\n",
    "            else:\n",
    "                stack.append(c)\n",
    "        return len(stack) + count\n",
    "    \n",
    "    def solve(self, s):\n",
    "        open, close = 0, 0\n",
    "        for c in s:\n",
    "            if c == \"(\":\n",
    "                open += 1\n",
    "            elif close < open:\n",
    "                close += 1\n",
    "\n",
    "        return len(s) - close * 2\n",
    "\n",
    "sol = Solution()\n",
    "print(sol.solve(\"()())()\"))\n",
    "print(sol.solve(\")(\"))"
   ]
  },
  {
   "attachments": {},
   "cell_type": "markdown",
   "metadata": {},
   "source": [
    "#### Sudoku Validator"
   ]
  },
  {
   "cell_type": "code",
   "execution_count": null,
   "metadata": {},
   "outputs": [
    {
     "name": "stdout",
     "output_type": "stream",
     "text": [
      "True\n",
      "True\n"
     ]
    }
   ],
   "source": [
    "class Solution:\n",
    "    def solve(self, matrix):\n",
    "        if not matrix: return False\n",
    "        n = len(matrix)\n",
    "\n",
    "        row_check = all(len(set(i)) == n for i in matrix)\n",
    "        if not row_check: return False\n",
    "\n",
    "        col_check = all(len(set([matrix[i][j] for i in range(n)])) == n for j in range(n))\n",
    "        if not col_check: return False\n",
    "        \n",
    "        def box_check(startRow, startCol):\n",
    "            st = set()\n",
    "            for row in range(0, 3):\n",
    "                for col in range(0, 3):\n",
    "                    curr = matrix[row + startRow][col + startCol]\n",
    "                    if curr in st or curr not in range(1, 10):\n",
    "                        return False\n",
    "                    st.add(curr)\n",
    "        \n",
    "            return True\n",
    "\n",
    "        \n",
    "        for i in range(0, n, 3):\n",
    "            for j in range(0, n, 3):\n",
    "                if not box_check(i, j):\n",
    "                    return False\n",
    "\n",
    "        return True\n",
    "\n",
    "sol = Solution()\n",
    "print(sol.solve([\n",
    "    [4, 2, 6, 5, 7, 1, 3, 9, 8],\n",
    "    [8, 5, 7, 2, 9, 3, 1, 4, 6],\n",
    "    [1, 3, 9, 4, 6, 8, 2, 7, 5],\n",
    "    [9, 7, 1, 3, 8, 5, 6, 2, 4],\n",
    "    [5, 4, 3, 7, 2, 6, 8, 1, 9],\n",
    "    [6, 8, 2, 1, 4, 9, 7, 5, 3],\n",
    "    [7, 9, 4, 6, 3, 2, 5, 8, 1],\n",
    "    [2, 6, 5, 8, 1, 4, 9, 3, 7],\n",
    "    [3, 1, 8, 9, 5, 7, 4, 6, 2]\n",
    "])) # True\n",
    "\n",
    "print(sol.solve(matrix = [\n",
    "    [4, 2, 6, 5, 7, 1, 3, 9, 8],\n",
    "    [8, 5, 7, 2, 9, 3, 1, 4, 6],\n",
    "    [1, 3, 9, 4, 6, 8, 2, 7, 5],\n",
    "    [9, 7, 1, 3, 8, 5, 6, 2, 4],\n",
    "    [5, 4, 3, 7, 2, 6, 8, 1, 9],\n",
    "    [6, 8, 2, 1, 4, 9, 7, 5, 3],\n",
    "    [7, 9, 4, 6, 3, 2, 5, 8, 1],\n",
    "    [2, 6, 5, 8, 1, 4, 9, 3, 7],\n",
    "    [3, 1, 8, 9, 5, 7, 4, 6, 2]\n",
    "])) # True"
   ]
  },
  {
   "attachments": {},
   "cell_type": "markdown",
   "metadata": {},
   "source": [
    "#### Number of palindromic substrings"
   ]
  },
  {
   "cell_type": "code",
   "execution_count": null,
   "metadata": {},
   "outputs": [
    {
     "name": "stdout",
     "output_type": "stream",
     "text": [
      "10\n"
     ]
    }
   ],
   "source": [
    "class Solution:\n",
    "    def solve2(self, s):\n",
    "        maxLen = 0\n",
    "        count = 0\n",
    "\n",
    "        def getMaxPalindrome(start, end):\n",
    "            nonlocal maxLen, s, count\n",
    "            \n",
    "            while start >= 0 and end < len(s) and s[start] == s[end]:\n",
    "                count += 1\n",
    "                start -= 1\n",
    "                end += 1\n",
    "\n",
    "        for i in range(len(s)):\n",
    "            # Odd length palindromes\n",
    "            getMaxPalindrome(i, i)\n",
    "            \n",
    "            # Even length palindromes\n",
    "            getMaxPalindrome(i, i + 1)\n",
    "\n",
    "        return count\n",
    "\n",
    "    def solve(self, s):\n",
    "        maxLen = 0\n",
    "        count = 0\n",
    "\n",
    "        def getMaxPalindrome(start, end):\n",
    "            nonlocal maxLen, s, count\n",
    "            \n",
    "            while start >= 0 and end < len(s) and s[start] == s[end]:\n",
    "                count += 1\n",
    "                start -= 1\n",
    "                end += 1\n",
    "\n",
    "        if len(s) % 2 == 0:\n",
    "            getMaxPalindrome(len(s)//2, len(s)//2 + 1)\n",
    "        else:\n",
    "            getMaxPalindrome(len(s)//2 - 1, len(s)//2 + 1)\n",
    "        return count + len(s)\n",
    "\n",
    "sol = Solution()\n",
    "print(sol.solve(\"tacocat\")) #10"
   ]
  },
  {
   "attachments": {},
   "cell_type": "markdown",
   "metadata": {},
   "source": [
    "#### Count BST Nodes in a Range"
   ]
  },
  {
   "cell_type": "code",
   "execution_count": null,
   "metadata": {},
   "outputs": [
    {
     "name": "stdout",
     "output_type": "stream",
     "text": [
      "3\n"
     ]
    }
   ],
   "source": [
    "class Tree:\n",
    "    def __init__(self, val, left=None, right=None):\n",
    "        self.val = val\n",
    "        self.left = left\n",
    "        self.right = right\n",
    "        \n",
    "class Solution:\n",
    "    def solve(self, root, lo, hi):\n",
    "        if not root: return 0\n",
    "\n",
    "        res = 0\n",
    "        q = collections.deque()\n",
    "        q.append(root)\n",
    "\n",
    "        while q:\n",
    "            node = q.pop()\n",
    "            if lo <= node.val <= hi:\n",
    "                res += 1\n",
    "            \n",
    "            if node.left and not lo > node.left.val:\n",
    "                q.append(node.left)\n",
    "            \n",
    "            if node.right and not hi < node.right.val:\n",
    "                q.append(node.right)\n",
    "        \n",
    "        return res\n",
    "            \n",
    "sol = Solution()\n",
    "head = Tree(3)\n",
    "head.left = Tree(2)\n",
    "head.right = Tree(9)\n",
    "head.right.left = Tree(7)\n",
    "head.right.left.left = Tree(4)\n",
    "head.right.left.right = Tree(8)\n",
    "head.right.right = Tree(12)\n",
    "\n",
    "print(sol.solve(head, 5, 10))\n",
    "            \n"
   ]
  },
  {
   "attachments": {},
   "cell_type": "markdown",
   "metadata": {},
   "source": [
    "#### Palindromic Anagram"
   ]
  },
  {
   "cell_type": "code",
   "execution_count": null,
   "metadata": {},
   "outputs": [
    {
     "name": "stdout",
     "output_type": "stream",
     "text": [
      "True\n"
     ]
    }
   ],
   "source": [
    "class Solution:\n",
    "    def solve(self, s):\n",
    "        char_map = {}\n",
    "\n",
    "        for ch in s:\n",
    "            char_map[ch] = char_map.get(ch, 0) + 1\n",
    "\n",
    "        if not len(s) % 2 == 0:\n",
    "            odd_chars = {k:v for k, v in char_map.items() if not v % 2 == 0}\n",
    "            if not len(odd_chars) == 1: return False\n",
    "            odd_char = list(odd_chars.items())[0][0]\n",
    "            del char_map[odd_char]\n",
    "        \n",
    "        return all(v %2 == 0 for k, v in char_map.items())\n",
    "        # return [k % 2 == 0 for k in Counter(s).values()].count(False) <= 1\n",
    "\n",
    "sol = Solution()\n",
    "print(sol.solve('carrace'))"
   ]
  },
  {
   "attachments": {},
   "cell_type": "markdown",
   "metadata": {},
   "source": [
    "#### Matrix Search Sequel"
   ]
  },
  {
   "cell_type": "code",
   "execution_count": null,
   "metadata": {},
   "outputs": [
    {
     "name": "stdout",
     "output_type": "stream",
     "text": [
      "True\n",
      "True\n",
      "True\n",
      "False\n"
     ]
    }
   ],
   "source": [
    "class Solution:\n",
    "    def solve(self, matrix, target):\n",
    "        if not matrix: return False\n",
    "\n",
    "        ROWS = len(matrix)\n",
    "        COLS = len(matrix[0])\n",
    "        def helper(row, col):\n",
    "            if (row not in range(ROWS)\n",
    "                or col not in range(COLS)):\n",
    "                return False\n",
    "            \n",
    "            if matrix[row][col] == target:\n",
    "                return True\n",
    "            \n",
    "            if matrix[row][col] < target:\n",
    "                return helper(row + 1, col)\n",
    "            return helper(row, col - 1)\n",
    "\n",
    "        return helper(0, len(matrix[0]) - 1)\n",
    "\n",
    "        # rows = len(matrix)\n",
    "        # cols = len(matrix[0])\n",
    "        # i = 0\n",
    "        # j = cols - 1\n",
    "\n",
    "        # while i <= rows - 1 and j >= 0:\n",
    "        #     if matrix[i][j] == target:\n",
    "        #         return True\n",
    "        #     if matrix[i][j] > target:\n",
    "        #         j -= 1\n",
    "        #     if matrix[i][j] < target:\n",
    "        #         i += 1\n",
    "\n",
    "        # return False\n",
    "\n",
    "\n",
    "sol = Solution()\n",
    "mat_1 = [\n",
    "    [1, 3, 9],\n",
    "    [2, 5, 10],\n",
    "    [5, 7, 13]\n",
    "]\n",
    "print(sol.solve(mat_1, 7)) # True\n",
    "print(sol.solve(mat_1, 5)) # True\n",
    "print(sol.solve(mat_1, 13)) # True\n",
    "print(sol.solve(mat_1, 11)) # False"
   ]
  },
  {
   "attachments": {},
   "cell_type": "markdown",
   "metadata": {},
   "source": [
    "#### Interval Overlaps"
   ]
  },
  {
   "cell_type": "code",
   "execution_count": null,
   "metadata": {},
   "outputs": [
    {
     "name": "stdout",
     "output_type": "stream",
     "text": [
      "[[1, 3], [5, 6], [7, 7]]\n",
      "[]\n",
      "[[2, 4]]\n"
     ]
    }
   ],
   "source": [
    "class Solution:\n",
    "    def solve(self, l0, l1):\n",
    "        res = []\n",
    "        i, j = 0, 0\n",
    "\n",
    "        while i != len(l0) and j != len(l1):\n",
    "            [a_start, a_end] = l0[i]\n",
    "            [b_start, b_end] = l1[j]\n",
    "            \n",
    "            if a_end < b_start:\n",
    "                i += 1\n",
    "            elif b_end < a_start:\n",
    "                j += 1\n",
    "            # overlap conditions\n",
    "            elif (a_start <= b_end <= a_end):\n",
    "                res.append([max(a_start, b_start), b_end])\n",
    "                j += 1\n",
    "            elif (b_start <= a_end <= b_end):\n",
    "                res.append([max(a_start, b_start), a_end])\n",
    "                i += 1\n",
    "        \n",
    "        return res\n",
    "\n",
    "sol = Solution()\n",
    "print(sol.solve( [\n",
    "    [1, 3],\n",
    "    [5, 6],\n",
    "    [7, 9]\n",
    "], [\n",
    "    [1, 4],\n",
    "    [5, 7]\n",
    "])) # [[1, 3], [5, 6], [7, 7]]\n",
    "print(sol.solve([\n",
    "    [1, 3],\n",
    "    [5, 6],\n",
    "    [7, 9]\n",
    "], [\n",
    "    [100, 200]\n",
    "]))\n",
    "print(sol.solve([\n",
    "    [1, 5]\n",
    "], [\n",
    "    [2, 4]\n",
    "]))"
   ]
  },
  {
   "cell_type": "code",
   "execution_count": null,
   "metadata": {},
   "outputs": [],
   "source": [
    "l0 = [\n",
    "    [1, 3],\n",
    "    [5, 6],\n",
    "    [7, 9]\n",
    "]\n",
    "l1 = [\n",
    "    [1, 4],\n",
    "    [5, 7]\n",
    "]"
   ]
  },
  {
   "attachments": {},
   "cell_type": "markdown",
   "metadata": {},
   "source": [
    "### Hard"
   ]
  },
  {
   "attachments": {},
   "cell_type": "markdown",
   "metadata": {},
   "source": [
    "#### Sliding Window Max"
   ]
  },
  {
   "cell_type": "code",
   "execution_count": null,
   "metadata": {},
   "outputs": [
    {
     "name": "stdout",
     "output_type": "stream",
     "text": [
      "[10, 7, 8, 8]\n",
      "[3, 4, 5, 5, 5, 4, 3]\n",
      "[3, 2, 2, 3]\n",
      "[3]\n"
     ]
    }
   ],
   "source": [
    "class Solution:\n",
    "    def solve1(self, nums, k): #O(n^2)\n",
    "        start = 0\n",
    "        end = k - 1\n",
    "        res = []\n",
    "        while end != len(nums):\n",
    "            max_val = max(nums[start:end + 1])\n",
    "            res.append(max_val)\n",
    "            end += 1\n",
    "            start += 1\n",
    "\n",
    "        return res\n",
    "\n",
    "    def solve2(self, nums, k): # timing out\n",
    "        max_val = max(nums[:k])\n",
    "        max_pos = nums[:k].index(max_val)\n",
    "\n",
    "        start = 0\n",
    "        end = k - 1\n",
    "        res = []\n",
    "        while end != len(nums):\n",
    "            if start <= max_pos <= end:\n",
    "                if max_val <= nums[end]:\n",
    "                    max_val = nums[end]\n",
    "                    max_pos = end\n",
    "            else:\n",
    "                max_val = max(nums[start:end + 1])\n",
    "                max_pos = nums[start:end + 1].index(max_val)\n",
    "            end += 1\n",
    "            start += 1\n",
    "            res.append(max_val)\n",
    "\n",
    "        return res\n",
    "\n",
    "    def solve(self, nums, k):\n",
    "        res = []\n",
    "        q = collections.deque()\n",
    "\n",
    "        start, end = 0, 0\n",
    "\n",
    "        while end != len(nums):\n",
    "            while q and nums[q[-1]] < nums[end]:\n",
    "                q.pop()\n",
    "            q.append(end)\n",
    "\n",
    "            if start > q[0]:\n",
    "                q.popleft()\n",
    "\n",
    "            if (end + 1) >= k:\n",
    "                res.append(nums[q[0]])\n",
    "                start += 1\n",
    "            end += 1\n",
    "        \n",
    "        return res\n",
    "sol = Solution()\n",
    "print(sol.solve([10, 5, 2, 7, 8, 7], 3)) #[10, 7, 8, 8]\n",
    "print(sol.solve([1, 2, 3, 4, 5, 4, 3, 2, 1], 3)) #[3, 4, 5, 5, 5, 4, 3\n",
    "print(sol.solve([3, 2, 1, 2, 3], 2)) #[3, 2, 2, 3]\n",
    "print(sol.solve([3, 2, 1, 2, 3], 5)) #[3]"
   ]
  },
  {
   "attachments": {},
   "cell_type": "markdown",
   "metadata": {},
   "source": [
    "#### Longest Sublist with K distinct numbers"
   ]
  },
  {
   "cell_type": "code",
   "execution_count": null,
   "metadata": {},
   "outputs": [
    {
     "name": "stdout",
     "output_type": "stream",
     "text": [
      "3\n",
      "5\n",
      "1\n",
      "6\n",
      "2\n"
     ]
    }
   ],
   "source": [
    "class Solution:\n",
    "    def solve(self, k, nums):\n",
    "        if not k:\n",
    "            return 0\n",
    "\n",
    "        start = 0\n",
    "        end = -1\n",
    "        max_len = 0\n",
    "        count_map = {}\n",
    "\n",
    "        while end != len(nums):\n",
    "            while len(count_map) > k:\n",
    "                count_map[nums[start]] -= 1\n",
    "                if count_map[nums[start]] == 0:\n",
    "                    count_map.pop(nums[start], None)\n",
    "                start +=1\n",
    "\n",
    "            while len(count_map) <= k:\n",
    "                max_len = max(max_len, end - start + 1)\n",
    "                end += 1\n",
    "                if end == len(nums):\n",
    "                    break \n",
    "                count_map[nums[end]] = count_map.get(nums[end], 0) + 1\n",
    "                \n",
    "        return max_len\n",
    "\n",
    "sol = Solution()\n",
    "print(sol.solve(2, [0, 1, 2, 1, 0]))\n",
    "print(sol.solve(1, [0, 0, 0, 0, 0]))\n",
    "print(sol.solve(1, [0, 1, 2, 3, 4]))\n",
    "print(sol.solve(1, [0, 0, 0, 1, 1, 1, 1, 2, 2, 2, 2, 2, 2]))\n",
    "print(sol.solve(2, [0, 0]))"
   ]
  },
  {
   "attachments": {},
   "cell_type": "markdown",
   "metadata": {},
   "source": [
    "### Extra"
   ]
  },
  {
   "attachments": {},
   "cell_type": "markdown",
   "metadata": {},
   "source": [
    "#### Number letter combinations"
   ]
  },
  {
   "cell_type": "code",
   "execution_count": null,
   "metadata": {},
   "outputs": [
    {
     "name": "stdout",
     "output_type": "stream",
     "text": [
      "['ad', 'bd', 'cd', 'ae', 'be', 'ce', 'af', 'bf', 'cf']\n"
     ]
    }
   ],
   "source": [
    "class Solution:\n",
    "    def solve(self, digits: str) -> List[str]: # O(4^n) depending on the length of the given digits\n",
    "        interpret_digit = { # max length 4\n",
    "            '1': '',\n",
    "            '2': 'abc',\n",
    "            '3': 'def',\n",
    "            '4': 'ghi',\n",
    "            '5': 'jkl',\n",
    "            '6': 'mno',\n",
    "            '7': 'pqrs',\n",
    "            '8': 'tuv',\n",
    "            '9': 'wxyz',\n",
    "            '0': ' '}\n",
    "        all_combinations = [''] if digits else []\n",
    "        for digit in digits: # max length 4\n",
    "            current_combinations = list()\n",
    "            for letter in interpret_digit[digit]:\n",
    "                for combination in all_combinations:\n",
    "                    current_combinations.append(combination + letter)\n",
    "            all_combinations = current_combinations\n",
    "        return all_combinations\n",
    "\n",
    "sol = Solution()\n",
    "print(sol.solve('23'))"
   ]
  },
  {
   "cell_type": "code",
   "execution_count": 28,
   "metadata": {},
   "outputs": [
    {
     "name": "stdout",
     "output_type": "stream",
     "text": [
      "[1, 0]\n",
      "[1, 0]\n",
      "[0, 0]\n"
     ]
    }
   ],
   "source": [
    "def countTeams(rating, queries):\n",
    "    sol = []\n",
    "    for l, r in queries:\n",
    "        if l != r:\n",
    "            unq = set(rating[l - 1:r])\n",
    "            sol.append((r - l + 1) - len(unq))\n",
    "        else:\n",
    "            sol.append(0)\n",
    "    \n",
    "    return sol\n",
    "\n",
    "print(countTeams([2,3,4,2], [[1,4], [3,4]])) #[1, 0]\n",
    "print(countTeams([1, 1], [[1,2], [1,1]])) #[1, 0]\n",
    "print(countTeams([1, 2], [[1,2], [1,1]])) #[0, 0]"
   ]
  },
  {
   "cell_type": "code",
   "execution_count": 31,
   "metadata": {},
   "outputs": [
    {
     "name": "stdout",
     "output_type": "stream",
     "text": [
      "[1, 0]\n",
      "[1, 0]\n",
      "[0, 0]\n"
     ]
    }
   ],
   "source": [
    "def countTeams(rating, queries):\n",
    "    results = []\n",
    "\n",
    "    for l, r in queries:\n",
    "        teams = 0\n",
    "        seen = {}\n",
    "        for i in range(l-1, r):\n",
    "            if rating[i] in seen and not seen[rating[i]]:\n",
    "                teams += 1\n",
    "                seen[rating[i]] = True\n",
    "            elif rating[i] not in seen:\n",
    "                seen[rating[i]] = False\n",
    "        results.append(teams)\n",
    "\n",
    "    return results\n",
    "\n",
    "print(countTeams([2,3,4,2], [[1,4], [3,4]])) #[1, 0]\n",
    "print(countTeams([1, 1], [[1,2], [1,1]])) #[1, 0]\n",
    "print(countTeams([1, 2], [[1,2], [1,1]])) #[0, 0]"
   ]
  },
  {
   "cell_type": "code",
   "execution_count": 20,
   "metadata": {},
   "outputs": [
    {
     "name": "stdout",
     "output_type": "stream",
     "text": [
      "['88', '99']\n",
      "['7']\n",
      "['1', '2']\n"
     ]
    }
   ],
   "source": [
    "import collections\n",
    "def processLogs(logs, threshold):\n",
    "    log_map = collections.defaultdict(int)\n",
    "\n",
    "    for log_str in logs:\n",
    "        send, recv, amt = log_str.split(' ')\n",
    "        log_map[send] += 1\n",
    "        if send != recv:\n",
    "            log_map[recv] += 1\n",
    "\n",
    "    sol = []\n",
    "\n",
    "    for k,v in log_map.items():\n",
    "        if v >= threshold:\n",
    "            sol.append(k)\n",
    "        \n",
    "    sol.sort(key = int)\n",
    "    return sol\n",
    "\n",
    "print(processLogs([\"88 99 200\", \"88 99 300\", \"99 32 100\", \"12 12 15\"], 2)) #['88', '99']\n",
    "print(processLogs([\"9 7 200\", \"22 7 300\", \"33 7 100\", \"22 7 15\"], 3)) #['7']\n",
    "print(processLogs([\"1 2 200\", \"1 7 300\", \"1 3 100\", \"2 2 15\"], 2)) #['1', '2']"
   ]
  },
  {
   "cell_type": "code",
   "execution_count": 27,
   "metadata": {},
   "outputs": [
    {
     "name": "stdout",
     "output_type": "stream",
     "text": [
      "6\n",
      "4\n",
      "4\n"
     ]
    }
   ],
   "source": [
    "def findLongestSubsequence(arr):\n",
    "    min_even, min_odd = float('inf'), float('inf')\n",
    "    max_even, max_odd = float('-inf'), float('-inf')\n",
    "\n",
    "    for n in arr:\n",
    "        if n % 2:\n",
    "            min_odd = min(min_odd, n)\n",
    "            max_odd = max(max_odd, n)\n",
    "        else:\n",
    "            min_even = min(min_even, n)\n",
    "            max_even = max(max_even, n)\n",
    "\n",
    "    \n",
    "    cnt_even, cnt_odd = 0, 0 \n",
    "    for n in arr:\n",
    "        if n >= min_even and n <= max_even:\n",
    "            cnt_even += 1\n",
    "        if n >= min_odd and n <= max_odd:\n",
    "            cnt_odd += 1\n",
    "        \n",
    "    return max(cnt_even, cnt_odd)\n",
    "\n",
    "    # return max((sum(x <= y <= X for y in arr)\n",
    "    #             for r in (0, 1)\n",
    "    #             for xs in [[x for x in arr if x % 2 == r]]\n",
    "    #             if xs\n",
    "    #             for x, X in [(min(xs), max(xs))]),\n",
    "    #            default=0)\n",
    "\n",
    "print(findLongestSubsequence([7,5,6,2,3,2,4])) #6\n",
    "print(findLongestSubsequence([2,4,1,7])) #4\n",
    "print(findLongestSubsequence([1,3,5,7])) #4"
   ]
  }
 ],
 "metadata": {
  "kernelspec": {
   "display_name": "Python 3.9.13 64-bit (windows store)",
   "language": "python",
   "name": "python3"
  },
  "language_info": {
   "codemirror_mode": {
    "name": "ipython",
    "version": 3
   },
   "file_extension": ".py",
   "mimetype": "text/x-python",
   "name": "python",
   "nbconvert_exporter": "python",
   "pygments_lexer": "ipython3",
   "version": "3.9.13"
  },
  "orig_nbformat": 4,
  "vscode": {
   "interpreter": {
    "hash": "edfc97013b55eeed778be48f26166ecbf6dc06f015fa0d1c61302f1d61a18982"
   }
  }
 },
 "nbformat": 4,
 "nbformat_minor": 2
}
