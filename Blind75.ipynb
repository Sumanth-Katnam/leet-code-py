{
 "cells": [
  {
   "cell_type": "markdown",
   "metadata": {},
   "source": [
    "## Imports"
   ]
  },
  {
   "cell_type": "code",
   "execution_count": 1,
   "metadata": {},
   "outputs": [],
   "source": [
    "from typing import List, OrderedDict, Counter, Optional, Tuple\n",
    "from collections import defaultdict\n",
    "import collections\n",
    "import operator"
   ]
  },
  {
   "cell_type": "markdown",
   "metadata": {},
   "source": [
    "## Arrays & Hashing"
   ]
  },
  {
   "cell_type": "markdown",
   "metadata": {},
   "source": [
    "### Easy"
   ]
  },
  {
   "cell_type": "markdown",
   "metadata": {},
   "source": [
    "#### 1.Two Sum"
   ]
  },
  {
   "cell_type": "code",
   "execution_count": 17,
   "metadata": {},
   "outputs": [
    {
     "name": "stdout",
     "output_type": "stream",
     "text": [
      "[0, 1]\n",
      "[1, 2]\n",
      "[0, 1]\n"
     ]
    }
   ],
   "source": [
    "class Solution:\n",
    "    # O(n), O(n)\n",
    "\n",
    "    # Maintain a map of previous number with index.\n",
    "    # iterate through the nums, \n",
    "        # if target - num already exists in map, return values from map\n",
    "        # else add this entry to map\n",
    "    def twoSum(self, nums: List[int], target: int) -> List[int]:\n",
    "        idx_map = defaultdict()\n",
    "\n",
    "        for idx, num in enumerate(nums):\n",
    "            if target - num in idx_map:\n",
    "                return [idx_map[target - num], idx]\n",
    "            \n",
    "            idx_map[num] = idx\n",
    "\n",
    "sol = Solution()\n",
    "print(sol.twoSum(nums = [2,7,11,15], target = 9)) #[0,1]\n",
    "print(sol.twoSum(nums = [3,2,4], target = 6)) #[1, 2]\n",
    "print(sol.twoSum(nums = [3,3], target = 6)) #[0,1]"
   ]
  },
  {
   "cell_type": "markdown",
   "metadata": {},
   "source": [
    "#### 217.Contains Duplicate"
   ]
  },
  {
   "cell_type": "code",
   "execution_count": 18,
   "metadata": {},
   "outputs": [
    {
     "name": "stdout",
     "output_type": "stream",
     "text": [
      "True\n",
      "False\n",
      "True\n"
     ]
    }
   ],
   "source": [
    "class Solution:\n",
    "    #O(n), O(n)\n",
    "\n",
    "    # Length of numbers should be equal to the length of the set in case of no duplicates\n",
    "    def containsDuplicate(self, nums: List[int]) -> bool:\n",
    "        return len(nums) != len(set(nums))\n",
    "\n",
    "sol = Solution()\n",
    "print(sol.containsDuplicate([1,2,3,1])) #True\n",
    "print(sol.containsDuplicate([1,2,3,4])) #False\n",
    "print(sol.containsDuplicate([1,1,1,3,3,4,3,2,4,2])) #True"
   ]
  },
  {
   "cell_type": "markdown",
   "metadata": {},
   "source": [
    "### Medium"
   ]
  },
  {
   "cell_type": "markdown",
   "metadata": {},
   "source": [
    "#### 238.Product of Array Except Self"
   ]
  },
  {
   "cell_type": "code",
   "execution_count": 19,
   "metadata": {},
   "outputs": [
    {
     "name": "stdout",
     "output_type": "stream",
     "text": [
      "[24, 12, 8, 6]\n",
      "[0, 0, 9, 0, 0]\n"
     ]
    }
   ],
   "source": [
    "class Solution:\n",
    "    # O(n), O(1)\n",
    "\n",
    "    # Create a prefix prod with every entry being product of all it's previous numbers\n",
    "    # then multiply them with postfix prod where post is the product of all numbers after current number (reverse iteration)\n",
    "    def productExceptSelf(self, nums: List[int]) -> List[int]:\n",
    "        res = [1] * len(nums)\n",
    "        pre = 1\n",
    "        for idx in range(len(nums)):\n",
    "            res[idx] = pre\n",
    "            pre *= nums[idx]\n",
    "\n",
    "        post = 1\n",
    "        for idx in range(len(nums) - 1, -1, -1):\n",
    "            res[idx] *= post\n",
    "            post *= nums[idx]\n",
    "        return res\n",
    "\n",
    "sol = Solution()\n",
    "print(sol.productExceptSelf([1,2,3,4])) #[24,12,8,6]\n",
    "print(sol.productExceptSelf([-1,1,0,-3,3])) #[0,0,9,0,0]"
   ]
  },
  {
   "cell_type": "markdown",
   "metadata": {},
   "source": [
    "#### 128. Longest Consecutive Sequence"
   ]
  },
  {
   "cell_type": "code",
   "execution_count": 109,
   "metadata": {},
   "outputs": [
    {
     "name": "stdout",
     "output_type": "stream",
     "text": [
      "4\n",
      "9\n"
     ]
    }
   ],
   "source": [
    "class Solution:\n",
    "    # O(n), O(n)\n",
    "\n",
    "    # create a set for easier search\n",
    "    # we check if the num might be start of sequence ( num - 1 should not exist)\n",
    "    # while we have num + 1 we increment the count.\n",
    "    def longestConsecutive(self, nums: List[int]) -> int:\n",
    "        res = 0\n",
    "\n",
    "        nums_set = set(nums)\n",
    "\n",
    "        for num in nums:\n",
    "            curr_max = 1\n",
    "            if num - 1 not in nums_set:\n",
    "                while num + 1 in nums_set:\n",
    "                    curr_max += 1\n",
    "                    num += 1\n",
    "\n",
    "            res = max(res, curr_max)\n",
    "\n",
    "        return res\n",
    "    \n",
    "    # O(n), O(n)\n",
    "\n",
    "    # if we get the pop element that is in the sequence, we pop all left and right of it\n",
    "    # then we get the difference.\n",
    "    def longestConsecutive_1(self, nums):\n",
    "        s = set(nums)\n",
    "        q = 0\n",
    "        while s:\n",
    "            n = s.pop()\n",
    "            l = n - 1\n",
    "            while l in s:\n",
    "                s.remove(l)\n",
    "                l-=1\n",
    "            h = n + 1\n",
    "            while h in s:\n",
    "                s.remove(h)\n",
    "                h+=1\n",
    "            q = max(q, h-l-1)\n",
    "        return q\n",
    "\n",
    "sol = Solution()\n",
    "print(sol.longestConsecutive([100,4,200,1,3,2])) #4\n",
    "print(sol.longestConsecutive_1([0,3,7,2,5,8,4,6,0,1])) #9"
   ]
  },
  {
   "cell_type": "markdown",
   "metadata": {},
   "source": [
    "## Two Pointers"
   ]
  },
  {
   "cell_type": "markdown",
   "metadata": {},
   "source": [
    "### Medium"
   ]
  },
  {
   "cell_type": "markdown",
   "metadata": {},
   "source": [
    "#### 15. 3Sum"
   ]
  },
  {
   "cell_type": "code",
   "execution_count": 30,
   "metadata": {},
   "outputs": [
    {
     "name": "stdout",
     "output_type": "stream",
     "text": [
      "[[-1, -1, 2], [-1, 0, 1]]\n",
      "[]\n",
      "[[0, 0, 0]]\n"
     ]
    }
   ],
   "source": [
    "class Solution:\n",
    "    # O(nlogn) + O(n), O(1)\n",
    "\n",
    "    # Sort the numbers\n",
    "    # select first number such that it is not a duplicate\n",
    "    # Two pointer sum through the array, to get the target value\n",
    "    # when target is found move the left pointer such that it doesn't again select the same value\n",
    "\n",
    "    def threeSum(self, nums: List[int]) -> List[List[int]]:\n",
    "        res = []\n",
    "        nums.sort()\n",
    "\n",
    "        for i, a in enumerate(nums):\n",
    "            if i > 0 and nums[i] == nums[i - 1]:\n",
    "                continue\n",
    "\n",
    "            l , r  = i + 1, len(nums) - 1\n",
    "            while l < r:\n",
    "                curr_sum = a + nums[l] + nums[r]\n",
    "                \n",
    "                if curr_sum > 0:\n",
    "                    r -= 1\n",
    "                elif curr_sum < 0:\n",
    "                    l += 1\n",
    "                else:\n",
    "                    res.append([a, nums[l], nums[r]])\n",
    "                    l += 1\n",
    "                    while l < r and nums[l] == nums[l - 1]:\n",
    "                        l += 1\n",
    "\n",
    "        return res\n",
    "\n",
    "sol = Solution()\n",
    "print(sol.threeSum([-1,0,1,2,-1,-4])) # [[-1,-1,2],[-1,0,1]]\n",
    "print(sol.threeSum([0,1,1])) # []\n",
    "print(sol.threeSum([0,0,0])) # [0,0,0]"
   ]
  },
  {
   "cell_type": "markdown",
   "metadata": {},
   "source": [
    "#### 11. Container With Most Water"
   ]
  },
  {
   "cell_type": "code",
   "execution_count": 33,
   "metadata": {},
   "outputs": [
    {
     "name": "stdout",
     "output_type": "stream",
     "text": [
      "49\n",
      "1\n"
     ]
    }
   ],
   "source": [
    "class Solution:\n",
    "    # O(n), O(1)\n",
    "\n",
    "    # At every point we take the minimum of height to calculate area\n",
    "    # we move the shorter height pointer\n",
    "    def maxArea(self, height: List[int]) -> int:\n",
    "        l, r = 0, len(height) - 1\n",
    "        res = 0\n",
    "\n",
    "        while l < r:\n",
    "            curr_area = min(height[l], height[r]) * (r - l)\n",
    "            res = max(res, curr_area)\n",
    "\n",
    "            if height[l] <= height[r]:\n",
    "                l += 1\n",
    "            else:\n",
    "                r -= 1\n",
    "\n",
    "        return res\n",
    "\n",
    "sol = Solution()\n",
    "print(sol.maxArea([1,8,6,2,5,4,8,3,7])) #49\n",
    "print(sol.maxArea([1,1])) #1"
   ]
  },
  {
   "cell_type": "markdown",
   "metadata": {},
   "source": [
    "## Sliding Window"
   ]
  },
  {
   "cell_type": "markdown",
   "metadata": {},
   "source": [
    "### Easy"
   ]
  },
  {
   "cell_type": "markdown",
   "metadata": {},
   "source": [
    "#### 121.Best Time to Buy and Sell Stock"
   ]
  },
  {
   "cell_type": "code",
   "execution_count": 4,
   "metadata": {},
   "outputs": [
    {
     "name": "stdout",
     "output_type": "stream",
     "text": [
      "5\n",
      "0\n"
     ]
    }
   ],
   "source": [
    "class Solution:\n",
    "    # O(n), O(1)\n",
    "\n",
    "    # As long as the high is greater than low, we calculate profit and increment high\n",
    "    # else we set low to high and increment high\n",
    "    def maxProfit(self, prices: List[int]) -> int:\n",
    "        low, high = 0, 1\n",
    "        res = 0\n",
    "        \n",
    "        while high < len(prices):\n",
    "            if(prices[high] < prices[low]):\n",
    "                low = high\n",
    "            else:\n",
    "                res = max(res, prices[high] - prices[low])\n",
    "            high += 1\n",
    "\n",
    "        return res\n",
    "\n",
    "sol = Solution()\n",
    "print(sol.maxProfit(prices = [7,1,5,3,6,4])) #5\n",
    "print(sol.maxProfit(prices = [7,6,4,3,1])) #0"
   ]
  },
  {
   "cell_type": "markdown",
   "metadata": {},
   "source": [
    "## Stack"
   ]
  },
  {
   "cell_type": "markdown",
   "metadata": {},
   "source": [
    "## Binary Search"
   ]
  },
  {
   "cell_type": "markdown",
   "metadata": {},
   "source": [
    "### Medium"
   ]
  },
  {
   "cell_type": "markdown",
   "metadata": {},
   "source": [
    "#### 153.Find Minimum in Rotated Sorted Array"
   ]
  },
  {
   "cell_type": "code",
   "execution_count": 24,
   "metadata": {},
   "outputs": [
    {
     "name": "stdout",
     "output_type": "stream",
     "text": [
      "1\n",
      "0\n",
      "11\n"
     ]
    }
   ],
   "source": [
    "class Solution:\n",
    "    # O(logn), O(1)\n",
    "\n",
    "    # If the selected portion is properly sorted (lNum <= rNum), return left value\n",
    "    # Else, get the mid\n",
    "        # If the mid is greater than left then there are much smaller numbers on right, move left\n",
    "        # else move right\n",
    "    def findMin(self, nums: List[int]) -> int:\n",
    "        l, r = 0, len(nums) - 1\n",
    "        \n",
    "        res = nums[l]\n",
    "        while l <= r:\n",
    "            if nums[l] <= nums[r]:\n",
    "                return min(nums[l], res)\n",
    "\n",
    "            mid = (l + r) // 2\n",
    "            res = min(res, nums[mid])\n",
    "\n",
    "            # we are in the left portion \n",
    "            # and there are smaller numbers in the right portion\n",
    "            if nums[mid] >= nums[l]:\n",
    "                l = mid + 1\n",
    "            else:\n",
    "                r = mid - 1\n",
    "\n",
    "        return res\n",
    "\n",
    "sol = Solution()\n",
    "print(sol.findMin([3,4,5,1,2])) #1\n",
    "print(sol.findMin([4,5,6,7,0,1,2])) #0\n",
    "print(sol.findMin([11,13,15,17])) #11"
   ]
  },
  {
   "cell_type": "markdown",
   "metadata": {},
   "source": [
    "#### 33. Search in Rotated Sorted Array"
   ]
  },
  {
   "cell_type": "code",
   "execution_count": 25,
   "metadata": {},
   "outputs": [
    {
     "name": "stdout",
     "output_type": "stream",
     "text": [
      "4\n",
      "-1\n",
      "-1\n"
     ]
    }
   ],
   "source": [
    "class Solution:\n",
    "    # O(logn), O(1)\n",
    "\n",
    "    # Get mid, \n",
    "        # if it is equal, return\n",
    "        # If mid val is greater than left val (we are in the left sorted)\n",
    "            # if the target doesn't lie in this portion, then move to the right portion\n",
    "            # else move to the left portion\n",
    "        # do the opposite\n",
    "\n",
    "    def search(self, nums: List[int], target: int) -> int:\n",
    "        l , r = 0, len(nums) - 1\n",
    "\n",
    "        while l <= r:\n",
    "            mid = (l + r) // 2\n",
    "\n",
    "            if nums[mid] == target:\n",
    "                return mid\n",
    "            \n",
    "            if nums[mid] >= nums[l]:\n",
    "                if nums[l] > target or nums[mid] < target:\n",
    "                    l = mid + 1\n",
    "                else:\n",
    "                    r = mid - 1\n",
    "            else:\n",
    "                if nums[r] < target or nums[mid] > target:\n",
    "                    r = mid - 1\n",
    "                else:\n",
    "                    l = mid + 1\n",
    "\n",
    "        return -1\n",
    "\n",
    "sol = Solution()\n",
    "print(sol.search(nums = [4,5,6,7,0,1,2], target = 0)) #4\n",
    "print(sol.search(nums = [4,5,6,7,0,1,2], target = 3)) #-1\n",
    "print(sol.search(nums = [1], target = 0)) #-1"
   ]
  },
  {
   "cell_type": "markdown",
   "metadata": {},
   "source": [
    "## Linked List"
   ]
  },
  {
   "cell_type": "markdown",
   "metadata": {},
   "source": [
    "### Easy"
   ]
  },
  {
   "cell_type": "markdown",
   "metadata": {},
   "source": [
    "#### 206. Reverse Linked List"
   ]
  },
  {
   "cell_type": "code",
   "execution_count": null,
   "metadata": {},
   "outputs": [],
   "source": [
    "class ListNode:\n",
    "    def __init__(self, val=0, next=None):\n",
    "        self.val = val\n",
    "        self.next = next\n",
    "\n",
    "class Solution:\n",
    "    # O(n), O(1)\n",
    "\n",
    "    # we take prev to be none and current to be head\n",
    "    # while current is not null, we keep the current next in a temp (as it is the next curr)\n",
    "    # we set current next to previous node, and move previous to current\n",
    "    # current is now moved to the earlier current.next\n",
    "    def reverseList(self, head: Optional[ListNode]) -> Optional[ListNode]:\n",
    "        prev = None\n",
    "        curr = head\n",
    "\n",
    "        while curr:\n",
    "            nxt = curr.next\n",
    "            curr.next = prev\n",
    "            prev = curr\n",
    "            curr = nxt\n",
    "\n",
    "        return prev\n",
    "    \n",
    "    # O(n), O(1)\n",
    "\n",
    "    # we take the current node and reverse the rest of the list\n",
    "    # we set node.next(reversed Node).next = node; since the new head's next should be current node\n",
    "    # current node next is set to none; to severe the link\n",
    "    def reverseList_1(self, head: Optional[ListNode]) -> Optional[ListNode]:\n",
    "        if not head:\n",
    "            return None\n",
    "        \n",
    "        newHead = head\n",
    "        if head.next:\n",
    "            newHead = self.reverseList_1(head.next)\n",
    "            newHead.next = head\n",
    "\n",
    "        head.next = None\n",
    "        return newHead"
   ]
  },
  {
   "cell_type": "markdown",
   "metadata": {},
   "source": [
    "#### 141. Linked List Cycle"
   ]
  },
  {
   "cell_type": "code",
   "execution_count": null,
   "metadata": {},
   "outputs": [],
   "source": [
    "class ListNode:\n",
    "    def __init__(self, x):\n",
    "        self.val = x\n",
    "        self.next = None\n",
    "\n",
    "class Solution:\n",
    "    # Floyd's Algo\n",
    "    # O(n), O(1)\n",
    "\n",
    "    # We have two pointers slow and fast\n",
    "    # fast one moves at two paces, slow one moves at one pace\n",
    "    # while the fast and fast's next position is valid\n",
    "        # if at any point fast and slow collide, there is a loop\n",
    "        # if the fast one runs out of list, then there is no loop\n",
    "    def hasCycle(self, head: Optional[ListNode]) -> bool:\n",
    "        if not head:\n",
    "            return False\n",
    "        \n",
    "        slow = head\n",
    "        fast = head.next\n",
    "\n",
    "        while fast and fast.next:\n",
    "            if slow == fast:\n",
    "                return True\n",
    "            \n",
    "            slow = slow.next\n",
    "            fast = fast.next.next\n",
    "\n",
    "        return False"
   ]
  },
  {
   "cell_type": "markdown",
   "metadata": {},
   "source": [
    "#### 21. Merge Two Sorted Lists"
   ]
  },
  {
   "cell_type": "code",
   "execution_count": null,
   "metadata": {},
   "outputs": [],
   "source": [
    "# Definition for singly-linked list.\n",
    "class ListNode:\n",
    "    def __init__(self, val=0, next=None):\n",
    "        self.val = val\n",
    "        self.next = next\n",
    "\n",
    "class Solution:\n",
    "    # O(n), O(1)\n",
    "    \n",
    "    # We create a dummy result node and add everything next to it\n",
    "    # we iterate through both lists\n",
    "        # the smaller node gets added to result and the list is moved\n",
    "        # we move the current node on every addition\n",
    "    # Once we come out of the loop, we then tag the remaining list to the result and return dummy.next\n",
    "    def mergeTwoLists(self, list1: Optional[ListNode], list2: Optional[ListNode]) -> Optional[ListNode]:\n",
    "        dummyHead = ListNode(-1)\n",
    "        currNode = dummyHead\n",
    "        \n",
    "        while list1 and list2:\n",
    "            if list1.val < list2.val:\n",
    "                currNode.next = list1\n",
    "                list1 = list1.next\n",
    "\n",
    "            else:\n",
    "                currNode.next = list2\n",
    "                list2 = list2.next\n",
    "\n",
    "            currNode = currNode.next\n",
    "            \n",
    "        if list1:\n",
    "            currNode.next = list1\n",
    "        elif list2:\n",
    "            currNode.next = list2\n",
    "\n",
    "        return dummyHead.next"
   ]
  },
  {
   "cell_type": "markdown",
   "metadata": {},
   "source": [
    "### Hard"
   ]
  },
  {
   "cell_type": "markdown",
   "metadata": {},
   "source": [
    "#### 23. Merge k Sorted Lists"
   ]
  },
  {
   "cell_type": "code",
   "execution_count": null,
   "metadata": {},
   "outputs": [],
   "source": [
    "# Definition for singly-linked list.\n",
    "class ListNode:\n",
    "    def __init__(self, val=0, next=None):\n",
    "        self.val = val\n",
    "        self.next = next\n",
    "        \n",
    "class Solution:\n",
    "    # O(n.m) O(n)\n",
    "    # n is lists and m is max size of a single list\n",
    "\n",
    "    # We run a loop while the lists is more than one\n",
    "        # re run a for loop taking two intervals and merging them\n",
    "        # we add the merged lists to a new list\n",
    "    # once internal merging is done, this is set as the lists for another run until condition fails\n",
    "    def mergeTwoLists(self, list1: Optional[ListNode], list2: Optional[ListNode]) -> Optional[ListNode]:\n",
    "        dummyHead = ListNode(-1)\n",
    "        currNode = dummyHead\n",
    "        \n",
    "        while list1 and list2:\n",
    "            if list1.val < list2.val:\n",
    "                currNode.next = list1\n",
    "                list1 = list1.next\n",
    "\n",
    "            else:\n",
    "                currNode.next = list2\n",
    "                list2 = list2.next\n",
    "\n",
    "            currNode = currNode.next\n",
    "            \n",
    "        if list1:\n",
    "            currNode.next = list1\n",
    "        elif list2:\n",
    "            currNode.next = list2\n",
    "\n",
    "        return dummyHead.next\n",
    "    \n",
    "    def mergeKLists(self, lists: List[Optional[ListNode]]) -> Optional[ListNode]:\n",
    "        if not lists: return None\n",
    "\n",
    "        while len(lists) > 1:\n",
    "            merged_lists = []\n",
    "\n",
    "            for i in range(0, len(lists), 2):\n",
    "                list1 = lists[i]\n",
    "                list2 = lists[i + 1] if (i + 1) < len(lists) else None\n",
    "\n",
    "                merged_lists.append(self.mergeTwoLists(list1, list2))\n",
    "\n",
    "            lists = merged_lists\n",
    "\n",
    "        return lists[0]"
   ]
  },
  {
   "cell_type": "markdown",
   "metadata": {},
   "source": [
    "## Trees"
   ]
  },
  {
   "cell_type": "markdown",
   "metadata": {},
   "source": [
    "## Heap/Priority Queue"
   ]
  },
  {
   "cell_type": "markdown",
   "metadata": {},
   "source": [
    "## Backtracking"
   ]
  },
  {
   "cell_type": "markdown",
   "metadata": {},
   "source": [
    "### Medium"
   ]
  },
  {
   "cell_type": "markdown",
   "metadata": {},
   "source": [
    "#### 39. Combination Sum"
   ]
  },
  {
   "cell_type": "code",
   "execution_count": 63,
   "metadata": {},
   "outputs": [
    {
     "name": "stdout",
     "output_type": "stream",
     "text": [
      "[[2, 2, 3], [7]]\n",
      "[[2, 2, 2, 2], [2, 3, 3], [3, 5]]\n",
      "[]\n"
     ]
    }
   ],
   "source": [
    "class Solution:\n",
    "    # O(2 ^ target), O(2 ^ target) + O(Target)\n",
    "    # since at each step we have 2 decisions and atmost tree length can be target; \n",
    "    # Memory is the recusion stack + length of subset which can be atmost target length\n",
    "\n",
    "    # We start at index zero\n",
    "    # at each step we can include the number ( add to subset, add the sum, continue on same index)\n",
    "    # or not include the number (remove from subset from previous step, same sum, next index)\n",
    "    # when the sum reaches target, we save subset copy else nothing\n",
    "    def combinationSum(self, candidates: List[int], target: int) -> List[List[int]]:\n",
    "        res = []\n",
    "        def backtrack(subSet, idx, currSum):\n",
    "            if currSum == target:\n",
    "                res.append(subSet[::])\n",
    "                return\n",
    "            \n",
    "            if currSum > target or idx >= len(candidates):\n",
    "                return \n",
    "            \n",
    "            # include the current number\n",
    "            subSet.append(candidates[idx])\n",
    "            backtrack(subSet, idx, currSum + candidates[idx])\n",
    "\n",
    "            # do not include the current and move to next\n",
    "            subSet.pop()\n",
    "            backtrack(subSet, idx + 1, currSum)\n",
    "            \n",
    "        \n",
    "        backtrack([], 0, 0)\n",
    "        return res\n",
    "\n",
    "sol = Solution()\n",
    "print(sol.combinationSum(candidates = [2,3,6,7], target = 7)) #[[2,2,3],[7]]\n",
    "print(sol.combinationSum(candidates = [2,3,5], target = 8)) #[[2,2,2,2],[2,3,3],[3,5]]\n",
    "print(sol.combinationSum(candidates = [2], target = 1)) #[]"
   ]
  },
  {
   "cell_type": "markdown",
   "metadata": {},
   "source": [
    "## Tries"
   ]
  },
  {
   "cell_type": "markdown",
   "metadata": {},
   "source": [
    "## Graphs"
   ]
  },
  {
   "cell_type": "markdown",
   "metadata": {},
   "source": [
    "### Medium"
   ]
  },
  {
   "cell_type": "markdown",
   "metadata": {},
   "source": [
    "#### 133. Clone Graph"
   ]
  },
  {
   "cell_type": "code",
   "execution_count": null,
   "metadata": {},
   "outputs": [],
   "source": [
    "from typing import Optional\n",
    "\n",
    "# Definition for a Node.\n",
    "class Node:\n",
    "    def __init__(self, val = 0, neighbors = None):\n",
    "        self.val = val\n",
    "        self.neighbors = neighbors if neighbors is not None else []\n",
    "\n",
    "class Solution:\n",
    "    # O(V + E), O(V)\n",
    "    # dfs time complexity O(vertices + edges), Space complexity here is O(Vertices) since we are only storing the vertices in a map\n",
    "\n",
    "    # Start at the given node\n",
    "    # create a clone of it and add to the map\n",
    "    # iterate through nodes neighbors and call dfs again to clone the neighbors and attach them to the cloned node.\n",
    "    # if the node is already cloned we return it from the map.\n",
    "    def cloneGraph(self, node: Optional['Node']) -> Optional['Node']:\n",
    "        clone_map = {None: None}\n",
    "\n",
    "\n",
    "        def dfs(node: Optional['Node']):\n",
    "            if node in clone_map:\n",
    "                return clone_map[node]\n",
    "            \n",
    "            clone_node = Node(node.val)\n",
    "            clone_map[node] = clone_node\n",
    "\n",
    "            for nei in node.neighbors:\n",
    "                clone_node.neighbors.append(dfs(nei))\n",
    "\n",
    "            return clone_node\n",
    "\n",
    "        return dfs(node)\n",
    "            \n",
    "            "
   ]
  },
  {
   "cell_type": "markdown",
   "metadata": {},
   "source": [
    "#### 207. Course Schedule"
   ]
  },
  {
   "cell_type": "code",
   "execution_count": 86,
   "metadata": {},
   "outputs": [
    {
     "name": "stdout",
     "output_type": "stream",
     "text": [
      "True\n",
      "False\n",
      "True\n"
     ]
    }
   ],
   "source": [
    "class Solution:\n",
    "    # O(V + E), O(V)\n",
    "\n",
    "    # For each crs we check if it's pre reqs can be done\n",
    "    # if it can be done, we return yes and add it to visited\n",
    "    # we perform dfs on every course to check if they can be done.\n",
    "    def canFinish(self, numCourses: int, prerequisites: List[List[int]]) -> bool:\n",
    "        crs_map = defaultdict(list)\n",
    "\n",
    "        for pre, crs in prerequisites:\n",
    "            crs_map[crs].append(pre)\n",
    "\n",
    "        visited = set()\n",
    "        \n",
    "        def dfs(crs, currPath):\n",
    "            if crs in currPath:\n",
    "                return False\n",
    "            \n",
    "            if crs in visited:\n",
    "                return True\n",
    "            \n",
    "            currPath.add(crs)\n",
    "            for nei in crs_map[crs]:\n",
    "                if not dfs(nei, currPath):\n",
    "                    return False\n",
    "            currPath.remove(crs)\n",
    "            \n",
    "            visited.add(crs)\n",
    "            return True\n",
    "\n",
    "        for crs in range(numCourses):\n",
    "            if not dfs(crs, set()):\n",
    "                return False\n",
    "        return True\n",
    "\n",
    "sol = Solution()\n",
    "print(sol.canFinish(numCourses = 2, prerequisites = [[1,0]])) # True\n",
    "print(sol.canFinish(numCourses = 2, prerequisites = [[1,0],[0,1]])) # false\n",
    "print(sol.canFinish(numCourses = 2, prerequisites = [])) # true"
   ]
  },
  {
   "cell_type": "markdown",
   "metadata": {},
   "source": [
    "#### 417. Pacific Atlantic Water Flow"
   ]
  },
  {
   "cell_type": "code",
   "execution_count": 87,
   "metadata": {},
   "outputs": [
    {
     "name": "stdout",
     "output_type": "stream",
     "text": [
      "[[0, 4], [1, 3], [1, 4], [2, 2], [3, 0], [3, 1], [4, 0]]\n",
      "[[0, 0]]\n"
     ]
    }
   ],
   "source": [
    "class Solution:\n",
    "    # O(m.n), O(m.n)\n",
    "\n",
    "    # We start at the borders, since they can be added to ocean.\n",
    "    # for the four neighbors of the current box, \n",
    "        # if they are in bounds and they have a height higher or equal to the current box, we add them to the corresponding ocean\n",
    "    # once we fill both sets, we check for commons and add it to the result.\n",
    "    def pacificAtlantic(self, heights: List[List[int]]) -> List[List[int]]:\n",
    "        ROWS, COLS = len(heights), len(heights[0])\n",
    "        pac, atl = set(), set()\n",
    "\n",
    "        def dfs(r, c, ocean, prevHeight):\n",
    "            if ((r, c) in ocean \n",
    "                or (not 0 <= r < ROWS) \n",
    "                or (not 0 <= c < COLS)\n",
    "                or heights[r][c] < prevHeight):\n",
    "                return\n",
    "            \n",
    "            ocean.add((r, c))\n",
    "\n",
    "            for dx, dy in [(0, 1), (0, -1), (1, 0), (-1, 0)]:\n",
    "                dfs(r + dx, c + dy, ocean, heights[r][c])\n",
    "        \n",
    "        for c in range(COLS):\n",
    "            dfs(0, c, pac, heights[0][c])\n",
    "            dfs(ROWS - 1, c, atl, heights[ROWS - 1][c])\n",
    "\n",
    "        \n",
    "        for r in range(ROWS):\n",
    "            dfs(r, 0, pac, heights[r][0])\n",
    "            dfs(r, COLS - 1, atl, heights[r][COLS - 1])\n",
    "\n",
    "        res = []\n",
    "        for r in range(ROWS):\n",
    "            for c in range(COLS):\n",
    "                if (r, c) in pac and (r, c) in atl:\n",
    "                    res.append([r, c])\n",
    "\n",
    "        return res\n",
    "\n",
    "sol = Solution()\n",
    "print(sol.pacificAtlantic([[1,2,2,3,5],[3,2,3,4,4],[2,4,5,3,1],[6,7,1,4,5],[5,1,1,2,4]])) #[[0,4],[1,3],[1,4],[2,2],[3,0],[3,1],[4,0]]\n",
    "print(sol.pacificAtlantic([[1]])) #[[0,0]]"
   ]
  },
  {
   "cell_type": "markdown",
   "metadata": {},
   "source": [
    "#### 200. Number of Islands"
   ]
  },
  {
   "cell_type": "code",
   "execution_count": 104,
   "metadata": {},
   "outputs": [
    {
     "name": "stdout",
     "output_type": "stream",
     "text": [
      "1\n",
      "3\n"
     ]
    }
   ],
   "source": [
    "from collections import deque\n",
    "class Solution:\n",
    "    # O(m.n), O(m.n) (for the deque)\n",
    "\n",
    "\n",
    "    # We iterate through whole matrix\n",
    "    # if the calue is 1, we call bfs\n",
    "        # Set the curr val to 0\n",
    "        # if the neighbors are within range and are 1\n",
    "            # Set them to 0 and add to bfs queue\n",
    "    def numIslands(self, grid: List[List[str]]) -> int:\n",
    "        if not grid: return 0\n",
    "\n",
    "        ROWS, COLS = len(grid), len(grid[0])\n",
    "        n_islands = 0\n",
    "\n",
    "        def bfs(r, c):\n",
    "            q = collections.deque()\n",
    "            grid[r][c] = \"0\"\n",
    "            q.append((r,c))\n",
    "\n",
    "            while q:\n",
    "                row, col = q.popleft() # change this to pop to make it DFS iterative\n",
    "                \n",
    "                for i, j in [[1,0], [0,1], [-1, 0], [0, -1]]:\n",
    "                    new_r, new_c = row + i, col + j\n",
    "                    if (new_r >=0 and new_c >= 0\n",
    "                        and new_r < ROWS and new_c < COLS \n",
    "                        and grid[new_r][new_c] == \"1\"):\n",
    "                        q.append((new_r, new_c))\n",
    "                        grid[new_r][new_c] = \"0\"\n",
    "\n",
    "\n",
    "\n",
    "        for i in range(ROWS):\n",
    "            for j in range(COLS):\n",
    "                if grid[i][j] == \"1\":\n",
    "                    bfs(i, j)\n",
    "                    n_islands += 1\n",
    "        \n",
    "        return n_islands\n",
    "\n",
    "\n",
    "sol = Solution()\n",
    "print(sol.numIslands([\n",
    "  [\"1\",\"1\",\"1\",\"1\",\"0\"],\n",
    "  [\"1\",\"1\",\"0\",\"1\",\"0\"],\n",
    "  [\"1\",\"1\",\"0\",\"0\",\"0\"],\n",
    "  [\"0\",\"0\",\"0\",\"0\",\"0\"]\n",
    "])) #1\n",
    "print(sol.numIslands([\n",
    "  [\"1\",\"1\",\"0\",\"0\",\"0\"],\n",
    "  [\"1\",\"1\",\"0\",\"0\",\"0\"],\n",
    "  [\"0\",\"0\",\"1\",\"0\",\"0\"],\n",
    "  [\"0\",\"0\",\"0\",\"1\",\"1\"]\n",
    "])) #3"
   ]
  },
  {
   "cell_type": "markdown",
   "metadata": {},
   "source": [
    "#### 261. Graph Valid Tree"
   ]
  },
  {
   "cell_type": "code",
   "execution_count": 125,
   "metadata": {},
   "outputs": [
    {
     "name": "stdout",
     "output_type": "stream",
     "text": [
      "True\n",
      "False\n",
      "False\n",
      "False\n"
     ]
    }
   ],
   "source": [
    "class Solution:\n",
    "    # Graph should be connected, No cycles\n",
    "    # O(V + E), O(V + E)\n",
    "\n",
    "    # Start from any node\n",
    "    # only do dfs on node that is not the previous (no going back on same edge)\n",
    "    # if we encounter node already in path, then return False\n",
    "    # Once the dfs returns true, the visited should have all the nodes, else the graph is disconnected\n",
    "    def validTree(self, n: int, edges: List[List[int]]) -> bool:\n",
    "        adj_list = {i:[] for i in range(n)}\n",
    "\n",
    "        for u, v in edges:\n",
    "            adj_list[u].append(v)\n",
    "            adj_list[v].append(u)\n",
    "        visited = set()\n",
    "        \n",
    "        def dfs(node, prev_val):\n",
    "            if node in visited:\n",
    "                return False\n",
    "            \n",
    "            visited.add(node)\n",
    "            for nei in adj_list[node]:\n",
    "                if nei != prev_val:\n",
    "                    if not dfs(nei, node):\n",
    "                        return False\n",
    "                    \n",
    "            return True\n",
    "        \n",
    "        return len(visited) == n if dfs(0, -1) else False\n",
    "\n",
    "sol = Solution()\n",
    "print(sol.validTree(n = 5, edges = [[0,1],[0,2],[0,3],[1,4]])) #True\n",
    "print(sol.validTree(n = 5, edges = [[0,1],[1,2],[2,3],[1,3],[1,4]])) #False\n",
    "print(sol.validTree(n = 4, edges = [[0,1],[2,3]])) #False\n",
    "print(sol.validTree(n = 3, edges = [[0,1],[0,2],[1,2]])) #False"
   ]
  },
  {
   "cell_type": "markdown",
   "metadata": {},
   "source": [
    "#### 323. Number of Connected Components in an Undirected Graph"
   ]
  },
  {
   "cell_type": "code",
   "execution_count": 4,
   "metadata": {},
   "outputs": [
    {
     "name": "stdout",
     "output_type": "stream",
     "text": [
      "2\n",
      "1\n"
     ]
    }
   ],
   "source": [
    "class Solution:\n",
    "    # O(v + e), O(v + e)\n",
    "\n",
    "    # We start at a node and do DFS\n",
    "    # if the DFS returns true, then it means a unique component is added to visited\n",
    "    # if it returns false, the node is already part of a component\n",
    "\n",
    "    # if the node is already visited return false, else dfs on the neighbor nodes that are not already in path\n",
    "    # once all neighbors are handled, add the node to visited and return True\n",
    "    def countComponents(self, n: int, edges: List[List[int]]) -> int:\n",
    "        adj_list = {i:[] for i in range(n)}\n",
    "\n",
    "        for u, v in edges:\n",
    "            adj_list[u].append(v)\n",
    "            adj_list[v].append(u)\n",
    "\n",
    "        visited = set()\n",
    "        def dfs(node, curr_path):\n",
    "            if node in visited:\n",
    "                return False\n",
    "            \n",
    "            curr_path.add(node)\n",
    "            for nei in adj_list[node]:\n",
    "                if nei not in curr_path: # To avoid going into loop\n",
    "                    dfs(nei, curr_path)\n",
    "            \n",
    "            visited.add(node)\n",
    "            return True\n",
    "\n",
    "        res = 0\n",
    "        for node in range(n):\n",
    "            if(dfs(node, set())):\n",
    "                res += 1\n",
    "\n",
    "        return res\n",
    "    \n",
    "    # Union Find\n",
    "\n",
    "    # Initially every node has same rank and all have parent as itself\n",
    "    # for u, v in an edge, we find it's parents\n",
    "        # If the parents are same, we have already merged\n",
    "        # if rank of one node is greater than other, then we assign smaller rank parent's parent to be larger rank parent\n",
    "        # else we do the opposite.\n",
    "        # when we do this merging, we increment the rank of it as well.\n",
    "    # every time, there is a merge, we decrement total components by 1 whose starting value is same as number of nodes\n",
    "    def countComponents_1(self, n: int, edges: List[List[int]]) -> int:\n",
    "        par = [i for i in range(n)]\n",
    "        rank = [1] * n\n",
    "\n",
    "        def find(n1):\n",
    "            res = n1\n",
    "            while res != par[res]:\n",
    "                res = par[res]\n",
    "\n",
    "            return res\n",
    "        \n",
    "        def union(n1, n2):\n",
    "            p1 = find(n1)\n",
    "            p2 = find(n2)\n",
    "\n",
    "            # Already in the same component\n",
    "            if p1 == p2:\n",
    "                return 0\n",
    "\n",
    "            if rank[p1] > rank[p2]:\n",
    "                par[p2] = p1\n",
    "                rank[p1] += 1\n",
    "            else:\n",
    "                par[p1] = p2\n",
    "                rank[p2] += 1\n",
    "\n",
    "            return 1\n",
    "        \n",
    "        res = n\n",
    "        for u, v in edges:\n",
    "            res -= union(u, v)\n",
    "\n",
    "        return res\n",
    "\n",
    "sol = Solution()\n",
    "print(sol.countComponents(n = 5, edges = [[0,1],[1,2],[3,4]])) #2\n",
    "print(sol.countComponents(n = 5, edges = [[0,1],[1,2],[2,3],[3,4]])) #1"
   ]
  },
  {
   "cell_type": "markdown",
   "metadata": {},
   "source": [
    "## Advanced Graphs"
   ]
  },
  {
   "cell_type": "markdown",
   "metadata": {},
   "source": [
    "### Hard"
   ]
  },
  {
   "cell_type": "markdown",
   "metadata": {},
   "source": [
    "#### 269. Alien Dictionary"
   ]
  },
  {
   "cell_type": "code",
   "execution_count": 114,
   "metadata": {},
   "outputs": [
    {
     "name": "stdout",
     "output_type": "stream",
     "text": [
      "wertf\n",
      "zx\n",
      "\n"
     ]
    }
   ],
   "source": [
    "class Solution:\n",
    "    # O(n), O(n)\n",
    "\n",
    "    # First we build the adjacency set\n",
    "        # if the words are of same length we get relation between differing characters\n",
    "        # If one word is prefix of another, the smaller word should be first\n",
    "\n",
    "    # DFS all the characters\n",
    "        # we add the character to the result only when all of it's dependencies are added.\n",
    "        # if we come across same character while traversing it means there is a loop.\n",
    "        # once all characters are added, reverse the result as the char with lowest dependency is added first and so on.\n",
    "    def alienOrder(self, words: List[str]) -> str:\n",
    "        adj_set = {c: set() for word in words for c in word}\n",
    "\n",
    "        # Building adjacency set\n",
    "        for i in range(len(words) - 1):\n",
    "            word1, word2 = words[i], words[i + 1]\n",
    "\n",
    "            minWordlen = min(len(word1), len(word2))\n",
    "\n",
    "            # If one word is prefix of another, the smaller word should be first\n",
    "            if len(word1) > len(word2) and word1[:minWordlen] == word2[:minWordlen]:\n",
    "                return \"\"\n",
    "            \n",
    "            for j in range(minWordlen):\n",
    "                if word1[j] != word2[j]:\n",
    "                    adj_set[word1[j]].add(word2[j])\n",
    "                    break\n",
    "\n",
    "        # True is currently being visited, False is already visited\n",
    "        visited = {}\n",
    "        res = []\n",
    "\n",
    "        def dfs(ch):\n",
    "            if ch in visited:\n",
    "                return visited[ch]\n",
    "            \n",
    "            visited[ch] = True\n",
    "            for nei in adj_set[ch]:\n",
    "                if(dfs(nei)):\n",
    "                    return True\n",
    "            \n",
    "            visited[ch] = False\n",
    "            res.append(ch)\n",
    "            return False\n",
    "        \n",
    "        for ch in adj_set.keys():\n",
    "            if dfs(ch): return \"\"\n",
    "\n",
    "        return \"\".join(res[::-1])\n",
    "\n",
    "\n",
    "\n",
    "sol = Solution()\n",
    "print(sol.alienOrder([\"wrt\",\"wrf\",\"er\",\"ett\",\"rftt\"])) #\"wertf\"\n",
    "print(sol.alienOrder([\"z\",\"x\"])) #\"zx\"\n",
    "print(sol.alienOrder([\"z\",\"x\",\"z\"])) #\"\""
   ]
  },
  {
   "cell_type": "markdown",
   "metadata": {},
   "source": [
    "## 1-D Dynamic Programming"
   ]
  },
  {
   "cell_type": "markdown",
   "metadata": {},
   "source": [
    "### Easy"
   ]
  },
  {
   "cell_type": "markdown",
   "metadata": {},
   "source": [
    "#### 338. Counting Bits"
   ]
  },
  {
   "cell_type": "code",
   "execution_count": 35,
   "metadata": {},
   "outputs": [
    {
     "name": "stdout",
     "output_type": "stream",
     "text": [
      "[0, 1, 1]\n",
      "[0, 1, 1, 2, 1, 2]\n"
     ]
    }
   ],
   "source": [
    "class Solution:\n",
    "    # O(n), O(n)\n",
    "\n",
    "    # There is a pattern where number of 1 bits are similar for every offset length\n",
    "    # eg: num = 5 (101) offset = 4 (since 2**2 < 5 < 2**3), \n",
    "        # so we consider 1 + dp[5 - 4] = 1 + dp[1] = 2\n",
    "    def countBits(self, n: int) -> List[int]:\n",
    "        dp = [0] * (n + 1)\n",
    "\n",
    "        offset = 1\n",
    "        for i in range(1, n + 1):\n",
    "            if offset * 2 == i:\n",
    "                offset = i\n",
    "\n",
    "            dp[i] = dp[i - offset] + 1\n",
    "\n",
    "        return dp\n",
    "\n",
    "sol = Solution()\n",
    "print(sol.countBits(2)) #[0, 1, 1]\n",
    "print(sol.countBits(5)) #[0,1,1,2,1,2]"
   ]
  },
  {
   "cell_type": "markdown",
   "metadata": {},
   "source": [
    "#### 70. Climbing Stairs"
   ]
  },
  {
   "cell_type": "code",
   "execution_count": 42,
   "metadata": {},
   "outputs": [
    {
     "name": "stdout",
     "output_type": "stream",
     "text": [
      "2\n",
      "3\n"
     ]
    }
   ],
   "source": [
    "class Solution:\n",
    "    # Bottom up DP\n",
    "    # O(n), O(1)\n",
    "\n",
    "    # a = last step (ways to land on it while on it = 1)\n",
    "    # b = prev to last step (ways to go to last block is taking only one step = 1)\n",
    "    # since we already took care of two steps, iterate for n - 1 since we start at step 0\n",
    "    # for every step, the ways to reach end is the sum of ways to reach next and to reach next next\n",
    "    def climbStairs(self, n: int) -> int:\n",
    "        a, b = 1, 1\n",
    "        for _ in range(n - 1):\n",
    "            temp = b\n",
    "            b = a + b\n",
    "            a = temp\n",
    "            \n",
    "        return b\n",
    "    \n",
    "sol = Solution()\n",
    "print(sol.climbStairs(2)) #2\n",
    "print(sol.climbStairs(3)) #3"
   ]
  },
  {
   "cell_type": "markdown",
   "metadata": {},
   "source": [
    "### Medium"
   ]
  },
  {
   "cell_type": "markdown",
   "metadata": {},
   "source": [
    "#### 152. Maximum Product Subarray"
   ]
  },
  {
   "cell_type": "code",
   "execution_count": 23,
   "metadata": {},
   "outputs": [
    {
     "name": "stdout",
     "output_type": "stream",
     "text": [
      "6\n",
      "0\n"
     ]
    }
   ],
   "source": [
    "class Solution:\n",
    "    # O(n), O(1)\n",
    "\n",
    "    # Keep track of max possible and min possible at every number\n",
    "    # when the number is 0, reset the values to 1\n",
    "    def maxProduct(self, nums: List[int]) -> int:\n",
    "        res = max(nums)\n",
    "        max_prod, min_prod = 1, 1\n",
    "\n",
    "        for num in nums:\n",
    "            if num == 0:\n",
    "                max_prod, min_prod = 1, 1\n",
    "                continue\n",
    "\n",
    "            temp = min_prod\n",
    "            min_prod = min(num, max_prod * num, temp * num)\n",
    "            max_prod = max(num, max_prod * num, temp * num)\n",
    "            res = max(res, max_prod)\n",
    "\n",
    "        return res\n",
    "\n",
    "\n",
    "\n",
    "sol = Solution()\n",
    "print(sol.maxProduct([2,3,-2,4])) #6\n",
    "print(sol.maxProduct([-2,0,-1])) #0"
   ]
  },
  {
   "cell_type": "markdown",
   "metadata": {},
   "source": [
    "#### 322. Coin Change"
   ]
  },
  {
   "cell_type": "code",
   "execution_count": 51,
   "metadata": {},
   "outputs": [
    {
     "name": "stdout",
     "output_type": "stream",
     "text": [
      "3\n",
      "-1\n",
      "0\n"
     ]
    }
   ],
   "source": [
    "class Solution:\n",
    "    # Bottom Up\n",
    "    # O(n), O(n)\n",
    "    \n",
    "    # There are 0 coins needed to make amount zero\n",
    "    # for every amount, we take min of all possibility of coins and add one to the number of ways to get to remaining amount\n",
    "    def coinChange(self, coins: List[int], amount: int) -> int:\n",
    "        dp = [amount + 1]* (amount + 1)\n",
    "        dp[0] = 0\n",
    "        for amt in range(1, amount + 1):\n",
    "            for coin in coins:\n",
    "                if amt - coin >= 0:\n",
    "                    dp[amt] = min(dp[amt], 1 + dp[amt - coin])\n",
    "\n",
    "        return -1 if dp[amount] == amount + 1 else dp[amount]\n",
    "\n",
    "sol = Solution()\n",
    "print(sol.coinChange(coins = [1,2,5], amount = 11)) #3\n",
    "print(sol.coinChange(coins = [2], amount = 3)) #-1\n",
    "print(sol.coinChange(coins = [1], amount = 0)) #0"
   ]
  },
  {
   "cell_type": "markdown",
   "metadata": {},
   "source": [
    "#### 300. Longest Increasing Subsequence"
   ]
  },
  {
   "cell_type": "code",
   "execution_count": 54,
   "metadata": {},
   "outputs": [
    {
     "name": "stdout",
     "output_type": "stream",
     "text": [
      "4\n",
      "4\n",
      "1\n"
     ]
    }
   ],
   "source": [
    "class Solution:\n",
    "    # O(n^2), O(n)\n",
    "\n",
    "    # Initially, longest subsequence at any number is only itself so 1\n",
    "    # Iterate from the end of the array, then see if any numbers that come after that can give a longer increasing subseq\n",
    "    def lengthOfLIS(self, nums: List[int]) -> int:\n",
    "        LIS = [1] * len(nums)\n",
    "\n",
    "        for i in range(len(nums) - 1, -1, -1):\n",
    "            for j in range(i + 1, len(nums)):\n",
    "                if nums[j] > nums[i]:\n",
    "                    LIS[i] = max(LIS[i], 1 + LIS[j])\n",
    "\n",
    "        return max(LIS)\n",
    "\n",
    "sol = Solution()\n",
    "print(sol.lengthOfLIS([10,9,2,5,3,7,101,18])) #4\n",
    "print(sol.lengthOfLIS([0,1,0,3,2,3])) #4\n",
    "print(sol.lengthOfLIS([7,7,7,7,7,7,7])) #1"
   ]
  },
  {
   "cell_type": "markdown",
   "metadata": {},
   "source": [
    "#### 139. Word Break"
   ]
  },
  {
   "cell_type": "code",
   "execution_count": 60,
   "metadata": {},
   "outputs": [
    {
     "name": "stdout",
     "output_type": "stream",
     "text": [
      "True\n",
      "True\n",
      "False\n"
     ]
    }
   ],
   "source": [
    "class Solution:\n",
    "    # Bottom up\n",
    "    # O(m.n), O(m)\n",
    "\n",
    "    # base case is end is True\n",
    "    # We start at last character\n",
    "    # if at any character we can create a word, we set dp to the dp of the position after we use that word\n",
    "    def wordBreak(self, s: str, wordDict: List[str]) -> bool:\n",
    "        dp = [False] * (len(s) + 1)\n",
    "        dp[len(s)] = True\n",
    "\n",
    "        for i in range(len(s) - 1, -1, -1):\n",
    "            for word in wordDict:\n",
    "                if i + len(word) <= len(s) and s[i : i + len(word)] == word:\n",
    "                    dp[i] = dp[i + len(word)]\n",
    "                if(dp[i]): break\n",
    "\n",
    "        return dp[0]\n",
    "\n",
    "\n",
    "\n",
    "sol = Solution()\n",
    "print(sol.wordBreak(s = \"leetcode\", wordDict = [\"leet\",\"code\"])) #true\n",
    "print(sol.wordBreak(s = \"applepenapple\", wordDict = [\"apple\",\"pen\"])) #true\n",
    "print(sol.wordBreak(s = \"catsandog\", wordDict = [\"cats\",\"dog\",\"sand\",\"and\",\"cat\"])) #false"
   ]
  },
  {
   "cell_type": "markdown",
   "metadata": {},
   "source": [
    "#### 198. House Robber"
   ]
  },
  {
   "cell_type": "code",
   "execution_count": null,
   "metadata": {},
   "outputs": [
    {
     "name": "stdout",
     "output_type": "stream",
     "text": [
      "4\n",
      "12\n"
     ]
    }
   ],
   "source": [
    "class Solution:\n",
    "    # O(n), O(1)\n",
    "\n",
    "    # At any given time, the maximum we can rob is current + prev_prev or prev\n",
    "    def rob(self, nums: List[int]) -> int:\n",
    "        prev_prev_rob, prev_rob = 0, 0\n",
    "\n",
    "        for num in nums:\n",
    "            curr_rob = max(prev_rob, num + prev_prev_rob)\n",
    "            prev_prev_rob = prev_rob\n",
    "            prev_rob = curr_rob\n",
    "\n",
    "        return prev_rob\n",
    "\n",
    "sol = Solution()\n",
    "print(sol.rob([1,2,3,1])) #4\n",
    "print(sol.rob([2,7,9,3,1])) #12"
   ]
  },
  {
   "cell_type": "markdown",
   "metadata": {},
   "source": [
    "#### 213. House Robber II"
   ]
  },
  {
   "cell_type": "code",
   "execution_count": null,
   "metadata": {},
   "outputs": [
    {
     "name": "stdout",
     "output_type": "stream",
     "text": [
      "3\n",
      "4\n",
      "3\n"
     ]
    }
   ],
   "source": [
    "class Solution:\n",
    "    # O(n), O(1)\n",
    "\n",
    "    # Consider the circle to be a straight line and use the linear house rob logic\n",
    "    # get max of (remove first house, remove last house, first house (for edge case))\n",
    "\n",
    "    def rob(self, nums: List[int]) -> int:\n",
    "        def helper(houses):\n",
    "            prev_prev_rob, prev_rob = 0, 0\n",
    "\n",
    "            for h in houses:\n",
    "                curr_rob = max(prev_rob, h + prev_prev_rob)\n",
    "                prev_prev_rob = prev_rob\n",
    "                prev_rob = curr_rob\n",
    "\n",
    "            return prev_rob\n",
    "\n",
    "        return max(nums[0], helper(nums[:-1]), helper(nums[1:]))\n",
    "\n",
    "sol = Solution()\n",
    "print(sol.rob([2,3,2])) #3\n",
    "print(sol.rob([1,2,3,1])) #4\n",
    "print(sol.rob([1,2,3])) #3"
   ]
  },
  {
   "cell_type": "markdown",
   "metadata": {},
   "source": [
    "#### 91. Decode Ways"
   ]
  },
  {
   "cell_type": "code",
   "execution_count": 69,
   "metadata": {},
   "outputs": [
    {
     "name": "stdout",
     "output_type": "stream",
     "text": [
      "2\n",
      "3\n",
      "0\n"
     ]
    }
   ],
   "source": [
    "class Solution:\n",
    "    # Top Down\n",
    "    # O(n), O(n)\n",
    "\n",
    "    # base case is that if you reach end of string it's one way of decoding\n",
    "    # at every character\n",
    "        # if char is 0, no ways of decoding\n",
    "        # if char is 1 - 9, decoding it is same as decoding the remaining\n",
    "        # if we can form a number between 10 and 26 with the next character, add to the current ways the decoding of remaining string\n",
    "    def numDecodings(self, s: str) -> int:\n",
    "        decode_map = {len(s): 1}\n",
    "\n",
    "        def decode(idx):\n",
    "            if idx in decode_map:\n",
    "                return decode_map[idx]\n",
    "            \n",
    "            if s[idx] == '0': return 0\n",
    "\n",
    "            res = decode(idx + 1)\n",
    "            if idx + 1 < len(s) and 10 <= int(s[idx: idx + 2]) <= 26:\n",
    "                res += decode(idx + 2)\n",
    "\n",
    "            decode_map[idx] = res\n",
    "            return res\n",
    "        \n",
    "        \n",
    "        return decode(0)\n",
    "\n",
    "\n",
    "sol = Solution()\n",
    "print(sol.numDecodings(\"12\")) #2\n",
    "print(sol.numDecodings(\"226\")) #3\n",
    "print(sol.numDecodings(\"06\")) #0"
   ]
  },
  {
   "cell_type": "markdown",
   "metadata": {},
   "source": [
    "## 2-D Dynamic Programming"
   ]
  },
  {
   "cell_type": "markdown",
   "metadata": {},
   "source": [
    "### Medium"
   ]
  },
  {
   "cell_type": "markdown",
   "metadata": {},
   "source": [
    "#### 1143. Longest Common Subsequence"
   ]
  },
  {
   "cell_type": "code",
   "execution_count": 55,
   "metadata": {},
   "outputs": [
    {
     "name": "stdout",
     "output_type": "stream",
     "text": [
      "3\n",
      "3\n",
      "0\n"
     ]
    }
   ],
   "source": [
    "class Solution:\n",
    "    # Bottom up\n",
    "    # O(mn), O(n)\n",
    "\n",
    "    # initially prev row is all zeros.\n",
    "    # we iterate from the ends of both the strings. \n",
    "    # when there is a character match, that is 1 + LCS of the remaining in both strings\n",
    "    # else it is max of (rest of text1 (including curr char) +  rest of text2 (excluding current char), other way)\n",
    "    def longestCommonSubsequence(self, text1: str, text2: str) -> int:\n",
    "        prev_row = [0] * (len(text2) + 1)\n",
    "\n",
    "        for i in range(len(text1) - 1, -1, -1):\n",
    "            curr_row = [0] * (len(text2) + 1)\n",
    "            for j in range(len(text2) - 1, -1, -1):\n",
    "                if text1[i] == text2[j]:\n",
    "                    curr_row[j] = 1 + prev_row[j + 1]\n",
    "                else:\n",
    "                    curr_row[j] = max(curr_row[j + 1], prev_row[j])\n",
    "            prev_row = curr_row \n",
    "\n",
    "        \n",
    "        return prev_row[0]\n",
    "\n",
    "sol = Solution()\n",
    "print(sol.longestCommonSubsequence(text1 = \"abcde\", text2 = \"ace\" )) #3\n",
    "print(sol.longestCommonSubsequence(text1 = \"abc\", text2 = \"abc\" )) #3\n",
    "print(sol.longestCommonSubsequence(text1 = \"abc\", text2 = \"def\" )) #0"
   ]
  },
  {
   "cell_type": "markdown",
   "metadata": {},
   "source": [
    "#### 62. Unique Paths"
   ]
  },
  {
   "cell_type": "code",
   "execution_count": 73,
   "metadata": {},
   "outputs": [
    {
     "name": "stdout",
     "output_type": "stream",
     "text": [
      "28\n",
      "3\n"
     ]
    }
   ],
   "source": [
    "class Solution:\n",
    "    # Bottom up\n",
    "    # O(m.n), O(n)\n",
    "\n",
    "    # There is only one way to reach the end from any cell in the last row\n",
    "    # for every other row, we can either chose down or go to right\n",
    "    def uniquePaths(self, m: int, n: int) -> int:\n",
    "        prev_row = [1] * n\n",
    "\n",
    "        for _ in range(m - 1):\n",
    "            curr_row = [0] * n\n",
    "\n",
    "            for i in range(n - 1, -1, -1):\n",
    "                curr_row[i] = prev_row[i]\n",
    "                if i + 1 < n:\n",
    "                    curr_row[i] += curr_row[i + 1]\n",
    "\n",
    "            prev_row = curr_row\n",
    "\n",
    "        return prev_row[0]\n",
    "\n",
    "sol = Solution()\n",
    "print(sol.uniquePaths(m = 3, n = 7)) #28\n",
    "print(sol.uniquePaths(m = 3, n = 2)) #3"
   ]
  },
  {
   "cell_type": "markdown",
   "metadata": {},
   "source": [
    "## Greedy"
   ]
  },
  {
   "cell_type": "markdown",
   "metadata": {},
   "source": [
    "### Medium"
   ]
  },
  {
   "cell_type": "markdown",
   "metadata": {},
   "source": [
    "#### 53.Maximum Subarray"
   ]
  },
  {
   "cell_type": "code",
   "execution_count": 20,
   "metadata": {},
   "outputs": [
    {
     "name": "stdout",
     "output_type": "stream",
     "text": [
      "6\n",
      "1\n",
      "23\n"
     ]
    }
   ],
   "source": [
    "class Solution:\n",
    "    # O(n), O(1)\n",
    "\n",
    "    # Keep track of current sum\n",
    "    # when it goes below zero, reset\n",
    "    def maxSubArray(self, nums: List[int]) -> int:\n",
    "        max_val = nums[0]\n",
    "        curr_sum = 0\n",
    "\n",
    "        for num in nums:\n",
    "            if curr_sum < 0:\n",
    "                curr_sum = 0\n",
    "\n",
    "            curr_sum += num\n",
    "            max_val = max(max_val, curr_sum)\n",
    "\n",
    "        return max_val\n",
    "\n",
    "\n",
    "sol = Solution()\n",
    "print(sol.maxSubArray([-2,1,-3,4,-1,2,1,-5,4])) #6\n",
    "print(sol.maxSubArray([1])) #1\n",
    "print(sol.maxSubArray([5,4,-1,7,8])) #23"
   ]
  },
  {
   "cell_type": "markdown",
   "metadata": {},
   "source": [
    "#### 55. Jump Game"
   ]
  },
  {
   "cell_type": "code",
   "execution_count": 79,
   "metadata": {},
   "outputs": [
    {
     "name": "stdout",
     "output_type": "stream",
     "text": [
      "True\n",
      "False\n"
     ]
    }
   ],
   "source": [
    "class Solution:\n",
    "    # O(n), O(1)\n",
    "\n",
    "    # Initially our target is at last index and we check if we can reach it from previous index\n",
    "    # if we can, then this is out new target\n",
    "    # else we decrement our start point.\n",
    "    # if we cannot find a start point that can reach the target, \n",
    "        # our while loop ends and our target is not at the index 0 which is False\n",
    "    def canJump(self, nums: List[int]) -> bool:\n",
    "        target = len(nums) - 1\n",
    "        start = target - 1\n",
    "        while  start >= 0:\n",
    "            if start + nums[start] >= target:\n",
    "                target = start\n",
    "                start = target - 1\n",
    "            else:\n",
    "                start -= 1\n",
    "\n",
    "        return target == 0\n",
    "\n",
    "\n",
    "sol = Solution()\n",
    "print(sol.canJump([2,3,1,1,4])) #True\n",
    "print(sol.canJump([3,2,1,0,4])) #False"
   ]
  },
  {
   "cell_type": "markdown",
   "metadata": {},
   "source": [
    "## Intervals"
   ]
  },
  {
   "cell_type": "markdown",
   "metadata": {},
   "source": [
    "### Medium"
   ]
  },
  {
   "cell_type": "markdown",
   "metadata": {},
   "source": [
    "#### 57. Insert Interval"
   ]
  },
  {
   "cell_type": "code",
   "execution_count": 7,
   "metadata": {},
   "outputs": [
    {
     "name": "stdout",
     "output_type": "stream",
     "text": [
      "[[1, 5], [6, 9]]\n",
      "[[1, 2], [3, 10], [12, 16]]\n"
     ]
    }
   ],
   "source": [
    "class Solution:\n",
    "    # O(nlogn), O(n)\n",
    "\n",
    "    # Sort the intervals based on start time and then end time\n",
    "    # if the end of new is before start of next, then add new, then add all and return\n",
    "    # if start of new is after end of next, then add next to res\n",
    "    # else, it means there is an overlap, update the start and end of the new interval to be merge interval\n",
    "    # if we come out of the loop, it means, the new interval is not added to the res\n",
    "        #  Add it to the result and return\n",
    "    def insert(self, intervals: List[List[int]], newInterval: List[int]) -> List[List[int]]:\n",
    "        res = []\n",
    "\n",
    "        intervals.sort()\n",
    "        for idx in range(len(intervals)):\n",
    "            if newInterval[1] < intervals[idx][0]: # If the new interval is before start of next\n",
    "                res.append(newInterval)\n",
    "                return res + intervals[idx:]\n",
    "            elif newInterval[0] > intervals[idx][1]: # if start value of new is greater than end\n",
    "                res.append(intervals[idx])\n",
    "            else:\n",
    "                newInterval[0] = min(newInterval[0], intervals[idx][0])\n",
    "                newInterval[1] = max(newInterval[1], intervals[idx][1])\n",
    "\n",
    "        res.append(newInterval)\n",
    "        return res        \n",
    "\n",
    "sol = Solution()\n",
    "print(sol.insert(intervals = [[1,3],[6,9]], newInterval = [2,5])) #[[1,5],[6,9]]\n",
    "print(sol.insert(intervals = [[1,2],[3,5],[6,7],[8,10],[12,16]], newInterval = [4,8])) #[[1,2],[3,10],[12,16]]"
   ]
  },
  {
   "cell_type": "markdown",
   "metadata": {},
   "source": [
    "#### 56. Merge Intervals"
   ]
  },
  {
   "cell_type": "code",
   "execution_count": 8,
   "metadata": {},
   "outputs": [
    {
     "name": "stdout",
     "output_type": "stream",
     "text": [
      "[[1, 6], [8, 10], [15, 18]]\n",
      "[[1, 5]]\n"
     ]
    }
   ],
   "source": [
    "class Solution:\n",
    "    # O(nlogn), O(1)\n",
    "\n",
    "    # We take current interval as first one\n",
    "    # if current interval merges with the next one, we recalculate the end\n",
    "    # else we add the current and set the next as current\n",
    "    # once we run through the loop, we add the remaining current\n",
    "    def merge(self, intervals: List[List[int]]) -> List[List[int]]:\n",
    "        res = []\n",
    "\n",
    "        intervals.sort()\n",
    "        curr_interval = intervals[0]\n",
    "        for idx in range(1, len(intervals)):\n",
    "            if curr_interval[1] < intervals[idx][0]:\n",
    "                res.append(curr_interval)\n",
    "                curr_interval = intervals[idx]\n",
    "            else:\n",
    "                curr_interval[1] = max(curr_interval[1], intervals[idx][1])\n",
    "\n",
    "        res.append(curr_interval)\n",
    "        return res\n",
    "\n",
    "sol = Solution()\n",
    "print(sol.merge([[1,3],[2,6],[8,10],[15,18]])) #[[1,6],[8,10],[15,18]]\n",
    "print(sol.merge([[1,4],[4,5]])) #[[1,5]]"
   ]
  },
  {
   "cell_type": "markdown",
   "metadata": {},
   "source": [
    "#### 435. Non-overlapping Intervals"
   ]
  },
  {
   "cell_type": "code",
   "execution_count": 10,
   "metadata": {},
   "outputs": [
    {
     "name": "stdout",
     "output_type": "stream",
     "text": [
      "1\n",
      "2\n",
      "0\n"
     ]
    }
   ],
   "source": [
    "class Solution:\n",
    "    # O(nlogn), O(1)\n",
    "\n",
    "    # Sort the intervals\n",
    "    # first we take prev_end as first interval's end\n",
    "    # if the start of next is greater or equal to prevEnd => no overlap; recalculate the new end\n",
    "    # else we always remove the longer end because the shorter one has less chance of conflicting with others\n",
    "    def eraseOverlapIntervals(self, intervals: List[List[int]]) -> int:\n",
    "        intervals.sort()\n",
    "\n",
    "        res = 0\n",
    "        prevEnd = intervals[0][1]\n",
    "\n",
    "        for start, end in intervals[1:]:\n",
    "            if start >= prevEnd:\n",
    "                prevEnd = end\n",
    "            else:\n",
    "                res += 1\n",
    "                prevEnd = min(prevEnd, end)\n",
    "\n",
    "        return res\n",
    "\n",
    "sol = Solution()\n",
    "print(sol.eraseOverlapIntervals([[1,2],[2,3],[3,4],[1,3]])) #1\n",
    "print(sol.eraseOverlapIntervals([[1,2],[1,2],[1,2]])) #2\n",
    "print(sol.eraseOverlapIntervals([[1,2],[2,3]])) #0"
   ]
  },
  {
   "cell_type": "markdown",
   "metadata": {},
   "source": [
    "#### 252. Meeting Rooms"
   ]
  },
  {
   "cell_type": "code",
   "execution_count": 12,
   "metadata": {},
   "outputs": [
    {
     "name": "stdout",
     "output_type": "stream",
     "text": [
      "False\n",
      "True\n"
     ]
    }
   ],
   "source": [
    "class Solution:\n",
    "    # O(nlogn), O(1)\n",
    "\n",
    "    # Sort the intervals\n",
    "    # if the previous overlaps with the next false\n",
    "    # else set prev to current\n",
    "    def canAttendMeetings(self, intervals: List[List[int]]) -> bool:\n",
    "        if not intervals: return True\n",
    "        intervals.sort()\n",
    "\n",
    "        curr = intervals[0]\n",
    "\n",
    "        for start, end in intervals[1:]:\n",
    "            if curr[1] > start:\n",
    "                return False\n",
    "            else:\n",
    "                curr = [start, end]\n",
    "            \n",
    "        return True\n",
    "\n",
    "sol = Solution()\n",
    "print(sol.canAttendMeetings([[0,30],[5,10],[15,20]])) #false\n",
    "print(sol.canAttendMeetings([[7,10],[2,4]])) #true"
   ]
  },
  {
   "cell_type": "markdown",
   "metadata": {},
   "source": [
    "#### 253. Meeting Rooms II"
   ]
  },
  {
   "cell_type": "code",
   "execution_count": 14,
   "metadata": {},
   "outputs": [
    {
     "name": "stdout",
     "output_type": "stream",
     "text": [
      "2\n",
      "1\n"
     ]
    }
   ],
   "source": [
    "class Solution:\n",
    "    # O(nlogn), O(1)\n",
    "\n",
    "    # we get sorted starts and sorted ends\n",
    "    # when start value is less than end value => next one start before current ends, we need new meeting\n",
    "    # else next one starts after current one ends => decrement the meeting room\n",
    "    def minMeetingRooms(self, intervals: List[List[int]]) -> int:\n",
    "        starts = sorted([i[0] for i in intervals])\n",
    "        ends = sorted([i[1] for i in intervals])\n",
    "\n",
    "        res, curr_cnt = 0, 0\n",
    "        start_p, end_p = 0, 0\n",
    "\n",
    "        while start_p < len(intervals):\n",
    "            if starts[start_p] < ends[end_p]:\n",
    "                start_p += 1\n",
    "                curr_cnt += 1\n",
    "            else:\n",
    "                end_p += 1\n",
    "                curr_cnt -= 1\n",
    "\n",
    "            res = max(res, curr_cnt)\n",
    "\n",
    "        return res\n",
    "\n",
    "sol = Solution()\n",
    "print(sol.minMeetingRooms([[0,30],[5,10],[15,20]])) #2\n",
    "print(sol.minMeetingRooms([[7,10],[2,4]])) #1"
   ]
  },
  {
   "cell_type": "markdown",
   "metadata": {},
   "source": [
    "## Math & Geometry"
   ]
  },
  {
   "cell_type": "markdown",
   "metadata": {},
   "source": [
    "## Bit Manipulation"
   ]
  },
  {
   "cell_type": "markdown",
   "metadata": {},
   "source": [
    "### Easy"
   ]
  },
  {
   "cell_type": "markdown",
   "metadata": {},
   "source": [
    "#### 191. Number of 1 Bits"
   ]
  },
  {
   "cell_type": "code",
   "execution_count": 34,
   "metadata": {},
   "outputs": [
    {
     "name": "stdout",
     "output_type": "stream",
     "text": [
      "3\n",
      "1\n",
      "30\n"
     ]
    }
   ],
   "source": [
    "class Solution:\n",
    "    # O(1), O(1)\n",
    "\n",
    "    # When we & a num with num - 1, we basically get rid of a 1 in the binary notation\n",
    "    # eg: 1001 & (1001 - 1) = 1001 & 1000 = 1000\n",
    "    def hammingWeight(self, n: int) -> int:\n",
    "        res = 0\n",
    "        while n:\n",
    "            res += 1\n",
    "            n = n & (n - 1)\n",
    "\n",
    "        return res\n",
    "\n",
    "sol = Solution()\n",
    "print(sol.hammingWeight(11)) #3\n",
    "print(sol.hammingWeight(128)) #1\n",
    "print(sol.hammingWeight(2147483645)) #30"
   ]
  },
  {
   "cell_type": "markdown",
   "metadata": {},
   "source": [
    "#### 268. Missing Number"
   ]
  },
  {
   "cell_type": "code",
   "execution_count": 39,
   "metadata": {},
   "outputs": [
    {
     "name": "stdout",
     "output_type": "stream",
     "text": [
      "2\n"
     ]
    }
   ],
   "source": [
    "class Solution:\n",
    "    # O(n), O(1)\n",
    "\n",
    "    # A number xor-ed with itself yields zero, so xor all values including, len(nums) + 1\n",
    "    # then xor all given values, so that missing number is remaining in the xor\n",
    "\n",
    "    def missingNumber(self, nums: List[int]) -> int:\n",
    "        xor_val = 0\n",
    "\n",
    "        for num in range(len(nums) + 1):\n",
    "            xor_val ^= num\n",
    "        \n",
    "        for num in nums:\n",
    "            xor_val ^= num\n",
    "\n",
    "        return xor_val\n",
    "\n",
    "sol = Solution()\n",
    "# print(sol.missingNumber([3,0,1])) #2\n",
    "print(sol.missingNumber([0,1])) #2\n",
    "# print(sol.missingNumber([9,6,4,2,3,5,7,0,1])) #8"
   ]
  },
  {
   "cell_type": "markdown",
   "metadata": {},
   "source": [
    "#### 190. Reverse Bits"
   ]
  },
  {
   "cell_type": "code",
   "execution_count": 40,
   "metadata": {},
   "outputs": [
    {
     "name": "stdout",
     "output_type": "stream",
     "text": [
      "964176192\n",
      "3221225471\n"
     ]
    }
   ],
   "source": [
    "class Solution:\n",
    "    # O(n), O(1)\n",
    "\n",
    "    # eg: take the number 4 (100), the result should be (001 and rest all zeros to make 32 length)\n",
    "    # take the bit and or it with the 31 - i th bit (rest all are zeros, so no side effects)\n",
    "    def reverseBits(self, n: int) -> int:\n",
    "        res = 0\n",
    "\n",
    "        for i in range(32):\n",
    "            bit = (n >> i) & 1\n",
    "            res = res | (bit << (31 - i))\n",
    "\n",
    "        return res\n",
    "\n",
    "sol = Solution()\n",
    "print(sol.reverseBits(43261596)) #964176192\n",
    "print(sol.reverseBits(4294967293)) #3221225471"
   ]
  }
 ],
 "metadata": {
  "kernelspec": {
   "display_name": "Python 3",
   "language": "python",
   "name": "python3"
  },
  "language_info": {
   "codemirror_mode": {
    "name": "ipython",
    "version": 3
   },
   "file_extension": ".py",
   "mimetype": "text/x-python",
   "name": "python",
   "nbconvert_exporter": "python",
   "pygments_lexer": "ipython3",
   "version": "3.9.13"
  }
 },
 "nbformat": 4,
 "nbformat_minor": 2
}
