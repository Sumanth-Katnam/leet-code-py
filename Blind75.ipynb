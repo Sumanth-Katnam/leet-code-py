{
 "cells": [
  {
   "cell_type": "markdown",
   "metadata": {},
   "source": [
    "## Imports"
   ]
  },
  {
   "cell_type": "code",
   "execution_count": 1,
   "metadata": {},
   "outputs": [],
   "source": [
    "from typing import List, OrderedDict, Counter, Optional, Tuple\n",
    "from collections import defaultdict\n",
    "import collections\n",
    "import operator"
   ]
  },
  {
   "cell_type": "markdown",
   "metadata": {},
   "source": [
    "## Arrays & Hashing"
   ]
  },
  {
   "cell_type": "markdown",
   "metadata": {},
   "source": [
    "### Easy"
   ]
  },
  {
   "cell_type": "markdown",
   "metadata": {},
   "source": [
    "#### 1.Two Sum"
   ]
  },
  {
   "cell_type": "code",
   "execution_count": 17,
   "metadata": {},
   "outputs": [
    {
     "name": "stdout",
     "output_type": "stream",
     "text": [
      "[0, 1]\n",
      "[1, 2]\n",
      "[0, 1]\n"
     ]
    }
   ],
   "source": [
    "class Solution:\n",
    "    # O(n), O(n)\n",
    "\n",
    "    # Maintain a map of previous number with index.\n",
    "    # iterate through the nums, \n",
    "        # if target - num already exists in map, return values from map\n",
    "        # else add this entry to map\n",
    "    def twoSum(self, nums: List[int], target: int) -> List[int]:\n",
    "        idx_map = defaultdict()\n",
    "\n",
    "        for idx, num in enumerate(nums):\n",
    "            if target - num in idx_map:\n",
    "                return [idx_map[target - num], idx]\n",
    "            \n",
    "            idx_map[num] = idx\n",
    "\n",
    "sol = Solution()\n",
    "print(sol.twoSum(nums = [2,7,11,15], target = 9)) #[0,1]\n",
    "print(sol.twoSum(nums = [3,2,4], target = 6)) #[1, 2]\n",
    "print(sol.twoSum(nums = [3,3], target = 6)) #[0,1]"
   ]
  },
  {
   "cell_type": "markdown",
   "metadata": {},
   "source": [
    "#### 217.Contains Duplicate"
   ]
  },
  {
   "cell_type": "code",
   "execution_count": 18,
   "metadata": {},
   "outputs": [
    {
     "name": "stdout",
     "output_type": "stream",
     "text": [
      "True\n",
      "False\n",
      "True\n"
     ]
    }
   ],
   "source": [
    "class Solution:\n",
    "    #O(n), O(n)\n",
    "\n",
    "    # Length of numbers should be equal to the length of the set in case of no duplicates\n",
    "    def containsDuplicate(self, nums: List[int]) -> bool:\n",
    "        return len(nums) != len(set(nums))\n",
    "\n",
    "sol = Solution()\n",
    "print(sol.containsDuplicate([1,2,3,1])) #True\n",
    "print(sol.containsDuplicate([1,2,3,4])) #False\n",
    "print(sol.containsDuplicate([1,1,1,3,3,4,3,2,4,2])) #True"
   ]
  },
  {
   "cell_type": "markdown",
   "metadata": {},
   "source": [
    "### Medium"
   ]
  },
  {
   "cell_type": "markdown",
   "metadata": {},
   "source": [
    "#### 238.Product of Array Except Self"
   ]
  },
  {
   "cell_type": "code",
   "execution_count": 19,
   "metadata": {},
   "outputs": [
    {
     "name": "stdout",
     "output_type": "stream",
     "text": [
      "[24, 12, 8, 6]\n",
      "[0, 0, 9, 0, 0]\n"
     ]
    }
   ],
   "source": [
    "class Solution:\n",
    "    # O(n), O(1)\n",
    "\n",
    "    # Create a prefix prod with every entry being product of all it's previous numbers\n",
    "    # then multiply them with postfix prod where post is the product of all numbers after current number (reverse iteration)\n",
    "    def productExceptSelf(self, nums: List[int]) -> List[int]:\n",
    "        res = [1] * len(nums)\n",
    "        pre = 1\n",
    "        for idx in range(len(nums)):\n",
    "            res[idx] = pre\n",
    "            pre *= nums[idx]\n",
    "\n",
    "        post = 1\n",
    "        for idx in range(len(nums) - 1, -1, -1):\n",
    "            res[idx] *= post\n",
    "            post *= nums[idx]\n",
    "        return res\n",
    "\n",
    "sol = Solution()\n",
    "print(sol.productExceptSelf([1,2,3,4])) #[24,12,8,6]\n",
    "print(sol.productExceptSelf([-1,1,0,-3,3])) #[0,0,9,0,0]"
   ]
  },
  {
   "cell_type": "markdown",
   "metadata": {},
   "source": [
    "## Two Pointers"
   ]
  },
  {
   "cell_type": "markdown",
   "metadata": {},
   "source": [
    "### Medium"
   ]
  },
  {
   "cell_type": "markdown",
   "metadata": {},
   "source": [
    "#### 15. 3Sum"
   ]
  },
  {
   "cell_type": "code",
   "execution_count": 30,
   "metadata": {},
   "outputs": [
    {
     "name": "stdout",
     "output_type": "stream",
     "text": [
      "[[-1, -1, 2], [-1, 0, 1]]\n",
      "[]\n",
      "[[0, 0, 0]]\n"
     ]
    }
   ],
   "source": [
    "class Solution:\n",
    "    # O(nlogn) + O(n), O(1)\n",
    "\n",
    "    # Sort the numbers\n",
    "    # select first number such that it is not a duplicate\n",
    "    # Two pointer sum through the array, to get the target value\n",
    "    # when target is found move the left pointer such that it doesn't again select the same value\n",
    "\n",
    "    def threeSum(self, nums: List[int]) -> List[List[int]]:\n",
    "        res = []\n",
    "        nums.sort()\n",
    "\n",
    "        for i, a in enumerate(nums):\n",
    "            if i > 0 and nums[i] == nums[i - 1]:\n",
    "                continue\n",
    "\n",
    "            l , r  = i + 1, len(nums) - 1\n",
    "            while l < r:\n",
    "                curr_sum = a + nums[l] + nums[r]\n",
    "                \n",
    "                if curr_sum > 0:\n",
    "                    r -= 1\n",
    "                elif curr_sum < 0:\n",
    "                    l += 1\n",
    "                else:\n",
    "                    res.append([a, nums[l], nums[r]])\n",
    "                    l += 1\n",
    "                    while l < r and nums[l] == nums[l - 1]:\n",
    "                        l += 1\n",
    "\n",
    "        return res\n",
    "\n",
    "sol = Solution()\n",
    "print(sol.threeSum([-1,0,1,2,-1,-4])) # [[-1,-1,2],[-1,0,1]]\n",
    "print(sol.threeSum([0,1,1])) # []\n",
    "print(sol.threeSum([0,0,0])) # [0,0,0]"
   ]
  },
  {
   "cell_type": "markdown",
   "metadata": {},
   "source": [
    "#### 11. Container With Most Water"
   ]
  },
  {
   "cell_type": "code",
   "execution_count": 33,
   "metadata": {},
   "outputs": [
    {
     "name": "stdout",
     "output_type": "stream",
     "text": [
      "49\n",
      "1\n"
     ]
    }
   ],
   "source": [
    "class Solution:\n",
    "    # O(n), O(1)\n",
    "\n",
    "    # At every point we take the minimum of height to calculate area\n",
    "    # we move the shorter height pointer\n",
    "    def maxArea(self, height: List[int]) -> int:\n",
    "        l, r = 0, len(height) - 1\n",
    "        res = 0\n",
    "\n",
    "        while l < r:\n",
    "            curr_area = min(height[l], height[r]) * (r - l)\n",
    "            res = max(res, curr_area)\n",
    "\n",
    "            if height[l] <= height[r]:\n",
    "                l += 1\n",
    "            else:\n",
    "                r -= 1\n",
    "\n",
    "        return res\n",
    "\n",
    "sol = Solution()\n",
    "print(sol.maxArea([1,8,6,2,5,4,8,3,7])) #49\n",
    "print(sol.maxArea([1,1])) #1"
   ]
  },
  {
   "cell_type": "markdown",
   "metadata": {},
   "source": [
    "## Sliding Window"
   ]
  },
  {
   "cell_type": "markdown",
   "metadata": {},
   "source": [
    "### Easy"
   ]
  },
  {
   "cell_type": "markdown",
   "metadata": {},
   "source": [
    "#### 121.Best Time to Buy and Sell Stock"
   ]
  },
  {
   "cell_type": "code",
   "execution_count": 4,
   "metadata": {},
   "outputs": [
    {
     "name": "stdout",
     "output_type": "stream",
     "text": [
      "5\n",
      "0\n"
     ]
    }
   ],
   "source": [
    "class Solution:\n",
    "    # O(n), O(1)\n",
    "\n",
    "    # As long as the high is greater than low, we calculate profit and increment high\n",
    "    # else we set low to high and increment high\n",
    "    def maxProfit(self, prices: List[int]) -> int:\n",
    "        low, high = 0, 1\n",
    "        res = 0\n",
    "        \n",
    "        while high < len(prices):\n",
    "            if(prices[high] < prices[low]):\n",
    "                low = high\n",
    "            else:\n",
    "                res = max(res, prices[high] - prices[low])\n",
    "            high += 1\n",
    "\n",
    "        return res\n",
    "\n",
    "sol = Solution()\n",
    "print(sol.maxProfit(prices = [7,1,5,3,6,4])) #5\n",
    "print(sol.maxProfit(prices = [7,6,4,3,1])) #0"
   ]
  },
  {
   "cell_type": "markdown",
   "metadata": {},
   "source": [
    "## Stack"
   ]
  },
  {
   "cell_type": "markdown",
   "metadata": {},
   "source": [
    "## Binary Search"
   ]
  },
  {
   "cell_type": "markdown",
   "metadata": {},
   "source": [
    "### Medium"
   ]
  },
  {
   "cell_type": "markdown",
   "metadata": {},
   "source": [
    "#### 153.Find Minimum in Rotated Sorted Array"
   ]
  },
  {
   "cell_type": "code",
   "execution_count": 24,
   "metadata": {},
   "outputs": [
    {
     "name": "stdout",
     "output_type": "stream",
     "text": [
      "1\n",
      "0\n",
      "11\n"
     ]
    }
   ],
   "source": [
    "class Solution:\n",
    "    # O(logn), O(1)\n",
    "\n",
    "    # If the selected portion is properly sorted (lNum <= rNum), return left value\n",
    "    # Else, get the mid\n",
    "        # If the mid is greater than left then there are much smaller numbers on right, move left\n",
    "        # else move right\n",
    "    def findMin(self, nums: List[int]) -> int:\n",
    "        l, r = 0, len(nums) - 1\n",
    "        \n",
    "        res = nums[l]\n",
    "        while l <= r:\n",
    "            if nums[l] <= nums[r]:\n",
    "                return min(nums[l], res)\n",
    "\n",
    "            mid = (l + r) // 2\n",
    "            res = min(res, nums[mid])\n",
    "\n",
    "            # we are in the left portion \n",
    "            # and there are smaller numbers in the right portion\n",
    "            if nums[mid] >= nums[l]:\n",
    "                l = mid + 1\n",
    "            else:\n",
    "                r = mid - 1\n",
    "\n",
    "        return res\n",
    "\n",
    "sol = Solution()\n",
    "print(sol.findMin([3,4,5,1,2])) #1\n",
    "print(sol.findMin([4,5,6,7,0,1,2])) #0\n",
    "print(sol.findMin([11,13,15,17])) #11"
   ]
  },
  {
   "cell_type": "markdown",
   "metadata": {},
   "source": [
    "#### 33. Search in Rotated Sorted Array"
   ]
  },
  {
   "cell_type": "code",
   "execution_count": 25,
   "metadata": {},
   "outputs": [
    {
     "name": "stdout",
     "output_type": "stream",
     "text": [
      "4\n",
      "-1\n",
      "-1\n"
     ]
    }
   ],
   "source": [
    "class Solution:\n",
    "    # O(logn), O(1)\n",
    "\n",
    "    # Get mid, \n",
    "        # if it is equal, return\n",
    "        # If mid val is greater than left val (we are in the left sorted)\n",
    "            # if the target doesn't lie in this portion, then move to the right portion\n",
    "            # else move to the left portion\n",
    "        # do the opposite\n",
    "\n",
    "    def search(self, nums: List[int], target: int) -> int:\n",
    "        l , r = 0, len(nums) - 1\n",
    "\n",
    "        while l <= r:\n",
    "            mid = (l + r) // 2\n",
    "\n",
    "            if nums[mid] == target:\n",
    "                return mid\n",
    "            \n",
    "            if nums[mid] >= nums[l]:\n",
    "                if nums[l] > target or nums[mid] < target:\n",
    "                    l = mid + 1\n",
    "                else:\n",
    "                    r = mid - 1\n",
    "            else:\n",
    "                if nums[r] < target or nums[mid] > target:\n",
    "                    r = mid - 1\n",
    "                else:\n",
    "                    l = mid + 1\n",
    "\n",
    "        return -1\n",
    "\n",
    "sol = Solution()\n",
    "print(sol.search(nums = [4,5,6,7,0,1,2], target = 0)) #4\n",
    "print(sol.search(nums = [4,5,6,7,0,1,2], target = 3)) #-1\n",
    "print(sol.search(nums = [1], target = 0)) #-1"
   ]
  },
  {
   "cell_type": "markdown",
   "metadata": {},
   "source": [
    "## Linked List"
   ]
  },
  {
   "cell_type": "markdown",
   "metadata": {},
   "source": [
    "## Trees"
   ]
  },
  {
   "cell_type": "markdown",
   "metadata": {},
   "source": [
    "## Heap/Priority Queue"
   ]
  },
  {
   "cell_type": "markdown",
   "metadata": {},
   "source": [
    "## Backtracking"
   ]
  },
  {
   "cell_type": "markdown",
   "metadata": {},
   "source": [
    "## Tries"
   ]
  },
  {
   "cell_type": "markdown",
   "metadata": {},
   "source": [
    "## Graphs"
   ]
  },
  {
   "cell_type": "markdown",
   "metadata": {},
   "source": [
    "## Advanced Graphs"
   ]
  },
  {
   "cell_type": "markdown",
   "metadata": {},
   "source": [
    "## 1-D Dynamic Programming"
   ]
  },
  {
   "cell_type": "markdown",
   "metadata": {},
   "source": [
    "### Easy"
   ]
  },
  {
   "cell_type": "markdown",
   "metadata": {},
   "source": [
    "#### 338. Counting Bits"
   ]
  },
  {
   "cell_type": "code",
   "execution_count": 35,
   "metadata": {},
   "outputs": [
    {
     "name": "stdout",
     "output_type": "stream",
     "text": [
      "[0, 1, 1]\n",
      "[0, 1, 1, 2, 1, 2]\n"
     ]
    }
   ],
   "source": [
    "class Solution:\n",
    "    # O(n), O(n)\n",
    "\n",
    "    # There is a pattern where number of 1 bits are similar for every offset length\n",
    "    # eg: num = 5 (101) offset = 4 (since 2**2 < 5 < 2**3), \n",
    "        # so we consider 1 + dp[5 - 4] = 1 + dp[1] = 2\n",
    "    def countBits(self, n: int) -> List[int]:\n",
    "        dp = [0] * (n + 1)\n",
    "\n",
    "        offset = 1\n",
    "        for i in range(1, n + 1):\n",
    "            if offset * 2 == i:\n",
    "                offset = i\n",
    "\n",
    "            dp[i] = dp[i - offset] + 1\n",
    "\n",
    "        return dp\n",
    "\n",
    "sol = Solution()\n",
    "print(sol.countBits(2)) #[0, 1, 1]\n",
    "print(sol.countBits(5)) #[0,1,1,2,1,2]"
   ]
  },
  {
   "cell_type": "markdown",
   "metadata": {},
   "source": [
    "### Medium"
   ]
  },
  {
   "cell_type": "markdown",
   "metadata": {},
   "source": [
    "#### 152. Maximum Product Subarray"
   ]
  },
  {
   "cell_type": "code",
   "execution_count": 23,
   "metadata": {},
   "outputs": [
    {
     "name": "stdout",
     "output_type": "stream",
     "text": [
      "6\n",
      "0\n"
     ]
    }
   ],
   "source": [
    "class Solution:\n",
    "    # O(n), O(1)\n",
    "\n",
    "    # Keep track of max possible and min possible at every number\n",
    "    # when the number is 0, reset the values to 1\n",
    "    def maxProduct(self, nums: List[int]) -> int:\n",
    "        res = max(nums)\n",
    "        max_prod, min_prod = 1, 1\n",
    "\n",
    "        for num in nums:\n",
    "            if num == 0:\n",
    "                max_prod, min_prod = 1, 1\n",
    "                continue\n",
    "\n",
    "            temp = min_prod\n",
    "            min_prod = min(num, max_prod * num, temp * num)\n",
    "            max_prod = max(num, max_prod * num, temp * num)\n",
    "            res = max(res, max_prod)\n",
    "\n",
    "        return res\n",
    "\n",
    "\n",
    "\n",
    "sol = Solution()\n",
    "print(sol.maxProduct([2,3,-2,4])) #6\n",
    "print(sol.maxProduct([-2,0,-1])) #0"
   ]
  },
  {
   "cell_type": "markdown",
   "metadata": {},
   "source": [
    "## 2-D Dynamic Programming"
   ]
  },
  {
   "cell_type": "markdown",
   "metadata": {},
   "source": [
    "## Greedy"
   ]
  },
  {
   "cell_type": "markdown",
   "metadata": {},
   "source": [
    "### Medium"
   ]
  },
  {
   "cell_type": "markdown",
   "metadata": {},
   "source": [
    "#### 53.Maximum Subarray"
   ]
  },
  {
   "cell_type": "code",
   "execution_count": 20,
   "metadata": {},
   "outputs": [
    {
     "name": "stdout",
     "output_type": "stream",
     "text": [
      "6\n",
      "1\n",
      "23\n"
     ]
    }
   ],
   "source": [
    "class Solution:\n",
    "    # O(n), O(1)\n",
    "\n",
    "    # Keep track of current sum\n",
    "    # when it goes below zero, reset\n",
    "    def maxSubArray(self, nums: List[int]) -> int:\n",
    "        max_val = nums[0]\n",
    "        curr_sum = 0\n",
    "\n",
    "        for num in nums:\n",
    "            if curr_sum < 0:\n",
    "                curr_sum = 0\n",
    "\n",
    "            curr_sum += num\n",
    "            max_val = max(max_val, curr_sum)\n",
    "\n",
    "        return max_val\n",
    "\n",
    "\n",
    "sol = Solution()\n",
    "print(sol.maxSubArray([-2,1,-3,4,-1,2,1,-5,4])) #6\n",
    "print(sol.maxSubArray([1])) #1\n",
    "print(sol.maxSubArray([5,4,-1,7,8])) #23"
   ]
  },
  {
   "cell_type": "markdown",
   "metadata": {},
   "source": [
    "## Intervals"
   ]
  },
  {
   "cell_type": "markdown",
   "metadata": {},
   "source": [
    "## Math & Geometry"
   ]
  },
  {
   "cell_type": "markdown",
   "metadata": {},
   "source": [
    "## Bit Manipulation"
   ]
  },
  {
   "cell_type": "markdown",
   "metadata": {},
   "source": [
    "### Easy"
   ]
  },
  {
   "cell_type": "markdown",
   "metadata": {},
   "source": [
    "#### 191. Number of 1 Bits"
   ]
  },
  {
   "cell_type": "code",
   "execution_count": 34,
   "metadata": {},
   "outputs": [
    {
     "name": "stdout",
     "output_type": "stream",
     "text": [
      "3\n",
      "1\n",
      "30\n"
     ]
    }
   ],
   "source": [
    "class Solution:\n",
    "    # O(1), O(1)\n",
    "\n",
    "    # When we & a num with num - 1, we basically get rid of a 1 in the binary notation\n",
    "    # eg: 1001 & (1001 - 1) = 1001 & 1000 = 1000\n",
    "    def hammingWeight(self, n: int) -> int:\n",
    "        res = 0\n",
    "        while n:\n",
    "            res += 1\n",
    "            n = n & (n - 1)\n",
    "\n",
    "        return res\n",
    "\n",
    "sol = Solution()\n",
    "print(sol.hammingWeight(11)) #3\n",
    "print(sol.hammingWeight(128)) #1\n",
    "print(sol.hammingWeight(2147483645)) #30"
   ]
  }
 ],
 "metadata": {
  "kernelspec": {
   "display_name": "Python 3",
   "language": "python",
   "name": "python3"
  },
  "language_info": {
   "codemirror_mode": {
    "name": "ipython",
    "version": 3
   },
   "file_extension": ".py",
   "mimetype": "text/x-python",
   "name": "python",
   "nbconvert_exporter": "python",
   "pygments_lexer": "ipython3",
   "version": "3.9.13"
  }
 },
 "nbformat": 4,
 "nbformat_minor": 2
}
