{
 "cells": [
  {
   "cell_type": "code",
   "execution_count": 1,
   "metadata": {},
   "outputs": [],
   "source": [
    "from typing import List, OrderedDict, Counter, Optional, Tuple\n",
    "from collections import defaultdict\n",
    "import collections\n",
    "import operator"
   ]
  },
  {
   "cell_type": "markdown",
   "metadata": {},
   "source": [
    "### Graph Sum\n",
    "\n",
    "- Given a maze with N cells. Each cell may have multiple entry points but not more than one exit(i.e entry/exit points are unidirectional doors like valves).\n",
    "\n",
    "- You are given an array Edge[] of N integers, where Edge[i] contains the cell number that can be reached from of cell i in one step. Edge[i] is -1 if the ith cell doesn’t have an exit."
   ]
  },
  {
   "cell_type": "markdown",
   "metadata": {},
   "source": [
    "#### Max cycle sum"
   ]
  },
  {
   "cell_type": "code",
   "execution_count": 4,
   "metadata": {},
   "outputs": [
    {
     "name": "stdout",
     "output_type": "stream",
     "text": [
      "45\n"
     ]
    }
   ],
   "source": [
    "import math\n",
    "class Solution:\n",
    "    def getMaxCycleSum(self, numberOfNodes: int, connections: List[int]) -> int:\n",
    "        graph = defaultdict(list)\n",
    "        \n",
    "        for u, v in enumerate(connections):\n",
    "            if v == -1: continue\n",
    "            graph[u].append(v)\n",
    "\n",
    "        seen = set()\n",
    "        curr_path = [-1] * numberOfNodes\n",
    "        \n",
    "        def dfs(node, curr_sum):\n",
    "            nonlocal seen, curr_path\n",
    "            seen.add(node)\n",
    "            curr_path[node] = curr_sum\n",
    "            \n",
    "            max_sum = -math.inf\n",
    "\n",
    "            for nei in graph[node]:\n",
    "                if nei not in seen:\n",
    "                    max_sum = max(max_sum, dfs(nei, curr_sum + nei))\n",
    "                elif curr_path[nei] != -1:\n",
    "                    # total - cost to reach nei + including nei\n",
    "                    max_sum = max(max_sum, curr_sum - curr_path[nei] + nei)\n",
    "\n",
    "            curr_path[node] = -1\n",
    "            return max_sum\n",
    "        \n",
    "        res = 0\n",
    "        \n",
    "        for node in range(numberOfNodes):\n",
    "            if node not in seen:\n",
    "                cycle_sum = dfs(node, node)\n",
    "                res = max(res, cycle_sum)\n",
    "\n",
    "        return res\n",
    "            \n",
    "sol = Solution()\n",
    "print(sol.getMaxCycleSum(23, [4, 4, 1, 4, 13, 8, 8, 8, 0, 8, 14, 9, 15, 11, -1, 10, 15, 22, 22, 22, 22, 22, 21])) #45"
   ]
  },
  {
   "cell_type": "markdown",
   "metadata": {},
   "source": [
    "#### Node number of maximum weighted node"
   ]
  },
  {
   "cell_type": "code",
   "execution_count": 10,
   "metadata": {},
   "outputs": [
    {
     "name": "stdout",
     "output_type": "stream",
     "text": [
      "22\n"
     ]
    }
   ],
   "source": [
    "class Solution:\n",
    "    def getMaxWeightedNode(self, numOfNodes: int, connections: List[int]) -> int:\n",
    "        in_map = [0] * (numOfNodes + 1) # sum of all incoming nodes\n",
    "\n",
    "        res, curr_mx = -1, -1\n",
    "        for u, v in enumerate(connections): \n",
    "            if v == -1: continue\n",
    "            in_map[v] += u\n",
    "            \n",
    "            if in_map[v] > curr_mx:\n",
    "                curr_mx = in_map[v]\n",
    "                res = v\n",
    "            \n",
    "        return res\n",
    "\n",
    "\n",
    "sol = Solution()\n",
    "print(sol.getMaxWeightedNode(23, [4, 4, 1, 4, 13, 8, 8, 8, 0, 8, 14, 9, 15, 11, -1, 10, 15, 22, 22, 22, 22, 22, 21])) #22"
   ]
  },
  {
   "cell_type": "markdown",
   "metadata": {},
   "source": [
    "#### Nearest Meeting cell"
   ]
  },
  {
   "cell_type": "code",
   "execution_count": 23,
   "metadata": {},
   "outputs": [
    {
     "name": "stdout",
     "output_type": "stream",
     "text": [
      "4\n",
      "14\n",
      "13\n",
      "11\n",
      "-1\n"
     ]
    }
   ],
   "source": [
    "class Solution:\n",
    "    def getNearestMeetingCell(self, numOfNodes: int, connections: List[int], a: int, b: int) -> int:\n",
    "        x, y = a, b\n",
    "        a_path, b_path = set(), set()\n",
    "        \n",
    "        while True:\n",
    "            # cycle condition or both have reached an end.\n",
    "            if x in a_path or y in b_path or (x == -1 and y == -1):\n",
    "                return -1\n",
    "            \n",
    "            # if current node is already encountered in other node's path\n",
    "            if x in b_path:\n",
    "                return x\n",
    "            \n",
    "            # if current node is already encountered in other node's path\n",
    "            if y in a_path:\n",
    "                return y\n",
    "\n",
    "            # if the node hasn't reached the end move by one step \n",
    "            if x != -1:\n",
    "                a_path.add(x)\n",
    "                x = connections[x]\n",
    "\n",
    "            # if the node hasn't reached the end move by one step\n",
    "            if y != -1:\n",
    "                b_path.add(y)\n",
    "                y = connections[y]\n",
    "        \n",
    "\n",
    "sol = Solution()\n",
    "print(sol.getNearestMeetingCell(23, [4, 4, 1, 4, 13, 8, 8, 8, 0, 8, 14, 9, 15, 11, -1, 10, 15, 22, 22, 22, 22, 22, 21], 2, 9)) #4\n",
    "print(sol.getNearestMeetingCell(23, [4, 4, 1, 4, 13, 8, 8, 8, 0, 8, 14, 9, 15, 11, -1, 10, 15, 22, 22, 22, 22, 22, 21], 12, 14)) #14\n",
    "print(sol.getNearestMeetingCell(23, [4, 4, 1, 4, 13, 8, 8, 8, 0, 8, 14, 9, 15, 11, -1, 10, 15, 22, 22, 22, 22, 22, 21], 2, 13)) #13\n",
    "print(sol.getNearestMeetingCell(23, [4, 4, 1, 4, 13, 8, 8, 8, 0, 8, 14, 9, 15, 11, -1, 10, 15, 22, 22, 22, 22, 22, 21], 2, 11)) #11\n",
    "print(sol.getNearestMeetingCell(23, [4, 4, 1, 4, 13, 8, 8, 8, 0, 8, 14, 9, 15, 11, -1, 10, 15, 22, 22, 22, 22, 22, 21], 2, 14)) #11"
   ]
  },
  {
   "cell_type": "markdown",
   "metadata": {},
   "source": [
    "### Meetup Schedule\n",
    "\n",
    "1             |  2          | 3\n",
    ":-:|:-:|:-:\n",
    "![alt text](Visa_img/meetup_1.png \"1\")  |  ![alt text](Visa_img/meetup_2.png \"1\") | ![alt text](Visa_img/meetup_3.png \"1\")\n",
    "\n"
   ]
  },
  {
   "cell_type": "markdown",
   "metadata": {},
   "source": [
    "#### Count number of meetings"
   ]
  },
  {
   "cell_type": "code",
   "execution_count": 68,
   "metadata": {},
   "outputs": [
    {
     "name": "stdout",
     "output_type": "stream",
     "text": [
      "4\n",
      "2\n",
      "5\n",
      "5\n",
      "5\n"
     ]
    }
   ],
   "source": [
    "import heapq\n",
    "class Solution:\n",
    "    def countMeetings_wrong(self, arrival: List[int], departure: List[int]) -> int:\n",
    "        investor_tup = []\n",
    "        \n",
    "        for i in range(len(arrival)):\n",
    "            investor_tup.append((arrival[i], departure[i], i))\n",
    "\n",
    "        investor_tup.sort(key = lambda x: (x[0], x[1]))\n",
    "        print(investor_tup)\n",
    "        last_day = investor_tup[len(arrival) - 1][1]\n",
    "        \n",
    "        res, i = 0, 0\n",
    "        done = set()\n",
    "        for day in range(1, last_day + 1):\n",
    "            while True:\n",
    "                if i == len(arrival): return res\n",
    "\n",
    "                start, end = investor_tup[i][0], investor_tup[i][1]\n",
    "                if start <= day <= end: break\n",
    "                i += 1\n",
    "            \n",
    "            res += 1\n",
    "            done.add(investor_tup[i][2])\n",
    "            i += 1\n",
    "        print(done)\n",
    "        return res\n",
    "    \n",
    "    def countMeetings(self, arrival: List[int], departure: List[int]) -> int:\n",
    "        start_map = defaultdict(list)\n",
    "        i, j = float('inf'), 0\n",
    "\n",
    "        for s, e in zip(arrival, departure):\n",
    "            start_map[s].append(e)\n",
    "            i = min(i, s)\n",
    "            j = max(j, e)\n",
    "        \n",
    "        start_heap = []\n",
    "        res = 0\n",
    "        for s in range(i, j + 1):\n",
    "            while start_heap and start_heap[0] < s:\n",
    "                heapq.heappop(start_heap)\n",
    "\n",
    "            for e in start_map[s]:\n",
    "                heapq.heappush(start_heap, e)\n",
    "\n",
    "            if start_heap:\n",
    "                res += 1\n",
    "                heapq.heappop(start_heap)\n",
    "        return res\n",
    "\n",
    "sol = Solution()\n",
    "print(sol.countMeetings([1,2,3,3,3], [2,2,3,4,4])) #4\n",
    "print(sol.countMeetings([1,1,2], [1,2,2])) #2\n",
    "print(sol.countMeetings([1,2,3,3,3], [2,2,5,4,4])) #5\n",
    "print(sol.countMeetings([1,1,2,2,3,4,5], [3,1,3,2,5,5,5])) #5\n",
    "print(sol.countMeetings([1,1,1,2,2], [5,5,5,3,3])) #5"
   ]
  },
  {
   "cell_type": "markdown",
   "metadata": {},
   "source": [
    "#### Count event days"
   ]
  },
  {
   "cell_type": "code",
   "execution_count": 65,
   "metadata": {},
   "outputs": [
    {
     "name": "stdout",
     "output_type": "stream",
     "text": [
      "3\n",
      "5\n"
     ]
    }
   ],
   "source": [
    "import heapq\n",
    "class Solution:\n",
    "    def maxEvents(self, events: List[List[int]]) -> int:\n",
    "        start_map = defaultdict(list)\n",
    "        i, j = float('inf'), 0\n",
    "\n",
    "        for s, e in events:\n",
    "            start_map[s].append(e)\n",
    "            i = min(i, s)\n",
    "            j = max(j, e)\n",
    "        \n",
    "        start_heap = []\n",
    "        res = 0\n",
    "        for s in range(i, j + 1):\n",
    "            while start_heap and start_heap[0] < s:\n",
    "                heapq.heappop(start_heap)\n",
    "\n",
    "            for e in start_map[s]:\n",
    "                heapq.heappush(start_heap, e)\n",
    "\n",
    "            if start_heap:\n",
    "                res += 1\n",
    "                heapq.heappop(start_heap)\n",
    "        return res\n",
    "    \n",
    "    # faster\n",
    "    def maxEvents_new(self, events: List[List[int]]) -> int:\n",
    "        events.sort(key=lambda x: (x[1], x[0]))  # Sort events by end day and then by start day\n",
    "        attendedDays = set()\n",
    "\n",
    "        for event in events:\n",
    "            for day in range(event[0], event[1] + 1):\n",
    "                if day not in attendedDays:\n",
    "                    attendedDays.add(day)\n",
    "                    break\n",
    "        \n",
    "        return len(attendedDays)\n",
    "\n",
    "\n",
    "sol = Solution()\n",
    "print(sol.maxEvents([[1,2],[2,3],[3,4]])) #3\n",
    "print(sol.maxEvents([[1,5],[1,5],[1,5],[2,3],[2,3]])) #5"
   ]
  },
  {
   "cell_type": "markdown",
   "metadata": {},
   "source": [
    "### Kill K-th Bit"
   ]
  },
  {
   "cell_type": "code",
   "execution_count": 75,
   "metadata": {},
   "outputs": [
    {
     "name": "stdout",
     "output_type": "stream",
     "text": [
      "4\n",
      "33\n"
     ]
    }
   ],
   "source": [
    "def solution(n, k):\n",
    "    return n & ~(1 << (k - 1))\n",
    "\n",
    "print(solution(37, 3))\n"
   ]
  },
  {
   "cell_type": "markdown",
   "metadata": {},
   "source": [
    "### Tetris"
   ]
  },
  {
   "cell_type": "code",
   "execution_count": null,
   "metadata": {},
   "outputs": [],
   "source": [
    "class Solution:\n",
    "    def fillMatrix(self, m: int, n:int, shapes: List[str]) -> List[List[str]]:\n",
    "        pass\n",
    "\n",
    "sol = Solution()\n",
    "print(sol.fillMatrix(3, 6, ['A','B','C','D','E']))"
   ]
  },
  {
   "cell_type": "markdown",
   "metadata": {},
   "source": [
    "### Tree decrement\n",
    "1   |       \n",
    ":-:|\n",
    "![alt text](Visa_img/tree_1.png \"1\")  | "
   ]
  },
  {
   "cell_type": "code",
   "execution_count": null,
   "metadata": {},
   "outputs": [],
   "source": [
    "def getMinCost(val, t_nodes, t_from, t_to):\n",
    "    global answer\n",
    "    answer = 0\n",
    "    n = len(val)\n",
    "    adj = [[] for i in range(n)]\n",
    "    for i in range(n-1):\n",
    "        t_from[i] -=1\n",
    "        t_to[i] -=1\n",
    "        adj[t_from[i]].append(t_to[i])\n",
    "        adj[t_to[i]].append(t_from[i])\n",
    "    \n",
    "    def dfs(curr,parent):\n",
    "        global answer\n",
    "        count = val[curr] % 2\n",
    "        for next_ in adj[curr]:\n",
    "            if next_ == parent:\n",
    "                continue\n",
    "            res = dfs(next_,curr)\n",
    "            answer += res\n",
    "            count ^= res\n",
    "        return count\n",
    "                        \n",
    "    dfs(0,-1)\n",
    "    return answer"
   ]
  },
  {
   "cell_type": "markdown",
   "metadata": {},
   "source": [
    "### Multi dimenstional selection\n",
    "\n",
    "1   |       \n",
    ":-:|\n",
    "![alt text](Visa_img/Multi_selection_1.png \"1\")  | "
   ]
  },
  {
   "cell_type": "code",
   "execution_count": null,
   "metadata": {},
   "outputs": [],
   "source": [
    "long long getMaxProduct(vector<vector<int>> arr) { // C++\n",
    "    int m = int(arr.size()), n = int(arr[0].size()), req = (n + 1) / 2;\n",
    "    vector<int> A;\n",
    "    unordered_map<int, vector<int>> mp;\n",
    "    for (int i = 0; i < m; ++i){\n",
    "        sort(begin(arr[i]), end(arr[i]));\n",
    "        for (int j = 0; j < n; ++j){\n",
    "            A.push_back(arr[i][j]);\n",
    "            if (mp[arr[i][j]].empty() || mp[arr[i][j]].back() != i){\n",
    "                mp[arr[i][j]].push_back(i);\n",
    "            }\n",
    "        }\n",
    "    }\n",
    "    sort(begin(A), end(A));\n",
    "    A.resize(unique(begin(A), end(A)) - begin(A));\n",
    "    vector<int> L(m), R(m);\n",
    "    int cnt = 0, k = 1e9, num = 0;\n",
    "    unordered_set<int> s;\n",
    "    for (int i = 0, l = 0; i < int(A.size()); ++i){\n",
    "        for (int j : mp[A[i]]){\n",
    "            while(R[j] < n && arr[j][R[j]] == A[i]){\n",
    "                ++R[j];\n",
    "                ++cnt;\n",
    "            }\n",
    "            if (R[j] - L[j] >= req){\n",
    "                s.insert(j);\n",
    "            }\n",
    "        }\n",
    "        while(int(s.size()) == m){\n",
    "            if (A[i] - A[l] < k){\n",
    "                k = A[i] - A[l];\n",
    "                num = cnt;\n",
    "            }else if (A[i] - A[l] == k){\n",
    "                num = max(num, cnt);\n",
    "            }\n",
    "            for (int j : mp[A[l]]){\n",
    "                while(L[j] < R[j] && arr[j][L[j]] == A[l]){\n",
    "                    ++L[j];\n",
    "                    --cnt;\n",
    "                }\n",
    "                if (R[j] - L[j] < req){\n",
    "                    s.erase(j);\n",
    "                }\n",
    "            }\n",
    "            ++l;\n",
    "        }\n",
    "    }\n",
    "    return 1LL * k * num;\n",
    "}"
   ]
  },
  {
   "cell_type": "markdown",
   "metadata": {},
   "source": [
    "### Code Signal sample\n",
    "\n",
    "https://codesignal.com/blog/interview-prep/example-codesignal-questions/"
   ]
  },
  {
   "cell_type": "markdown",
   "metadata": {},
   "source": [
    "#### Array Manipulation\n",
    "\n",
    "Given an array a, your task is to output an array b of the same length by applying the following transformation: \n",
    "- For each i from 0 to a.length - 1 inclusive, b[i] = a[i - 1] + a[i] + a[i + 1]\n",
    "- If an element in the sum a[i - 1] + a[i] + a[i + 1] does not exist, use 0 in its place\n",
    "- For instance, b[0] = 0 + a[0] + a[1]"
   ]
  },
  {
   "cell_type": "code",
   "execution_count": 84,
   "metadata": {},
   "outputs": [
    {
     "name": "stdout",
     "output_type": "stream",
     "text": [
      "[4, 5, -1, 2, 1]\n"
     ]
    }
   ],
   "source": [
    "class Solution:\n",
    "    def manipulate(self, a: List[int]) -> List[int]:\n",
    "        a_len, b = len(a), []\n",
    "        \n",
    "        for idx in range(a_len):\n",
    "            val = a[idx]\n",
    "            if idx > 0:\n",
    "                val += a[idx - 1]\n",
    "            if idx < a_len - 1:\n",
    "                val += a[idx + 1]\n",
    "            b.append(val)            \n",
    "\n",
    "        return b\n",
    "\n",
    "sol = Solution()\n",
    "print(sol.manipulate([4, 0, 1, -2, 3])) # [4, 5, -1, 2, 1]"
   ]
  },
  {
   "cell_type": "markdown",
   "metadata": {},
   "source": [
    "#### String pattern matching\n",
    "\n",
    "You are given two strings: pattern and source. The first string pattern contains only the symbols 0 and 1, and the second string source contains only lowercase English letters.\n",
    "\n",
    "Your task is to calculate the number of substrings of source that match pattern. \n",
    "\n",
    "We’ll say that a substring source[l..r] matches pattern if the following three conditions are met:\n",
    "- The pattern and substring are equal in length.\n",
    "- Where there is a 0 in the pattern, there is a vowel in the substring. \n",
    "- Where there is a 1 in the pattern, there is a consonant in the substring. \n",
    "\n",
    "Vowels are ‘a‘, ‘e‘, ‘i‘, ‘o‘, ‘u‘, and ‘y‘. All other letters are consonants."
   ]
  },
  {
   "cell_type": "code",
   "execution_count": 90,
   "metadata": {},
   "outputs": [
    {
     "name": "stdout",
     "output_type": "stream",
     "text": [
      "2\n",
      "0\n"
     ]
    }
   ],
   "source": [
    "class Solution:\n",
    "    def match(self, pattern: str, source: str) -> int:\n",
    "        res = 0\n",
    "\n",
    "        source = list(source)\n",
    "        for idx, ch in enumerate(source):\n",
    "            source[idx] = '0' if ch.lower() in 'aeiouy' else '1'\n",
    "\n",
    "        pattern = list(pattern)\n",
    "        pat_len, src_len = len(pattern), len(source)\n",
    "        for idx in range(src_len - pat_len):\n",
    "            if pattern == source[idx : idx + pat_len]:\n",
    "                res += 1\n",
    "\n",
    "        return res\n",
    "\n",
    "sol = Solution()\n",
    "print(sol.match(\"010\", \"amazing\")) #2\n",
    "print(sol.match(\"100\", \"codesignal\")) #0"
   ]
  },
  {
   "cell_type": "markdown",
   "metadata": {},
   "source": [
    "#### Two Dimensional Array Traversal\n",
    "\n",
    "You are given a matrix of integers field of size height × width representing a game field, and also a matrix of integers figure of size 3 × 3 representing a figure. Both matrices contain only 0s and 1s, where 1 means that the cell is occupied, and 0 means that the cell is free.\n",
    "\n",
    "You choose a position at the top of the game field where you put the figure and then drop it down. The figure falls down until it either reaches the ground (bottom of the field) or lands on an occupied cell, which blocks it from falling further. After the figure has stopped falling, some of the rows in the field may become fully occupied.\n",
    "\n",
    "Your task is to find the dropping position such that at least one full row is formed. As a dropping position, you should return the column index of the cell in the game field which matches the top left corner of the figure’s 3 × 3 matrix. If there are multiple dropping positions satisfying the condition, feel free to return any of them. If there are no such dropping positions, return -1."
   ]
  },
  {
   "cell_type": "code",
   "execution_count": 99,
   "metadata": {},
   "outputs": [
    {
     "name": "stdout",
     "output_type": "stream",
     "text": [
      "0\n",
      "2\n",
      "-1\n"
     ]
    }
   ],
   "source": [
    "class Solution:\n",
    "    def arrayTraversal(self, field: List[List[int]], figure: List[List[int]]) -> int:\n",
    "        ROWS, COLS = len(field), len(field[0])\n",
    "        figure_len = len(figure)\n",
    "\n",
    "        for column in range(COLS - figure_len + 1):\n",
    "            row = 1\n",
    "            while row < ROWS - figure_len + 1:\n",
    "                can_fit = True\n",
    "                for dx in range(figure_len):\n",
    "                    for dy in range(figure_len):\n",
    "                        if field[row + dx][column + dy] == 1 and figure[dx][dy] == 1:\n",
    "                            can_fit = False\n",
    "                if not can_fit:\n",
    "                    break\n",
    "                row += 1\n",
    "            row -= 1\n",
    "        \n",
    "            for dx in range(figure_len):\n",
    "                row_filled = True\n",
    "                for column_index in range(COLS):\n",
    "                    if not (field[row + dx][column_index] == 1 or\n",
    "                            (column <= column_index < column + figure_len and\n",
    "                        figure[dx][column_index - column] == 1)):\n",
    "                        row_filled = False\n",
    "                if row_filled:\n",
    "                    return column\n",
    "        return -1\n",
    "        \n",
    "\n",
    "sol = Solution()\n",
    "print(sol.arrayTraversal(\n",
    "    [[0, 0, 0],\n",
    "    [0, 0, 0],\n",
    "    [0, 0, 0],\n",
    "    [1, 0, 0],\n",
    "    [1, 1, 0]], \n",
    "\n",
    "    [[0, 0, 1],\n",
    "    [0, 1, 1],\n",
    "    [0, 0, 1]]\n",
    ")) # 0\n",
    "print(sol.arrayTraversal(\n",
    "    [[0, 0, 0, 0, 0],\n",
    "    [0, 0, 0, 0, 0],\n",
    "    [0, 0, 0, 0, 0],\n",
    "    [1, 1, 0, 1, 0],\n",
    "    [1, 0, 1, 0, 1]], \n",
    "\n",
    "    [[1, 1, 1],\n",
    "    [1, 0, 1],\n",
    "    [1, 0, 1]]\n",
    ")) # 2\n",
    "print(sol.arrayTraversal(\n",
    "    [[0, 0, 0, 0],\n",
    "    [0, 0, 0, 0],\n",
    "    [0, 0, 0, 0],\n",
    "    [1, 0, 0, 1],\n",
    "    [1, 1, 0, 1]],\n",
    "\n",
    "    [[1, 1, 0],\n",
    "    [1, 0, 0],\n",
    "    [1, 0, 0]]\n",
    ")) # -1"
   ]
  },
  {
   "cell_type": "markdown",
   "metadata": {},
   "source": [
    "#### Lookup Table\n",
    "\n",
    "Given an array of unique integers numbers, your task is to find the number of pairs of indices (i, j) such that i ≤ j and the sum numbers[i] + numbers[j] is equal to some power of 2.\n",
    "\n",
    "Note: The numbers 20  = 1, 21 = 2, 22 = 4, 23 = 8, etc. are considered to be powers of 2."
   ]
  },
  {
   "cell_type": "code",
   "execution_count": 105,
   "metadata": {},
   "outputs": [
    {
     "name": "stdout",
     "output_type": "stream",
     "text": [
      "5\n",
      "5\n"
     ]
    }
   ],
   "source": [
    "class Solution:\n",
    "    def lookup(self, numbers: List[int]) -> int:\n",
    "        cnt_map = defaultdict(int)\n",
    "        max_num = max(numbers)  \n",
    "        res = 0\n",
    "        for num in numbers:\n",
    "            cnt_map[num] += 1\n",
    "\n",
    "            for power in range(max_num + 1):\n",
    "                comp_num = (2 ** power) - num\n",
    "                res += cnt_map[comp_num]\n",
    "        return res \n",
    "\n",
    "sol = Solution()\n",
    "print(sol.lookup([1, -1, 2, 3])) #5\n",
    "print(sol.lookup([-2, -1, 0, 1, 2])) #5"
   ]
  },
  {
   "cell_type": "markdown",
   "metadata": {},
   "source": [
    "### Lasso"
   ]
  },
  {
   "cell_type": "markdown",
   "metadata": {},
   "source": [
    "#### Tic Tac Toe\n",
    "\n",
    "Given n*n grid, determine win, draw, Ongoing"
   ]
  },
  {
   "cell_type": "markdown",
   "metadata": {},
   "source": [
    "#### Transcations"
   ]
  },
  {
   "cell_type": "code",
   "execution_count": 116,
   "metadata": {},
   "outputs": [
    {
     "name": "stdout",
     "output_type": "stream",
     "text": [
      "[900, 295]\n"
     ]
    }
   ],
   "source": [
    "from datetime import datetime, timedelta\n",
    "import collections\n",
    "\n",
    "class Solution:\n",
    "    def process(self, balances: List[int], requests: list[str]) -> List[int]:\n",
    "        users_len = len(balances)\n",
    "        cashbacks = collections.deque([])\n",
    "\n",
    "        for req_no, req in enumerate(requests):\n",
    "            typ, tm, hol, amt = req.split(' ')\n",
    "            \n",
    "            tm = int(tm)\n",
    "            hol = int(hol)\n",
    "            amt = int(amt)\n",
    "\n",
    "            while cashbacks and tm >= cashbacks[0][0]:\n",
    "                balances[cashbacks[0][1] - 1] += cashbacks[0][2]\n",
    "                cashbacks.popleft()\n",
    "\n",
    "            if not 1 <= hol <= users_len:\n",
    "                return [-1 * req_no]\n",
    "            \n",
    "            if typ == 'deposit':\n",
    "                balances[hol - 1] += amt\n",
    "            else:\n",
    "                if balances[hol - 1] < amt:\n",
    "                    return [-1 * req_no]\n",
    "                \n",
    "                balances[hol - 1] -= amt\n",
    "\n",
    "                #handle cashback\n",
    "                current_tm = datetime.fromtimestamp(tm)\n",
    "                cashback_tm = current_tm + timedelta(hours=24)\n",
    "                cashbacks.append([cashback_tm.timestamp(), hol, math.floor(0.02*amt)])\n",
    "\n",
    "        return balances\n",
    "\n",
    "sol = Solution()\n",
    "print(sol.process([1000, 1500],\n",
    "    [\n",
    "        'withdraw 1613327630 2 480',\n",
    "        'withdraw 1613327644 2 800',\n",
    "        'withdraw 1614105244 1 100',\n",
    "        'deposit 1614108844 2 200',\n",
    "        'withdraw 1614108845 2 150',\n",
    "    ]\n",
    "))\n"
   ]
  },
  {
   "cell_type": "code",
   "execution_count": 113,
   "metadata": {},
   "outputs": [
    {
     "name": "stdout",
     "output_type": "stream",
     "text": [
      "2021-02-14 13:33:50\n",
      "2021-02-15 13:33:50\n",
      "1613414030.0\n",
      "1613414030\n"
     ]
    }
   ],
   "source": [
    "from datetime import datetime, timedelta\n",
    "\n",
    "print(datetime.fromtimestamp(1613327630))\n",
    "print(datetime.fromtimestamp(1613327630) + timedelta(hours=24))\n",
    "print((datetime.fromtimestamp(1613327630) + timedelta(hours=24)).timestamp())\n",
    "print(1613327630 + 24 *60 *60)"
   ]
  },
  {
   "cell_type": "code",
   "execution_count": 146,
   "metadata": {},
   "outputs": [
    {
     "name": "stdout",
     "output_type": "stream",
     "text": [
      "[2, 8, 19]\n"
     ]
    }
   ],
   "source": [
    "def solve(arr):\n",
    "    ans = [0] * len(arr)\n",
    "    mx = 0\n",
    "    M = 10 ** 9 + 7\n",
    "    tot = 0\n",
    "    ttot = 0\n",
    "    for i in range(len(arr)):\n",
    "        tot += arr[i]\n",
    "        tot %= M\n",
    "        ttot += tot\n",
    "        ttot %= M\n",
    "        mx = max(mx, arr[i])\n",
    "        ans[i] = ttot + mx * (i + 1) % M\n",
    "        ans[i] %= M\n",
    "    return ans\n",
    "    \n",
    "    \n",
    "print(solve([1,2,3]))"
   ]
  }
 ],
 "metadata": {
  "kernelspec": {
   "display_name": "Python 3",
   "language": "python",
   "name": "python3"
  },
  "language_info": {
   "codemirror_mode": {
    "name": "ipython",
    "version": 3
   },
   "file_extension": ".py",
   "mimetype": "text/x-python",
   "name": "python",
   "nbconvert_exporter": "python",
   "pygments_lexer": "ipython3",
   "version": "3.9.13"
  },
  "orig_nbformat": 4
 },
 "nbformat": 4,
 "nbformat_minor": 2
}
