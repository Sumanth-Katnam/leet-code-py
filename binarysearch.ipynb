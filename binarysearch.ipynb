{
 "cells": [
  {
   "cell_type": "code",
   "execution_count": 20,
   "metadata": {},
   "outputs": [],
   "source": [
    "from typing import List, OrderedDict, Counter, Optional\n",
    "from collections import defaultdict\n",
    "import collections"
   ]
  },
  {
   "cell_type": "markdown",
   "metadata": {},
   "source": [
    "### Easy"
   ]
  },
  {
   "cell_type": "markdown",
   "metadata": {},
   "source": [
    "#### 123 Number Flip"
   ]
  },
  {
   "cell_type": "code",
   "execution_count": 21,
   "metadata": {},
   "outputs": [
    {
     "name": "stdout",
     "output_type": "stream",
     "text": [
      "323\n",
      "333\n",
      "3322\n"
     ]
    }
   ],
   "source": [
    "class Solution:\n",
    "    def solve(self, n):\n",
    "        res = str(n)\n",
    "        i = 0\n",
    "        while i != len(res) and res[i] == '3':\n",
    "            i += 1\n",
    "\n",
    "        return n if i == len(res) else int(res[:i] + '3' + res[i + 1:])\n",
    "        # return max(int(str(n).replace('2','3',1)), int(str(n).replace('1','3',1)))\n",
    "\n",
    "sol = Solution()\n",
    "print(sol.solve(123))\n",
    "print(sol.solve(333))\n",
    "print(sol.solve(3222))\n"
   ]
  },
  {
   "cell_type": "markdown",
   "metadata": {},
   "source": [
    "#### Fixed point"
   ]
  },
  {
   "cell_type": "code",
   "execution_count": 22,
   "metadata": {},
   "outputs": [
    {
     "name": "stdout",
     "output_type": "stream",
     "text": [
      "3\n",
      "-1\n",
      "0\n"
     ]
    }
   ],
   "source": [
    "class Solution:\n",
    "    def solve(self, nums):\n",
    "        res = -1\n",
    "        start, end = 0, len(nums) - 1\n",
    "        \n",
    "        while start <= end:\n",
    "            mid = (start + end)//2\n",
    "\n",
    "            if nums[mid] == mid:\n",
    "                res = mid\n",
    "            if nums[mid] >= mid:\n",
    "                end = mid -1 \n",
    "            else:\n",
    "                start = mid + 1\n",
    "        return res\n",
    "\n",
    "sol = Solution()\n",
    "print(sol.solve([-5, -2, 0, 3, 4]))\n",
    "print(sol.solve([-5, -4, 0]))\n",
    "print(sol.solve([0, 1, 2]))"
   ]
  },
  {
   "cell_type": "markdown",
   "metadata": {},
   "source": [
    "#### Sorted Elements"
   ]
  },
  {
   "cell_type": "code",
   "execution_count": 23,
   "metadata": {},
   "outputs": [
    {
     "name": "stdout",
     "output_type": "stream",
     "text": [
      "1\n"
     ]
    }
   ],
   "source": [
    "class Solution:\n",
    "    def solve(self, nums):\n",
    "        res = 1\n",
    "        max_val = nums[0]\n",
    "\n",
    "        for i in range(1, len(nums)):\n",
    "            if nums[i] > max_val:\n",
    "                max_val = nums[i]\n",
    "                res += 1\n",
    "            else:\n",
    "                res -= 1\n",
    "        \n",
    "        return res\n",
    "\n",
    "sol = Solution()\n",
    "print(sol.solve([1, 7, 3, 4, 10]))"
   ]
  },
  {
   "cell_type": "code",
   "execution_count": 24,
   "metadata": {},
   "outputs": [
    {
     "name": "stdout",
     "output_type": "stream",
     "text": [
      "[(1, 1), (7, 3), (3, 4), (4, 7), (10, 10)]\n"
     ]
    }
   ],
   "source": [
    "nums = [1,7,3,4,10]\n",
    "print([(a, b) for a, b in zip(nums, sorted(nums))])"
   ]
  },
  {
   "cell_type": "markdown",
   "metadata": {},
   "source": [
    "#### Strictly Increasing or Strictly Decreasing"
   ]
  },
  {
   "cell_type": "code",
   "execution_count": 25,
   "metadata": {},
   "outputs": [
    {
     "name": "stdout",
     "output_type": "stream",
     "text": [
      "True\n",
      "False\n",
      "True\n"
     ]
    }
   ],
   "source": [
    "class Solution:\n",
    "    def solve(self, nums):\n",
    "        inc, dec = False, False\n",
    "\n",
    "        for i in range(len(nums) - 1):\n",
    "            if ((nums[i] == nums[i + 1])\n",
    "                or (inc and not (nums[i] < nums[i + 1])) \n",
    "                or (dec and not (nums[i] > nums[i + 1]))):\n",
    "                return False\n",
    "            \n",
    "            if not inc and not dec:\n",
    "                if nums[i] < nums[i + 1]:\n",
    "                    inc = True\n",
    "                else:\n",
    "                    dec = True\n",
    "        return True\n",
    "\n",
    "        # inc = all(i < j for i, j in zip(nums, nums[1:]))\n",
    "        # dec = all(i > j for i, j in zip(nums, nums[1:]))\n",
    "        # return inc or dec\n",
    "\n",
    "\n",
    "\n",
    "sol = Solution()\n",
    "print(sol.solve([1, 2, 3, 4, 5])) #True\n",
    "print(sol.solve([1, 2, 3, 4, 5, 5])) #False\n",
    "print(sol.solve([5, 4, 3, 2, 1])) #True"
   ]
  },
  {
   "cell_type": "markdown",
   "metadata": {},
   "source": [
    "#### Merging two sorted lists"
   ]
  },
  {
   "cell_type": "code",
   "execution_count": 26,
   "metadata": {},
   "outputs": [
    {
     "name": "stdout",
     "output_type": "stream",
     "text": [
      "[3, 5, 8, 9, 10, 13, 15, 20, 25, 30]\n"
     ]
    }
   ],
   "source": [
    "class Solution:\n",
    "    def solve(self, a, b):\n",
    "        a_i, b_i = 0, 0\n",
    "        res = []\n",
    "        while a_i != len(a) and b_i != len(b):\n",
    "            if a[a_i] > b[b_i]:\n",
    "                res.append(b[b_i])\n",
    "                b_i += 1\n",
    "            else:\n",
    "                res.append(a[a_i])\n",
    "                a_i += 1\n",
    "        \n",
    "        return res + a[a_i:] + b[b_i:]\n",
    "        \n",
    "\n",
    "sol = Solution()\n",
    "print(sol.solve([5, 10, 15, 20, 25, 30], [3, 8, 9, 13]))"
   ]
  },
  {
   "cell_type": "markdown",
   "metadata": {},
   "source": [
    "#### Minimum Bracket Addition"
   ]
  },
  {
   "cell_type": "code",
   "execution_count": 27,
   "metadata": {},
   "outputs": [
    {
     "name": "stdout",
     "output_type": "stream",
     "text": [
      "5\n",
      "4\n"
     ]
    }
   ],
   "source": [
    "class Solution:\n",
    "    def solve(self, s):\n",
    "        ans = bal = 0\n",
    "        for ch in s:\n",
    "            bal += 1 if ch == '(' else -1\n",
    "            \n",
    "            if bal == -1:\n",
    "                ans += 1\n",
    "                bal = 0 #reset\n",
    "\n",
    "        return ans + bal\n",
    "\n",
    "sol = Solution()\n",
    "print(sol.solve(\")))((\")) #5\n",
    "print(sol.solve(\"(())))((\")) #4"
   ]
  },
  {
   "cell_type": "markdown",
   "metadata": {},
   "source": [
    "### Meduim"
   ]
  },
  {
   "cell_type": "markdown",
   "metadata": {},
   "source": [
    "#### Dice Throw"
   ]
  },
  {
   "cell_type": "code",
   "execution_count": 28,
   "metadata": {},
   "outputs": [
    {
     "name": "stdout",
     "output_type": "stream",
     "text": [
      "6\n"
     ]
    }
   ],
   "source": [
    "class Solution:\n",
    "    def solve(self, n, faces, total):\n",
    "        helper_map = {}\n",
    "\n",
    "        def helper(dices, total_rem):\n",
    "            if total_rem < dices or total_rem > dices * faces:\n",
    "                return 0\n",
    "            if dices == 1:\n",
    "                return 1 if total_rem <= faces else 0\n",
    "            \n",
    "            key = (dices, total_rem)\n",
    "\n",
    "            if not key in helper_map:\n",
    "                sum = 0\n",
    "                for i in range(1, faces + 1):\n",
    "                    sum += helper(dices - 1, total_rem - i)\n",
    "                    sum %= (10 ** 9 + 7)\n",
    "                helper_map[key] = sum\n",
    "            return helper_map[key]\n",
    "        \n",
    "        return helper(n, total)\n",
    "\n",
    "sol = Solution()\n",
    "print(sol.solve(2, 6, 7))"
   ]
  },
  {
   "cell_type": "markdown",
   "metadata": {},
   "source": [
    "#### Special product List"
   ]
  },
  {
   "cell_type": "code",
   "execution_count": 29,
   "metadata": {},
   "outputs": [
    {
     "name": "stdout",
     "output_type": "stream",
     "text": [
      "[120, 60, 40, 30, 24]\n",
      "[2, 3, 6]\n"
     ]
    }
   ],
   "source": [
    "class Solution:\n",
    "    def solve(self, nums):\n",
    "        res = [1] * len(nums)\n",
    "\n",
    "        pre = 1\n",
    "        for i in range(len(nums)):\n",
    "            res[i] = pre\n",
    "            pre *= nums[i]\n",
    "\n",
    "        post = 1\n",
    "        for i in range(len(nums) -1 , -1, -1):\n",
    "            res[i] *= post\n",
    "            post *= nums[i]\n",
    "\n",
    "        return res\n",
    "\n",
    "sol = Solution()\n",
    "print(sol.solve([1, 2, 3, 4, 5]))\n",
    "print(sol.solve([3, 2, 1]))"
   ]
  },
  {
   "cell_type": "markdown",
   "metadata": {},
   "source": [
    "#### N Lexicographic Integers"
   ]
  },
  {
   "cell_type": "code",
   "execution_count": 30,
   "metadata": {},
   "outputs": [
    {
     "name": "stdout",
     "output_type": "stream",
     "text": [
      "[1, 10, 100, 101, 102, 103, 104, 105, 106, 107, 108, 109, 11, 110, 111, 112, 113, 114, 115, 116, 117, 118, 119, 12, 120, 121, 122, 123, 124, 125, 126, 127, 128, 129, 13, 130, 131, 132, 133, 134, 135, 136, 137, 138, 139, 14, 140, 141, 142, 143, 144, 145, 146, 147, 148, 149, 15, 150, 151, 152, 153, 154, 155, 156, 157, 158, 159, 16, 160, 161, 162, 163, 164, 165, 166, 167, 168, 169, 17, 170, 171, 172, 173, 174, 175, 176, 177, 178, 179, 18, 180, 181, 182, 183, 184, 185, 186, 187, 188, 189, 19, 190, 191, 192, 193, 194, 195, 196, 197, 198, 199, 2, 20, 200, 201, 202, 203, 204, 205, 206, 207, 208, 209, 21, 210, 211, 212, 213, 214, 215, 216, 217, 218, 219, 22, 220, 221, 222, 223, 224, 225, 226, 227, 228, 229, 23, 230, 231, 232, 233, 234, 235, 236, 237, 238, 239, 24, 240, 241, 242, 243, 244, 245, 246, 247, 248, 249, 25, 250, 251, 252, 253, 254, 255, 256, 257, 258, 259, 26, 260, 261, 262, 263, 27, 28, 29, 3, 30, 31, 32, 33, 34, 35, 36, 37, 38, 39, 4, 40, 41, 42, 43, 44, 45, 46, 47, 48, 49, 5, 50, 51, 52, 53, 54, 55, 56, 57, 58, 59, 6, 60, 61, 62, 63, 64, 65, 66, 67, 68, 69, 7, 70, 71, 72, 73, 74, 75, 76, 77, 78, 79, 8, 80, 81, 82, 83, 84, 85, 86, 87, 88, 89, 9, 90, 91, 92, 93, 94, 95, 96, 97, 98, 99]\n"
     ]
    }
   ],
   "source": [
    "class Solution:\n",
    "    def solve(self, n):\n",
    "        number = 1\n",
    "        res = []\n",
    "\n",
    "        for i in range(n):\n",
    "            res.append(number)\n",
    "\n",
    "            if number * 10 <= n:\n",
    "                number *= 10\n",
    "            else:\n",
    "                if number + 1 <= n and number % 10 != 9:\n",
    "                    number += 1\n",
    "                else:\n",
    "                    while (number // 10) % 10 == 9:\n",
    "                        number = number // 10\n",
    "                    number = number // 10 + 1\n",
    "\n",
    "        return res\n",
    "\n",
    "sol = Solution()\n",
    "print(sol.solve(263))"
   ]
  },
  {
   "cell_type": "markdown",
   "metadata": {},
   "source": [
    "#### Number of Islands"
   ]
  },
  {
   "cell_type": "code",
   "execution_count": 31,
   "metadata": {},
   "outputs": [
    {
     "name": "stdout",
     "output_type": "stream",
     "text": [
      "1\n",
      "4\n"
     ]
    }
   ],
   "source": [
    "class Solution:\n",
    "    def solve(self, matrix):\n",
    "        if not matrix:\n",
    "            return 0\n",
    "\n",
    "        r_max, c_max = len(matrix), len(matrix[0])\n",
    "        directions = [[1,0], [0,1], [-1, 0], [0, -1]]\n",
    "        visited = set()\n",
    "        n_islands = 0\n",
    "\n",
    "        def bfs(r, c):\n",
    "            q = collections.deque()\n",
    "            visited.add((r,c))\n",
    "            q.append((r,c))\n",
    "\n",
    "            while q:\n",
    "                row, col = q.popleft() # change this to pop to make it DFS iterative\n",
    "                for i, j in directions:\n",
    "                    new_r, new_c = row + i, col + j\n",
    "                    if (new_r >=0 and new_c >= 0\n",
    "                        and new_r < r_max and new_c < c_max \n",
    "                        and matrix[new_r][new_c] == 1\n",
    "                        and (new_r, new_c) not in visited):\n",
    "                        q.append((new_r, new_c))\n",
    "                        visited.add((new_r, new_c))\n",
    "\n",
    "\n",
    "\n",
    "        for i in range(r_max):\n",
    "            for j in range(c_max):\n",
    "                if matrix[i][j] == 1 and (i, j) not in visited:\n",
    "                    bfs(i, j)\n",
    "                    n_islands += 1\n",
    "\n",
    "        return n_islands\n",
    "\n",
    "sol = Solution()\n",
    "print(sol.solve([\n",
    "    [1, 1],\n",
    "    [1, 0]\n",
    "])) #1\n",
    "\n",
    "print(sol.solve([\n",
    "    [1, 0, 0, 0, 0],\n",
    "    [0, 0, 1, 1, 0],\n",
    "    [0, 1, 1, 0, 0],\n",
    "    [0, 0, 0, 0, 0],\n",
    "    [1, 1, 0, 0, 1],\n",
    "    [1, 1, 0, 0, 1]\n",
    "])) #4"
   ]
  },
  {
   "cell_type": "markdown",
   "metadata": {},
   "source": [
    "#### Rain Catcher"
   ]
  },
  {
   "cell_type": "code",
   "execution_count": 32,
   "metadata": {},
   "outputs": [
    {
     "name": "stdout",
     "output_type": "stream",
     "text": [
      "8\n",
      "1\n",
      "8\n"
     ]
    }
   ],
   "source": [
    "class Solution:\n",
    "    def solve(self, nums):\n",
    "        l, r = 0, len(nums) - 1\n",
    "        volume = 0\n",
    "        l_max, r_max = 0, 0\n",
    "        while l < r :\n",
    "            if nums[l] < nums[r]:\n",
    "                if (nums[l] >= l_max): \n",
    "                    l_max = nums[l] \n",
    "                else: \n",
    "                    volume += (l_max - nums[l])\n",
    "                l += 1\n",
    "            \n",
    "            else:\n",
    "                if nums[r] >= r_max: \n",
    "                    r_max = nums[r]\n",
    "                else:\n",
    "                    volume += (r_max - nums[r])\n",
    "                r -= 1\n",
    "        return volume\n",
    "\n",
    "sol = Solution()\n",
    "print(sol.solve([2, 5, 2, 0, 5, 8, 8]))\n",
    "print(sol.solve([2, 1, 2]))\n",
    "print(sol.solve([3, 0, 1, 3, 0, 5]))"
   ]
  },
  {
   "cell_type": "markdown",
   "metadata": {},
   "source": [
    "#### Removing Parantheses"
   ]
  },
  {
   "cell_type": "code",
   "execution_count": 33,
   "metadata": {},
   "outputs": [
    {
     "name": "stdout",
     "output_type": "stream",
     "text": [
      "1\n",
      "2\n"
     ]
    }
   ],
   "source": [
    "class Solution:\n",
    "    def solve2(self, s):\n",
    "        stack = []\n",
    "        brace_map = {')':'(', ']':'[', '}': '{'}\n",
    "        count = 0\n",
    "        for c in s:\n",
    "            if c in brace_map:\n",
    "                top = stack[-1] if stack else \"N\"\n",
    "\n",
    "                if brace_map[c] != top:\n",
    "                    count += 1\n",
    "                else:\n",
    "                    stack.pop()\n",
    "            else:\n",
    "                stack.append(c)\n",
    "        return len(stack) + count\n",
    "    \n",
    "    def solve(self, s):\n",
    "        open, close = 0, 0\n",
    "        for c in s:\n",
    "            if c == \"(\":\n",
    "                open += 1\n",
    "            elif close < open:\n",
    "                close += 1\n",
    "\n",
    "        return len(s) - close * 2\n",
    "\n",
    "sol = Solution()\n",
    "print(sol.solve(\"()())()\"))\n",
    "print(sol.solve(\")(\"))"
   ]
  },
  {
   "cell_type": "markdown",
   "metadata": {},
   "source": [
    "#### Sudoku Validator"
   ]
  },
  {
   "cell_type": "code",
   "execution_count": 34,
   "metadata": {},
   "outputs": [
    {
     "name": "stdout",
     "output_type": "stream",
     "text": [
      "True\n",
      "True\n"
     ]
    }
   ],
   "source": [
    "class Solution:\n",
    "    def solve(self, matrix):\n",
    "        if not matrix: return False\n",
    "        n = len(matrix)\n",
    "\n",
    "        row_check = all(len(set(i)) == n for i in matrix)\n",
    "        if not row_check: return False\n",
    "\n",
    "        col_check = all(len(set([matrix[i][j] for i in range(n)])) == n for j in range(n))\n",
    "        if not col_check: return False\n",
    "        \n",
    "        def box_check(startRow, startCol):\n",
    "            st = set()\n",
    "            for row in range(0, 3):\n",
    "                for col in range(0, 3):\n",
    "                    curr = matrix[row + startRow][col + startCol]\n",
    "                    if curr in st or curr not in range(1, 10):\n",
    "                        return False\n",
    "                    st.add(curr)\n",
    "        \n",
    "            return True\n",
    "\n",
    "        \n",
    "        for i in range(0, n, 3):\n",
    "            for j in range(0, n, 3):\n",
    "                if not box_check(i, j):\n",
    "                    return False\n",
    "\n",
    "        return True\n",
    "\n",
    "sol = Solution()\n",
    "print(sol.solve([\n",
    "    [4, 2, 6, 5, 7, 1, 3, 9, 8],\n",
    "    [8, 5, 7, 2, 9, 3, 1, 4, 6],\n",
    "    [1, 3, 9, 4, 6, 8, 2, 7, 5],\n",
    "    [9, 7, 1, 3, 8, 5, 6, 2, 4],\n",
    "    [5, 4, 3, 7, 2, 6, 8, 1, 9],\n",
    "    [6, 8, 2, 1, 4, 9, 7, 5, 3],\n",
    "    [7, 9, 4, 6, 3, 2, 5, 8, 1],\n",
    "    [2, 6, 5, 8, 1, 4, 9, 3, 7],\n",
    "    [3, 1, 8, 9, 5, 7, 4, 6, 2]\n",
    "])) # True\n",
    "\n",
    "print(sol.solve(matrix = [\n",
    "    [4, 2, 6, 5, 7, 1, 3, 9, 8],\n",
    "    [8, 5, 7, 2, 9, 3, 1, 4, 6],\n",
    "    [1, 3, 9, 4, 6, 8, 2, 7, 5],\n",
    "    [9, 7, 1, 3, 8, 5, 6, 2, 4],\n",
    "    [5, 4, 3, 7, 2, 6, 8, 1, 9],\n",
    "    [6, 8, 2, 1, 4, 9, 7, 5, 3],\n",
    "    [7, 9, 4, 6, 3, 2, 5, 8, 1],\n",
    "    [2, 6, 5, 8, 1, 4, 9, 3, 7],\n",
    "    [3, 1, 8, 9, 5, 7, 4, 6, 2]\n",
    "])) # True"
   ]
  },
  {
   "cell_type": "markdown",
   "metadata": {},
   "source": [
    "#### Number of palindromic substrings"
   ]
  },
  {
   "cell_type": "code",
   "execution_count": 35,
   "metadata": {},
   "outputs": [
    {
     "name": "stdout",
     "output_type": "stream",
     "text": [
      "10\n"
     ]
    }
   ],
   "source": [
    "class Solution:\n",
    "    def solve2(self, s):\n",
    "        maxLen = 0\n",
    "        count = 0\n",
    "\n",
    "        def getMaxPalindrome(start, end):\n",
    "            nonlocal maxLen, s, count\n",
    "            \n",
    "            while start >= 0 and end < len(s) and s[start] == s[end]:\n",
    "                count += 1\n",
    "                start -= 1\n",
    "                end += 1\n",
    "\n",
    "        for i in range(len(s)):\n",
    "            # Odd length palindromes\n",
    "            getMaxPalindrome(i, i)\n",
    "            \n",
    "            # Even length palindromes\n",
    "            getMaxPalindrome(i, i + 1)\n",
    "\n",
    "        return count\n",
    "\n",
    "    def solve(self, s):\n",
    "        maxLen = 0\n",
    "        count = 0\n",
    "\n",
    "        def getMaxPalindrome(start, end):\n",
    "            nonlocal maxLen, s, count\n",
    "            \n",
    "            while start >= 0 and end < len(s) and s[start] == s[end]:\n",
    "                count += 1\n",
    "                start -= 1\n",
    "                end += 1\n",
    "\n",
    "        if len(s) % 2 == 0:\n",
    "            getMaxPalindrome(len(s)//2, len(s)//2 + 1)\n",
    "        else:\n",
    "            getMaxPalindrome(len(s)//2 - 1, len(s)//2 + 1)\n",
    "        return count + len(s)\n",
    "\n",
    "sol = Solution()\n",
    "print(sol.solve(\"tacocat\")) #10"
   ]
  },
  {
   "cell_type": "markdown",
   "metadata": {},
   "source": [
    "#### Count BST Nodes in a Range"
   ]
  },
  {
   "cell_type": "code",
   "execution_count": 36,
   "metadata": {},
   "outputs": [
    {
     "name": "stdout",
     "output_type": "stream",
     "text": [
      "3\n"
     ]
    }
   ],
   "source": [
    "class Tree:\n",
    "    def __init__(self, val, left=None, right=None):\n",
    "        self.val = val\n",
    "        self.left = left\n",
    "        self.right = right\n",
    "        \n",
    "class Solution:\n",
    "    def solve(self, root, lo, hi):\n",
    "        if not root: return 0\n",
    "\n",
    "        res = 0\n",
    "        q = collections.deque()\n",
    "        q.append(root)\n",
    "\n",
    "        while q:\n",
    "            node = q.pop()\n",
    "            if lo <= node.val <= hi:\n",
    "                res += 1\n",
    "            \n",
    "            if node.left and not lo > node.left.val:\n",
    "                q.append(node.left)\n",
    "            \n",
    "            if node.right and not hi < node.right.val:\n",
    "                q.append(node.right)\n",
    "        \n",
    "        return res\n",
    "            \n",
    "sol = Solution()\n",
    "head = Tree(3)\n",
    "head.left = Tree(2)\n",
    "head.right = Tree(9)\n",
    "head.right.left = Tree(7)\n",
    "head.right.left.left = Tree(4)\n",
    "head.right.left.right = Tree(8)\n",
    "head.right.right = Tree(12)\n",
    "\n",
    "print(sol.solve(head, 5, 10))\n",
    "            \n"
   ]
  },
  {
   "cell_type": "markdown",
   "metadata": {},
   "source": [
    "#### Palindromic Anagram"
   ]
  },
  {
   "cell_type": "code",
   "execution_count": 37,
   "metadata": {},
   "outputs": [
    {
     "name": "stdout",
     "output_type": "stream",
     "text": [
      "True\n"
     ]
    }
   ],
   "source": [
    "class Solution:\n",
    "    def solve(self, s):\n",
    "        char_map = {}\n",
    "\n",
    "        for ch in s:\n",
    "            char_map[ch] = char_map.get(ch, 0) + 1\n",
    "\n",
    "        if not len(s) % 2 == 0:\n",
    "            odd_chars = {k:v for k, v in char_map.items() if not v % 2 == 0}\n",
    "            if not len(odd_chars) == 1: return False\n",
    "            odd_char = list(odd_chars.items())[0][0]\n",
    "            del char_map[odd_char]\n",
    "        \n",
    "        return all(v %2 == 0 for k, v in char_map.items())\n",
    "        # return [k % 2 == 0 for k in Counter(s).values()].count(False) <= 1\n",
    "\n",
    "sol = Solution()\n",
    "print(sol.solve('carrace'))"
   ]
  },
  {
   "cell_type": "markdown",
   "metadata": {},
   "source": [
    "#### Matrix Search Sequel"
   ]
  },
  {
   "cell_type": "code",
   "execution_count": 38,
   "metadata": {},
   "outputs": [
    {
     "name": "stdout",
     "output_type": "stream",
     "text": [
      "True\n",
      "True\n",
      "True\n",
      "False\n"
     ]
    }
   ],
   "source": [
    "class Solution:\n",
    "    def solve(self, matrix, target):\n",
    "        if not matrix: return False\n",
    "\n",
    "        ROWS = len(matrix)\n",
    "        COLS = len(matrix[0])\n",
    "        def helper(row, col):\n",
    "            if (row not in range(ROWS)\n",
    "                or col not in range(COLS)):\n",
    "                return False\n",
    "            \n",
    "            if matrix[row][col] == target:\n",
    "                return True\n",
    "            \n",
    "            if matrix[row][col] < target:\n",
    "                return helper(row + 1, col)\n",
    "            return helper(row, col - 1)\n",
    "\n",
    "        return helper(0, len(matrix[0]) - 1)\n",
    "\n",
    "        # rows = len(matrix)\n",
    "        # cols = len(matrix[0])\n",
    "        # i = 0\n",
    "        # j = cols - 1\n",
    "\n",
    "        # while i <= rows - 1 and j >= 0:\n",
    "        #     if matrix[i][j] == target:\n",
    "        #         return True\n",
    "        #     if matrix[i][j] > target:\n",
    "        #         j -= 1\n",
    "        #     if matrix[i][j] < target:\n",
    "        #         i += 1\n",
    "\n",
    "        # return False\n",
    "\n",
    "\n",
    "sol = Solution()\n",
    "mat_1 = [\n",
    "    [1, 3, 9],\n",
    "    [2, 5, 10],\n",
    "    [5, 7, 13]\n",
    "]\n",
    "print(sol.solve(mat_1, 7)) # True\n",
    "print(sol.solve(mat_1, 5)) # True\n",
    "print(sol.solve(mat_1, 13)) # True\n",
    "print(sol.solve(mat_1, 11)) # False"
   ]
  },
  {
   "cell_type": "markdown",
   "metadata": {},
   "source": [
    "#### Interval Overlaps"
   ]
  },
  {
   "cell_type": "code",
   "execution_count": 39,
   "metadata": {},
   "outputs": [
    {
     "name": "stdout",
     "output_type": "stream",
     "text": [
      "[[1, 3], [5, 6], [7, 7]]\n",
      "[]\n",
      "[[2, 4]]\n"
     ]
    }
   ],
   "source": [
    "class Solution:\n",
    "    def solve(self, l0, l1):\n",
    "        res = []\n",
    "        i, j = 0, 0\n",
    "\n",
    "        while i != len(l0) and j != len(l1):\n",
    "            [a_start, a_end] = l0[i]\n",
    "            [b_start, b_end] = l1[j]\n",
    "            \n",
    "            if a_end < b_start:\n",
    "                i += 1\n",
    "            elif b_end < a_start:\n",
    "                j += 1\n",
    "            # overlap conditions\n",
    "            elif (a_start <= b_end <= a_end):\n",
    "                res.append([max(a_start, b_start), b_end])\n",
    "                j += 1\n",
    "            elif (b_start <= a_end <= b_end):\n",
    "                res.append([max(a_start, b_start), a_end])\n",
    "                i += 1\n",
    "        \n",
    "        return res\n",
    "\n",
    "sol = Solution()\n",
    "print(sol.solve( [\n",
    "    [1, 3],\n",
    "    [5, 6],\n",
    "    [7, 9]\n",
    "], [\n",
    "    [1, 4],\n",
    "    [5, 7]\n",
    "])) # [[1, 3], [5, 6], [7, 7]]\n",
    "print(sol.solve([\n",
    "    [1, 3],\n",
    "    [5, 6],\n",
    "    [7, 9]\n",
    "], [\n",
    "    [100, 200]\n",
    "]))\n",
    "print(sol.solve([\n",
    "    [1, 5]\n",
    "], [\n",
    "    [2, 4]\n",
    "]))"
   ]
  },
  {
   "cell_type": "code",
   "execution_count": 40,
   "metadata": {},
   "outputs": [],
   "source": [
    "l0 = [\n",
    "    [1, 3],\n",
    "    [5, 6],\n",
    "    [7, 9]\n",
    "]\n",
    "l1 = [\n",
    "    [1, 4],\n",
    "    [5, 7]\n",
    "]"
   ]
  },
  {
   "cell_type": "markdown",
   "metadata": {},
   "source": [
    "### Hard"
   ]
  },
  {
   "cell_type": "markdown",
   "metadata": {},
   "source": [
    "#### Sliding Window Max"
   ]
  },
  {
   "cell_type": "code",
   "execution_count": 41,
   "metadata": {},
   "outputs": [
    {
     "name": "stdout",
     "output_type": "stream",
     "text": [
      "[10, 7, 8, 8]\n",
      "[3, 4, 5, 5, 5, 4, 3]\n",
      "[3, 2, 2, 3]\n",
      "[3]\n"
     ]
    }
   ],
   "source": [
    "class Solution:\n",
    "    def solve1(self, nums, k): #O(n^2)\n",
    "        start = 0\n",
    "        end = k - 1\n",
    "        res = []\n",
    "        while end != len(nums):\n",
    "            max_val = max(nums[start:end + 1])\n",
    "            res.append(max_val)\n",
    "            end += 1\n",
    "            start += 1\n",
    "\n",
    "        return res\n",
    "\n",
    "    def solve2(self, nums, k): # timing out\n",
    "        max_val = max(nums[:k])\n",
    "        max_pos = nums[:k].index(max_val)\n",
    "\n",
    "        start = 0\n",
    "        end = k - 1\n",
    "        res = []\n",
    "        while end != len(nums):\n",
    "            if start <= max_pos <= end:\n",
    "                if max_val <= nums[end]:\n",
    "                    max_val = nums[end]\n",
    "                    max_pos = end\n",
    "            else:\n",
    "                max_val = max(nums[start:end + 1])\n",
    "                max_pos = nums[start:end + 1].index(max_val)\n",
    "            end += 1\n",
    "            start += 1\n",
    "            res.append(max_val)\n",
    "\n",
    "        return res\n",
    "\n",
    "    def solve(self, nums, k):\n",
    "        res = []\n",
    "        q = collections.deque()\n",
    "\n",
    "        start, end = 0, 0\n",
    "\n",
    "        while end != len(nums):\n",
    "            while q and nums[q[-1]] < nums[end]:\n",
    "                q.pop()\n",
    "            q.append(end)\n",
    "\n",
    "            if start > q[0]:\n",
    "                q.popleft()\n",
    "\n",
    "            if (end + 1) >= k:\n",
    "                res.append(nums[q[0]])\n",
    "                start += 1\n",
    "            end += 1\n",
    "        \n",
    "        return res\n",
    "sol = Solution()\n",
    "print(sol.solve([10, 5, 2, 7, 8, 7], 3)) #[10, 7, 8, 8]\n",
    "print(sol.solve([1, 2, 3, 4, 5, 4, 3, 2, 1], 3)) #[3, 4, 5, 5, 5, 4, 3\n",
    "print(sol.solve([3, 2, 1, 2, 3], 2)) #[3, 2, 2, 3]\n",
    "print(sol.solve([3, 2, 1, 2, 3], 5)) #[3]"
   ]
  },
  {
   "cell_type": "markdown",
   "metadata": {},
   "source": [
    "#### Longest Sublist with K distinct numbers"
   ]
  },
  {
   "cell_type": "code",
   "execution_count": 42,
   "metadata": {},
   "outputs": [
    {
     "name": "stdout",
     "output_type": "stream",
     "text": [
      "3\n",
      "5\n",
      "1\n",
      "6\n",
      "2\n"
     ]
    }
   ],
   "source": [
    "class Solution:\n",
    "    def solve(self, k, nums):\n",
    "        if not k:\n",
    "            return 0\n",
    "\n",
    "        start = 0\n",
    "        end = -1\n",
    "        max_len = 0\n",
    "        count_map = {}\n",
    "\n",
    "        while end != len(nums):\n",
    "            while len(count_map) > k:\n",
    "                count_map[nums[start]] -= 1\n",
    "                if count_map[nums[start]] == 0:\n",
    "                    count_map.pop(nums[start], None)\n",
    "                start +=1\n",
    "\n",
    "            while len(count_map) <= k:\n",
    "                max_len = max(max_len, end - start + 1)\n",
    "                end += 1\n",
    "                if end == len(nums):\n",
    "                    break \n",
    "                count_map[nums[end]] = count_map.get(nums[end], 0) + 1\n",
    "                \n",
    "        return max_len\n",
    "\n",
    "sol = Solution()\n",
    "print(sol.solve(2, [0, 1, 2, 1, 0]))\n",
    "print(sol.solve(1, [0, 0, 0, 0, 0]))\n",
    "print(sol.solve(1, [0, 1, 2, 3, 4]))\n",
    "print(sol.solve(1, [0, 0, 0, 1, 1, 1, 1, 2, 2, 2, 2, 2, 2]))\n",
    "print(sol.solve(2, [0, 0]))"
   ]
  },
  {
   "cell_type": "markdown",
   "metadata": {},
   "source": [
    "### Extra"
   ]
  },
  {
   "cell_type": "markdown",
   "metadata": {},
   "source": [
    "#### Number letter combinations"
   ]
  },
  {
   "cell_type": "code",
   "execution_count": 43,
   "metadata": {},
   "outputs": [
    {
     "name": "stdout",
     "output_type": "stream",
     "text": [
      "['ad', 'bd', 'cd', 'ae', 'be', 'ce', 'af', 'bf', 'cf']\n"
     ]
    }
   ],
   "source": [
    "class Solution:\n",
    "    def solve(self, digits: str) -> List[str]: # O(4^n) depending on the length of the given digits\n",
    "        interpret_digit = { # max length 4\n",
    "            '1': '',\n",
    "            '2': 'abc',\n",
    "            '3': 'def',\n",
    "            '4': 'ghi',\n",
    "            '5': 'jkl',\n",
    "            '6': 'mno',\n",
    "            '7': 'pqrs',\n",
    "            '8': 'tuv',\n",
    "            '9': 'wxyz',\n",
    "            '0': ' '}\n",
    "        all_combinations = [''] if digits else []\n",
    "        for digit in digits: # max length 4\n",
    "            current_combinations = list()\n",
    "            for letter in interpret_digit[digit]:\n",
    "                for combination in all_combinations:\n",
    "                    current_combinations.append(combination + letter)\n",
    "            all_combinations = current_combinations\n",
    "        return all_combinations\n",
    "\n",
    "sol = Solution()\n",
    "print(sol.solve('23'))"
   ]
  },
  {
   "cell_type": "code",
   "execution_count": 44,
   "metadata": {},
   "outputs": [
    {
     "name": "stdout",
     "output_type": "stream",
     "text": [
      "{1: 10, 3: 30, 4: 50, 5: 60}\n",
      "True\n",
      "dict_keys([1, 3, 4, 5])\n",
      "dict_values([10, 30, 50, 60])\n"
     ]
    }
   ],
   "source": [
    "students = [1,2,3, 4]\n",
    "marks = [10,30, 40]\n",
    "\n",
    "student_marks = {1: 10,\n",
    "                 3:30,\n",
    "                 4:40,\n",
    "                 4:50}\n",
    "student_marks[5] = 60\n",
    "print(student_marks)\n",
    "\n",
    "# dict = {key:value} -- Keys are always unique\n",
    "\n",
    "# key in dict --- To check keys\n",
    "print(5 in student_marks)\n",
    "\n",
    "# dict.keys() --- returns list of keys\n",
    "# dict.values() --- returns list of values\n",
    "\n",
    "print(student_marks.keys())\n",
    "print(student_marks.values())"
   ]
  },
  {
   "cell_type": "code",
   "execution_count": 45,
   "metadata": {},
   "outputs": [
    {
     "name": "stdout",
     "output_type": "stream",
     "text": [
      "{'a': 5, 'd': 5}\n"
     ]
    }
   ],
   "source": [
    "def intersection(d1, d2):\n",
    "    res = {}\n",
    "\n",
    "    for x in d1:\n",
    "        if x in d2 and d1[x] == d2[x]:\n",
    "           res[x] = d1[x]\n",
    "    return res\n",
    "\n",
    "print(intersection({'a': 5, 'b': 7, 'd':5}, {'d':5, 'a': 5, 'b': 9, 'c':12 }))"
   ]
  },
  {
   "cell_type": "code",
   "execution_count": 46,
   "metadata": {},
   "outputs": [
    {
     "name": "stdout",
     "output_type": "stream",
     "text": [
      "2\n"
     ]
    }
   ],
   "source": [
    "def frequency(d):\n",
    "    f = {} # {value:count}\n",
    "    \n",
    "    for key in d:\n",
    "        val = d[key]\n",
    "        if val in f:\n",
    "            f[val] = f[val] + 1\n",
    "        else:\n",
    "            f[val] = 1\n",
    "    \n",
    "    max_val = 0\n",
    "    max_count = 0\n",
    "\n",
    "    for key in f:\n",
    "        if f[key] > max_count:\n",
    "            max_val = key\n",
    "            max_count = f[key]\n",
    "\n",
    "    return max_val\n",
    "\n",
    "# print(frequency({'a':2, 'b':2, 'c':1, 'd':1, 'e':5, 'f':1}))\n",
    "print(frequency({'a':2, 'b':2, 'c':1, 'd':1}))"
   ]
  },
  {
   "cell_type": "code",
   "execution_count": 58,
   "metadata": {},
   "outputs": [
    {
     "name": "stdout",
     "output_type": "stream",
     "text": [
      "{3: 'three', 1: 'uno'}\n",
      "{3: 'three'}\n",
      "({3: 'three'}, {1: 3, 2: 2, 3: 1})\n"
     ]
    }
   ],
   "source": [
    "def invert(d):\n",
    "    res = {}\n",
    "    val_count = {}\n",
    "    \n",
    "    for i in d:\n",
    "        j = d[i]\n",
    "        if j in res:\n",
    "            del res[j]\n",
    "        else:\n",
    "            res[j] = i \n",
    "        \n",
    "        if j not in val_count:\n",
    "            val_count[j] = 1\n",
    "        else:\n",
    "            val_count[j] = val_count[j] + 1\n",
    "            \n",
    "    for k in val_count:\n",
    "        if val_count[k] > 1 and k in res:\n",
    "            del res[k]\n",
    "    \n",
    "    return res, val_count\n",
    "        \n",
    "\n",
    "\n",
    "print(invert({'one':1, 'two':2, 'unos':1, 'dos':2, 'three':3, 'uno': 1}))"
   ]
  }
 ],
 "metadata": {
  "kernelspec": {
   "display_name": "Python 3.9.13 64-bit (microsoft store)",
   "language": "python",
   "name": "python3"
  },
  "language_info": {
   "codemirror_mode": {
    "name": "ipython",
    "version": 3
   },
   "file_extension": ".py",
   "mimetype": "text/x-python",
   "name": "python",
   "nbconvert_exporter": "python",
   "pygments_lexer": "ipython3",
   "version": "3.9.13"
  },
  "orig_nbformat": 4,
  "vscode": {
   "interpreter": {
    "hash": "edfc97013b55eeed778be48f26166ecbf6dc06f015fa0d1c61302f1d61a18982"
   }
  }
 },
 "nbformat": 4,
 "nbformat_minor": 2
}
